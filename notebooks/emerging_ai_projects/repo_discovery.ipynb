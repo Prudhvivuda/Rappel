{
 "cells": [
  {
   "cell_type": "markdown",
   "metadata": {},
   "source": [
    "# Repository Discovery"
   ]
  },
  {
   "cell_type": "markdown",
   "metadata": {},
   "source": [
    "# Table of Contents\n",
    "- [Introduction](#introduction)\n",
    "- [Initial Setup](#setup)\n",
    "- [Known Contributors](#known-contributors)\n",
    "- [Event Analysis](#contribution-event-stream-analysis)\n",
    "- [Known Contributor Event Analysis](#known-contributors-event-stream-analysis)"
   ]
  },
  {
   "cell_type": "markdown",
   "metadata": {},
   "source": [
    "## Introduction\n",
    "\n",
    "It is difficult, without specialized knowledge or dedicated inspection, to determine how repos on Github are related to one another.\n",
    "\n",
    "Which projects (repos) are trying to solve the same problem? Which are in the same ecosystem? Which pre-date which others?\n",
    "\n",
    "We've begun to study this problem using the abstract model of networks. Our approach is summarized by the neuroscience Hebbian mneumonic approximation: \"fire together, wire together.\"\n",
    "Said with greater context, groups of projects that share features (contributors, in this first exploration) are more likely than others to do similar things.\n",
    "\n",
    "We expect projects in the container orchestration space to, pairwise, share more contributors together than with projects outside of that context, on average.\n",
    "\n",
    "## This notebook's contribution\n",
    "\n",
    "In this notebook, we attempt to solve a challenging problem:\n",
    "\n",
    "**Given the contributors in a known kernel of projects within the same domain, identify relevant, previously censored, repos that those contributors have also taken part in.**\n",
    "\n",
    "Similarly,\n",
    "\n",
    "**Given a list of newly discovered potential ecosystem member repositories, identify those that are the most preeminent, filtering out those that are natural 'noise,' irrelevant to the studied ecosystem.**"
   ]
  },
  {
   "cell_type": "markdown",
   "metadata": {},
   "source": [
    "## Setup\n",
    "\n",
    "Import Python packages, load database access credentials, define connection to DB."
   ]
  },
  {
   "cell_type": "code",
   "execution_count": 1,
   "metadata": {},
   "outputs": [],
   "source": [
    "#IMPORTS\n",
    "import pandas as pd\n",
    "import sqlalchemy as salc\n",
    "import plotly.express as px\n",
    "import json\n",
    "import numpy as np\n",
    "from IPython.display import Image\n",
    "import math"
   ]
  },
  {
   "cell_type": "code",
   "execution_count": 2,
   "metadata": {},
   "outputs": [],
   "source": [
    "#DATABASE ACCESS\n",
    "\n",
    "with open(\"data/il_ai_creds.json\") as config_file:\n",
    "    config = json.load(config_file)\n",
    "\n",
    "database_connection_string = f\"postgresql+psycopg2://{config['user']}:{config['password']}@{config['host']}:{config['port']}/{config['database']}\"\n",
    "\n",
    "engine = salc.create_engine(\n",
    "    database_connection_string,\n",
    "    connect_args={'options': f\"-csearch_path={'augur_data'}\"})"
   ]
  },
  {
   "cell_type": "code",
   "execution_count": 3,
   "metadata": {},
   "outputs": [],
   "source": [
    "# SWITCHES\n",
    "\n",
    "LOCAL_DATA = True "
   ]
  },
  {
   "cell_type": "markdown",
   "metadata": {},
   "source": [
    "## Known contributors\n",
    "\n",
    "At the outset, we identified a kernel of projects that we are highly confident exist within our ecosystem of interest.\n",
    "\n",
    "**NOTE:** We refer to 'kernel' here as an abstract mathematical centerpoint of our analysis. We aren't referring to the software artifact at the center of an operating system.\n",
    "\n",
    "From this kernel of projects, we identified all of the contributors and ranked them based on how they interacted with one another.\n",
    "\n",
    "Those who interact with many others in a valuable way are more highly ranked than those who never interact whatsover, and soforth.\n",
    "\n",
    "The data below is the artifact from that analysis, where each row is: {contributor_id, contributor_importance_ranking}\n",
    "\n",
    "---\n",
    "\n",
    "For reference, this work is at the following absolute path in this repository:\n",
    "\n",
    "`Rappel/notebooks/8knot/collab_network/wasm/collabs.ipynb`\n",
    "\n",
    "\n",
    "-- \n",
    "\n",
    "Small overview of pagerank ~\n",
    "\n",
    "Pagerank is an algorithm for measuring the importance of nodes in a network based on their connectivity to other nodes. It's slightly difference from betweenness-centrality or closeness-centrality metrics. \n",
    "\n",
    "In order to get a pagerank score for each contributor, we build a social network based on interactions between contributors on github. Then, we run the pagerank algorithm on this network, yielding a scoring of contributors, implying their social 'importance' within the greater social group. People with higher pagerank scores can be interpreted as more densely connected, communicative, and involved than those with lower scores, although this is a generalization.\n",
    "\n",
    "Contributor's pagerank scores won't be used directly in this analysis, but will in the future."
   ]
  },
  {
   "cell_type": "code",
   "execution_count": 4,
   "metadata": {},
   "outputs": [
    {
     "data": {
      "text/html": [
       "<div>\n",
       "<style scoped>\n",
       "    .dataframe tbody tr th:only-of-type {\n",
       "        vertical-align: middle;\n",
       "    }\n",
       "\n",
       "    .dataframe tbody tr th {\n",
       "        vertical-align: top;\n",
       "    }\n",
       "\n",
       "    .dataframe thead th {\n",
       "        text-align: right;\n",
       "    }\n",
       "</style>\n",
       "<table border=\"1\" class=\"dataframe\">\n",
       "  <thead>\n",
       "    <tr style=\"text-align: right;\">\n",
       "      <th></th>\n",
       "      <th>cntrb_id</th>\n",
       "      <th>score</th>\n",
       "    </tr>\n",
       "  </thead>\n",
       "  <tbody>\n",
       "    <tr>\n",
       "      <th>0</th>\n",
       "      <td>010000b0-0f00-0000-0000-000000000000</td>\n",
       "      <td>5.091654</td>\n",
       "    </tr>\n",
       "    <tr>\n",
       "      <th>1</th>\n",
       "      <td>01000180-1a00-0000-0000-000000000000</td>\n",
       "      <td>6.166832</td>\n",
       "    </tr>\n",
       "    <tr>\n",
       "      <th>2</th>\n",
       "      <td>01012f1b-7f00-0000-0000-000000000000</td>\n",
       "      <td>7.695306</td>\n",
       "    </tr>\n",
       "    <tr>\n",
       "      <th>3</th>\n",
       "      <td>010000b4-3700-0000-0000-000000000000</td>\n",
       "      <td>5.205809</td>\n",
       "    </tr>\n",
       "    <tr>\n",
       "      <th>4</th>\n",
       "      <td>010000f0-9200-0000-0000-000000000000</td>\n",
       "      <td>5.001404</td>\n",
       "    </tr>\n",
       "  </tbody>\n",
       "</table>\n",
       "</div>"
      ],
      "text/plain": [
       "                               cntrb_id     score\n",
       "0  010000b0-0f00-0000-0000-000000000000  5.091654\n",
       "1  01000180-1a00-0000-0000-000000000000  6.166832\n",
       "2  01012f1b-7f00-0000-0000-000000000000  7.695306\n",
       "3  010000b4-3700-0000-0000-000000000000  5.205809\n",
       "4  010000f0-9200-0000-0000-000000000000  5.001404"
      ]
     },
     "execution_count": 4,
     "metadata": {},
     "output_type": "execute_result"
    }
   ],
   "source": [
    "df_known_contribs = pd.read_csv('data/ai_contributor_pagerank.csv')\n",
    "df_known_contribs.head()"
   ]
  },
  {
   "cell_type": "markdown",
   "metadata": {},
   "source": [
    "## Contribution Event Stream Analysis\n",
    "\n",
    "Github provides an API endpoint from which one can query every event that occurs. For instance, if a contributor creates an issue on some repo, that event will be logged in the stream. A downside of this API is that it only serves the most recent two months of data. \n",
    "\n",
    "We want to use this stream to identify the set of repositories that our Known Contributors are also working in that weren't in the initial ecosystem kernel.\n",
    "\n",
    "The database that we use collects this event stream so we can query it from there rather than from Github. This is much faster than relying on the public Github API, and we will continue to collect the data that the API makes available, so over time the analysis that we can do will become richer and more complete. In the Augur database, the table with this information is the 'contributor_repo' table."
   ]
  },
  {
   "cell_type": "code",
   "execution_count": 5,
   "metadata": {},
   "outputs": [],
   "source": [
    "event_stream_query = salc.sql.text(\n",
    "    f\"\"\"\n",
    "        SET SCHEMA 'augur_data';\n",
    "        SELECT \n",
    "            c.cntrb_id,\n",
    "            c.event_id,\n",
    "            c.created_at,\n",
    "            c.cntrb_repo_id as repo_id,\n",
    "            c.repo_git,\n",
    "            c.repo_name,\n",
    "            c.gh_repo_id,\n",
    "            c.cntrb_category as event_type\n",
    "        FROM\n",
    "        contributor_repo c\n",
    "    \"\"\")\n",
    "\n",
    "\n",
    "if not LOCAL_DATA:\n",
    "    with engine.connect() as conn:\n",
    "        df_event_stream = pd.read_sql_query(event_stream_query, conn)\n",
    "        \n",
    "    with open(\"data/df_event_stream.parquet\", \"wb+\") as f:\n",
    "        df_event_stream.cntrb_id = df_event_stream.cntrb_id.astype(str)\n",
    "        df_event_stream.to_parquet(f)\n",
    "else:\n",
    "    with open(\"data/df_event_stream.parquet\", \"rb+\") as f:\n",
    "        df_event_stream = pd.read_parquet(f)"
   ]
  },
  {
   "cell_type": "markdown",
   "metadata": {},
   "source": [
    "### Event stream data\n",
    "\n",
    "Below we see a summary of the data we have:\n",
    "\n",
    "- 6.86 million events"
   ]
  },
  {
   "cell_type": "code",
   "execution_count": 6,
   "metadata": {},
   "outputs": [
    {
     "data": {
      "text/html": [
       "<div>\n",
       "<style scoped>\n",
       "    .dataframe tbody tr th:only-of-type {\n",
       "        vertical-align: middle;\n",
       "    }\n",
       "\n",
       "    .dataframe tbody tr th {\n",
       "        vertical-align: top;\n",
       "    }\n",
       "\n",
       "    .dataframe thead th {\n",
       "        text-align: right;\n",
       "    }\n",
       "</style>\n",
       "<table border=\"1\" class=\"dataframe\">\n",
       "  <thead>\n",
       "    <tr style=\"text-align: right;\">\n",
       "      <th></th>\n",
       "      <th>event_id</th>\n",
       "      <th>created_at</th>\n",
       "      <th>repo_id</th>\n",
       "      <th>gh_repo_id</th>\n",
       "    </tr>\n",
       "  </thead>\n",
       "  <tbody>\n",
       "    <tr>\n",
       "      <th>count</th>\n",
       "      <td>6.868909e+06</td>\n",
       "      <td>6868909</td>\n",
       "      <td>6.868909e+06</td>\n",
       "      <td>6.868909e+06</td>\n",
       "    </tr>\n",
       "    <tr>\n",
       "      <th>mean</th>\n",
       "      <td>3.934594e+10</td>\n",
       "      <td>2024-06-17 03:22:14.932260352</td>\n",
       "      <td>5.425028e+06</td>\n",
       "      <td>5.030834e+08</td>\n",
       "    </tr>\n",
       "    <tr>\n",
       "      <th>min</th>\n",
       "      <td>3.683985e+10</td>\n",
       "      <td>2022-03-25 23:22:25</td>\n",
       "      <td>1.000000e+00</td>\n",
       "      <td>3.630000e+02</td>\n",
       "    </tr>\n",
       "    <tr>\n",
       "      <th>25%</th>\n",
       "      <td>3.858838e+10</td>\n",
       "      <td>2024-05-22 00:57:15</td>\n",
       "      <td>1.923386e+06</td>\n",
       "      <td>2.316622e+08</td>\n",
       "    </tr>\n",
       "    <tr>\n",
       "      <th>50%</th>\n",
       "      <td>3.952230e+10</td>\n",
       "      <td>2024-06-22 06:17:33</td>\n",
       "      <td>3.664627e+06</td>\n",
       "      <td>5.983423e+08</td>\n",
       "    </tr>\n",
       "    <tr>\n",
       "      <th>75%</th>\n",
       "      <td>4.015501e+10</td>\n",
       "      <td>2024-07-15 14:13:55</td>\n",
       "      <td>7.803922e+06</td>\n",
       "      <td>7.718232e+08</td>\n",
       "    </tr>\n",
       "    <tr>\n",
       "      <th>max</th>\n",
       "      <td>4.088342e+10</td>\n",
       "      <td>2024-08-09 06:42:14</td>\n",
       "      <td>1.426568e+07</td>\n",
       "      <td>8.401657e+08</td>\n",
       "    </tr>\n",
       "    <tr>\n",
       "      <th>std</th>\n",
       "      <td>9.817977e+08</td>\n",
       "      <td>NaN</td>\n",
       "      <td>4.429563e+06</td>\n",
       "      <td>2.832632e+08</td>\n",
       "    </tr>\n",
       "  </tbody>\n",
       "</table>\n",
       "</div>"
      ],
      "text/plain": [
       "           event_id                     created_at       repo_id    gh_repo_id\n",
       "count  6.868909e+06                        6868909  6.868909e+06  6.868909e+06\n",
       "mean   3.934594e+10  2024-06-17 03:22:14.932260352  5.425028e+06  5.030834e+08\n",
       "min    3.683985e+10            2022-03-25 23:22:25  1.000000e+00  3.630000e+02\n",
       "25%    3.858838e+10            2024-05-22 00:57:15  1.923386e+06  2.316622e+08\n",
       "50%    3.952230e+10            2024-06-22 06:17:33  3.664627e+06  5.983423e+08\n",
       "75%    4.015501e+10            2024-07-15 14:13:55  7.803922e+06  7.718232e+08\n",
       "max    4.088342e+10            2024-08-09 06:42:14  1.426568e+07  8.401657e+08\n",
       "std    9.817977e+08                            NaN  4.429563e+06  2.832632e+08"
      ]
     },
     "execution_count": 6,
     "metadata": {},
     "output_type": "execute_result"
    }
   ],
   "source": [
    "df_event_stream.describe()"
   ]
  },
  {
   "cell_type": "code",
   "execution_count": 7,
   "metadata": {},
   "outputs": [
    {
     "data": {
      "text/html": [
       "<div>\n",
       "<style scoped>\n",
       "    .dataframe tbody tr th:only-of-type {\n",
       "        vertical-align: middle;\n",
       "    }\n",
       "\n",
       "    .dataframe tbody tr th {\n",
       "        vertical-align: top;\n",
       "    }\n",
       "\n",
       "    .dataframe thead th {\n",
       "        text-align: right;\n",
       "    }\n",
       "</style>\n",
       "<table border=\"1\" class=\"dataframe\">\n",
       "  <thead>\n",
       "    <tr style=\"text-align: right;\">\n",
       "      <th></th>\n",
       "      <th>cntrb_id</th>\n",
       "      <th>event_id</th>\n",
       "      <th>created_at</th>\n",
       "      <th>repo_id</th>\n",
       "      <th>repo_git</th>\n",
       "      <th>repo_name</th>\n",
       "      <th>gh_repo_id</th>\n",
       "      <th>event_type</th>\n",
       "    </tr>\n",
       "  </thead>\n",
       "  <tbody>\n",
       "    <tr>\n",
       "      <th>0</th>\n",
       "      <td>01001583-8700-0000-0000-000000000000</td>\n",
       "      <td>37039342564</td>\n",
       "      <td>2024-04-01 03:54:33</td>\n",
       "      <td>5</td>\n",
       "      <td>https://api.github.com/repos/AmazingRise/hugo-...</td>\n",
       "      <td>AmazingRise/hugo-theme-diary</td>\n",
       "      <td>220989613</td>\n",
       "      <td>IssueCommentEvent</td>\n",
       "    </tr>\n",
       "    <tr>\n",
       "      <th>1</th>\n",
       "      <td>01001583-8700-0000-0000-000000000000</td>\n",
       "      <td>36966778104</td>\n",
       "      <td>2024-03-28 12:58:59</td>\n",
       "      <td>6</td>\n",
       "      <td>https://api.github.com/repos/AmazingRise/hugo-...</td>\n",
       "      <td>AmazingRise/hugo-theme-diary</td>\n",
       "      <td>220989613</td>\n",
       "      <td>IssueCommentEvent</td>\n",
       "    </tr>\n",
       "    <tr>\n",
       "      <th>2</th>\n",
       "      <td>01001583-8700-0000-0000-000000000000</td>\n",
       "      <td>36927475492</td>\n",
       "      <td>2024-03-27 11:44:16</td>\n",
       "      <td>7</td>\n",
       "      <td>https://api.github.com/repos/AmazingRise/hugo-...</td>\n",
       "      <td>AmazingRise/hugo-theme-diary</td>\n",
       "      <td>220989613</td>\n",
       "      <td>IssuesEvent</td>\n",
       "    </tr>\n",
       "    <tr>\n",
       "      <th>3</th>\n",
       "      <td>01003020-1200-0000-0000-000000000000</td>\n",
       "      <td>39202894121</td>\n",
       "      <td>2024-06-11 17:22:24</td>\n",
       "      <td>1808426</td>\n",
       "      <td>https://api.github.com/repos/fhh2626/BFEE2</td>\n",
       "      <td>fhh2626/BFEE2</td>\n",
       "      <td>322234705</td>\n",
       "      <td>ForkEvent</td>\n",
       "    </tr>\n",
       "    <tr>\n",
       "      <th>4</th>\n",
       "      <td>01003020-1200-0000-0000-000000000000</td>\n",
       "      <td>39169968316</td>\n",
       "      <td>2024-06-10 20:29:29</td>\n",
       "      <td>1808427</td>\n",
       "      <td>https://api.github.com/repos/fhh2626/BFEE2</td>\n",
       "      <td>fhh2626/BFEE2</td>\n",
       "      <td>322234705</td>\n",
       "      <td>IssuesEvent</td>\n",
       "    </tr>\n",
       "  </tbody>\n",
       "</table>\n",
       "</div>"
      ],
      "text/plain": [
       "                               cntrb_id     event_id          created_at  \\\n",
       "0  01001583-8700-0000-0000-000000000000  37039342564 2024-04-01 03:54:33   \n",
       "1  01001583-8700-0000-0000-000000000000  36966778104 2024-03-28 12:58:59   \n",
       "2  01001583-8700-0000-0000-000000000000  36927475492 2024-03-27 11:44:16   \n",
       "3  01003020-1200-0000-0000-000000000000  39202894121 2024-06-11 17:22:24   \n",
       "4  01003020-1200-0000-0000-000000000000  39169968316 2024-06-10 20:29:29   \n",
       "\n",
       "   repo_id                                           repo_git  \\\n",
       "0        5  https://api.github.com/repos/AmazingRise/hugo-...   \n",
       "1        6  https://api.github.com/repos/AmazingRise/hugo-...   \n",
       "2        7  https://api.github.com/repos/AmazingRise/hugo-...   \n",
       "3  1808426         https://api.github.com/repos/fhh2626/BFEE2   \n",
       "4  1808427         https://api.github.com/repos/fhh2626/BFEE2   \n",
       "\n",
       "                      repo_name  gh_repo_id         event_type  \n",
       "0  AmazingRise/hugo-theme-diary   220989613  IssueCommentEvent  \n",
       "1  AmazingRise/hugo-theme-diary   220989613  IssueCommentEvent  \n",
       "2  AmazingRise/hugo-theme-diary   220989613        IssuesEvent  \n",
       "3                 fhh2626/BFEE2   322234705          ForkEvent  \n",
       "4                 fhh2626/BFEE2   322234705        IssuesEvent  "
      ]
     },
     "execution_count": 7,
     "metadata": {},
     "output_type": "execute_result"
    }
   ],
   "source": [
    "df_event_stream.head()"
   ]
  },
  {
   "cell_type": "markdown",
   "metadata": {},
   "source": [
    "### Most common types of events"
   ]
  },
  {
   "cell_type": "code",
   "execution_count": 8,
   "metadata": {},
   "outputs": [
    {
     "data": {
      "text/plain": [
       "event_type\n",
       "PushEvent                        2679758\n",
       "WatchEvent                        789153\n",
       "IssueCommentEvent                 749246\n",
       "PullRequestEvent                  610980\n",
       "CreateEvent                       507028\n",
       "PullRequestReviewEvent            460847\n",
       "PullRequestReviewCommentEvent     355353\n",
       "IssuesEvent                       302394\n",
       "DeleteEvent                       236347\n",
       "ForkEvent                         103921\n",
       "ReleaseEvent                       37033\n",
       "MemberEvent                        11650\n",
       "PublicEvent                        11511\n",
       "GollumEvent                         8681\n",
       "CommitCommentEvent                  5007\n",
       "Name: count, dtype: int64"
      ]
     },
     "execution_count": 8,
     "metadata": {},
     "output_type": "execute_result"
    }
   ],
   "source": [
    "event_counts = df_event_stream.event_type.value_counts()\n",
    "event_counts"
   ]
  },
  {
   "cell_type": "markdown",
   "metadata": {},
   "source": [
    "### General Event Count Bar Chart\n",
    "Let's generate a bar chart that visualizes the frequency of different event types using Plotly Express. The chart is created from a DataFrame containing event counts, with the event types represented on the x-axis and the number of occurrences on the y-axis.\n",
    "\n",
    "- Data Source: The data used in this bar chart is derived from the `event_counts` DataFrame.\n",
    "- Color Encoding: Each bar is colored based on the event type, allowing for easy differentiation between different types of events.\n",
    "- Labels: The y-axis is labeled as # Events, representing the count of each event type, and the x-axis is labeled as Kind of Event to specify the types of events being counted."
   ]
  },
  {
   "cell_type": "code",
   "execution_count": 9,
   "metadata": {},
   "outputs": [
    {
     "data": {
      "application/vnd.plotly.v1+json": {
       "config": {
        "plotlyServerURL": "https://plot.ly"
       },
       "data": [
        {
         "alignmentgroup": "True",
         "hovertemplate": "Kind of Event=%{x}<br># Events=%{y}<extra></extra>",
         "legendgroup": "PushEvent",
         "marker": {
          "color": "#636efa",
          "pattern": {
           "shape": ""
          }
         },
         "name": "PushEvent",
         "offsetgroup": "PushEvent",
         "orientation": "v",
         "showlegend": true,
         "textposition": "auto",
         "type": "bar",
         "x": [
          "PushEvent"
         ],
         "xaxis": "x",
         "y": [
          2679758
         ],
         "yaxis": "y"
        },
        {
         "alignmentgroup": "True",
         "hovertemplate": "Kind of Event=%{x}<br># Events=%{y}<extra></extra>",
         "legendgroup": "WatchEvent",
         "marker": {
          "color": "#EF553B",
          "pattern": {
           "shape": ""
          }
         },
         "name": "WatchEvent",
         "offsetgroup": "WatchEvent",
         "orientation": "v",
         "showlegend": true,
         "textposition": "auto",
         "type": "bar",
         "x": [
          "WatchEvent"
         ],
         "xaxis": "x",
         "y": [
          789153
         ],
         "yaxis": "y"
        },
        {
         "alignmentgroup": "True",
         "hovertemplate": "Kind of Event=%{x}<br># Events=%{y}<extra></extra>",
         "legendgroup": "IssueCommentEvent",
         "marker": {
          "color": "#00cc96",
          "pattern": {
           "shape": ""
          }
         },
         "name": "IssueCommentEvent",
         "offsetgroup": "IssueCommentEvent",
         "orientation": "v",
         "showlegend": true,
         "textposition": "auto",
         "type": "bar",
         "x": [
          "IssueCommentEvent"
         ],
         "xaxis": "x",
         "y": [
          749246
         ],
         "yaxis": "y"
        },
        {
         "alignmentgroup": "True",
         "hovertemplate": "Kind of Event=%{x}<br># Events=%{y}<extra></extra>",
         "legendgroup": "PullRequestEvent",
         "marker": {
          "color": "#ab63fa",
          "pattern": {
           "shape": ""
          }
         },
         "name": "PullRequestEvent",
         "offsetgroup": "PullRequestEvent",
         "orientation": "v",
         "showlegend": true,
         "textposition": "auto",
         "type": "bar",
         "x": [
          "PullRequestEvent"
         ],
         "xaxis": "x",
         "y": [
          610980
         ],
         "yaxis": "y"
        },
        {
         "alignmentgroup": "True",
         "hovertemplate": "Kind of Event=%{x}<br># Events=%{y}<extra></extra>",
         "legendgroup": "CreateEvent",
         "marker": {
          "color": "#FFA15A",
          "pattern": {
           "shape": ""
          }
         },
         "name": "CreateEvent",
         "offsetgroup": "CreateEvent",
         "orientation": "v",
         "showlegend": true,
         "textposition": "auto",
         "type": "bar",
         "x": [
          "CreateEvent"
         ],
         "xaxis": "x",
         "y": [
          507028
         ],
         "yaxis": "y"
        },
        {
         "alignmentgroup": "True",
         "hovertemplate": "Kind of Event=%{x}<br># Events=%{y}<extra></extra>",
         "legendgroup": "PullRequestReviewEvent",
         "marker": {
          "color": "#19d3f3",
          "pattern": {
           "shape": ""
          }
         },
         "name": "PullRequestReviewEvent",
         "offsetgroup": "PullRequestReviewEvent",
         "orientation": "v",
         "showlegend": true,
         "textposition": "auto",
         "type": "bar",
         "x": [
          "PullRequestReviewEvent"
         ],
         "xaxis": "x",
         "y": [
          460847
         ],
         "yaxis": "y"
        },
        {
         "alignmentgroup": "True",
         "hovertemplate": "Kind of Event=%{x}<br># Events=%{y}<extra></extra>",
         "legendgroup": "PullRequestReviewCommentEvent",
         "marker": {
          "color": "#FF6692",
          "pattern": {
           "shape": ""
          }
         },
         "name": "PullRequestReviewCommentEvent",
         "offsetgroup": "PullRequestReviewCommentEvent",
         "orientation": "v",
         "showlegend": true,
         "textposition": "auto",
         "type": "bar",
         "x": [
          "PullRequestReviewCommentEvent"
         ],
         "xaxis": "x",
         "y": [
          355353
         ],
         "yaxis": "y"
        },
        {
         "alignmentgroup": "True",
         "hovertemplate": "Kind of Event=%{x}<br># Events=%{y}<extra></extra>",
         "legendgroup": "IssuesEvent",
         "marker": {
          "color": "#B6E880",
          "pattern": {
           "shape": ""
          }
         },
         "name": "IssuesEvent",
         "offsetgroup": "IssuesEvent",
         "orientation": "v",
         "showlegend": true,
         "textposition": "auto",
         "type": "bar",
         "x": [
          "IssuesEvent"
         ],
         "xaxis": "x",
         "y": [
          302394
         ],
         "yaxis": "y"
        },
        {
         "alignmentgroup": "True",
         "hovertemplate": "Kind of Event=%{x}<br># Events=%{y}<extra></extra>",
         "legendgroup": "DeleteEvent",
         "marker": {
          "color": "#FF97FF",
          "pattern": {
           "shape": ""
          }
         },
         "name": "DeleteEvent",
         "offsetgroup": "DeleteEvent",
         "orientation": "v",
         "showlegend": true,
         "textposition": "auto",
         "type": "bar",
         "x": [
          "DeleteEvent"
         ],
         "xaxis": "x",
         "y": [
          236347
         ],
         "yaxis": "y"
        },
        {
         "alignmentgroup": "True",
         "hovertemplate": "Kind of Event=%{x}<br># Events=%{y}<extra></extra>",
         "legendgroup": "ForkEvent",
         "marker": {
          "color": "#FECB52",
          "pattern": {
           "shape": ""
          }
         },
         "name": "ForkEvent",
         "offsetgroup": "ForkEvent",
         "orientation": "v",
         "showlegend": true,
         "textposition": "auto",
         "type": "bar",
         "x": [
          "ForkEvent"
         ],
         "xaxis": "x",
         "y": [
          103921
         ],
         "yaxis": "y"
        },
        {
         "alignmentgroup": "True",
         "hovertemplate": "Kind of Event=%{x}<br># Events=%{y}<extra></extra>",
         "legendgroup": "ReleaseEvent",
         "marker": {
          "color": "#636efa",
          "pattern": {
           "shape": ""
          }
         },
         "name": "ReleaseEvent",
         "offsetgroup": "ReleaseEvent",
         "orientation": "v",
         "showlegend": true,
         "textposition": "auto",
         "type": "bar",
         "x": [
          "ReleaseEvent"
         ],
         "xaxis": "x",
         "y": [
          37033
         ],
         "yaxis": "y"
        },
        {
         "alignmentgroup": "True",
         "hovertemplate": "Kind of Event=%{x}<br># Events=%{y}<extra></extra>",
         "legendgroup": "MemberEvent",
         "marker": {
          "color": "#EF553B",
          "pattern": {
           "shape": ""
          }
         },
         "name": "MemberEvent",
         "offsetgroup": "MemberEvent",
         "orientation": "v",
         "showlegend": true,
         "textposition": "auto",
         "type": "bar",
         "x": [
          "MemberEvent"
         ],
         "xaxis": "x",
         "y": [
          11650
         ],
         "yaxis": "y"
        },
        {
         "alignmentgroup": "True",
         "hovertemplate": "Kind of Event=%{x}<br># Events=%{y}<extra></extra>",
         "legendgroup": "PublicEvent",
         "marker": {
          "color": "#00cc96",
          "pattern": {
           "shape": ""
          }
         },
         "name": "PublicEvent",
         "offsetgroup": "PublicEvent",
         "orientation": "v",
         "showlegend": true,
         "textposition": "auto",
         "type": "bar",
         "x": [
          "PublicEvent"
         ],
         "xaxis": "x",
         "y": [
          11511
         ],
         "yaxis": "y"
        },
        {
         "alignmentgroup": "True",
         "hovertemplate": "Kind of Event=%{x}<br># Events=%{y}<extra></extra>",
         "legendgroup": "GollumEvent",
         "marker": {
          "color": "#ab63fa",
          "pattern": {
           "shape": ""
          }
         },
         "name": "GollumEvent",
         "offsetgroup": "GollumEvent",
         "orientation": "v",
         "showlegend": true,
         "textposition": "auto",
         "type": "bar",
         "x": [
          "GollumEvent"
         ],
         "xaxis": "x",
         "y": [
          8681
         ],
         "yaxis": "y"
        },
        {
         "alignmentgroup": "True",
         "hovertemplate": "Kind of Event=%{x}<br># Events=%{y}<extra></extra>",
         "legendgroup": "CommitCommentEvent",
         "marker": {
          "color": "#FFA15A",
          "pattern": {
           "shape": ""
          }
         },
         "name": "CommitCommentEvent",
         "offsetgroup": "CommitCommentEvent",
         "orientation": "v",
         "showlegend": true,
         "textposition": "auto",
         "type": "bar",
         "x": [
          "CommitCommentEvent"
         ],
         "xaxis": "x",
         "y": [
          5007
         ],
         "yaxis": "y"
        }
       ],
       "layout": {
        "barmode": "relative",
        "legend": {
         "title": {
          "text": "Kind of Event"
         },
         "tracegroupgap": 0
        },
        "margin": {
         "t": 60
        },
        "showlegend": false,
        "template": {
         "data": {
          "bar": [
           {
            "error_x": {
             "color": "#2a3f5f"
            },
            "error_y": {
             "color": "#2a3f5f"
            },
            "marker": {
             "line": {
              "color": "#E5ECF6",
              "width": 0.5
             },
             "pattern": {
              "fillmode": "overlay",
              "size": 10,
              "solidity": 0.2
             }
            },
            "type": "bar"
           }
          ],
          "barpolar": [
           {
            "marker": {
             "line": {
              "color": "#E5ECF6",
              "width": 0.5
             },
             "pattern": {
              "fillmode": "overlay",
              "size": 10,
              "solidity": 0.2
             }
            },
            "type": "barpolar"
           }
          ],
          "carpet": [
           {
            "aaxis": {
             "endlinecolor": "#2a3f5f",
             "gridcolor": "white",
             "linecolor": "white",
             "minorgridcolor": "white",
             "startlinecolor": "#2a3f5f"
            },
            "baxis": {
             "endlinecolor": "#2a3f5f",
             "gridcolor": "white",
             "linecolor": "white",
             "minorgridcolor": "white",
             "startlinecolor": "#2a3f5f"
            },
            "type": "carpet"
           }
          ],
          "choropleth": [
           {
            "colorbar": {
             "outlinewidth": 0,
             "ticks": ""
            },
            "type": "choropleth"
           }
          ],
          "contour": [
           {
            "colorbar": {
             "outlinewidth": 0,
             "ticks": ""
            },
            "colorscale": [
             [
              0,
              "#0d0887"
             ],
             [
              0.1111111111111111,
              "#46039f"
             ],
             [
              0.2222222222222222,
              "#7201a8"
             ],
             [
              0.3333333333333333,
              "#9c179e"
             ],
             [
              0.4444444444444444,
              "#bd3786"
             ],
             [
              0.5555555555555556,
              "#d8576b"
             ],
             [
              0.6666666666666666,
              "#ed7953"
             ],
             [
              0.7777777777777778,
              "#fb9f3a"
             ],
             [
              0.8888888888888888,
              "#fdca26"
             ],
             [
              1,
              "#f0f921"
             ]
            ],
            "type": "contour"
           }
          ],
          "contourcarpet": [
           {
            "colorbar": {
             "outlinewidth": 0,
             "ticks": ""
            },
            "type": "contourcarpet"
           }
          ],
          "heatmap": [
           {
            "colorbar": {
             "outlinewidth": 0,
             "ticks": ""
            },
            "colorscale": [
             [
              0,
              "#0d0887"
             ],
             [
              0.1111111111111111,
              "#46039f"
             ],
             [
              0.2222222222222222,
              "#7201a8"
             ],
             [
              0.3333333333333333,
              "#9c179e"
             ],
             [
              0.4444444444444444,
              "#bd3786"
             ],
             [
              0.5555555555555556,
              "#d8576b"
             ],
             [
              0.6666666666666666,
              "#ed7953"
             ],
             [
              0.7777777777777778,
              "#fb9f3a"
             ],
             [
              0.8888888888888888,
              "#fdca26"
             ],
             [
              1,
              "#f0f921"
             ]
            ],
            "type": "heatmap"
           }
          ],
          "heatmapgl": [
           {
            "colorbar": {
             "outlinewidth": 0,
             "ticks": ""
            },
            "colorscale": [
             [
              0,
              "#0d0887"
             ],
             [
              0.1111111111111111,
              "#46039f"
             ],
             [
              0.2222222222222222,
              "#7201a8"
             ],
             [
              0.3333333333333333,
              "#9c179e"
             ],
             [
              0.4444444444444444,
              "#bd3786"
             ],
             [
              0.5555555555555556,
              "#d8576b"
             ],
             [
              0.6666666666666666,
              "#ed7953"
             ],
             [
              0.7777777777777778,
              "#fb9f3a"
             ],
             [
              0.8888888888888888,
              "#fdca26"
             ],
             [
              1,
              "#f0f921"
             ]
            ],
            "type": "heatmapgl"
           }
          ],
          "histogram": [
           {
            "marker": {
             "pattern": {
              "fillmode": "overlay",
              "size": 10,
              "solidity": 0.2
             }
            },
            "type": "histogram"
           }
          ],
          "histogram2d": [
           {
            "colorbar": {
             "outlinewidth": 0,
             "ticks": ""
            },
            "colorscale": [
             [
              0,
              "#0d0887"
             ],
             [
              0.1111111111111111,
              "#46039f"
             ],
             [
              0.2222222222222222,
              "#7201a8"
             ],
             [
              0.3333333333333333,
              "#9c179e"
             ],
             [
              0.4444444444444444,
              "#bd3786"
             ],
             [
              0.5555555555555556,
              "#d8576b"
             ],
             [
              0.6666666666666666,
              "#ed7953"
             ],
             [
              0.7777777777777778,
              "#fb9f3a"
             ],
             [
              0.8888888888888888,
              "#fdca26"
             ],
             [
              1,
              "#f0f921"
             ]
            ],
            "type": "histogram2d"
           }
          ],
          "histogram2dcontour": [
           {
            "colorbar": {
             "outlinewidth": 0,
             "ticks": ""
            },
            "colorscale": [
             [
              0,
              "#0d0887"
             ],
             [
              0.1111111111111111,
              "#46039f"
             ],
             [
              0.2222222222222222,
              "#7201a8"
             ],
             [
              0.3333333333333333,
              "#9c179e"
             ],
             [
              0.4444444444444444,
              "#bd3786"
             ],
             [
              0.5555555555555556,
              "#d8576b"
             ],
             [
              0.6666666666666666,
              "#ed7953"
             ],
             [
              0.7777777777777778,
              "#fb9f3a"
             ],
             [
              0.8888888888888888,
              "#fdca26"
             ],
             [
              1,
              "#f0f921"
             ]
            ],
            "type": "histogram2dcontour"
           }
          ],
          "mesh3d": [
           {
            "colorbar": {
             "outlinewidth": 0,
             "ticks": ""
            },
            "type": "mesh3d"
           }
          ],
          "parcoords": [
           {
            "line": {
             "colorbar": {
              "outlinewidth": 0,
              "ticks": ""
             }
            },
            "type": "parcoords"
           }
          ],
          "pie": [
           {
            "automargin": true,
            "type": "pie"
           }
          ],
          "scatter": [
           {
            "fillpattern": {
             "fillmode": "overlay",
             "size": 10,
             "solidity": 0.2
            },
            "type": "scatter"
           }
          ],
          "scatter3d": [
           {
            "line": {
             "colorbar": {
              "outlinewidth": 0,
              "ticks": ""
             }
            },
            "marker": {
             "colorbar": {
              "outlinewidth": 0,
              "ticks": ""
             }
            },
            "type": "scatter3d"
           }
          ],
          "scattercarpet": [
           {
            "marker": {
             "colorbar": {
              "outlinewidth": 0,
              "ticks": ""
             }
            },
            "type": "scattercarpet"
           }
          ],
          "scattergeo": [
           {
            "marker": {
             "colorbar": {
              "outlinewidth": 0,
              "ticks": ""
             }
            },
            "type": "scattergeo"
           }
          ],
          "scattergl": [
           {
            "marker": {
             "colorbar": {
              "outlinewidth": 0,
              "ticks": ""
             }
            },
            "type": "scattergl"
           }
          ],
          "scattermapbox": [
           {
            "marker": {
             "colorbar": {
              "outlinewidth": 0,
              "ticks": ""
             }
            },
            "type": "scattermapbox"
           }
          ],
          "scatterpolar": [
           {
            "marker": {
             "colorbar": {
              "outlinewidth": 0,
              "ticks": ""
             }
            },
            "type": "scatterpolar"
           }
          ],
          "scatterpolargl": [
           {
            "marker": {
             "colorbar": {
              "outlinewidth": 0,
              "ticks": ""
             }
            },
            "type": "scatterpolargl"
           }
          ],
          "scatterternary": [
           {
            "marker": {
             "colorbar": {
              "outlinewidth": 0,
              "ticks": ""
             }
            },
            "type": "scatterternary"
           }
          ],
          "surface": [
           {
            "colorbar": {
             "outlinewidth": 0,
             "ticks": ""
            },
            "colorscale": [
             [
              0,
              "#0d0887"
             ],
             [
              0.1111111111111111,
              "#46039f"
             ],
             [
              0.2222222222222222,
              "#7201a8"
             ],
             [
              0.3333333333333333,
              "#9c179e"
             ],
             [
              0.4444444444444444,
              "#bd3786"
             ],
             [
              0.5555555555555556,
              "#d8576b"
             ],
             [
              0.6666666666666666,
              "#ed7953"
             ],
             [
              0.7777777777777778,
              "#fb9f3a"
             ],
             [
              0.8888888888888888,
              "#fdca26"
             ],
             [
              1,
              "#f0f921"
             ]
            ],
            "type": "surface"
           }
          ],
          "table": [
           {
            "cells": {
             "fill": {
              "color": "#EBF0F8"
             },
             "line": {
              "color": "white"
             }
            },
            "header": {
             "fill": {
              "color": "#C8D4E3"
             },
             "line": {
              "color": "white"
             }
            },
            "type": "table"
           }
          ]
         },
         "layout": {
          "annotationdefaults": {
           "arrowcolor": "#2a3f5f",
           "arrowhead": 0,
           "arrowwidth": 1
          },
          "autotypenumbers": "strict",
          "coloraxis": {
           "colorbar": {
            "outlinewidth": 0,
            "ticks": ""
           }
          },
          "colorscale": {
           "diverging": [
            [
             0,
             "#8e0152"
            ],
            [
             0.1,
             "#c51b7d"
            ],
            [
             0.2,
             "#de77ae"
            ],
            [
             0.3,
             "#f1b6da"
            ],
            [
             0.4,
             "#fde0ef"
            ],
            [
             0.5,
             "#f7f7f7"
            ],
            [
             0.6,
             "#e6f5d0"
            ],
            [
             0.7,
             "#b8e186"
            ],
            [
             0.8,
             "#7fbc41"
            ],
            [
             0.9,
             "#4d9221"
            ],
            [
             1,
             "#276419"
            ]
           ],
           "sequential": [
            [
             0,
             "#0d0887"
            ],
            [
             0.1111111111111111,
             "#46039f"
            ],
            [
             0.2222222222222222,
             "#7201a8"
            ],
            [
             0.3333333333333333,
             "#9c179e"
            ],
            [
             0.4444444444444444,
             "#bd3786"
            ],
            [
             0.5555555555555556,
             "#d8576b"
            ],
            [
             0.6666666666666666,
             "#ed7953"
            ],
            [
             0.7777777777777778,
             "#fb9f3a"
            ],
            [
             0.8888888888888888,
             "#fdca26"
            ],
            [
             1,
             "#f0f921"
            ]
           ],
           "sequentialminus": [
            [
             0,
             "#0d0887"
            ],
            [
             0.1111111111111111,
             "#46039f"
            ],
            [
             0.2222222222222222,
             "#7201a8"
            ],
            [
             0.3333333333333333,
             "#9c179e"
            ],
            [
             0.4444444444444444,
             "#bd3786"
            ],
            [
             0.5555555555555556,
             "#d8576b"
            ],
            [
             0.6666666666666666,
             "#ed7953"
            ],
            [
             0.7777777777777778,
             "#fb9f3a"
            ],
            [
             0.8888888888888888,
             "#fdca26"
            ],
            [
             1,
             "#f0f921"
            ]
           ]
          },
          "colorway": [
           "#636efa",
           "#EF553B",
           "#00cc96",
           "#ab63fa",
           "#FFA15A",
           "#19d3f3",
           "#FF6692",
           "#B6E880",
           "#FF97FF",
           "#FECB52"
          ],
          "font": {
           "color": "#2a3f5f"
          },
          "geo": {
           "bgcolor": "white",
           "lakecolor": "white",
           "landcolor": "#E5ECF6",
           "showlakes": true,
           "showland": true,
           "subunitcolor": "white"
          },
          "hoverlabel": {
           "align": "left"
          },
          "hovermode": "closest",
          "mapbox": {
           "style": "light"
          },
          "paper_bgcolor": "white",
          "plot_bgcolor": "#E5ECF6",
          "polar": {
           "angularaxis": {
            "gridcolor": "white",
            "linecolor": "white",
            "ticks": ""
           },
           "bgcolor": "#E5ECF6",
           "radialaxis": {
            "gridcolor": "white",
            "linecolor": "white",
            "ticks": ""
           }
          },
          "scene": {
           "xaxis": {
            "backgroundcolor": "#E5ECF6",
            "gridcolor": "white",
            "gridwidth": 2,
            "linecolor": "white",
            "showbackground": true,
            "ticks": "",
            "zerolinecolor": "white"
           },
           "yaxis": {
            "backgroundcolor": "#E5ECF6",
            "gridcolor": "white",
            "gridwidth": 2,
            "linecolor": "white",
            "showbackground": true,
            "ticks": "",
            "zerolinecolor": "white"
           },
           "zaxis": {
            "backgroundcolor": "#E5ECF6",
            "gridcolor": "white",
            "gridwidth": 2,
            "linecolor": "white",
            "showbackground": true,
            "ticks": "",
            "zerolinecolor": "white"
           }
          },
          "shapedefaults": {
           "line": {
            "color": "#2a3f5f"
           }
          },
          "ternary": {
           "aaxis": {
            "gridcolor": "white",
            "linecolor": "white",
            "ticks": ""
           },
           "baxis": {
            "gridcolor": "white",
            "linecolor": "white",
            "ticks": ""
           },
           "bgcolor": "#E5ECF6",
           "caxis": {
            "gridcolor": "white",
            "linecolor": "white",
            "ticks": ""
           }
          },
          "title": {
           "x": 0.05
          },
          "xaxis": {
           "automargin": true,
           "gridcolor": "white",
           "linecolor": "white",
           "ticks": "",
           "title": {
            "standoff": 15
           },
           "zerolinecolor": "white",
           "zerolinewidth": 2
          },
          "yaxis": {
           "automargin": true,
           "gridcolor": "white",
           "linecolor": "white",
           "ticks": "",
           "title": {
            "standoff": 15
           },
           "zerolinecolor": "white",
           "zerolinewidth": 2
          }
         }
        },
        "xaxis": {
         "anchor": "y",
         "categoryarray": [
          "PushEvent",
          "WatchEvent",
          "IssueCommentEvent",
          "PullRequestEvent",
          "CreateEvent",
          "PullRequestReviewEvent",
          "PullRequestReviewCommentEvent",
          "IssuesEvent",
          "DeleteEvent",
          "ForkEvent",
          "ReleaseEvent",
          "MemberEvent",
          "PublicEvent",
          "GollumEvent",
          "CommitCommentEvent"
         ],
         "categoryorder": "array",
         "domain": [
          0,
          1
         ],
         "title": {
          "text": "Kind of Event"
         }
        },
        "yaxis": {
         "anchor": "x",
         "domain": [
          0,
          1
         ],
         "title": {
          "text": "# Events"
         }
        }
       }
      }
     },
     "metadata": {},
     "output_type": "display_data"
    }
   ],
   "source": [
    "fig_ec = px.bar(\n",
    "    data_frame=event_counts.to_frame(),\n",
    "    color=event_counts.to_frame().index,\n",
    "    labels={\n",
    "                     \"value\": \"# Events\",\n",
    "                     \"event_type\": \"Kind of Event\"\n",
    "                 },\n",
    ")\n",
    "fig_ec.update_layout(showlegend=False)\n",
    "fig_ec.write_image(\"general_eventcount.png\")\n",
    "fig_ec"
   ]
  },
  {
   "cell_type": "code",
   "execution_count": 10,
   "metadata": {},
   "outputs": [
    {
     "data": {
      "image/png": "[encoded data removed]",
      "text/plain": [
       "<IPython.core.display.Image object>"
      ]
     },
     "execution_count": 10,
     "metadata": {},
     "output_type": "execute_result"
    }
   ],
   "source": [
    "Image(\"general_eventcount.png\")"
   ]
  },
  {
   "cell_type": "markdown",
   "metadata": {},
   "source": [
    "### Repositories with the most events "
   ]
  },
  {
   "cell_type": "code",
   "execution_count": 11,
   "metadata": {},
   "outputs": [
    {
     "data": {
      "text/plain": [
       "repo_git\n",
       "https://api.github.com/repos/pytorch/pytorch                          64253\n",
       "https://api.github.com/repos/llvm/llvm-project                        18243\n",
       "https://api.github.com/repos/huggingface/transformers                 16758\n",
       "https://api.github.com/repos/vllm-project/vllm                        14075\n",
       "https://api.github.com/repos/langchain-ai/langchain                   13835\n",
       "                                                                      ...  \n",
       "https://api.github.com/repos/xinntao/ProjectTemplate-Python               1\n",
       "https://api.github.com/repos/Abonaventure/ORB_SLAM3_AR-for-Android        1\n",
       "https://api.github.com/repos/zhaoxuhui/ORB-Code-Notes                     1\n",
       "https://api.github.com/repos/nik-suri/keplr-chain-registry                1\n",
       "https://api.github.com/repos/StarlangSoftware/TurkishWordNet-Py           1\n",
       "Name: count, Length: 549262, dtype: int64"
      ]
     },
     "execution_count": 11,
     "metadata": {},
     "output_type": "execute_result"
    }
   ],
   "source": [
    "repo_event_counts = df_event_stream.repo_git.value_counts()\n",
    "repo_event_counts"
   ]
  },
  {
   "cell_type": "markdown",
   "metadata": {},
   "source": [
    "Let's generate a bar chart that visualizes the number of events associated with different repositories. This chart is particularly focused on repositories with more than 2,500 events, filtering out those with fewer events to highlight the most active repositories.\n",
    "\n",
    "- Data: The data is first processed by renaming the column in the `repo_event_counts` DataFrame to count. Then, it filters the repositories to include only those with more than 2,500 events.\n",
    "- Color Encoding: Each bar is colored based on the repository name, providing a visual distinction between different repositories."
   ]
  },
  {
   "cell_type": "code",
   "execution_count": 12,
   "metadata": {},
   "outputs": [
    {
     "name": "stdout",
     "output_type": "stream",
     "text": [
      "                                                    count\n",
      "repo_git                                                 \n",
      "https://api.github.com/repos/pytorch/pytorch        64253\n",
      "https://api.github.com/repos/llvm/llvm-project      18243\n",
      "https://api.github.com/repos/huggingface/transf...  16758\n",
      "https://api.github.com/repos/vllm-project/vllm      14075\n",
      "https://api.github.com/repos/langchain-ai/langc...  13835\n",
      "...                                                   ...\n",
      "https://api.github.com/repos/xinntao/ProjectTem...      1\n",
      "https://api.github.com/repos/Abonaventure/ORB_S...      1\n",
      "https://api.github.com/repos/zhaoxuhui/ORB-Code...      1\n",
      "https://api.github.com/repos/nik-suri/keplr-cha...      1\n",
      "https://api.github.com/repos/StarlangSoftware/T...      1\n",
      "\n",
      "[549262 rows x 1 columns]\n"
     ]
    },
    {
     "data": {
      "application/vnd.plotly.v1+json": {
       "config": {
        "plotlyServerURL": "https://plot.ly"
       },
       "data": [
        {
         "alignmentgroup": "True",
         "hovertemplate": "repo_git=%{x}<br>value=%{y}<extra></extra>",
         "legendgroup": "https://api.github.com/repos/pytorch/pytorch",
         "marker": {
          "color": "#636efa",
          "pattern": {
           "shape": ""
          }
         },
         "name": "https://api.github.com/repos/pytorch/pytorch",
         "offsetgroup": "https://api.github.com/repos/pytorch/pytorch",
         "orientation": "v",
         "showlegend": true,
         "textposition": "auto",
         "type": "bar",
         "x": [
          "https://api.github.com/repos/pytorch/pytorch"
         ],
         "xaxis": "x",
         "y": [
          64253
         ],
         "yaxis": "y"
        },
        {
         "alignmentgroup": "True",
         "hovertemplate": "repo_git=%{x}<br>value=%{y}<extra></extra>",
         "legendgroup": "https://api.github.com/repos/llvm/llvm-project",
         "marker": {
          "color": "#EF553B",
          "pattern": {
           "shape": ""
          }
         },
         "name": "https://api.github.com/repos/llvm/llvm-project",
         "offsetgroup": "https://api.github.com/repos/llvm/llvm-project",
         "orientation": "v",
         "showlegend": true,
         "textposition": "auto",
         "type": "bar",
         "x": [
          "https://api.github.com/repos/llvm/llvm-project"
         ],
         "xaxis": "x",
         "y": [
          18243
         ],
         "yaxis": "y"
        },
        {
         "alignmentgroup": "True",
         "hovertemplate": "repo_git=%{x}<br>value=%{y}<extra></extra>",
         "legendgroup": "https://api.github.com/repos/huggingface/transformers",
         "marker": {
          "color": "#00cc96",
          "pattern": {
           "shape": ""
          }
         },
         "name": "https://api.github.com/repos/huggingface/transformers",
         "offsetgroup": "https://api.github.com/repos/huggingface/transformers",
         "orientation": "v",
         "showlegend": true,
         "textposition": "auto",
         "type": "bar",
         "x": [
          "https://api.github.com/repos/huggingface/transformers"
         ],
         "xaxis": "x",
         "y": [
          16758
         ],
         "yaxis": "y"
        },
        {
         "alignmentgroup": "True",
         "hovertemplate": "repo_git=%{x}<br>value=%{y}<extra></extra>",
         "legendgroup": "https://api.github.com/repos/vllm-project/vllm",
         "marker": {
          "color": "#ab63fa",
          "pattern": {
           "shape": ""
          }
         },
         "name": "https://api.github.com/repos/vllm-project/vllm",
         "offsetgroup": "https://api.github.com/repos/vllm-project/vllm",
         "orientation": "v",
         "showlegend": true,
         "textposition": "auto",
         "type": "bar",
         "x": [
          "https://api.github.com/repos/vllm-project/vllm"
         ],
         "xaxis": "x",
         "y": [
          14075
         ],
         "yaxis": "y"
        },
        {
         "alignmentgroup": "True",
         "hovertemplate": "repo_git=%{x}<br>value=%{y}<extra></extra>",
         "legendgroup": "https://api.github.com/repos/langchain-ai/langchain",
         "marker": {
          "color": "#FFA15A",
          "pattern": {
           "shape": ""
          }
         },
         "name": "https://api.github.com/repos/langchain-ai/langchain",
         "offsetgroup": "https://api.github.com/repos/langchain-ai/langchain",
         "orientation": "v",
         "showlegend": true,
         "textposition": "auto",
         "type": "bar",
         "x": [
          "https://api.github.com/repos/langchain-ai/langchain"
         ],
         "xaxis": "x",
         "y": [
          13835
         ],
         "yaxis": "y"
        },
        {
         "alignmentgroup": "True",
         "hovertemplate": "repo_git=%{x}<br>value=%{y}<extra></extra>",
         "legendgroup": "https://api.github.com/repos/NixOS/nixpkgs",
         "marker": {
          "color": "#19d3f3",
          "pattern": {
           "shape": ""
          }
         },
         "name": "https://api.github.com/repos/NixOS/nixpkgs",
         "offsetgroup": "https://api.github.com/repos/NixOS/nixpkgs",
         "orientation": "v",
         "showlegend": true,
         "textposition": "auto",
         "type": "bar",
         "x": [
          "https://api.github.com/repos/NixOS/nixpkgs"
         ],
         "xaxis": "x",
         "y": [
          13052
         ],
         "yaxis": "y"
        },
        {
         "alignmentgroup": "True",
         "hovertemplate": "repo_git=%{x}<br>value=%{y}<extra></extra>",
         "legendgroup": "https://api.github.com/repos/NVIDIA/NeMo",
         "marker": {
          "color": "#FF6692",
          "pattern": {
           "shape": ""
          }
         },
         "name": "https://api.github.com/repos/NVIDIA/NeMo",
         "offsetgroup": "https://api.github.com/repos/NVIDIA/NeMo",
         "orientation": "v",
         "showlegend": true,
         "textposition": "auto",
         "type": "bar",
         "x": [
          "https://api.github.com/repos/NVIDIA/NeMo"
         ],
         "xaxis": "x",
         "y": [
          11063
         ],
         "yaxis": "y"
        },
        {
         "alignmentgroup": "True",
         "hovertemplate": "repo_git=%{x}<br>value=%{y}<extra></extra>",
         "legendgroup": "https://api.github.com/repos/python/cpython",
         "marker": {
          "color": "#B6E880",
          "pattern": {
           "shape": ""
          }
         },
         "name": "https://api.github.com/repos/python/cpython",
         "offsetgroup": "https://api.github.com/repos/python/cpython",
         "orientation": "v",
         "showlegend": true,
         "textposition": "auto",
         "type": "bar",
         "x": [
          "https://api.github.com/repos/python/cpython"
         ],
         "xaxis": "x",
         "y": [
          10591
         ],
         "yaxis": "y"
        },
        {
         "alignmentgroup": "True",
         "hovertemplate": "repo_git=%{x}<br>value=%{y}<extra></extra>",
         "legendgroup": "https://api.github.com/repos/milvus-io/milvus",
         "marker": {
          "color": "#FF97FF",
          "pattern": {
           "shape": ""
          }
         },
         "name": "https://api.github.com/repos/milvus-io/milvus",
         "offsetgroup": "https://api.github.com/repos/milvus-io/milvus",
         "orientation": "v",
         "showlegend": true,
         "textposition": "auto",
         "type": "bar",
         "x": [
          "https://api.github.com/repos/milvus-io/milvus"
         ],
         "xaxis": "x",
         "y": [
          10487
         ],
         "yaxis": "y"
        },
        {
         "alignmentgroup": "True",
         "hovertemplate": "repo_git=%{x}<br>value=%{y}<extra></extra>",
         "legendgroup": "https://api.github.com/repos/apache/arrow",
         "marker": {
          "color": "#FECB52",
          "pattern": {
           "shape": ""
          }
         },
         "name": "https://api.github.com/repos/apache/arrow",
         "offsetgroup": "https://api.github.com/repos/apache/arrow",
         "orientation": "v",
         "showlegend": true,
         "textposition": "auto",
         "type": "bar",
         "x": [
          "https://api.github.com/repos/apache/arrow"
         ],
         "xaxis": "x",
         "y": [
          9125
         ],
         "yaxis": "y"
        },
        {
         "alignmentgroup": "True",
         "hovertemplate": "repo_git=%{x}<br>value=%{y}<extra></extra>",
         "legendgroup": "https://api.github.com/repos/run-llama/llama_index",
         "marker": {
          "color": "#636efa",
          "pattern": {
           "shape": ""
          }
         },
         "name": "https://api.github.com/repos/run-llama/llama_index",
         "offsetgroup": "https://api.github.com/repos/run-llama/llama_index",
         "orientation": "v",
         "showlegend": true,
         "textposition": "auto",
         "type": "bar",
         "x": [
          "https://api.github.com/repos/run-llama/llama_index"
         ],
         "xaxis": "x",
         "y": [
          8959
         ],
         "yaxis": "y"
        },
        {
         "alignmentgroup": "True",
         "hovertemplate": "repo_git=%{x}<br>value=%{y}<extra></extra>",
         "legendgroup": "https://api.github.com/repos/microsoft/onnxruntime",
         "marker": {
          "color": "#EF553B",
          "pattern": {
           "shape": ""
          }
         },
         "name": "https://api.github.com/repos/microsoft/onnxruntime",
         "offsetgroup": "https://api.github.com/repos/microsoft/onnxruntime",
         "orientation": "v",
         "showlegend": true,
         "textposition": "auto",
         "type": "bar",
         "x": [
          "https://api.github.com/repos/microsoft/onnxruntime"
         ],
         "xaxis": "x",
         "y": [
          8805
         ],
         "yaxis": "y"
        },
        {
         "alignmentgroup": "True",
         "hovertemplate": "repo_git=%{x}<br>value=%{y}<extra></extra>",
         "legendgroup": "https://api.github.com/repos/instructlab/instructlab",
         "marker": {
          "color": "#00cc96",
          "pattern": {
           "shape": ""
          }
         },
         "name": "https://api.github.com/repos/instructlab/instructlab",
         "offsetgroup": "https://api.github.com/repos/instructlab/instructlab",
         "orientation": "v",
         "showlegend": true,
         "textposition": "auto",
         "type": "bar",
         "x": [
          "https://api.github.com/repos/instructlab/instructlab"
         ],
         "xaxis": "x",
         "y": [
          8457
         ],
         "yaxis": "y"
        },
        {
         "alignmentgroup": "True",
         "hovertemplate": "repo_git=%{x}<br>value=%{y}<extra></extra>",
         "legendgroup": "https://api.github.com/repos/pytorch/executorch",
         "marker": {
          "color": "#ab63fa",
          "pattern": {
           "shape": ""
          }
         },
         "name": "https://api.github.com/repos/pytorch/executorch",
         "offsetgroup": "https://api.github.com/repos/pytorch/executorch",
         "orientation": "v",
         "showlegend": true,
         "textposition": "auto",
         "type": "bar",
         "x": [
          "https://api.github.com/repos/pytorch/executorch"
         ],
         "xaxis": "x",
         "y": [
          7303
         ],
         "yaxis": "y"
        },
        {
         "alignmentgroup": "True",
         "hovertemplate": "repo_git=%{x}<br>value=%{y}<extra></extra>",
         "legendgroup": "https://api.github.com/repos/microsoft/semantic-kernel",
         "marker": {
          "color": "#FFA15A",
          "pattern": {
           "shape": ""
          }
         },
         "name": "https://api.github.com/repos/microsoft/semantic-kernel",
         "offsetgroup": "https://api.github.com/repos/microsoft/semantic-kernel",
         "orientation": "v",
         "showlegend": true,
         "textposition": "auto",
         "type": "bar",
         "x": [
          "https://api.github.com/repos/microsoft/semantic-kernel"
         ],
         "xaxis": "x",
         "y": [
          6622
         ],
         "yaxis": "y"
        },
        {
         "alignmentgroup": "True",
         "hovertemplate": "repo_git=%{x}<br>value=%{y}<extra></extra>",
         "legendgroup": "https://api.github.com/repos/tensorflow/tensorflow",
         "marker": {
          "color": "#19d3f3",
          "pattern": {
           "shape": ""
          }
         },
         "name": "https://api.github.com/repos/tensorflow/tensorflow",
         "offsetgroup": "https://api.github.com/repos/tensorflow/tensorflow",
         "orientation": "v",
         "showlegend": true,
         "textposition": "auto",
         "type": "bar",
         "x": [
          "https://api.github.com/repos/tensorflow/tensorflow"
         ],
         "xaxis": "x",
         "y": [
          6604
         ],
         "yaxis": "y"
        },
        {
         "alignmentgroup": "True",
         "hovertemplate": "repo_git=%{x}<br>value=%{y}<extra></extra>",
         "legendgroup": "https://api.github.com/repos/ggerganov/llama.cpp",
         "marker": {
          "color": "#FF6692",
          "pattern": {
           "shape": ""
          }
         },
         "name": "https://api.github.com/repos/ggerganov/llama.cpp",
         "offsetgroup": "https://api.github.com/repos/ggerganov/llama.cpp",
         "orientation": "v",
         "showlegend": true,
         "textposition": "auto",
         "type": "bar",
         "x": [
          "https://api.github.com/repos/ggerganov/llama.cpp"
         ],
         "xaxis": "x",
         "y": [
          6559
         ],
         "yaxis": "y"
        },
        {
         "alignmentgroup": "True",
         "hovertemplate": "repo_git=%{x}<br>value=%{y}<extra></extra>",
         "legendgroup": "https://api.github.com/repos/ray-project/ray",
         "marker": {
          "color": "#B6E880",
          "pattern": {
           "shape": ""
          }
         },
         "name": "https://api.github.com/repos/ray-project/ray",
         "offsetgroup": "https://api.github.com/repos/ray-project/ray",
         "orientation": "v",
         "showlegend": true,
         "textposition": "auto",
         "type": "bar",
         "x": [
          "https://api.github.com/repos/ray-project/ray"
         ],
         "xaxis": "x",
         "y": [
          5814
         ],
         "yaxis": "y"
        },
        {
         "alignmentgroup": "True",
         "hovertemplate": "repo_git=%{x}<br>value=%{y}<extra></extra>",
         "legendgroup": "https://api.github.com/repos/pandas-dev/pandas",
         "marker": {
          "color": "#FF97FF",
          "pattern": {
           "shape": ""
          }
         },
         "name": "https://api.github.com/repos/pandas-dev/pandas",
         "offsetgroup": "https://api.github.com/repos/pandas-dev/pandas",
         "orientation": "v",
         "showlegend": true,
         "textposition": "auto",
         "type": "bar",
         "x": [
          "https://api.github.com/repos/pandas-dev/pandas"
         ],
         "xaxis": "x",
         "y": [
          5682
         ],
         "yaxis": "y"
        },
        {
         "alignmentgroup": "True",
         "hovertemplate": "repo_git=%{x}<br>value=%{y}<extra></extra>",
         "legendgroup": "https://api.github.com/repos/openshift/openshift-docs",
         "marker": {
          "color": "#FECB52",
          "pattern": {
           "shape": ""
          }
         },
         "name": "https://api.github.com/repos/openshift/openshift-docs",
         "offsetgroup": "https://api.github.com/repos/openshift/openshift-docs",
         "orientation": "v",
         "showlegend": true,
         "textposition": "auto",
         "type": "bar",
         "x": [
          "https://api.github.com/repos/openshift/openshift-docs"
         ],
         "xaxis": "x",
         "y": [
          5645
         ],
         "yaxis": "y"
        },
        {
         "alignmentgroup": "True",
         "hovertemplate": "repo_git=%{x}<br>value=%{y}<extra></extra>",
         "legendgroup": "https://api.github.com/repos/google/jax",
         "marker": {
          "color": "#636efa",
          "pattern": {
           "shape": ""
          }
         },
         "name": "https://api.github.com/repos/google/jax",
         "offsetgroup": "https://api.github.com/repos/google/jax",
         "orientation": "v",
         "showlegend": true,
         "textposition": "auto",
         "type": "bar",
         "x": [
          "https://api.github.com/repos/google/jax"
         ],
         "xaxis": "x",
         "y": [
          5345
         ],
         "yaxis": "y"
        },
        {
         "alignmentgroup": "True",
         "hovertemplate": "repo_git=%{x}<br>value=%{y}<extra></extra>",
         "legendgroup": "https://api.github.com/repos/tinygrad/tinygrad",
         "marker": {
          "color": "#EF553B",
          "pattern": {
           "shape": ""
          }
         },
         "name": "https://api.github.com/repos/tinygrad/tinygrad",
         "offsetgroup": "https://api.github.com/repos/tinygrad/tinygrad",
         "orientation": "v",
         "showlegend": true,
         "textposition": "auto",
         "type": "bar",
         "x": [
          "https://api.github.com/repos/tinygrad/tinygrad"
         ],
         "xaxis": "x",
         "y": [
          5313
         ],
         "yaxis": "y"
        },
        {
         "alignmentgroup": "True",
         "hovertemplate": "repo_git=%{x}<br>value=%{y}<extra></extra>",
         "legendgroup": "https://api.github.com/repos/openxla/xla",
         "marker": {
          "color": "#00cc96",
          "pattern": {
           "shape": ""
          }
         },
         "name": "https://api.github.com/repos/openxla/xla",
         "offsetgroup": "https://api.github.com/repos/openxla/xla",
         "orientation": "v",
         "showlegend": true,
         "textposition": "auto",
         "type": "bar",
         "x": [
          "https://api.github.com/repos/openxla/xla"
         ],
         "xaxis": "x",
         "y": [
          5247
         ],
         "yaxis": "y"
        },
        {
         "alignmentgroup": "True",
         "hovertemplate": "repo_git=%{x}<br>value=%{y}<extra></extra>",
         "legendgroup": "https://api.github.com/repos/pola-rs/polars",
         "marker": {
          "color": "#ab63fa",
          "pattern": {
           "shape": ""
          }
         },
         "name": "https://api.github.com/repos/pola-rs/polars",
         "offsetgroup": "https://api.github.com/repos/pola-rs/polars",
         "orientation": "v",
         "showlegend": true,
         "textposition": "auto",
         "type": "bar",
         "x": [
          "https://api.github.com/repos/pola-rs/polars"
         ],
         "xaxis": "x",
         "y": [
          5143
         ],
         "yaxis": "y"
        },
        {
         "alignmentgroup": "True",
         "hovertemplate": "repo_git=%{x}<br>value=%{y}<extra></extra>",
         "legendgroup": "https://api.github.com/repos/apache/spark",
         "marker": {
          "color": "#FFA15A",
          "pattern": {
           "shape": ""
          }
         },
         "name": "https://api.github.com/repos/apache/spark",
         "offsetgroup": "https://api.github.com/repos/apache/spark",
         "orientation": "v",
         "showlegend": true,
         "textposition": "auto",
         "type": "bar",
         "x": [
          "https://api.github.com/repos/apache/spark"
         ],
         "xaxis": "x",
         "y": [
          5113
         ],
         "yaxis": "y"
        },
        {
         "alignmentgroup": "True",
         "hovertemplate": "repo_git=%{x}<br>value=%{y}<extra></extra>",
         "legendgroup": "https://api.github.com/repos/ollama/ollama",
         "marker": {
          "color": "#19d3f3",
          "pattern": {
           "shape": ""
          }
         },
         "name": "https://api.github.com/repos/ollama/ollama",
         "offsetgroup": "https://api.github.com/repos/ollama/ollama",
         "orientation": "v",
         "showlegend": true,
         "textposition": "auto",
         "type": "bar",
         "x": [
          "https://api.github.com/repos/ollama/ollama"
         ],
         "xaxis": "x",
         "y": [
          5064
         ],
         "yaxis": "y"
        },
        {
         "alignmentgroup": "True",
         "hovertemplate": "repo_git=%{x}<br>value=%{y}<extra></extra>",
         "legendgroup": "https://api.github.com/repos/pytorch/torchtune",
         "marker": {
          "color": "#FF6692",
          "pattern": {
           "shape": ""
          }
         },
         "name": "https://api.github.com/repos/pytorch/torchtune",
         "offsetgroup": "https://api.github.com/repos/pytorch/torchtune",
         "orientation": "v",
         "showlegend": true,
         "textposition": "auto",
         "type": "bar",
         "x": [
          "https://api.github.com/repos/pytorch/torchtune"
         ],
         "xaxis": "x",
         "y": [
          4948
         ],
         "yaxis": "y"
        },
        {
         "alignmentgroup": "True",
         "hovertemplate": "repo_git=%{x}<br>value=%{y}<extra></extra>",
         "legendgroup": "https://api.github.com/repos/scipy/scipy",
         "marker": {
          "color": "#B6E880",
          "pattern": {
           "shape": ""
          }
         },
         "name": "https://api.github.com/repos/scipy/scipy",
         "offsetgroup": "https://api.github.com/repos/scipy/scipy",
         "orientation": "v",
         "showlegend": true,
         "textposition": "auto",
         "type": "bar",
         "x": [
          "https://api.github.com/repos/scipy/scipy"
         ],
         "xaxis": "x",
         "y": [
          4923
         ],
         "yaxis": "y"
        },
        {
         "alignmentgroup": "True",
         "hovertemplate": "repo_git=%{x}<br>value=%{y}<extra></extra>",
         "legendgroup": "https://api.github.com/repos/numpy/numpy",
         "marker": {
          "color": "#FF97FF",
          "pattern": {
           "shape": ""
          }
         },
         "name": "https://api.github.com/repos/numpy/numpy",
         "offsetgroup": "https://api.github.com/repos/numpy/numpy",
         "orientation": "v",
         "showlegend": true,
         "textposition": "auto",
         "type": "bar",
         "x": [
          "https://api.github.com/repos/numpy/numpy"
         ],
         "xaxis": "x",
         "y": [
          4877
         ],
         "yaxis": "y"
        },
        {
         "alignmentgroup": "True",
         "hovertemplate": "repo_git=%{x}<br>value=%{y}<extra></extra>",
         "legendgroup": "https://api.github.com/repos/NVIDIA/Fuser",
         "marker": {
          "color": "#FECB52",
          "pattern": {
           "shape": ""
          }
         },
         "name": "https://api.github.com/repos/NVIDIA/Fuser",
         "offsetgroup": "https://api.github.com/repos/NVIDIA/Fuser",
         "orientation": "v",
         "showlegend": true,
         "textposition": "auto",
         "type": "bar",
         "x": [
          "https://api.github.com/repos/NVIDIA/Fuser"
         ],
         "xaxis": "x",
         "y": [
          4869
         ],
         "yaxis": "y"
        },
        {
         "alignmentgroup": "True",
         "hovertemplate": "repo_git=%{x}<br>value=%{y}<extra></extra>",
         "legendgroup": "https://api.github.com/repos/qdrant/qdrant",
         "marker": {
          "color": "#636efa",
          "pattern": {
           "shape": ""
          }
         },
         "name": "https://api.github.com/repos/qdrant/qdrant",
         "offsetgroup": "https://api.github.com/repos/qdrant/qdrant",
         "orientation": "v",
         "showlegend": true,
         "textposition": "auto",
         "type": "bar",
         "x": [
          "https://api.github.com/repos/qdrant/qdrant"
         ],
         "xaxis": "x",
         "y": [
          4867
         ],
         "yaxis": "y"
        },
        {
         "alignmentgroup": "True",
         "hovertemplate": "repo_git=%{x}<br>value=%{y}<extra></extra>",
         "legendgroup": "https://api.github.com/repos/chroma-core/chroma",
         "marker": {
          "color": "#EF553B",
          "pattern": {
           "shape": ""
          }
         },
         "name": "https://api.github.com/repos/chroma-core/chroma",
         "offsetgroup": "https://api.github.com/repos/chroma-core/chroma",
         "orientation": "v",
         "showlegend": true,
         "textposition": "auto",
         "type": "bar",
         "x": [
          "https://api.github.com/repos/chroma-core/chroma"
         ],
         "xaxis": "x",
         "y": [
          4815
         ],
         "yaxis": "y"
        },
        {
         "alignmentgroup": "True",
         "hovertemplate": "repo_git=%{x}<br>value=%{y}<extra></extra>",
         "legendgroup": "https://api.github.com/repos/huggingface/diffusers",
         "marker": {
          "color": "#00cc96",
          "pattern": {
           "shape": ""
          }
         },
         "name": "https://api.github.com/repos/huggingface/diffusers",
         "offsetgroup": "https://api.github.com/repos/huggingface/diffusers",
         "orientation": "v",
         "showlegend": true,
         "textposition": "auto",
         "type": "bar",
         "x": [
          "https://api.github.com/repos/huggingface/diffusers"
         ],
         "xaxis": "x",
         "y": [
          4755
         ],
         "yaxis": "y"
        },
        {
         "alignmentgroup": "True",
         "hovertemplate": "repo_git=%{x}<br>value=%{y}<extra></extra>",
         "legendgroup": "https://api.github.com/repos/scikit-learn/scikit-learn",
         "marker": {
          "color": "#ab63fa",
          "pattern": {
           "shape": ""
          }
         },
         "name": "https://api.github.com/repos/scikit-learn/scikit-learn",
         "offsetgroup": "https://api.github.com/repos/scikit-learn/scikit-learn",
         "orientation": "v",
         "showlegend": true,
         "textposition": "auto",
         "type": "bar",
         "x": [
          "https://api.github.com/repos/scikit-learn/scikit-learn"
         ],
         "xaxis": "x",
         "y": [
          4578
         ],
         "yaxis": "y"
        },
        {
         "alignmentgroup": "True",
         "hovertemplate": "repo_git=%{x}<br>value=%{y}<extra></extra>",
         "legendgroup": "https://api.github.com/repos/rapidsai/cudf",
         "marker": {
          "color": "#FFA15A",
          "pattern": {
           "shape": ""
          }
         },
         "name": "https://api.github.com/repos/rapidsai/cudf",
         "offsetgroup": "https://api.github.com/repos/rapidsai/cudf",
         "orientation": "v",
         "showlegend": true,
         "textposition": "auto",
         "type": "bar",
         "x": [
          "https://api.github.com/repos/rapidsai/cudf"
         ],
         "xaxis": "x",
         "y": [
          4533
         ],
         "yaxis": "y"
        },
        {
         "alignmentgroup": "True",
         "hovertemplate": "repo_git=%{x}<br>value=%{y}<extra></extra>",
         "legendgroup": "https://api.github.com/repos/pytorch/xla",
         "marker": {
          "color": "#19d3f3",
          "pattern": {
           "shape": ""
          }
         },
         "name": "https://api.github.com/repos/pytorch/xla",
         "offsetgroup": "https://api.github.com/repos/pytorch/xla",
         "orientation": "v",
         "showlegend": true,
         "textposition": "auto",
         "type": "bar",
         "x": [
          "https://api.github.com/repos/pytorch/xla"
         ],
         "xaxis": "x",
         "y": [
          4431
         ],
         "yaxis": "y"
        },
        {
         "alignmentgroup": "True",
         "hovertemplate": "repo_git=%{x}<br>value=%{y}<extra></extra>",
         "legendgroup": "https://api.github.com/repos/ClickHouse/ClickHouse",
         "marker": {
          "color": "#FF6692",
          "pattern": {
           "shape": ""
          }
         },
         "name": "https://api.github.com/repos/ClickHouse/ClickHouse",
         "offsetgroup": "https://api.github.com/repos/ClickHouse/ClickHouse",
         "orientation": "v",
         "showlegend": true,
         "textposition": "auto",
         "type": "bar",
         "x": [
          "https://api.github.com/repos/ClickHouse/ClickHouse"
         ],
         "xaxis": "x",
         "y": [
          4373
         ],
         "yaxis": "y"
        },
        {
         "alignmentgroup": "True",
         "hovertemplate": "repo_git=%{x}<br>value=%{y}<extra></extra>",
         "legendgroup": "https://api.github.com/repos/iree-org/iree",
         "marker": {
          "color": "#B6E880",
          "pattern": {
           "shape": ""
          }
         },
         "name": "https://api.github.com/repos/iree-org/iree",
         "offsetgroup": "https://api.github.com/repos/iree-org/iree",
         "orientation": "v",
         "showlegend": true,
         "textposition": "auto",
         "type": "bar",
         "x": [
          "https://api.github.com/repos/iree-org/iree"
         ],
         "xaxis": "x",
         "y": [
          4331
         ],
         "yaxis": "y"
        },
        {
         "alignmentgroup": "True",
         "hovertemplate": "repo_git=%{x}<br>value=%{y}<extra></extra>",
         "legendgroup": "https://api.github.com/repos/mlflow/mlflow",
         "marker": {
          "color": "#FF97FF",
          "pattern": {
           "shape": ""
          }
         },
         "name": "https://api.github.com/repos/mlflow/mlflow",
         "offsetgroup": "https://api.github.com/repos/mlflow/mlflow",
         "orientation": "v",
         "showlegend": true,
         "textposition": "auto",
         "type": "bar",
         "x": [
          "https://api.github.com/repos/mlflow/mlflow"
         ],
         "xaxis": "x",
         "y": [
          4318
         ],
         "yaxis": "y"
        },
        {
         "alignmentgroup": "True",
         "hovertemplate": "repo_git=%{x}<br>value=%{y}<extra></extra>",
         "legendgroup": "https://api.github.com/repos/PaddlePaddle/Paddle",
         "marker": {
          "color": "#FECB52",
          "pattern": {
           "shape": ""
          }
         },
         "name": "https://api.github.com/repos/PaddlePaddle/Paddle",
         "offsetgroup": "https://api.github.com/repos/PaddlePaddle/Paddle",
         "orientation": "v",
         "showlegend": true,
         "textposition": "auto",
         "type": "bar",
         "x": [
          "https://api.github.com/repos/PaddlePaddle/Paddle"
         ],
         "xaxis": "x",
         "y": [
          4148
         ],
         "yaxis": "y"
        },
        {
         "alignmentgroup": "True",
         "hovertemplate": "repo_git=%{x}<br>value=%{y}<extra></extra>",
         "legendgroup": "https://api.github.com/repos/OpenDevin/OpenDevin",
         "marker": {
          "color": "#636efa",
          "pattern": {
           "shape": ""
          }
         },
         "name": "https://api.github.com/repos/OpenDevin/OpenDevin",
         "offsetgroup": "https://api.github.com/repos/OpenDevin/OpenDevin",
         "orientation": "v",
         "showlegend": true,
         "textposition": "auto",
         "type": "bar",
         "x": [
          "https://api.github.com/repos/OpenDevin/OpenDevin"
         ],
         "xaxis": "x",
         "y": [
          4130
         ],
         "yaxis": "y"
        },
        {
         "alignmentgroup": "True",
         "hovertemplate": "repo_git=%{x}<br>value=%{y}<extra></extra>",
         "legendgroup": "https://api.github.com/repos/dotnet/runtime",
         "marker": {
          "color": "#EF553B",
          "pattern": {
           "shape": ""
          }
         },
         "name": "https://api.github.com/repos/dotnet/runtime",
         "offsetgroup": "https://api.github.com/repos/dotnet/runtime",
         "orientation": "v",
         "showlegend": true,
         "textposition": "auto",
         "type": "bar",
         "x": [
          "https://api.github.com/repos/dotnet/runtime"
         ],
         "xaxis": "x",
         "y": [
          4016
         ],
         "yaxis": "y"
        },
        {
         "alignmentgroup": "True",
         "hovertemplate": "repo_git=%{x}<br>value=%{y}<extra></extra>",
         "legendgroup": "https://api.github.com/repos/astral-sh/uv",
         "marker": {
          "color": "#00cc96",
          "pattern": {
           "shape": ""
          }
         },
         "name": "https://api.github.com/repos/astral-sh/uv",
         "offsetgroup": "https://api.github.com/repos/astral-sh/uv",
         "orientation": "v",
         "showlegend": true,
         "textposition": "auto",
         "type": "bar",
         "x": [
          "https://api.github.com/repos/astral-sh/uv"
         ],
         "xaxis": "x",
         "y": [
          3906
         ],
         "yaxis": "y"
        },
        {
         "alignmentgroup": "True",
         "hovertemplate": "repo_git=%{x}<br>value=%{y}<extra></extra>",
         "legendgroup": "https://api.github.com/repos/Lightning-AI/lightning-thunder",
         "marker": {
          "color": "#ab63fa",
          "pattern": {
           "shape": ""
          }
         },
         "name": "https://api.github.com/repos/Lightning-AI/lightning-thunder",
         "offsetgroup": "https://api.github.com/repos/Lightning-AI/lightning-thunder",
         "orientation": "v",
         "showlegend": true,
         "textposition": "auto",
         "type": "bar",
         "x": [
          "https://api.github.com/repos/Lightning-AI/lightning-thunder"
         ],
         "xaxis": "x",
         "y": [
          3905
         ],
         "yaxis": "y"
        },
        {
         "alignmentgroup": "True",
         "hovertemplate": "repo_git=%{x}<br>value=%{y}<extra></extra>",
         "legendgroup": "https://api.github.com/repos/apache/datafusion",
         "marker": {
          "color": "#FFA15A",
          "pattern": {
           "shape": ""
          }
         },
         "name": "https://api.github.com/repos/apache/datafusion",
         "offsetgroup": "https://api.github.com/repos/apache/datafusion",
         "orientation": "v",
         "showlegend": true,
         "textposition": "auto",
         "type": "bar",
         "x": [
          "https://api.github.com/repos/apache/datafusion"
         ],
         "xaxis": "x",
         "y": [
          3676
         ],
         "yaxis": "y"
        },
        {
         "alignmentgroup": "True",
         "hovertemplate": "repo_git=%{x}<br>value=%{y}<extra></extra>",
         "legendgroup": "https://api.github.com/repos/AUTOMATIC1111/stable-diffusion-webui",
         "marker": {
          "color": "#19d3f3",
          "pattern": {
           "shape": ""
          }
         },
         "name": "https://api.github.com/repos/AUTOMATIC1111/stable-diffusion-webui",
         "offsetgroup": "https://api.github.com/repos/AUTOMATIC1111/stable-diffusion-webui",
         "orientation": "v",
         "showlegend": true,
         "textposition": "auto",
         "type": "bar",
         "x": [
          "https://api.github.com/repos/AUTOMATIC1111/stable-diffusion-webui"
         ],
         "xaxis": "x",
         "y": [
          3641
         ],
         "yaxis": "y"
        },
        {
         "alignmentgroup": "True",
         "hovertemplate": "repo_git=%{x}<br>value=%{y}<extra></extra>",
         "legendgroup": "https://api.github.com/repos/rust-lang/rust",
         "marker": {
          "color": "#FF6692",
          "pattern": {
           "shape": ""
          }
         },
         "name": "https://api.github.com/repos/rust-lang/rust",
         "offsetgroup": "https://api.github.com/repos/rust-lang/rust",
         "orientation": "v",
         "showlegend": true,
         "textposition": "auto",
         "type": "bar",
         "x": [
          "https://api.github.com/repos/rust-lang/rust"
         ],
         "xaxis": "x",
         "y": [
          3631
         ],
         "yaxis": "y"
        },
        {
         "alignmentgroup": "True",
         "hovertemplate": "repo_git=%{x}<br>value=%{y}<extra></extra>",
         "legendgroup": "https://api.github.com/repos/pytorch/ao",
         "marker": {
          "color": "#B6E880",
          "pattern": {
           "shape": ""
          }
         },
         "name": "https://api.github.com/repos/pytorch/ao",
         "offsetgroup": "https://api.github.com/repos/pytorch/ao",
         "orientation": "v",
         "showlegend": true,
         "textposition": "auto",
         "type": "bar",
         "x": [
          "https://api.github.com/repos/pytorch/ao"
         ],
         "xaxis": "x",
         "y": [
          3374
         ],
         "yaxis": "y"
        },
        {
         "alignmentgroup": "True",
         "hovertemplate": "repo_git=%{x}<br>value=%{y}<extra></extra>",
         "legendgroup": "https://api.github.com/repos/microsoft/autogen",
         "marker": {
          "color": "#FF97FF",
          "pattern": {
           "shape": ""
          }
         },
         "name": "https://api.github.com/repos/microsoft/autogen",
         "offsetgroup": "https://api.github.com/repos/microsoft/autogen",
         "orientation": "v",
         "showlegend": true,
         "textposition": "auto",
         "type": "bar",
         "x": [
          "https://api.github.com/repos/microsoft/autogen"
         ],
         "xaxis": "x",
         "y": [
          3326
         ],
         "yaxis": "y"
        },
        {
         "alignmentgroup": "True",
         "hovertemplate": "repo_git=%{x}<br>value=%{y}<extra></extra>",
         "legendgroup": "https://api.github.com/repos/karpathy/llm.c",
         "marker": {
          "color": "#FECB52",
          "pattern": {
           "shape": ""
          }
         },
         "name": "https://api.github.com/repos/karpathy/llm.c",
         "offsetgroup": "https://api.github.com/repos/karpathy/llm.c",
         "orientation": "v",
         "showlegend": true,
         "textposition": "auto",
         "type": "bar",
         "x": [
          "https://api.github.com/repos/karpathy/llm.c"
         ],
         "xaxis": "x",
         "y": [
          3316
         ],
         "yaxis": "y"
        },
        {
         "alignmentgroup": "True",
         "hovertemplate": "repo_git=%{x}<br>value=%{y}<extra></extra>",
         "legendgroup": "https://api.github.com/repos/langgenius/dify",
         "marker": {
          "color": "#636efa",
          "pattern": {
           "shape": ""
          }
         },
         "name": "https://api.github.com/repos/langgenius/dify",
         "offsetgroup": "https://api.github.com/repos/langgenius/dify",
         "orientation": "v",
         "showlegend": true,
         "textposition": "auto",
         "type": "bar",
         "x": [
          "https://api.github.com/repos/langgenius/dify"
         ],
         "xaxis": "x",
         "y": [
          3283
         ],
         "yaxis": "y"
        },
        {
         "alignmentgroup": "True",
         "hovertemplate": "repo_git=%{x}<br>value=%{y}<extra></extra>",
         "legendgroup": "https://api.github.com/repos/Homebrew/homebrew-core",
         "marker": {
          "color": "#EF553B",
          "pattern": {
           "shape": ""
          }
         },
         "name": "https://api.github.com/repos/Homebrew/homebrew-core",
         "offsetgroup": "https://api.github.com/repos/Homebrew/homebrew-core",
         "orientation": "v",
         "showlegend": true,
         "textposition": "auto",
         "type": "bar",
         "x": [
          "https://api.github.com/repos/Homebrew/homebrew-core"
         ],
         "xaxis": "x",
         "y": [
          3254
         ],
         "yaxis": "y"
        },
        {
         "alignmentgroup": "True",
         "hovertemplate": "repo_git=%{x}<br>value=%{y}<extra></extra>",
         "legendgroup": "https://api.github.com/repos/triton-lang/triton",
         "marker": {
          "color": "#00cc96",
          "pattern": {
           "shape": ""
          }
         },
         "name": "https://api.github.com/repos/triton-lang/triton",
         "offsetgroup": "https://api.github.com/repos/triton-lang/triton",
         "orientation": "v",
         "showlegend": true,
         "textposition": "auto",
         "type": "bar",
         "x": [
          "https://api.github.com/repos/triton-lang/triton"
         ],
         "xaxis": "x",
         "y": [
          3234
         ],
         "yaxis": "y"
        },
        {
         "alignmentgroup": "True",
         "hovertemplate": "repo_git=%{x}<br>value=%{y}<extra></extra>",
         "legendgroup": "https://api.github.com/repos/intel/torch-xpu-ops",
         "marker": {
          "color": "#ab63fa",
          "pattern": {
           "shape": ""
          }
         },
         "name": "https://api.github.com/repos/intel/torch-xpu-ops",
         "offsetgroup": "https://api.github.com/repos/intel/torch-xpu-ops",
         "orientation": "v",
         "showlegend": true,
         "textposition": "auto",
         "type": "bar",
         "x": [
          "https://api.github.com/repos/intel/torch-xpu-ops"
         ],
         "xaxis": "x",
         "y": [
          3174
         ],
         "yaxis": "y"
        },
        {
         "alignmentgroup": "True",
         "hovertemplate": "repo_git=%{x}<br>value=%{y}<extra></extra>",
         "legendgroup": "https://api.github.com/repos/microsoft/DeepSpeed",
         "marker": {
          "color": "#FFA15A",
          "pattern": {
           "shape": ""
          }
         },
         "name": "https://api.github.com/repos/microsoft/DeepSpeed",
         "offsetgroup": "https://api.github.com/repos/microsoft/DeepSpeed",
         "orientation": "v",
         "showlegend": true,
         "textposition": "auto",
         "type": "bar",
         "x": [
          "https://api.github.com/repos/microsoft/DeepSpeed"
         ],
         "xaxis": "x",
         "y": [
          3133
         ],
         "yaxis": "y"
        },
        {
         "alignmentgroup": "True",
         "hovertemplate": "repo_git=%{x}<br>value=%{y}<extra></extra>",
         "legendgroup": "https://api.github.com/repos/stanfordnlp/dspy",
         "marker": {
          "color": "#19d3f3",
          "pattern": {
           "shape": ""
          }
         },
         "name": "https://api.github.com/repos/stanfordnlp/dspy",
         "offsetgroup": "https://api.github.com/repos/stanfordnlp/dspy",
         "orientation": "v",
         "showlegend": true,
         "textposition": "auto",
         "type": "bar",
         "x": [
          "https://api.github.com/repos/stanfordnlp/dspy"
         ],
         "xaxis": "x",
         "y": [
          3116
         ],
         "yaxis": "y"
        },
        {
         "alignmentgroup": "True",
         "hovertemplate": "repo_git=%{x}<br>value=%{y}<extra></extra>",
         "legendgroup": "https://api.github.com/repos/meta-llama/llama3",
         "marker": {
          "color": "#FF6692",
          "pattern": {
           "shape": ""
          }
         },
         "name": "https://api.github.com/repos/meta-llama/llama3",
         "offsetgroup": "https://api.github.com/repos/meta-llama/llama3",
         "orientation": "v",
         "showlegend": true,
         "textposition": "auto",
         "type": "bar",
         "x": [
          "https://api.github.com/repos/meta-llama/llama3"
         ],
         "xaxis": "x",
         "y": [
          3066
         ],
         "yaxis": "y"
        },
        {
         "alignmentgroup": "True",
         "hovertemplate": "repo_git=%{x}<br>value=%{y}<extra></extra>",
         "legendgroup": "https://api.github.com/repos/hiyouga/LLaMA-Factory",
         "marker": {
          "color": "#B6E880",
          "pattern": {
           "shape": ""
          }
         },
         "name": "https://api.github.com/repos/hiyouga/LLaMA-Factory",
         "offsetgroup": "https://api.github.com/repos/hiyouga/LLaMA-Factory",
         "orientation": "v",
         "showlegend": true,
         "textposition": "auto",
         "type": "bar",
         "x": [
          "https://api.github.com/repos/hiyouga/LLaMA-Factory"
         ],
         "xaxis": "x",
         "y": [
          3046
         ],
         "yaxis": "y"
        },
        {
         "alignmentgroup": "True",
         "hovertemplate": "repo_git=%{x}<br>value=%{y}<extra></extra>",
         "legendgroup": "https://api.github.com/repos/BerriAI/litellm",
         "marker": {
          "color": "#FF97FF",
          "pattern": {
           "shape": ""
          }
         },
         "name": "https://api.github.com/repos/BerriAI/litellm",
         "offsetgroup": "https://api.github.com/repos/BerriAI/litellm",
         "orientation": "v",
         "showlegend": true,
         "textposition": "auto",
         "type": "bar",
         "x": [
          "https://api.github.com/repos/BerriAI/litellm"
         ],
         "xaxis": "x",
         "y": [
          3035
         ],
         "yaxis": "y"
        },
        {
         "alignmentgroup": "True",
         "hovertemplate": "repo_git=%{x}<br>value=%{y}<extra></extra>",
         "legendgroup": "https://api.github.com/repos/karpathy/LLM101n",
         "marker": {
          "color": "#FECB52",
          "pattern": {
           "shape": ""
          }
         },
         "name": "https://api.github.com/repos/karpathy/LLM101n",
         "offsetgroup": "https://api.github.com/repos/karpathy/LLM101n",
         "orientation": "v",
         "showlegend": true,
         "textposition": "auto",
         "type": "bar",
         "x": [
          "https://api.github.com/repos/karpathy/LLM101n"
         ],
         "xaxis": "x",
         "y": [
          3030
         ],
         "yaxis": "y"
        },
        {
         "alignmentgroup": "True",
         "hovertemplate": "repo_git=%{x}<br>value=%{y}<extra></extra>",
         "legendgroup": "https://api.github.com/repos/microsoft/vcpkg",
         "marker": {
          "color": "#636efa",
          "pattern": {
           "shape": ""
          }
         },
         "name": "https://api.github.com/repos/microsoft/vcpkg",
         "offsetgroup": "https://api.github.com/repos/microsoft/vcpkg",
         "orientation": "v",
         "showlegend": true,
         "textposition": "auto",
         "type": "bar",
         "x": [
          "https://api.github.com/repos/microsoft/vcpkg"
         ],
         "xaxis": "x",
         "y": [
          2965
         ],
         "yaxis": "y"
        },
        {
         "alignmentgroup": "True",
         "hovertemplate": "repo_git=%{x}<br>value=%{y}<extra></extra>",
         "legendgroup": "https://api.github.com/repos/facebookincubator/velox",
         "marker": {
          "color": "#EF553B",
          "pattern": {
           "shape": ""
          }
         },
         "name": "https://api.github.com/repos/facebookincubator/velox",
         "offsetgroup": "https://api.github.com/repos/facebookincubator/velox",
         "orientation": "v",
         "showlegend": true,
         "textposition": "auto",
         "type": "bar",
         "x": [
          "https://api.github.com/repos/facebookincubator/velox"
         ],
         "xaxis": "x",
         "y": [
          2952
         ],
         "yaxis": "y"
        },
        {
         "alignmentgroup": "True",
         "hovertemplate": "repo_git=%{x}<br>value=%{y}<extra></extra>",
         "legendgroup": "https://api.github.com/repos/openvinotoolkit/openvino",
         "marker": {
          "color": "#00cc96",
          "pattern": {
           "shape": ""
          }
         },
         "name": "https://api.github.com/repos/openvinotoolkit/openvino",
         "offsetgroup": "https://api.github.com/repos/openvinotoolkit/openvino",
         "orientation": "v",
         "showlegend": true,
         "textposition": "auto",
         "type": "bar",
         "x": [
          "https://api.github.com/repos/openvinotoolkit/openvino"
         ],
         "xaxis": "x",
         "y": [
          2945
         ],
         "yaxis": "y"
        },
        {
         "alignmentgroup": "True",
         "hovertemplate": "repo_git=%{x}<br>value=%{y}<extra></extra>",
         "legendgroup": "https://api.github.com/repos/embeddings-benchmark/mteb",
         "marker": {
          "color": "#ab63fa",
          "pattern": {
           "shape": ""
          }
         },
         "name": "https://api.github.com/repos/embeddings-benchmark/mteb",
         "offsetgroup": "https://api.github.com/repos/embeddings-benchmark/mteb",
         "orientation": "v",
         "showlegend": true,
         "textposition": "auto",
         "type": "bar",
         "x": [
          "https://api.github.com/repos/embeddings-benchmark/mteb"
         ],
         "xaxis": "x",
         "y": [
          2898
         ],
         "yaxis": "y"
        },
        {
         "alignmentgroup": "True",
         "hovertemplate": "repo_git=%{x}<br>value=%{y}<extra></extra>",
         "legendgroup": "https://api.github.com/repos/huggingface/text-generation-inference",
         "marker": {
          "color": "#FFA15A",
          "pattern": {
           "shape": ""
          }
         },
         "name": "https://api.github.com/repos/huggingface/text-generation-inference",
         "offsetgroup": "https://api.github.com/repos/huggingface/text-generation-inference",
         "orientation": "v",
         "showlegend": true,
         "textposition": "auto",
         "type": "bar",
         "x": [
          "https://api.github.com/repos/huggingface/text-generation-inference"
         ],
         "xaxis": "x",
         "y": [
          2851
         ],
         "yaxis": "y"
        },
        {
         "alignmentgroup": "True",
         "hovertemplate": "repo_git=%{x}<br>value=%{y}<extra></extra>",
         "legendgroup": "https://api.github.com/repos/comfyanonymous/ComfyUI",
         "marker": {
          "color": "#19d3f3",
          "pattern": {
           "shape": ""
          }
         },
         "name": "https://api.github.com/repos/comfyanonymous/ComfyUI",
         "offsetgroup": "https://api.github.com/repos/comfyanonymous/ComfyUI",
         "orientation": "v",
         "showlegend": true,
         "textposition": "auto",
         "type": "bar",
         "x": [
          "https://api.github.com/repos/comfyanonymous/ComfyUI"
         ],
         "xaxis": "x",
         "y": [
          2832
         ],
         "yaxis": "y"
        },
        {
         "alignmentgroup": "True",
         "hovertemplate": "repo_git=%{x}<br>value=%{y}<extra></extra>",
         "legendgroup": "https://api.github.com/repos/cohere-ai/cohere-toolkit",
         "marker": {
          "color": "#FF6692",
          "pattern": {
           "shape": ""
          }
         },
         "name": "https://api.github.com/repos/cohere-ai/cohere-toolkit",
         "offsetgroup": "https://api.github.com/repos/cohere-ai/cohere-toolkit",
         "orientation": "v",
         "showlegend": true,
         "textposition": "auto",
         "type": "bar",
         "x": [
          "https://api.github.com/repos/cohere-ai/cohere-toolkit"
         ],
         "xaxis": "x",
         "y": [
          2778
         ],
         "yaxis": "y"
        },
        {
         "alignmentgroup": "True",
         "hovertemplate": "repo_git=%{x}<br>value=%{y}<extra></extra>",
         "legendgroup": "https://api.github.com/repos/matplotlib/matplotlib",
         "marker": {
          "color": "#B6E880",
          "pattern": {
           "shape": ""
          }
         },
         "name": "https://api.github.com/repos/matplotlib/matplotlib",
         "offsetgroup": "https://api.github.com/repos/matplotlib/matplotlib",
         "orientation": "v",
         "showlegend": true,
         "textposition": "auto",
         "type": "bar",
         "x": [
          "https://api.github.com/repos/matplotlib/matplotlib"
         ],
         "xaxis": "x",
         "y": [
          2764
         ],
         "yaxis": "y"
        },
        {
         "alignmentgroup": "True",
         "hovertemplate": "repo_git=%{x}<br>value=%{y}<extra></extra>",
         "legendgroup": "https://api.github.com/repos/pytorch/TensorRT",
         "marker": {
          "color": "#FF97FF",
          "pattern": {
           "shape": ""
          }
         },
         "name": "https://api.github.com/repos/pytorch/TensorRT",
         "offsetgroup": "https://api.github.com/repos/pytorch/TensorRT",
         "orientation": "v",
         "showlegend": true,
         "textposition": "auto",
         "type": "bar",
         "x": [
          "https://api.github.com/repos/pytorch/TensorRT"
         ],
         "xaxis": "x",
         "y": [
          2727
         ],
         "yaxis": "y"
        },
        {
         "alignmentgroup": "True",
         "hovertemplate": "repo_git=%{x}<br>value=%{y}<extra></extra>",
         "legendgroup": "https://api.github.com/repos/snowflakedb/snowpark-python",
         "marker": {
          "color": "#FECB52",
          "pattern": {
           "shape": ""
          }
         },
         "name": "https://api.github.com/repos/snowflakedb/snowpark-python",
         "offsetgroup": "https://api.github.com/repos/snowflakedb/snowpark-python",
         "orientation": "v",
         "showlegend": true,
         "textposition": "auto",
         "type": "bar",
         "x": [
          "https://api.github.com/repos/snowflakedb/snowpark-python"
         ],
         "xaxis": "x",
         "y": [
          2727
         ],
         "yaxis": "y"
        },
        {
         "alignmentgroup": "True",
         "hovertemplate": "repo_git=%{x}<br>value=%{y}<extra></extra>",
         "legendgroup": "https://api.github.com/repos/huggingface/blog",
         "marker": {
          "color": "#636efa",
          "pattern": {
           "shape": ""
          }
         },
         "name": "https://api.github.com/repos/huggingface/blog",
         "offsetgroup": "https://api.github.com/repos/huggingface/blog",
         "orientation": "v",
         "showlegend": true,
         "textposition": "auto",
         "type": "bar",
         "x": [
          "https://api.github.com/repos/huggingface/blog"
         ],
         "xaxis": "x",
         "y": [
          2724
         ],
         "yaxis": "y"
        },
        {
         "alignmentgroup": "True",
         "hovertemplate": "repo_git=%{x}<br>value=%{y}<extra></extra>",
         "legendgroup": "https://api.github.com/repos/huggingface/optimum-habana",
         "marker": {
          "color": "#EF553B",
          "pattern": {
           "shape": ""
          }
         },
         "name": "https://api.github.com/repos/huggingface/optimum-habana",
         "offsetgroup": "https://api.github.com/repos/huggingface/optimum-habana",
         "orientation": "v",
         "showlegend": true,
         "textposition": "auto",
         "type": "bar",
         "x": [
          "https://api.github.com/repos/huggingface/optimum-habana"
         ],
         "xaxis": "x",
         "y": [
          2715
         ],
         "yaxis": "y"
        },
        {
         "alignmentgroup": "True",
         "hovertemplate": "repo_git=%{x}<br>value=%{y}<extra></extra>",
         "legendgroup": "https://api.github.com/repos/langchain-ai/langgraph",
         "marker": {
          "color": "#00cc96",
          "pattern": {
           "shape": ""
          }
         },
         "name": "https://api.github.com/repos/langchain-ai/langgraph",
         "offsetgroup": "https://api.github.com/repos/langchain-ai/langgraph",
         "orientation": "v",
         "showlegend": true,
         "textposition": "auto",
         "type": "bar",
         "x": [
          "https://api.github.com/repos/langchain-ai/langgraph"
         ],
         "xaxis": "x",
         "y": [
          2699
         ],
         "yaxis": "y"
        },
        {
         "alignmentgroup": "True",
         "hovertemplate": "repo_git=%{x}<br>value=%{y}<extra></extra>",
         "legendgroup": "https://api.github.com/repos/unslothai/unsloth",
         "marker": {
          "color": "#ab63fa",
          "pattern": {
           "shape": ""
          }
         },
         "name": "https://api.github.com/repos/unslothai/unsloth",
         "offsetgroup": "https://api.github.com/repos/unslothai/unsloth",
         "orientation": "v",
         "showlegend": true,
         "textposition": "auto",
         "type": "bar",
         "x": [
          "https://api.github.com/repos/unslothai/unsloth"
         ],
         "xaxis": "x",
         "y": [
          2672
         ],
         "yaxis": "y"
        },
        {
         "alignmentgroup": "True",
         "hovertemplate": "repo_git=%{x}<br>value=%{y}<extra></extra>",
         "legendgroup": "https://api.github.com/repos/astral-sh/ruff",
         "marker": {
          "color": "#FFA15A",
          "pattern": {
           "shape": ""
          }
         },
         "name": "https://api.github.com/repos/astral-sh/ruff",
         "offsetgroup": "https://api.github.com/repos/astral-sh/ruff",
         "orientation": "v",
         "showlegend": true,
         "textposition": "auto",
         "type": "bar",
         "x": [
          "https://api.github.com/repos/astral-sh/ruff"
         ],
         "xaxis": "x",
         "y": [
          2668
         ],
         "yaxis": "y"
        },
        {
         "alignmentgroup": "True",
         "hovertemplate": "repo_git=%{x}<br>value=%{y}<extra></extra>",
         "legendgroup": "https://api.github.com/repos/allenai/OLMo",
         "marker": {
          "color": "#19d3f3",
          "pattern": {
           "shape": ""
          }
         },
         "name": "https://api.github.com/repos/allenai/OLMo",
         "offsetgroup": "https://api.github.com/repos/allenai/OLMo",
         "orientation": "v",
         "showlegend": true,
         "textposition": "auto",
         "type": "bar",
         "x": [
          "https://api.github.com/repos/allenai/OLMo"
         ],
         "xaxis": "x",
         "y": [
          2655
         ],
         "yaxis": "y"
        },
        {
         "alignmentgroup": "True",
         "hovertemplate": "repo_git=%{x}<br>value=%{y}<extra></extra>",
         "legendgroup": "https://api.github.com/repos/microsoft/onnxruntime-genai",
         "marker": {
          "color": "#FF6692",
          "pattern": {
           "shape": ""
          }
         },
         "name": "https://api.github.com/repos/microsoft/onnxruntime-genai",
         "offsetgroup": "https://api.github.com/repos/microsoft/onnxruntime-genai",
         "orientation": "v",
         "showlegend": true,
         "textposition": "auto",
         "type": "bar",
         "x": [
          "https://api.github.com/repos/microsoft/onnxruntime-genai"
         ],
         "xaxis": "x",
         "y": [
          2647
         ],
         "yaxis": "y"
        },
        {
         "alignmentgroup": "True",
         "hovertemplate": "repo_git=%{x}<br>value=%{y}<extra></extra>",
         "legendgroup": "https://api.github.com/repos/Arize-ai/phoenix",
         "marker": {
          "color": "#B6E880",
          "pattern": {
           "shape": ""
          }
         },
         "name": "https://api.github.com/repos/Arize-ai/phoenix",
         "offsetgroup": "https://api.github.com/repos/Arize-ai/phoenix",
         "orientation": "v",
         "showlegend": true,
         "textposition": "auto",
         "type": "bar",
         "x": [
          "https://api.github.com/repos/Arize-ai/phoenix"
         ],
         "xaxis": "x",
         "y": [
          2638
         ],
         "yaxis": "y"
        },
        {
         "alignmentgroup": "True",
         "hovertemplate": "repo_git=%{x}<br>value=%{y}<extra></extra>",
         "legendgroup": "https://api.github.com/repos/gentoo/gentoo",
         "marker": {
          "color": "#FF97FF",
          "pattern": {
           "shape": ""
          }
         },
         "name": "https://api.github.com/repos/gentoo/gentoo",
         "offsetgroup": "https://api.github.com/repos/gentoo/gentoo",
         "orientation": "v",
         "showlegend": true,
         "textposition": "auto",
         "type": "bar",
         "x": [
          "https://api.github.com/repos/gentoo/gentoo"
         ],
         "xaxis": "x",
         "y": [
          2636
         ],
         "yaxis": "y"
        },
        {
         "alignmentgroup": "True",
         "hovertemplate": "repo_git=%{x}<br>value=%{y}<extra></extra>",
         "legendgroup": "https://api.github.com/repos/openshift/release",
         "marker": {
          "color": "#FECB52",
          "pattern": {
           "shape": ""
          }
         },
         "name": "https://api.github.com/repos/openshift/release",
         "offsetgroup": "https://api.github.com/repos/openshift/release",
         "orientation": "v",
         "showlegend": true,
         "textposition": "auto",
         "type": "bar",
         "x": [
          "https://api.github.com/repos/openshift/release"
         ],
         "xaxis": "x",
         "y": [
          2631
         ],
         "yaxis": "y"
        },
        {
         "alignmentgroup": "True",
         "hovertemplate": "repo_git=%{x}<br>value=%{y}<extra></extra>",
         "legendgroup": "https://api.github.com/repos/apache/doris",
         "marker": {
          "color": "#636efa",
          "pattern": {
           "shape": ""
          }
         },
         "name": "https://api.github.com/repos/apache/doris",
         "offsetgroup": "https://api.github.com/repos/apache/doris",
         "orientation": "v",
         "showlegend": true,
         "textposition": "auto",
         "type": "bar",
         "x": [
          "https://api.github.com/repos/apache/doris"
         ],
         "xaxis": "x",
         "y": [
          2618
         ],
         "yaxis": "y"
        },
        {
         "alignmentgroup": "True",
         "hovertemplate": "repo_git=%{x}<br>value=%{y}<extra></extra>",
         "legendgroup": "https://api.github.com/repos/microsoft/vscode",
         "marker": {
          "color": "#EF553B",
          "pattern": {
           "shape": ""
          }
         },
         "name": "https://api.github.com/repos/microsoft/vscode",
         "offsetgroup": "https://api.github.com/repos/microsoft/vscode",
         "orientation": "v",
         "showlegend": true,
         "textposition": "auto",
         "type": "bar",
         "x": [
          "https://api.github.com/repos/microsoft/vscode"
         ],
         "xaxis": "x",
         "y": [
          2616
         ],
         "yaxis": "y"
        },
        {
         "alignmentgroup": "True",
         "hovertemplate": "repo_git=%{x}<br>value=%{y}<extra></extra>",
         "legendgroup": "https://api.github.com/repos/wandb/weave",
         "marker": {
          "color": "#00cc96",
          "pattern": {
           "shape": ""
          }
         },
         "name": "https://api.github.com/repos/wandb/weave",
         "offsetgroup": "https://api.github.com/repos/wandb/weave",
         "orientation": "v",
         "showlegend": true,
         "textposition": "auto",
         "type": "bar",
         "x": [
          "https://api.github.com/repos/wandb/weave"
         ],
         "xaxis": "x",
         "y": [
          2611
         ],
         "yaxis": "y"
        },
        {
         "alignmentgroup": "True",
         "hovertemplate": "repo_git=%{x}<br>value=%{y}<extra></extra>",
         "legendgroup": "https://api.github.com/repos/streamlit/streamlit",
         "marker": {
          "color": "#ab63fa",
          "pattern": {
           "shape": ""
          }
         },
         "name": "https://api.github.com/repos/streamlit/streamlit",
         "offsetgroup": "https://api.github.com/repos/streamlit/streamlit",
         "orientation": "v",
         "showlegend": true,
         "textposition": "auto",
         "type": "bar",
         "x": [
          "https://api.github.com/repos/streamlit/streamlit"
         ],
         "xaxis": "x",
         "y": [
          2593
         ],
         "yaxis": "y"
        },
        {
         "alignmentgroup": "True",
         "hovertemplate": "repo_git=%{x}<br>value=%{y}<extra></extra>",
         "legendgroup": "https://api.github.com/repos/huggingface/peft",
         "marker": {
          "color": "#FFA15A",
          "pattern": {
           "shape": ""
          }
         },
         "name": "https://api.github.com/repos/huggingface/peft",
         "offsetgroup": "https://api.github.com/repos/huggingface/peft",
         "orientation": "v",
         "showlegend": true,
         "textposition": "auto",
         "type": "bar",
         "x": [
          "https://api.github.com/repos/huggingface/peft"
         ],
         "xaxis": "x",
         "y": [
          2591
         ],
         "yaxis": "y"
        },
        {
         "alignmentgroup": "True",
         "hovertemplate": "repo_git=%{x}<br>value=%{y}<extra></extra>",
         "legendgroup": "https://api.github.com/repos/mendableai/firecrawl",
         "marker": {
          "color": "#19d3f3",
          "pattern": {
           "shape": ""
          }
         },
         "name": "https://api.github.com/repos/mendableai/firecrawl",
         "offsetgroup": "https://api.github.com/repos/mendableai/firecrawl",
         "orientation": "v",
         "showlegend": true,
         "textposition": "auto",
         "type": "bar",
         "x": [
          "https://api.github.com/repos/mendableai/firecrawl"
         ],
         "xaxis": "x",
         "y": [
          2567
         ],
         "yaxis": "y"
        },
        {
         "alignmentgroup": "True",
         "hovertemplate": "repo_git=%{x}<br>value=%{y}<extra></extra>",
         "legendgroup": "https://api.github.com/repos/conda-forge/staged-recipes",
         "marker": {
          "color": "#FF6692",
          "pattern": {
           "shape": ""
          }
         },
         "name": "https://api.github.com/repos/conda-forge/staged-recipes",
         "offsetgroup": "https://api.github.com/repos/conda-forge/staged-recipes",
         "orientation": "v",
         "showlegend": true,
         "textposition": "auto",
         "type": "bar",
         "x": [
          "https://api.github.com/repos/conda-forge/staged-recipes"
         ],
         "xaxis": "x",
         "y": [
          2550
         ],
         "yaxis": "y"
        },
        {
         "alignmentgroup": "True",
         "hovertemplate": "repo_git=%{x}<br>value=%{y}<extra></extra>",
         "legendgroup": "https://api.github.com/repos/gradio-app/gradio",
         "marker": {
          "color": "#B6E880",
          "pattern": {
           "shape": ""
          }
         },
         "name": "https://api.github.com/repos/gradio-app/gradio",
         "offsetgroup": "https://api.github.com/repos/gradio-app/gradio",
         "orientation": "v",
         "showlegend": true,
         "textposition": "auto",
         "type": "bar",
         "x": [
          "https://api.github.com/repos/gradio-app/gradio"
         ],
         "xaxis": "x",
         "y": [
          2531
         ],
         "yaxis": "y"
        },
        {
         "alignmentgroup": "True",
         "hovertemplate": "repo_git=%{x}<br>value=%{y}<extra></extra>",
         "legendgroup": "https://api.github.com/repos/huggingface/trl",
         "marker": {
          "color": "#FF97FF",
          "pattern": {
           "shape": ""
          }
         },
         "name": "https://api.github.com/repos/huggingface/trl",
         "offsetgroup": "https://api.github.com/repos/huggingface/trl",
         "orientation": "v",
         "showlegend": true,
         "textposition": "auto",
         "type": "bar",
         "x": [
          "https://api.github.com/repos/huggingface/trl"
         ],
         "xaxis": "x",
         "y": [
          2529
         ],
         "yaxis": "y"
        }
       ],
       "layout": {
        "barmode": "relative",
        "legend": {
         "title": {
          "text": "repo_git"
         },
         "tracegroupgap": 0
        },
        "margin": {
         "t": 60
        },
        "showlegend": false,
        "template": {
         "data": {
          "bar": [
           {
            "error_x": {
             "color": "#2a3f5f"
            },
            "error_y": {
             "color": "#2a3f5f"
            },
            "marker": {
             "line": {
              "color": "#E5ECF6",
              "width": 0.5
             },
             "pattern": {
              "fillmode": "overlay",
              "size": 10,
              "solidity": 0.2
             }
            },
            "type": "bar"
           }
          ],
          "barpolar": [
           {
            "marker": {
             "line": {
              "color": "#E5ECF6",
              "width": 0.5
             },
             "pattern": {
              "fillmode": "overlay",
              "size": 10,
              "solidity": 0.2
             }
            },
            "type": "barpolar"
           }
          ],
          "carpet": [
           {
            "aaxis": {
             "endlinecolor": "#2a3f5f",
             "gridcolor": "white",
             "linecolor": "white",
             "minorgridcolor": "white",
             "startlinecolor": "#2a3f5f"
            },
            "baxis": {
             "endlinecolor": "#2a3f5f",
             "gridcolor": "white",
             "linecolor": "white",
             "minorgridcolor": "white",
             "startlinecolor": "#2a3f5f"
            },
            "type": "carpet"
           }
          ],
          "choropleth": [
           {
            "colorbar": {
             "outlinewidth": 0,
             "ticks": ""
            },
            "type": "choropleth"
           }
          ],
          "contour": [
           {
            "colorbar": {
             "outlinewidth": 0,
             "ticks": ""
            },
            "colorscale": [
             [
              0,
              "#0d0887"
             ],
             [
              0.1111111111111111,
              "#46039f"
             ],
             [
              0.2222222222222222,
              "#7201a8"
             ],
             [
              0.3333333333333333,
              "#9c179e"
             ],
             [
              0.4444444444444444,
              "#bd3786"
             ],
             [
              0.5555555555555556,
              "#d8576b"
             ],
             [
              0.6666666666666666,
              "#ed7953"
             ],
             [
              0.7777777777777778,
              "#fb9f3a"
             ],
             [
              0.8888888888888888,
              "#fdca26"
             ],
             [
              1,
              "#f0f921"
             ]
            ],
            "type": "contour"
           }
          ],
          "contourcarpet": [
           {
            "colorbar": {
             "outlinewidth": 0,
             "ticks": ""
            },
            "type": "contourcarpet"
           }
          ],
          "heatmap": [
           {
            "colorbar": {
             "outlinewidth": 0,
             "ticks": ""
            },
            "colorscale": [
             [
              0,
              "#0d0887"
             ],
             [
              0.1111111111111111,
              "#46039f"
             ],
             [
              0.2222222222222222,
              "#7201a8"
             ],
             [
              0.3333333333333333,
              "#9c179e"
             ],
             [
              0.4444444444444444,
              "#bd3786"
             ],
             [
              0.5555555555555556,
              "#d8576b"
             ],
             [
              0.6666666666666666,
              "#ed7953"
             ],
             [
              0.7777777777777778,
              "#fb9f3a"
             ],
             [
              0.8888888888888888,
              "#fdca26"
             ],
             [
              1,
              "#f0f921"
             ]
            ],
            "type": "heatmap"
           }
          ],
          "heatmapgl": [
           {
            "colorbar": {
             "outlinewidth": 0,
             "ticks": ""
            },
            "colorscale": [
             [
              0,
              "#0d0887"
             ],
             [
              0.1111111111111111,
              "#46039f"
             ],
             [
              0.2222222222222222,
              "#7201a8"
             ],
             [
              0.3333333333333333,
              "#9c179e"
             ],
             [
              0.4444444444444444,
              "#bd3786"
             ],
             [
              0.5555555555555556,
              "#d8576b"
             ],
             [
              0.6666666666666666,
              "#ed7953"
             ],
             [
              0.7777777777777778,
              "#fb9f3a"
             ],
             [
              0.8888888888888888,
              "#fdca26"
             ],
             [
              1,
              "#f0f921"
             ]
            ],
            "type": "heatmapgl"
           }
          ],
          "histogram": [
           {
            "marker": {
             "pattern": {
              "fillmode": "overlay",
              "size": 10,
              "solidity": 0.2
             }
            },
            "type": "histogram"
           }
          ],
          "histogram2d": [
           {
            "colorbar": {
             "outlinewidth": 0,
             "ticks": ""
            },
            "colorscale": [
             [
              0,
              "#0d0887"
             ],
             [
              0.1111111111111111,
              "#46039f"
             ],
             [
              0.2222222222222222,
              "#7201a8"
             ],
             [
              0.3333333333333333,
              "#9c179e"
             ],
             [
              0.4444444444444444,
              "#bd3786"
             ],
             [
              0.5555555555555556,
              "#d8576b"
             ],
             [
              0.6666666666666666,
              "#ed7953"
             ],
             [
              0.7777777777777778,
              "#fb9f3a"
             ],
             [
              0.8888888888888888,
              "#fdca26"
             ],
             [
              1,
              "#f0f921"
             ]
            ],
            "type": "histogram2d"
           }
          ],
          "histogram2dcontour": [
           {
            "colorbar": {
             "outlinewidth": 0,
             "ticks": ""
            },
            "colorscale": [
             [
              0,
              "#0d0887"
             ],
             [
              0.1111111111111111,
              "#46039f"
             ],
             [
              0.2222222222222222,
              "#7201a8"
             ],
             [
              0.3333333333333333,
              "#9c179e"
             ],
             [
              0.4444444444444444,
              "#bd3786"
             ],
             [
              0.5555555555555556,
              "#d8576b"
             ],
             [
              0.6666666666666666,
              "#ed7953"
             ],
             [
              0.7777777777777778,
              "#fb9f3a"
             ],
             [
              0.8888888888888888,
              "#fdca26"
             ],
             [
              1,
              "#f0f921"
             ]
            ],
            "type": "histogram2dcontour"
           }
          ],
          "mesh3d": [
           {
            "colorbar": {
             "outlinewidth": 0,
             "ticks": ""
            },
            "type": "mesh3d"
           }
          ],
          "parcoords": [
           {
            "line": {
             "colorbar": {
              "outlinewidth": 0,
              "ticks": ""
             }
            },
            "type": "parcoords"
           }
          ],
          "pie": [
           {
            "automargin": true,
            "type": "pie"
           }
          ],
          "scatter": [
           {
            "fillpattern": {
             "fillmode": "overlay",
             "size": 10,
             "solidity": 0.2
            },
            "type": "scatter"
           }
          ],
          "scatter3d": [
           {
            "line": {
             "colorbar": {
              "outlinewidth": 0,
              "ticks": ""
             }
            },
            "marker": {
             "colorbar": {
              "outlinewidth": 0,
              "ticks": ""
             }
            },
            "type": "scatter3d"
           }
          ],
          "scattercarpet": [
           {
            "marker": {
             "colorbar": {
              "outlinewidth": 0,
              "ticks": ""
             }
            },
            "type": "scattercarpet"
           }
          ],
          "scattergeo": [
           {
            "marker": {
             "colorbar": {
              "outlinewidth": 0,
              "ticks": ""
             }
            },
            "type": "scattergeo"
           }
          ],
          "scattergl": [
           {
            "marker": {
             "colorbar": {
              "outlinewidth": 0,
              "ticks": ""
             }
            },
            "type": "scattergl"
           }
          ],
          "scattermapbox": [
           {
            "marker": {
             "colorbar": {
              "outlinewidth": 0,
              "ticks": ""
             }
            },
            "type": "scattermapbox"
           }
          ],
          "scatterpolar": [
           {
            "marker": {
             "colorbar": {
              "outlinewidth": 0,
              "ticks": ""
             }
            },
            "type": "scatterpolar"
           }
          ],
          "scatterpolargl": [
           {
            "marker": {
             "colorbar": {
              "outlinewidth": 0,
              "ticks": ""
             }
            },
            "type": "scatterpolargl"
           }
          ],
          "scatterternary": [
           {
            "marker": {
             "colorbar": {
              "outlinewidth": 0,
              "ticks": ""
             }
            },
            "type": "scatterternary"
           }
          ],
          "surface": [
           {
            "colorbar": {
             "outlinewidth": 0,
             "ticks": ""
            },
            "colorscale": [
             [
              0,
              "#0d0887"
             ],
             [
              0.1111111111111111,
              "#46039f"
             ],
             [
              0.2222222222222222,
              "#7201a8"
             ],
             [
              0.3333333333333333,
              "#9c179e"
             ],
             [
              0.4444444444444444,
              "#bd3786"
             ],
             [
              0.5555555555555556,
              "#d8576b"
             ],
             [
              0.6666666666666666,
              "#ed7953"
             ],
             [
              0.7777777777777778,
              "#fb9f3a"
             ],
             [
              0.8888888888888888,
              "#fdca26"
             ],
             [
              1,
              "#f0f921"
             ]
            ],
            "type": "surface"
           }
          ],
          "table": [
           {
            "cells": {
             "fill": {
              "color": "#EBF0F8"
             },
             "line": {
              "color": "white"
             }
            },
            "header": {
             "fill": {
              "color": "#C8D4E3"
             },
             "line": {
              "color": "white"
             }
            },
            "type": "table"
           }
          ]
         },
         "layout": {
          "annotationdefaults": {
           "arrowcolor": "#2a3f5f",
           "arrowhead": 0,
           "arrowwidth": 1
          },
          "autotypenumbers": "strict",
          "coloraxis": {
           "colorbar": {
            "outlinewidth": 0,
            "ticks": ""
           }
          },
          "colorscale": {
           "diverging": [
            [
             0,
             "#8e0152"
            ],
            [
             0.1,
             "#c51b7d"
            ],
            [
             0.2,
             "#de77ae"
            ],
            [
             0.3,
             "#f1b6da"
            ],
            [
             0.4,
             "#fde0ef"
            ],
            [
             0.5,
             "#f7f7f7"
            ],
            [
             0.6,
             "#e6f5d0"
            ],
            [
             0.7,
             "#b8e186"
            ],
            [
             0.8,
             "#7fbc41"
            ],
            [
             0.9,
             "#4d9221"
            ],
            [
             1,
             "#276419"
            ]
           ],
           "sequential": [
            [
             0,
             "#0d0887"
            ],
            [
             0.1111111111111111,
             "#46039f"
            ],
            [
             0.2222222222222222,
             "#7201a8"
            ],
            [
             0.3333333333333333,
             "#9c179e"
            ],
            [
             0.4444444444444444,
             "#bd3786"
            ],
            [
             0.5555555555555556,
             "#d8576b"
            ],
            [
             0.6666666666666666,
             "#ed7953"
            ],
            [
             0.7777777777777778,
             "#fb9f3a"
            ],
            [
             0.8888888888888888,
             "#fdca26"
            ],
            [
             1,
             "#f0f921"
            ]
           ],
           "sequentialminus": [
            [
             0,
             "#0d0887"
            ],
            [
             0.1111111111111111,
             "#46039f"
            ],
            [
             0.2222222222222222,
             "#7201a8"
            ],
            [
             0.3333333333333333,
             "#9c179e"
            ],
            [
             0.4444444444444444,
             "#bd3786"
            ],
            [
             0.5555555555555556,
             "#d8576b"
            ],
            [
             0.6666666666666666,
             "#ed7953"
            ],
            [
             0.7777777777777778,
             "#fb9f3a"
            ],
            [
             0.8888888888888888,
             "#fdca26"
            ],
            [
             1,
             "#f0f921"
            ]
           ]
          },
          "colorway": [
           "#636efa",
           "#EF553B",
           "#00cc96",
           "#ab63fa",
           "#FFA15A",
           "#19d3f3",
           "#FF6692",
           "#B6E880",
           "#FF97FF",
           "#FECB52"
          ],
          "font": {
           "color": "#2a3f5f"
          },
          "geo": {
           "bgcolor": "white",
           "lakecolor": "white",
           "landcolor": "#E5ECF6",
           "showlakes": true,
           "showland": true,
           "subunitcolor": "white"
          },
          "hoverlabel": {
           "align": "left"
          },
          "hovermode": "closest",
          "mapbox": {
           "style": "light"
          },
          "paper_bgcolor": "white",
          "plot_bgcolor": "#E5ECF6",
          "polar": {
           "angularaxis": {
            "gridcolor": "white",
            "linecolor": "white",
            "ticks": ""
           },
           "bgcolor": "#E5ECF6",
           "radialaxis": {
            "gridcolor": "white",
            "linecolor": "white",
            "ticks": ""
           }
          },
          "scene": {
           "xaxis": {
            "backgroundcolor": "#E5ECF6",
            "gridcolor": "white",
            "gridwidth": 2,
            "linecolor": "white",
            "showbackground": true,
            "ticks": "",
            "zerolinecolor": "white"
           },
           "yaxis": {
            "backgroundcolor": "#E5ECF6",
            "gridcolor": "white",
            "gridwidth": 2,
            "linecolor": "white",
            "showbackground": true,
            "ticks": "",
            "zerolinecolor": "white"
           },
           "zaxis": {
            "backgroundcolor": "#E5ECF6",
            "gridcolor": "white",
            "gridwidth": 2,
            "linecolor": "white",
            "showbackground": true,
            "ticks": "",
            "zerolinecolor": "white"
           }
          },
          "shapedefaults": {
           "line": {
            "color": "#2a3f5f"
           }
          },
          "ternary": {
           "aaxis": {
            "gridcolor": "white",
            "linecolor": "white",
            "ticks": ""
           },
           "baxis": {
            "gridcolor": "white",
            "linecolor": "white",
            "ticks": ""
           },
           "bgcolor": "#E5ECF6",
           "caxis": {
            "gridcolor": "white",
            "linecolor": "white",
            "ticks": ""
           }
          },
          "title": {
           "x": 0.05
          },
          "xaxis": {
           "automargin": true,
           "gridcolor": "white",
           "linecolor": "white",
           "ticks": "",
           "title": {
            "standoff": 15
           },
           "zerolinecolor": "white",
           "zerolinewidth": 2
          },
          "yaxis": {
           "automargin": true,
           "gridcolor": "white",
           "linecolor": "white",
           "ticks": "",
           "title": {
            "standoff": 15
           },
           "zerolinecolor": "white",
           "zerolinewidth": 2
          }
         }
        },
        "xaxis": {
         "anchor": "y",
         "categoryarray": [
          "https://api.github.com/repos/pytorch/pytorch",
          "https://api.github.com/repos/llvm/llvm-project",
          "https://api.github.com/repos/huggingface/transformers",
          "https://api.github.com/repos/vllm-project/vllm",
          "https://api.github.com/repos/langchain-ai/langchain",
          "https://api.github.com/repos/NixOS/nixpkgs",
          "https://api.github.com/repos/NVIDIA/NeMo",
          "https://api.github.com/repos/python/cpython",
          "https://api.github.com/repos/milvus-io/milvus",
          "https://api.github.com/repos/apache/arrow",
          "https://api.github.com/repos/run-llama/llama_index",
          "https://api.github.com/repos/microsoft/onnxruntime",
          "https://api.github.com/repos/instructlab/instructlab",
          "https://api.github.com/repos/pytorch/executorch",
          "https://api.github.com/repos/microsoft/semantic-kernel",
          "https://api.github.com/repos/tensorflow/tensorflow",
          "https://api.github.com/repos/ggerganov/llama.cpp",
          "https://api.github.com/repos/ray-project/ray",
          "https://api.github.com/repos/pandas-dev/pandas",
          "https://api.github.com/repos/openshift/openshift-docs",
          "https://api.github.com/repos/google/jax",
          "https://api.github.com/repos/tinygrad/tinygrad",
          "https://api.github.com/repos/openxla/xla",
          "https://api.github.com/repos/pola-rs/polars",
          "https://api.github.com/repos/apache/spark",
          "https://api.github.com/repos/ollama/ollama",
          "https://api.github.com/repos/pytorch/torchtune",
          "https://api.github.com/repos/scipy/scipy",
          "https://api.github.com/repos/numpy/numpy",
          "https://api.github.com/repos/NVIDIA/Fuser",
          "https://api.github.com/repos/qdrant/qdrant",
          "https://api.github.com/repos/chroma-core/chroma",
          "https://api.github.com/repos/huggingface/diffusers",
          "https://api.github.com/repos/scikit-learn/scikit-learn",
          "https://api.github.com/repos/rapidsai/cudf",
          "https://api.github.com/repos/pytorch/xla",
          "https://api.github.com/repos/ClickHouse/ClickHouse",
          "https://api.github.com/repos/iree-org/iree",
          "https://api.github.com/repos/mlflow/mlflow",
          "https://api.github.com/repos/PaddlePaddle/Paddle",
          "https://api.github.com/repos/OpenDevin/OpenDevin",
          "https://api.github.com/repos/dotnet/runtime",
          "https://api.github.com/repos/astral-sh/uv",
          "https://api.github.com/repos/Lightning-AI/lightning-thunder",
          "https://api.github.com/repos/apache/datafusion",
          "https://api.github.com/repos/AUTOMATIC1111/stable-diffusion-webui",
          "https://api.github.com/repos/rust-lang/rust",
          "https://api.github.com/repos/pytorch/ao",
          "https://api.github.com/repos/microsoft/autogen",
          "https://api.github.com/repos/karpathy/llm.c",
          "https://api.github.com/repos/langgenius/dify",
          "https://api.github.com/repos/Homebrew/homebrew-core",
          "https://api.github.com/repos/triton-lang/triton",
          "https://api.github.com/repos/intel/torch-xpu-ops",
          "https://api.github.com/repos/microsoft/DeepSpeed",
          "https://api.github.com/repos/stanfordnlp/dspy",
          "https://api.github.com/repos/meta-llama/llama3",
          "https://api.github.com/repos/hiyouga/LLaMA-Factory",
          "https://api.github.com/repos/BerriAI/litellm",
          "https://api.github.com/repos/karpathy/LLM101n",
          "https://api.github.com/repos/microsoft/vcpkg",
          "https://api.github.com/repos/facebookincubator/velox",
          "https://api.github.com/repos/openvinotoolkit/openvino",
          "https://api.github.com/repos/embeddings-benchmark/mteb",
          "https://api.github.com/repos/huggingface/text-generation-inference",
          "https://api.github.com/repos/comfyanonymous/ComfyUI",
          "https://api.github.com/repos/cohere-ai/cohere-toolkit",
          "https://api.github.com/repos/matplotlib/matplotlib",
          "https://api.github.com/repos/pytorch/TensorRT",
          "https://api.github.com/repos/snowflakedb/snowpark-python",
          "https://api.github.com/repos/huggingface/blog",
          "https://api.github.com/repos/huggingface/optimum-habana",
          "https://api.github.com/repos/langchain-ai/langgraph",
          "https://api.github.com/repos/unslothai/unsloth",
          "https://api.github.com/repos/astral-sh/ruff",
          "https://api.github.com/repos/allenai/OLMo",
          "https://api.github.com/repos/microsoft/onnxruntime-genai",
          "https://api.github.com/repos/Arize-ai/phoenix",
          "https://api.github.com/repos/gentoo/gentoo",
          "https://api.github.com/repos/openshift/release",
          "https://api.github.com/repos/apache/doris",
          "https://api.github.com/repos/microsoft/vscode",
          "https://api.github.com/repos/wandb/weave",
          "https://api.github.com/repos/streamlit/streamlit",
          "https://api.github.com/repos/huggingface/peft",
          "https://api.github.com/repos/mendableai/firecrawl",
          "https://api.github.com/repos/conda-forge/staged-recipes",
          "https://api.github.com/repos/gradio-app/gradio",
          "https://api.github.com/repos/huggingface/trl"
         ],
         "categoryorder": "array",
         "domain": [
          0,
          1
         ],
         "title": {
          "text": "repo_git"
         }
        },
        "yaxis": {
         "anchor": "x",
         "domain": [
          0,
          1
         ],
         "title": {
          "text": "value"
         }
        }
       }
      }
     },
     "metadata": {},
     "output_type": "display_data"
    }
   ],
   "source": [
    "df_fig_rec = repo_event_counts.to_frame().rename(columns={\"repo_git\": \"count\"})\n",
    "print(df_fig_rec)\n",
    "df_fig_rec = df_fig_rec[df_fig_rec[\"count\"] > 2500]\n",
    "\n",
    "fig_rec = px.bar(\n",
    "    data_frame=df_fig_rec,\n",
    "    color=df_fig_rec.index,\n",
    ")\n",
    "fig_rec.update_layout(showlegend=False)\n",
    "fig_rec.write_image(\"general_repository_eventcount.png\")\n",
    "fig_rec"
   ]
  },
  {
   "cell_type": "code",
   "execution_count": 13,
   "metadata": {},
   "outputs": [
    {
     "data": {
      "image/png": "[encoded data removed]",
      "text/plain": [
       "<IPython.core.display.Image object>"
      ]
     },
     "execution_count": 13,
     "metadata": {},
     "output_type": "execute_result"
    }
   ],
   "source": [
    "Image(\"general_repository_eventcount.png\")"
   ]
  },
  {
   "cell_type": "markdown",
   "metadata": {},
   "source": [
    "## Known Contributors Event Stream Analysis\n",
    "\n",
    "We'd like to know which projects our group of contributors are the most active in. \n",
    "\n",
    "We'll cross-reference our event stream with the list of contributor IDs we have from our previous analysis."
   ]
  },
  {
   "cell_type": "code",
   "execution_count": 14,
   "metadata": {},
   "outputs": [
    {
     "data": {
      "text/plain": [
       "['010000b0-0f00-0000-0000-000000000000',\n",
       " '01000180-1a00-0000-0000-000000000000',\n",
       " '01012f1b-7f00-0000-0000-000000000000',\n",
       " '010000b4-3700-0000-0000-000000000000',\n",
       " '010000f0-9200-0000-0000-000000000000',\n",
       " '010000f2-1900-0000-0000-000000000000',\n",
       " '01002fb3-e600-0000-0000-000000000000',\n",
       " '0103ea29-8e00-0000-0000-000000000000',\n",
       " '01000117-3e00-0000-0000-000000000000',\n",
       " '0100012d-d800-0000-0000-000000000000']"
      ]
     },
     "execution_count": 14,
     "metadata": {},
     "output_type": "execute_result"
    }
   ],
   "source": [
    "UUID_known = df_known_contribs.cntrb_id.to_list()\n",
    "UUID_known[:10]"
   ]
  },
  {
   "cell_type": "code",
   "execution_count": 15,
   "metadata": {},
   "outputs": [],
   "source": [
    "# only consider events from known contributors.\n",
    "df_known_event_stream = df_event_stream[df_event_stream.cntrb_id.isin(UUID_known)]"
   ]
  },
  {
   "cell_type": "markdown",
   "metadata": {},
   "source": [
    "### Difference in size:\n",
    "\n",
    "The initial set of events represented the activity of the population of all Github users. \n",
    "\n",
    "By filtering by `UUID_known`, we now consider only those events from those contributors that we identified in our previous step; those that were in the initial set of repos that we believe are in our ecosystem of interest.\n",
    "\n",
    "This change is from `6.8` Million events to `533K` events, nearly an order of magnitude difference."
   ]
  },
  {
   "cell_type": "code",
   "execution_count": 16,
   "metadata": {},
   "outputs": [
    {
     "name": "stdout",
     "output_type": "stream",
     "text": [
      "Diff in size: (6868909, 8) compared to (533785, 8)\n"
     ]
    }
   ],
   "source": [
    "print(f\"Diff in size: {df_event_stream.shape} compared to {df_known_event_stream.shape}\")"
   ]
  },
  {
   "cell_type": "markdown",
   "metadata": {},
   "source": [
    "### Most common events among known contributors"
   ]
  },
  {
   "cell_type": "markdown",
   "metadata": {},
   "source": [
    "### General Event Count Bar Chart\n",
    "Let's generate a bar chart that visualizes the frequency of different event types using Plotly Express. The chart is created from a DataFrame, `df_known_event_stream` containing event counts, with the event types represented on the x-axis and the number of occurrences on the y-axis.\n",
    "\n",
    "- Data Source: The data used in this bar chart is derived from the `df_known_event_stream` DataFrame.\n",
    "- Color Encoding: Each bar is colored based on the event type, allowing for easy differentiation between different types of events.\n",
    "- Labels: The y-axis is labeled as # Events, representing the count of each event type, and the x-axis is labeled as Kind of Event to specify the types of events being counted."
   ]
  },
  {
   "cell_type": "code",
   "execution_count": 17,
   "metadata": {},
   "outputs": [
    {
     "data": {
      "application/vnd.plotly.v1+json": {
       "config": {
        "plotlyServerURL": "https://plot.ly"
       },
       "data": [
        {
         "alignmentgroup": "True",
         "hovertemplate": "Kind of Event=%{x}<br># Events=%{y}<extra></extra>",
         "legendgroup": "PushEvent",
         "marker": {
          "color": "#636efa",
          "pattern": {
           "shape": ""
          }
         },
         "name": "PushEvent",
         "offsetgroup": "PushEvent",
         "orientation": "v",
         "showlegend": true,
         "textposition": "auto",
         "type": "bar",
         "x": [
          "PushEvent"
         ],
         "xaxis": "x",
         "y": [
          188839
         ],
         "yaxis": "y"
        },
        {
         "alignmentgroup": "True",
         "hovertemplate": "Kind of Event=%{x}<br># Events=%{y}<extra></extra>",
         "legendgroup": "IssueCommentEvent",
         "marker": {
          "color": "#EF553B",
          "pattern": {
           "shape": ""
          }
         },
         "name": "IssueCommentEvent",
         "offsetgroup": "IssueCommentEvent",
         "orientation": "v",
         "showlegend": true,
         "textposition": "auto",
         "type": "bar",
         "x": [
          "IssueCommentEvent"
         ],
         "xaxis": "x",
         "y": [
          82841
         ],
         "yaxis": "y"
        },
        {
         "alignmentgroup": "True",
         "hovertemplate": "Kind of Event=%{x}<br># Events=%{y}<extra></extra>",
         "legendgroup": "PullRequestReviewEvent",
         "marker": {
          "color": "#00cc96",
          "pattern": {
           "shape": ""
          }
         },
         "name": "PullRequestReviewEvent",
         "offsetgroup": "PullRequestReviewEvent",
         "orientation": "v",
         "showlegend": true,
         "textposition": "auto",
         "type": "bar",
         "x": [
          "PullRequestReviewEvent"
         ],
         "xaxis": "x",
         "y": [
          54994
         ],
         "yaxis": "y"
        },
        {
         "alignmentgroup": "True",
         "hovertemplate": "Kind of Event=%{x}<br># Events=%{y}<extra></extra>",
         "legendgroup": "PullRequestEvent",
         "marker": {
          "color": "#ab63fa",
          "pattern": {
           "shape": ""
          }
         },
         "name": "PullRequestEvent",
         "offsetgroup": "PullRequestEvent",
         "orientation": "v",
         "showlegend": true,
         "textposition": "auto",
         "type": "bar",
         "x": [
          "PullRequestEvent"
         ],
         "xaxis": "x",
         "y": [
          50101
         ],
         "yaxis": "y"
        },
        {
         "alignmentgroup": "True",
         "hovertemplate": "Kind of Event=%{x}<br># Events=%{y}<extra></extra>",
         "legendgroup": "PullRequestReviewCommentEvent",
         "marker": {
          "color": "#FFA15A",
          "pattern": {
           "shape": ""
          }
         },
         "name": "PullRequestReviewCommentEvent",
         "offsetgroup": "PullRequestReviewCommentEvent",
         "orientation": "v",
         "showlegend": true,
         "textposition": "auto",
         "type": "bar",
         "x": [
          "PullRequestReviewCommentEvent"
         ],
         "xaxis": "x",
         "y": [
          43149
         ],
         "yaxis": "y"
        },
        {
         "alignmentgroup": "True",
         "hovertemplate": "Kind of Event=%{x}<br># Events=%{y}<extra></extra>",
         "legendgroup": "CreateEvent",
         "marker": {
          "color": "#19d3f3",
          "pattern": {
           "shape": ""
          }
         },
         "name": "CreateEvent",
         "offsetgroup": "CreateEvent",
         "orientation": "v",
         "showlegend": true,
         "textposition": "auto",
         "type": "bar",
         "x": [
          "CreateEvent"
         ],
         "xaxis": "x",
         "y": [
          37437
         ],
         "yaxis": "y"
        },
        {
         "alignmentgroup": "True",
         "hovertemplate": "Kind of Event=%{x}<br># Events=%{y}<extra></extra>",
         "legendgroup": "WatchEvent",
         "marker": {
          "color": "#FF6692",
          "pattern": {
           "shape": ""
          }
         },
         "name": "WatchEvent",
         "offsetgroup": "WatchEvent",
         "orientation": "v",
         "showlegend": true,
         "textposition": "auto",
         "type": "bar",
         "x": [
          "WatchEvent"
         ],
         "xaxis": "x",
         "y": [
          27284
         ],
         "yaxis": "y"
        },
        {
         "alignmentgroup": "True",
         "hovertemplate": "Kind of Event=%{x}<br># Events=%{y}<extra></extra>",
         "legendgroup": "IssuesEvent",
         "marker": {
          "color": "#B6E880",
          "pattern": {
           "shape": ""
          }
         },
         "name": "IssuesEvent",
         "offsetgroup": "IssuesEvent",
         "orientation": "v",
         "showlegend": true,
         "textposition": "auto",
         "type": "bar",
         "x": [
          "IssuesEvent"
         ],
         "xaxis": "x",
         "y": [
          21190
         ],
         "yaxis": "y"
        },
        {
         "alignmentgroup": "True",
         "hovertemplate": "Kind of Event=%{x}<br># Events=%{y}<extra></extra>",
         "legendgroup": "DeleteEvent",
         "marker": {
          "color": "#FF97FF",
          "pattern": {
           "shape": ""
          }
         },
         "name": "DeleteEvent",
         "offsetgroup": "DeleteEvent",
         "orientation": "v",
         "showlegend": true,
         "textposition": "auto",
         "type": "bar",
         "x": [
          "DeleteEvent"
         ],
         "xaxis": "x",
         "y": [
          19112
         ],
         "yaxis": "y"
        },
        {
         "alignmentgroup": "True",
         "hovertemplate": "Kind of Event=%{x}<br># Events=%{y}<extra></extra>",
         "legendgroup": "ForkEvent",
         "marker": {
          "color": "#FECB52",
          "pattern": {
           "shape": ""
          }
         },
         "name": "ForkEvent",
         "offsetgroup": "ForkEvent",
         "orientation": "v",
         "showlegend": true,
         "textposition": "auto",
         "type": "bar",
         "x": [
          "ForkEvent"
         ],
         "xaxis": "x",
         "y": [
          4805
         ],
         "yaxis": "y"
        },
        {
         "alignmentgroup": "True",
         "hovertemplate": "Kind of Event=%{x}<br># Events=%{y}<extra></extra>",
         "legendgroup": "ReleaseEvent",
         "marker": {
          "color": "#636efa",
          "pattern": {
           "shape": ""
          }
         },
         "name": "ReleaseEvent",
         "offsetgroup": "ReleaseEvent",
         "orientation": "v",
         "showlegend": true,
         "textposition": "auto",
         "type": "bar",
         "x": [
          "ReleaseEvent"
         ],
         "xaxis": "x",
         "y": [
          2074
         ],
         "yaxis": "y"
        },
        {
         "alignmentgroup": "True",
         "hovertemplate": "Kind of Event=%{x}<br># Events=%{y}<extra></extra>",
         "legendgroup": "GollumEvent",
         "marker": {
          "color": "#EF553B",
          "pattern": {
           "shape": ""
          }
         },
         "name": "GollumEvent",
         "offsetgroup": "GollumEvent",
         "orientation": "v",
         "showlegend": true,
         "textposition": "auto",
         "type": "bar",
         "x": [
          "GollumEvent"
         ],
         "xaxis": "x",
         "y": [
          564
         ],
         "yaxis": "y"
        },
        {
         "alignmentgroup": "True",
         "hovertemplate": "Kind of Event=%{x}<br># Events=%{y}<extra></extra>",
         "legendgroup": "MemberEvent",
         "marker": {
          "color": "#00cc96",
          "pattern": {
           "shape": ""
          }
         },
         "name": "MemberEvent",
         "offsetgroup": "MemberEvent",
         "orientation": "v",
         "showlegend": true,
         "textposition": "auto",
         "type": "bar",
         "x": [
          "MemberEvent"
         ],
         "xaxis": "x",
         "y": [
          518
         ],
         "yaxis": "y"
        },
        {
         "alignmentgroup": "True",
         "hovertemplate": "Kind of Event=%{x}<br># Events=%{y}<extra></extra>",
         "legendgroup": "PublicEvent",
         "marker": {
          "color": "#ab63fa",
          "pattern": {
           "shape": ""
          }
         },
         "name": "PublicEvent",
         "offsetgroup": "PublicEvent",
         "orientation": "v",
         "showlegend": true,
         "textposition": "auto",
         "type": "bar",
         "x": [
          "PublicEvent"
         ],
         "xaxis": "x",
         "y": [
          464
         ],
         "yaxis": "y"
        },
        {
         "alignmentgroup": "True",
         "hovertemplate": "Kind of Event=%{x}<br># Events=%{y}<extra></extra>",
         "legendgroup": "CommitCommentEvent",
         "marker": {
          "color": "#FFA15A",
          "pattern": {
           "shape": ""
          }
         },
         "name": "CommitCommentEvent",
         "offsetgroup": "CommitCommentEvent",
         "orientation": "v",
         "showlegend": true,
         "textposition": "auto",
         "type": "bar",
         "x": [
          "CommitCommentEvent"
         ],
         "xaxis": "x",
         "y": [
          413
         ],
         "yaxis": "y"
        }
       ],
       "layout": {
        "barmode": "relative",
        "legend": {
         "title": {
          "text": "Kind of Event"
         },
         "tracegroupgap": 0
        },
        "margin": {
         "t": 60
        },
        "showlegend": false,
        "template": {
         "data": {
          "bar": [
           {
            "error_x": {
             "color": "#2a3f5f"
            },
            "error_y": {
             "color": "#2a3f5f"
            },
            "marker": {
             "line": {
              "color": "#E5ECF6",
              "width": 0.5
             },
             "pattern": {
              "fillmode": "overlay",
              "size": 10,
              "solidity": 0.2
             }
            },
            "type": "bar"
           }
          ],
          "barpolar": [
           {
            "marker": {
             "line": {
              "color": "#E5ECF6",
              "width": 0.5
             },
             "pattern": {
              "fillmode": "overlay",
              "size": 10,
              "solidity": 0.2
             }
            },
            "type": "barpolar"
           }
          ],
          "carpet": [
           {
            "aaxis": {
             "endlinecolor": "#2a3f5f",
             "gridcolor": "white",
             "linecolor": "white",
             "minorgridcolor": "white",
             "startlinecolor": "#2a3f5f"
            },
            "baxis": {
             "endlinecolor": "#2a3f5f",
             "gridcolor": "white",
             "linecolor": "white",
             "minorgridcolor": "white",
             "startlinecolor": "#2a3f5f"
            },
            "type": "carpet"
           }
          ],
          "choropleth": [
           {
            "colorbar": {
             "outlinewidth": 0,
             "ticks": ""
            },
            "type": "choropleth"
           }
          ],
          "contour": [
           {
            "colorbar": {
             "outlinewidth": 0,
             "ticks": ""
            },
            "colorscale": [
             [
              0,
              "#0d0887"
             ],
             [
              0.1111111111111111,
              "#46039f"
             ],
             [
              0.2222222222222222,
              "#7201a8"
             ],
             [
              0.3333333333333333,
              "#9c179e"
             ],
             [
              0.4444444444444444,
              "#bd3786"
             ],
             [
              0.5555555555555556,
              "#d8576b"
             ],
             [
              0.6666666666666666,
              "#ed7953"
             ],
             [
              0.7777777777777778,
              "#fb9f3a"
             ],
             [
              0.8888888888888888,
              "#fdca26"
             ],
             [
              1,
              "#f0f921"
             ]
            ],
            "type": "contour"
           }
          ],
          "contourcarpet": [
           {
            "colorbar": {
             "outlinewidth": 0,
             "ticks": ""
            },
            "type": "contourcarpet"
           }
          ],
          "heatmap": [
           {
            "colorbar": {
             "outlinewidth": 0,
             "ticks": ""
            },
            "colorscale": [
             [
              0,
              "#0d0887"
             ],
             [
              0.1111111111111111,
              "#46039f"
             ],
             [
              0.2222222222222222,
              "#7201a8"
             ],
             [
              0.3333333333333333,
              "#9c179e"
             ],
             [
              0.4444444444444444,
              "#bd3786"
             ],
             [
              0.5555555555555556,
              "#d8576b"
             ],
             [
              0.6666666666666666,
              "#ed7953"
             ],
             [
              0.7777777777777778,
              "#fb9f3a"
             ],
             [
              0.8888888888888888,
              "#fdca26"
             ],
             [
              1,
              "#f0f921"
             ]
            ],
            "type": "heatmap"
           }
          ],
          "heatmapgl": [
           {
            "colorbar": {
             "outlinewidth": 0,
             "ticks": ""
            },
            "colorscale": [
             [
              0,
              "#0d0887"
             ],
             [
              0.1111111111111111,
              "#46039f"
             ],
             [
              0.2222222222222222,
              "#7201a8"
             ],
             [
              0.3333333333333333,
              "#9c179e"
             ],
             [
              0.4444444444444444,
              "#bd3786"
             ],
             [
              0.5555555555555556,
              "#d8576b"
             ],
             [
              0.6666666666666666,
              "#ed7953"
             ],
             [
              0.7777777777777778,
              "#fb9f3a"
             ],
             [
              0.8888888888888888,
              "#fdca26"
             ],
             [
              1,
              "#f0f921"
             ]
            ],
            "type": "heatmapgl"
           }
          ],
          "histogram": [
           {
            "marker": {
             "pattern": {
              "fillmode": "overlay",
              "size": 10,
              "solidity": 0.2
             }
            },
            "type": "histogram"
           }
          ],
          "histogram2d": [
           {
            "colorbar": {
             "outlinewidth": 0,
             "ticks": ""
            },
            "colorscale": [
             [
              0,
              "#0d0887"
             ],
             [
              0.1111111111111111,
              "#46039f"
             ],
             [
              0.2222222222222222,
              "#7201a8"
             ],
             [
              0.3333333333333333,
              "#9c179e"
             ],
             [
              0.4444444444444444,
              "#bd3786"
             ],
             [
              0.5555555555555556,
              "#d8576b"
             ],
             [
              0.6666666666666666,
              "#ed7953"
             ],
             [
              0.7777777777777778,
              "#fb9f3a"
             ],
             [
              0.8888888888888888,
              "#fdca26"
             ],
             [
              1,
              "#f0f921"
             ]
            ],
            "type": "histogram2d"
           }
          ],
          "histogram2dcontour": [
           {
            "colorbar": {
             "outlinewidth": 0,
             "ticks": ""
            },
            "colorscale": [
             [
              0,
              "#0d0887"
             ],
             [
              0.1111111111111111,
              "#46039f"
             ],
             [
              0.2222222222222222,
              "#7201a8"
             ],
             [
              0.3333333333333333,
              "#9c179e"
             ],
             [
              0.4444444444444444,
              "#bd3786"
             ],
             [
              0.5555555555555556,
              "#d8576b"
             ],
             [
              0.6666666666666666,
              "#ed7953"
             ],
             [
              0.7777777777777778,
              "#fb9f3a"
             ],
             [
              0.8888888888888888,
              "#fdca26"
             ],
             [
              1,
              "#f0f921"
             ]
            ],
            "type": "histogram2dcontour"
           }
          ],
          "mesh3d": [
           {
            "colorbar": {
             "outlinewidth": 0,
             "ticks": ""
            },
            "type": "mesh3d"
           }
          ],
          "parcoords": [
           {
            "line": {
             "colorbar": {
              "outlinewidth": 0,
              "ticks": ""
             }
            },
            "type": "parcoords"
           }
          ],
          "pie": [
           {
            "automargin": true,
            "type": "pie"
           }
          ],
          "scatter": [
           {
            "fillpattern": {
             "fillmode": "overlay",
             "size": 10,
             "solidity": 0.2
            },
            "type": "scatter"
           }
          ],
          "scatter3d": [
           {
            "line": {
             "colorbar": {
              "outlinewidth": 0,
              "ticks": ""
             }
            },
            "marker": {
             "colorbar": {
              "outlinewidth": 0,
              "ticks": ""
             }
            },
            "type": "scatter3d"
           }
          ],
          "scattercarpet": [
           {
            "marker": {
             "colorbar": {
              "outlinewidth": 0,
              "ticks": ""
             }
            },
            "type": "scattercarpet"
           }
          ],
          "scattergeo": [
           {
            "marker": {
             "colorbar": {
              "outlinewidth": 0,
              "ticks": ""
             }
            },
            "type": "scattergeo"
           }
          ],
          "scattergl": [
           {
            "marker": {
             "colorbar": {
              "outlinewidth": 0,
              "ticks": ""
             }
            },
            "type": "scattergl"
           }
          ],
          "scattermapbox": [
           {
            "marker": {
             "colorbar": {
              "outlinewidth": 0,
              "ticks": ""
             }
            },
            "type": "scattermapbox"
           }
          ],
          "scatterpolar": [
           {
            "marker": {
             "colorbar": {
              "outlinewidth": 0,
              "ticks": ""
             }
            },
            "type": "scatterpolar"
           }
          ],
          "scatterpolargl": [
           {
            "marker": {
             "colorbar": {
              "outlinewidth": 0,
              "ticks": ""
             }
            },
            "type": "scatterpolargl"
           }
          ],
          "scatterternary": [
           {
            "marker": {
             "colorbar": {
              "outlinewidth": 0,
              "ticks": ""
             }
            },
            "type": "scatterternary"
           }
          ],
          "surface": [
           {
            "colorbar": {
             "outlinewidth": 0,
             "ticks": ""
            },
            "colorscale": [
             [
              0,
              "#0d0887"
             ],
             [
              0.1111111111111111,
              "#46039f"
             ],
             [
              0.2222222222222222,
              "#7201a8"
             ],
             [
              0.3333333333333333,
              "#9c179e"
             ],
             [
              0.4444444444444444,
              "#bd3786"
             ],
             [
              0.5555555555555556,
              "#d8576b"
             ],
             [
              0.6666666666666666,
              "#ed7953"
             ],
             [
              0.7777777777777778,
              "#fb9f3a"
             ],
             [
              0.8888888888888888,
              "#fdca26"
             ],
             [
              1,
              "#f0f921"
             ]
            ],
            "type": "surface"
           }
          ],
          "table": [
           {
            "cells": {
             "fill": {
              "color": "#EBF0F8"
             },
             "line": {
              "color": "white"
             }
            },
            "header": {
             "fill": {
              "color": "#C8D4E3"
             },
             "line": {
              "color": "white"
             }
            },
            "type": "table"
           }
          ]
         },
         "layout": {
          "annotationdefaults": {
           "arrowcolor": "#2a3f5f",
           "arrowhead": 0,
           "arrowwidth": 1
          },
          "autotypenumbers": "strict",
          "coloraxis": {
           "colorbar": {
            "outlinewidth": 0,
            "ticks": ""
           }
          },
          "colorscale": {
           "diverging": [
            [
             0,
             "#8e0152"
            ],
            [
             0.1,
             "#c51b7d"
            ],
            [
             0.2,
             "#de77ae"
            ],
            [
             0.3,
             "#f1b6da"
            ],
            [
             0.4,
             "#fde0ef"
            ],
            [
             0.5,
             "#f7f7f7"
            ],
            [
             0.6,
             "#e6f5d0"
            ],
            [
             0.7,
             "#b8e186"
            ],
            [
             0.8,
             "#7fbc41"
            ],
            [
             0.9,
             "#4d9221"
            ],
            [
             1,
             "#276419"
            ]
           ],
           "sequential": [
            [
             0,
             "#0d0887"
            ],
            [
             0.1111111111111111,
             "#46039f"
            ],
            [
             0.2222222222222222,
             "#7201a8"
            ],
            [
             0.3333333333333333,
             "#9c179e"
            ],
            [
             0.4444444444444444,
             "#bd3786"
            ],
            [
             0.5555555555555556,
             "#d8576b"
            ],
            [
             0.6666666666666666,
             "#ed7953"
            ],
            [
             0.7777777777777778,
             "#fb9f3a"
            ],
            [
             0.8888888888888888,
             "#fdca26"
            ],
            [
             1,
             "#f0f921"
            ]
           ],
           "sequentialminus": [
            [
             0,
             "#0d0887"
            ],
            [
             0.1111111111111111,
             "#46039f"
            ],
            [
             0.2222222222222222,
             "#7201a8"
            ],
            [
             0.3333333333333333,
             "#9c179e"
            ],
            [
             0.4444444444444444,
             "#bd3786"
            ],
            [
             0.5555555555555556,
             "#d8576b"
            ],
            [
             0.6666666666666666,
             "#ed7953"
            ],
            [
             0.7777777777777778,
             "#fb9f3a"
            ],
            [
             0.8888888888888888,
             "#fdca26"
            ],
            [
             1,
             "#f0f921"
            ]
           ]
          },
          "colorway": [
           "#636efa",
           "#EF553B",
           "#00cc96",
           "#ab63fa",
           "#FFA15A",
           "#19d3f3",
           "#FF6692",
           "#B6E880",
           "#FF97FF",
           "#FECB52"
          ],
          "font": {
           "color": "#2a3f5f"
          },
          "geo": {
           "bgcolor": "white",
           "lakecolor": "white",
           "landcolor": "#E5ECF6",
           "showlakes": true,
           "showland": true,
           "subunitcolor": "white"
          },
          "hoverlabel": {
           "align": "left"
          },
          "hovermode": "closest",
          "mapbox": {
           "style": "light"
          },
          "paper_bgcolor": "white",
          "plot_bgcolor": "#E5ECF6",
          "polar": {
           "angularaxis": {
            "gridcolor": "white",
            "linecolor": "white",
            "ticks": ""
           },
           "bgcolor": "#E5ECF6",
           "radialaxis": {
            "gridcolor": "white",
            "linecolor": "white",
            "ticks": ""
           }
          },
          "scene": {
           "xaxis": {
            "backgroundcolor": "#E5ECF6",
            "gridcolor": "white",
            "gridwidth": 2,
            "linecolor": "white",
            "showbackground": true,
            "ticks": "",
            "zerolinecolor": "white"
           },
           "yaxis": {
            "backgroundcolor": "#E5ECF6",
            "gridcolor": "white",
            "gridwidth": 2,
            "linecolor": "white",
            "showbackground": true,
            "ticks": "",
            "zerolinecolor": "white"
           },
           "zaxis": {
            "backgroundcolor": "#E5ECF6",
            "gridcolor": "white",
            "gridwidth": 2,
            "linecolor": "white",
            "showbackground": true,
            "ticks": "",
            "zerolinecolor": "white"
           }
          },
          "shapedefaults": {
           "line": {
            "color": "#2a3f5f"
           }
          },
          "ternary": {
           "aaxis": {
            "gridcolor": "white",
            "linecolor": "white",
            "ticks": ""
           },
           "baxis": {
            "gridcolor": "white",
            "linecolor": "white",
            "ticks": ""
           },
           "bgcolor": "#E5ECF6",
           "caxis": {
            "gridcolor": "white",
            "linecolor": "white",
            "ticks": ""
           }
          },
          "title": {
           "x": 0.05
          },
          "xaxis": {
           "automargin": true,
           "gridcolor": "white",
           "linecolor": "white",
           "ticks": "",
           "title": {
            "standoff": 15
           },
           "zerolinecolor": "white",
           "zerolinewidth": 2
          },
          "yaxis": {
           "automargin": true,
           "gridcolor": "white",
           "linecolor": "white",
           "ticks": "",
           "title": {
            "standoff": 15
           },
           "zerolinecolor": "white",
           "zerolinewidth": 2
          }
         }
        },
        "xaxis": {
         "anchor": "y",
         "categoryarray": [
          "PushEvent",
          "IssueCommentEvent",
          "PullRequestReviewEvent",
          "PullRequestEvent",
          "PullRequestReviewCommentEvent",
          "CreateEvent",
          "WatchEvent",
          "IssuesEvent",
          "DeleteEvent",
          "ForkEvent",
          "ReleaseEvent",
          "GollumEvent",
          "MemberEvent",
          "PublicEvent",
          "CommitCommentEvent"
         ],
         "categoryorder": "array",
         "domain": [
          0,
          1
         ],
         "title": {
          "text": "Kind of Event"
         }
        },
        "yaxis": {
         "anchor": "x",
         "domain": [
          0,
          1
         ],
         "title": {
          "text": "# Events"
         }
        }
       }
      }
     },
     "metadata": {},
     "output_type": "display_data"
    }
   ],
   "source": [
    "kc_event_counts = df_known_event_stream.event_type.value_counts()\n",
    "fig_kec = px.bar(\n",
    "    data_frame=kc_event_counts.to_frame(),\n",
    "    color=kc_event_counts.to_frame().index,\n",
    "    labels={\n",
    "                     \"value\": \"# Events\",\n",
    "                     \"event_type\": \"Kind of Event\"\n",
    "                 },\n",
    ")\n",
    "fig_kec.update_layout(showlegend=False)\n",
    "fig_kec.write_image(\"knowncontributors_eventcount.png\")\n",
    "fig_kec"
   ]
  },
  {
   "cell_type": "code",
   "execution_count": 18,
   "metadata": {},
   "outputs": [
    {
     "data": {
      "image/png": "[encoded data removed]",
      "text/plain": [
       "<IPython.core.display.Image object>"
      ]
     },
     "execution_count": 18,
     "metadata": {},
     "output_type": "execute_result"
    }
   ],
   "source": [
    "Image(\"knowncontributors_eventcount.png\")"
   ]
  },
  {
   "cell_type": "markdown",
   "metadata": {},
   "source": [
    "### Most common repositories among known contributors"
   ]
  },
  {
   "cell_type": "markdown",
   "metadata": {},
   "source": [
    "Let's create a bar chart that visualizes the number of events contributed by known contributors to various repositories. The chart displays the top 50 repositories based on the number of contributor events. We are considering top 50 repositories based on the number of events as they have good number of events.\n",
    "\n",
    "- Data Source: The data is sourced from the `kc_repo_event_counts` DataFrame, which counts the number of events associated with each repository URL contributed by known contributors.\n",
    "- Color Encoding: Each bar is colored according to the repository URL, making it easy to distinguish between different repositories.\n",
    "- Labels: The y-axis is labeled as `# Contributor Events`, representing the count of events per repository, and the x-axis is labeled as `Repository URL` to identify the repositories."
   ]
  },
  {
   "cell_type": "code",
   "execution_count": 19,
   "metadata": {},
   "outputs": [
    {
     "data": {
      "application/vnd.plotly.v1+json": {
       "config": {
        "plotlyServerURL": "https://plot.ly"
       },
       "data": [
        {
         "alignmentgroup": "True",
         "hovertemplate": "color=https://api.github.com/repos/pytorch/pytorch<br>Repository URL=%{x}<br># Contributor Events=%{y}<extra></extra>",
         "legendgroup": "https://api.github.com/repos/pytorch/pytorch",
         "marker": {
          "color": "#636efa",
          "pattern": {
           "shape": ""
          }
         },
         "name": "https://api.github.com/repos/pytorch/pytorch",
         "offsetgroup": "https://api.github.com/repos/pytorch/pytorch",
         "orientation": "v",
         "showlegend": true,
         "textposition": "auto",
         "type": "bar",
         "x": [
          "https://api.github.com/repos/pytorch/pytorch"
         ],
         "xaxis": "x",
         "y": [
          46056
         ],
         "yaxis": "y"
        },
        {
         "alignmentgroup": "True",
         "hovertemplate": "color=https://api.github.com/repos/pytorch/executorch<br>Repository URL=%{x}<br># Contributor Events=%{y}<extra></extra>",
         "legendgroup": "https://api.github.com/repos/pytorch/executorch",
         "marker": {
          "color": "#EF553B",
          "pattern": {
           "shape": ""
          }
         },
         "name": "https://api.github.com/repos/pytorch/executorch",
         "offsetgroup": "https://api.github.com/repos/pytorch/executorch",
         "orientation": "v",
         "showlegend": true,
         "textposition": "auto",
         "type": "bar",
         "x": [
          "https://api.github.com/repos/pytorch/executorch"
         ],
         "xaxis": "x",
         "y": [
          5458
         ],
         "yaxis": "y"
        },
        {
         "alignmentgroup": "True",
         "hovertemplate": "color=https://api.github.com/repos/llvm/llvm-project<br>Repository URL=%{x}<br># Contributor Events=%{y}<extra></extra>",
         "legendgroup": "https://api.github.com/repos/llvm/llvm-project",
         "marker": {
          "color": "#00cc96",
          "pattern": {
           "shape": ""
          }
         },
         "name": "https://api.github.com/repos/llvm/llvm-project",
         "offsetgroup": "https://api.github.com/repos/llvm/llvm-project",
         "orientation": "v",
         "showlegend": true,
         "textposition": "auto",
         "type": "bar",
         "x": [
          "https://api.github.com/repos/llvm/llvm-project"
         ],
         "xaxis": "x",
         "y": [
          4918
         ],
         "yaxis": "y"
        },
        {
         "alignmentgroup": "True",
         "hovertemplate": "color=https://api.github.com/repos/openxla/xla<br>Repository URL=%{x}<br># Contributor Events=%{y}<extra></extra>",
         "legendgroup": "https://api.github.com/repos/openxla/xla",
         "marker": {
          "color": "#ab63fa",
          "pattern": {
           "shape": ""
          }
         },
         "name": "https://api.github.com/repos/openxla/xla",
         "offsetgroup": "https://api.github.com/repos/openxla/xla",
         "orientation": "v",
         "showlegend": true,
         "textposition": "auto",
         "type": "bar",
         "x": [
          "https://api.github.com/repos/openxla/xla"
         ],
         "xaxis": "x",
         "y": [
          3518
         ],
         "yaxis": "y"
        },
        {
         "alignmentgroup": "True",
         "hovertemplate": "color=https://api.github.com/repos/Lightning-AI/lightning-thunder<br>Repository URL=%{x}<br># Contributor Events=%{y}<extra></extra>",
         "legendgroup": "https://api.github.com/repos/Lightning-AI/lightning-thunder",
         "marker": {
          "color": "#FFA15A",
          "pattern": {
           "shape": ""
          }
         },
         "name": "https://api.github.com/repos/Lightning-AI/lightning-thunder",
         "offsetgroup": "https://api.github.com/repos/Lightning-AI/lightning-thunder",
         "orientation": "v",
         "showlegend": true,
         "textposition": "auto",
         "type": "bar",
         "x": [
          "https://api.github.com/repos/Lightning-AI/lightning-thunder"
         ],
         "xaxis": "x",
         "y": [
          3344
         ],
         "yaxis": "y"
        },
        {
         "alignmentgroup": "True",
         "hovertemplate": "color=https://api.github.com/repos/tinygrad/tinygrad<br>Repository URL=%{x}<br># Contributor Events=%{y}<extra></extra>",
         "legendgroup": "https://api.github.com/repos/tinygrad/tinygrad",
         "marker": {
          "color": "#19d3f3",
          "pattern": {
           "shape": ""
          }
         },
         "name": "https://api.github.com/repos/tinygrad/tinygrad",
         "offsetgroup": "https://api.github.com/repos/tinygrad/tinygrad",
         "orientation": "v",
         "showlegend": true,
         "textposition": "auto",
         "type": "bar",
         "x": [
          "https://api.github.com/repos/tinygrad/tinygrad"
         ],
         "xaxis": "x",
         "y": [
          3283
         ],
         "yaxis": "y"
        },
        {
         "alignmentgroup": "True",
         "hovertemplate": "color=https://api.github.com/repos/pytorch/xla<br>Repository URL=%{x}<br># Contributor Events=%{y}<extra></extra>",
         "legendgroup": "https://api.github.com/repos/pytorch/xla",
         "marker": {
          "color": "#FF6692",
          "pattern": {
           "shape": ""
          }
         },
         "name": "https://api.github.com/repos/pytorch/xla",
         "offsetgroup": "https://api.github.com/repos/pytorch/xla",
         "orientation": "v",
         "showlegend": true,
         "textposition": "auto",
         "type": "bar",
         "x": [
          "https://api.github.com/repos/pytorch/xla"
         ],
         "xaxis": "x",
         "y": [
          3152
         ],
         "yaxis": "y"
        },
        {
         "alignmentgroup": "True",
         "hovertemplate": "color=https://api.github.com/repos/google/jax<br>Repository URL=%{x}<br># Contributor Events=%{y}<extra></extra>",
         "legendgroup": "https://api.github.com/repos/google/jax",
         "marker": {
          "color": "#B6E880",
          "pattern": {
           "shape": ""
          }
         },
         "name": "https://api.github.com/repos/google/jax",
         "offsetgroup": "https://api.github.com/repos/google/jax",
         "orientation": "v",
         "showlegend": true,
         "textposition": "auto",
         "type": "bar",
         "x": [
          "https://api.github.com/repos/google/jax"
         ],
         "xaxis": "x",
         "y": [
          3001
         ],
         "yaxis": "y"
        },
        {
         "alignmentgroup": "True",
         "hovertemplate": "color=https://api.github.com/repos/pytorch/ao<br>Repository URL=%{x}<br># Contributor Events=%{y}<extra></extra>",
         "legendgroup": "https://api.github.com/repos/pytorch/ao",
         "marker": {
          "color": "#FF97FF",
          "pattern": {
           "shape": ""
          }
         },
         "name": "https://api.github.com/repos/pytorch/ao",
         "offsetgroup": "https://api.github.com/repos/pytorch/ao",
         "orientation": "v",
         "showlegend": true,
         "textposition": "auto",
         "type": "bar",
         "x": [
          "https://api.github.com/repos/pytorch/ao"
         ],
         "xaxis": "x",
         "y": [
          2993
         ],
         "yaxis": "y"
        },
        {
         "alignmentgroup": "True",
         "hovertemplate": "color=https://api.github.com/repos/numpy/numpy<br>Repository URL=%{x}<br># Contributor Events=%{y}<extra></extra>",
         "legendgroup": "https://api.github.com/repos/numpy/numpy",
         "marker": {
          "color": "#FECB52",
          "pattern": {
           "shape": ""
          }
         },
         "name": "https://api.github.com/repos/numpy/numpy",
         "offsetgroup": "https://api.github.com/repos/numpy/numpy",
         "orientation": "v",
         "showlegend": true,
         "textposition": "auto",
         "type": "bar",
         "x": [
          "https://api.github.com/repos/numpy/numpy"
         ],
         "xaxis": "x",
         "y": [
          2951
         ],
         "yaxis": "y"
        },
        {
         "alignmentgroup": "True",
         "hovertemplate": "color=https://api.github.com/repos/NVIDIA/Fuser<br>Repository URL=%{x}<br># Contributor Events=%{y}<extra></extra>",
         "legendgroup": "https://api.github.com/repos/NVIDIA/Fuser",
         "marker": {
          "color": "#636efa",
          "pattern": {
           "shape": ""
          }
         },
         "name": "https://api.github.com/repos/NVIDIA/Fuser",
         "offsetgroup": "https://api.github.com/repos/NVIDIA/Fuser",
         "orientation": "v",
         "showlegend": true,
         "textposition": "auto",
         "type": "bar",
         "x": [
          "https://api.github.com/repos/NVIDIA/Fuser"
         ],
         "xaxis": "x",
         "y": [
          2804
         ],
         "yaxis": "y"
        },
        {
         "alignmentgroup": "True",
         "hovertemplate": "color=https://api.github.com/repos/vllm-project/vllm<br>Repository URL=%{x}<br># Contributor Events=%{y}<extra></extra>",
         "legendgroup": "https://api.github.com/repos/vllm-project/vllm",
         "marker": {
          "color": "#EF553B",
          "pattern": {
           "shape": ""
          }
         },
         "name": "https://api.github.com/repos/vllm-project/vllm",
         "offsetgroup": "https://api.github.com/repos/vllm-project/vllm",
         "orientation": "v",
         "showlegend": true,
         "textposition": "auto",
         "type": "bar",
         "x": [
          "https://api.github.com/repos/vllm-project/vllm"
         ],
         "xaxis": "x",
         "y": [
          2769
         ],
         "yaxis": "y"
        },
        {
         "alignmentgroup": "True",
         "hovertemplate": "color=https://api.github.com/repos/scipy/scipy<br>Repository URL=%{x}<br># Contributor Events=%{y}<extra></extra>",
         "legendgroup": "https://api.github.com/repos/scipy/scipy",
         "marker": {
          "color": "#00cc96",
          "pattern": {
           "shape": ""
          }
         },
         "name": "https://api.github.com/repos/scipy/scipy",
         "offsetgroup": "https://api.github.com/repos/scipy/scipy",
         "orientation": "v",
         "showlegend": true,
         "textposition": "auto",
         "type": "bar",
         "x": [
          "https://api.github.com/repos/scipy/scipy"
         ],
         "xaxis": "x",
         "y": [
          2478
         ],
         "yaxis": "y"
        },
        {
         "alignmentgroup": "True",
         "hovertemplate": "color=https://api.github.com/repos/NixOS/nixpkgs<br>Repository URL=%{x}<br># Contributor Events=%{y}<extra></extra>",
         "legendgroup": "https://api.github.com/repos/NixOS/nixpkgs",
         "marker": {
          "color": "#ab63fa",
          "pattern": {
           "shape": ""
          }
         },
         "name": "https://api.github.com/repos/NixOS/nixpkgs",
         "offsetgroup": "https://api.github.com/repos/NixOS/nixpkgs",
         "orientation": "v",
         "showlegend": true,
         "textposition": "auto",
         "type": "bar",
         "x": [
          "https://api.github.com/repos/NixOS/nixpkgs"
         ],
         "xaxis": "x",
         "y": [
          2306
         ],
         "yaxis": "y"
        },
        {
         "alignmentgroup": "True",
         "hovertemplate": "color=https://api.github.com/repos/tensorflow/tensorflow<br>Repository URL=%{x}<br># Contributor Events=%{y}<extra></extra>",
         "legendgroup": "https://api.github.com/repos/tensorflow/tensorflow",
         "marker": {
          "color": "#FFA15A",
          "pattern": {
           "shape": ""
          }
         },
         "name": "https://api.github.com/repos/tensorflow/tensorflow",
         "offsetgroup": "https://api.github.com/repos/tensorflow/tensorflow",
         "orientation": "v",
         "showlegend": true,
         "textposition": "auto",
         "type": "bar",
         "x": [
          "https://api.github.com/repos/tensorflow/tensorflow"
         ],
         "xaxis": "x",
         "y": [
          2306
         ],
         "yaxis": "y"
        },
        {
         "alignmentgroup": "True",
         "hovertemplate": "color=https://api.github.com/repos/python/cpython<br>Repository URL=%{x}<br># Contributor Events=%{y}<extra></extra>",
         "legendgroup": "https://api.github.com/repos/python/cpython",
         "marker": {
          "color": "#19d3f3",
          "pattern": {
           "shape": ""
          }
         },
         "name": "https://api.github.com/repos/python/cpython",
         "offsetgroup": "https://api.github.com/repos/python/cpython",
         "orientation": "v",
         "showlegend": true,
         "textposition": "auto",
         "type": "bar",
         "x": [
          "https://api.github.com/repos/python/cpython"
         ],
         "xaxis": "x",
         "y": [
          2142
         ],
         "yaxis": "y"
        },
        {
         "alignmentgroup": "True",
         "hovertemplate": "color=https://api.github.com/repos/huggingface/transformers<br>Repository URL=%{x}<br># Contributor Events=%{y}<extra></extra>",
         "legendgroup": "https://api.github.com/repos/huggingface/transformers",
         "marker": {
          "color": "#FF6692",
          "pattern": {
           "shape": ""
          }
         },
         "name": "https://api.github.com/repos/huggingface/transformers",
         "offsetgroup": "https://api.github.com/repos/huggingface/transformers",
         "orientation": "v",
         "showlegend": true,
         "textposition": "auto",
         "type": "bar",
         "x": [
          "https://api.github.com/repos/huggingface/transformers"
         ],
         "xaxis": "x",
         "y": [
          2121
         ],
         "yaxis": "y"
        },
        {
         "alignmentgroup": "True",
         "hovertemplate": "color=https://api.github.com/repos/microsoft/onnxruntime<br>Repository URL=%{x}<br># Contributor Events=%{y}<extra></extra>",
         "legendgroup": "https://api.github.com/repos/microsoft/onnxruntime",
         "marker": {
          "color": "#B6E880",
          "pattern": {
           "shape": ""
          }
         },
         "name": "https://api.github.com/repos/microsoft/onnxruntime",
         "offsetgroup": "https://api.github.com/repos/microsoft/onnxruntime",
         "orientation": "v",
         "showlegend": true,
         "textposition": "auto",
         "type": "bar",
         "x": [
          "https://api.github.com/repos/microsoft/onnxruntime"
         ],
         "xaxis": "x",
         "y": [
          1977
         ],
         "yaxis": "y"
        },
        {
         "alignmentgroup": "True",
         "hovertemplate": "color=https://api.github.com/repos/scikit-learn/scikit-learn<br>Repository URL=%{x}<br># Contributor Events=%{y}<extra></extra>",
         "legendgroup": "https://api.github.com/repos/scikit-learn/scikit-learn",
         "marker": {
          "color": "#FF97FF",
          "pattern": {
           "shape": ""
          }
         },
         "name": "https://api.github.com/repos/scikit-learn/scikit-learn",
         "offsetgroup": "https://api.github.com/repos/scikit-learn/scikit-learn",
         "orientation": "v",
         "showlegend": true,
         "textposition": "auto",
         "type": "bar",
         "x": [
          "https://api.github.com/repos/scikit-learn/scikit-learn"
         ],
         "xaxis": "x",
         "y": [
          1883
         ],
         "yaxis": "y"
        },
        {
         "alignmentgroup": "True",
         "hovertemplate": "color=https://api.github.com/repos/pytorch/test-infra<br>Repository URL=%{x}<br># Contributor Events=%{y}<extra></extra>",
         "legendgroup": "https://api.github.com/repos/pytorch/test-infra",
         "marker": {
          "color": "#FECB52",
          "pattern": {
           "shape": ""
          }
         },
         "name": "https://api.github.com/repos/pytorch/test-infra",
         "offsetgroup": "https://api.github.com/repos/pytorch/test-infra",
         "orientation": "v",
         "showlegend": true,
         "textposition": "auto",
         "type": "bar",
         "x": [
          "https://api.github.com/repos/pytorch/test-infra"
         ],
         "xaxis": "x",
         "y": [
          1478
         ],
         "yaxis": "y"
        },
        {
         "alignmentgroup": "True",
         "hovertemplate": "color=https://api.github.com/repos/matplotlib/matplotlib<br>Repository URL=%{x}<br># Contributor Events=%{y}<extra></extra>",
         "legendgroup": "https://api.github.com/repos/matplotlib/matplotlib",
         "marker": {
          "color": "#636efa",
          "pattern": {
           "shape": ""
          }
         },
         "name": "https://api.github.com/repos/matplotlib/matplotlib",
         "offsetgroup": "https://api.github.com/repos/matplotlib/matplotlib",
         "orientation": "v",
         "showlegend": true,
         "textposition": "auto",
         "type": "bar",
         "x": [
          "https://api.github.com/repos/matplotlib/matplotlib"
         ],
         "xaxis": "x",
         "y": [
          1345
         ],
         "yaxis": "y"
        },
        {
         "alignmentgroup": "True",
         "hovertemplate": "color=https://api.github.com/repos/openxla/stablehlo<br>Repository URL=%{x}<br># Contributor Events=%{y}<extra></extra>",
         "legendgroup": "https://api.github.com/repos/openxla/stablehlo",
         "marker": {
          "color": "#EF553B",
          "pattern": {
           "shape": ""
          }
         },
         "name": "https://api.github.com/repos/openxla/stablehlo",
         "offsetgroup": "https://api.github.com/repos/openxla/stablehlo",
         "orientation": "v",
         "showlegend": true,
         "textposition": "auto",
         "type": "bar",
         "x": [
          "https://api.github.com/repos/openxla/stablehlo"
         ],
         "xaxis": "x",
         "y": [
          1265
         ],
         "yaxis": "y"
        },
        {
         "alignmentgroup": "True",
         "hovertemplate": "color=https://api.github.com/repos/pytorch/TensorRT<br>Repository URL=%{x}<br># Contributor Events=%{y}<extra></extra>",
         "legendgroup": "https://api.github.com/repos/pytorch/TensorRT",
         "marker": {
          "color": "#00cc96",
          "pattern": {
           "shape": ""
          }
         },
         "name": "https://api.github.com/repos/pytorch/TensorRT",
         "offsetgroup": "https://api.github.com/repos/pytorch/TensorRT",
         "orientation": "v",
         "showlegend": true,
         "textposition": "auto",
         "type": "bar",
         "x": [
          "https://api.github.com/repos/pytorch/TensorRT"
         ],
         "xaxis": "x",
         "y": [
          1236
         ],
         "yaxis": "y"
        },
        {
         "alignmentgroup": "True",
         "hovertemplate": "color=https://api.github.com/repos/pytorch/torchtitan<br>Repository URL=%{x}<br># Contributor Events=%{y}<extra></extra>",
         "legendgroup": "https://api.github.com/repos/pytorch/torchtitan",
         "marker": {
          "color": "#ab63fa",
          "pattern": {
           "shape": ""
          }
         },
         "name": "https://api.github.com/repos/pytorch/torchtitan",
         "offsetgroup": "https://api.github.com/repos/pytorch/torchtitan",
         "orientation": "v",
         "showlegend": true,
         "textposition": "auto",
         "type": "bar",
         "x": [
          "https://api.github.com/repos/pytorch/torchtitan"
         ],
         "xaxis": "x",
         "y": [
          1224
         ],
         "yaxis": "y"
        },
        {
         "alignmentgroup": "True",
         "hovertemplate": "color=https://api.github.com/repos/apache/arrow<br>Repository URL=%{x}<br># Contributor Events=%{y}<extra></extra>",
         "legendgroup": "https://api.github.com/repos/apache/arrow",
         "marker": {
          "color": "#FFA15A",
          "pattern": {
           "shape": ""
          }
         },
         "name": "https://api.github.com/repos/apache/arrow",
         "offsetgroup": "https://api.github.com/repos/apache/arrow",
         "orientation": "v",
         "showlegend": true,
         "textposition": "auto",
         "type": "bar",
         "x": [
          "https://api.github.com/repos/apache/arrow"
         ],
         "xaxis": "x",
         "y": [
          1163
         ],
         "yaxis": "y"
        },
        {
         "alignmentgroup": "True",
         "hovertemplate": "color=https://api.github.com/repos/pandas-dev/pandas<br>Repository URL=%{x}<br># Contributor Events=%{y}<extra></extra>",
         "legendgroup": "https://api.github.com/repos/pandas-dev/pandas",
         "marker": {
          "color": "#19d3f3",
          "pattern": {
           "shape": ""
          }
         },
         "name": "https://api.github.com/repos/pandas-dev/pandas",
         "offsetgroup": "https://api.github.com/repos/pandas-dev/pandas",
         "orientation": "v",
         "showlegend": true,
         "textposition": "auto",
         "type": "bar",
         "x": [
          "https://api.github.com/repos/pandas-dev/pandas"
         ],
         "xaxis": "x",
         "y": [
          1135
         ],
         "yaxis": "y"
        },
        {
         "alignmentgroup": "True",
         "hovertemplate": "color=https://api.github.com/repos/astropy/astropy<br>Repository URL=%{x}<br># Contributor Events=%{y}<extra></extra>",
         "legendgroup": "https://api.github.com/repos/astropy/astropy",
         "marker": {
          "color": "#FF6692",
          "pattern": {
           "shape": ""
          }
         },
         "name": "https://api.github.com/repos/astropy/astropy",
         "offsetgroup": "https://api.github.com/repos/astropy/astropy",
         "orientation": "v",
         "showlegend": true,
         "textposition": "auto",
         "type": "bar",
         "x": [
          "https://api.github.com/repos/astropy/astropy"
         ],
         "xaxis": "x",
         "y": [
          1099
         ],
         "yaxis": "y"
        },
        {
         "alignmentgroup": "True",
         "hovertemplate": "color=https://api.github.com/repos/PaddlePaddle/Paddle<br>Repository URL=%{x}<br># Contributor Events=%{y}<extra></extra>",
         "legendgroup": "https://api.github.com/repos/PaddlePaddle/Paddle",
         "marker": {
          "color": "#B6E880",
          "pattern": {
           "shape": ""
          }
         },
         "name": "https://api.github.com/repos/PaddlePaddle/Paddle",
         "offsetgroup": "https://api.github.com/repos/PaddlePaddle/Paddle",
         "orientation": "v",
         "showlegend": true,
         "textposition": "auto",
         "type": "bar",
         "x": [
          "https://api.github.com/repos/PaddlePaddle/Paddle"
         ],
         "xaxis": "x",
         "y": [
          1082
         ],
         "yaxis": "y"
        },
        {
         "alignmentgroup": "True",
         "hovertemplate": "color=https://api.github.com/repos/keras-team/keras<br>Repository URL=%{x}<br># Contributor Events=%{y}<extra></extra>",
         "legendgroup": "https://api.github.com/repos/keras-team/keras",
         "marker": {
          "color": "#FF97FF",
          "pattern": {
           "shape": ""
          }
         },
         "name": "https://api.github.com/repos/keras-team/keras",
         "offsetgroup": "https://api.github.com/repos/keras-team/keras",
         "orientation": "v",
         "showlegend": true,
         "textposition": "auto",
         "type": "bar",
         "x": [
          "https://api.github.com/repos/keras-team/keras"
         ],
         "xaxis": "x",
         "y": [
          1064
         ],
         "yaxis": "y"
        },
        {
         "alignmentgroup": "True",
         "hovertemplate": "color=https://api.github.com/repos/Lightning-AI/pytorch-lightning<br>Repository URL=%{x}<br># Contributor Events=%{y}<extra></extra>",
         "legendgroup": "https://api.github.com/repos/Lightning-AI/pytorch-lightning",
         "marker": {
          "color": "#FECB52",
          "pattern": {
           "shape": ""
          }
         },
         "name": "https://api.github.com/repos/Lightning-AI/pytorch-lightning",
         "offsetgroup": "https://api.github.com/repos/Lightning-AI/pytorch-lightning",
         "orientation": "v",
         "showlegend": true,
         "textposition": "auto",
         "type": "bar",
         "x": [
          "https://api.github.com/repos/Lightning-AI/pytorch-lightning"
         ],
         "xaxis": "x",
         "y": [
          996
         ],
         "yaxis": "y"
        },
        {
         "alignmentgroup": "True",
         "hovertemplate": "color=https://api.github.com/repos/wrmsr/omlish<br>Repository URL=%{x}<br># Contributor Events=%{y}<extra></extra>",
         "legendgroup": "https://api.github.com/repos/wrmsr/omlish",
         "marker": {
          "color": "#636efa",
          "pattern": {
           "shape": ""
          }
         },
         "name": "https://api.github.com/repos/wrmsr/omlish",
         "offsetgroup": "https://api.github.com/repos/wrmsr/omlish",
         "orientation": "v",
         "showlegend": true,
         "textposition": "auto",
         "type": "bar",
         "x": [
          "https://api.github.com/repos/wrmsr/omlish"
         ],
         "xaxis": "x",
         "y": [
          981
         ],
         "yaxis": "y"
        },
        {
         "alignmentgroup": "True",
         "hovertemplate": "color=https://api.github.com/repos/triton-lang/triton<br>Repository URL=%{x}<br># Contributor Events=%{y}<extra></extra>",
         "legendgroup": "https://api.github.com/repos/triton-lang/triton",
         "marker": {
          "color": "#EF553B",
          "pattern": {
           "shape": ""
          }
         },
         "name": "https://api.github.com/repos/triton-lang/triton",
         "offsetgroup": "https://api.github.com/repos/triton-lang/triton",
         "orientation": "v",
         "showlegend": true,
         "textposition": "auto",
         "type": "bar",
         "x": [
          "https://api.github.com/repos/triton-lang/triton"
         ],
         "xaxis": "x",
         "y": [
          977
         ],
         "yaxis": "y"
        },
        {
         "alignmentgroup": "True",
         "hovertemplate": "color=https://api.github.com/repos/llvm/torch-mlir<br>Repository URL=%{x}<br># Contributor Events=%{y}<extra></extra>",
         "legendgroup": "https://api.github.com/repos/llvm/torch-mlir",
         "marker": {
          "color": "#00cc96",
          "pattern": {
           "shape": ""
          }
         },
         "name": "https://api.github.com/repos/llvm/torch-mlir",
         "offsetgroup": "https://api.github.com/repos/llvm/torch-mlir",
         "orientation": "v",
         "showlegend": true,
         "textposition": "auto",
         "type": "bar",
         "x": [
          "https://api.github.com/repos/llvm/torch-mlir"
         ],
         "xaxis": "x",
         "y": [
          966
         ],
         "yaxis": "y"
        },
        {
         "alignmentgroup": "True",
         "hovertemplate": "color=https://api.github.com/repos/intel/intel-xpu-backend-for-triton<br>Repository URL=%{x}<br># Contributor Events=%{y}<extra></extra>",
         "legendgroup": "https://api.github.com/repos/intel/intel-xpu-backend-for-triton",
         "marker": {
          "color": "#ab63fa",
          "pattern": {
           "shape": ""
          }
         },
         "name": "https://api.github.com/repos/intel/intel-xpu-backend-for-triton",
         "offsetgroup": "https://api.github.com/repos/intel/intel-xpu-backend-for-triton",
         "orientation": "v",
         "showlegend": true,
         "textposition": "auto",
         "type": "bar",
         "x": [
          "https://api.github.com/repos/intel/intel-xpu-backend-for-triton"
         ],
         "xaxis": "x",
         "y": [
          955
         ],
         "yaxis": "y"
        },
        {
         "alignmentgroup": "True",
         "hovertemplate": "color=https://api.github.com/repos/pytorch-labs/float8_experimental<br>Repository URL=%{x}<br># Contributor Events=%{y}<extra></extra>",
         "legendgroup": "https://api.github.com/repos/pytorch-labs/float8_experimental",
         "marker": {
          "color": "#FFA15A",
          "pattern": {
           "shape": ""
          }
         },
         "name": "https://api.github.com/repos/pytorch-labs/float8_experimental",
         "offsetgroup": "https://api.github.com/repos/pytorch-labs/float8_experimental",
         "orientation": "v",
         "showlegend": true,
         "textposition": "auto",
         "type": "bar",
         "x": [
          "https://api.github.com/repos/pytorch-labs/float8_experimental"
         ],
         "xaxis": "x",
         "y": [
          932
         ],
         "yaxis": "y"
        },
        {
         "alignmentgroup": "True",
         "hovertemplate": "color=https://api.github.com/repos/sphinx-doc/sphinx<br>Repository URL=%{x}<br># Contributor Events=%{y}<extra></extra>",
         "legendgroup": "https://api.github.com/repos/sphinx-doc/sphinx",
         "marker": {
          "color": "#19d3f3",
          "pattern": {
           "shape": ""
          }
         },
         "name": "https://api.github.com/repos/sphinx-doc/sphinx",
         "offsetgroup": "https://api.github.com/repos/sphinx-doc/sphinx",
         "orientation": "v",
         "showlegend": true,
         "textposition": "auto",
         "type": "bar",
         "x": [
          "https://api.github.com/repos/sphinx-doc/sphinx"
         ],
         "xaxis": "x",
         "y": [
          930
         ],
         "yaxis": "y"
        },
        {
         "alignmentgroup": "True",
         "hovertemplate": "color=https://api.github.com/repos/apache/airflow<br>Repository URL=%{x}<br># Contributor Events=%{y}<extra></extra>",
         "legendgroup": "https://api.github.com/repos/apache/airflow",
         "marker": {
          "color": "#FF6692",
          "pattern": {
           "shape": ""
          }
         },
         "name": "https://api.github.com/repos/apache/airflow",
         "offsetgroup": "https://api.github.com/repos/apache/airflow",
         "orientation": "v",
         "showlegend": true,
         "textposition": "auto",
         "type": "bar",
         "x": [
          "https://api.github.com/repos/apache/airflow"
         ],
         "xaxis": "x",
         "y": [
          895
         ],
         "yaxis": "y"
        },
        {
         "alignmentgroup": "True",
         "hovertemplate": "color=https://api.github.com/repos/networkx/networkx<br>Repository URL=%{x}<br># Contributor Events=%{y}<extra></extra>",
         "legendgroup": "https://api.github.com/repos/networkx/networkx",
         "marker": {
          "color": "#B6E880",
          "pattern": {
           "shape": ""
          }
         },
         "name": "https://api.github.com/repos/networkx/networkx",
         "offsetgroup": "https://api.github.com/repos/networkx/networkx",
         "orientation": "v",
         "showlegend": true,
         "textposition": "auto",
         "type": "bar",
         "x": [
          "https://api.github.com/repos/networkx/networkx"
         ],
         "xaxis": "x",
         "y": [
          890
         ],
         "yaxis": "y"
        },
        {
         "alignmentgroup": "True",
         "hovertemplate": "color=https://api.github.com/repos/google-ai-edge/ai-edge-torch<br>Repository URL=%{x}<br># Contributor Events=%{y}<extra></extra>",
         "legendgroup": "https://api.github.com/repos/google-ai-edge/ai-edge-torch",
         "marker": {
          "color": "#FF97FF",
          "pattern": {
           "shape": ""
          }
         },
         "name": "https://api.github.com/repos/google-ai-edge/ai-edge-torch",
         "offsetgroup": "https://api.github.com/repos/google-ai-edge/ai-edge-torch",
         "orientation": "v",
         "showlegend": true,
         "textposition": "auto",
         "type": "bar",
         "x": [
          "https://api.github.com/repos/google-ai-edge/ai-edge-torch"
         ],
         "xaxis": "x",
         "y": [
          878
         ],
         "yaxis": "y"
        },
        {
         "alignmentgroup": "True",
         "hovertemplate": "color=https://api.github.com/repos/pytorch/torchtune<br>Repository URL=%{x}<br># Contributor Events=%{y}<extra></extra>",
         "legendgroup": "https://api.github.com/repos/pytorch/torchtune",
         "marker": {
          "color": "#FECB52",
          "pattern": {
           "shape": ""
          }
         },
         "name": "https://api.github.com/repos/pytorch/torchtune",
         "offsetgroup": "https://api.github.com/repos/pytorch/torchtune",
         "orientation": "v",
         "showlegend": true,
         "textposition": "auto",
         "type": "bar",
         "x": [
          "https://api.github.com/repos/pytorch/torchtune"
         ],
         "xaxis": "x",
         "y": [
          873
         ],
         "yaxis": "y"
        },
        {
         "alignmentgroup": "True",
         "hovertemplate": "color=https://api.github.com/repos/huggingface/diffusers<br>Repository URL=%{x}<br># Contributor Events=%{y}<extra></extra>",
         "legendgroup": "https://api.github.com/repos/huggingface/diffusers",
         "marker": {
          "color": "#636efa",
          "pattern": {
           "shape": ""
          }
         },
         "name": "https://api.github.com/repos/huggingface/diffusers",
         "offsetgroup": "https://api.github.com/repos/huggingface/diffusers",
         "orientation": "v",
         "showlegend": true,
         "textposition": "auto",
         "type": "bar",
         "x": [
          "https://api.github.com/repos/huggingface/diffusers"
         ],
         "xaxis": "x",
         "y": [
          853
         ],
         "yaxis": "y"
        },
        {
         "alignmentgroup": "True",
         "hovertemplate": "color=https://api.github.com/repos/microsoft/onnxscript<br>Repository URL=%{x}<br># Contributor Events=%{y}<extra></extra>",
         "legendgroup": "https://api.github.com/repos/microsoft/onnxscript",
         "marker": {
          "color": "#EF553B",
          "pattern": {
           "shape": ""
          }
         },
         "name": "https://api.github.com/repos/microsoft/onnxscript",
         "offsetgroup": "https://api.github.com/repos/microsoft/onnxscript",
         "orientation": "v",
         "showlegend": true,
         "textposition": "auto",
         "type": "bar",
         "x": [
          "https://api.github.com/repos/microsoft/onnxscript"
         ],
         "xaxis": "x",
         "y": [
          843
         ],
         "yaxis": "y"
        },
        {
         "alignmentgroup": "True",
         "hovertemplate": "color=https://api.github.com/repos/ROCm/pytorch<br>Repository URL=%{x}<br># Contributor Events=%{y}<extra></extra>",
         "legendgroup": "https://api.github.com/repos/ROCm/pytorch",
         "marker": {
          "color": "#00cc96",
          "pattern": {
           "shape": ""
          }
         },
         "name": "https://api.github.com/repos/ROCm/pytorch",
         "offsetgroup": "https://api.github.com/repos/ROCm/pytorch",
         "orientation": "v",
         "showlegend": true,
         "textposition": "auto",
         "type": "bar",
         "x": [
          "https://api.github.com/repos/ROCm/pytorch"
         ],
         "xaxis": "x",
         "y": [
          834
         ],
         "yaxis": "y"
        },
        {
         "alignmentgroup": "True",
         "hovertemplate": "color=https://api.github.com/repos/google-test/signclav2-probe-repo<br>Repository URL=%{x}<br># Contributor Events=%{y}<extra></extra>",
         "legendgroup": "https://api.github.com/repos/google-test/signclav2-probe-repo",
         "marker": {
          "color": "#ab63fa",
          "pattern": {
           "shape": ""
          }
         },
         "name": "https://api.github.com/repos/google-test/signclav2-probe-repo",
         "offsetgroup": "https://api.github.com/repos/google-test/signclav2-probe-repo",
         "orientation": "v",
         "showlegend": true,
         "textposition": "auto",
         "type": "bar",
         "x": [
          "https://api.github.com/repos/google-test/signclav2-probe-repo"
         ],
         "xaxis": "x",
         "y": [
          818
         ],
         "yaxis": "y"
        },
        {
         "alignmentgroup": "True",
         "hovertemplate": "color=https://api.github.com/repos/bazelbuild/bazel<br>Repository URL=%{x}<br># Contributor Events=%{y}<extra></extra>",
         "legendgroup": "https://api.github.com/repos/bazelbuild/bazel",
         "marker": {
          "color": "#FFA15A",
          "pattern": {
           "shape": ""
          }
         },
         "name": "https://api.github.com/repos/bazelbuild/bazel",
         "offsetgroup": "https://api.github.com/repos/bazelbuild/bazel",
         "orientation": "v",
         "showlegend": true,
         "textposition": "auto",
         "type": "bar",
         "x": [
          "https://api.github.com/repos/bazelbuild/bazel"
         ],
         "xaxis": "x",
         "y": [
          807
         ],
         "yaxis": "y"
        },
        {
         "alignmentgroup": "True",
         "hovertemplate": "color=https://api.github.com/repos/demisto/dockerfiles<br>Repository URL=%{x}<br># Contributor Events=%{y}<extra></extra>",
         "legendgroup": "https://api.github.com/repos/demisto/dockerfiles",
         "marker": {
          "color": "#19d3f3",
          "pattern": {
           "shape": ""
          }
         },
         "name": "https://api.github.com/repos/demisto/dockerfiles",
         "offsetgroup": "https://api.github.com/repos/demisto/dockerfiles",
         "orientation": "v",
         "showlegend": true,
         "textposition": "auto",
         "type": "bar",
         "x": [
          "https://api.github.com/repos/demisto/dockerfiles"
         ],
         "xaxis": "x",
         "y": [
          804
         ],
         "yaxis": "y"
        },
        {
         "alignmentgroup": "True",
         "hovertemplate": "color=https://api.github.com/repos/probcomp/hierarchical-irm<br>Repository URL=%{x}<br># Contributor Events=%{y}<extra></extra>",
         "legendgroup": "https://api.github.com/repos/probcomp/hierarchical-irm",
         "marker": {
          "color": "#FF6692",
          "pattern": {
           "shape": ""
          }
         },
         "name": "https://api.github.com/repos/probcomp/hierarchical-irm",
         "offsetgroup": "https://api.github.com/repos/probcomp/hierarchical-irm",
         "orientation": "v",
         "showlegend": true,
         "textposition": "auto",
         "type": "bar",
         "x": [
          "https://api.github.com/repos/probcomp/hierarchical-irm"
         ],
         "xaxis": "x",
         "y": [
          799
         ],
         "yaxis": "y"
        },
        {
         "alignmentgroup": "True",
         "hovertemplate": "color=https://api.github.com/repos/leanprover-community/mathlib4<br>Repository URL=%{x}<br># Contributor Events=%{y}<extra></extra>",
         "legendgroup": "https://api.github.com/repos/leanprover-community/mathlib4",
         "marker": {
          "color": "#B6E880",
          "pattern": {
           "shape": ""
          }
         },
         "name": "https://api.github.com/repos/leanprover-community/mathlib4",
         "offsetgroup": "https://api.github.com/repos/leanprover-community/mathlib4",
         "orientation": "v",
         "showlegend": true,
         "textposition": "auto",
         "type": "bar",
         "x": [
          "https://api.github.com/repos/leanprover-community/mathlib4"
         ],
         "xaxis": "x",
         "y": [
          795
         ],
         "yaxis": "y"
        },
        {
         "alignmentgroup": "True",
         "hovertemplate": "color=https://api.github.com/repos/huggingface/text-generation-inference<br>Repository URL=%{x}<br># Contributor Events=%{y}<extra></extra>",
         "legendgroup": "https://api.github.com/repos/huggingface/text-generation-inference",
         "marker": {
          "color": "#FF97FF",
          "pattern": {
           "shape": ""
          }
         },
         "name": "https://api.github.com/repos/huggingface/text-generation-inference",
         "offsetgroup": "https://api.github.com/repos/huggingface/text-generation-inference",
         "orientation": "v",
         "showlegend": true,
         "textposition": "auto",
         "type": "bar",
         "x": [
          "https://api.github.com/repos/huggingface/text-generation-inference"
         ],
         "xaxis": "x",
         "y": [
          786
         ],
         "yaxis": "y"
        },
        {
         "alignmentgroup": "True",
         "hovertemplate": "color=https://api.github.com/repos/InternLM/lmdeploy<br>Repository URL=%{x}<br># Contributor Events=%{y}<extra></extra>",
         "legendgroup": "https://api.github.com/repos/InternLM/lmdeploy",
         "marker": {
          "color": "#FECB52",
          "pattern": {
           "shape": ""
          }
         },
         "name": "https://api.github.com/repos/InternLM/lmdeploy",
         "offsetgroup": "https://api.github.com/repos/InternLM/lmdeploy",
         "orientation": "v",
         "showlegend": true,
         "textposition": "auto",
         "type": "bar",
         "x": [
          "https://api.github.com/repos/InternLM/lmdeploy"
         ],
         "xaxis": "x",
         "y": [
          771
         ],
         "yaxis": "y"
        }
       ],
       "layout": {
        "barmode": "relative",
        "legend": {
         "title": {
          "text": "color"
         },
         "tracegroupgap": 0
        },
        "margin": {
         "t": 60
        },
        "showlegend": false,
        "template": {
         "data": {
          "bar": [
           {
            "error_x": {
             "color": "#2a3f5f"
            },
            "error_y": {
             "color": "#2a3f5f"
            },
            "marker": {
             "line": {
              "color": "#E5ECF6",
              "width": 0.5
             },
             "pattern": {
              "fillmode": "overlay",
              "size": 10,
              "solidity": 0.2
             }
            },
            "type": "bar"
           }
          ],
          "barpolar": [
           {
            "marker": {
             "line": {
              "color": "#E5ECF6",
              "width": 0.5
             },
             "pattern": {
              "fillmode": "overlay",
              "size": 10,
              "solidity": 0.2
             }
            },
            "type": "barpolar"
           }
          ],
          "carpet": [
           {
            "aaxis": {
             "endlinecolor": "#2a3f5f",
             "gridcolor": "white",
             "linecolor": "white",
             "minorgridcolor": "white",
             "startlinecolor": "#2a3f5f"
            },
            "baxis": {
             "endlinecolor": "#2a3f5f",
             "gridcolor": "white",
             "linecolor": "white",
             "minorgridcolor": "white",
             "startlinecolor": "#2a3f5f"
            },
            "type": "carpet"
           }
          ],
          "choropleth": [
           {
            "colorbar": {
             "outlinewidth": 0,
             "ticks": ""
            },
            "type": "choropleth"
           }
          ],
          "contour": [
           {
            "colorbar": {
             "outlinewidth": 0,
             "ticks": ""
            },
            "colorscale": [
             [
              0,
              "#0d0887"
             ],
             [
              0.1111111111111111,
              "#46039f"
             ],
             [
              0.2222222222222222,
              "#7201a8"
             ],
             [
              0.3333333333333333,
              "#9c179e"
             ],
             [
              0.4444444444444444,
              "#bd3786"
             ],
             [
              0.5555555555555556,
              "#d8576b"
             ],
             [
              0.6666666666666666,
              "#ed7953"
             ],
             [
              0.7777777777777778,
              "#fb9f3a"
             ],
             [
              0.8888888888888888,
              "#fdca26"
             ],
             [
              1,
              "#f0f921"
             ]
            ],
            "type": "contour"
           }
          ],
          "contourcarpet": [
           {
            "colorbar": {
             "outlinewidth": 0,
             "ticks": ""
            },
            "type": "contourcarpet"
           }
          ],
          "heatmap": [
           {
            "colorbar": {
             "outlinewidth": 0,
             "ticks": ""
            },
            "colorscale": [
             [
              0,
              "#0d0887"
             ],
             [
              0.1111111111111111,
              "#46039f"
             ],
             [
              0.2222222222222222,
              "#7201a8"
             ],
             [
              0.3333333333333333,
              "#9c179e"
             ],
             [
              0.4444444444444444,
              "#bd3786"
             ],
             [
              0.5555555555555556,
              "#d8576b"
             ],
             [
              0.6666666666666666,
              "#ed7953"
             ],
             [
              0.7777777777777778,
              "#fb9f3a"
             ],
             [
              0.8888888888888888,
              "#fdca26"
             ],
             [
              1,
              "#f0f921"
             ]
            ],
            "type": "heatmap"
           }
          ],
          "heatmapgl": [
           {
            "colorbar": {
             "outlinewidth": 0,
             "ticks": ""
            },
            "colorscale": [
             [
              0,
              "#0d0887"
             ],
             [
              0.1111111111111111,
              "#46039f"
             ],
             [
              0.2222222222222222,
              "#7201a8"
             ],
             [
              0.3333333333333333,
              "#9c179e"
             ],
             [
              0.4444444444444444,
              "#bd3786"
             ],
             [
              0.5555555555555556,
              "#d8576b"
             ],
             [
              0.6666666666666666,
              "#ed7953"
             ],
             [
              0.7777777777777778,
              "#fb9f3a"
             ],
             [
              0.8888888888888888,
              "#fdca26"
             ],
             [
              1,
              "#f0f921"
             ]
            ],
            "type": "heatmapgl"
           }
          ],
          "histogram": [
           {
            "marker": {
             "pattern": {
              "fillmode": "overlay",
              "size": 10,
              "solidity": 0.2
             }
            },
            "type": "histogram"
           }
          ],
          "histogram2d": [
           {
            "colorbar": {
             "outlinewidth": 0,
             "ticks": ""
            },
            "colorscale": [
             [
              0,
              "#0d0887"
             ],
             [
              0.1111111111111111,
              "#46039f"
             ],
             [
              0.2222222222222222,
              "#7201a8"
             ],
             [
              0.3333333333333333,
              "#9c179e"
             ],
             [
              0.4444444444444444,
              "#bd3786"
             ],
             [
              0.5555555555555556,
              "#d8576b"
             ],
             [
              0.6666666666666666,
              "#ed7953"
             ],
             [
              0.7777777777777778,
              "#fb9f3a"
             ],
             [
              0.8888888888888888,
              "#fdca26"
             ],
             [
              1,
              "#f0f921"
             ]
            ],
            "type": "histogram2d"
           }
          ],
          "histogram2dcontour": [
           {
            "colorbar": {
             "outlinewidth": 0,
             "ticks": ""
            },
            "colorscale": [
             [
              0,
              "#0d0887"
             ],
             [
              0.1111111111111111,
              "#46039f"
             ],
             [
              0.2222222222222222,
              "#7201a8"
             ],
             [
              0.3333333333333333,
              "#9c179e"
             ],
             [
              0.4444444444444444,
              "#bd3786"
             ],
             [
              0.5555555555555556,
              "#d8576b"
             ],
             [
              0.6666666666666666,
              "#ed7953"
             ],
             [
              0.7777777777777778,
              "#fb9f3a"
             ],
             [
              0.8888888888888888,
              "#fdca26"
             ],
             [
              1,
              "#f0f921"
             ]
            ],
            "type": "histogram2dcontour"
           }
          ],
          "mesh3d": [
           {
            "colorbar": {
             "outlinewidth": 0,
             "ticks": ""
            },
            "type": "mesh3d"
           }
          ],
          "parcoords": [
           {
            "line": {
             "colorbar": {
              "outlinewidth": 0,
              "ticks": ""
             }
            },
            "type": "parcoords"
           }
          ],
          "pie": [
           {
            "automargin": true,
            "type": "pie"
           }
          ],
          "scatter": [
           {
            "fillpattern": {
             "fillmode": "overlay",
             "size": 10,
             "solidity": 0.2
            },
            "type": "scatter"
           }
          ],
          "scatter3d": [
           {
            "line": {
             "colorbar": {
              "outlinewidth": 0,
              "ticks": ""
             }
            },
            "marker": {
             "colorbar": {
              "outlinewidth": 0,
              "ticks": ""
             }
            },
            "type": "scatter3d"
           }
          ],
          "scattercarpet": [
           {
            "marker": {
             "colorbar": {
              "outlinewidth": 0,
              "ticks": ""
             }
            },
            "type": "scattercarpet"
           }
          ],
          "scattergeo": [
           {
            "marker": {
             "colorbar": {
              "outlinewidth": 0,
              "ticks": ""
             }
            },
            "type": "scattergeo"
           }
          ],
          "scattergl": [
           {
            "marker": {
             "colorbar": {
              "outlinewidth": 0,
              "ticks": ""
             }
            },
            "type": "scattergl"
           }
          ],
          "scattermapbox": [
           {
            "marker": {
             "colorbar": {
              "outlinewidth": 0,
              "ticks": ""
             }
            },
            "type": "scattermapbox"
           }
          ],
          "scatterpolar": [
           {
            "marker": {
             "colorbar": {
              "outlinewidth": 0,
              "ticks": ""
             }
            },
            "type": "scatterpolar"
           }
          ],
          "scatterpolargl": [
           {
            "marker": {
             "colorbar": {
              "outlinewidth": 0,
              "ticks": ""
             }
            },
            "type": "scatterpolargl"
           }
          ],
          "scatterternary": [
           {
            "marker": {
             "colorbar": {
              "outlinewidth": 0,
              "ticks": ""
             }
            },
            "type": "scatterternary"
           }
          ],
          "surface": [
           {
            "colorbar": {
             "outlinewidth": 0,
             "ticks": ""
            },
            "colorscale": [
             [
              0,
              "#0d0887"
             ],
             [
              0.1111111111111111,
              "#46039f"
             ],
             [
              0.2222222222222222,
              "#7201a8"
             ],
             [
              0.3333333333333333,
              "#9c179e"
             ],
             [
              0.4444444444444444,
              "#bd3786"
             ],
             [
              0.5555555555555556,
              "#d8576b"
             ],
             [
              0.6666666666666666,
              "#ed7953"
             ],
             [
              0.7777777777777778,
              "#fb9f3a"
             ],
             [
              0.8888888888888888,
              "#fdca26"
             ],
             [
              1,
              "#f0f921"
             ]
            ],
            "type": "surface"
           }
          ],
          "table": [
           {
            "cells": {
             "fill": {
              "color": "#EBF0F8"
             },
             "line": {
              "color": "white"
             }
            },
            "header": {
             "fill": {
              "color": "#C8D4E3"
             },
             "line": {
              "color": "white"
             }
            },
            "type": "table"
           }
          ]
         },
         "layout": {
          "annotationdefaults": {
           "arrowcolor": "#2a3f5f",
           "arrowhead": 0,
           "arrowwidth": 1
          },
          "autotypenumbers": "strict",
          "coloraxis": {
           "colorbar": {
            "outlinewidth": 0,
            "ticks": ""
           }
          },
          "colorscale": {
           "diverging": [
            [
             0,
             "#8e0152"
            ],
            [
             0.1,
             "#c51b7d"
            ],
            [
             0.2,
             "#de77ae"
            ],
            [
             0.3,
             "#f1b6da"
            ],
            [
             0.4,
             "#fde0ef"
            ],
            [
             0.5,
             "#f7f7f7"
            ],
            [
             0.6,
             "#e6f5d0"
            ],
            [
             0.7,
             "#b8e186"
            ],
            [
             0.8,
             "#7fbc41"
            ],
            [
             0.9,
             "#4d9221"
            ],
            [
             1,
             "#276419"
            ]
           ],
           "sequential": [
            [
             0,
             "#0d0887"
            ],
            [
             0.1111111111111111,
             "#46039f"
            ],
            [
             0.2222222222222222,
             "#7201a8"
            ],
            [
             0.3333333333333333,
             "#9c179e"
            ],
            [
             0.4444444444444444,
             "#bd3786"
            ],
            [
             0.5555555555555556,
             "#d8576b"
            ],
            [
             0.6666666666666666,
             "#ed7953"
            ],
            [
             0.7777777777777778,
             "#fb9f3a"
            ],
            [
             0.8888888888888888,
             "#fdca26"
            ],
            [
             1,
             "#f0f921"
            ]
           ],
           "sequentialminus": [
            [
             0,
             "#0d0887"
            ],
            [
             0.1111111111111111,
             "#46039f"
            ],
            [
             0.2222222222222222,
             "#7201a8"
            ],
            [
             0.3333333333333333,
             "#9c179e"
            ],
            [
             0.4444444444444444,
             "#bd3786"
            ],
            [
             0.5555555555555556,
             "#d8576b"
            ],
            [
             0.6666666666666666,
             "#ed7953"
            ],
            [
             0.7777777777777778,
             "#fb9f3a"
            ],
            [
             0.8888888888888888,
             "#fdca26"
            ],
            [
             1,
             "#f0f921"
            ]
           ]
          },
          "colorway": [
           "#636efa",
           "#EF553B",
           "#00cc96",
           "#ab63fa",
           "#FFA15A",
           "#19d3f3",
           "#FF6692",
           "#B6E880",
           "#FF97FF",
           "#FECB52"
          ],
          "font": {
           "color": "#2a3f5f"
          },
          "geo": {
           "bgcolor": "white",
           "lakecolor": "white",
           "landcolor": "#E5ECF6",
           "showlakes": true,
           "showland": true,
           "subunitcolor": "white"
          },
          "hoverlabel": {
           "align": "left"
          },
          "hovermode": "closest",
          "mapbox": {
           "style": "light"
          },
          "paper_bgcolor": "white",
          "plot_bgcolor": "#E5ECF6",
          "polar": {
           "angularaxis": {
            "gridcolor": "white",
            "linecolor": "white",
            "ticks": ""
           },
           "bgcolor": "#E5ECF6",
           "radialaxis": {
            "gridcolor": "white",
            "linecolor": "white",
            "ticks": ""
           }
          },
          "scene": {
           "xaxis": {
            "backgroundcolor": "#E5ECF6",
            "gridcolor": "white",
            "gridwidth": 2,
            "linecolor": "white",
            "showbackground": true,
            "ticks": "",
            "zerolinecolor": "white"
           },
           "yaxis": {
            "backgroundcolor": "#E5ECF6",
            "gridcolor": "white",
            "gridwidth": 2,
            "linecolor": "white",
            "showbackground": true,
            "ticks": "",
            "zerolinecolor": "white"
           },
           "zaxis": {
            "backgroundcolor": "#E5ECF6",
            "gridcolor": "white",
            "gridwidth": 2,
            "linecolor": "white",
            "showbackground": true,
            "ticks": "",
            "zerolinecolor": "white"
           }
          },
          "shapedefaults": {
           "line": {
            "color": "#2a3f5f"
           }
          },
          "ternary": {
           "aaxis": {
            "gridcolor": "white",
            "linecolor": "white",
            "ticks": ""
           },
           "baxis": {
            "gridcolor": "white",
            "linecolor": "white",
            "ticks": ""
           },
           "bgcolor": "#E5ECF6",
           "caxis": {
            "gridcolor": "white",
            "linecolor": "white",
            "ticks": ""
           }
          },
          "title": {
           "x": 0.05
          },
          "xaxis": {
           "automargin": true,
           "gridcolor": "white",
           "linecolor": "white",
           "ticks": "",
           "title": {
            "standoff": 15
           },
           "zerolinecolor": "white",
           "zerolinewidth": 2
          },
          "yaxis": {
           "automargin": true,
           "gridcolor": "white",
           "linecolor": "white",
           "ticks": "",
           "title": {
            "standoff": 15
           },
           "zerolinecolor": "white",
           "zerolinewidth": 2
          }
         }
        },
        "xaxis": {
         "anchor": "y",
         "domain": [
          0,
          1
         ],
         "title": {
          "text": "Repository URL"
         }
        },
        "yaxis": {
         "anchor": "x",
         "domain": [
          0,
          1
         ],
         "title": {
          "text": "# Contributor Events"
         }
        }
       }
      }
     },
     "metadata": {},
     "output_type": "display_data"
    }
   ],
   "source": [
    "kc_repo_event_counts = df_known_event_stream.repo_git.value_counts()\n",
    "df_fig_rec_kc = kc_repo_event_counts.to_frame() \n",
    "\n",
    "fig_rec_kc = px.bar(\n",
    "    data_frame=df_fig_rec_kc[:50],\n",
    "    color=df_fig_rec_kc[:50].index,\n",
    "    labels={\n",
    "                    \"value\": \"# Contributor Events\",\n",
    "                    \"repo_git\": \"Repository URL\"\n",
    "                },\n",
    ")\n",
    "fig_rec_kc.update_layout(showlegend=False)\n",
    "fig_rec_kc.write_image(\"knowncontributors_repository_eventcount.png\")\n",
    "fig_rec_kc"
   ]
  },
  {
   "cell_type": "code",
   "execution_count": 20,
   "metadata": {},
   "outputs": [
    {
     "data": {
      "image/png": "[encoded data removed]",
      "text/plain": [
       "<IPython.core.display.Image object>"
      ]
     },
     "execution_count": 20,
     "metadata": {},
     "output_type": "execute_result"
    }
   ],
   "source": [
    "Image(\"knowncontributors_repository_eventcount.png\")"
   ]
  },
  {
   "cell_type": "markdown",
   "metadata": {},
   "source": [
    "## Interpretation\n",
    "\n",
    "We find here that some obvious WASM-specific repositories are contributed to most frequently by the contributors we already knew about.\n",
    "\n",
    "However, as one might expect, repos that are popular among the general public like 'risingwavelabs/risingwave', (which is 5th in this list and 74th among the general population, despite being a distributed streaming DB (not about WASM))\n",
    "are also popular among this slice of the general population.\n",
    "\n",
    "Our challenge now is to find those repos that are *especially* popular among this population as compared to the popularity among the general public."
   ]
  },
  {
   "cell_type": "markdown",
   "metadata": {},
   "source": [
    "# Identify disproportionately popular repos"
   ]
  },
  {
   "cell_type": "markdown",
   "metadata": {},
   "source": [
    "## Unknown contributors\n",
    "\n",
    "We want to consider the popularity of repos among people who aren't in our initial set.\n",
    "\n",
    "If our 'known' group of contributors is the subpopulation \"p\" and the general population is \"P\", then the group of people who are in the general population but aren't in our sub-population is \"P - p\" or $\\hat{P}$, pronounced P-hat.\n",
    "\n",
    "\n",
    "\n",
    "Hence, $\\hat{P}$ would be our unknown contributors."
   ]
  },
  {
   "cell_type": "code",
   "execution_count": 36,
   "metadata": {},
   "outputs": [
    {
     "data": {
      "text/plain": [
       "(6335124, 8)"
      ]
     },
     "execution_count": 36,
     "metadata": {},
     "output_type": "execute_result"
    }
   ],
   "source": [
    "# Get events made by those in P^\n",
    "\n",
    "df_general_event_stream = df_event_stream[~df_event_stream.cntrb_id.isin(UUID_known)]\n",
    "df_general_event_stream.shape"
   ]
  },
  {
   "cell_type": "code",
   "execution_count": 22,
   "metadata": {},
   "outputs": [
    {
     "data": {
      "text/html": [
       "<div>\n",
       "<style scoped>\n",
       "    .dataframe tbody tr th:only-of-type {\n",
       "        vertical-align: middle;\n",
       "    }\n",
       "\n",
       "    .dataframe tbody tr th {\n",
       "        vertical-align: top;\n",
       "    }\n",
       "\n",
       "    .dataframe thead th {\n",
       "        text-align: right;\n",
       "    }\n",
       "</style>\n",
       "<table border=\"1\" class=\"dataframe\">\n",
       "  <thead>\n",
       "    <tr style=\"text-align: right;\">\n",
       "      <th></th>\n",
       "      <th>count</th>\n",
       "    </tr>\n",
       "    <tr>\n",
       "      <th>repo_git</th>\n",
       "      <th></th>\n",
       "    </tr>\n",
       "  </thead>\n",
       "  <tbody>\n",
       "    <tr>\n",
       "      <th>https://api.github.com/repos/pytorch/pytorch</th>\n",
       "      <td>18197</td>\n",
       "    </tr>\n",
       "    <tr>\n",
       "      <th>https://api.github.com/repos/huggingface/transformers</th>\n",
       "      <td>14637</td>\n",
       "    </tr>\n",
       "    <tr>\n",
       "      <th>https://api.github.com/repos/langchain-ai/langchain</th>\n",
       "      <td>13750</td>\n",
       "    </tr>\n",
       "    <tr>\n",
       "      <th>https://api.github.com/repos/llvm/llvm-project</th>\n",
       "      <td>13325</td>\n",
       "    </tr>\n",
       "    <tr>\n",
       "      <th>https://api.github.com/repos/vllm-project/vllm</th>\n",
       "      <td>11306</td>\n",
       "    </tr>\n",
       "    <tr>\n",
       "      <th>...</th>\n",
       "      <td>...</td>\n",
       "    </tr>\n",
       "    <tr>\n",
       "      <th>https://api.github.com/repos/Xingyu-Lin/VCD</th>\n",
       "      <td>1</td>\n",
       "    </tr>\n",
       "    <tr>\n",
       "      <th>https://api.github.com/repos/r-lib/debugme</th>\n",
       "      <td>1</td>\n",
       "    </tr>\n",
       "    <tr>\n",
       "      <th>https://api.github.com/repos/noahewolfe/jax-tqdm</th>\n",
       "      <td>1</td>\n",
       "    </tr>\n",
       "    <tr>\n",
       "      <th>https://api.github.com/repos/r-lib/sessioninfo</th>\n",
       "      <td>1</td>\n",
       "    </tr>\n",
       "    <tr>\n",
       "      <th>https://api.github.com/repos/camenduru/styletts-colab</th>\n",
       "      <td>1</td>\n",
       "    </tr>\n",
       "  </tbody>\n",
       "</table>\n",
       "<p>525378 rows × 1 columns</p>\n",
       "</div>"
      ],
      "text/plain": [
       "                                                    count\n",
       "repo_git                                                 \n",
       "https://api.github.com/repos/pytorch/pytorch        18197\n",
       "https://api.github.com/repos/huggingface/transf...  14637\n",
       "https://api.github.com/repos/langchain-ai/langc...  13750\n",
       "https://api.github.com/repos/llvm/llvm-project      13325\n",
       "https://api.github.com/repos/vllm-project/vllm      11306\n",
       "...                                                   ...\n",
       "https://api.github.com/repos/Xingyu-Lin/VCD             1\n",
       "https://api.github.com/repos/r-lib/debugme              1\n",
       "https://api.github.com/repos/noahewolfe/jax-tqdm        1\n",
       "https://api.github.com/repos/r-lib/sessioninfo          1\n",
       "https://api.github.com/repos/camenduru/styletts...      1\n",
       "\n",
       "[525378 rows x 1 columns]"
      ]
     },
     "execution_count": 22,
     "metadata": {},
     "output_type": "execute_result"
    }
   ],
   "source": [
    "# Count the events-per-repo of P^\n",
    "\n",
    "g_repo_event_counts = df_general_event_stream.repo_git.value_counts().to_frame()\n",
    "g_repo_event_counts"
   ]
  },
  {
   "cell_type": "markdown",
   "metadata": {},
   "source": [
    "Let's combine two sets of counts — one for a general population and another for a specific sub-population—into $\\hat{P}$ a single DataFrame. Perform left join, ensuring that all data from the general population is preserved, and rename columns for clarity, and fill any missing data with zeros. The result is a DataFrame where each row represents an entity (like a repository) with its counts from both the general population and the sub-population."
   ]
  },
  {
   "cell_type": "code",
   "execution_count": 23,
   "metadata": {},
   "outputs": [
    {
     "data": {
      "text/html": [
       "<div>\n",
       "<style scoped>\n",
       "    .dataframe tbody tr th:only-of-type {\n",
       "        vertical-align: middle;\n",
       "    }\n",
       "\n",
       "    .dataframe tbody tr th {\n",
       "        vertical-align: top;\n",
       "    }\n",
       "\n",
       "    .dataframe thead th {\n",
       "        text-align: right;\n",
       "    }\n",
       "</style>\n",
       "<table border=\"1\" class=\"dataframe\">\n",
       "  <thead>\n",
       "    <tr style=\"text-align: right;\">\n",
       "      <th></th>\n",
       "      <th>count_general</th>\n",
       "      <th>count_known</th>\n",
       "    </tr>\n",
       "    <tr>\n",
       "      <th>repo_git</th>\n",
       "      <th></th>\n",
       "      <th></th>\n",
       "    </tr>\n",
       "  </thead>\n",
       "  <tbody>\n",
       "    <tr>\n",
       "      <th>https://api.github.com/repos/pytorch/pytorch</th>\n",
       "      <td>18197</td>\n",
       "      <td>46056.0</td>\n",
       "    </tr>\n",
       "    <tr>\n",
       "      <th>https://api.github.com/repos/huggingface/transformers</th>\n",
       "      <td>14637</td>\n",
       "      <td>2121.0</td>\n",
       "    </tr>\n",
       "    <tr>\n",
       "      <th>https://api.github.com/repos/langchain-ai/langchain</th>\n",
       "      <td>13750</td>\n",
       "      <td>85.0</td>\n",
       "    </tr>\n",
       "    <tr>\n",
       "      <th>https://api.github.com/repos/llvm/llvm-project</th>\n",
       "      <td>13325</td>\n",
       "      <td>4918.0</td>\n",
       "    </tr>\n",
       "    <tr>\n",
       "      <th>https://api.github.com/repos/vllm-project/vllm</th>\n",
       "      <td>11306</td>\n",
       "      <td>2769.0</td>\n",
       "    </tr>\n",
       "    <tr>\n",
       "      <th>...</th>\n",
       "      <td>...</td>\n",
       "      <td>...</td>\n",
       "    </tr>\n",
       "    <tr>\n",
       "      <th>https://api.github.com/repos/Xingyu-Lin/VCD</th>\n",
       "      <td>1</td>\n",
       "      <td>0.0</td>\n",
       "    </tr>\n",
       "    <tr>\n",
       "      <th>https://api.github.com/repos/r-lib/debugme</th>\n",
       "      <td>1</td>\n",
       "      <td>0.0</td>\n",
       "    </tr>\n",
       "    <tr>\n",
       "      <th>https://api.github.com/repos/noahewolfe/jax-tqdm</th>\n",
       "      <td>1</td>\n",
       "      <td>0.0</td>\n",
       "    </tr>\n",
       "    <tr>\n",
       "      <th>https://api.github.com/repos/r-lib/sessioninfo</th>\n",
       "      <td>1</td>\n",
       "      <td>0.0</td>\n",
       "    </tr>\n",
       "    <tr>\n",
       "      <th>https://api.github.com/repos/camenduru/styletts-colab</th>\n",
       "      <td>1</td>\n",
       "      <td>0.0</td>\n",
       "    </tr>\n",
       "  </tbody>\n",
       "</table>\n",
       "<p>525378 rows × 2 columns</p>\n",
       "</div>"
      ],
      "text/plain": [
       "                                                    count_general  count_known\n",
       "repo_git                                                                      \n",
       "https://api.github.com/repos/pytorch/pytorch                18197      46056.0\n",
       "https://api.github.com/repos/huggingface/transf...          14637       2121.0\n",
       "https://api.github.com/repos/langchain-ai/langc...          13750         85.0\n",
       "https://api.github.com/repos/llvm/llvm-project              13325       4918.0\n",
       "https://api.github.com/repos/vllm-project/vllm              11306       2769.0\n",
       "...                                                           ...          ...\n",
       "https://api.github.com/repos/Xingyu-Lin/VCD                     1          0.0\n",
       "https://api.github.com/repos/r-lib/debugme                      1          0.0\n",
       "https://api.github.com/repos/noahewolfe/jax-tqdm                1          0.0\n",
       "https://api.github.com/repos/r-lib/sessioninfo                  1          0.0\n",
       "https://api.github.com/repos/camenduru/styletts...              1          0.0\n",
       "\n",
       "[525378 rows x 2 columns]"
      ]
     },
     "execution_count": 23,
     "metadata": {},
     "output_type": "execute_result"
    }
   ],
   "source": [
    "# Join the counts of P^ with those of p\n",
    "\n",
    "joined_counts = g_repo_event_counts.join(\n",
    "    other=kc_repo_event_counts.to_frame(),\n",
    "    how=\"left\",\n",
    "    lsuffix=\"_general\",\n",
    "    rsuffix=\"_known\",\n",
    ")\n",
    "\n",
    "joined_counts = joined_counts.rename(columns={\"repo_git_general\": \"count_general\", \"repo_git_known\": \"count_known\"})\n",
    "joined_counts = joined_counts.fillna(0)\n",
    "joined_counts"
   ]
  },
  {
   "cell_type": "markdown",
   "metadata": {},
   "source": [
    "## Simple approach\n",
    "\n",
    "In this figure we visualize the count of contributions from those in 'p' and $\\hat{P}$ stacked on top of one another. \n",
    "\n",
    "Most of the most-contributed-to projects of those in 'p' are also most-contributed-to by members of 'p' (they are not also largely contributed to by those in $\\hat{P}$).\n",
    "\n",
    "Some notable visual exceptions are `llvm/llvm-project`, `NixOS/nixpkgs`, `python/cpython`, `huggingface/transformers` and `apache/arrow`."
   ]
  },
  {
   "cell_type": "code",
   "execution_count": 24,
   "metadata": {},
   "outputs": [
    {
     "data": {
      "application/vnd.plotly.v1+json": {
       "config": {
        "plotlyServerURL": "https://plot.ly"
       },
       "data": [
        {
         "alignmentgroup": "True",
         "hovertemplate": "variable=count_general<br>Repository URL=%{x}<br># Contributor Events=%{y}<extra></extra>",
         "legendgroup": "count_general",
         "marker": {
          "color": "#636efa",
          "pattern": {
           "shape": ""
          }
         },
         "name": "count_general",
         "offsetgroup": "count_general",
         "orientation": "v",
         "showlegend": true,
         "textposition": "auto",
         "type": "bar",
         "x": [
          "https://api.github.com/repos/pytorch/pytorch",
          "https://api.github.com/repos/pytorch/executorch",
          "https://api.github.com/repos/llvm/llvm-project",
          "https://api.github.com/repos/openxla/xla",
          "https://api.github.com/repos/Lightning-AI/lightning-thunder",
          "https://api.github.com/repos/tinygrad/tinygrad",
          "https://api.github.com/repos/pytorch/xla",
          "https://api.github.com/repos/google/jax",
          "https://api.github.com/repos/pytorch/ao",
          "https://api.github.com/repos/numpy/numpy",
          "https://api.github.com/repos/NVIDIA/Fuser",
          "https://api.github.com/repos/vllm-project/vllm",
          "https://api.github.com/repos/scipy/scipy",
          "https://api.github.com/repos/NixOS/nixpkgs",
          "https://api.github.com/repos/tensorflow/tensorflow",
          "https://api.github.com/repos/python/cpython",
          "https://api.github.com/repos/huggingface/transformers",
          "https://api.github.com/repos/microsoft/onnxruntime",
          "https://api.github.com/repos/scikit-learn/scikit-learn",
          "https://api.github.com/repos/pytorch/test-infra",
          "https://api.github.com/repos/matplotlib/matplotlib",
          "https://api.github.com/repos/openxla/stablehlo",
          "https://api.github.com/repos/pytorch/TensorRT",
          "https://api.github.com/repos/pytorch/torchtitan",
          "https://api.github.com/repos/apache/arrow",
          "https://api.github.com/repos/pandas-dev/pandas",
          "https://api.github.com/repos/astropy/astropy",
          "https://api.github.com/repos/PaddlePaddle/Paddle",
          "https://api.github.com/repos/keras-team/keras",
          "https://api.github.com/repos/Lightning-AI/pytorch-lightning",
          "https://api.github.com/repos/triton-lang/triton",
          "https://api.github.com/repos/llvm/torch-mlir",
          "https://api.github.com/repos/intel/intel-xpu-backend-for-triton",
          "https://api.github.com/repos/pytorch-labs/float8_experimental",
          "https://api.github.com/repos/sphinx-doc/sphinx",
          "https://api.github.com/repos/apache/airflow",
          "https://api.github.com/repos/networkx/networkx",
          "https://api.github.com/repos/google-ai-edge/ai-edge-torch",
          "https://api.github.com/repos/pytorch/torchtune",
          "https://api.github.com/repos/huggingface/diffusers",
          "https://api.github.com/repos/microsoft/onnxscript",
          "https://api.github.com/repos/ROCm/pytorch",
          "https://api.github.com/repos/bazelbuild/bazel",
          "https://api.github.com/repos/demisto/dockerfiles",
          "https://api.github.com/repos/probcomp/hierarchical-irm",
          "https://api.github.com/repos/leanprover-community/mathlib4",
          "https://api.github.com/repos/huggingface/text-generation-inference",
          "https://api.github.com/repos/InternLM/lmdeploy",
          "https://api.github.com/repos/rwth-i6/returnn",
          "https://api.github.com/repos/Lightning-AI/litgpt"
         ],
         "xaxis": "x",
         "y": [
          18197,
          1845,
          13325,
          1729,
          561,
          2030,
          1279,
          2344,
          381,
          1926,
          2065,
          11306,
          2445,
          10746,
          4298,
          8449,
          14637,
          6828,
          2695,
          88,
          1419,
          556,
          1491,
          1058,
          7962,
          4547,
          1078,
          3066,
          1432,
          536,
          2257,
          740,
          1256,
          38,
          445,
          1260,
          420,
          224,
          4075,
          3902,
          414,
          217,
          1142,
          256,
          426,
          1650,
          2065,
          1424,
          301,
          1030
         ],
         "yaxis": "y"
        },
        {
         "alignmentgroup": "True",
         "hovertemplate": "variable=count_known<br>Repository URL=%{x}<br># Contributor Events=%{y}<extra></extra>",
         "legendgroup": "count_known",
         "marker": {
          "color": "#EF553B",
          "pattern": {
           "shape": ""
          }
         },
         "name": "count_known",
         "offsetgroup": "count_known",
         "orientation": "v",
         "showlegend": true,
         "textposition": "auto",
         "type": "bar",
         "x": [
          "https://api.github.com/repos/pytorch/pytorch",
          "https://api.github.com/repos/pytorch/executorch",
          "https://api.github.com/repos/llvm/llvm-project",
          "https://api.github.com/repos/openxla/xla",
          "https://api.github.com/repos/Lightning-AI/lightning-thunder",
          "https://api.github.com/repos/tinygrad/tinygrad",
          "https://api.github.com/repos/pytorch/xla",
          "https://api.github.com/repos/google/jax",
          "https://api.github.com/repos/pytorch/ao",
          "https://api.github.com/repos/numpy/numpy",
          "https://api.github.com/repos/NVIDIA/Fuser",
          "https://api.github.com/repos/vllm-project/vllm",
          "https://api.github.com/repos/scipy/scipy",
          "https://api.github.com/repos/NixOS/nixpkgs",
          "https://api.github.com/repos/tensorflow/tensorflow",
          "https://api.github.com/repos/python/cpython",
          "https://api.github.com/repos/huggingface/transformers",
          "https://api.github.com/repos/microsoft/onnxruntime",
          "https://api.github.com/repos/scikit-learn/scikit-learn",
          "https://api.github.com/repos/pytorch/test-infra",
          "https://api.github.com/repos/matplotlib/matplotlib",
          "https://api.github.com/repos/openxla/stablehlo",
          "https://api.github.com/repos/pytorch/TensorRT",
          "https://api.github.com/repos/pytorch/torchtitan",
          "https://api.github.com/repos/apache/arrow",
          "https://api.github.com/repos/pandas-dev/pandas",
          "https://api.github.com/repos/astropy/astropy",
          "https://api.github.com/repos/PaddlePaddle/Paddle",
          "https://api.github.com/repos/keras-team/keras",
          "https://api.github.com/repos/Lightning-AI/pytorch-lightning",
          "https://api.github.com/repos/triton-lang/triton",
          "https://api.github.com/repos/llvm/torch-mlir",
          "https://api.github.com/repos/intel/intel-xpu-backend-for-triton",
          "https://api.github.com/repos/pytorch-labs/float8_experimental",
          "https://api.github.com/repos/sphinx-doc/sphinx",
          "https://api.github.com/repos/apache/airflow",
          "https://api.github.com/repos/networkx/networkx",
          "https://api.github.com/repos/google-ai-edge/ai-edge-torch",
          "https://api.github.com/repos/pytorch/torchtune",
          "https://api.github.com/repos/huggingface/diffusers",
          "https://api.github.com/repos/microsoft/onnxscript",
          "https://api.github.com/repos/ROCm/pytorch",
          "https://api.github.com/repos/bazelbuild/bazel",
          "https://api.github.com/repos/demisto/dockerfiles",
          "https://api.github.com/repos/probcomp/hierarchical-irm",
          "https://api.github.com/repos/leanprover-community/mathlib4",
          "https://api.github.com/repos/huggingface/text-generation-inference",
          "https://api.github.com/repos/InternLM/lmdeploy",
          "https://api.github.com/repos/rwth-i6/returnn",
          "https://api.github.com/repos/Lightning-AI/litgpt"
         ],
         "xaxis": "x",
         "y": [
          46056,
          5458,
          4918,
          3518,
          3344,
          3283,
          3152,
          3001,
          2993,
          2951,
          2804,
          2769,
          2478,
          2306,
          2306,
          2142,
          2121,
          1977,
          1883,
          1478,
          1345,
          1265,
          1236,
          1224,
          1163,
          1135,
          1099,
          1082,
          1064,
          996,
          977,
          966,
          955,
          932,
          930,
          895,
          890,
          878,
          873,
          853,
          843,
          834,
          807,
          804,
          799,
          795,
          786,
          771,
          764,
          763
         ],
         "yaxis": "y"
        }
       ],
       "layout": {
        "barmode": "relative",
        "legend": {
         "title": {
          "text": "variable"
         },
         "tracegroupgap": 0
        },
        "margin": {
         "t": 60
        },
        "showlegend": false,
        "template": {
         "data": {
          "bar": [
           {
            "error_x": {
             "color": "#2a3f5f"
            },
            "error_y": {
             "color": "#2a3f5f"
            },
            "marker": {
             "line": {
              "color": "#E5ECF6",
              "width": 0.5
             },
             "pattern": {
              "fillmode": "overlay",
              "size": 10,
              "solidity": 0.2
             }
            },
            "type": "bar"
           }
          ],
          "barpolar": [
           {
            "marker": {
             "line": {
              "color": "#E5ECF6",
              "width": 0.5
             },
             "pattern": {
              "fillmode": "overlay",
              "size": 10,
              "solidity": 0.2
             }
            },
            "type": "barpolar"
           }
          ],
          "carpet": [
           {
            "aaxis": {
             "endlinecolor": "#2a3f5f",
             "gridcolor": "white",
             "linecolor": "white",
             "minorgridcolor": "white",
             "startlinecolor": "#2a3f5f"
            },
            "baxis": {
             "endlinecolor": "#2a3f5f",
             "gridcolor": "white",
             "linecolor": "white",
             "minorgridcolor": "white",
             "startlinecolor": "#2a3f5f"
            },
            "type": "carpet"
           }
          ],
          "choropleth": [
           {
            "colorbar": {
             "outlinewidth": 0,
             "ticks": ""
            },
            "type": "choropleth"
           }
          ],
          "contour": [
           {
            "colorbar": {
             "outlinewidth": 0,
             "ticks": ""
            },
            "colorscale": [
             [
              0,
              "#0d0887"
             ],
             [
              0.1111111111111111,
              "#46039f"
             ],
             [
              0.2222222222222222,
              "#7201a8"
             ],
             [
              0.3333333333333333,
              "#9c179e"
             ],
             [
              0.4444444444444444,
              "#bd3786"
             ],
             [
              0.5555555555555556,
              "#d8576b"
             ],
             [
              0.6666666666666666,
              "#ed7953"
             ],
             [
              0.7777777777777778,
              "#fb9f3a"
             ],
             [
              0.8888888888888888,
              "#fdca26"
             ],
             [
              1,
              "#f0f921"
             ]
            ],
            "type": "contour"
           }
          ],
          "contourcarpet": [
           {
            "colorbar": {
             "outlinewidth": 0,
             "ticks": ""
            },
            "type": "contourcarpet"
           }
          ],
          "heatmap": [
           {
            "colorbar": {
             "outlinewidth": 0,
             "ticks": ""
            },
            "colorscale": [
             [
              0,
              "#0d0887"
             ],
             [
              0.1111111111111111,
              "#46039f"
             ],
             [
              0.2222222222222222,
              "#7201a8"
             ],
             [
              0.3333333333333333,
              "#9c179e"
             ],
             [
              0.4444444444444444,
              "#bd3786"
             ],
             [
              0.5555555555555556,
              "#d8576b"
             ],
             [
              0.6666666666666666,
              "#ed7953"
             ],
             [
              0.7777777777777778,
              "#fb9f3a"
             ],
             [
              0.8888888888888888,
              "#fdca26"
             ],
             [
              1,
              "#f0f921"
             ]
            ],
            "type": "heatmap"
           }
          ],
          "heatmapgl": [
           {
            "colorbar": {
             "outlinewidth": 0,
             "ticks": ""
            },
            "colorscale": [
             [
              0,
              "#0d0887"
             ],
             [
              0.1111111111111111,
              "#46039f"
             ],
             [
              0.2222222222222222,
              "#7201a8"
             ],
             [
              0.3333333333333333,
              "#9c179e"
             ],
             [
              0.4444444444444444,
              "#bd3786"
             ],
             [
              0.5555555555555556,
              "#d8576b"
             ],
             [
              0.6666666666666666,
              "#ed7953"
             ],
             [
              0.7777777777777778,
              "#fb9f3a"
             ],
             [
              0.8888888888888888,
              "#fdca26"
             ],
             [
              1,
              "#f0f921"
             ]
            ],
            "type": "heatmapgl"
           }
          ],
          "histogram": [
           {
            "marker": {
             "pattern": {
              "fillmode": "overlay",
              "size": 10,
              "solidity": 0.2
             }
            },
            "type": "histogram"
           }
          ],
          "histogram2d": [
           {
            "colorbar": {
             "outlinewidth": 0,
             "ticks": ""
            },
            "colorscale": [
             [
              0,
              "#0d0887"
             ],
             [
              0.1111111111111111,
              "#46039f"
             ],
             [
              0.2222222222222222,
              "#7201a8"
             ],
             [
              0.3333333333333333,
              "#9c179e"
             ],
             [
              0.4444444444444444,
              "#bd3786"
             ],
             [
              0.5555555555555556,
              "#d8576b"
             ],
             [
              0.6666666666666666,
              "#ed7953"
             ],
             [
              0.7777777777777778,
              "#fb9f3a"
             ],
             [
              0.8888888888888888,
              "#fdca26"
             ],
             [
              1,
              "#f0f921"
             ]
            ],
            "type": "histogram2d"
           }
          ],
          "histogram2dcontour": [
           {
            "colorbar": {
             "outlinewidth": 0,
             "ticks": ""
            },
            "colorscale": [
             [
              0,
              "#0d0887"
             ],
             [
              0.1111111111111111,
              "#46039f"
             ],
             [
              0.2222222222222222,
              "#7201a8"
             ],
             [
              0.3333333333333333,
              "#9c179e"
             ],
             [
              0.4444444444444444,
              "#bd3786"
             ],
             [
              0.5555555555555556,
              "#d8576b"
             ],
             [
              0.6666666666666666,
              "#ed7953"
             ],
             [
              0.7777777777777778,
              "#fb9f3a"
             ],
             [
              0.8888888888888888,
              "#fdca26"
             ],
             [
              1,
              "#f0f921"
             ]
            ],
            "type": "histogram2dcontour"
           }
          ],
          "mesh3d": [
           {
            "colorbar": {
             "outlinewidth": 0,
             "ticks": ""
            },
            "type": "mesh3d"
           }
          ],
          "parcoords": [
           {
            "line": {
             "colorbar": {
              "outlinewidth": 0,
              "ticks": ""
             }
            },
            "type": "parcoords"
           }
          ],
          "pie": [
           {
            "automargin": true,
            "type": "pie"
           }
          ],
          "scatter": [
           {
            "fillpattern": {
             "fillmode": "overlay",
             "size": 10,
             "solidity": 0.2
            },
            "type": "scatter"
           }
          ],
          "scatter3d": [
           {
            "line": {
             "colorbar": {
              "outlinewidth": 0,
              "ticks": ""
             }
            },
            "marker": {
             "colorbar": {
              "outlinewidth": 0,
              "ticks": ""
             }
            },
            "type": "scatter3d"
           }
          ],
          "scattercarpet": [
           {
            "marker": {
             "colorbar": {
              "outlinewidth": 0,
              "ticks": ""
             }
            },
            "type": "scattercarpet"
           }
          ],
          "scattergeo": [
           {
            "marker": {
             "colorbar": {
              "outlinewidth": 0,
              "ticks": ""
             }
            },
            "type": "scattergeo"
           }
          ],
          "scattergl": [
           {
            "marker": {
             "colorbar": {
              "outlinewidth": 0,
              "ticks": ""
             }
            },
            "type": "scattergl"
           }
          ],
          "scattermapbox": [
           {
            "marker": {
             "colorbar": {
              "outlinewidth": 0,
              "ticks": ""
             }
            },
            "type": "scattermapbox"
           }
          ],
          "scatterpolar": [
           {
            "marker": {
             "colorbar": {
              "outlinewidth": 0,
              "ticks": ""
             }
            },
            "type": "scatterpolar"
           }
          ],
          "scatterpolargl": [
           {
            "marker": {
             "colorbar": {
              "outlinewidth": 0,
              "ticks": ""
             }
            },
            "type": "scatterpolargl"
           }
          ],
          "scatterternary": [
           {
            "marker": {
             "colorbar": {
              "outlinewidth": 0,
              "ticks": ""
             }
            },
            "type": "scatterternary"
           }
          ],
          "surface": [
           {
            "colorbar": {
             "outlinewidth": 0,
             "ticks": ""
            },
            "colorscale": [
             [
              0,
              "#0d0887"
             ],
             [
              0.1111111111111111,
              "#46039f"
             ],
             [
              0.2222222222222222,
              "#7201a8"
             ],
             [
              0.3333333333333333,
              "#9c179e"
             ],
             [
              0.4444444444444444,
              "#bd3786"
             ],
             [
              0.5555555555555556,
              "#d8576b"
             ],
             [
              0.6666666666666666,
              "#ed7953"
             ],
             [
              0.7777777777777778,
              "#fb9f3a"
             ],
             [
              0.8888888888888888,
              "#fdca26"
             ],
             [
              1,
              "#f0f921"
             ]
            ],
            "type": "surface"
           }
          ],
          "table": [
           {
            "cells": {
             "fill": {
              "color": "#EBF0F8"
             },
             "line": {
              "color": "white"
             }
            },
            "header": {
             "fill": {
              "color": "#C8D4E3"
             },
             "line": {
              "color": "white"
             }
            },
            "type": "table"
           }
          ]
         },
         "layout": {
          "annotationdefaults": {
           "arrowcolor": "#2a3f5f",
           "arrowhead": 0,
           "arrowwidth": 1
          },
          "autotypenumbers": "strict",
          "coloraxis": {
           "colorbar": {
            "outlinewidth": 0,
            "ticks": ""
           }
          },
          "colorscale": {
           "diverging": [
            [
             0,
             "#8e0152"
            ],
            [
             0.1,
             "#c51b7d"
            ],
            [
             0.2,
             "#de77ae"
            ],
            [
             0.3,
             "#f1b6da"
            ],
            [
             0.4,
             "#fde0ef"
            ],
            [
             0.5,
             "#f7f7f7"
            ],
            [
             0.6,
             "#e6f5d0"
            ],
            [
             0.7,
             "#b8e186"
            ],
            [
             0.8,
             "#7fbc41"
            ],
            [
             0.9,
             "#4d9221"
            ],
            [
             1,
             "#276419"
            ]
           ],
           "sequential": [
            [
             0,
             "#0d0887"
            ],
            [
             0.1111111111111111,
             "#46039f"
            ],
            [
             0.2222222222222222,
             "#7201a8"
            ],
            [
             0.3333333333333333,
             "#9c179e"
            ],
            [
             0.4444444444444444,
             "#bd3786"
            ],
            [
             0.5555555555555556,
             "#d8576b"
            ],
            [
             0.6666666666666666,
             "#ed7953"
            ],
            [
             0.7777777777777778,
             "#fb9f3a"
            ],
            [
             0.8888888888888888,
             "#fdca26"
            ],
            [
             1,
             "#f0f921"
            ]
           ],
           "sequentialminus": [
            [
             0,
             "#0d0887"
            ],
            [
             0.1111111111111111,
             "#46039f"
            ],
            [
             0.2222222222222222,
             "#7201a8"
            ],
            [
             0.3333333333333333,
             "#9c179e"
            ],
            [
             0.4444444444444444,
             "#bd3786"
            ],
            [
             0.5555555555555556,
             "#d8576b"
            ],
            [
             0.6666666666666666,
             "#ed7953"
            ],
            [
             0.7777777777777778,
             "#fb9f3a"
            ],
            [
             0.8888888888888888,
             "#fdca26"
            ],
            [
             1,
             "#f0f921"
            ]
           ]
          },
          "colorway": [
           "#636efa",
           "#EF553B",
           "#00cc96",
           "#ab63fa",
           "#FFA15A",
           "#19d3f3",
           "#FF6692",
           "#B6E880",
           "#FF97FF",
           "#FECB52"
          ],
          "font": {
           "color": "#2a3f5f"
          },
          "geo": {
           "bgcolor": "white",
           "lakecolor": "white",
           "landcolor": "#E5ECF6",
           "showlakes": true,
           "showland": true,
           "subunitcolor": "white"
          },
          "hoverlabel": {
           "align": "left"
          },
          "hovermode": "closest",
          "mapbox": {
           "style": "light"
          },
          "paper_bgcolor": "white",
          "plot_bgcolor": "#E5ECF6",
          "polar": {
           "angularaxis": {
            "gridcolor": "white",
            "linecolor": "white",
            "ticks": ""
           },
           "bgcolor": "#E5ECF6",
           "radialaxis": {
            "gridcolor": "white",
            "linecolor": "white",
            "ticks": ""
           }
          },
          "scene": {
           "xaxis": {
            "backgroundcolor": "#E5ECF6",
            "gridcolor": "white",
            "gridwidth": 2,
            "linecolor": "white",
            "showbackground": true,
            "ticks": "",
            "zerolinecolor": "white"
           },
           "yaxis": {
            "backgroundcolor": "#E5ECF6",
            "gridcolor": "white",
            "gridwidth": 2,
            "linecolor": "white",
            "showbackground": true,
            "ticks": "",
            "zerolinecolor": "white"
           },
           "zaxis": {
            "backgroundcolor": "#E5ECF6",
            "gridcolor": "white",
            "gridwidth": 2,
            "linecolor": "white",
            "showbackground": true,
            "ticks": "",
            "zerolinecolor": "white"
           }
          },
          "shapedefaults": {
           "line": {
            "color": "#2a3f5f"
           }
          },
          "ternary": {
           "aaxis": {
            "gridcolor": "white",
            "linecolor": "white",
            "ticks": ""
           },
           "baxis": {
            "gridcolor": "white",
            "linecolor": "white",
            "ticks": ""
           },
           "bgcolor": "#E5ECF6",
           "caxis": {
            "gridcolor": "white",
            "linecolor": "white",
            "ticks": ""
           }
          },
          "title": {
           "x": 0.05
          },
          "xaxis": {
           "automargin": true,
           "gridcolor": "white",
           "linecolor": "white",
           "ticks": "",
           "title": {
            "standoff": 15
           },
           "zerolinecolor": "white",
           "zerolinewidth": 2
          },
          "yaxis": {
           "automargin": true,
           "gridcolor": "white",
           "linecolor": "white",
           "ticks": "",
           "title": {
            "standoff": 15
           },
           "zerolinecolor": "white",
           "zerolinewidth": 2
          }
         }
        },
        "xaxis": {
         "anchor": "y",
         "domain": [
          0,
          1
         ],
         "title": {
          "text": "Repository URL"
         }
        },
        "yaxis": {
         "anchor": "x",
         "domain": [
          0,
          1
         ],
         "title": {
          "text": "# Contributor Events"
         }
        }
       }
      }
     },
     "metadata": {},
     "output_type": "display_data"
    }
   ],
   "source": [
    "fig_joined_counts = px.bar(\n",
    "    data_frame=joined_counts\n",
    "    .sort_values(by=\"count_known\", ascending=False) # sort the joined_counts df by the number of contributions made by those in p\n",
    "    [:50], # only take the first 50\n",
    "    y=[\"count_general\", \"count_known\"],\n",
    "    labels={\n",
    "                    \"value\": \"# Contributor Events\",\n",
    "                    \"repo_git\": \"Repository URL\"\n",
    "                },\n",
    ")\n",
    "fig_joined_counts.update_layout(showlegend=False)\n",
    "fig_joined_counts.write_image(\"joined_counts.png\")\n",
    "fig_joined_counts"
   ]
  },
  {
   "cell_type": "code",
   "execution_count": 25,
   "metadata": {},
   "outputs": [
    {
     "data": {
      "image/png": "[encoded data removed]",
      "text/plain": [
       "<IPython.core.display.Image object>"
      ]
     },
     "execution_count": 25,
     "metadata": {},
     "output_type": "execute_result"
    }
   ],
   "source": [
    "Image(\"joined_counts.png\")"
   ]
  },
  {
   "cell_type": "markdown",
   "metadata": {},
   "source": [
    "## Interpretation\n",
    "\n",
    "Above, the Red parts of the bars represent the count of events from our known population 'p', whereas the Blue parts of the stacks represent the complementary population $\\hat{P}$.\n",
    "\n",
    "From left to right, descending, are the projects with the largest number of contribution events (number of contribution events) from people in 'p'.\n",
    "\n",
    "The people from our subpopulation should 100% dominate projects like Wasmer and Wasmedge, because those are among the populations whose population we're directly considering.\n",
    "(wasmedge, wavm, wasmtime, wasmr are the repos we're pulling from). Interestingly though, we also see that the same group of people dominate other, non-WASM projects like risingwave, noir, and mathlib4.\n",
    "\n",
    "This opens an interesting new line of inquiry. If the overlap of contributors between projects was extremely ecosystem-specific, e.g. people from WASMedge MOSTLY participated in WASM related projects,\n",
    "then we could easily start with any WASM project and find those projects with greatest contributor overlap, and identify that those are all the WASM projects. \n",
    "\n",
    "However, this isn't the case- people who are participating in WASM are also participating in non-WASM projects, and they're contributing in high volumes, 'dominating' those projects w.r.t the population 'P^'.\n",
    "\n",
    "## Conclusion\n",
    "\n",
    "There isn't free lunch here. We need to use more sensitive methods to 'sniff out' WASM-related repositories, considering not only WHO is contributing WHERE, but who their social network is and\n",
    "what their behavior is within the 'seed' communities we start with.\n"
   ]
  },
  {
   "cell_type": "markdown",
   "metadata": {},
   "source": [
    "## Implement alpha and beta indices of preference\n",
    "\n",
    "Mathematical definition of following approach:\n",
    "\n",
    "https://www.overleaf.com/read/hxnsqsydqcrw#f624f4"
   ]
  },
  {
   "cell_type": "markdown",
   "metadata": {},
   "source": [
    "### Implement alpha\n",
    "\n",
    "'alpha' is a probablistic contribution metric. It captures 'how much more or less likely' the subpopulation 'p' is to contribute to a repository relative to the general population 'P^'.\n",
    "\n",
    "More details can be found in the overleaf document referenced at the top of this section."
   ]
  },
  {
   "cell_type": "code",
   "execution_count": 26,
   "metadata": {},
   "outputs": [
    {
     "data": {
      "text/html": [
       "<div>\n",
       "<style scoped>\n",
       "    .dataframe tbody tr th:only-of-type {\n",
       "        vertical-align: middle;\n",
       "    }\n",
       "\n",
       "    .dataframe tbody tr th {\n",
       "        vertical-align: top;\n",
       "    }\n",
       "\n",
       "    .dataframe thead th {\n",
       "        text-align: right;\n",
       "    }\n",
       "</style>\n",
       "<table border=\"1\" class=\"dataframe\">\n",
       "  <thead>\n",
       "    <tr style=\"text-align: right;\">\n",
       "      <th></th>\n",
       "      <th>count_general</th>\n",
       "      <th>count_known</th>\n",
       "      <th>p_known</th>\n",
       "    </tr>\n",
       "    <tr>\n",
       "      <th>repo_git</th>\n",
       "      <th></th>\n",
       "      <th></th>\n",
       "      <th></th>\n",
       "    </tr>\n",
       "  </thead>\n",
       "  <tbody>\n",
       "    <tr>\n",
       "      <th>https://api.github.com/repos/pytorch/pytorch</th>\n",
       "      <td>18197</td>\n",
       "      <td>46056.0</td>\n",
       "      <td>0.131437</td>\n",
       "    </tr>\n",
       "    <tr>\n",
       "      <th>https://api.github.com/repos/huggingface/transformers</th>\n",
       "      <td>14637</td>\n",
       "      <td>2121.0</td>\n",
       "      <td>0.006053</td>\n",
       "    </tr>\n",
       "    <tr>\n",
       "      <th>https://api.github.com/repos/langchain-ai/langchain</th>\n",
       "      <td>13750</td>\n",
       "      <td>85.0</td>\n",
       "      <td>0.000243</td>\n",
       "    </tr>\n",
       "    <tr>\n",
       "      <th>https://api.github.com/repos/llvm/llvm-project</th>\n",
       "      <td>13325</td>\n",
       "      <td>4918.0</td>\n",
       "      <td>0.014035</td>\n",
       "    </tr>\n",
       "    <tr>\n",
       "      <th>https://api.github.com/repos/vllm-project/vllm</th>\n",
       "      <td>11306</td>\n",
       "      <td>2769.0</td>\n",
       "      <td>0.007902</td>\n",
       "    </tr>\n",
       "    <tr>\n",
       "      <th>...</th>\n",
       "      <td>...</td>\n",
       "      <td>...</td>\n",
       "      <td>...</td>\n",
       "    </tr>\n",
       "    <tr>\n",
       "      <th>https://api.github.com/repos/Xingyu-Lin/VCD</th>\n",
       "      <td>1</td>\n",
       "      <td>0.0</td>\n",
       "      <td>0.000000</td>\n",
       "    </tr>\n",
       "    <tr>\n",
       "      <th>https://api.github.com/repos/r-lib/debugme</th>\n",
       "      <td>1</td>\n",
       "      <td>0.0</td>\n",
       "      <td>0.000000</td>\n",
       "    </tr>\n",
       "    <tr>\n",
       "      <th>https://api.github.com/repos/noahewolfe/jax-tqdm</th>\n",
       "      <td>1</td>\n",
       "      <td>0.0</td>\n",
       "      <td>0.000000</td>\n",
       "    </tr>\n",
       "    <tr>\n",
       "      <th>https://api.github.com/repos/r-lib/sessioninfo</th>\n",
       "      <td>1</td>\n",
       "      <td>0.0</td>\n",
       "      <td>0.000000</td>\n",
       "    </tr>\n",
       "    <tr>\n",
       "      <th>https://api.github.com/repos/camenduru/styletts-colab</th>\n",
       "      <td>1</td>\n",
       "      <td>0.0</td>\n",
       "      <td>0.000000</td>\n",
       "    </tr>\n",
       "  </tbody>\n",
       "</table>\n",
       "<p>525378 rows × 3 columns</p>\n",
       "</div>"
      ],
      "text/plain": [
       "                                                    count_general  \\\n",
       "repo_git                                                            \n",
       "https://api.github.com/repos/pytorch/pytorch                18197   \n",
       "https://api.github.com/repos/huggingface/transf...          14637   \n",
       "https://api.github.com/repos/langchain-ai/langc...          13750   \n",
       "https://api.github.com/repos/llvm/llvm-project              13325   \n",
       "https://api.github.com/repos/vllm-project/vllm              11306   \n",
       "...                                                           ...   \n",
       "https://api.github.com/repos/Xingyu-Lin/VCD                     1   \n",
       "https://api.github.com/repos/r-lib/debugme                      1   \n",
       "https://api.github.com/repos/noahewolfe/jax-tqdm                1   \n",
       "https://api.github.com/repos/r-lib/sessioninfo                  1   \n",
       "https://api.github.com/repos/camenduru/styletts...              1   \n",
       "\n",
       "                                                    count_known   p_known  \n",
       "repo_git                                                                   \n",
       "https://api.github.com/repos/pytorch/pytorch            46056.0  0.131437  \n",
       "https://api.github.com/repos/huggingface/transf...       2121.0  0.006053  \n",
       "https://api.github.com/repos/langchain-ai/langc...         85.0  0.000243  \n",
       "https://api.github.com/repos/llvm/llvm-project           4918.0  0.014035  \n",
       "https://api.github.com/repos/vllm-project/vllm           2769.0  0.007902  \n",
       "...                                                         ...       ...  \n",
       "https://api.github.com/repos/Xingyu-Lin/VCD                 0.0  0.000000  \n",
       "https://api.github.com/repos/r-lib/debugme                  0.0  0.000000  \n",
       "https://api.github.com/repos/noahewolfe/jax-tqdm            0.0  0.000000  \n",
       "https://api.github.com/repos/r-lib/sessioninfo              0.0  0.000000  \n",
       "https://api.github.com/repos/camenduru/styletts...          0.0  0.000000  \n",
       "\n",
       "[525378 rows x 3 columns]"
      ]
     },
     "execution_count": 26,
     "metadata": {},
     "output_type": "execute_result"
    }
   ],
   "source": [
    "# probabilities of contribution in known population\n",
    "\n",
    "# number of contribution events by our contributor subpopulation\n",
    "n_known = joined_counts[\"count_known\"].sum()\n",
    "\n",
    "# divide the per-repo contribution count by the total num of contributions by population.\n",
    "# this is interpretateable as \"the probability that the subpopulation will contribute to a given repo\"\n",
    "joined_counts[\"p_known\"] = joined_counts[\"count_known\"] / n_known\n",
    "joined_counts"
   ]
  },
  {
   "cell_type": "code",
   "execution_count": 27,
   "metadata": {},
   "outputs": [
    {
     "data": {
      "text/html": [
       "<div>\n",
       "<style scoped>\n",
       "    .dataframe tbody tr th:only-of-type {\n",
       "        vertical-align: middle;\n",
       "    }\n",
       "\n",
       "    .dataframe tbody tr th {\n",
       "        vertical-align: top;\n",
       "    }\n",
       "\n",
       "    .dataframe thead th {\n",
       "        text-align: right;\n",
       "    }\n",
       "</style>\n",
       "<table border=\"1\" class=\"dataframe\">\n",
       "  <thead>\n",
       "    <tr style=\"text-align: right;\">\n",
       "      <th></th>\n",
       "      <th>count_general</th>\n",
       "      <th>count_known</th>\n",
       "      <th>p_known</th>\n",
       "      <th>p_everyone</th>\n",
       "    </tr>\n",
       "    <tr>\n",
       "      <th>repo_git</th>\n",
       "      <th></th>\n",
       "      <th></th>\n",
       "      <th></th>\n",
       "      <th></th>\n",
       "    </tr>\n",
       "  </thead>\n",
       "  <tbody>\n",
       "    <tr>\n",
       "      <th>https://api.github.com/repos/pytorch/pytorch</th>\n",
       "      <td>18197</td>\n",
       "      <td>46056.0</td>\n",
       "      <td>0.131437</td>\n",
       "      <td>9.610759e-03</td>\n",
       "    </tr>\n",
       "    <tr>\n",
       "      <th>https://api.github.com/repos/huggingface/transformers</th>\n",
       "      <td>14637</td>\n",
       "      <td>2121.0</td>\n",
       "      <td>0.006053</td>\n",
       "      <td>2.506608e-03</td>\n",
       "    </tr>\n",
       "    <tr>\n",
       "      <th>https://api.github.com/repos/langchain-ai/langchain</th>\n",
       "      <td>13750</td>\n",
       "      <td>85.0</td>\n",
       "      <td>0.000243</td>\n",
       "      <td>2.069395e-03</td>\n",
       "    </tr>\n",
       "    <tr>\n",
       "      <th>https://api.github.com/repos/llvm/llvm-project</th>\n",
       "      <td>13325</td>\n",
       "      <td>4918.0</td>\n",
       "      <td>0.014035</td>\n",
       "      <td>2.728730e-03</td>\n",
       "    </tr>\n",
       "    <tr>\n",
       "      <th>https://api.github.com/repos/vllm-project/vllm</th>\n",
       "      <td>11306</td>\n",
       "      <td>2769.0</td>\n",
       "      <td>0.007902</td>\n",
       "      <td>2.105294e-03</td>\n",
       "    </tr>\n",
       "    <tr>\n",
       "      <th>...</th>\n",
       "      <td>...</td>\n",
       "      <td>...</td>\n",
       "      <td>...</td>\n",
       "      <td>...</td>\n",
       "    </tr>\n",
       "    <tr>\n",
       "      <th>https://api.github.com/repos/Xingyu-Lin/VCD</th>\n",
       "      <td>1</td>\n",
       "      <td>0.0</td>\n",
       "      <td>0.000000</td>\n",
       "      <td>1.495768e-07</td>\n",
       "    </tr>\n",
       "    <tr>\n",
       "      <th>https://api.github.com/repos/r-lib/debugme</th>\n",
       "      <td>1</td>\n",
       "      <td>0.0</td>\n",
       "      <td>0.000000</td>\n",
       "      <td>1.495768e-07</td>\n",
       "    </tr>\n",
       "    <tr>\n",
       "      <th>https://api.github.com/repos/noahewolfe/jax-tqdm</th>\n",
       "      <td>1</td>\n",
       "      <td>0.0</td>\n",
       "      <td>0.000000</td>\n",
       "      <td>1.495768e-07</td>\n",
       "    </tr>\n",
       "    <tr>\n",
       "      <th>https://api.github.com/repos/r-lib/sessioninfo</th>\n",
       "      <td>1</td>\n",
       "      <td>0.0</td>\n",
       "      <td>0.000000</td>\n",
       "      <td>1.495768e-07</td>\n",
       "    </tr>\n",
       "    <tr>\n",
       "      <th>https://api.github.com/repos/camenduru/styletts-colab</th>\n",
       "      <td>1</td>\n",
       "      <td>0.0</td>\n",
       "      <td>0.000000</td>\n",
       "      <td>1.495768e-07</td>\n",
       "    </tr>\n",
       "  </tbody>\n",
       "</table>\n",
       "<p>525378 rows × 4 columns</p>\n",
       "</div>"
      ],
      "text/plain": [
       "                                                    count_general  \\\n",
       "repo_git                                                            \n",
       "https://api.github.com/repos/pytorch/pytorch                18197   \n",
       "https://api.github.com/repos/huggingface/transf...          14637   \n",
       "https://api.github.com/repos/langchain-ai/langc...          13750   \n",
       "https://api.github.com/repos/llvm/llvm-project              13325   \n",
       "https://api.github.com/repos/vllm-project/vllm              11306   \n",
       "...                                                           ...   \n",
       "https://api.github.com/repos/Xingyu-Lin/VCD                     1   \n",
       "https://api.github.com/repos/r-lib/debugme                      1   \n",
       "https://api.github.com/repos/noahewolfe/jax-tqdm                1   \n",
       "https://api.github.com/repos/r-lib/sessioninfo                  1   \n",
       "https://api.github.com/repos/camenduru/styletts...              1   \n",
       "\n",
       "                                                    count_known   p_known  \\\n",
       "repo_git                                                                    \n",
       "https://api.github.com/repos/pytorch/pytorch            46056.0  0.131437   \n",
       "https://api.github.com/repos/huggingface/transf...       2121.0  0.006053   \n",
       "https://api.github.com/repos/langchain-ai/langc...         85.0  0.000243   \n",
       "https://api.github.com/repos/llvm/llvm-project           4918.0  0.014035   \n",
       "https://api.github.com/repos/vllm-project/vllm           2769.0  0.007902   \n",
       "...                                                         ...       ...   \n",
       "https://api.github.com/repos/Xingyu-Lin/VCD                 0.0  0.000000   \n",
       "https://api.github.com/repos/r-lib/debugme                  0.0  0.000000   \n",
       "https://api.github.com/repos/noahewolfe/jax-tqdm            0.0  0.000000   \n",
       "https://api.github.com/repos/r-lib/sessioninfo              0.0  0.000000   \n",
       "https://api.github.com/repos/camenduru/styletts...          0.0  0.000000   \n",
       "\n",
       "                                                      p_everyone  \n",
       "repo_git                                                          \n",
       "https://api.github.com/repos/pytorch/pytorch        9.610759e-03  \n",
       "https://api.github.com/repos/huggingface/transf...  2.506608e-03  \n",
       "https://api.github.com/repos/langchain-ai/langc...  2.069395e-03  \n",
       "https://api.github.com/repos/llvm/llvm-project      2.728730e-03  \n",
       "https://api.github.com/repos/vllm-project/vllm      2.105294e-03  \n",
       "...                                                          ...  \n",
       "https://api.github.com/repos/Xingyu-Lin/VCD         1.495768e-07  \n",
       "https://api.github.com/repos/r-lib/debugme          1.495768e-07  \n",
       "https://api.github.com/repos/noahewolfe/jax-tqdm    1.495768e-07  \n",
       "https://api.github.com/repos/r-lib/sessioninfo      1.495768e-07  \n",
       "https://api.github.com/repos/camenduru/styletts...  1.495768e-07  \n",
       "\n",
       "[525378 rows x 4 columns]"
      ]
     },
     "execution_count": 27,
     "metadata": {},
     "output_type": "execute_result"
    }
   ],
   "source": [
    "# Probabilities of contribution in general population:\n",
    "\n",
    "# number of contribution events by the general population.\n",
    "n_general = joined_counts[\"count_general\"].sum()\n",
    "\n",
    "# divide the per-repo contribution count by the total num of contributions by general population.\n",
    "# this is interpretateable as \"the probability that the general population will contribute to a given repo\"\n",
    "joined_counts[\"p_everyone\"] = (joined_counts[\"count_general\"] + joined_counts[\"count_known\"]) / (n_general + n_known)\n",
    "joined_counts"
   ]
  },
  {
   "cell_type": "code",
   "execution_count": 28,
   "metadata": {},
   "outputs": [
    {
     "data": {
      "text/html": [
       "<div>\n",
       "<style scoped>\n",
       "    .dataframe tbody tr th:only-of-type {\n",
       "        vertical-align: middle;\n",
       "    }\n",
       "\n",
       "    .dataframe tbody tr th {\n",
       "        vertical-align: top;\n",
       "    }\n",
       "\n",
       "    .dataframe thead th {\n",
       "        text-align: right;\n",
       "    }\n",
       "</style>\n",
       "<table border=\"1\" class=\"dataframe\">\n",
       "  <thead>\n",
       "    <tr style=\"text-align: right;\">\n",
       "      <th></th>\n",
       "      <th>count_general</th>\n",
       "      <th>count_known</th>\n",
       "      <th>p_known</th>\n",
       "      <th>p_everyone</th>\n",
       "      <th>alpha</th>\n",
       "    </tr>\n",
       "    <tr>\n",
       "      <th>repo_git</th>\n",
       "      <th></th>\n",
       "      <th></th>\n",
       "      <th></th>\n",
       "      <th></th>\n",
       "      <th></th>\n",
       "    </tr>\n",
       "  </thead>\n",
       "  <tbody>\n",
       "    <tr>\n",
       "      <th>https://api.github.com/repos/pytorch/pytorch</th>\n",
       "      <td>18197</td>\n",
       "      <td>46056.0</td>\n",
       "      <td>0.131437</td>\n",
       "      <td>9.610759e-03</td>\n",
       "      <td>13.676012</td>\n",
       "    </tr>\n",
       "    <tr>\n",
       "      <th>https://api.github.com/repos/huggingface/transformers</th>\n",
       "      <td>14637</td>\n",
       "      <td>2121.0</td>\n",
       "      <td>0.006053</td>\n",
       "      <td>2.506608e-03</td>\n",
       "      <td>2.414822</td>\n",
       "    </tr>\n",
       "    <tr>\n",
       "      <th>https://api.github.com/repos/langchain-ai/langchain</th>\n",
       "      <td>13750</td>\n",
       "      <td>85.0</td>\n",
       "      <td>0.000243</td>\n",
       "      <td>2.069395e-03</td>\n",
       "      <td>0.117221</td>\n",
       "    </tr>\n",
       "    <tr>\n",
       "      <th>https://api.github.com/repos/llvm/llvm-project</th>\n",
       "      <td>13325</td>\n",
       "      <td>4918.0</td>\n",
       "      <td>0.014035</td>\n",
       "      <td>2.728730e-03</td>\n",
       "      <td>5.143502</td>\n",
       "    </tr>\n",
       "    <tr>\n",
       "      <th>https://api.github.com/repos/vllm-project/vllm</th>\n",
       "      <td>11306</td>\n",
       "      <td>2769.0</td>\n",
       "      <td>0.007902</td>\n",
       "      <td>2.105294e-03</td>\n",
       "      <td>3.753541</td>\n",
       "    </tr>\n",
       "    <tr>\n",
       "      <th>...</th>\n",
       "      <td>...</td>\n",
       "      <td>...</td>\n",
       "      <td>...</td>\n",
       "      <td>...</td>\n",
       "      <td>...</td>\n",
       "    </tr>\n",
       "    <tr>\n",
       "      <th>https://api.github.com/repos/Xingyu-Lin/VCD</th>\n",
       "      <td>1</td>\n",
       "      <td>0.0</td>\n",
       "      <td>0.000000</td>\n",
       "      <td>1.495768e-07</td>\n",
       "      <td>0.000000</td>\n",
       "    </tr>\n",
       "    <tr>\n",
       "      <th>https://api.github.com/repos/r-lib/debugme</th>\n",
       "      <td>1</td>\n",
       "      <td>0.0</td>\n",
       "      <td>0.000000</td>\n",
       "      <td>1.495768e-07</td>\n",
       "      <td>0.000000</td>\n",
       "    </tr>\n",
       "    <tr>\n",
       "      <th>https://api.github.com/repos/noahewolfe/jax-tqdm</th>\n",
       "      <td>1</td>\n",
       "      <td>0.0</td>\n",
       "      <td>0.000000</td>\n",
       "      <td>1.495768e-07</td>\n",
       "      <td>0.000000</td>\n",
       "    </tr>\n",
       "    <tr>\n",
       "      <th>https://api.github.com/repos/r-lib/sessioninfo</th>\n",
       "      <td>1</td>\n",
       "      <td>0.0</td>\n",
       "      <td>0.000000</td>\n",
       "      <td>1.495768e-07</td>\n",
       "      <td>0.000000</td>\n",
       "    </tr>\n",
       "    <tr>\n",
       "      <th>https://api.github.com/repos/camenduru/styletts-colab</th>\n",
       "      <td>1</td>\n",
       "      <td>0.0</td>\n",
       "      <td>0.000000</td>\n",
       "      <td>1.495768e-07</td>\n",
       "      <td>0.000000</td>\n",
       "    </tr>\n",
       "  </tbody>\n",
       "</table>\n",
       "<p>525378 rows × 5 columns</p>\n",
       "</div>"
      ],
      "text/plain": [
       "                                                    count_general  \\\n",
       "repo_git                                                            \n",
       "https://api.github.com/repos/pytorch/pytorch                18197   \n",
       "https://api.github.com/repos/huggingface/transf...          14637   \n",
       "https://api.github.com/repos/langchain-ai/langc...          13750   \n",
       "https://api.github.com/repos/llvm/llvm-project              13325   \n",
       "https://api.github.com/repos/vllm-project/vllm              11306   \n",
       "...                                                           ...   \n",
       "https://api.github.com/repos/Xingyu-Lin/VCD                     1   \n",
       "https://api.github.com/repos/r-lib/debugme                      1   \n",
       "https://api.github.com/repos/noahewolfe/jax-tqdm                1   \n",
       "https://api.github.com/repos/r-lib/sessioninfo                  1   \n",
       "https://api.github.com/repos/camenduru/styletts...              1   \n",
       "\n",
       "                                                    count_known   p_known  \\\n",
       "repo_git                                                                    \n",
       "https://api.github.com/repos/pytorch/pytorch            46056.0  0.131437   \n",
       "https://api.github.com/repos/huggingface/transf...       2121.0  0.006053   \n",
       "https://api.github.com/repos/langchain-ai/langc...         85.0  0.000243   \n",
       "https://api.github.com/repos/llvm/llvm-project           4918.0  0.014035   \n",
       "https://api.github.com/repos/vllm-project/vllm           2769.0  0.007902   \n",
       "...                                                         ...       ...   \n",
       "https://api.github.com/repos/Xingyu-Lin/VCD                 0.0  0.000000   \n",
       "https://api.github.com/repos/r-lib/debugme                  0.0  0.000000   \n",
       "https://api.github.com/repos/noahewolfe/jax-tqdm            0.0  0.000000   \n",
       "https://api.github.com/repos/r-lib/sessioninfo              0.0  0.000000   \n",
       "https://api.github.com/repos/camenduru/styletts...          0.0  0.000000   \n",
       "\n",
       "                                                      p_everyone      alpha  \n",
       "repo_git                                                                     \n",
       "https://api.github.com/repos/pytorch/pytorch        9.610759e-03  13.676012  \n",
       "https://api.github.com/repos/huggingface/transf...  2.506608e-03   2.414822  \n",
       "https://api.github.com/repos/langchain-ai/langc...  2.069395e-03   0.117221  \n",
       "https://api.github.com/repos/llvm/llvm-project      2.728730e-03   5.143502  \n",
       "https://api.github.com/repos/vllm-project/vllm      2.105294e-03   3.753541  \n",
       "...                                                          ...        ...  \n",
       "https://api.github.com/repos/Xingyu-Lin/VCD         1.495768e-07   0.000000  \n",
       "https://api.github.com/repos/r-lib/debugme          1.495768e-07   0.000000  \n",
       "https://api.github.com/repos/noahewolfe/jax-tqdm    1.495768e-07   0.000000  \n",
       "https://api.github.com/repos/r-lib/sessioninfo      1.495768e-07   0.000000  \n",
       "https://api.github.com/repos/camenduru/styletts...  1.495768e-07   0.000000  \n",
       "\n",
       "[525378 rows x 5 columns]"
      ]
     },
     "execution_count": 28,
     "metadata": {},
     "output_type": "execute_result"
    }
   ],
   "source": [
    "# calculate alpha\n",
    "\n",
    "# by what factor is the subpopulation more or less likely to contribute to a repo?\n",
    "joined_counts[\"alpha\"] = joined_counts[\"p_known\"] / joined_counts[\"p_everyone\"]\n",
    "joined_counts"
   ]
  },
  {
   "cell_type": "code",
   "execution_count": 29,
   "metadata": {},
   "outputs": [
    {
     "data": {
      "text/html": [
       "<div>\n",
       "<style scoped>\n",
       "    .dataframe tbody tr th:only-of-type {\n",
       "        vertical-align: middle;\n",
       "    }\n",
       "\n",
       "    .dataframe tbody tr th {\n",
       "        vertical-align: top;\n",
       "    }\n",
       "\n",
       "    .dataframe thead th {\n",
       "        text-align: right;\n",
       "    }\n",
       "</style>\n",
       "<table border=\"1\" class=\"dataframe\">\n",
       "  <thead>\n",
       "    <tr style=\"text-align: right;\">\n",
       "      <th></th>\n",
       "      <th>count_general</th>\n",
       "      <th>count_known</th>\n",
       "      <th>p_known</th>\n",
       "      <th>p_everyone</th>\n",
       "      <th>alpha</th>\n",
       "    </tr>\n",
       "    <tr>\n",
       "      <th>repo_git</th>\n",
       "      <th></th>\n",
       "      <th></th>\n",
       "      <th></th>\n",
       "      <th></th>\n",
       "      <th></th>\n",
       "    </tr>\n",
       "  </thead>\n",
       "  <tbody>\n",
       "    <tr>\n",
       "      <th>https://api.github.com/repos/NoteDance/Note</th>\n",
       "      <td>1</td>\n",
       "      <td>571.0</td>\n",
       "      <td>0.001630</td>\n",
       "      <td>8.555794e-05</td>\n",
       "      <td>19.046130</td>\n",
       "    </tr>\n",
       "    <tr>\n",
       "      <th>https://api.github.com/repos/JuliaDynamics/DynamicSumTypes.jl</th>\n",
       "      <td>1</td>\n",
       "      <td>478.0</td>\n",
       "      <td>0.001364</td>\n",
       "      <td>7.164730e-05</td>\n",
       "      <td>19.039653</td>\n",
       "    </tr>\n",
       "    <tr>\n",
       "      <th>https://api.github.com/repos/SkyblockerMod/Skyblocker</th>\n",
       "      <td>1</td>\n",
       "      <td>389.0</td>\n",
       "      <td>0.001110</td>\n",
       "      <td>5.833496e-05</td>\n",
       "      <td>19.030564</td>\n",
       "    </tr>\n",
       "    <tr>\n",
       "      <th>https://api.github.com/repos/PTB-MR/mrpro</th>\n",
       "      <td>1</td>\n",
       "      <td>381.0</td>\n",
       "      <td>0.001087</td>\n",
       "      <td>5.713834e-05</td>\n",
       "      <td>19.029539</td>\n",
       "    </tr>\n",
       "    <tr>\n",
       "      <th>https://api.github.com/repos/durandtibo/grizz</th>\n",
       "      <td>1</td>\n",
       "      <td>327.0</td>\n",
       "      <td>0.000933</td>\n",
       "      <td>4.906120e-05</td>\n",
       "      <td>19.021316</td>\n",
       "    </tr>\n",
       "    <tr>\n",
       "      <th>...</th>\n",
       "      <td>...</td>\n",
       "      <td>...</td>\n",
       "      <td>...</td>\n",
       "      <td>...</td>\n",
       "      <td>...</td>\n",
       "    </tr>\n",
       "    <tr>\n",
       "      <th>https://api.github.com/repos/amitt1236/Gaze_estimation</th>\n",
       "      <td>4</td>\n",
       "      <td>0.0</td>\n",
       "      <td>0.000000</td>\n",
       "      <td>5.983073e-07</td>\n",
       "      <td>0.000000</td>\n",
       "    </tr>\n",
       "    <tr>\n",
       "      <th>https://api.github.com/repos/ClaudeCoulombe/EcorcIA_Application_Mobile</th>\n",
       "      <td>4</td>\n",
       "      <td>0.0</td>\n",
       "      <td>0.000000</td>\n",
       "      <td>5.983073e-07</td>\n",
       "      <td>0.000000</td>\n",
       "    </tr>\n",
       "    <tr>\n",
       "      <th>https://api.github.com/repos/stefanprobst/get-tsconfig</th>\n",
       "      <td>4</td>\n",
       "      <td>0.0</td>\n",
       "      <td>0.000000</td>\n",
       "      <td>5.983073e-07</td>\n",
       "      <td>0.000000</td>\n",
       "    </tr>\n",
       "    <tr>\n",
       "      <th>https://api.github.com/repos/Honghe/groupby_excel</th>\n",
       "      <td>4</td>\n",
       "      <td>0.0</td>\n",
       "      <td>0.000000</td>\n",
       "      <td>5.983073e-07</td>\n",
       "      <td>0.000000</td>\n",
       "    </tr>\n",
       "    <tr>\n",
       "      <th>https://api.github.com/repos/camenduru/styletts-colab</th>\n",
       "      <td>1</td>\n",
       "      <td>0.0</td>\n",
       "      <td>0.000000</td>\n",
       "      <td>1.495768e-07</td>\n",
       "      <td>0.000000</td>\n",
       "    </tr>\n",
       "  </tbody>\n",
       "</table>\n",
       "<p>525378 rows × 5 columns</p>\n",
       "</div>"
      ],
      "text/plain": [
       "                                                    count_general  \\\n",
       "repo_git                                                            \n",
       "https://api.github.com/repos/NoteDance/Note                     1   \n",
       "https://api.github.com/repos/JuliaDynamics/Dyna...              1   \n",
       "https://api.github.com/repos/SkyblockerMod/Skyb...              1   \n",
       "https://api.github.com/repos/PTB-MR/mrpro                       1   \n",
       "https://api.github.com/repos/durandtibo/grizz                   1   \n",
       "...                                                           ...   \n",
       "https://api.github.com/repos/amitt1236/Gaze_est...              4   \n",
       "https://api.github.com/repos/ClaudeCoulombe/Eco...              4   \n",
       "https://api.github.com/repos/stefanprobst/get-t...              4   \n",
       "https://api.github.com/repos/Honghe/groupby_excel               4   \n",
       "https://api.github.com/repos/camenduru/styletts...              1   \n",
       "\n",
       "                                                    count_known   p_known  \\\n",
       "repo_git                                                                    \n",
       "https://api.github.com/repos/NoteDance/Note               571.0  0.001630   \n",
       "https://api.github.com/repos/JuliaDynamics/Dyna...        478.0  0.001364   \n",
       "https://api.github.com/repos/SkyblockerMod/Skyb...        389.0  0.001110   \n",
       "https://api.github.com/repos/PTB-MR/mrpro                 381.0  0.001087   \n",
       "https://api.github.com/repos/durandtibo/grizz             327.0  0.000933   \n",
       "...                                                         ...       ...   \n",
       "https://api.github.com/repos/amitt1236/Gaze_est...          0.0  0.000000   \n",
       "https://api.github.com/repos/ClaudeCoulombe/Eco...          0.0  0.000000   \n",
       "https://api.github.com/repos/stefanprobst/get-t...          0.0  0.000000   \n",
       "https://api.github.com/repos/Honghe/groupby_excel           0.0  0.000000   \n",
       "https://api.github.com/repos/camenduru/styletts...          0.0  0.000000   \n",
       "\n",
       "                                                      p_everyone      alpha  \n",
       "repo_git                                                                     \n",
       "https://api.github.com/repos/NoteDance/Note         8.555794e-05  19.046130  \n",
       "https://api.github.com/repos/JuliaDynamics/Dyna...  7.164730e-05  19.039653  \n",
       "https://api.github.com/repos/SkyblockerMod/Skyb...  5.833496e-05  19.030564  \n",
       "https://api.github.com/repos/PTB-MR/mrpro           5.713834e-05  19.029539  \n",
       "https://api.github.com/repos/durandtibo/grizz       4.906120e-05  19.021316  \n",
       "...                                                          ...        ...  \n",
       "https://api.github.com/repos/amitt1236/Gaze_est...  5.983073e-07   0.000000  \n",
       "https://api.github.com/repos/ClaudeCoulombe/Eco...  5.983073e-07   0.000000  \n",
       "https://api.github.com/repos/stefanprobst/get-t...  5.983073e-07   0.000000  \n",
       "https://api.github.com/repos/Honghe/groupby_excel   5.983073e-07   0.000000  \n",
       "https://api.github.com/repos/camenduru/styletts...  1.495768e-07   0.000000  \n",
       "\n",
       "[525378 rows x 5 columns]"
      ]
     },
     "execution_count": 29,
     "metadata": {},
     "output_type": "execute_result"
    }
   ],
   "source": [
    "joined_counts.sort_values(by=[\"alpha\"], ascending=False)"
   ]
  },
  {
   "cell_type": "markdown",
   "metadata": {},
   "source": [
    "Those repos that our subcommunity dominates (those that they own) are ~17x more likely to be contributed to (naturally) than by the general population.\n",
    "\n",
    "e.g. for 'moondance-labs/tanssi', |p|=683 and |P^|=1, so the probability that the subpopulation contributes to this particular project is measured as significantly higher than the general population.\n",
    "\n",
    "However, 683 events still isn't many relative to the number of events we observe for large projects (9443 for apple/swift), so this isn't a terribly strong indication that the project is 'important' to the WASM ecosystem in general."
   ]
  },
  {
   "cell_type": "code",
   "execution_count": 30,
   "metadata": {},
   "outputs": [
    {
     "data": {
      "application/vnd.plotly.v1+json": {
       "config": {
        "plotlyServerURL": "https://plot.ly"
       },
       "data": [
        {
         "alignmentgroup": "True",
         "customdata": [
          [
           571,
           1
          ],
          [
           478,
           1
          ],
          [
           389,
           1
          ],
          [
           381,
           1
          ],
          [
           327,
           1
          ],
          [
           629,
           2
          ],
          [
           309,
           1
          ],
          [
           308,
           1
          ],
          [
           293,
           1
          ],
          [
           286,
           1
          ],
          [
           243,
           1
          ],
          [
           239,
           1
          ],
          [
           210,
           1
          ],
          [
           206,
           1
          ],
          [
           205,
           1
          ],
          [
           195,
           1
          ],
          [
           382,
           2
          ],
          [
           189,
           1
          ],
          [
           182,
           1
          ],
          [
           179,
           1
          ],
          [
           179,
           1
          ],
          [
           176,
           1
          ],
          [
           175,
           1
          ],
          [
           168,
           1
          ],
          [
           162,
           1
          ],
          [
           160,
           1
          ],
          [
           157,
           1
          ],
          [
           313,
           2
          ],
          [
           307,
           2
          ],
          [
           152,
           1
          ],
          [
           150,
           1
          ],
          [
           146,
           1
          ],
          [
           143,
           1
          ],
          [
           137,
           1
          ],
          [
           136,
           1
          ],
          [
           135,
           1
          ],
          [
           134,
           1
          ],
          [
           267,
           2
          ],
          [
           379,
           3
          ],
          [
           120,
           1
          ],
          [
           119,
           1
          ],
          [
           116,
           1
          ],
          [
           111,
           1
          ],
          [
           110,
           1
          ],
          [
           104,
           1
          ],
          [
           103,
           1
          ],
          [
           103,
           1
          ],
          [
           102,
           1
          ],
          [
           305,
           3
          ],
          [
           100,
           1
          ],
          [
           199,
           2
          ],
          [
           98,
           1
          ],
          [
           98,
           1
          ],
          [
           96,
           1
          ],
          [
           94,
           1
          ],
          [
           94,
           1
          ],
          [
           93,
           1
          ],
          [
           183,
           2
          ],
          [
           91,
           1
          ],
          [
           91,
           1
          ],
          [
           91,
           1
          ],
          [
           180,
           2
          ],
          [
           88,
           1
          ],
          [
           88,
           1
          ],
          [
           172,
           2
          ],
          [
           251,
           3
          ],
          [
           82,
           1
          ],
          [
           79,
           1
          ],
          [
           78,
           1
          ],
          [
           76,
           1
          ],
          [
           76,
           1
          ],
          [
           224,
           3
          ],
          [
           74,
           1
          ],
          [
           73,
           1
          ],
          [
           72,
           1
          ],
          [
           71,
           1
          ],
          [
           69,
           1
          ],
          [
           68,
           1
          ],
          [
           198,
           3
          ],
          [
           65,
           1
          ],
          [
           65,
           1
          ],
          [
           63,
           1
          ],
          [
           123,
           2
          ],
          [
           123,
           2
          ],
          [
           122,
           2
          ],
          [
           61,
           1
          ],
          [
           182,
           3
          ],
          [
           60,
           1
          ],
          [
           357,
           6
          ],
          [
           59,
           1
          ],
          [
           59,
           1
          ],
          [
           59,
           1
          ],
          [
           117,
           2
          ],
          [
           58,
           1
          ],
          [
           58,
           1
          ],
          [
           58,
           1
          ],
          [
           230,
           4
          ],
          [
           57,
           1
          ],
          [
           113,
           2
          ],
          [
           56,
           1
          ]
         ],
         "hovertemplate": "Repo:%{label}: <br>Alpha: %{value} </br>(count_known, count_general) : %{customdata}",
         "legendgroup": "",
         "marker": {
          "color": "#636efa",
          "pattern": {
           "shape": ""
          }
         },
         "name": "",
         "offsetgroup": "",
         "orientation": "v",
         "showlegend": false,
         "textposition": "auto",
         "type": "bar",
         "x": [
          "https://api.github.com/repos/NoteDance/Note",
          "https://api.github.com/repos/JuliaDynamics/DynamicSumTypes.jl",
          "https://api.github.com/repos/SkyblockerMod/Skyblocker",
          "https://api.github.com/repos/PTB-MR/mrpro",
          "https://api.github.com/repos/durandtibo/grizz",
          "https://api.github.com/repos/durandtibo/flamme",
          "https://api.github.com/repos/fenar/TME-AIX",
          "https://api.github.com/repos/durandtibo/karbonn",
          "https://api.github.com/repos/ixray-team/ixray-1.6-stcop",
          "https://api.github.com/repos/apytypes/apytypes",
          "https://api.github.com/repos/DLS5-Omics/multimolecule",
          "https://api.github.com/repos/CaptainDario/DaKanji",
          "https://api.github.com/repos/sun-data/optika",
          "https://api.github.com/repos/samypr100/uv",
          "https://api.github.com/repos/enola-dev/enola",
          "https://api.github.com/repos/rickeylev/rules_python",
          "https://api.github.com/repos/Qiskit/benchpress",
          "https://api.github.com/repos/siemens/linux-entra-sso",
          "https://api.github.com/repos/SatelliteShorelines/CoastSeg",
          "https://api.github.com/repos/HugoMVale/odrpack95",
          "https://api.github.com/repos/DiamondLightSource/dodal",
          "https://api.github.com/repos/mkoeppe/sage",
          "https://api.github.com/repos/mattjj/jax",
          "https://api.github.com/repos/gomlx/gopjrt",
          "https://api.github.com/repos/flathub/io.github.shiftey.Desktop",
          "https://api.github.com/repos/ECP-WarpX/WarpX",
          "https://api.github.com/repos/prince-chrismc/check-actor-permissions-action",
          "https://api.github.com/repos/BrettRyland/BDArmory",
          "https://api.github.com/repos/joelberkeley/spidr",
          "https://api.github.com/repos/fengyuentau/opencv",
          "https://api.github.com/repos/alibaba/TinyNeuralNetwork",
          "https://api.github.com/repos/microsoft/planetary-computer-tasks",
          "https://api.github.com/repos/fast-crud/fast-crud",
          "https://api.github.com/repos/rnwang04/ipex-llm",
          "https://api.github.com/repos/dataforgoodfr/12_taxobservatory",
          "https://api.github.com/repos/JuliaDynamics/Agents.jl",
          "https://api.github.com/repos/leedrake5/Russia-Ukraine",
          "https://api.github.com/repos/cta-observatory/ctapipe",
          "https://api.github.com/repos/mlondschien/ivmodels",
          "https://api.github.com/repos/dimfeld/chronicle",
          "https://api.github.com/repos/abhaskumarsinha/Corpus2GPT",
          "https://api.github.com/repos/jayaddison/sphinx",
          "https://api.github.com/repos/colesbury/cpython",
          "https://api.github.com/repos/andyfaff/scipy",
          "https://api.github.com/repos/deepkit/deepkit-framework",
          "https://api.github.com/repos/iritkatriel/cpython",
          "https://api.github.com/repos/pytorch/docs",
          "https://api.github.com/repos/g1y5x3/llm_gaokao",
          "https://api.github.com/repos/fluent/fluent-operator",
          "https://api.github.com/repos/pyodide/micropip",
          "https://api.github.com/repos/WeichenXu123/mlflow",
          "https://api.github.com/repos/stefanklut/laypa",
          "https://api.github.com/repos/AllentDan/lmdeploy",
          "https://api.github.com/repos/ericmjl/Network-Analysis-Made-Simple",
          "https://api.github.com/repos/sympy/sympy_doc",
          "https://api.github.com/repos/Luthaf/rascaline",
          "https://api.github.com/repos/FWDekker/fo4vr-modlist",
          "https://api.github.com/repos/VigneshVSV/hololinked",
          "https://api.github.com/repos/sywangyi/text-generation-inference",
          "https://api.github.com/repos/kulinseth/pytorch",
          "https://api.github.com/repos/roastduck/FreeTensor",
          "https://api.github.com/repos/serge-chat/serge",
          "https://api.github.com/repos/matthew-brett/xibabel",
          "https://api.github.com/repos/pythops/jetson-image",
          "https://api.github.com/repos/scikit-hep/iminuit",
          "https://api.github.com/repos/wei/socialify",
          "https://api.github.com/repos/dg-pb/cpython",
          "https://api.github.com/repos/samypr100/setup-dev-drive",
          "https://api.github.com/repos/lanking520/djl-serving",
          "https://api.github.com/repos/Sai-Suraj-27/transformers",
          "https://api.github.com/repos/pydicom/dicom-validator",
          "https://api.github.com/repos/invesalius/invesalius3",
          "https://api.github.com/repos/domino14/macondo",
          "https://api.github.com/repos/durandtibo/minrecord",
          "https://api.github.com/repos/YoeDistro/yoe-distro",
          "https://api.github.com/repos/EduardoPach/transformers",
          "https://api.github.com/repos/openscad/openscad-playground",
          "https://api.github.com/repos/Qodat/qodat",
          "https://api.github.com/repos/stefmolin/data-morph",
          "https://api.github.com/repos/py-why/pywhy-graphs",
          "https://api.github.com/repos/abdulfatir/chronos-forecasting",
          "https://api.github.com/repos/zoj613/bitgenerators",
          "https://api.github.com/repos/rainyl/opencv_dart",
          "https://api.github.com/repos/TrustLLMeu/trustllm-envs",
          "https://api.github.com/repos/spcl/dace",
          "https://api.github.com/repos/TheochemUI/EONgit",
          "https://api.github.com/repos/geventhttpclient/geventhttpclient",
          "https://api.github.com/repos/kekeimiku/PointerSearcher-X",
          "https://api.github.com/repos/google/xpk",
          "https://api.github.com/repos/tungld/onnx-mlir",
          "https://api.github.com/repos/dburian/transformer_document_embedding",
          "https://api.github.com/repos/chrisby/SoccerGPT",
          "https://api.github.com/repos/NeilGirdhar/efax",
          "https://api.github.com/repos/DataformerAI/dataformer-app",
          "https://api.github.com/repos/tenstorrent-metal/tt-metal",
          "https://api.github.com/repos/LSSTDESC/Blinding",
          "https://api.github.com/repos/AliveToolkit/alive2",
          "https://api.github.com/repos/node-webrtc/node-webrtc",
          "https://api.github.com/repos/lesteve/scikit-learn",
          "https://api.github.com/repos/erivlis/mappingtools"
         ],
         "xaxis": "x",
         "y": [
          19.04612965030654,
          19.039653482950154,
          19.03056363658183,
          19.029539097159414,
          19.021316231215756,
          19.019011589267006,
          19.017938666924923,
          19.017739486578396,
          19.01458918517921,
          19.013006350817676,
          19.001290781731846,
          18.99998753819401,
          18.989061292608973,
          18.987313966978185,
          18.98686653286642,
          18.982141080767647,
          18.98011307424192,
          18.979067049823392,
          18.975225910975016,
          18.97348825292456,
          18.97348825292456,
          18.971691691211376,
          18.971079226990973,
          18.966589030724233,
          18.962433336370438,
          18.96097927354271,
          18.95872915733145,
          18.958345804199162,
          18.95599357915444,
          18.954782875087304,
          18.953131186095053,
          18.94969297635608,
          18.946988967655113,
          18.941228253466104,
          18.940219077257808,
          18.93919506022292,
          18.938155872565297,
          18.93763048400977,
          18.92964650347354,
          18.92180369653126,
          18.920489682385664,
          18.91641286926729,
          18.90913284584162,
          18.907598138200527,
          18.897776009297566,
          18.896028803675406,
          18.896028803675406,
          18.894247671730486,
          18.893646250554276,
          18.89057959802213,
          18.889639768191383,
          18.88676331931546,
          18.88676331931546,
          18.882789668290986,
          18.878648705644434,
          18.878648705644434,
          18.876512145129986,
          18.87322068704016,
          18.87209968319798,
          18.87209968319798,
          18.87209968319798,
          18.869820719342986,
          18.865109153620303,
          18.865109153620303,
          18.860180964186235,
          18.854137141317285,
          18.849612076002323,
          18.840991826577323,
          18.837972920660548,
          18.83169986940492,
          18.83169986940492,
          18.827333604654306,
          18.825092255415655,
          18.82165451029962,
          18.81812258038588,
          18.814492541307875,
          18.80692131694517,
          18.802971112929853,
          18.7947169552859,
          18.79040228197201,
          18.79040228197201,
          18.781368434721063,
          18.774213627698312,
          18.774213627698312,
          18.771751758615217,
          18.771751758615217,
          18.77008833355907,
          18.766706944920344,
          18.764121999060166,
          18.761493970768978,
          18.761493970768978,
          18.761493970768978,
          18.758821773935082,
          18.756104285629434,
          18.756104285629434,
          18.756104285629434,
          18.753340344532226,
          18.75052874927817,
          18.747668256715354,
          18.744757580072488
         ],
         "yaxis": "y"
        }
       ],
       "layout": {
        "barmode": "relative",
        "legend": {
         "tracegroupgap": 0
        },
        "margin": {
         "t": 60
        },
        "template": {
         "data": {
          "bar": [
           {
            "error_x": {
             "color": "#2a3f5f"
            },
            "error_y": {
             "color": "#2a3f5f"
            },
            "marker": {
             "line": {
              "color": "#E5ECF6",
              "width": 0.5
             },
             "pattern": {
              "fillmode": "overlay",
              "size": 10,
              "solidity": 0.2
             }
            },
            "type": "bar"
           }
          ],
          "barpolar": [
           {
            "marker": {
             "line": {
              "color": "#E5ECF6",
              "width": 0.5
             },
             "pattern": {
              "fillmode": "overlay",
              "size": 10,
              "solidity": 0.2
             }
            },
            "type": "barpolar"
           }
          ],
          "carpet": [
           {
            "aaxis": {
             "endlinecolor": "#2a3f5f",
             "gridcolor": "white",
             "linecolor": "white",
             "minorgridcolor": "white",
             "startlinecolor": "#2a3f5f"
            },
            "baxis": {
             "endlinecolor": "#2a3f5f",
             "gridcolor": "white",
             "linecolor": "white",
             "minorgridcolor": "white",
             "startlinecolor": "#2a3f5f"
            },
            "type": "carpet"
           }
          ],
          "choropleth": [
           {
            "colorbar": {
             "outlinewidth": 0,
             "ticks": ""
            },
            "type": "choropleth"
           }
          ],
          "contour": [
           {
            "colorbar": {
             "outlinewidth": 0,
             "ticks": ""
            },
            "colorscale": [
             [
              0,
              "#0d0887"
             ],
             [
              0.1111111111111111,
              "#46039f"
             ],
             [
              0.2222222222222222,
              "#7201a8"
             ],
             [
              0.3333333333333333,
              "#9c179e"
             ],
             [
              0.4444444444444444,
              "#bd3786"
             ],
             [
              0.5555555555555556,
              "#d8576b"
             ],
             [
              0.6666666666666666,
              "#ed7953"
             ],
             [
              0.7777777777777778,
              "#fb9f3a"
             ],
             [
              0.8888888888888888,
              "#fdca26"
             ],
             [
              1,
              "#f0f921"
             ]
            ],
            "type": "contour"
           }
          ],
          "contourcarpet": [
           {
            "colorbar": {
             "outlinewidth": 0,
             "ticks": ""
            },
            "type": "contourcarpet"
           }
          ],
          "heatmap": [
           {
            "colorbar": {
             "outlinewidth": 0,
             "ticks": ""
            },
            "colorscale": [
             [
              0,
              "#0d0887"
             ],
             [
              0.1111111111111111,
              "#46039f"
             ],
             [
              0.2222222222222222,
              "#7201a8"
             ],
             [
              0.3333333333333333,
              "#9c179e"
             ],
             [
              0.4444444444444444,
              "#bd3786"
             ],
             [
              0.5555555555555556,
              "#d8576b"
             ],
             [
              0.6666666666666666,
              "#ed7953"
             ],
             [
              0.7777777777777778,
              "#fb9f3a"
             ],
             [
              0.8888888888888888,
              "#fdca26"
             ],
             [
              1,
              "#f0f921"
             ]
            ],
            "type": "heatmap"
           }
          ],
          "heatmapgl": [
           {
            "colorbar": {
             "outlinewidth": 0,
             "ticks": ""
            },
            "colorscale": [
             [
              0,
              "#0d0887"
             ],
             [
              0.1111111111111111,
              "#46039f"
             ],
             [
              0.2222222222222222,
              "#7201a8"
             ],
             [
              0.3333333333333333,
              "#9c179e"
             ],
             [
              0.4444444444444444,
              "#bd3786"
             ],
             [
              0.5555555555555556,
              "#d8576b"
             ],
             [
              0.6666666666666666,
              "#ed7953"
             ],
             [
              0.7777777777777778,
              "#fb9f3a"
             ],
             [
              0.8888888888888888,
              "#fdca26"
             ],
             [
              1,
              "#f0f921"
             ]
            ],
            "type": "heatmapgl"
           }
          ],
          "histogram": [
           {
            "marker": {
             "pattern": {
              "fillmode": "overlay",
              "size": 10,
              "solidity": 0.2
             }
            },
            "type": "histogram"
           }
          ],
          "histogram2d": [
           {
            "colorbar": {
             "outlinewidth": 0,
             "ticks": ""
            },
            "colorscale": [
             [
              0,
              "#0d0887"
             ],
             [
              0.1111111111111111,
              "#46039f"
             ],
             [
              0.2222222222222222,
              "#7201a8"
             ],
             [
              0.3333333333333333,
              "#9c179e"
             ],
             [
              0.4444444444444444,
              "#bd3786"
             ],
             [
              0.5555555555555556,
              "#d8576b"
             ],
             [
              0.6666666666666666,
              "#ed7953"
             ],
             [
              0.7777777777777778,
              "#fb9f3a"
             ],
             [
              0.8888888888888888,
              "#fdca26"
             ],
             [
              1,
              "#f0f921"
             ]
            ],
            "type": "histogram2d"
           }
          ],
          "histogram2dcontour": [
           {
            "colorbar": {
             "outlinewidth": 0,
             "ticks": ""
            },
            "colorscale": [
             [
              0,
              "#0d0887"
             ],
             [
              0.1111111111111111,
              "#46039f"
             ],
             [
              0.2222222222222222,
              "#7201a8"
             ],
             [
              0.3333333333333333,
              "#9c179e"
             ],
             [
              0.4444444444444444,
              "#bd3786"
             ],
             [
              0.5555555555555556,
              "#d8576b"
             ],
             [
              0.6666666666666666,
              "#ed7953"
             ],
             [
              0.7777777777777778,
              "#fb9f3a"
             ],
             [
              0.8888888888888888,
              "#fdca26"
             ],
             [
              1,
              "#f0f921"
             ]
            ],
            "type": "histogram2dcontour"
           }
          ],
          "mesh3d": [
           {
            "colorbar": {
             "outlinewidth": 0,
             "ticks": ""
            },
            "type": "mesh3d"
           }
          ],
          "parcoords": [
           {
            "line": {
             "colorbar": {
              "outlinewidth": 0,
              "ticks": ""
             }
            },
            "type": "parcoords"
           }
          ],
          "pie": [
           {
            "automargin": true,
            "type": "pie"
           }
          ],
          "scatter": [
           {
            "fillpattern": {
             "fillmode": "overlay",
             "size": 10,
             "solidity": 0.2
            },
            "type": "scatter"
           }
          ],
          "scatter3d": [
           {
            "line": {
             "colorbar": {
              "outlinewidth": 0,
              "ticks": ""
             }
            },
            "marker": {
             "colorbar": {
              "outlinewidth": 0,
              "ticks": ""
             }
            },
            "type": "scatter3d"
           }
          ],
          "scattercarpet": [
           {
            "marker": {
             "colorbar": {
              "outlinewidth": 0,
              "ticks": ""
             }
            },
            "type": "scattercarpet"
           }
          ],
          "scattergeo": [
           {
            "marker": {
             "colorbar": {
              "outlinewidth": 0,
              "ticks": ""
             }
            },
            "type": "scattergeo"
           }
          ],
          "scattergl": [
           {
            "marker": {
             "colorbar": {
              "outlinewidth": 0,
              "ticks": ""
             }
            },
            "type": "scattergl"
           }
          ],
          "scattermapbox": [
           {
            "marker": {
             "colorbar": {
              "outlinewidth": 0,
              "ticks": ""
             }
            },
            "type": "scattermapbox"
           }
          ],
          "scatterpolar": [
           {
            "marker": {
             "colorbar": {
              "outlinewidth": 0,
              "ticks": ""
             }
            },
            "type": "scatterpolar"
           }
          ],
          "scatterpolargl": [
           {
            "marker": {
             "colorbar": {
              "outlinewidth": 0,
              "ticks": ""
             }
            },
            "type": "scatterpolargl"
           }
          ],
          "scatterternary": [
           {
            "marker": {
             "colorbar": {
              "outlinewidth": 0,
              "ticks": ""
             }
            },
            "type": "scatterternary"
           }
          ],
          "surface": [
           {
            "colorbar": {
             "outlinewidth": 0,
             "ticks": ""
            },
            "colorscale": [
             [
              0,
              "#0d0887"
             ],
             [
              0.1111111111111111,
              "#46039f"
             ],
             [
              0.2222222222222222,
              "#7201a8"
             ],
             [
              0.3333333333333333,
              "#9c179e"
             ],
             [
              0.4444444444444444,
              "#bd3786"
             ],
             [
              0.5555555555555556,
              "#d8576b"
             ],
             [
              0.6666666666666666,
              "#ed7953"
             ],
             [
              0.7777777777777778,
              "#fb9f3a"
             ],
             [
              0.8888888888888888,
              "#fdca26"
             ],
             [
              1,
              "#f0f921"
             ]
            ],
            "type": "surface"
           }
          ],
          "table": [
           {
            "cells": {
             "fill": {
              "color": "#EBF0F8"
             },
             "line": {
              "color": "white"
             }
            },
            "header": {
             "fill": {
              "color": "#C8D4E3"
             },
             "line": {
              "color": "white"
             }
            },
            "type": "table"
           }
          ]
         },
         "layout": {
          "annotationdefaults": {
           "arrowcolor": "#2a3f5f",
           "arrowhead": 0,
           "arrowwidth": 1
          },
          "autotypenumbers": "strict",
          "coloraxis": {
           "colorbar": {
            "outlinewidth": 0,
            "ticks": ""
           }
          },
          "colorscale": {
           "diverging": [
            [
             0,
             "#8e0152"
            ],
            [
             0.1,
             "#c51b7d"
            ],
            [
             0.2,
             "#de77ae"
            ],
            [
             0.3,
             "#f1b6da"
            ],
            [
             0.4,
             "#fde0ef"
            ],
            [
             0.5,
             "#f7f7f7"
            ],
            [
             0.6,
             "#e6f5d0"
            ],
            [
             0.7,
             "#b8e186"
            ],
            [
             0.8,
             "#7fbc41"
            ],
            [
             0.9,
             "#4d9221"
            ],
            [
             1,
             "#276419"
            ]
           ],
           "sequential": [
            [
             0,
             "#0d0887"
            ],
            [
             0.1111111111111111,
             "#46039f"
            ],
            [
             0.2222222222222222,
             "#7201a8"
            ],
            [
             0.3333333333333333,
             "#9c179e"
            ],
            [
             0.4444444444444444,
             "#bd3786"
            ],
            [
             0.5555555555555556,
             "#d8576b"
            ],
            [
             0.6666666666666666,
             "#ed7953"
            ],
            [
             0.7777777777777778,
             "#fb9f3a"
            ],
            [
             0.8888888888888888,
             "#fdca26"
            ],
            [
             1,
             "#f0f921"
            ]
           ],
           "sequentialminus": [
            [
             0,
             "#0d0887"
            ],
            [
             0.1111111111111111,
             "#46039f"
            ],
            [
             0.2222222222222222,
             "#7201a8"
            ],
            [
             0.3333333333333333,
             "#9c179e"
            ],
            [
             0.4444444444444444,
             "#bd3786"
            ],
            [
             0.5555555555555556,
             "#d8576b"
            ],
            [
             0.6666666666666666,
             "#ed7953"
            ],
            [
             0.7777777777777778,
             "#fb9f3a"
            ],
            [
             0.8888888888888888,
             "#fdca26"
            ],
            [
             1,
             "#f0f921"
            ]
           ]
          },
          "colorway": [
           "#636efa",
           "#EF553B",
           "#00cc96",
           "#ab63fa",
           "#FFA15A",
           "#19d3f3",
           "#FF6692",
           "#B6E880",
           "#FF97FF",
           "#FECB52"
          ],
          "font": {
           "color": "#2a3f5f"
          },
          "geo": {
           "bgcolor": "white",
           "lakecolor": "white",
           "landcolor": "#E5ECF6",
           "showlakes": true,
           "showland": true,
           "subunitcolor": "white"
          },
          "hoverlabel": {
           "align": "left"
          },
          "hovermode": "closest",
          "mapbox": {
           "style": "light"
          },
          "paper_bgcolor": "white",
          "plot_bgcolor": "#E5ECF6",
          "polar": {
           "angularaxis": {
            "gridcolor": "white",
            "linecolor": "white",
            "ticks": ""
           },
           "bgcolor": "#E5ECF6",
           "radialaxis": {
            "gridcolor": "white",
            "linecolor": "white",
            "ticks": ""
           }
          },
          "scene": {
           "xaxis": {
            "backgroundcolor": "#E5ECF6",
            "gridcolor": "white",
            "gridwidth": 2,
            "linecolor": "white",
            "showbackground": true,
            "ticks": "",
            "zerolinecolor": "white"
           },
           "yaxis": {
            "backgroundcolor": "#E5ECF6",
            "gridcolor": "white",
            "gridwidth": 2,
            "linecolor": "white",
            "showbackground": true,
            "ticks": "",
            "zerolinecolor": "white"
           },
           "zaxis": {
            "backgroundcolor": "#E5ECF6",
            "gridcolor": "white",
            "gridwidth": 2,
            "linecolor": "white",
            "showbackground": true,
            "ticks": "",
            "zerolinecolor": "white"
           }
          },
          "shapedefaults": {
           "line": {
            "color": "#2a3f5f"
           }
          },
          "ternary": {
           "aaxis": {
            "gridcolor": "white",
            "linecolor": "white",
            "ticks": ""
           },
           "baxis": {
            "gridcolor": "white",
            "linecolor": "white",
            "ticks": ""
           },
           "bgcolor": "#E5ECF6",
           "caxis": {
            "gridcolor": "white",
            "linecolor": "white",
            "ticks": ""
           }
          },
          "title": {
           "x": 0.05
          },
          "xaxis": {
           "automargin": true,
           "gridcolor": "white",
           "linecolor": "white",
           "ticks": "",
           "title": {
            "standoff": 15
           },
           "zerolinecolor": "white",
           "zerolinewidth": 2
          },
          "yaxis": {
           "automargin": true,
           "gridcolor": "white",
           "linecolor": "white",
           "ticks": "",
           "title": {
            "standoff": 15
           },
           "zerolinecolor": "white",
           "zerolinewidth": 2
          }
         }
        },
        "xaxis": {
         "anchor": "y",
         "domain": [
          0,
          1
         ],
         "title": {
          "text": "repo_git"
         }
        },
        "yaxis": {
         "anchor": "x",
         "domain": [
          0,
          1
         ],
         "title": {
          "text": "alpha"
         }
        }
       }
      }
     },
     "metadata": {},
     "output_type": "display_data"
    }
   ],
   "source": [
    "# visualize alpha scores\n",
    "\n",
    "fig = px.bar(\n",
    "    data_frame = joined_counts.sort_values(by=\"alpha\", ascending=False)[:100],\n",
    "    y=\"alpha\",\n",
    "    custom_data=[\"count_known\", \"count_general\"]\n",
    ")\n",
    "fig.update_traces(hovertemplate = \"Repo:%{label}: <br>Alpha: %{value} </br>(count_known, count_general) : %{customdata}\"\n",
    ")\n",
    "fig.write_image(\"alpha_scores.png\")\n",
    "fig"
   ]
  },
  {
   "cell_type": "code",
   "execution_count": 31,
   "metadata": {},
   "outputs": [
    {
     "data": {
      "image/png": "[encoded data removed]",
      "text/plain": [
       "<IPython.core.display.Image object>"
      ]
     },
     "execution_count": 31,
     "metadata": {},
     "output_type": "execute_result"
    }
   ],
   "source": [
    "Image(\"alpha_scores.png\")"
   ]
  },
  {
   "cell_type": "markdown",
   "metadata": {},
   "source": [
    "To understand this graph, let's take a given alpha value and interpret it.\n",
    "\n",
    "For moondance-labs/tanssi, the alpha value is 16.93 - we can interpret this value as \"Members of the subpopulation 'p' are 16.9x more likely to contribute to this repository than members of the general population 'P^' are.\"\n",
    "\n",
    "Most of the alpha values we see in this top-100 alpha values plot are similar enough that the graph looks flat, but they're all slightly different values, based on count_general and count_known.\n",
    "\n",
    "Observing the top 1000 repos by alpha value, the alpha value decreases fairly steadily without major outliers."
   ]
  },
  {
   "cell_type": "markdown",
   "metadata": {},
   "source": [
    "### Implement beta\n",
    "\n",
    "'beta' attempts to connect the probablistic metric that 'alpha' provides to the real volume of contribution events that a repo experiences. The number of events is log-scaled so that orders-of-magnitude differences are smoothed out.\n",
    "\n",
    "Ideally, 'beta' allows us to see which repos are not only disproportionately 'popular' among the subpopulation (which can be biased toward projects that are ONLY contributed to by our subpopulation) but are also GENERALLY seeing lots of work being done."
   ]
  },
  {
   "cell_type": "code",
   "execution_count": 32,
   "metadata": {},
   "outputs": [],
   "source": [
    "# take the log of the count of known contributors.\n",
    "# This reduces the impact of very high contribution volume, shifting the \n",
    "# impact toward the alpha value.\n",
    "\n",
    "joined_counts[\"log_count_known\"] = joined_counts[\"count_known\"].apply(lambda x: math.log(x) if x>0 else 0)"
   ]
  },
  {
   "cell_type": "code",
   "execution_count": 33,
   "metadata": {},
   "outputs": [
    {
     "data": {
      "text/html": [
       "<div>\n",
       "<style scoped>\n",
       "    .dataframe tbody tr th:only-of-type {\n",
       "        vertical-align: middle;\n",
       "    }\n",
       "\n",
       "    .dataframe tbody tr th {\n",
       "        vertical-align: top;\n",
       "    }\n",
       "\n",
       "    .dataframe thead th {\n",
       "        text-align: right;\n",
       "    }\n",
       "</style>\n",
       "<table border=\"1\" class=\"dataframe\">\n",
       "  <thead>\n",
       "    <tr style=\"text-align: right;\">\n",
       "      <th></th>\n",
       "      <th>count_general</th>\n",
       "      <th>count_known</th>\n",
       "      <th>p_known</th>\n",
       "      <th>p_everyone</th>\n",
       "      <th>alpha</th>\n",
       "      <th>log_count_known</th>\n",
       "      <th>beta</th>\n",
       "    </tr>\n",
       "    <tr>\n",
       "      <th>repo_git</th>\n",
       "      <th></th>\n",
       "      <th></th>\n",
       "      <th></th>\n",
       "      <th></th>\n",
       "      <th></th>\n",
       "      <th></th>\n",
       "      <th></th>\n",
       "    </tr>\n",
       "  </thead>\n",
       "  <tbody>\n",
       "    <tr>\n",
       "      <th>https://api.github.com/repos/pytorch/pytorch</th>\n",
       "      <td>18197</td>\n",
       "      <td>46056.0</td>\n",
       "      <td>0.131437</td>\n",
       "      <td>0.009611</td>\n",
       "      <td>13.676012</td>\n",
       "      <td>10.737613</td>\n",
       "      <td>146.847725</td>\n",
       "    </tr>\n",
       "    <tr>\n",
       "      <th>https://api.github.com/repos/huggingface/transformers</th>\n",
       "      <td>14637</td>\n",
       "      <td>2121.0</td>\n",
       "      <td>0.006053</td>\n",
       "      <td>0.002507</td>\n",
       "      <td>2.414822</td>\n",
       "      <td>7.659643</td>\n",
       "      <td>18.496675</td>\n",
       "    </tr>\n",
       "    <tr>\n",
       "      <th>https://api.github.com/repos/langchain-ai/langchain</th>\n",
       "      <td>13750</td>\n",
       "      <td>85.0</td>\n",
       "      <td>0.000243</td>\n",
       "      <td>0.002069</td>\n",
       "      <td>0.117221</td>\n",
       "      <td>4.442651</td>\n",
       "      <td>0.520773</td>\n",
       "    </tr>\n",
       "    <tr>\n",
       "      <th>https://api.github.com/repos/llvm/llvm-project</th>\n",
       "      <td>13325</td>\n",
       "      <td>4918.0</td>\n",
       "      <td>0.014035</td>\n",
       "      <td>0.002729</td>\n",
       "      <td>5.143502</td>\n",
       "      <td>8.500657</td>\n",
       "      <td>43.723148</td>\n",
       "    </tr>\n",
       "    <tr>\n",
       "      <th>https://api.github.com/repos/vllm-project/vllm</th>\n",
       "      <td>11306</td>\n",
       "      <td>2769.0</td>\n",
       "      <td>0.007902</td>\n",
       "      <td>0.002105</td>\n",
       "      <td>3.753541</td>\n",
       "      <td>7.926242</td>\n",
       "      <td>29.751476</td>\n",
       "    </tr>\n",
       "    <tr>\n",
       "      <th>https://api.github.com/repos/NVIDIA/NeMo</th>\n",
       "      <td>10834</td>\n",
       "      <td>229.0</td>\n",
       "      <td>0.000654</td>\n",
       "      <td>0.001655</td>\n",
       "      <td>0.394938</td>\n",
       "      <td>5.433722</td>\n",
       "      <td>2.145985</td>\n",
       "    </tr>\n",
       "    <tr>\n",
       "      <th>https://api.github.com/repos/NixOS/nixpkgs</th>\n",
       "      <td>10746</td>\n",
       "      <td>2306.0</td>\n",
       "      <td>0.006581</td>\n",
       "      <td>0.001952</td>\n",
       "      <td>3.370923</td>\n",
       "      <td>7.743270</td>\n",
       "      <td>26.101970</td>\n",
       "    </tr>\n",
       "    <tr>\n",
       "      <th>https://api.github.com/repos/milvus-io/milvus</th>\n",
       "      <td>10474</td>\n",
       "      <td>13.0</td>\n",
       "      <td>0.000037</td>\n",
       "      <td>0.001569</td>\n",
       "      <td>0.023652</td>\n",
       "      <td>2.564949</td>\n",
       "      <td>0.060665</td>\n",
       "    </tr>\n",
       "    <tr>\n",
       "      <th>https://api.github.com/repos/run-llama/llama_index</th>\n",
       "      <td>8873</td>\n",
       "      <td>86.0</td>\n",
       "      <td>0.000245</td>\n",
       "      <td>0.001340</td>\n",
       "      <td>0.183149</td>\n",
       "      <td>4.454347</td>\n",
       "      <td>0.815811</td>\n",
       "    </tr>\n",
       "    <tr>\n",
       "      <th>https://api.github.com/repos/python/cpython</th>\n",
       "      <td>8449</td>\n",
       "      <td>2142.0</td>\n",
       "      <td>0.006113</td>\n",
       "      <td>0.001584</td>\n",
       "      <td>3.858772</td>\n",
       "      <td>7.669495</td>\n",
       "      <td>29.594836</td>\n",
       "    </tr>\n",
       "  </tbody>\n",
       "</table>\n",
       "</div>"
      ],
      "text/plain": [
       "                                                    count_general  \\\n",
       "repo_git                                                            \n",
       "https://api.github.com/repos/pytorch/pytorch                18197   \n",
       "https://api.github.com/repos/huggingface/transf...          14637   \n",
       "https://api.github.com/repos/langchain-ai/langc...          13750   \n",
       "https://api.github.com/repos/llvm/llvm-project              13325   \n",
       "https://api.github.com/repos/vllm-project/vllm              11306   \n",
       "https://api.github.com/repos/NVIDIA/NeMo                    10834   \n",
       "https://api.github.com/repos/NixOS/nixpkgs                  10746   \n",
       "https://api.github.com/repos/milvus-io/milvus               10474   \n",
       "https://api.github.com/repos/run-llama/llama_index           8873   \n",
       "https://api.github.com/repos/python/cpython                  8449   \n",
       "\n",
       "                                                    count_known   p_known  \\\n",
       "repo_git                                                                    \n",
       "https://api.github.com/repos/pytorch/pytorch            46056.0  0.131437   \n",
       "https://api.github.com/repos/huggingface/transf...       2121.0  0.006053   \n",
       "https://api.github.com/repos/langchain-ai/langc...         85.0  0.000243   \n",
       "https://api.github.com/repos/llvm/llvm-project           4918.0  0.014035   \n",
       "https://api.github.com/repos/vllm-project/vllm           2769.0  0.007902   \n",
       "https://api.github.com/repos/NVIDIA/NeMo                  229.0  0.000654   \n",
       "https://api.github.com/repos/NixOS/nixpkgs               2306.0  0.006581   \n",
       "https://api.github.com/repos/milvus-io/milvus              13.0  0.000037   \n",
       "https://api.github.com/repos/run-llama/llama_index         86.0  0.000245   \n",
       "https://api.github.com/repos/python/cpython              2142.0  0.006113   \n",
       "\n",
       "                                                    p_everyone      alpha  \\\n",
       "repo_git                                                                    \n",
       "https://api.github.com/repos/pytorch/pytorch          0.009611  13.676012   \n",
       "https://api.github.com/repos/huggingface/transf...    0.002507   2.414822   \n",
       "https://api.github.com/repos/langchain-ai/langc...    0.002069   0.117221   \n",
       "https://api.github.com/repos/llvm/llvm-project        0.002729   5.143502   \n",
       "https://api.github.com/repos/vllm-project/vllm        0.002105   3.753541   \n",
       "https://api.github.com/repos/NVIDIA/NeMo              0.001655   0.394938   \n",
       "https://api.github.com/repos/NixOS/nixpkgs            0.001952   3.370923   \n",
       "https://api.github.com/repos/milvus-io/milvus         0.001569   0.023652   \n",
       "https://api.github.com/repos/run-llama/llama_index    0.001340   0.183149   \n",
       "https://api.github.com/repos/python/cpython           0.001584   3.858772   \n",
       "\n",
       "                                                    log_count_known  \\\n",
       "repo_git                                                              \n",
       "https://api.github.com/repos/pytorch/pytorch              10.737613   \n",
       "https://api.github.com/repos/huggingface/transf...         7.659643   \n",
       "https://api.github.com/repos/langchain-ai/langc...         4.442651   \n",
       "https://api.github.com/repos/llvm/llvm-project             8.500657   \n",
       "https://api.github.com/repos/vllm-project/vllm             7.926242   \n",
       "https://api.github.com/repos/NVIDIA/NeMo                   5.433722   \n",
       "https://api.github.com/repos/NixOS/nixpkgs                 7.743270   \n",
       "https://api.github.com/repos/milvus-io/milvus              2.564949   \n",
       "https://api.github.com/repos/run-llama/llama_index         4.454347   \n",
       "https://api.github.com/repos/python/cpython                7.669495   \n",
       "\n",
       "                                                          beta  \n",
       "repo_git                                                        \n",
       "https://api.github.com/repos/pytorch/pytorch        146.847725  \n",
       "https://api.github.com/repos/huggingface/transf...   18.496675  \n",
       "https://api.github.com/repos/langchain-ai/langc...    0.520773  \n",
       "https://api.github.com/repos/llvm/llvm-project       43.723148  \n",
       "https://api.github.com/repos/vllm-project/vllm       29.751476  \n",
       "https://api.github.com/repos/NVIDIA/NeMo              2.145985  \n",
       "https://api.github.com/repos/NixOS/nixpkgs           26.101970  \n",
       "https://api.github.com/repos/milvus-io/milvus         0.060665  \n",
       "https://api.github.com/repos/run-llama/llama_index    0.815811  \n",
       "https://api.github.com/repos/python/cpython          29.594836  "
      ]
     },
     "execution_count": 33,
     "metadata": {},
     "output_type": "execute_result"
    }
   ],
   "source": [
    "joined_counts[\"beta\"] = joined_counts[\"alpha\"] * joined_counts[\"log_count_known\"] \n",
    "joined_counts[:10]"
   ]
  },
  {
   "cell_type": "code",
   "execution_count": 34,
   "metadata": {},
   "outputs": [
    {
     "data": {
      "application/vnd.plotly.v1+json": {
       "config": {
        "plotlyServerURL": "https://plot.ly"
       },
       "data": [
        {
         "alignmentgroup": "True",
         "customdata": [
          [
           13.676011692935308,
           10.737613326355646,
           46056,
           18197
          ],
          [
           16.92498511684915,
           8.0040315078527,
           2993,
           381
          ],
          [
           16.338488900779478,
           8.114922974204593,
           3344,
           561
          ],
          [
           18.007330403790217,
           7.298445101508147,
           1478,
           88
          ],
          [
           18.332041636299166,
           6.837332814685591,
           932,
           38
          ],
          [
           14.259322371691747,
           8.604837701268284,
           5458,
           1845
          ],
          [
           19.019011589267006,
           6.444131256700441,
           629,
           2
          ],
          [
           19.04612965030654,
           6.3473892096560105,
           571,
           1
          ],
          [
           18.578943338912783,
           6.447305862541213,
           631,
           17
          ],
          [
           19.039653482950154,
           6.169610732491456,
           478,
           1
          ],
          [
           18.60838698921217,
           6.161207321695077,
           474,
           12
          ],
          [
           19.03056363658183,
           5.963579343618446,
           389,
           1
          ],
          [
           19.029539097159414,
           5.942799375126701,
           381,
           1
          ],
          [
           18.98011307424192,
           5.945420608606575,
           382,
           2
          ],
          [
           18.92964650347354,
           5.937536205082426,
           379,
           3
          ],
          [
           18.764121999060166,
           5.877735781779639,
           357,
           6
          ],
          [
           19.021316231215756,
           5.7899601708972535,
           327,
           1
          ],
          [
           18.01037629864877,
           6.082218910376446,
           438,
           26
          ],
          [
           13.572227028186733,
           8.05579245097777,
           3152,
           1279
          ],
          [
           19.017938666924923,
           5.733341276897746,
           309,
           1
          ],
          [
           19.017739486578396,
           5.730099782973574,
           308,
           1
          ],
          [
           18.958345804199162,
           5.746203190540153,
           313,
           2
          ],
          [
           18.95599357915444,
           5.726847747587197,
           307,
           2
          ],
          [
           18.452214641322822,
           5.8664680569332965,
           353,
           12
          ],
          [
           18.893646250554276,
           5.720311776607412,
           305,
           3
          ],
          [
           19.01458918517921,
           5.680172609017068,
           293,
           1
          ],
          [
           18.619738758002295,
           5.780743515792329,
           324,
           8
          ],
          [
           19.013006350817676,
           5.655991810819852,
           286,
           1
          ],
          [
           17.45489554857245,
           6.135564891081739,
           462,
           43
          ],
          [
           17.74525564617002,
           5.988961416889864,
           399,
           30
          ],
          [
           16.58964052587008,
           6.385194398997726,
           593,
           89
          ],
          [
           18.93763048400977,
           5.58724865840025,
           267,
           2
          ],
          [
           17.157027740234053,
           6.159095388491933,
           473,
           53
          ],
          [
           12.792382240537503,
           8.165647925297504,
           3518,
           1729
          ],
          [
           19.001290781731846,
           5.493061443340548,
           243,
           1
          ],
          [
           18.48939821686826,
           5.641907070938114,
           282,
           9
          ],
          [
           18.854137141317285,
           5.5254529391317835,
           251,
           3
          ],
          [
           18.99998753819401,
           5.476463551931511,
           239,
           1
          ],
          [
           18.584832068972663,
           5.572154032177765,
           263,
           7
          ],
          [
           15.201259687780457,
           6.777646593635117,
           878,
           224
          ],
          [
           17.70533963155343,
           5.814130531825066,
           335,
           26
          ],
          [
           17.887017556877208,
           5.703782474656201,
           300,
           20
          ],
          [
           18.681996114960636,
           5.459585514144159,
           235,
           5
          ],
          [
           18.753340344532226,
           5.438079308923196,
           230,
           4
          ],
          [
           18.827333604654306,
           5.4116460518550396,
           224,
           3
          ],
          [
           15.140143500093206,
           6.726233402358747,
           834,
           217
          ],
          [
           18.989061292608973,
           5.3471075307174685,
           210,
           1
          ],
          [
           18.987313966978185,
           5.327876168789581,
           206,
           1
          ],
          [
           18.98686653286642,
           5.3230099791384085,
           205,
           1
          ],
          [
           18.58816817355594,
           5.424950017481403,
           227,
           6
          ],
          [
           17.68194347023785,
           5.673323267171493,
           291,
           23
          ],
          [
           18.982141080767647,
           5.272999558563747,
           195,
           1
          ],
          [
           17.707757685936823,
           5.648974238161206,
           284,
           22
          ],
          [
           18.889639768191383,
           5.293304824724492,
           199,
           2
          ],
          [
           18.075301952212754,
           5.529429087511423,
           252,
           14
          ],
          [
           18.979067049823392,
           5.241747015059643,
           189,
           1
          ],
          [
           18.7947169552859,
           5.288267030694535,
           198,
           3
          ],
          [
           18.554361942791278,
           5.356586274672012,
           212,
           6
          ],
          [
           18.975225910975016,
           5.204006687076795,
           182,
           1
          ],
          [
           17.726330401519913,
           5.568344503761097,
           262,
           20
          ],
          [
           16.515942202297193,
           5.973809611869261,
           393,
           61
          ],
          [
           17.91432598062816,
           5.5053315359323625,
           246,
           16
          ],
          [
           18.97348825292456,
           5.187385805840755,
           179,
           1
          ],
          [
           18.97348825292456,
           5.187385805840755,
           179,
           1
          ],
          [
           18.87322068704016,
           5.209486152841421,
           183,
           2
          ],
          [
           18.526456831857356,
           5.303304908059076,
           201,
           6
          ],
          [
           18.971691691211376,
           5.170483995038151,
           176,
           1
          ],
          [
           18.869820719342986,
           5.19295685089021,
           180,
           2
          ],
          [
           18.600101338876666,
           5.267858159063328,
           194,
           5
          ],
          [
           18.971079226990973,
           5.1647859739235145,
           175,
           1
          ],
          [
           15.033006856648772,
           6.499787040655854,
           665,
           179
          ],
          [
           18.77008833355907,
           5.204006687076795,
           182,
           3
          ],
          [
           18.590267819797166,
           5.247024072160486,
           190,
           5
          ],
          [
           18.966589030724233,
           5.123963979403259,
           168,
           1
          ],
          [
           18.860180964186235,
           5.147494476813453,
           172,
           2
          ],
          [
           18.41170340521227,
           5.262690188904886,
           193,
           7
          ],
          [
           14.471609676205556,
           6.6895992691789665,
           804,
           256
          ],
          [
           15.568114303575207,
           6.2166061010848646,
           501,
           113
          ],
          [
           18.962433336370438,
           5.087596335232384,
           162,
           1
          ],
          [
           17.606166058558156,
           5.476463551931511,
           239,
           20
          ],
          [
           18.96097927354271,
           5.075173815233827,
           160,
           1
          ],
          [
           18.229409312091356,
           5.262690188904886,
           193,
           9
          ],
          [
           18.95872915733145,
           5.056245805348308,
           157,
           1
          ],
          [
           18.64338287071087,
           5.14166355650266,
           171,
           4
          ],
          [
           18.546538874616807,
           5.159055299214529,
           174,
           5
          ],
          [
           11.78956343845468,
           8.096512917501594,
           3283,
           2030
          ],
          [
           18.73467541700231,
           5.093750200806762,
           163,
           3
          ],
          [
           17.59378776086282,
           5.41610040220442,
           225,
           19
          ],
          [
           18.954782875087304,
           5.0238805208462765,
           152,
           1
          ],
          [
           16.21525271984219,
           5.860786223465865,
           351,
           62
          ],
          [
           15.477065074855055,
           6.139884552226255,
           464,
           108
          ],
          [
           18.439949570739703,
           5.153291594497779,
           173,
           6
          ],
          [
           18.953131186095053,
           5.0106352940962555,
           150,
           1
          ],
          [
           15.846350839788567,
           5.983936280687191,
           397,
           81
          ],
          [
           14.798831619706952,
           6.405228458030842,
           605,
           175
          ],
          [
           13.254008250089498,
           7.142827401161621,
           1265,
           556
          ],
          [
           18.94969297635608,
           4.983606621708336,
           146,
           1
          ],
          [
           17.82543471082849,
           5.293304824724492,
           199,
           14
          ],
          [
           18.50824331633761,
           5.087596335232384,
           162,
           5
          ],
          [
           18.60546091216378,
           5.056245805348308,
           157,
           4
          ]
         ],
         "hovertemplate": "repo_git=%{x}<br>beta=%{y}<br>alpha=%{customdata[0]}<br>log_count_known=%{customdata[1]}<br>count_known=%{customdata[2]}<br>count_general=%{customdata[3]}<extra></extra>",
         "legendgroup": "",
         "marker": {
          "color": "#636efa",
          "pattern": {
           "shape": ""
          }
         },
         "name": "",
         "offsetgroup": "",
         "orientation": "v",
         "showlegend": false,
         "textposition": "auto",
         "type": "bar",
         "x": [
          "https://api.github.com/repos/pytorch/pytorch",
          "https://api.github.com/repos/pytorch/ao",
          "https://api.github.com/repos/Lightning-AI/lightning-thunder",
          "https://api.github.com/repos/pytorch/test-infra",
          "https://api.github.com/repos/pytorch-labs/float8_experimental",
          "https://api.github.com/repos/pytorch/executorch",
          "https://api.github.com/repos/durandtibo/flamme",
          "https://api.github.com/repos/NoteDance/Note",
          "https://api.github.com/repos/freelawproject/courtlistener",
          "https://api.github.com/repos/JuliaDynamics/DynamicSumTypes.jl",
          "https://api.github.com/repos/google/oss-fuzz-gen",
          "https://api.github.com/repos/SkyblockerMod/Skyblocker",
          "https://api.github.com/repos/PTB-MR/mrpro",
          "https://api.github.com/repos/Qiskit/benchpress",
          "https://api.github.com/repos/mlondschien/ivmodels",
          "https://api.github.com/repos/google/xpk",
          "https://api.github.com/repos/durandtibo/grizz",
          "https://api.github.com/repos/mikel-brostrom/boxmot",
          "https://api.github.com/repos/pytorch/xla",
          "https://api.github.com/repos/fenar/TME-AIX",
          "https://api.github.com/repos/durandtibo/karbonn",
          "https://api.github.com/repos/BrettRyland/BDArmory",
          "https://api.github.com/repos/joelberkeley/spidr",
          "https://api.github.com/repos/certd/certd",
          "https://api.github.com/repos/fluent/fluent-operator",
          "https://api.github.com/repos/ixray-team/ixray-1.6-stcop",
          "https://api.github.com/repos/ericmjl/llamabot",
          "https://api.github.com/repos/apytypes/apytypes",
          "https://api.github.com/repos/Ascend/pytorch",
          "https://api.github.com/repos/scientific-python/specs",
          "https://api.github.com/repos/mrousavy/react-native-vision-camera",
          "https://api.github.com/repos/cta-observatory/ctapipe",
          "https://api.github.com/repos/zeta-chain/node",
          "https://api.github.com/repos/openxla/xla",
          "https://api.github.com/repos/DLS5-Omics/multimolecule",
          "https://api.github.com/repos/numpy/numpy.org",
          "https://api.github.com/repos/wei/socialify",
          "https://api.github.com/repos/CaptainDario/DaKanji",
          "https://api.github.com/repos/pocketpy/gsoc-2024-dev",
          "https://api.github.com/repos/google-ai-edge/ai-edge-torch",
          "https://api.github.com/repos/megvii-research/megfile",
          "https://api.github.com/repos/aadya940/chainopy",
          "https://api.github.com/repos/podofo/podofo",
          "https://api.github.com/repos/AliveToolkit/alive2",
          "https://api.github.com/repos/invesalius/invesalius3",
          "https://api.github.com/repos/ROCm/pytorch",
          "https://api.github.com/repos/sun-data/optika",
          "https://api.github.com/repos/samypr100/uv",
          "https://api.github.com/repos/enola-dev/enola",
          "https://api.github.com/repos/AIWintermuteAI/whispercpp",
          "https://api.github.com/repos/GoogleCloudPlatform/gcsfuse",
          "https://api.github.com/repos/rickeylev/rules_python",
          "https://api.github.com/repos/omni-us/jsonargparse",
          "https://api.github.com/repos/WeichenXu123/mlflow",
          "https://api.github.com/repos/gboeing/osmnx",
          "https://api.github.com/repos/siemens/linux-entra-sso",
          "https://api.github.com/repos/stefmolin/data-morph",
          "https://api.github.com/repos/Intel-tensorflow/tensorflow",
          "https://api.github.com/repos/SatelliteShorelines/CoastSeg",
          "https://api.github.com/repos/blockworks-foundation/mango-v4",
          "https://api.github.com/repos/AstroNvim/astrocommunity",
          "https://api.github.com/repos/Lightning-AI/tutorials",
          "https://api.github.com/repos/DiamondLightSource/dodal",
          "https://api.github.com/repos/HugoMVale/odrpack95",
          "https://api.github.com/repos/VigneshVSV/hololinked",
          "https://api.github.com/repos/drawthingsai/draw-things-community",
          "https://api.github.com/repos/mkoeppe/sage",
          "https://api.github.com/repos/serge-chat/serge",
          "https://api.github.com/repos/tinygrad/tinyos",
          "https://api.github.com/repos/mattjj/jax",
          "https://api.github.com/repos/pytorch/tutorials",
          "https://api.github.com/repos/geventhttpclient/geventhttpclient",
          "https://api.github.com/repos/cms-sw/cms-bot",
          "https://api.github.com/repos/gomlx/gopjrt",
          "https://api.github.com/repos/scikit-hep/iminuit",
          "https://api.github.com/repos/lnbits/lnbits",
          "https://api.github.com/repos/demisto/dockerfiles",
          "https://api.github.com/repos/pytorch/benchmark",
          "https://api.github.com/repos/flathub/io.github.shiftey.Desktop",
          "https://api.github.com/repos/Intel-tensorflow/xla",
          "https://api.github.com/repos/ECP-WarpX/WarpX",
          "https://api.github.com/repos/has2k1/scikit-misc",
          "https://api.github.com/repos/prince-chrismc/check-actor-permissions-action",
          "https://api.github.com/repos/conda-forge/arcticdb-feedstock",
          "https://api.github.com/repos/gomlx/gomlx",
          "https://api.github.com/repos/tinygrad/tinygrad",
          "https://api.github.com/repos/AdvancedPhotonSource/GSAS-II",
          "https://api.github.com/repos/cms-sw/cmsdist",
          "https://api.github.com/repos/fengyuentau/opencv",
          "https://api.github.com/repos/doxygen/doxygen",
          "https://api.github.com/repos/Tencent/ncnn",
          "https://api.github.com/repos/SymbolicML/DynamicExpressions.jl",
          "https://api.github.com/repos/alibaba/TinyNeuralNetwork",
          "https://api.github.com/repos/pydata/sparse",
          "https://api.github.com/repos/mesonbuild/meson",
          "https://api.github.com/repos/openxla/stablehlo",
          "https://api.github.com/repos/microsoft/planetary-computer-tasks",
          "https://api.github.com/repos/YellowRoseCx/koboldcpp-rocm",
          "https://api.github.com/repos/kurtosis-tech/kardinal",
          "https://api.github.com/repos/wmgeolab/geoBoundaries"
         ],
         "xaxis": "x",
         "y": [
          146.8477254054578,
          135.4681141451986,
          132.58557894472213,
          131.42551237678143,
          125.34226984005083,
          122.69915473847144,
          122.56100705394344,
          120.89319782806514,
          119.7841303087934,
          117.4672504713276,
          114.65013016286943,
          113.49027620053575,
          113.0887330555481,
          112.84475542528102,
          112.39546146378609,
          110.29055128755442,
          110.13266337678068,
          109.5430513066373,
          109.33504403662313,
          109.03633276059035,
          108.97354490469084,
          108.93850714745274,
          108.55808913205797,
          108.24932777299722,
          108.0775471501001,
          108.00614866136712,
          107.63593409106889,
          107.53740821929063,
          107.09564430532004,
          106.27565139775925,
          105.92807976717133,
          105.80925051506325,
          105.67177043510372,
          104.4580895020577,
          104.37525776683339,
          104.31546653713959,
          104.17764748228531,
          104.05273924007241,
          103.55754695047266,
          103.02876594184804,
          102.94115572814715,
          102.02365726478399,
          101.99595536453654,
          101.98215210079529,
          101.8868655685852,
          101.8361389268316,
          101.53655263896502,
          101.16205759398864,
          101.06728002701702,
          100.83988325807955,
          100.31538129851145,
          100.09282153948257,
          100.0306669834582,
          99.9886213222751,
          99.94610038011722,
          99.48346805702859,
          99.391482025874,
          99.38804051805249,
          98.74720252950685,
          98.70631446315664,
          98.66309427716014,
          98.62430376612465,
          98.42280365050718,
          98.42280365050718,
          98.31978182865596,
          98.2514494453337,
          98.0928282482067,
          97.9901647795822,
          97.98269559740618,
          97.98156390175473,
          97.71134314893628,
          97.67966520486354,
          97.54358275838617,
          97.18411900557594,
          97.08267734485086,
          96.89509087163728,
          96.80926951378795,
          96.78083436199218,
          96.47320634920662,
          96.41952670894742,
          96.23026552027525,
          95.93573353627454,
          95.8599947764918,
          95.85800227626002,
          95.6826196631801,
          95.45435267115282,
          95.42975666740503,
          95.28972096790832,
          95.22656446302169,
          95.03412975046851,
          95.02739276690305,
          95.02643712585585,
          94.9672280546843,
          94.82355370670874,
          94.78989743615362,
          94.67109330396146,
          94.43781539630811,
          94.35545955763988,
          94.16247086778847,
          94.07378369370002
         ],
         "yaxis": "y"
        }
       ],
       "layout": {
        "barmode": "relative",
        "legend": {
         "tracegroupgap": 0
        },
        "margin": {
         "t": 60
        },
        "template": {
         "data": {
          "bar": [
           {
            "error_x": {
             "color": "#2a3f5f"
            },
            "error_y": {
             "color": "#2a3f5f"
            },
            "marker": {
             "line": {
              "color": "#E5ECF6",
              "width": 0.5
             },
             "pattern": {
              "fillmode": "overlay",
              "size": 10,
              "solidity": 0.2
             }
            },
            "type": "bar"
           }
          ],
          "barpolar": [
           {
            "marker": {
             "line": {
              "color": "#E5ECF6",
              "width": 0.5
             },
             "pattern": {
              "fillmode": "overlay",
              "size": 10,
              "solidity": 0.2
             }
            },
            "type": "barpolar"
           }
          ],
          "carpet": [
           {
            "aaxis": {
             "endlinecolor": "#2a3f5f",
             "gridcolor": "white",
             "linecolor": "white",
             "minorgridcolor": "white",
             "startlinecolor": "#2a3f5f"
            },
            "baxis": {
             "endlinecolor": "#2a3f5f",
             "gridcolor": "white",
             "linecolor": "white",
             "minorgridcolor": "white",
             "startlinecolor": "#2a3f5f"
            },
            "type": "carpet"
           }
          ],
          "choropleth": [
           {
            "colorbar": {
             "outlinewidth": 0,
             "ticks": ""
            },
            "type": "choropleth"
           }
          ],
          "contour": [
           {
            "colorbar": {
             "outlinewidth": 0,
             "ticks": ""
            },
            "colorscale": [
             [
              0,
              "#0d0887"
             ],
             [
              0.1111111111111111,
              "#46039f"
             ],
             [
              0.2222222222222222,
              "#7201a8"
             ],
             [
              0.3333333333333333,
              "#9c179e"
             ],
             [
              0.4444444444444444,
              "#bd3786"
             ],
             [
              0.5555555555555556,
              "#d8576b"
             ],
             [
              0.6666666666666666,
              "#ed7953"
             ],
             [
              0.7777777777777778,
              "#fb9f3a"
             ],
             [
              0.8888888888888888,
              "#fdca26"
             ],
             [
              1,
              "#f0f921"
             ]
            ],
            "type": "contour"
           }
          ],
          "contourcarpet": [
           {
            "colorbar": {
             "outlinewidth": 0,
             "ticks": ""
            },
            "type": "contourcarpet"
           }
          ],
          "heatmap": [
           {
            "colorbar": {
             "outlinewidth": 0,
             "ticks": ""
            },
            "colorscale": [
             [
              0,
              "#0d0887"
             ],
             [
              0.1111111111111111,
              "#46039f"
             ],
             [
              0.2222222222222222,
              "#7201a8"
             ],
             [
              0.3333333333333333,
              "#9c179e"
             ],
             [
              0.4444444444444444,
              "#bd3786"
             ],
             [
              0.5555555555555556,
              "#d8576b"
             ],
             [
              0.6666666666666666,
              "#ed7953"
             ],
             [
              0.7777777777777778,
              "#fb9f3a"
             ],
             [
              0.8888888888888888,
              "#fdca26"
             ],
             [
              1,
              "#f0f921"
             ]
            ],
            "type": "heatmap"
           }
          ],
          "heatmapgl": [
           {
            "colorbar": {
             "outlinewidth": 0,
             "ticks": ""
            },
            "colorscale": [
             [
              0,
              "#0d0887"
             ],
             [
              0.1111111111111111,
              "#46039f"
             ],
             [
              0.2222222222222222,
              "#7201a8"
             ],
             [
              0.3333333333333333,
              "#9c179e"
             ],
             [
              0.4444444444444444,
              "#bd3786"
             ],
             [
              0.5555555555555556,
              "#d8576b"
             ],
             [
              0.6666666666666666,
              "#ed7953"
             ],
             [
              0.7777777777777778,
              "#fb9f3a"
             ],
             [
              0.8888888888888888,
              "#fdca26"
             ],
             [
              1,
              "#f0f921"
             ]
            ],
            "type": "heatmapgl"
           }
          ],
          "histogram": [
           {
            "marker": {
             "pattern": {
              "fillmode": "overlay",
              "size": 10,
              "solidity": 0.2
             }
            },
            "type": "histogram"
           }
          ],
          "histogram2d": [
           {
            "colorbar": {
             "outlinewidth": 0,
             "ticks": ""
            },
            "colorscale": [
             [
              0,
              "#0d0887"
             ],
             [
              0.1111111111111111,
              "#46039f"
             ],
             [
              0.2222222222222222,
              "#7201a8"
             ],
             [
              0.3333333333333333,
              "#9c179e"
             ],
             [
              0.4444444444444444,
              "#bd3786"
             ],
             [
              0.5555555555555556,
              "#d8576b"
             ],
             [
              0.6666666666666666,
              "#ed7953"
             ],
             [
              0.7777777777777778,
              "#fb9f3a"
             ],
             [
              0.8888888888888888,
              "#fdca26"
             ],
             [
              1,
              "#f0f921"
             ]
            ],
            "type": "histogram2d"
           }
          ],
          "histogram2dcontour": [
           {
            "colorbar": {
             "outlinewidth": 0,
             "ticks": ""
            },
            "colorscale": [
             [
              0,
              "#0d0887"
             ],
             [
              0.1111111111111111,
              "#46039f"
             ],
             [
              0.2222222222222222,
              "#7201a8"
             ],
             [
              0.3333333333333333,
              "#9c179e"
             ],
             [
              0.4444444444444444,
              "#bd3786"
             ],
             [
              0.5555555555555556,
              "#d8576b"
             ],
             [
              0.6666666666666666,
              "#ed7953"
             ],
             [
              0.7777777777777778,
              "#fb9f3a"
             ],
             [
              0.8888888888888888,
              "#fdca26"
             ],
             [
              1,
              "#f0f921"
             ]
            ],
            "type": "histogram2dcontour"
           }
          ],
          "mesh3d": [
           {
            "colorbar": {
             "outlinewidth": 0,
             "ticks": ""
            },
            "type": "mesh3d"
           }
          ],
          "parcoords": [
           {
            "line": {
             "colorbar": {
              "outlinewidth": 0,
              "ticks": ""
             }
            },
            "type": "parcoords"
           }
          ],
          "pie": [
           {
            "automargin": true,
            "type": "pie"
           }
          ],
          "scatter": [
           {
            "fillpattern": {
             "fillmode": "overlay",
             "size": 10,
             "solidity": 0.2
            },
            "type": "scatter"
           }
          ],
          "scatter3d": [
           {
            "line": {
             "colorbar": {
              "outlinewidth": 0,
              "ticks": ""
             }
            },
            "marker": {
             "colorbar": {
              "outlinewidth": 0,
              "ticks": ""
             }
            },
            "type": "scatter3d"
           }
          ],
          "scattercarpet": [
           {
            "marker": {
             "colorbar": {
              "outlinewidth": 0,
              "ticks": ""
             }
            },
            "type": "scattercarpet"
           }
          ],
          "scattergeo": [
           {
            "marker": {
             "colorbar": {
              "outlinewidth": 0,
              "ticks": ""
             }
            },
            "type": "scattergeo"
           }
          ],
          "scattergl": [
           {
            "marker": {
             "colorbar": {
              "outlinewidth": 0,
              "ticks": ""
             }
            },
            "type": "scattergl"
           }
          ],
          "scattermapbox": [
           {
            "marker": {
             "colorbar": {
              "outlinewidth": 0,
              "ticks": ""
             }
            },
            "type": "scattermapbox"
           }
          ],
          "scatterpolar": [
           {
            "marker": {
             "colorbar": {
              "outlinewidth": 0,
              "ticks": ""
             }
            },
            "type": "scatterpolar"
           }
          ],
          "scatterpolargl": [
           {
            "marker": {
             "colorbar": {
              "outlinewidth": 0,
              "ticks": ""
             }
            },
            "type": "scatterpolargl"
           }
          ],
          "scatterternary": [
           {
            "marker": {
             "colorbar": {
              "outlinewidth": 0,
              "ticks": ""
             }
            },
            "type": "scatterternary"
           }
          ],
          "surface": [
           {
            "colorbar": {
             "outlinewidth": 0,
             "ticks": ""
            },
            "colorscale": [
             [
              0,
              "#0d0887"
             ],
             [
              0.1111111111111111,
              "#46039f"
             ],
             [
              0.2222222222222222,
              "#7201a8"
             ],
             [
              0.3333333333333333,
              "#9c179e"
             ],
             [
              0.4444444444444444,
              "#bd3786"
             ],
             [
              0.5555555555555556,
              "#d8576b"
             ],
             [
              0.6666666666666666,
              "#ed7953"
             ],
             [
              0.7777777777777778,
              "#fb9f3a"
             ],
             [
              0.8888888888888888,
              "#fdca26"
             ],
             [
              1,
              "#f0f921"
             ]
            ],
            "type": "surface"
           }
          ],
          "table": [
           {
            "cells": {
             "fill": {
              "color": "#EBF0F8"
             },
             "line": {
              "color": "white"
             }
            },
            "header": {
             "fill": {
              "color": "#C8D4E3"
             },
             "line": {
              "color": "white"
             }
            },
            "type": "table"
           }
          ]
         },
         "layout": {
          "annotationdefaults": {
           "arrowcolor": "#2a3f5f",
           "arrowhead": 0,
           "arrowwidth": 1
          },
          "autotypenumbers": "strict",
          "coloraxis": {
           "colorbar": {
            "outlinewidth": 0,
            "ticks": ""
           }
          },
          "colorscale": {
           "diverging": [
            [
             0,
             "#8e0152"
            ],
            [
             0.1,
             "#c51b7d"
            ],
            [
             0.2,
             "#de77ae"
            ],
            [
             0.3,
             "#f1b6da"
            ],
            [
             0.4,
             "#fde0ef"
            ],
            [
             0.5,
             "#f7f7f7"
            ],
            [
             0.6,
             "#e6f5d0"
            ],
            [
             0.7,
             "#b8e186"
            ],
            [
             0.8,
             "#7fbc41"
            ],
            [
             0.9,
             "#4d9221"
            ],
            [
             1,
             "#276419"
            ]
           ],
           "sequential": [
            [
             0,
             "#0d0887"
            ],
            [
             0.1111111111111111,
             "#46039f"
            ],
            [
             0.2222222222222222,
             "#7201a8"
            ],
            [
             0.3333333333333333,
             "#9c179e"
            ],
            [
             0.4444444444444444,
             "#bd3786"
            ],
            [
             0.5555555555555556,
             "#d8576b"
            ],
            [
             0.6666666666666666,
             "#ed7953"
            ],
            [
             0.7777777777777778,
             "#fb9f3a"
            ],
            [
             0.8888888888888888,
             "#fdca26"
            ],
            [
             1,
             "#f0f921"
            ]
           ],
           "sequentialminus": [
            [
             0,
             "#0d0887"
            ],
            [
             0.1111111111111111,
             "#46039f"
            ],
            [
             0.2222222222222222,
             "#7201a8"
            ],
            [
             0.3333333333333333,
             "#9c179e"
            ],
            [
             0.4444444444444444,
             "#bd3786"
            ],
            [
             0.5555555555555556,
             "#d8576b"
            ],
            [
             0.6666666666666666,
             "#ed7953"
            ],
            [
             0.7777777777777778,
             "#fb9f3a"
            ],
            [
             0.8888888888888888,
             "#fdca26"
            ],
            [
             1,
             "#f0f921"
            ]
           ]
          },
          "colorway": [
           "#636efa",
           "#EF553B",
           "#00cc96",
           "#ab63fa",
           "#FFA15A",
           "#19d3f3",
           "#FF6692",
           "#B6E880",
           "#FF97FF",
           "#FECB52"
          ],
          "font": {
           "color": "#2a3f5f"
          },
          "geo": {
           "bgcolor": "white",
           "lakecolor": "white",
           "landcolor": "#E5ECF6",
           "showlakes": true,
           "showland": true,
           "subunitcolor": "white"
          },
          "hoverlabel": {
           "align": "left"
          },
          "hovermode": "closest",
          "mapbox": {
           "style": "light"
          },
          "paper_bgcolor": "white",
          "plot_bgcolor": "#E5ECF6",
          "polar": {
           "angularaxis": {
            "gridcolor": "white",
            "linecolor": "white",
            "ticks": ""
           },
           "bgcolor": "#E5ECF6",
           "radialaxis": {
            "gridcolor": "white",
            "linecolor": "white",
            "ticks": ""
           }
          },
          "scene": {
           "xaxis": {
            "backgroundcolor": "#E5ECF6",
            "gridcolor": "white",
            "gridwidth": 2,
            "linecolor": "white",
            "showbackground": true,
            "ticks": "",
            "zerolinecolor": "white"
           },
           "yaxis": {
            "backgroundcolor": "#E5ECF6",
            "gridcolor": "white",
            "gridwidth": 2,
            "linecolor": "white",
            "showbackground": true,
            "ticks": "",
            "zerolinecolor": "white"
           },
           "zaxis": {
            "backgroundcolor": "#E5ECF6",
            "gridcolor": "white",
            "gridwidth": 2,
            "linecolor": "white",
            "showbackground": true,
            "ticks": "",
            "zerolinecolor": "white"
           }
          },
          "shapedefaults": {
           "line": {
            "color": "#2a3f5f"
           }
          },
          "ternary": {
           "aaxis": {
            "gridcolor": "white",
            "linecolor": "white",
            "ticks": ""
           },
           "baxis": {
            "gridcolor": "white",
            "linecolor": "white",
            "ticks": ""
           },
           "bgcolor": "#E5ECF6",
           "caxis": {
            "gridcolor": "white",
            "linecolor": "white",
            "ticks": ""
           }
          },
          "title": {
           "x": 0.05
          },
          "xaxis": {
           "automargin": true,
           "gridcolor": "white",
           "linecolor": "white",
           "ticks": "",
           "title": {
            "standoff": 15
           },
           "zerolinecolor": "white",
           "zerolinewidth": 2
          },
          "yaxis": {
           "automargin": true,
           "gridcolor": "white",
           "linecolor": "white",
           "ticks": "",
           "title": {
            "standoff": 15
           },
           "zerolinecolor": "white",
           "zerolinewidth": 2
          }
         }
        },
        "xaxis": {
         "anchor": "y",
         "domain": [
          0,
          1
         ],
         "title": {
          "text": "repo_git"
         }
        },
        "yaxis": {
         "anchor": "x",
         "domain": [
          0,
          1
         ],
         "title": {
          "text": "beta"
         }
        }
       }
      }
     },
     "metadata": {},
     "output_type": "display_data"
    }
   ],
   "source": [
    "fig = px.bar(\n",
    "    data_frame=joined_counts.sort_values(by=\"beta\", ascending=False)[:100],\n",
    "    y=\"beta\",\n",
    "    hover_data=[\"alpha\", \"log_count_known\", \"count_known\", \"count_general\"]\n",
    ")\n",
    "fig.write_image(\"beta_scores.png\")\n",
    "fig"
   ]
  },
  {
   "cell_type": "code",
   "execution_count": 35,
   "metadata": {},
   "outputs": [
    {
     "data": {
      "image/png": "[encoded data removed]",
      "text/plain": [
       "<IPython.core.display.Image object>"
      ]
     },
     "execution_count": 35,
     "metadata": {},
     "output_type": "execute_result"
    }
   ],
   "source": [
    "Image(\"beta_scores.png\")"
   ]
  },
  {
   "cell_type": "markdown",
   "metadata": {},
   "source": [
    "'beta' as a raw number is fairly arbitrary, but as a relative value, it lends to an informative comparison between projects.\n",
    "\n",
    "'Higher' beta values \"score better\" w.r.t popularity and contribution volume from contributors, while 'lower' values are likely lower in contribution volume or in proportional popularity than their peer projects.\n",
    "The balance between the impact of these two considerations deserves significant refinement, and is an opportunity for further work.\n",
    "\n",
    "Nevertheless, we can see above that \"WASM-y\" projects have the highest 'beta' values for our subpopulation of interest, including some that we didn't have in our 'kernel' group of projects."
   ]
  },
  {
   "cell_type": "markdown",
   "metadata": {},
   "source": [
    "## Takeaway\n",
    "\n",
    "Top repos by 'beta' value are:\n",
    "\n",
    "- risingwave\n",
    "- wasmer\n",
    "- cosmwasm\n",
    "- wasmtime\n",
    "- ppsspp\n",
    "- tigerbeetle\n",
    "- ion-rust\n",
    "- redash\n",
    "- Ambient\n",
    "- rspack\n",
    "- socket\n",
    "- runwasi\n",
    "- holochain\n",
    "\n",
    "Many of these are very directly connected to WASM, while others (risingwave, tigerbeetle, redash, holochain, ppsspp) are relatively unrelated.\n",
    "\n",
    "This demonstrates that simply considering the contribution-base of our sub-population will yield strong cross-pollination signal. We need to be considerate of ecosystem-specific features when selecting our contributor set in order to clarify the ecosystem discovery signal.\n",
    "\n",
    "### Next step\n",
    "\n",
    "Top repos by 'beta' are similar to those by 'alpha.' \n",
    "\n",
    "The distribution of projects seems to have some scew toward database systems and no-trust mathematical proofs. This probably represents the interest-space of contributors within the WASM space, which itself is fairly experimental.\n",
    "\n",
    "The next logical step is to renew focus on the 'core' contributors of the collaboration network, weighing the contributions of those people highly because they're highly integrated in the world of WASM."
   ]
  },
  {
   "cell_type": "markdown",
   "metadata": {},
   "source": [
    "# Conclusion\n",
    "\n",
    "The alpha and beta metrics proposed in this work attempt to inspect the distinction between projects that are 'popular' within a subgroup working on an ecosystem of interest\n",
    "and those that are 'massively contributed to.' A project might be very popular numerically within a subpopulation because they're the exclusive contributors to that project,\n",
    "but the amount of work being done might be comparatively low. Likewise, a project could be astonomically interesting to the general population, and thereby interesting to many people\n",
    "within our subpopulation, but be RELATIVELY less interesting compared to other projects that our subpopulation is working on.\n",
    "\n",
    "This notebook applies alpha and beta to the behavior of our subgroup and identifies projects that are both popular and largely contributed to by our subpopulation of interest.\n",
    "\n",
    "Notably, we can see that the \"most popular\" general project, LLVM, is not present in the 'top repos by beta value', but projects that are very WASM-y and previously unknown are included,\n",
    "such as cosmwasm and runwasi.\n",
    "\n",
    "## Further Work\n",
    "\n",
    "These results are interesting but they further substantiate that count-based identification of repositories within an ecosystem is a weak signal at best.\n",
    "Future work should look beyond simply \"counting people\" and \"counting contribution events.\""
   ]
  }
 ],
 "metadata": {
  "kernelspec": {
   "display_name": "Python 3",
   "language": "python",
   "name": "python3"
  },
  "language_info": {
   "codemirror_mode": {
    "name": "ipython",
    "version": 3
   },
   "file_extension": ".py",
   "mimetype": "text/x-python",
   "name": "python",
   "nbconvert_exporter": "python",
   "pygments_lexer": "ipython3",
   "version": "3.11.9"
  }
 },
 "nbformat": 4,
 "nbformat_minor": 2
}
