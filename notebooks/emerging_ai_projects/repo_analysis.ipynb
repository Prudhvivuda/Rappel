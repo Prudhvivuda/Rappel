{
 "cells": [
  {
   "cell_type": "code",
   "execution_count": 103,
   "metadata": {},
   "outputs": [],
   "source": [
    "import psycopg2\n",
    "import pandas as pd\n",
    "import collections\n",
    "from functools import reduce\n",
    "\n",
    "import sqlalchemy as salc\n",
    "import json\n",
    "import os\n",
    "import networkx as nx\n",
    "import matplotlib.pyplot as plt\n",
    "\n",
    "with open(\"il_ai_creds.json\") as config_file:\n",
    "    config = json.load(config_file)"
   ]
  },
  {
   "cell_type": "code",
   "execution_count": 104,
   "metadata": {},
   "outputs": [],
   "source": [
    "database_connection_string = 'postgresql+psycopg2://{}:{}@{}:{}/{}'.format(config['user'], config['password'], config['host'], config['port'], config['database'])"
   ]
  },
  {
   "cell_type": "code",
   "execution_count": 105,
   "metadata": {},
   "outputs": [],
   "source": [
    "repo_git_set = [\n",
    "    \"https://github.com/numpy/numpy\",\n",
    "    \"https://github.com/tensorflow/tensorflow\",\n",
    "    \"https://github.com/networkx/networkx\",\n",
    "    \"https://github.com/pytorch/pytorch\",\n",
    "    \"https://github.com/keras-team/keras-io\",\n",
    "    \"https://github.com/tinygrad/tinygrad\",\n",
    "    \"https://github.com/pandas-dev/pandas\",\n",
    "    \"https://github.com/PolarisSS13/Polaris\",\n",
    "    \"https://github.com/apache/arrow\",\n",
    "    \"https://github.com/ml-explore/mlx\"\n",
    "]\n"
   ]
  },
  {
   "cell_type": "code",
   "execution_count": 106,
   "metadata": {},
   "outputs": [
    {
     "name": "stdout",
     "output_type": "stream",
     "text": [
      "[25495, 25498, 25497, 25501, 25500, 25504, 25503, None, 25502, 25499]\n",
      "['numpy', 'tensorflow', 'networkx', 'pytorch', 'keras-io', 'tinygrad', 'pandas', None, 'arrow', 'mlx']\n"
     ]
    }
   ],
   "source": [
    "from sqlalchemy import create_engine, text\n",
    "\n",
    "repo_set = []\n",
    "repo_name_set = []\n",
    "\n",
    "connection_string = database_connection_string\n",
    "engine = create_engine(connection_string)\n",
    "\n",
    "for repo_git in repo_git_set:\n",
    "    repo_query = text(f\"\"\"\n",
    "                    SET SCHEMA 'augur_data';\n",
    "                    SELECT \n",
    "                        b.repo_id,\n",
    "                        b.repo_name\n",
    "                    FROM\n",
    "                        repo_groups a,\n",
    "                        repo b\n",
    "                    WHERE\n",
    "                        a.repo_group_id = b.repo_group_id AND\n",
    "                        b.repo_git = \\'{repo_git}\\'\n",
    "            \"\"\")\n",
    "\n",
    "    # Using the connection to execute the query\n",
    "    with engine.connect() as connection:\n",
    "        t = connection.execute(repo_query)\n",
    "        results = t.mappings().all()\n",
    "        if results:\n",
    "            repo_id = results[0]['repo_id']\n",
    "            repo_name = results[0]['repo_name']\n",
    "        else:\n",
    "            repo_id = None\n",
    "            repo_name = None\n",
    "        repo_set.append(repo_id)\n",
    "        repo_name_set.append(repo_name)\n",
    "\n",
    "print(repo_set)\n",
    "print(repo_name_set)\n"
   ]
  },
  {
   "cell_type": "markdown",
   "metadata": {},
   "source": [
    "### Retrieve Issue Contributors\n",
    "\n",
    "We will now fetch all Issue contributors for various repositories."
   ]
  },
  {
   "cell_type": "code",
   "execution_count": 107,
   "metadata": {},
   "outputs": [
    {
     "data": {
      "text/html": [
       "<div>\n",
       "<style scoped>\n",
       "    .dataframe tbody tr th:only-of-type {\n",
       "        vertical-align: middle;\n",
       "    }\n",
       "\n",
       "    .dataframe tbody tr th {\n",
       "        vertical-align: top;\n",
       "    }\n",
       "\n",
       "    .dataframe thead th {\n",
       "        text-align: right;\n",
       "    }\n",
       "</style>\n",
       "<table border=\"1\" class=\"dataframe\">\n",
       "  <thead>\n",
       "    <tr style=\"text-align: right;\">\n",
       "      <th></th>\n",
       "      <th>repo_id</th>\n",
       "      <th>repo_git</th>\n",
       "      <th>cntrb_id</th>\n",
       "      <th>issue_id</th>\n",
       "    </tr>\n",
       "  </thead>\n",
       "  <tbody>\n",
       "    <tr>\n",
       "      <th>0</th>\n",
       "      <td>25495</td>\n",
       "      <td>https://github.com/numpy/numpy</td>\n",
       "      <td>None</td>\n",
       "      <td>52674</td>\n",
       "    </tr>\n",
       "    <tr>\n",
       "      <th>1</th>\n",
       "      <td>25495</td>\n",
       "      <td>https://github.com/numpy/numpy</td>\n",
       "      <td>None</td>\n",
       "      <td>52675</td>\n",
       "    </tr>\n",
       "    <tr>\n",
       "      <th>2</th>\n",
       "      <td>25495</td>\n",
       "      <td>https://github.com/numpy/numpy</td>\n",
       "      <td>None</td>\n",
       "      <td>42605</td>\n",
       "    </tr>\n",
       "    <tr>\n",
       "      <th>3</th>\n",
       "      <td>25495</td>\n",
       "      <td>https://github.com/numpy/numpy</td>\n",
       "      <td>None</td>\n",
       "      <td>42765</td>\n",
       "    </tr>\n",
       "    <tr>\n",
       "      <th>4</th>\n",
       "      <td>25495</td>\n",
       "      <td>https://github.com/numpy/numpy</td>\n",
       "      <td>None</td>\n",
       "      <td>42787</td>\n",
       "    </tr>\n",
       "    <tr>\n",
       "      <th>...</th>\n",
       "      <td>...</td>\n",
       "      <td>...</td>\n",
       "      <td>...</td>\n",
       "      <td>...</td>\n",
       "    </tr>\n",
       "    <tr>\n",
       "      <th>151276</th>\n",
       "      <td>25499</td>\n",
       "      <td>https://github.com/ml-explore/mlx</td>\n",
       "      <td>None</td>\n",
       "      <td>36284</td>\n",
       "    </tr>\n",
       "    <tr>\n",
       "      <th>151277</th>\n",
       "      <td>25499</td>\n",
       "      <td>https://github.com/ml-explore/mlx</td>\n",
       "      <td>None</td>\n",
       "      <td>36285</td>\n",
       "    </tr>\n",
       "    <tr>\n",
       "      <th>151278</th>\n",
       "      <td>25499</td>\n",
       "      <td>https://github.com/ml-explore/mlx</td>\n",
       "      <td>None</td>\n",
       "      <td>36286</td>\n",
       "    </tr>\n",
       "    <tr>\n",
       "      <th>151279</th>\n",
       "      <td>25499</td>\n",
       "      <td>https://github.com/ml-explore/mlx</td>\n",
       "      <td>None</td>\n",
       "      <td>36287</td>\n",
       "    </tr>\n",
       "    <tr>\n",
       "      <th>151280</th>\n",
       "      <td>25499</td>\n",
       "      <td>https://github.com/ml-explore/mlx</td>\n",
       "      <td>None</td>\n",
       "      <td>36288</td>\n",
       "    </tr>\n",
       "  </tbody>\n",
       "</table>\n",
       "<p>151281 rows × 4 columns</p>\n",
       "</div>"
      ],
      "text/plain": [
       "        repo_id                           repo_git cntrb_id  issue_id\n",
       "0         25495     https://github.com/numpy/numpy     None     52674\n",
       "1         25495     https://github.com/numpy/numpy     None     52675\n",
       "2         25495     https://github.com/numpy/numpy     None     42605\n",
       "3         25495     https://github.com/numpy/numpy     None     42765\n",
       "4         25495     https://github.com/numpy/numpy     None     42787\n",
       "...         ...                                ...      ...       ...\n",
       "151276    25499  https://github.com/ml-explore/mlx     None     36284\n",
       "151277    25499  https://github.com/ml-explore/mlx     None     36285\n",
       "151278    25499  https://github.com/ml-explore/mlx     None     36286\n",
       "151279    25499  https://github.com/ml-explore/mlx     None     36287\n",
       "151280    25499  https://github.com/ml-explore/mlx     None     36288\n",
       "\n",
       "[151281 rows x 4 columns]"
      ]
     },
     "metadata": {},
     "output_type": "display_data"
    },
    {
     "data": {
      "text/plain": [
       "repo_id      int64\n",
       "repo_git    object\n",
       "cntrb_id    object\n",
       "issue_id     int64\n",
       "dtype: object"
      ]
     },
     "execution_count": 107,
     "metadata": {},
     "output_type": "execute_result"
    }
   ],
   "source": [
    "issue_contrib = pd.DataFrame()\n",
    "for repo_id in repo_set:\n",
    "    if not repo_id:\n",
    "        continue\n",
    "    repo_query = salc.sql.text(f\"\"\"\n",
    "                SET SCHEMA 'augur_data';\n",
    "                SELECT r.repo_id,\n",
    "                r.repo_git,\n",
    "                i.cntrb_id,\n",
    "                i.issue_id\n",
    "                FROM\n",
    "                repo r, issues i\n",
    "                 WHERE\n",
    "                i.repo_id = \\'{repo_id}\\' AND\n",
    "                i.repo_id = r.repo_id\n",
    "        \"\"\")\n",
    "    df_current_repo = pd.read_sql(repo_query, con=engine)\n",
    "    issue_contrib = pd.concat([issue_contrib, df_current_repo])\n",
    "\n",
    "issue_contrib = issue_contrib.reset_index()\n",
    "issue_contrib.drop(\"index\", axis=1, inplace=True)\n",
    "issue_contrib.columns =['repo_id', 'repo_git', 'cntrb_id', 'issue_id']\n",
    "display(issue_contrib)\n",
    "issue_contrib.dtypes"
   ]
  },
  {
   "cell_type": "markdown",
   "metadata": {},
   "source": [
    "### Retrieve PR Contributors\n",
    "\n",
    "We will now fetch all the PR contributors for various repositories."
   ]
  },
  {
   "cell_type": "code",
   "execution_count": 108,
   "metadata": {},
   "outputs": [
    {
     "data": {
      "text/html": [
       "<div>\n",
       "<style scoped>\n",
       "    .dataframe tbody tr th:only-of-type {\n",
       "        vertical-align: middle;\n",
       "    }\n",
       "\n",
       "    .dataframe tbody tr th {\n",
       "        vertical-align: top;\n",
       "    }\n",
       "\n",
       "    .dataframe thead th {\n",
       "        text-align: right;\n",
       "    }\n",
       "</style>\n",
       "<table border=\"1\" class=\"dataframe\">\n",
       "  <thead>\n",
       "    <tr style=\"text-align: right;\">\n",
       "      <th></th>\n",
       "      <th>repo_id</th>\n",
       "      <th>repo_git</th>\n",
       "      <th>cntrb_id</th>\n",
       "      <th>pull_request_id</th>\n",
       "    </tr>\n",
       "  </thead>\n",
       "  <tbody>\n",
       "    <tr>\n",
       "      <th>0</th>\n",
       "      <td>25495</td>\n",
       "      <td>https://github.com/numpy/numpy</td>\n",
       "      <td>010080a6-3700-0000-0000-000000000000</td>\n",
       "      <td>43250</td>\n",
       "    </tr>\n",
       "    <tr>\n",
       "      <th>1</th>\n",
       "      <td>25495</td>\n",
       "      <td>https://github.com/numpy/numpy</td>\n",
       "      <td>01000466-1400-0000-0000-000000000000</td>\n",
       "      <td>43250</td>\n",
       "    </tr>\n",
       "    <tr>\n",
       "      <th>2</th>\n",
       "      <td>25495</td>\n",
       "      <td>https://github.com/numpy/numpy</td>\n",
       "      <td>010004e7-b700-0000-0000-000000000000</td>\n",
       "      <td>43251</td>\n",
       "    </tr>\n",
       "    <tr>\n",
       "      <th>3</th>\n",
       "      <td>25495</td>\n",
       "      <td>https://github.com/numpy/numpy</td>\n",
       "      <td>01000466-1400-0000-0000-000000000000</td>\n",
       "      <td>43251</td>\n",
       "    </tr>\n",
       "    <tr>\n",
       "      <th>4</th>\n",
       "      <td>25495</td>\n",
       "      <td>https://github.com/numpy/numpy</td>\n",
       "      <td>0102ab16-8a00-0000-0000-000000000000</td>\n",
       "      <td>43252</td>\n",
       "    </tr>\n",
       "    <tr>\n",
       "      <th>...</th>\n",
       "      <td>...</td>\n",
       "      <td>...</td>\n",
       "      <td>...</td>\n",
       "      <td>...</td>\n",
       "    </tr>\n",
       "    <tr>\n",
       "      <th>58097</th>\n",
       "      <td>25499</td>\n",
       "      <td>https://github.com/ml-explore/mlx</td>\n",
       "      <td>01062118-7200-0000-0000-000000000000</td>\n",
       "      <td>41539</td>\n",
       "    </tr>\n",
       "    <tr>\n",
       "      <th>58098</th>\n",
       "      <td>25499</td>\n",
       "      <td>https://github.com/ml-explore/mlx</td>\n",
       "      <td>01062118-7200-0000-0000-000000000000</td>\n",
       "      <td>41540</td>\n",
       "    </tr>\n",
       "    <tr>\n",
       "      <th>58099</th>\n",
       "      <td>25499</td>\n",
       "      <td>https://github.com/ml-explore/mlx</td>\n",
       "      <td>01062118-7200-0000-0000-000000000000</td>\n",
       "      <td>41540</td>\n",
       "    </tr>\n",
       "    <tr>\n",
       "      <th>58100</th>\n",
       "      <td>25499</td>\n",
       "      <td>https://github.com/ml-explore/mlx</td>\n",
       "      <td>01062118-7200-0000-0000-000000000000</td>\n",
       "      <td>41541</td>\n",
       "    </tr>\n",
       "    <tr>\n",
       "      <th>58101</th>\n",
       "      <td>25499</td>\n",
       "      <td>https://github.com/ml-explore/mlx</td>\n",
       "      <td>01062118-7200-0000-0000-000000000000</td>\n",
       "      <td>41541</td>\n",
       "    </tr>\n",
       "  </tbody>\n",
       "</table>\n",
       "<p>58102 rows × 4 columns</p>\n",
       "</div>"
      ],
      "text/plain": [
       "       repo_id                           repo_git  \\\n",
       "0        25495     https://github.com/numpy/numpy   \n",
       "1        25495     https://github.com/numpy/numpy   \n",
       "2        25495     https://github.com/numpy/numpy   \n",
       "3        25495     https://github.com/numpy/numpy   \n",
       "4        25495     https://github.com/numpy/numpy   \n",
       "...        ...                                ...   \n",
       "58097    25499  https://github.com/ml-explore/mlx   \n",
       "58098    25499  https://github.com/ml-explore/mlx   \n",
       "58099    25499  https://github.com/ml-explore/mlx   \n",
       "58100    25499  https://github.com/ml-explore/mlx   \n",
       "58101    25499  https://github.com/ml-explore/mlx   \n",
       "\n",
       "                                   cntrb_id  pull_request_id  \n",
       "0      010080a6-3700-0000-0000-000000000000            43250  \n",
       "1      01000466-1400-0000-0000-000000000000            43250  \n",
       "2      010004e7-b700-0000-0000-000000000000            43251  \n",
       "3      01000466-1400-0000-0000-000000000000            43251  \n",
       "4      0102ab16-8a00-0000-0000-000000000000            43252  \n",
       "...                                     ...              ...  \n",
       "58097  01062118-7200-0000-0000-000000000000            41539  \n",
       "58098  01062118-7200-0000-0000-000000000000            41540  \n",
       "58099  01062118-7200-0000-0000-000000000000            41540  \n",
       "58100  01062118-7200-0000-0000-000000000000            41541  \n",
       "58101  01062118-7200-0000-0000-000000000000            41541  \n",
       "\n",
       "[58102 rows x 4 columns]"
      ]
     },
     "metadata": {},
     "output_type": "display_data"
    },
    {
     "data": {
      "text/plain": [
       "repo_id             int64\n",
       "repo_git           object\n",
       "cntrb_id           object\n",
       "pull_request_id     int64\n",
       "dtype: object"
      ]
     },
     "execution_count": 108,
     "metadata": {},
     "output_type": "execute_result"
    }
   ],
   "source": [
    "pr_contrib = pd.DataFrame()\n",
    "\n",
    "for repo_id in repo_set:\n",
    "    if not repo_id:\n",
    "        continue\n",
    "    repo_query = salc.sql.text(f\"\"\"\n",
    "                SET SCHEMA 'augur_data';\n",
    "                SELECT r.repo_id,\n",
    "                r.repo_git,\n",
    "                prm.cntrb_id,\n",
    "                prm.pull_request_id\n",
    "                FROM\n",
    "                repo r, pull_request_meta prm\n",
    "                WHERE\n",
    "                prm.repo_id = \\'{repo_id}\\' AND\n",
    "                prm.repo_id = r.repo_id\n",
    "                LIMIT 50000\n",
    "        \"\"\")\n",
    "    df_current_repo = pd.read_sql(repo_query, con=engine)\n",
    "    pr_contrib = pd.concat([pr_contrib, df_current_repo])\n",
    "\n",
    "pr_contrib = pr_contrib.reset_index()\n",
    "pr_contrib.drop(\"index\", axis=1, inplace=True)\n",
    "pr_contrib.columns =['repo_id', 'repo_git', 'cntrb_id', 'pull_request_id']\n",
    "display(pr_contrib)\n",
    "pr_contrib.dtypes"
   ]
  },
  {
   "cell_type": "code",
   "execution_count": null,
   "metadata": {},
   "outputs": [],
   "source": []
  },
  {
   "cell_type": "markdown",
   "metadata": {},
   "source": [
    "### Retrieve PR Reviewers\n",
    "\n",
    "We will now fetch all the PR Reviewers for various repositories."
   ]
  },
  {
   "cell_type": "code",
   "execution_count": 109,
   "metadata": {},
   "outputs": [
    {
     "data": {
      "text/html": [
       "<div>\n",
       "<style scoped>\n",
       "    .dataframe tbody tr th:only-of-type {\n",
       "        vertical-align: middle;\n",
       "    }\n",
       "\n",
       "    .dataframe tbody tr th {\n",
       "        vertical-align: top;\n",
       "    }\n",
       "\n",
       "    .dataframe thead th {\n",
       "        text-align: right;\n",
       "    }\n",
       "</style>\n",
       "<table border=\"1\" class=\"dataframe\">\n",
       "  <thead>\n",
       "    <tr style=\"text-align: right;\">\n",
       "      <th></th>\n",
       "      <th>repo_id</th>\n",
       "      <th>repo_git</th>\n",
       "      <th>cntrb_id</th>\n",
       "      <th>pull_request_id</th>\n",
       "    </tr>\n",
       "  </thead>\n",
       "  <tbody>\n",
       "    <tr>\n",
       "      <th>0</th>\n",
       "      <td>25499</td>\n",
       "      <td>https://github.com/ml-explore/mlx</td>\n",
       "      <td>0100178a-9500-0000-0000-000000000000</td>\n",
       "      <td>41539</td>\n",
       "    </tr>\n",
       "    <tr>\n",
       "      <th>1</th>\n",
       "      <td>25499</td>\n",
       "      <td>https://github.com/ml-explore/mlx</td>\n",
       "      <td>010012f3-bb00-0000-0000-000000000000</td>\n",
       "      <td>41250</td>\n",
       "    </tr>\n",
       "    <tr>\n",
       "      <th>2</th>\n",
       "      <td>25499</td>\n",
       "      <td>https://github.com/ml-explore/mlx</td>\n",
       "      <td>0100178a-9500-0000-0000-000000000000</td>\n",
       "      <td>40939</td>\n",
       "    </tr>\n",
       "    <tr>\n",
       "      <th>3</th>\n",
       "      <td>25499</td>\n",
       "      <td>https://github.com/ml-explore/mlx</td>\n",
       "      <td>0100178a-9500-0000-0000-000000000000</td>\n",
       "      <td>40936</td>\n",
       "    </tr>\n",
       "    <tr>\n",
       "      <th>4</th>\n",
       "      <td>25499</td>\n",
       "      <td>https://github.com/ml-explore/mlx</td>\n",
       "      <td>0102c7a9-0400-0000-0000-000000000000</td>\n",
       "      <td>41243</td>\n",
       "    </tr>\n",
       "    <tr>\n",
       "      <th>...</th>\n",
       "      <td>...</td>\n",
       "      <td>...</td>\n",
       "      <td>...</td>\n",
       "      <td>...</td>\n",
       "    </tr>\n",
       "    <tr>\n",
       "      <th>2154</th>\n",
       "      <td>25499</td>\n",
       "      <td>https://github.com/ml-explore/mlx</td>\n",
       "      <td>0100178a-9500-0000-0000-000000000000</td>\n",
       "      <td>41521</td>\n",
       "    </tr>\n",
       "    <tr>\n",
       "      <th>2155</th>\n",
       "      <td>25499</td>\n",
       "      <td>https://github.com/ml-explore/mlx</td>\n",
       "      <td>01022981-7800-0000-0000-000000000000</td>\n",
       "      <td>41519</td>\n",
       "    </tr>\n",
       "    <tr>\n",
       "      <th>2156</th>\n",
       "      <td>25499</td>\n",
       "      <td>https://github.com/ml-explore/mlx</td>\n",
       "      <td>0100178a-9500-0000-0000-000000000000</td>\n",
       "      <td>41506</td>\n",
       "    </tr>\n",
       "    <tr>\n",
       "      <th>2157</th>\n",
       "      <td>25499</td>\n",
       "      <td>https://github.com/ml-explore/mlx</td>\n",
       "      <td>0100178a-9500-0000-0000-000000000000</td>\n",
       "      <td>41504</td>\n",
       "    </tr>\n",
       "    <tr>\n",
       "      <th>2158</th>\n",
       "      <td>25499</td>\n",
       "      <td>https://github.com/ml-explore/mlx</td>\n",
       "      <td>0100178a-9500-0000-0000-000000000000</td>\n",
       "      <td>41377</td>\n",
       "    </tr>\n",
       "  </tbody>\n",
       "</table>\n",
       "<p>2159 rows × 4 columns</p>\n",
       "</div>"
      ],
      "text/plain": [
       "     repo_id                           repo_git  \\\n",
       "0      25499  https://github.com/ml-explore/mlx   \n",
       "1      25499  https://github.com/ml-explore/mlx   \n",
       "2      25499  https://github.com/ml-explore/mlx   \n",
       "3      25499  https://github.com/ml-explore/mlx   \n",
       "4      25499  https://github.com/ml-explore/mlx   \n",
       "...      ...                                ...   \n",
       "2154   25499  https://github.com/ml-explore/mlx   \n",
       "2155   25499  https://github.com/ml-explore/mlx   \n",
       "2156   25499  https://github.com/ml-explore/mlx   \n",
       "2157   25499  https://github.com/ml-explore/mlx   \n",
       "2158   25499  https://github.com/ml-explore/mlx   \n",
       "\n",
       "                                  cntrb_id pull_request_id  \n",
       "0     0100178a-9500-0000-0000-000000000000           41539  \n",
       "1     010012f3-bb00-0000-0000-000000000000           41250  \n",
       "2     0100178a-9500-0000-0000-000000000000           40939  \n",
       "3     0100178a-9500-0000-0000-000000000000           40936  \n",
       "4     0102c7a9-0400-0000-0000-000000000000           41243  \n",
       "...                                    ...             ...  \n",
       "2154  0100178a-9500-0000-0000-000000000000           41521  \n",
       "2155  01022981-7800-0000-0000-000000000000           41519  \n",
       "2156  0100178a-9500-0000-0000-000000000000           41506  \n",
       "2157  0100178a-9500-0000-0000-000000000000           41504  \n",
       "2158  0100178a-9500-0000-0000-000000000000           41377  \n",
       "\n",
       "[2159 rows x 4 columns]"
      ]
     },
     "metadata": {},
     "output_type": "display_data"
    },
    {
     "data": {
      "text/plain": [
       "repo_id            object\n",
       "repo_git           object\n",
       "cntrb_id           object\n",
       "pull_request_id    object\n",
       "dtype: object"
      ]
     },
     "execution_count": 109,
     "metadata": {},
     "output_type": "execute_result"
    }
   ],
   "source": [
    "prr_contrib = pd.DataFrame()\n",
    "\n",
    "for repo_id in repo_set:\n",
    "    if not repo_id:\n",
    "        continue\n",
    "    repo_query = salc.sql.text(f\"\"\"\n",
    "                SET SCHEMA 'augur_data';\n",
    "                SELECT r.repo_id,\n",
    "                r.repo_git,\n",
    "                prr.cntrb_id,\n",
    "                prr.pull_request_id\n",
    "                FROM\n",
    "                repo r, pull_request_reviews prr\n",
    "                WHERE\n",
    "                prr.repo_id = \\'{repo_id}\\' AND\n",
    "                prr.repo_id = r.repo_id\n",
    "        \"\"\")\n",
    "    df_current_repo = pd.read_sql(repo_query, con=engine)\n",
    "    prr_contrib = pd.concat([prr_contrib, df_current_repo])\n",
    "\n",
    "pr_contrib = pr_contrib.reset_index()\n",
    "pr_contrib.drop(\"index\", axis=1, inplace=True)\n",
    "prr_contrib.columns =['repo_id', 'repo_git', 'cntrb_id', 'pull_request_id']\n",
    "display(prr_contrib)\n",
    "prr_contrib.dtypes"
   ]
  },
  {
   "cell_type": "code",
   "execution_count": null,
   "metadata": {},
   "outputs": [],
   "source": []
  },
  {
   "cell_type": "markdown",
   "metadata": {},
   "source": [
    "### Retrieve Commit Contributors\n",
    "\n",
    "We will now fetch all the Commit contributors for various repositories."
   ]
  },
  {
   "cell_type": "code",
   "execution_count": 110,
   "metadata": {},
   "outputs": [
    {
     "data": {
      "text/html": [
       "<div>\n",
       "<style scoped>\n",
       "    .dataframe tbody tr th:only-of-type {\n",
       "        vertical-align: middle;\n",
       "    }\n",
       "\n",
       "    .dataframe tbody tr th {\n",
       "        vertical-align: top;\n",
       "    }\n",
       "\n",
       "    .dataframe thead th {\n",
       "        text-align: right;\n",
       "    }\n",
       "</style>\n",
       "<table border=\"1\" class=\"dataframe\">\n",
       "  <thead>\n",
       "    <tr style=\"text-align: right;\">\n",
       "      <th></th>\n",
       "      <th>repo_id</th>\n",
       "      <th>repo_git</th>\n",
       "      <th>cntrb_id</th>\n",
       "      <th>cmt_id</th>\n",
       "    </tr>\n",
       "  </thead>\n",
       "  <tbody>\n",
       "  </tbody>\n",
       "</table>\n",
       "</div>"
      ],
      "text/plain": [
       "Empty DataFrame\n",
       "Columns: [repo_id, repo_git, cntrb_id, cmt_id]\n",
       "Index: []"
      ]
     },
     "metadata": {},
     "output_type": "display_data"
    },
    {
     "data": {
      "text/plain": [
       "repo_id     object\n",
       "repo_git    object\n",
       "cntrb_id    object\n",
       "cmt_id      object\n",
       "dtype: object"
      ]
     },
     "execution_count": 110,
     "metadata": {},
     "output_type": "execute_result"
    }
   ],
   "source": [
    "commit_contrib = pd.DataFrame()\n",
    "\n",
    "for repo_id in repo_set:\n",
    "    if not repo_id:\n",
    "        continue\n",
    "    repo_query = salc.sql.text(f\"\"\"\n",
    "                SET SCHEMA 'augur_data';\n",
    "                SELECT r.repo_id,\n",
    "                r.repo_git,\n",
    "                ca.cntrb_id,\n",
    "                c.cmt_id\n",
    "                FROM\n",
    "                repo r, commits c, contributors_aliases ca\n",
    "                WHERE\n",
    "                c.repo_id = \\'{repo_id}\\' AND\n",
    "                c.repo_id = r.repo_id and\n",
    "                c.cmt_committer_email = ca.alias_email\n",
    "        \"\"\")\n",
    "    df_current_repo = pd.read_sql(repo_query, con=engine)\n",
    "    commit_contrib = pd.concat([commit_contrib, df_current_repo])\n",
    "\n",
    "commit_contrib = commit_contrib.reset_index()\n",
    "commit_contrib.drop(\"index\", axis=1, inplace=True)\n",
    "commit_contrib.columns =['repo_id', 'repo_git', 'cntrb_id', 'cmt_id']\n",
    "display(commit_contrib)\n",
    "commit_contrib.dtypes"
   ]
  },
  {
   "cell_type": "code",
   "execution_count": null,
   "metadata": {},
   "outputs": [],
   "source": []
  },
  {
   "cell_type": "markdown",
   "metadata": {},
   "source": [
    "## Projects and Contributors as Nodes"
   ]
  },
  {
   "cell_type": "markdown",
   "metadata": {},
   "source": [
    "### Commit Contributor Graph"
   ]
  },
  {
   "cell_type": "code",
   "execution_count": 111,
   "metadata": {},
   "outputs": [
    {
     "data": {
      "text/html": [
       "<div>\n",
       "<style scoped>\n",
       "    .dataframe tbody tr th:only-of-type {\n",
       "        vertical-align: middle;\n",
       "    }\n",
       "\n",
       "    .dataframe tbody tr th {\n",
       "        vertical-align: top;\n",
       "    }\n",
       "\n",
       "    .dataframe thead th {\n",
       "        text-align: right;\n",
       "    }\n",
       "</style>\n",
       "<table border=\"1\" class=\"dataframe\">\n",
       "  <thead>\n",
       "    <tr style=\"text-align: right;\">\n",
       "      <th>cntrb_id</th>\n",
       "    </tr>\n",
       "    <tr>\n",
       "      <th>repo_id</th>\n",
       "    </tr>\n",
       "  </thead>\n",
       "  <tbody>\n",
       "  </tbody>\n",
       "</table>\n",
       "</div>"
      ],
      "text/plain": [
       "Empty DataFrame\n",
       "Columns: []\n",
       "Index: []"
      ]
     },
     "execution_count": 111,
     "metadata": {},
     "output_type": "execute_result"
    }
   ],
   "source": [
    "df_commit = commit_contrib.groupby(['repo_id', 'cntrb_id']).size().unstack(fill_value=0)\n",
    "df_commit.head()"
   ]
  },
  {
   "cell_type": "code",
   "execution_count": 112,
   "metadata": {},
   "outputs": [
    {
     "data": {
      "text/html": [
       "<div>\n",
       "<style scoped>\n",
       "    .dataframe tbody tr th:only-of-type {\n",
       "        vertical-align: middle;\n",
       "    }\n",
       "\n",
       "    .dataframe tbody tr th {\n",
       "        vertical-align: top;\n",
       "    }\n",
       "\n",
       "    .dataframe thead th {\n",
       "        text-align: right;\n",
       "    }\n",
       "</style>\n",
       "<table border=\"1\" class=\"dataframe\">\n",
       "  <thead>\n",
       "    <tr style=\"text-align: right;\">\n",
       "      <th>cntrb_id</th>\n",
       "      <th>repo_id</th>\n",
       "    </tr>\n",
       "  </thead>\n",
       "  <tbody>\n",
       "  </tbody>\n",
       "</table>\n",
       "</div>"
      ],
      "text/plain": [
       "Empty DataFrame\n",
       "Columns: [repo_id]\n",
       "Index: []"
      ]
     },
     "execution_count": 112,
     "metadata": {},
     "output_type": "execute_result"
    }
   ],
   "source": [
    "df_commit = df_commit.reset_index()\n",
    "df_commit.head()"
   ]
  },
  {
   "cell_type": "code",
   "execution_count": 113,
   "metadata": {},
   "outputs": [],
   "source": [
    "df_melted_commit = df_commit.melt(\n",
    "    ['repo_id'],\n",
    "    var_name = 'cntrb_id',value_name='number')"
   ]
  },
  {
   "cell_type": "code",
   "execution_count": 114,
   "metadata": {},
   "outputs": [
    {
     "data": {
      "text/html": [
       "<div>\n",
       "<style scoped>\n",
       "    .dataframe tbody tr th:only-of-type {\n",
       "        vertical-align: middle;\n",
       "    }\n",
       "\n",
       "    .dataframe tbody tr th {\n",
       "        vertical-align: top;\n",
       "    }\n",
       "\n",
       "    .dataframe thead th {\n",
       "        text-align: right;\n",
       "    }\n",
       "</style>\n",
       "<table border=\"1\" class=\"dataframe\">\n",
       "  <thead>\n",
       "    <tr style=\"text-align: right;\">\n",
       "      <th></th>\n",
       "      <th>repo_id</th>\n",
       "      <th>cntrb_id</th>\n",
       "      <th>number</th>\n",
       "    </tr>\n",
       "  </thead>\n",
       "  <tbody>\n",
       "  </tbody>\n",
       "</table>\n",
       "</div>"
      ],
      "text/plain": [
       "Empty DataFrame\n",
       "Columns: [repo_id, cntrb_id, number]\n",
       "Index: []"
      ]
     },
     "execution_count": 114,
     "metadata": {},
     "output_type": "execute_result"
    }
   ],
   "source": [
    "df_melted_commit = df_melted_commit[df_melted_commit[df_melted_commit.columns[2]] != 0]\n",
    "df_melted_commit.head()"
   ]
  },
  {
   "cell_type": "markdown",
   "metadata": {},
   "source": [
    "In `df_melted_commit` we transpose the contributor IDs. Each row is a combination of a unique repository and a unique contributor and the number represents the number of times the contributor has made contributors to the particular repository."
   ]
  },
  {
   "cell_type": "code",
   "execution_count": 115,
   "metadata": {},
   "outputs": [],
   "source": [
    "G = nx.from_pandas_edgelist(df_melted_commit, \n",
    "                            source='repo_id',\n",
    "                            target='cntrb_id',\n",
    "                            edge_attr='number',\n",
    "                            create_using=nx.MultiGraph())"
   ]
  },
  {
   "cell_type": "code",
   "execution_count": 116,
   "metadata": {},
   "outputs": [],
   "source": [
    "nodes = G.nodes()\n",
    "Repo_id = df_melted_commit['repo_id'].to_list()\n",
    "contributor_id = df_melted_commit['cntrb_id'].to_list()\n",
    "colors = ['blue' if n in Repo_id else 'yellow' for n in nodes]"
   ]
  },
  {
   "cell_type": "code",
   "execution_count": 117,
   "metadata": {},
   "outputs": [
    {
     "ename": "NameError",
     "evalue": "name 'mpatches' is not defined",
     "output_type": "error",
     "traceback": [
      "\u001b[0;31m---------------------------------------------------------------------------\u001b[0m",
      "\u001b[0;31mNameError\u001b[0m                                 Traceback (most recent call last)",
      "\u001b[0;32m/var/folders/7w/mm9ktp7n75dgn8rjth6_zv_m0000gn/T/ipykernel_6372/4130961705.py\u001b[0m in \u001b[0;36m<module>\u001b[0;34m\u001b[0m\n\u001b[1;32m      1\u001b[0m \u001b[0mfig\u001b[0m\u001b[0;34m,\u001b[0m \u001b[0max\u001b[0m \u001b[0;34m=\u001b[0m \u001b[0mplt\u001b[0m\u001b[0;34m.\u001b[0m\u001b[0msubplots\u001b[0m\u001b[0;34m(\u001b[0m\u001b[0mfigsize\u001b[0m\u001b[0;34m=\u001b[0m\u001b[0;34m(\u001b[0m\u001b[0;36m20\u001b[0m\u001b[0;34m,\u001b[0m\u001b[0;36m20\u001b[0m\u001b[0;34m)\u001b[0m\u001b[0;34m)\u001b[0m\u001b[0;34m\u001b[0m\u001b[0;34m\u001b[0m\u001b[0m\n\u001b[0;32m----> 2\u001b[0;31m \u001b[0myellow_patch\u001b[0m \u001b[0;34m=\u001b[0m \u001b[0mmpatches\u001b[0m\u001b[0;34m.\u001b[0m\u001b[0mPatch\u001b[0m\u001b[0;34m(\u001b[0m\u001b[0mcolor\u001b[0m\u001b[0;34m=\u001b[0m\u001b[0;34m'yellow'\u001b[0m\u001b[0;34m,\u001b[0m \u001b[0mlabel\u001b[0m\u001b[0;34m=\u001b[0m\u001b[0;34m'Contributor'\u001b[0m\u001b[0;34m)\u001b[0m\u001b[0;34m\u001b[0m\u001b[0;34m\u001b[0m\u001b[0m\n\u001b[0m\u001b[1;32m      3\u001b[0m \u001b[0mblue_patch\u001b[0m \u001b[0;34m=\u001b[0m \u001b[0mmpatches\u001b[0m\u001b[0;34m.\u001b[0m\u001b[0mPatch\u001b[0m\u001b[0;34m(\u001b[0m\u001b[0mcolor\u001b[0m\u001b[0;34m=\u001b[0m\u001b[0;34m'blue'\u001b[0m\u001b[0;34m,\u001b[0m \u001b[0mlabel\u001b[0m\u001b[0;34m=\u001b[0m\u001b[0;34m'Repository'\u001b[0m\u001b[0;34m)\u001b[0m\u001b[0;34m\u001b[0m\u001b[0;34m\u001b[0m\u001b[0m\n\u001b[1;32m      4\u001b[0m \u001b[0max\u001b[0m\u001b[0;34m.\u001b[0m\u001b[0mlegend\u001b[0m\u001b[0;34m(\u001b[0m\u001b[0mhandles\u001b[0m\u001b[0;34m=\u001b[0m\u001b[0;34m[\u001b[0m\u001b[0myellow_patch\u001b[0m\u001b[0;34m,\u001b[0m \u001b[0mblue_patch\u001b[0m\u001b[0;34m]\u001b[0m\u001b[0;34m)\u001b[0m\u001b[0;34m\u001b[0m\u001b[0;34m\u001b[0m\u001b[0m\n\u001b[1;32m      5\u001b[0m \u001b[0mnx\u001b[0m\u001b[0;34m.\u001b[0m\u001b[0mdraw_networkx\u001b[0m\u001b[0;34m(\u001b[0m\u001b[0mG\u001b[0m\u001b[0;34m,\u001b[0m \u001b[0mnode_color\u001b[0m\u001b[0;34m=\u001b[0m\u001b[0mcolors\u001b[0m\u001b[0;34m,\u001b[0m \u001b[0mfont_size\u001b[0m\u001b[0;34m=\u001b[0m\u001b[0;36m8\u001b[0m\u001b[0;34m,\u001b[0m \u001b[0max\u001b[0m\u001b[0;34m=\u001b[0m\u001b[0max\u001b[0m\u001b[0;34m)\u001b[0m\u001b[0;34m\u001b[0m\u001b[0;34m\u001b[0m\u001b[0m\n",
      "\u001b[0;31mNameError\u001b[0m: name 'mpatches' is not defined"
     ]
    },
    {
     "data": {
      "image/png": "[encoded data removed]",
      "text/plain": [
       "<Figure size 2000x2000 with 1 Axes>"
      ]
     },
     "metadata": {},
     "output_type": "display_data"
    }
   ],
   "source": [
    "fig, ax = plt.subplots(figsize=(20,20))\n",
    "yellow_patch = mpatches.Patch(color='yellow', label='Contributor')\n",
    "blue_patch = mpatches.Patch(color='blue', label='Repository')\n",
    "ax.legend(handles=[yellow_patch, blue_patch])\n",
    "nx.draw_networkx(G, node_color=colors, font_size=8, ax=ax)"
   ]
  },
  {
   "cell_type": "markdown",
   "metadata": {},
   "source": [
    "What we see above is a certain set of repositories and thier contributors plotted on the same graph. The blue dots represent project repositories and the yellow dots represent their contributors. This gives us an idea of central projects which have a large number of contributors and how other projects are connected to them. However, just given the number of repositories, this graph is hard to dig into, so lets subset this graph to create a smaller plot."
   ]
  },
  {
   "cell_type": "code",
   "execution_count": null,
   "metadata": {},
   "outputs": [],
   "source": [
    "#subsetting the first 50 repo nodes for a smaller plot\n",
    "smaller_df_melted_commit = df_melted_commit[0:50]"
   ]
  },
  {
   "cell_type": "markdown",
   "metadata": {},
   "source": [
    "Here, we narrow down the entire set of nodes into view only 50 nodes plotted on a graph. Note, this is just for visual simplicilty. This is not a logical filtering and not all contributors for a project are going to be seen on the same plot"
   ]
  },
  {
   "cell_type": "code",
   "execution_count": null,
   "metadata": {},
   "outputs": [],
   "source": [
    "G = nx.from_pandas_edgelist(smaller_df_melted_commit, \n",
    "                            source='repo_id',\n",
    "                            target='cntrb_id',\n",
    "                            edge_attr='number',\n",
    "                            create_using=nx.MultiGraph())"
   ]
  },
  {
   "cell_type": "code",
   "execution_count": null,
   "metadata": {},
   "outputs": [],
   "source": [
    "nodes = G.nodes()\n",
    "Repo_id = smaller_df_melted_commit['repo_id'].to_list()\n",
    "contributor_id = smaller_df_melted_commit['cntrb_id'].to_list()\n",
    "colors = ['blue' if n in Repo_id else 'yellow' for n in nodes]"
   ]
  },
  {
   "cell_type": "code",
   "execution_count": null,
   "metadata": {},
   "outputs": [
    {
     "ename": "NameError",
     "evalue": "name 'yellow_patch' is not defined",
     "output_type": "error",
     "traceback": [
      "\u001b[0;31m---------------------------------------------------------------------------\u001b[0m",
      "\u001b[0;31mNameError\u001b[0m                                 Traceback (most recent call last)",
      "\u001b[0;32m/var/folders/7w/mm9ktp7n75dgn8rjth6_zv_m0000gn/T/ipykernel_6372/536501209.py\u001b[0m in \u001b[0;36m<module>\u001b[0;34m\u001b[0m\n\u001b[1;32m      1\u001b[0m \u001b[0mfig\u001b[0m\u001b[0;34m,\u001b[0m \u001b[0max\u001b[0m \u001b[0;34m=\u001b[0m \u001b[0mplt\u001b[0m\u001b[0;34m.\u001b[0m\u001b[0msubplots\u001b[0m\u001b[0;34m(\u001b[0m\u001b[0mfigsize\u001b[0m\u001b[0;34m=\u001b[0m\u001b[0;34m(\u001b[0m\u001b[0;36m15\u001b[0m\u001b[0;34m,\u001b[0m\u001b[0;36m15\u001b[0m\u001b[0;34m)\u001b[0m\u001b[0;34m)\u001b[0m\u001b[0;34m\u001b[0m\u001b[0;34m\u001b[0m\u001b[0m\n\u001b[0;32m----> 2\u001b[0;31m \u001b[0max\u001b[0m\u001b[0;34m.\u001b[0m\u001b[0mlegend\u001b[0m\u001b[0;34m(\u001b[0m\u001b[0mhandles\u001b[0m\u001b[0;34m=\u001b[0m\u001b[0;34m[\u001b[0m\u001b[0myellow_patch\u001b[0m\u001b[0;34m,\u001b[0m \u001b[0mblue_patch\u001b[0m\u001b[0;34m]\u001b[0m\u001b[0;34m)\u001b[0m\u001b[0;34m\u001b[0m\u001b[0;34m\u001b[0m\u001b[0m\n\u001b[0m\u001b[1;32m      3\u001b[0m \u001b[0mnx\u001b[0m\u001b[0;34m.\u001b[0m\u001b[0mdraw_networkx\u001b[0m\u001b[0;34m(\u001b[0m\u001b[0mG\u001b[0m\u001b[0;34m,\u001b[0m \u001b[0mnode_color\u001b[0m\u001b[0;34m=\u001b[0m\u001b[0mcolors\u001b[0m\u001b[0;34m,\u001b[0m \u001b[0mfont_size\u001b[0m\u001b[0;34m=\u001b[0m\u001b[0;36m8\u001b[0m\u001b[0;34m,\u001b[0m \u001b[0max\u001b[0m\u001b[0;34m=\u001b[0m\u001b[0max\u001b[0m\u001b[0;34m)\u001b[0m\u001b[0;34m\u001b[0m\u001b[0;34m\u001b[0m\u001b[0m\n",
      "\u001b[0;31mNameError\u001b[0m: name 'yellow_patch' is not defined"
     ]
    },
    {
     "data": {
      "image/png": "[encoded data removed]",
      "text/plain": [
       "<Figure size 1500x1500 with 1 Axes>"
      ]
     },
     "metadata": {},
     "output_type": "display_data"
    }
   ],
   "source": [
    "fig, ax = plt.subplots(figsize=(15,15))\n",
    "ax.legend(handles=[yellow_patch, blue_patch])\n",
    "nx.draw_networkx(G, node_color=colors, font_size=8, ax=ax)"
   ]
  },
  {
   "cell_type": "markdown",
   "metadata": {},
   "source": [
    "### Issue Contributor Graph"
   ]
  },
  {
   "cell_type": "code",
   "execution_count": null,
   "metadata": {},
   "outputs": [
    {
     "data": {
      "text/html": [
       "<div>\n",
       "<style scoped>\n",
       "    .dataframe tbody tr th:only-of-type {\n",
       "        vertical-align: middle;\n",
       "    }\n",
       "\n",
       "    .dataframe tbody tr th {\n",
       "        vertical-align: top;\n",
       "    }\n",
       "\n",
       "    .dataframe thead th {\n",
       "        text-align: right;\n",
       "    }\n",
       "</style>\n",
       "<table border=\"1\" class=\"dataframe\">\n",
       "  <thead>\n",
       "    <tr style=\"text-align: right;\">\n",
       "      <th>cntrb_id</th>\n",
       "    </tr>\n",
       "    <tr>\n",
       "      <th>repo_id</th>\n",
       "    </tr>\n",
       "  </thead>\n",
       "  <tbody>\n",
       "  </tbody>\n",
       "</table>\n",
       "</div>"
      ],
      "text/plain": [
       "Empty DataFrame\n",
       "Columns: []\n",
       "Index: []"
      ]
     },
     "execution_count": 35,
     "metadata": {},
     "output_type": "execute_result"
    }
   ],
   "source": [
    "df_issue = issue_contrib.groupby(['repo_id', 'cntrb_id']).size().unstack(fill_value=0)\n",
    "df_issue.head()"
   ]
  },
  {
   "cell_type": "code",
   "execution_count": null,
   "metadata": {},
   "outputs": [],
   "source": [
    "df_issue = df_issue.reset_index()\n",
    "df_issue.head()"
   ]
  },
  {
   "cell_type": "code",
   "execution_count": null,
   "metadata": {},
   "outputs": [],
   "source": [
    "df_melted_issue = df_issue.melt(\n",
    "    ['repo_id'],\n",
    "    var_name = 'cntrb_id',value_name='number')"
   ]
  },
  {
   "cell_type": "code",
   "execution_count": null,
   "metadata": {},
   "outputs": [
    {
     "data": {
      "text/html": [
       "<div>\n",
       "<style scoped>\n",
       "    .dataframe tbody tr th:only-of-type {\n",
       "        vertical-align: middle;\n",
       "    }\n",
       "\n",
       "    .dataframe tbody tr th {\n",
       "        vertical-align: top;\n",
       "    }\n",
       "\n",
       "    .dataframe thead th {\n",
       "        text-align: right;\n",
       "    }\n",
       "</style>\n",
       "<table border=\"1\" class=\"dataframe\">\n",
       "  <thead>\n",
       "    <tr style=\"text-align: right;\">\n",
       "      <th></th>\n",
       "      <th>repo_id</th>\n",
       "      <th>cntrb_id</th>\n",
       "      <th>number</th>\n",
       "    </tr>\n",
       "  </thead>\n",
       "  <tbody>\n",
       "  </tbody>\n",
       "</table>\n",
       "</div>"
      ],
      "text/plain": [
       "Empty DataFrame\n",
       "Columns: [repo_id, cntrb_id, number]\n",
       "Index: []"
      ]
     },
     "execution_count": 41,
     "metadata": {},
     "output_type": "execute_result"
    }
   ],
   "source": [
    "df_melted_issue = df_melted_issue[df_melted_issue[df_melted_issue.columns[2]] != 0]\n",
    "df_melted_issue.head()"
   ]
  },
  {
   "cell_type": "code",
   "execution_count": null,
   "metadata": {},
   "outputs": [],
   "source": [
    "Repo_id = df_melted_issue['repo_id'].to_list()\n",
    "contributor_id = df_melted_issue['cntrb_id'].to_list()"
   ]
  },
  {
   "cell_type": "code",
   "execution_count": null,
   "metadata": {},
   "outputs": [],
   "source": [
    "G = nx.from_pandas_edgelist(df_melted_issue, \n",
    "                            source='repo_id',\n",
    "                            target='cntrb_id',\n",
    "                            edge_attr='number',\n",
    "                            create_using=nx.MultiGraph())"
   ]
  },
  {
   "cell_type": "code",
   "execution_count": null,
   "metadata": {},
   "outputs": [],
   "source": [
    "nodes = G.nodes()\n",
    "colors = ['blue' if n in Repo_id else 'yellow' for n in nodes]"
   ]
  },
  {
   "cell_type": "code",
   "execution_count": null,
   "metadata": {},
   "outputs": [
    {
     "ename": "NameError",
     "evalue": "name 'yellow_patch' is not defined",
     "output_type": "error",
     "traceback": [
      "\u001b[0;31m---------------------------------------------------------------------------\u001b[0m",
      "\u001b[0;31mNameError\u001b[0m                                 Traceback (most recent call last)",
      "\u001b[0;32m/var/folders/7w/mm9ktp7n75dgn8rjth6_zv_m0000gn/T/ipykernel_6372/1581572033.py\u001b[0m in \u001b[0;36m<module>\u001b[0;34m\u001b[0m\n\u001b[1;32m      1\u001b[0m \u001b[0mfig\u001b[0m\u001b[0;34m,\u001b[0m \u001b[0max\u001b[0m \u001b[0;34m=\u001b[0m \u001b[0mplt\u001b[0m\u001b[0;34m.\u001b[0m\u001b[0msubplots\u001b[0m\u001b[0;34m(\u001b[0m\u001b[0mfigsize\u001b[0m\u001b[0;34m=\u001b[0m\u001b[0;34m(\u001b[0m\u001b[0;36m20\u001b[0m\u001b[0;34m,\u001b[0m\u001b[0;36m20\u001b[0m\u001b[0;34m)\u001b[0m\u001b[0;34m)\u001b[0m\u001b[0;34m\u001b[0m\u001b[0;34m\u001b[0m\u001b[0m\n\u001b[0;32m----> 2\u001b[0;31m \u001b[0max\u001b[0m\u001b[0;34m.\u001b[0m\u001b[0mlegend\u001b[0m\u001b[0;34m(\u001b[0m\u001b[0mhandles\u001b[0m\u001b[0;34m=\u001b[0m\u001b[0;34m[\u001b[0m\u001b[0myellow_patch\u001b[0m\u001b[0;34m,\u001b[0m \u001b[0mblue_patch\u001b[0m\u001b[0;34m]\u001b[0m\u001b[0;34m)\u001b[0m\u001b[0;34m\u001b[0m\u001b[0;34m\u001b[0m\u001b[0m\n\u001b[0m\u001b[1;32m      3\u001b[0m \u001b[0mnx\u001b[0m\u001b[0;34m.\u001b[0m\u001b[0mdraw_networkx\u001b[0m\u001b[0;34m(\u001b[0m\u001b[0mG\u001b[0m\u001b[0;34m,\u001b[0m \u001b[0mnode_color\u001b[0m\u001b[0;34m=\u001b[0m\u001b[0mcolors\u001b[0m\u001b[0;34m,\u001b[0m \u001b[0mfont_size\u001b[0m\u001b[0;34m=\u001b[0m\u001b[0;36m8\u001b[0m\u001b[0;34m,\u001b[0m \u001b[0max\u001b[0m\u001b[0;34m=\u001b[0m\u001b[0max\u001b[0m\u001b[0;34m)\u001b[0m\u001b[0;34m\u001b[0m\u001b[0;34m\u001b[0m\u001b[0m\n",
      "\u001b[0;31mNameError\u001b[0m: name 'yellow_patch' is not defined"
     ]
    },
    {
     "data": {
      "image/png": "[encoded data removed]",
      "text/plain": [
       "<Figure size 2000x2000 with 1 Axes>"
      ]
     },
     "metadata": {},
     "output_type": "display_data"
    }
   ],
   "source": [
    "fig, ax = plt.subplots(figsize=(20,20))\n",
    "ax.legend(handles=[yellow_patch, blue_patch])\n",
    "nx.draw_networkx(G, node_color=colors, font_size=8, ax=ax)"
   ]
  },
  {
   "cell_type": "code",
   "execution_count": null,
   "metadata": {},
   "outputs": [],
   "source": []
  },
  {
   "cell_type": "markdown",
   "metadata": {},
   "source": [
    "### PR Contributor Graph"
   ]
  },
  {
   "cell_type": "code",
   "execution_count": null,
   "metadata": {},
   "outputs": [
    {
     "data": {
      "text/html": [
       "<div>\n",
       "<style scoped>\n",
       "    .dataframe tbody tr th:only-of-type {\n",
       "        vertical-align: middle;\n",
       "    }\n",
       "\n",
       "    .dataframe tbody tr th {\n",
       "        vertical-align: top;\n",
       "    }\n",
       "\n",
       "    .dataframe thead th {\n",
       "        text-align: right;\n",
       "    }\n",
       "</style>\n",
       "<table border=\"1\" class=\"dataframe\">\n",
       "  <thead>\n",
       "    <tr style=\"text-align: right;\">\n",
       "      <th>cntrb_id</th>\n",
       "      <th>01000002-3300-0000-0000-000000000000</th>\n",
       "      <th>01000004-ca00-0000-0000-000000000000</th>\n",
       "      <th>01000006-8600-0000-0000-000000000000</th>\n",
       "      <th>0100000e-ea00-0000-0000-000000000000</th>\n",
       "      <th>0100000f-7700-0000-0000-000000000000</th>\n",
       "      <th>0100000f-8900-0000-0000-000000000000</th>\n",
       "      <th>01000010-6400-0000-0000-000000000000</th>\n",
       "      <th>01000018-4500-0000-0000-000000000000</th>\n",
       "      <th>01000019-b900-0000-0000-000000000000</th>\n",
       "      <th>01000022-9300-0000-0000-000000000000</th>\n",
       "      <th>...</th>\n",
       "      <th>010a209b-dc00-0000-0000-000000000000</th>\n",
       "      <th>010a2202-0a00-0000-0000-000000000000</th>\n",
       "      <th>010a2748-f000-0000-0000-000000000000</th>\n",
       "      <th>010a2a1a-0d00-0000-0000-000000000000</th>\n",
       "      <th>010a2aa0-dd00-0000-0000-000000000000</th>\n",
       "      <th>010a305c-e000-0000-0000-000000000000</th>\n",
       "      <th>010a470d-0b00-0000-0000-000000000000</th>\n",
       "      <th>010a5309-be00-0000-0000-000000000000</th>\n",
       "      <th>010a575b-dd00-0000-0000-000000000000</th>\n",
       "      <th>010a5a96-3d00-0000-0000-000000000000</th>\n",
       "    </tr>\n",
       "    <tr>\n",
       "      <th>repo_id</th>\n",
       "      <th></th>\n",
       "      <th></th>\n",
       "      <th></th>\n",
       "      <th></th>\n",
       "      <th></th>\n",
       "      <th></th>\n",
       "      <th></th>\n",
       "      <th></th>\n",
       "      <th></th>\n",
       "      <th></th>\n",
       "      <th></th>\n",
       "      <th></th>\n",
       "      <th></th>\n",
       "      <th></th>\n",
       "      <th></th>\n",
       "      <th></th>\n",
       "      <th></th>\n",
       "      <th></th>\n",
       "      <th></th>\n",
       "      <th></th>\n",
       "      <th></th>\n",
       "    </tr>\n",
       "  </thead>\n",
       "  <tbody>\n",
       "    <tr>\n",
       "      <th>25495</th>\n",
       "      <td>0</td>\n",
       "      <td>0</td>\n",
       "      <td>0</td>\n",
       "      <td>0</td>\n",
       "      <td>0</td>\n",
       "      <td>0</td>\n",
       "      <td>0</td>\n",
       "      <td>0</td>\n",
       "      <td>0</td>\n",
       "      <td>0</td>\n",
       "      <td>...</td>\n",
       "      <td>1</td>\n",
       "      <td>0</td>\n",
       "      <td>0</td>\n",
       "      <td>0</td>\n",
       "      <td>0</td>\n",
       "      <td>0</td>\n",
       "      <td>0</td>\n",
       "      <td>0</td>\n",
       "      <td>1</td>\n",
       "      <td>0</td>\n",
       "    </tr>\n",
       "    <tr>\n",
       "      <th>25497</th>\n",
       "      <td>0</td>\n",
       "      <td>1</td>\n",
       "      <td>0</td>\n",
       "      <td>0</td>\n",
       "      <td>0</td>\n",
       "      <td>0</td>\n",
       "      <td>0</td>\n",
       "      <td>0</td>\n",
       "      <td>1</td>\n",
       "      <td>2</td>\n",
       "      <td>...</td>\n",
       "      <td>0</td>\n",
       "      <td>0</td>\n",
       "      <td>0</td>\n",
       "      <td>1</td>\n",
       "      <td>0</td>\n",
       "      <td>0</td>\n",
       "      <td>0</td>\n",
       "      <td>0</td>\n",
       "      <td>0</td>\n",
       "      <td>0</td>\n",
       "    </tr>\n",
       "    <tr>\n",
       "      <th>25498</th>\n",
       "      <td>0</td>\n",
       "      <td>0</td>\n",
       "      <td>0</td>\n",
       "      <td>0</td>\n",
       "      <td>0</td>\n",
       "      <td>0</td>\n",
       "      <td>0</td>\n",
       "      <td>0</td>\n",
       "      <td>0</td>\n",
       "      <td>0</td>\n",
       "      <td>...</td>\n",
       "      <td>0</td>\n",
       "      <td>0</td>\n",
       "      <td>0</td>\n",
       "      <td>0</td>\n",
       "      <td>0</td>\n",
       "      <td>0</td>\n",
       "      <td>0</td>\n",
       "      <td>0</td>\n",
       "      <td>0</td>\n",
       "      <td>0</td>\n",
       "    </tr>\n",
       "    <tr>\n",
       "      <th>25499</th>\n",
       "      <td>0</td>\n",
       "      <td>0</td>\n",
       "      <td>0</td>\n",
       "      <td>0</td>\n",
       "      <td>0</td>\n",
       "      <td>0</td>\n",
       "      <td>0</td>\n",
       "      <td>0</td>\n",
       "      <td>0</td>\n",
       "      <td>0</td>\n",
       "      <td>...</td>\n",
       "      <td>0</td>\n",
       "      <td>0</td>\n",
       "      <td>0</td>\n",
       "      <td>0</td>\n",
       "      <td>0</td>\n",
       "      <td>0</td>\n",
       "      <td>0</td>\n",
       "      <td>0</td>\n",
       "      <td>0</td>\n",
       "      <td>0</td>\n",
       "    </tr>\n",
       "    <tr>\n",
       "      <th>25500</th>\n",
       "      <td>0</td>\n",
       "      <td>0</td>\n",
       "      <td>0</td>\n",
       "      <td>0</td>\n",
       "      <td>0</td>\n",
       "      <td>0</td>\n",
       "      <td>0</td>\n",
       "      <td>0</td>\n",
       "      <td>0</td>\n",
       "      <td>0</td>\n",
       "      <td>...</td>\n",
       "      <td>0</td>\n",
       "      <td>0</td>\n",
       "      <td>0</td>\n",
       "      <td>0</td>\n",
       "      <td>0</td>\n",
       "      <td>0</td>\n",
       "      <td>0</td>\n",
       "      <td>0</td>\n",
       "      <td>0</td>\n",
       "      <td>0</td>\n",
       "    </tr>\n",
       "  </tbody>\n",
       "</table>\n",
       "<p>5 rows × 3327 columns</p>\n",
       "</div>"
      ],
      "text/plain": [
       "cntrb_id  01000002-3300-0000-0000-000000000000  \\\n",
       "repo_id                                          \n",
       "25495                                        0   \n",
       "25497                                        0   \n",
       "25498                                        0   \n",
       "25499                                        0   \n",
       "25500                                        0   \n",
       "\n",
       "cntrb_id  01000004-ca00-0000-0000-000000000000  \\\n",
       "repo_id                                          \n",
       "25495                                        0   \n",
       "25497                                        1   \n",
       "25498                                        0   \n",
       "25499                                        0   \n",
       "25500                                        0   \n",
       "\n",
       "cntrb_id  01000006-8600-0000-0000-000000000000  \\\n",
       "repo_id                                          \n",
       "25495                                        0   \n",
       "25497                                        0   \n",
       "25498                                        0   \n",
       "25499                                        0   \n",
       "25500                                        0   \n",
       "\n",
       "cntrb_id  0100000e-ea00-0000-0000-000000000000  \\\n",
       "repo_id                                          \n",
       "25495                                        0   \n",
       "25497                                        0   \n",
       "25498                                        0   \n",
       "25499                                        0   \n",
       "25500                                        0   \n",
       "\n",
       "cntrb_id  0100000f-7700-0000-0000-000000000000  \\\n",
       "repo_id                                          \n",
       "25495                                        0   \n",
       "25497                                        0   \n",
       "25498                                        0   \n",
       "25499                                        0   \n",
       "25500                                        0   \n",
       "\n",
       "cntrb_id  0100000f-8900-0000-0000-000000000000  \\\n",
       "repo_id                                          \n",
       "25495                                        0   \n",
       "25497                                        0   \n",
       "25498                                        0   \n",
       "25499                                        0   \n",
       "25500                                        0   \n",
       "\n",
       "cntrb_id  01000010-6400-0000-0000-000000000000  \\\n",
       "repo_id                                          \n",
       "25495                                        0   \n",
       "25497                                        0   \n",
       "25498                                        0   \n",
       "25499                                        0   \n",
       "25500                                        0   \n",
       "\n",
       "cntrb_id  01000018-4500-0000-0000-000000000000  \\\n",
       "repo_id                                          \n",
       "25495                                        0   \n",
       "25497                                        0   \n",
       "25498                                        0   \n",
       "25499                                        0   \n",
       "25500                                        0   \n",
       "\n",
       "cntrb_id  01000019-b900-0000-0000-000000000000  \\\n",
       "repo_id                                          \n",
       "25495                                        0   \n",
       "25497                                        1   \n",
       "25498                                        0   \n",
       "25499                                        0   \n",
       "25500                                        0   \n",
       "\n",
       "cntrb_id  01000022-9300-0000-0000-000000000000  ...  \\\n",
       "repo_id                                         ...   \n",
       "25495                                        0  ...   \n",
       "25497                                        2  ...   \n",
       "25498                                        0  ...   \n",
       "25499                                        0  ...   \n",
       "25500                                        0  ...   \n",
       "\n",
       "cntrb_id  010a209b-dc00-0000-0000-000000000000  \\\n",
       "repo_id                                          \n",
       "25495                                        1   \n",
       "25497                                        0   \n",
       "25498                                        0   \n",
       "25499                                        0   \n",
       "25500                                        0   \n",
       "\n",
       "cntrb_id  010a2202-0a00-0000-0000-000000000000  \\\n",
       "repo_id                                          \n",
       "25495                                        0   \n",
       "25497                                        0   \n",
       "25498                                        0   \n",
       "25499                                        0   \n",
       "25500                                        0   \n",
       "\n",
       "cntrb_id  010a2748-f000-0000-0000-000000000000  \\\n",
       "repo_id                                          \n",
       "25495                                        0   \n",
       "25497                                        0   \n",
       "25498                                        0   \n",
       "25499                                        0   \n",
       "25500                                        0   \n",
       "\n",
       "cntrb_id  010a2a1a-0d00-0000-0000-000000000000  \\\n",
       "repo_id                                          \n",
       "25495                                        0   \n",
       "25497                                        1   \n",
       "25498                                        0   \n",
       "25499                                        0   \n",
       "25500                                        0   \n",
       "\n",
       "cntrb_id  010a2aa0-dd00-0000-0000-000000000000  \\\n",
       "repo_id                                          \n",
       "25495                                        0   \n",
       "25497                                        0   \n",
       "25498                                        0   \n",
       "25499                                        0   \n",
       "25500                                        0   \n",
       "\n",
       "cntrb_id  010a305c-e000-0000-0000-000000000000  \\\n",
       "repo_id                                          \n",
       "25495                                        0   \n",
       "25497                                        0   \n",
       "25498                                        0   \n",
       "25499                                        0   \n",
       "25500                                        0   \n",
       "\n",
       "cntrb_id  010a470d-0b00-0000-0000-000000000000  \\\n",
       "repo_id                                          \n",
       "25495                                        0   \n",
       "25497                                        0   \n",
       "25498                                        0   \n",
       "25499                                        0   \n",
       "25500                                        0   \n",
       "\n",
       "cntrb_id  010a5309-be00-0000-0000-000000000000  \\\n",
       "repo_id                                          \n",
       "25495                                        0   \n",
       "25497                                        0   \n",
       "25498                                        0   \n",
       "25499                                        0   \n",
       "25500                                        0   \n",
       "\n",
       "cntrb_id  010a575b-dd00-0000-0000-000000000000  \\\n",
       "repo_id                                          \n",
       "25495                                        1   \n",
       "25497                                        0   \n",
       "25498                                        0   \n",
       "25499                                        0   \n",
       "25500                                        0   \n",
       "\n",
       "cntrb_id  010a5a96-3d00-0000-0000-000000000000  \n",
       "repo_id                                         \n",
       "25495                                        0  \n",
       "25497                                        0  \n",
       "25498                                        0  \n",
       "25499                                        0  \n",
       "25500                                        0  \n",
       "\n",
       "[5 rows x 3327 columns]"
      ]
     },
     "execution_count": 73,
     "metadata": {},
     "output_type": "execute_result"
    }
   ],
   "source": [
    "df_pr = pr_contrib.groupby(['repo_id', 'cntrb_id']).size().unstack(fill_value=0)\n",
    "df_pr.head()"
   ]
  },
  {
   "cell_type": "code",
   "execution_count": null,
   "metadata": {},
   "outputs": [],
   "source": [
    "df_pr = df_pr.reset_index()"
   ]
  },
  {
   "cell_type": "code",
   "execution_count": null,
   "metadata": {},
   "outputs": [],
   "source": [
    "df_melted_pr = df_pr.melt(\n",
    "    ['repo_id'],\n",
    "    var_name = 'cntrb_id',value_name='number')"
   ]
  },
  {
   "cell_type": "code",
   "execution_count": null,
   "metadata": {},
   "outputs": [
    {
     "data": {
      "text/html": [
       "<div>\n",
       "<style scoped>\n",
       "    .dataframe tbody tr th:only-of-type {\n",
       "        vertical-align: middle;\n",
       "    }\n",
       "\n",
       "    .dataframe tbody tr th {\n",
       "        vertical-align: top;\n",
       "    }\n",
       "\n",
       "    .dataframe thead th {\n",
       "        text-align: right;\n",
       "    }\n",
       "</style>\n",
       "<table border=\"1\" class=\"dataframe\">\n",
       "  <thead>\n",
       "    <tr style=\"text-align: right;\">\n",
       "      <th></th>\n",
       "      <th>repo_id</th>\n",
       "      <th>cntrb_id</th>\n",
       "      <th>number</th>\n",
       "    </tr>\n",
       "  </thead>\n",
       "  <tbody>\n",
       "    <tr>\n",
       "      <th>6</th>\n",
       "      <td>25502</td>\n",
       "      <td>01000002-3300-0000-0000-000000000000</td>\n",
       "      <td>34</td>\n",
       "    </tr>\n",
       "    <tr>\n",
       "      <th>10</th>\n",
       "      <td>25497</td>\n",
       "      <td>01000004-ca00-0000-0000-000000000000</td>\n",
       "      <td>1</td>\n",
       "    </tr>\n",
       "    <tr>\n",
       "      <th>26</th>\n",
       "      <td>25504</td>\n",
       "      <td>01000006-8600-0000-0000-000000000000</td>\n",
       "      <td>1</td>\n",
       "    </tr>\n",
       "    <tr>\n",
       "      <th>34</th>\n",
       "      <td>25503</td>\n",
       "      <td>0100000e-ea00-0000-0000-000000000000</td>\n",
       "      <td>1</td>\n",
       "    </tr>\n",
       "    <tr>\n",
       "      <th>43</th>\n",
       "      <td>25503</td>\n",
       "      <td>0100000f-7700-0000-0000-000000000000</td>\n",
       "      <td>1</td>\n",
       "    </tr>\n",
       "  </tbody>\n",
       "</table>\n",
       "</div>"
      ],
      "text/plain": [
       "    repo_id                              cntrb_id  number\n",
       "6     25502  01000002-3300-0000-0000-000000000000      34\n",
       "10    25497  01000004-ca00-0000-0000-000000000000       1\n",
       "26    25504  01000006-8600-0000-0000-000000000000       1\n",
       "34    25503  0100000e-ea00-0000-0000-000000000000       1\n",
       "43    25503  0100000f-7700-0000-0000-000000000000       1"
      ]
     },
     "execution_count": 76,
     "metadata": {},
     "output_type": "execute_result"
    }
   ],
   "source": [
    "df_melted_pr = df_melted_pr[df_melted_pr[df_melted_pr.columns[2]] != 0]\n",
    "df_melted_pr.head()"
   ]
  },
  {
   "cell_type": "code",
   "execution_count": null,
   "metadata": {},
   "outputs": [],
   "source": [
    "Repo_id = df_melted_issue['repo_id'].to_list()\n",
    "contributor_id = df_melted_issue['cntrb_id'].to_list()"
   ]
  },
  {
   "cell_type": "code",
   "execution_count": null,
   "metadata": {},
   "outputs": [],
   "source": [
    "G = nx.from_pandas_edgelist(df_melted_pr, \n",
    "                            source='repo_id',\n",
    "                            target='cntrb_id',\n",
    "                            edge_attr='number',\n",
    "                            create_using=nx.MultiGraph())"
   ]
  },
  {
   "cell_type": "code",
   "execution_count": null,
   "metadata": {},
   "outputs": [],
   "source": [
    "nodes = G.nodes()\n",
    "colors = ['blue' if n in Repo_id else 'yellow' for n in nodes]"
   ]
  },
  {
   "cell_type": "code",
   "execution_count": null,
   "metadata": {},
   "outputs": [
    {
     "ename": "NameError",
     "evalue": "name 'yellow_patch' is not defined",
     "output_type": "error",
     "traceback": [
      "\u001b[0;31m---------------------------------------------------------------------------\u001b[0m",
      "\u001b[0;31mNameError\u001b[0m                                 Traceback (most recent call last)",
      "\u001b[0;32m/var/folders/7w/mm9ktp7n75dgn8rjth6_zv_m0000gn/T/ipykernel_6372/1581572033.py\u001b[0m in \u001b[0;36m<module>\u001b[0;34m\u001b[0m\n\u001b[1;32m      1\u001b[0m \u001b[0mfig\u001b[0m\u001b[0;34m,\u001b[0m \u001b[0max\u001b[0m \u001b[0;34m=\u001b[0m \u001b[0mplt\u001b[0m\u001b[0;34m.\u001b[0m\u001b[0msubplots\u001b[0m\u001b[0;34m(\u001b[0m\u001b[0mfigsize\u001b[0m\u001b[0;34m=\u001b[0m\u001b[0;34m(\u001b[0m\u001b[0;36m20\u001b[0m\u001b[0;34m,\u001b[0m\u001b[0;36m20\u001b[0m\u001b[0;34m)\u001b[0m\u001b[0;34m)\u001b[0m\u001b[0;34m\u001b[0m\u001b[0;34m\u001b[0m\u001b[0m\n\u001b[0;32m----> 2\u001b[0;31m \u001b[0max\u001b[0m\u001b[0;34m.\u001b[0m\u001b[0mlegend\u001b[0m\u001b[0;34m(\u001b[0m\u001b[0mhandles\u001b[0m\u001b[0;34m=\u001b[0m\u001b[0;34m[\u001b[0m\u001b[0myellow_patch\u001b[0m\u001b[0;34m,\u001b[0m \u001b[0mblue_patch\u001b[0m\u001b[0;34m]\u001b[0m\u001b[0;34m)\u001b[0m\u001b[0;34m\u001b[0m\u001b[0;34m\u001b[0m\u001b[0m\n\u001b[0m\u001b[1;32m      3\u001b[0m \u001b[0mnx\u001b[0m\u001b[0;34m.\u001b[0m\u001b[0mdraw_networkx\u001b[0m\u001b[0;34m(\u001b[0m\u001b[0mG\u001b[0m\u001b[0;34m,\u001b[0m \u001b[0mnode_color\u001b[0m\u001b[0;34m=\u001b[0m\u001b[0mcolors\u001b[0m\u001b[0;34m,\u001b[0m \u001b[0mfont_size\u001b[0m\u001b[0;34m=\u001b[0m\u001b[0;36m8\u001b[0m\u001b[0;34m,\u001b[0m \u001b[0max\u001b[0m\u001b[0;34m=\u001b[0m\u001b[0max\u001b[0m\u001b[0;34m)\u001b[0m\u001b[0;34m\u001b[0m\u001b[0;34m\u001b[0m\u001b[0m\n",
      "\u001b[0;31mNameError\u001b[0m: name 'yellow_patch' is not defined"
     ]
    },
    {
     "data": {
      "image/png": "[encoded data removed]",
      "text/plain": [
       "<Figure size 2000x2000 with 1 Axes>"
      ]
     },
     "metadata": {},
     "output_type": "display_data"
    }
   ],
   "source": [
    "fig, ax = plt.subplots(figsize=(20,20))\n",
    "ax.legend(handles=[yellow_patch, blue_patch])\n",
    "nx.draw_networkx(G, node_color=colors, font_size=8, ax=ax)"
   ]
  },
  {
   "cell_type": "code",
   "execution_count": null,
   "metadata": {},
   "outputs": [],
   "source": []
  },
  {
   "cell_type": "markdown",
   "metadata": {},
   "source": [
    "## Nodes as projects edges as contributors"
   ]
  },
  {
   "cell_type": "markdown",
   "metadata": {},
   "source": [
    "In this section, we represent data in a different way and try out another graph representation where the project repositories are represented by nodes and the edges are shared contributions between those projects"
   ]
  },
  {
   "cell_type": "markdown",
   "metadata": {},
   "source": [
    "Lets pick the **Pull Request** type contribution for these graph plots as an example"
   ]
  },
  {
   "cell_type": "code",
   "execution_count": null,
   "metadata": {},
   "outputs": [
    {
     "data": {
      "text/html": [
       "<div>\n",
       "<style scoped>\n",
       "    .dataframe tbody tr th:only-of-type {\n",
       "        vertical-align: middle;\n",
       "    }\n",
       "\n",
       "    .dataframe tbody tr th {\n",
       "        vertical-align: top;\n",
       "    }\n",
       "\n",
       "    .dataframe thead th {\n",
       "        text-align: right;\n",
       "    }\n",
       "</style>\n",
       "<table border=\"1\" class=\"dataframe\">\n",
       "  <thead>\n",
       "    <tr style=\"text-align: right;\">\n",
       "      <th></th>\n",
       "      <th>repo_id</th>\n",
       "      <th>cntrb_id</th>\n",
       "      <th>number</th>\n",
       "    </tr>\n",
       "  </thead>\n",
       "  <tbody>\n",
       "    <tr>\n",
       "      <th>6</th>\n",
       "      <td>25502</td>\n",
       "      <td>01000002-3300-0000-0000-000000000000</td>\n",
       "      <td>34</td>\n",
       "    </tr>\n",
       "    <tr>\n",
       "      <th>10</th>\n",
       "      <td>25497</td>\n",
       "      <td>01000004-ca00-0000-0000-000000000000</td>\n",
       "      <td>1</td>\n",
       "    </tr>\n",
       "    <tr>\n",
       "      <th>26</th>\n",
       "      <td>25504</td>\n",
       "      <td>01000006-8600-0000-0000-000000000000</td>\n",
       "      <td>1</td>\n",
       "    </tr>\n",
       "    <tr>\n",
       "      <th>34</th>\n",
       "      <td>25503</td>\n",
       "      <td>0100000e-ea00-0000-0000-000000000000</td>\n",
       "      <td>1</td>\n",
       "    </tr>\n",
       "    <tr>\n",
       "      <th>43</th>\n",
       "      <td>25503</td>\n",
       "      <td>0100000f-7700-0000-0000-000000000000</td>\n",
       "      <td>1</td>\n",
       "    </tr>\n",
       "  </tbody>\n",
       "</table>\n",
       "</div>"
      ],
      "text/plain": [
       "    repo_id                              cntrb_id  number\n",
       "6     25502  01000002-3300-0000-0000-000000000000      34\n",
       "10    25497  01000004-ca00-0000-0000-000000000000       1\n",
       "26    25504  01000006-8600-0000-0000-000000000000       1\n",
       "34    25503  0100000e-ea00-0000-0000-000000000000       1\n",
       "43    25503  0100000f-7700-0000-0000-000000000000       1"
      ]
     },
     "execution_count": 81,
     "metadata": {},
     "output_type": "execute_result"
    }
   ],
   "source": [
    "df_melted_pr.head()"
   ]
  },
  {
   "cell_type": "code",
   "execution_count": null,
   "metadata": {},
   "outputs": [],
   "source": [
    "contributorGraph = {}\n",
    "for i, row in df_melted_pr.iterrows():\n",
    "    if row['cntrb_id'] not in contributorGraph:\n",
    "        contributorGraph[row['cntrb_id']] = []\n",
    "    if(row['number'] > 0):\n",
    "        contributorGraph[row['cntrb_id']].append((row['repo_id'], row['number']))"
   ]
  },
  {
   "cell_type": "code",
   "execution_count": null,
   "metadata": {},
   "outputs": [
    {
     "data": {
      "text/plain": [
       "[(UUID('01000002-3300-0000-0000-000000000000'), [(25502, 34)]),\n",
       " (UUID('01000004-ca00-0000-0000-000000000000'), [(25497, 1)]),\n",
       " (UUID('01000006-8600-0000-0000-000000000000'), [(25504, 1)]),\n",
       " (UUID('0100000e-ea00-0000-0000-000000000000'), [(25503, 1)]),\n",
       " (UUID('0100000f-7700-0000-0000-000000000000'), [(25503, 1)]),\n",
       " (UUID('0100000f-8900-0000-0000-000000000000'), [(25504, 1)]),\n",
       " (UUID('01000010-6400-0000-0000-000000000000'), [(25502, 1)]),\n",
       " (UUID('01000018-4500-0000-0000-000000000000'), [(25502, 2)]),\n",
       " (UUID('01000019-b900-0000-0000-000000000000'), [(25497, 1)]),\n",
       " (UUID('01000022-9300-0000-0000-000000000000'), [(25497, 2)])]"
      ]
     },
     "execution_count": 83,
     "metadata": {},
     "output_type": "execute_result"
    }
   ],
   "source": [
    "list(contributorGraph.items())[:10]"
   ]
  },
  {
   "cell_type": "markdown",
   "metadata": {},
   "source": [
    "`contributorGraph` above is a dictionary where each key is a project repository, and the value is a list of **\"connected\"** project repositories and the number of **\"shared connections\"** between them. Lets explain **\"connected\"** repositories and shared \"connections\"."
   ]
  },
  {
   "cell_type": "markdown",
   "metadata": {},
   "source": [
    "structure of `contributorGraph` =  \n",
    "{  \n",
    "`repo1`: [(`repo2`, `PRs by same authors in repo 1 and repo 2`)],  \n",
    " `repo2`: [(`repo4`, `PRs created by same authors in repo 1 and repo 4` ), (`repo5`, `PRs by same authors in repo 2 and repo 5`)]  \n",
    "}"
   ]
  },
  {
   "cell_type": "markdown",
   "metadata": {},
   "source": [
    "**\"shared connections\"** constitute of *commits*, *pull requests*, *issues* and *pull request reviews* that are made by the same contributor.\n",
    "We will call 2 project repositories **\"connected\"** if they have a **\"shared connection\"** between them. \n",
    "This means if they have a contributor who makes a *commit*, *pull request*, *issue* or *pull request review* in both the repositories, they count as a shared contributor and the repositories are connected. \n",
    "\n",
    "We track the number of shared contributions between 2 repositories for creating this graph plot."
   ]
  },
  {
   "cell_type": "code",
   "execution_count": null,
   "metadata": {},
   "outputs": [
    {
     "name": "stdout",
     "output_type": "stream",
     "text": [
      "defaultdict(<class 'int'>, {(25495, 25497): 1178, (25495, 25503): 1017, (25502, 25503): 184, (25495, 25504): 6, (25497, 25502): 11, (25495, 25501): 43, (25495, 25502): 125, (25501, 25502): 17, (25499, 25504): 61, (25497, 25499): 2, (25499, 25502): 35, (25497, 25501): 23, (25495, 25500): 5, (25501, 25504): 23, (25500, 25501): 10, (25503, 25504): 2, (25497, 25503): 4, (25497, 25504): 11, (25499, 25500): 13, (25500, 25503): 8, (25498, 25501): 33, (25495, 25499): 10, (25500, 25504): 2, (25498, 25499): 3})\n"
     ]
    }
   ],
   "source": [
    "commonRepoContributionsByContributor = collections.defaultdict(int)\n",
    "for key in contributorGraph:\n",
    "    if len(contributorGraph[key])-1 <= 0:\n",
    "        continue\n",
    "    for repoContributionIndex in range(len(contributorGraph[key])-1):\n",
    "        commonRepoContributionsByContributor[(contributorGraph[key][repoContributionIndex][0], contributorGraph[key][repoContributionIndex+1][0])] += contributorGraph[key][repoContributionIndex][1]+contributorGraph[key][repoContributionIndex+1][1]\n",
    "print(commonRepoContributionsByContributor)"
   ]
  },
  {
   "cell_type": "markdown",
   "metadata": {},
   "source": [
    "`commonRepoContributionsByContributor` is a nested dictionary consisting of dictionaries of repository pairs and their common contributions. \n",
    "\n",
    "structure of `commonRepoContributionsByContributor` =  \n",
    "{  \n",
    "(`repo1, repo2`): `PRs by same authors in repo 1 and repo 2`,  \n",
    "(`repo2, repo4`): `PRs by same authors in repo 2 and repo 4`,  \n",
    "(`repo2, repo5`): `PRs by same authors in repo 2 and repo 5`,   \n",
    "}"
   ]
  },
  {
   "cell_type": "code",
   "execution_count": null,
   "metadata": {},
   "outputs": [],
   "source": [
    "res = []\n",
    "for key in commonRepoContributionsByContributor:\n",
    "    res.append(tuple(str(k) for k in list(key)) + (commonRepoContributionsByContributor[key],))"
   ]
  },
  {
   "cell_type": "markdown",
   "metadata": {},
   "source": [
    "For plotting the graph below, we pick the repositories as the nodes and let the shared contributions dictate the edge weights"
   ]
  },
  {
   "cell_type": "code",
   "execution_count": null,
   "metadata": {},
   "outputs": [],
   "source": [
    "g = nx.Graph()\n",
    "g.add_weighted_edges_from(res)"
   ]
  },
  {
   "cell_type": "code",
   "execution_count": null,
   "metadata": {},
   "outputs": [
    {
     "data": {
      "image/png": "[encoded data removed]",
      "text/plain": [
       "<Figure size 2000x2000 with 1 Axes>"
      ]
     },
     "metadata": {},
     "output_type": "display_data"
    }
   ],
   "source": [
    "fig, ax = plt.subplots(figsize=(20,20))\n",
    "nx.draw_networkx(g, node_size=120, font_size=14, ax=ax)"
   ]
  },
  {
   "cell_type": "markdown",
   "metadata": {},
   "source": [
    "\n",
    "The above graph represents project repositories and how close or far they are to each other based on their degree of connected (number of shared contributions amongst them). If 2 nodes are close to each other, the 2 projects have a high number of shared contributions and vice versa. Each node in this graph has atleast one connection. We are not plotting lone projects in this graph as we want to identify project repositories in connection to existing known repositories.  \n",
    "Note: this is not a complete (fully-connected) graph. All projects are not **\"connected\"** to each project. See above for the definition of **\"connected\"** "
   ]
  },
  {
   "cell_type": "markdown",
   "metadata": {},
   "source": [
    "## Conclusion\n",
    "\n",
    "In this notebook, we created initial graph representations of existing open source GitHub repositories falling under a certain category using [NetworkX](https://networkx.org/). \n",
    "\n",
    "We used 2 type of graph representations:\n",
    "\n",
    "- One where repositories and contributors both are both nodes (differently colored). Viewing which repositories share which set of contributors and analyzing their clusters can give an idea about how projects are connected to each other and to what degree \n",
    "- One where repositories are nodes, and edges are number of contributions. The distance between repositories, how close or far they are will depend on the number of shared contributions that exist between them."
   ]
  }
 ],
 "metadata": {
  "kernelspec": {
   "display_name": ".rappel_env",
   "language": "python",
   "name": "python3"
  },
  "language_info": {
   "codemirror_mode": {
    "name": "ipython",
    "version": 3
   },
   "file_extension": ".py",
   "mimetype": "text/x-python",
   "name": "python",
   "nbconvert_exporter": "python",
   "pygments_lexer": "ipython3",
   "version": "3.9.6"
  }
 },
 "nbformat": 4,
 "nbformat_minor": 2
}
