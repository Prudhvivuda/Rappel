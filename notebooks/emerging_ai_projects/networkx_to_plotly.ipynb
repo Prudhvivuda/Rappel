{
 "cells": [
  {
   "cell_type": "markdown",
   "metadata": {},
   "source": [
    "# Converting Networkx Graph to Plotly Graph"
   ]
  },
  {
   "cell_type": "markdown",
   "metadata": {},
   "source": [
    "In this notebook, we try to convert the networkx graphs created in the [repo_analysis](repo_analysis.ipynb) notebook to plotly graphs for better visualization and interactivity."
   ]
  },
  {
   "cell_type": "markdown",
   "metadata": {},
   "source": [
    "## Tables of Contents\n",
    "- [Introduction](#introduction)\n",
    "- [Database Connection](#connect-to-the-augur-database)\n",
    "- [Loading the URLs of Repositories](#load-the-urls-of-ai-repositories)\n",
    "- [Retrieve the Data](#retrieve-the-data)\n",
    "  - [Retreve repository ID and names](#retrieve-the-repository-ids-and-the-repository-names)\n",
    "  - [Rerieve Pull Request Contributors](#retrieve-pull-request-contributors)\n",
    "- [Creating Networkx Graph](#creating-networkx-graph)\n",
    "- [Converting Networkx to Plotly Graph](#converting-the-above-graph-to-plotly)"
   ]
  },
  {
   "cell_type": "markdown",
   "metadata": {},
   "source": [
    "## Introduction"
   ]
  },
  {
   "cell_type": "markdown",
   "metadata": {},
   "source": [
    "This script performs network analysis and visualization using NetworkX and Plotly. It constructs a network graph based on shared contributors between repositories, adds node and edge attributes, and creates an interactive visualization with hover information.\n"
   ]
  },
  {
   "cell_type": "markdown",
   "metadata": {},
   "source": [
    "Import all the necessary libraries."
   ]
  },
  {
   "cell_type": "code",
   "execution_count": 32,
   "metadata": {},
   "outputs": [],
   "source": [
    "# Importing the pandas library for data manipulation and analysis\n",
    "import pandas as pd\n",
    "\n",
    "# Importing the collections module for specialized container datatypes\n",
    "import collections\n",
    "\n",
    "# Importing the SQLAlchemy library for SQL database toolkit and Object-Relational Mapping (ORM)\n",
    "import sqlalchemy as salc\n",
    "\n",
    "# Importing the json module to work with JSON data\n",
    "import json\n",
    "\n",
    "# Importing the NetworkX library for creating and analyzing complex networks\n",
    "import networkx as nx\n",
    "\n",
    "# Importing the pyplot module from matplotlib for plotting and visualization\n",
    "import matplotlib.pyplot as plt\n",
    "\n",
    "# Importing the patches module from matplotlib for creating graphical patches\n",
    "import matplotlib.patches as mpatches\n",
    "\n",
    "# Importing specific functions from SQLAlchemy\n",
    "from sqlalchemy import create_engine, text\n",
    "\n",
    "# Importing the interp1d function from scipy.interpolate for one-dimensional interpolation\n",
    "from scipy.interpolate import interp1d\n",
    "\n",
    "# Importing the numpy library for numerical operations, such as array manipulations and mathematical functions\n",
    "import numpy as np\n",
    "\n",
    "# Importing the plotly.graph_objects module for creating interactive plots and graphs\n",
    "import plotly.graph_objects as go\n"
   ]
  },
  {
   "cell_type": "markdown",
   "metadata": {},
   "source": [
    "## Connect to the Augur database"
   ]
  },
  {
   "cell_type": "code",
   "execution_count": 33,
   "metadata": {},
   "outputs": [],
   "source": [
    "# Opening the JSON file containing database credentials and loading it into a dictionary\n",
    "with open(\"data/il_ai_creds.json\") as config_file:\n",
    "    config = json.load(config_file)\n",
    "    \n",
    "# Creating a PostgreSQL database connection string using the credentials from the JSON file\n",
    "database_connection_string = 'postgresql+psycopg2://{}:{}@{}:{}/{}'.format(\n",
    "    config['user'],        # Username\n",
    "    config['password'],    # Password\n",
    "    config['host'],        # Hostname\n",
    "    config['port'],        # Port number\n",
    "    config['database']     # Database name\n",
    ")\n",
    "\n",
    "# Assigning the connection string to a variable\n",
    "connection_string = database_connection_string\n",
    "\n",
    "# Creating a SQLAlchemy engine using the connection string\n",
    "engine = create_engine(connection_string)"
   ]
  },
  {
   "cell_type": "markdown",
   "metadata": {},
   "source": [
    "## Load the URLs of AI repositories"
   ]
  },
  {
   "cell_type": "markdown",
   "metadata": {},
   "source": [
    "- There are different verticals like math, nlp, gen_ai, personal_assistants, llm etc\n",
    "- In this notebook, we are performing our analysis on math repositories as graphical interpretation will be too messy if we try to plot all at once\n",
    "- If you want to perform the same analysis on other verticals, just replace math with your choice in `data.get('math')`"
   ]
  },
  {
   "cell_type": "code",
   "execution_count": 34,
   "metadata": {},
   "outputs": [
    {
     "name": "stdout",
     "output_type": "stream",
     "text": [
      "{'gen_ai': ['https://github.com/lucidrains/imagen-pytorch',\n",
      "            'https://github.com/langchain-ai/langchain',\n",
      "            'https://github.com/run-llama/llama_index',\n",
      "            'https://github.com/microsoft/lora',\n",
      "            'https://github.com/nvidia/nemo',\n",
      "            'https://github.com/huggingface/peft',\n",
      "            'https://github.com/microsoft/semantic-kernel',\n",
      "            'https://github.com/chroma-core/chroma',\n",
      "            'https://github.com/milvus-io/milvus',\n",
      "            'https://github.com/qdrant/qdrant',\n",
      "            'https://github.com/bigscience-workshop/promptsource',\n",
      "            'https://github.com/automatic1111/stable-diffusion-webui'],\n",
      " 'llm': ['https://github.com/huggingface/transformers',\n",
      "         'https://github.com/huggingface/datasets',\n",
      "         'https://github.com/huggingface/trl',\n",
      "         'https://github.com/microsoft/deepspeed',\n",
      "         'https://github.com/timdettmers/bitsandbytes',\n",
      "         'https://github.com/mistralai/mistral-common',\n",
      "         'https://github.com/meta-llama/llama',\n",
      "         'https://github.com/google-research/text-to-text-transfer-transformer',\n",
      "         'https://github.com/instructlab/instructlab',\n",
      "         'https://github.com/google-deepmind/gemma'],\n",
      " 'math': ['https://github.com/numpy/numpy',\n",
      "          'https://github.com/tensorflow/tensorflow',\n",
      "          'https://github.com/networkx/networkx',\n",
      "          'https://github.com/pytorch/pytorch',\n",
      "          'https://github.com/keras-team/keras-io',\n",
      "          'https://github.com/tinygrad/tinygrad',\n",
      "          'https://github.com/pandas-dev/pandas',\n",
      "          'https://github.com/pola-rs/polars',\n",
      "          'https://github.com/apache/arrow',\n",
      "          'https://github.com/ml-explore/mlx'],\n",
      " 'nlp': ['https://github.com/huggingface/transformers',\n",
      "         'https://github.com/explosion/spacy',\n",
      "         'https://github.com/nltk/nltk',\n",
      "         'https://github.com/allenai/allennlp',\n",
      "         'https://github.com/rare-technologies/gensim',\n",
      "         'https://github.com/stanfordnlp/corenlp',\n",
      "         'https://github.com/mozilla/deepspeech',\n",
      "         'https://github.com/facebookresearch/fasttext',\n",
      "         'https://github.com/ukplab/sentence-transformers',\n",
      "         'https://github.com/opennmt/opennmt',\n",
      "         'https://github.com/apache/opennlp',\n",
      "         'https://github.com/cogcomp/cogcomp-nlp'],\n",
      " 'personal_assistants': ['https://github.com/mycroftai/mycroft-core',\n",
      "                         'https://github.com/laion-ai/open-assistant',\n",
      "                         'https://github.com/rhasspy/rhasspy',\n",
      "                         'https://github.com/openvoiceos/ovos-core',\n",
      "                         'https://github.com/sukeesh/jarvis',\n",
      "                         'https://github.com/leon-ai/leon',\n",
      "                         'https://github.com/picovoice/porcupine']}\n"
     ]
    }
   ],
   "source": [
    "# Opening the JSON file containing AI repository data and loading it into a dictionary\n",
    "f = open('ai_repos.json')\n",
    "data = json.load(f)\n",
    "\n",
    "# Closing the file after loading the data\n",
    "f.close()  \n",
    "\n",
    "# print the collected repositories\n",
    "from pprint import pprint\n",
    "pprint(data)\n"
   ]
  },
  {
   "cell_type": "code",
   "execution_count": 35,
   "metadata": {},
   "outputs": [],
   "source": [
    "# Initializing an empty list to store repository git URLs\n",
    "repo_git_set = []\n",
    "\n",
    "# Extracting the list of repositories under the 'math' category from the loaded JSON data\n",
    "repo_git_set = data.get('math')"
   ]
  },
  {
   "cell_type": "markdown",
   "metadata": {},
   "source": [
    "Uncomment below cell if all the catergories needs to be analyzed at once."
   ]
  },
  {
   "cell_type": "code",
   "execution_count": 36,
   "metadata": {},
   "outputs": [],
   "source": [
    "# for key in data.keys():\n",
    "#     repo_git_set.extend(data.get(key))"
   ]
  },
  {
   "cell_type": "markdown",
   "metadata": {},
   "source": [
    "## Retrieve the Data"
   ]
  },
  {
   "cell_type": "markdown",
   "metadata": {},
   "source": [
    "### Retrieve the repository IDs and the repository names"
   ]
  },
  {
   "cell_type": "markdown",
   "metadata": {},
   "source": [
    "Let's retrieve the repository IDs and names from the augur database."
   ]
  },
  {
   "cell_type": "code",
   "execution_count": 37,
   "metadata": {},
   "outputs": [
    {
     "name": "stdout",
     "output_type": "stream",
     "text": [
      "[25495, 25498, 25497, 25501, 25500, 25504, 25503, 25557, 25502, 25499]\n",
      "['numpy', 'tensorflow', 'networkx', 'pytorch', 'keras-io', 'tinygrad', 'pandas', 'polars', 'arrow', 'mlx']\n"
     ]
    }
   ],
   "source": [
    "# Initializing empty lists to store repository IDs and names\n",
    "repo_set = []\n",
    "repo_name_set = []\n",
    "\n",
    "# Iterating through the list of repository git URLs\n",
    "for repo_git in repo_git_set:\n",
    "    # Creating a SQL query to fetch repository ID and name for each git URL\n",
    "    repo_query = text(f\"\"\"\n",
    "                    SET SCHEMA 'augur_data';\n",
    "                    SELECT \n",
    "                        b.repo_id,\n",
    "                        b.repo_name\n",
    "                    FROM\n",
    "                        repo_groups a,\n",
    "                        repo b\n",
    "                    WHERE\n",
    "                        a.repo_group_id = b.repo_group_id AND\n",
    "                        b.repo_git = '{repo_git}'\n",
    "            \"\"\")\n",
    "\n",
    "    # Using the connection to execute the query\n",
    "    with engine.connect() as connection:\n",
    "        t = connection.execute(repo_query)  # Executing the query\n",
    "        results = t.mappings().all()  # Fetching all the results\n",
    "        \n",
    "        # Checking if results are found and extracting repo_id and repo_name\n",
    "        if results:\n",
    "            repo_id = results[0]['repo_id']\n",
    "            repo_name = results[0]['repo_name']\n",
    "        else:\n",
    "            repo_id = None\n",
    "            repo_name = None\n",
    "        \n",
    "        # Appending the fetched repository ID and name to the respective lists\n",
    "        repo_set.append(repo_id)\n",
    "        repo_name_set.append(repo_name)\n",
    "\n",
    "# Printing the lists of repository IDs and names\n",
    "print(repo_set)\n",
    "print(repo_name_set)"
   ]
  },
  {
   "cell_type": "markdown",
   "metadata": {},
   "source": [
    "### Retrieve Pull Request Contributors"
   ]
  },
  {
   "cell_type": "markdown",
   "metadata": {},
   "source": [
    "Any type of contribution can be taken to retrieve data to create networkx and plotly graphs. Here, we are fetching all the Pull Request contributors for various repositories."
   ]
  },
  {
   "cell_type": "code",
   "execution_count": 38,
   "metadata": {},
   "outputs": [
    {
     "data": {
      "text/html": [
       "<div>\n",
       "<style scoped>\n",
       "    .dataframe tbody tr th:only-of-type {\n",
       "        vertical-align: middle;\n",
       "    }\n",
       "\n",
       "    .dataframe tbody tr th {\n",
       "        vertical-align: top;\n",
       "    }\n",
       "\n",
       "    .dataframe thead th {\n",
       "        text-align: right;\n",
       "    }\n",
       "</style>\n",
       "<table border=\"1\" class=\"dataframe\">\n",
       "  <thead>\n",
       "    <tr style=\"text-align: right;\">\n",
       "      <th></th>\n",
       "      <th>repo_id</th>\n",
       "      <th>repo_name</th>\n",
       "      <th>repo_git</th>\n",
       "      <th>cntrb_id</th>\n",
       "      <th>pull_request_id</th>\n",
       "    </tr>\n",
       "  </thead>\n",
       "  <tbody>\n",
       "    <tr>\n",
       "      <th>0</th>\n",
       "      <td>25495</td>\n",
       "      <td>numpy</td>\n",
       "      <td>https://github.com/numpy/numpy</td>\n",
       "      <td>0100012d-d800-0000-0000-000000000000</td>\n",
       "      <td>249528</td>\n",
       "    </tr>\n",
       "    <tr>\n",
       "      <th>1</th>\n",
       "      <td>25495</td>\n",
       "      <td>numpy</td>\n",
       "      <td>https://github.com/numpy/numpy</td>\n",
       "      <td>01007897-6600-0000-0000-000000000000</td>\n",
       "      <td>249530</td>\n",
       "    </tr>\n",
       "    <tr>\n",
       "      <th>2</th>\n",
       "      <td>25495</td>\n",
       "      <td>numpy</td>\n",
       "      <td>https://github.com/numpy/numpy</td>\n",
       "      <td>0100012d-d800-0000-0000-000000000000</td>\n",
       "      <td>249532</td>\n",
       "    </tr>\n",
       "    <tr>\n",
       "      <th>3</th>\n",
       "      <td>25495</td>\n",
       "      <td>numpy</td>\n",
       "      <td>https://github.com/numpy/numpy</td>\n",
       "      <td>01002419-5e00-0000-0000-000000000000</td>\n",
       "      <td>249534</td>\n",
       "    </tr>\n",
       "    <tr>\n",
       "      <th>4</th>\n",
       "      <td>25495</td>\n",
       "      <td>numpy</td>\n",
       "      <td>https://github.com/numpy/numpy</td>\n",
       "      <td>010089f0-fc00-0000-0000-000000000000</td>\n",
       "      <td>249535</td>\n",
       "    </tr>\n",
       "    <tr>\n",
       "      <th>...</th>\n",
       "      <td>...</td>\n",
       "      <td>...</td>\n",
       "      <td>...</td>\n",
       "      <td>...</td>\n",
       "      <td>...</td>\n",
       "    </tr>\n",
       "    <tr>\n",
       "      <th>208388</th>\n",
       "      <td>25499</td>\n",
       "      <td>mlx</td>\n",
       "      <td>https://github.com/ml-explore/mlx</td>\n",
       "      <td>0100178a-9500-0000-0000-000000000000</td>\n",
       "      <td>41014</td>\n",
       "    </tr>\n",
       "    <tr>\n",
       "      <th>208389</th>\n",
       "      <td>25499</td>\n",
       "      <td>mlx</td>\n",
       "      <td>https://github.com/ml-explore/mlx</td>\n",
       "      <td>010012f3-bb00-0000-0000-000000000000</td>\n",
       "      <td>41023</td>\n",
       "    </tr>\n",
       "    <tr>\n",
       "      <th>208390</th>\n",
       "      <td>25499</td>\n",
       "      <td>mlx</td>\n",
       "      <td>https://github.com/ml-explore/mlx</td>\n",
       "      <td>0100178a-9500-0000-0000-000000000000</td>\n",
       "      <td>41025</td>\n",
       "    </tr>\n",
       "    <tr>\n",
       "      <th>208391</th>\n",
       "      <td>25499</td>\n",
       "      <td>mlx</td>\n",
       "      <td>https://github.com/ml-explore/mlx</td>\n",
       "      <td>0104378e-4200-0000-0000-000000000000</td>\n",
       "      <td>41297</td>\n",
       "    </tr>\n",
       "    <tr>\n",
       "      <th>208392</th>\n",
       "      <td>25499</td>\n",
       "      <td>mlx</td>\n",
       "      <td>https://github.com/ml-explore/mlx</td>\n",
       "      <td>0100178a-9500-0000-0000-000000000000</td>\n",
       "      <td>41541</td>\n",
       "    </tr>\n",
       "  </tbody>\n",
       "</table>\n",
       "<p>208393 rows × 5 columns</p>\n",
       "</div>"
      ],
      "text/plain": [
       "        repo_id repo_name                           repo_git  \\\n",
       "0         25495     numpy     https://github.com/numpy/numpy   \n",
       "1         25495     numpy     https://github.com/numpy/numpy   \n",
       "2         25495     numpy     https://github.com/numpy/numpy   \n",
       "3         25495     numpy     https://github.com/numpy/numpy   \n",
       "4         25495     numpy     https://github.com/numpy/numpy   \n",
       "...         ...       ...                                ...   \n",
       "208388    25499       mlx  https://github.com/ml-explore/mlx   \n",
       "208389    25499       mlx  https://github.com/ml-explore/mlx   \n",
       "208390    25499       mlx  https://github.com/ml-explore/mlx   \n",
       "208391    25499       mlx  https://github.com/ml-explore/mlx   \n",
       "208392    25499       mlx  https://github.com/ml-explore/mlx   \n",
       "\n",
       "                                    cntrb_id  pull_request_id  \n",
       "0       0100012d-d800-0000-0000-000000000000           249528  \n",
       "1       01007897-6600-0000-0000-000000000000           249530  \n",
       "2       0100012d-d800-0000-0000-000000000000           249532  \n",
       "3       01002419-5e00-0000-0000-000000000000           249534  \n",
       "4       010089f0-fc00-0000-0000-000000000000           249535  \n",
       "...                                      ...              ...  \n",
       "208388  0100178a-9500-0000-0000-000000000000            41014  \n",
       "208389  010012f3-bb00-0000-0000-000000000000            41023  \n",
       "208390  0100178a-9500-0000-0000-000000000000            41025  \n",
       "208391  0104378e-4200-0000-0000-000000000000            41297  \n",
       "208392  0100178a-9500-0000-0000-000000000000            41541  \n",
       "\n",
       "[208393 rows x 5 columns]"
      ]
     },
     "metadata": {},
     "output_type": "display_data"
    },
    {
     "data": {
      "text/plain": [
       "repo_id             int64\n",
       "repo_name          object\n",
       "repo_git           object\n",
       "cntrb_id           object\n",
       "pull_request_id     int64\n",
       "dtype: object"
      ]
     },
     "execution_count": 38,
     "metadata": {},
     "output_type": "execute_result"
    }
   ],
   "source": [
    "# Initializing an empty DataFrame to store pull request contributions\n",
    "pr_contrib = pd.DataFrame()\n",
    "\n",
    "# Iterating through the list of repository IDs\n",
    "for repo_id in repo_set:\n",
    "    # Skipping if repo_id is None\n",
    "    if not repo_id:\n",
    "        continue\n",
    "    \n",
    "    # Creating a SQL query to fetch pull request contributions for each repository\n",
    "    repo_query = salc.sql.text(f\"\"\"\n",
    "                    SET SCHEMA 'augur_data';\n",
    "                    SELECT \n",
    "                        r.repo_id,\n",
    "                        r.repo_name,\n",
    "                        r.repo_git,\n",
    "                        pr.pr_augur_contributor_id,\n",
    "                        pr.pull_request_id\n",
    "                    FROM\n",
    "                        repo r, pull_requests pr\n",
    "                    WHERE\n",
    "                        pr.repo_id = '{repo_id}' AND\n",
    "                        pr.repo_id = r.repo_id\n",
    "                \"\"\")\n",
    "    \n",
    "    # Executing the query and reading the results into a DataFrame\n",
    "    df_current_repo = pd.read_sql(repo_query, con=engine)\n",
    "    \n",
    "    # Concatenating the current repository's data with the main DataFrame\n",
    "    pr_contrib = pd.concat([pr_contrib, df_current_repo])\n",
    "\n",
    "# Resetting the index of the DataFrame\n",
    "pr_contrib = pr_contrib.reset_index()\n",
    "\n",
    "# Dropping the old index column\n",
    "pr_contrib.drop(\"index\", axis=1, inplace=True)\n",
    "\n",
    "# Renaming the columns of the DataFrame\n",
    "pr_contrib.columns = ['repo_id', 'repo_name', 'repo_git', 'cntrb_id', 'pull_request_id']\n",
    "\n",
    "# Displaying the DataFrame\n",
    "display(pr_contrib)\n",
    "\n",
    "# Displaying the data types of the DataFrame columns\n",
    "pr_contrib.dtypes"
   ]
  },
  {
   "cell_type": "code",
   "execution_count": 39,
   "metadata": {},
   "outputs": [],
   "source": [
    "# Group by 'repo_name' and 'cntrb_id', count occurrences, and reshape with 'repo_name' as columns\n",
    "df_pr = pr_contrib.groupby(['repo_name', 'cntrb_id']).size().unstack(fill_value=0)"
   ]
  },
  {
   "cell_type": "markdown",
   "metadata": {},
   "source": [
    "In the dataframe, each row represents a repository name and each column represents a contributor. The dataframe contains counts for the number of times a contributor has made contributions to a particular repository. In the dataframe below `df_pr`, each contribution represents a PR contribution. A value 0 means that a particular contributor has made no PR contributions to the repository, and a number `x` means that the contributor has made `x` number of PR contributions to the repository."
   ]
  },
  {
   "cell_type": "code",
   "execution_count": 40,
   "metadata": {},
   "outputs": [
    {
     "data": {
      "text/html": [
       "<div>\n",
       "<style scoped>\n",
       "    .dataframe tbody tr th:only-of-type {\n",
       "        vertical-align: middle;\n",
       "    }\n",
       "\n",
       "    .dataframe tbody tr th {\n",
       "        vertical-align: top;\n",
       "    }\n",
       "\n",
       "    .dataframe thead th {\n",
       "        text-align: right;\n",
       "    }\n",
       "</style>\n",
       "<table border=\"1\" class=\"dataframe\">\n",
       "  <thead>\n",
       "    <tr style=\"text-align: right;\">\n",
       "      <th>cntrb_id</th>\n",
       "      <th>01000000-5000-0000-0000-000000000000</th>\n",
       "      <th>01000000-8900-0000-0000-000000000000</th>\n",
       "      <th>01000001-fd00-0000-0000-000000000000</th>\n",
       "      <th>01000002-3300-0000-0000-000000000000</th>\n",
       "      <th>01000002-5600-0000-0000-000000000000</th>\n",
       "      <th>01000002-8100-0000-0000-000000000000</th>\n",
       "      <th>01000004-6200-0000-0000-000000000000</th>\n",
       "      <th>01000004-c700-0000-0000-000000000000</th>\n",
       "      <th>01000004-ca00-0000-0000-000000000000</th>\n",
       "      <th>01000004-e100-0000-0000-000000000000</th>\n",
       "      <th>...</th>\n",
       "      <th>010a75bf-8800-0000-0000-000000000000</th>\n",
       "      <th>010a76ec-fd00-0000-0000-000000000000</th>\n",
       "      <th>010a7808-d300-0000-0000-000000000000</th>\n",
       "      <th>010a79ef-4700-0000-0000-000000000000</th>\n",
       "      <th>010a81c7-5b00-0000-0000-000000000000</th>\n",
       "      <th>010a824a-5f00-0000-0000-000000000000</th>\n",
       "      <th>010a8955-bc00-0000-0000-000000000000</th>\n",
       "      <th>010a8d34-fe00-0000-0000-000000000000</th>\n",
       "      <th>010a93d7-d400-0000-0000-000000000000</th>\n",
       "      <th>010a989b-f100-0000-0000-000000000000</th>\n",
       "    </tr>\n",
       "    <tr>\n",
       "      <th>repo_name</th>\n",
       "      <th></th>\n",
       "      <th></th>\n",
       "      <th></th>\n",
       "      <th></th>\n",
       "      <th></th>\n",
       "      <th></th>\n",
       "      <th></th>\n",
       "      <th></th>\n",
       "      <th></th>\n",
       "      <th></th>\n",
       "      <th></th>\n",
       "      <th></th>\n",
       "      <th></th>\n",
       "      <th></th>\n",
       "      <th></th>\n",
       "      <th></th>\n",
       "      <th></th>\n",
       "      <th></th>\n",
       "      <th></th>\n",
       "      <th></th>\n",
       "      <th></th>\n",
       "    </tr>\n",
       "  </thead>\n",
       "  <tbody>\n",
       "    <tr>\n",
       "      <th>arrow</th>\n",
       "      <td>0</td>\n",
       "      <td>0</td>\n",
       "      <td>0</td>\n",
       "      <td>53</td>\n",
       "      <td>0</td>\n",
       "      <td>0</td>\n",
       "      <td>0</td>\n",
       "      <td>0</td>\n",
       "      <td>0</td>\n",
       "      <td>0</td>\n",
       "      <td>...</td>\n",
       "      <td>0</td>\n",
       "      <td>0</td>\n",
       "      <td>0</td>\n",
       "      <td>0</td>\n",
       "      <td>0</td>\n",
       "      <td>0</td>\n",
       "      <td>0</td>\n",
       "      <td>0</td>\n",
       "      <td>1</td>\n",
       "      <td>0</td>\n",
       "    </tr>\n",
       "    <tr>\n",
       "      <th>keras-io</th>\n",
       "      <td>0</td>\n",
       "      <td>0</td>\n",
       "      <td>0</td>\n",
       "      <td>0</td>\n",
       "      <td>0</td>\n",
       "      <td>0</td>\n",
       "      <td>0</td>\n",
       "      <td>0</td>\n",
       "      <td>0</td>\n",
       "      <td>0</td>\n",
       "      <td>...</td>\n",
       "      <td>0</td>\n",
       "      <td>0</td>\n",
       "      <td>0</td>\n",
       "      <td>0</td>\n",
       "      <td>0</td>\n",
       "      <td>0</td>\n",
       "      <td>0</td>\n",
       "      <td>0</td>\n",
       "      <td>0</td>\n",
       "      <td>0</td>\n",
       "    </tr>\n",
       "    <tr>\n",
       "      <th>mlx</th>\n",
       "      <td>0</td>\n",
       "      <td>0</td>\n",
       "      <td>0</td>\n",
       "      <td>0</td>\n",
       "      <td>0</td>\n",
       "      <td>0</td>\n",
       "      <td>0</td>\n",
       "      <td>0</td>\n",
       "      <td>0</td>\n",
       "      <td>0</td>\n",
       "      <td>...</td>\n",
       "      <td>0</td>\n",
       "      <td>0</td>\n",
       "      <td>1</td>\n",
       "      <td>0</td>\n",
       "      <td>0</td>\n",
       "      <td>0</td>\n",
       "      <td>0</td>\n",
       "      <td>0</td>\n",
       "      <td>0</td>\n",
       "      <td>0</td>\n",
       "    </tr>\n",
       "    <tr>\n",
       "      <th>networkx</th>\n",
       "      <td>0</td>\n",
       "      <td>0</td>\n",
       "      <td>0</td>\n",
       "      <td>0</td>\n",
       "      <td>0</td>\n",
       "      <td>0</td>\n",
       "      <td>0</td>\n",
       "      <td>0</td>\n",
       "      <td>1</td>\n",
       "      <td>0</td>\n",
       "      <td>...</td>\n",
       "      <td>0</td>\n",
       "      <td>0</td>\n",
       "      <td>0</td>\n",
       "      <td>0</td>\n",
       "      <td>0</td>\n",
       "      <td>0</td>\n",
       "      <td>0</td>\n",
       "      <td>0</td>\n",
       "      <td>0</td>\n",
       "      <td>0</td>\n",
       "    </tr>\n",
       "    <tr>\n",
       "      <th>numpy</th>\n",
       "      <td>0</td>\n",
       "      <td>0</td>\n",
       "      <td>0</td>\n",
       "      <td>0</td>\n",
       "      <td>0</td>\n",
       "      <td>0</td>\n",
       "      <td>0</td>\n",
       "      <td>0</td>\n",
       "      <td>0</td>\n",
       "      <td>1</td>\n",
       "      <td>...</td>\n",
       "      <td>0</td>\n",
       "      <td>0</td>\n",
       "      <td>0</td>\n",
       "      <td>0</td>\n",
       "      <td>0</td>\n",
       "      <td>0</td>\n",
       "      <td>2</td>\n",
       "      <td>1</td>\n",
       "      <td>0</td>\n",
       "      <td>0</td>\n",
       "    </tr>\n",
       "  </tbody>\n",
       "</table>\n",
       "<p>5 rows × 19387 columns</p>\n",
       "</div>"
      ],
      "text/plain": [
       "cntrb_id   01000000-5000-0000-0000-000000000000  \\\n",
       "repo_name                                         \n",
       "arrow                                         0   \n",
       "keras-io                                      0   \n",
       "mlx                                           0   \n",
       "networkx                                      0   \n",
       "numpy                                         0   \n",
       "\n",
       "cntrb_id   01000000-8900-0000-0000-000000000000  \\\n",
       "repo_name                                         \n",
       "arrow                                         0   \n",
       "keras-io                                      0   \n",
       "mlx                                           0   \n",
       "networkx                                      0   \n",
       "numpy                                         0   \n",
       "\n",
       "cntrb_id   01000001-fd00-0000-0000-000000000000  \\\n",
       "repo_name                                         \n",
       "arrow                                         0   \n",
       "keras-io                                      0   \n",
       "mlx                                           0   \n",
       "networkx                                      0   \n",
       "numpy                                         0   \n",
       "\n",
       "cntrb_id   01000002-3300-0000-0000-000000000000  \\\n",
       "repo_name                                         \n",
       "arrow                                        53   \n",
       "keras-io                                      0   \n",
       "mlx                                           0   \n",
       "networkx                                      0   \n",
       "numpy                                         0   \n",
       "\n",
       "cntrb_id   01000002-5600-0000-0000-000000000000  \\\n",
       "repo_name                                         \n",
       "arrow                                         0   \n",
       "keras-io                                      0   \n",
       "mlx                                           0   \n",
       "networkx                                      0   \n",
       "numpy                                         0   \n",
       "\n",
       "cntrb_id   01000002-8100-0000-0000-000000000000  \\\n",
       "repo_name                                         \n",
       "arrow                                         0   \n",
       "keras-io                                      0   \n",
       "mlx                                           0   \n",
       "networkx                                      0   \n",
       "numpy                                         0   \n",
       "\n",
       "cntrb_id   01000004-6200-0000-0000-000000000000  \\\n",
       "repo_name                                         \n",
       "arrow                                         0   \n",
       "keras-io                                      0   \n",
       "mlx                                           0   \n",
       "networkx                                      0   \n",
       "numpy                                         0   \n",
       "\n",
       "cntrb_id   01000004-c700-0000-0000-000000000000  \\\n",
       "repo_name                                         \n",
       "arrow                                         0   \n",
       "keras-io                                      0   \n",
       "mlx                                           0   \n",
       "networkx                                      0   \n",
       "numpy                                         0   \n",
       "\n",
       "cntrb_id   01000004-ca00-0000-0000-000000000000  \\\n",
       "repo_name                                         \n",
       "arrow                                         0   \n",
       "keras-io                                      0   \n",
       "mlx                                           0   \n",
       "networkx                                      1   \n",
       "numpy                                         0   \n",
       "\n",
       "cntrb_id   01000004-e100-0000-0000-000000000000  ...  \\\n",
       "repo_name                                        ...   \n",
       "arrow                                         0  ...   \n",
       "keras-io                                      0  ...   \n",
       "mlx                                           0  ...   \n",
       "networkx                                      0  ...   \n",
       "numpy                                         1  ...   \n",
       "\n",
       "cntrb_id   010a75bf-8800-0000-0000-000000000000  \\\n",
       "repo_name                                         \n",
       "arrow                                         0   \n",
       "keras-io                                      0   \n",
       "mlx                                           0   \n",
       "networkx                                      0   \n",
       "numpy                                         0   \n",
       "\n",
       "cntrb_id   010a76ec-fd00-0000-0000-000000000000  \\\n",
       "repo_name                                         \n",
       "arrow                                         0   \n",
       "keras-io                                      0   \n",
       "mlx                                           0   \n",
       "networkx                                      0   \n",
       "numpy                                         0   \n",
       "\n",
       "cntrb_id   010a7808-d300-0000-0000-000000000000  \\\n",
       "repo_name                                         \n",
       "arrow                                         0   \n",
       "keras-io                                      0   \n",
       "mlx                                           1   \n",
       "networkx                                      0   \n",
       "numpy                                         0   \n",
       "\n",
       "cntrb_id   010a79ef-4700-0000-0000-000000000000  \\\n",
       "repo_name                                         \n",
       "arrow                                         0   \n",
       "keras-io                                      0   \n",
       "mlx                                           0   \n",
       "networkx                                      0   \n",
       "numpy                                         0   \n",
       "\n",
       "cntrb_id   010a81c7-5b00-0000-0000-000000000000  \\\n",
       "repo_name                                         \n",
       "arrow                                         0   \n",
       "keras-io                                      0   \n",
       "mlx                                           0   \n",
       "networkx                                      0   \n",
       "numpy                                         0   \n",
       "\n",
       "cntrb_id   010a824a-5f00-0000-0000-000000000000  \\\n",
       "repo_name                                         \n",
       "arrow                                         0   \n",
       "keras-io                                      0   \n",
       "mlx                                           0   \n",
       "networkx                                      0   \n",
       "numpy                                         0   \n",
       "\n",
       "cntrb_id   010a8955-bc00-0000-0000-000000000000  \\\n",
       "repo_name                                         \n",
       "arrow                                         0   \n",
       "keras-io                                      0   \n",
       "mlx                                           0   \n",
       "networkx                                      0   \n",
       "numpy                                         2   \n",
       "\n",
       "cntrb_id   010a8d34-fe00-0000-0000-000000000000  \\\n",
       "repo_name                                         \n",
       "arrow                                         0   \n",
       "keras-io                                      0   \n",
       "mlx                                           0   \n",
       "networkx                                      0   \n",
       "numpy                                         1   \n",
       "\n",
       "cntrb_id   010a93d7-d400-0000-0000-000000000000  \\\n",
       "repo_name                                         \n",
       "arrow                                         1   \n",
       "keras-io                                      0   \n",
       "mlx                                           0   \n",
       "networkx                                      0   \n",
       "numpy                                         0   \n",
       "\n",
       "cntrb_id   010a989b-f100-0000-0000-000000000000  \n",
       "repo_name                                        \n",
       "arrow                                         0  \n",
       "keras-io                                      0  \n",
       "mlx                                           0  \n",
       "networkx                                      0  \n",
       "numpy                                         0  \n",
       "\n",
       "[5 rows x 19387 columns]"
      ]
     },
     "execution_count": 40,
     "metadata": {},
     "output_type": "execute_result"
    }
   ],
   "source": [
    "# Display the PR dataframe\n",
    "df_pr.head()"
   ]
  },
  {
   "cell_type": "markdown",
   "metadata": {},
   "source": [
    "When we use groupby and unstack, the resulting DataFrame has a multi-level index, where the original index values become part of the columns. Resetting the index flattens the DataFrame, making it easier to work with in subsequent operations."
   ]
  },
  {
   "cell_type": "code",
   "execution_count": 41,
   "metadata": {},
   "outputs": [],
   "source": [
    "df_pr = df_pr.reset_index()"
   ]
  },
  {
   "cell_type": "markdown",
   "metadata": {},
   "source": [
    "Apply melt function to reshape the DataFrame. In wide format, we have multiple columns representing different contributors. Melting the DataFrame converts these columns into a single column, `cntrb_id` , making the DataFrame longer and narrower."
   ]
  },
  {
   "cell_type": "code",
   "execution_count": 42,
   "metadata": {},
   "outputs": [],
   "source": [
    "# Melt df_pr from wide to long format, using 'repo_name' as the identifier variable\n",
    "df_melted_pr = df_pr.melt(\n",
    "    ['repo_name'],        # Columns to keep as identifier variables\n",
    "    var_name='cntrb_id',  # Name for the variable column\n",
    "    value_name='number'   # Name for the values column\n",
    ")"
   ]
  },
  {
   "cell_type": "code",
   "execution_count": 43,
   "metadata": {},
   "outputs": [],
   "source": [
    "# Filter df_melted_commit to keep only rows where the 'number' column is not equal to 0\n",
    "df_melted_pr = df_melted_pr[df_melted_pr[df_melted_pr.columns[2]] != 0]"
   ]
  },
  {
   "cell_type": "markdown",
   "metadata": {},
   "source": [
    "The resultant dataframe after filtering and keeping only the rows where the value in the third column i.e., number of contributions count (`number`) is not equal to 0"
   ]
  },
  {
   "cell_type": "code",
   "execution_count": 44,
   "metadata": {},
   "outputs": [
    {
     "data": {
      "text/html": [
       "<div>\n",
       "<style scoped>\n",
       "    .dataframe tbody tr th:only-of-type {\n",
       "        vertical-align: middle;\n",
       "    }\n",
       "\n",
       "    .dataframe tbody tr th {\n",
       "        vertical-align: top;\n",
       "    }\n",
       "\n",
       "    .dataframe thead th {\n",
       "        text-align: right;\n",
       "    }\n",
       "</style>\n",
       "<table border=\"1\" class=\"dataframe\">\n",
       "  <thead>\n",
       "    <tr style=\"text-align: right;\">\n",
       "      <th></th>\n",
       "      <th>repo_name</th>\n",
       "      <th>cntrb_id</th>\n",
       "      <th>number</th>\n",
       "    </tr>\n",
       "  </thead>\n",
       "  <tbody>\n",
       "    <tr>\n",
       "      <th>8</th>\n",
       "      <td>tensorflow</td>\n",
       "      <td>01000000-5000-0000-0000-000000000000</td>\n",
       "      <td>3</td>\n",
       "    </tr>\n",
       "    <tr>\n",
       "      <th>16</th>\n",
       "      <td>polars</td>\n",
       "      <td>01000000-8900-0000-0000-000000000000</td>\n",
       "      <td>18</td>\n",
       "    </tr>\n",
       "    <tr>\n",
       "      <th>26</th>\n",
       "      <td>polars</td>\n",
       "      <td>01000001-fd00-0000-0000-000000000000</td>\n",
       "      <td>1</td>\n",
       "    </tr>\n",
       "    <tr>\n",
       "      <th>30</th>\n",
       "      <td>arrow</td>\n",
       "      <td>01000002-3300-0000-0000-000000000000</td>\n",
       "      <td>53</td>\n",
       "    </tr>\n",
       "    <tr>\n",
       "      <th>48</th>\n",
       "      <td>tensorflow</td>\n",
       "      <td>01000002-5600-0000-0000-000000000000</td>\n",
       "      <td>3</td>\n",
       "    </tr>\n",
       "  </tbody>\n",
       "</table>\n",
       "</div>"
      ],
      "text/plain": [
       "     repo_name                              cntrb_id  number\n",
       "8   tensorflow  01000000-5000-0000-0000-000000000000       3\n",
       "16      polars  01000000-8900-0000-0000-000000000000      18\n",
       "26      polars  01000001-fd00-0000-0000-000000000000       1\n",
       "30       arrow  01000002-3300-0000-0000-000000000000      53\n",
       "48  tensorflow  01000002-5600-0000-0000-000000000000       3"
      ]
     },
     "execution_count": 44,
     "metadata": {},
     "output_type": "execute_result"
    }
   ],
   "source": [
    "df_melted_pr.head()"
   ]
  },
  {
   "cell_type": "markdown",
   "metadata": {},
   "source": [
    "Let's construct a dictionary called `contributorGraph` from the DataFrame `df_melted_pr`. The purpose of this dictionary is to map each contributor (cntrb_id) to a list of repositories (repo_name) they have contributed to."
   ]
  },
  {
   "cell_type": "code",
   "execution_count": 45,
   "metadata": {},
   "outputs": [],
   "source": [
    "# Initialize an empty dictionary to store the graph\n",
    "contributorGraph = {}\n",
    "\n",
    "# Iterate over each row in df_melted_pr\n",
    "for i, row in df_melted_pr.iterrows():\n",
    "    # If the 'cntrb_id' is not already a key in the dictionary, add it with an empty list\n",
    "    if row['cntrb_id'] not in contributorGraph:\n",
    "        contributorGraph[row['cntrb_id']] = []\n",
    "    \n",
    "    # Append the repository name to the list for this 'cntrb_id'\n",
    "    contributorGraph[row['cntrb_id']].append(row['repo_name'])"
   ]
  },
  {
   "cell_type": "markdown",
   "metadata": {},
   "source": [
    "Let's calculates the number of common contributors for each pair of repositories based on the data in the `contributorGraph` dictionary."
   ]
  },
  {
   "cell_type": "code",
   "execution_count": 46,
   "metadata": {},
   "outputs": [
    {
     "name": "stdout",
     "output_type": "stream",
     "text": [
      "dict_items([(('pytorch', 'tensorflow'), 357), (('arrow', 'pandas'), 119), (('pandas', 'pytorch'), 130), (('pandas', 'tinygrad'), 7), (('pytorch', 'tinygrad'), 25), (('tensorflow', 'tinygrad'), 19), (('arrow', 'polars'), 38), (('arrow', 'pytorch'), 42), (('polars', 'pytorch'), 21), (('numpy', 'pandas'), 337), (('numpy', 'tensorflow'), 106), (('pandas', 'tensorflow'), 119), (('keras-io', 'polars'), 3), (('arrow', 'keras-io'), 4), (('arrow', 'networkx'), 17), (('arrow', 'numpy'), 53), (('arrow', 'tensorflow'), 43), (('arrow', 'tinygrad'), 4), (('keras-io', 'networkx'), 3), (('keras-io', 'numpy'), 8), (('keras-io', 'pandas'), 17), (('keras-io', 'pytorch'), 22), (('keras-io', 'tensorflow'), 71), (('keras-io', 'tinygrad'), 2), (('networkx', 'numpy'), 67), (('networkx', 'pandas'), 85), (('networkx', 'pytorch'), 26), (('networkx', 'tensorflow'), 29), (('networkx', 'tinygrad'), 4), (('numpy', 'pytorch'), 153), (('numpy', 'tinygrad'), 7), (('pandas', 'polars'), 56), (('numpy', 'polars'), 22), (('polars', 'tensorflow'), 10), (('networkx', 'polars'), 5), (('mlx', 'pandas'), 1), (('mlx', 'tensorflow'), 12), (('arrow', 'mlx'), 3), (('mlx', 'pytorch'), 13), (('mlx', 'tinygrad'), 6), (('mlx', 'networkx'), 1), (('polars', 'tinygrad'), 2), (('mlx', 'numpy'), 4), (('keras-io', 'mlx'), 3), (('mlx', 'polars'), 1)])\n"
     ]
    }
   ],
   "source": [
    "# Initialize a defaultdict to store the count of common contributors for each pair of repositories\n",
    "commonRepoContributorsCount = collections.defaultdict(int)\n",
    "\n",
    "# Iterate over each contributor in the contributorGraph\n",
    "for key in contributorGraph:\n",
    "    # Skip contributors with less than 2 repositories in their list\n",
    "    if len(contributorGraph[key]) <= 1:\n",
    "        continue\n",
    "    \n",
    "    # Iterate through the list of repositories for the current contributor\n",
    "    for repo1 in range(len(contributorGraph[key]) - 1):\n",
    "        for repo2 in range(repo1 + 1, len(contributorGraph[key])):\n",
    "            # Update the count of common contributors for the pair of repositories\n",
    "            commonRepoContributorsCount[\n",
    "                (contributorGraph[key][repo1], contributorGraph[key][repo2])\n",
    "            ] += 1\n",
    "\n",
    "# Print the items of the commonRepoContributorsCount dictionary\n",
    "print(commonRepoContributorsCount.items())"
   ]
  },
  {
   "cell_type": "markdown",
   "metadata": {},
   "source": [
    "Let's create a list of tuples called `repo_common_contributors` that contains the pairs of repository names and the count of common contributors between them."
   ]
  },
  {
   "cell_type": "code",
   "execution_count": 47,
   "metadata": {},
   "outputs": [
    {
     "name": "stdout",
     "output_type": "stream",
     "text": [
      "[('pytorch', 'tensorflow', 357), ('arrow', 'pandas', 119), ('pandas', 'pytorch', 130), ('pandas', 'tinygrad', 7), ('pytorch', 'tinygrad', 25), ('tensorflow', 'tinygrad', 19), ('arrow', 'polars', 38), ('arrow', 'pytorch', 42), ('polars', 'pytorch', 21), ('numpy', 'pandas', 337), ('numpy', 'tensorflow', 106), ('pandas', 'tensorflow', 119), ('keras-io', 'polars', 3), ('arrow', 'keras-io', 4), ('arrow', 'networkx', 17), ('arrow', 'numpy', 53), ('arrow', 'tensorflow', 43), ('arrow', 'tinygrad', 4), ('keras-io', 'networkx', 3), ('keras-io', 'numpy', 8), ('keras-io', 'pandas', 17), ('keras-io', 'pytorch', 22), ('keras-io', 'tensorflow', 71), ('keras-io', 'tinygrad', 2), ('networkx', 'numpy', 67), ('networkx', 'pandas', 85), ('networkx', 'pytorch', 26), ('networkx', 'tensorflow', 29), ('networkx', 'tinygrad', 4), ('numpy', 'pytorch', 153), ('numpy', 'tinygrad', 7), ('pandas', 'polars', 56), ('numpy', 'polars', 22), ('polars', 'tensorflow', 10), ('networkx', 'polars', 5), ('mlx', 'pandas', 1), ('mlx', 'tensorflow', 12), ('arrow', 'mlx', 3), ('mlx', 'pytorch', 13), ('mlx', 'tinygrad', 6), ('mlx', 'networkx', 1), ('polars', 'tinygrad', 2), ('mlx', 'numpy', 4), ('keras-io', 'mlx', 3), ('mlx', 'polars', 1)]\n"
     ]
    }
   ],
   "source": [
    "repo_common_contributors = []\n",
    "\n",
    "# Iterate over each key-value pair in commonRepoContributionsByContributor\n",
    "for key in commonRepoContributorsCount:\n",
    "    # Convert the key (a tuple of repository names) to strings and append the corresponding value\n",
    "    repo_common_contributors.append(\n",
    "        tuple(str(k) for k in list(key)) + (commonRepoContributorsCount[key],)\n",
    "    )\n",
    "print(repo_common_contributors)"
   ]
  },
  {
   "cell_type": "markdown",
   "metadata": {},
   "source": [
    "## Creating Networkx Graph"
   ]
  },
  {
   "cell_type": "markdown",
   "metadata": {},
   "source": [
    "For plotting the graph below, we pick the repositories as the nodes and let the shared contributions dictate the edge weights"
   ]
  },
  {
   "cell_type": "code",
   "execution_count": 48,
   "metadata": {},
   "outputs": [],
   "source": [
    "# Create an empty undirected graph\n",
    "g = nx.Graph()\n",
    "\n",
    "# Add edges with weights to the graph from the 'repo_common_contributors' list\n",
    "# Each item in 'repo_common_contributors' should be a tuple in the format (node1, node2, weight)\n",
    "g.add_weighted_edges_from(repo_common_contributors)"
   ]
  },
  {
   "cell_type": "markdown",
   "metadata": {},
   "source": [
    "The graph represents project repositories and how close or far they are to each other based on their degree of connected (number of shared contributions amongst them). If two nodes are close to each other, the two projects have a high number of shared contributions and vice versa. Each node in this graph has atleast one connection. We are not plotting lone projects in this graph as we want to identify project repositories in connection to existing known repositories.  \n",
    "Note: this is not a complete (fully-connected) graph. All projects are not **\"connected\"** to each project. "
   ]
  },
  {
   "cell_type": "markdown",
   "metadata": {},
   "source": [
    "### Summary of the graph\n",
    "\n",
    "This graph represents a network visualization of open-source repositories, where nodes represent individual repositories and edges represent the number of shared contributors between those repositories.\n",
    "\n",
    "**Node Size**: The size of each node is proportional to the number of connections (degree) it has, indicating its centrality in the network.\n",
    "\n",
    "**Edge Width**: The width of each edge is proportional to the number of shared contributors between the connected repositories, illustrating the strength of the connection.\n",
    "\n",
    "**Numbers on Edges**: These numbers indicate the exact count of shared contributors between the respective repositories.\n",
    "\n",
    "The visualization aims to highlight the interconnectedness among various open-source repositories and identify key repositories that serve as hubs of collaboration. This analysis is useful for understanding the dynamics of open-source contributions and identifying influential repositories."
   ]
  },
  {
   "cell_type": "code",
   "execution_count": 49,
   "metadata": {},
   "outputs": [
    {
     "data": {
      "image/png": "[encoded data removed]",
      "text/plain": [
       "<Figure size 2000x2000 with 1 Axes>"
      ]
     },
     "metadata": {},
     "output_type": "display_data"
    }
   ],
   "source": [
    "# Get positions for all nodes\n",
    "pos = nx.spring_layout(g)\n",
    "\n",
    "# Draw the nodes with sizes based on their degree\n",
    "node_sizes = [nx.degree(g, n) * 100 for n in g.nodes()]\n",
    "\n",
    "# Draw the edges with widths based on their weight\n",
    "edge_widths = [g[u][v]['weight'] / 25 for u, v in g.edges()]\n",
    "\n",
    "# Create a plot with the specified size\n",
    "fig, ax = plt.subplots(figsize=(20, 20))\n",
    "\n",
    "# Draw the nodes and edges with the specified attributes\n",
    "nx.draw_networkx_nodes(g, pos, node_size=node_sizes, ax=ax)\n",
    "nx.draw_networkx_edges(g, pos, width=edge_widths, ax=ax)\n",
    "\n",
    "# Draw the labels with a background box for readability\n",
    "nx.draw_networkx_labels(g, pos, font_size=14, ax=ax, bbox=dict(facecolor='white', edgecolor='black', boxstyle='round,pad=0.3'))\n",
    "\n",
    "# Draw edge labels with the number of contributors\n",
    "edge_labels = {(u, v): g[u][v]['weight'] for u, v in g.edges()}\n",
    "nx.draw_networkx_edge_labels(g, pos, edge_labels=edge_labels, font_size=10, ax=ax)\n",
    "\n",
    "# Display the plot\n",
    "plt.show()"
   ]
  },
  {
   "cell_type": "markdown",
   "metadata": {},
   "source": [
    "## Converting the above graph to plotly"
   ]
  },
  {
   "cell_type": "markdown",
   "metadata": {},
   "source": [
    "### Graph Visualization\n",
    "\n",
    "This graph visualization provides insights into the relationships between repositories based on shared contributors. The following points outline the key features and attributes of the graph:\n",
    "\n",
    "1. **Graph Creation**:\n",
    "   - **Type**: An undirected graph is created using NetworkX.\n",
    "   - **Edges**: Weighted edges are added to represent the number of shared contributors between repositories.\n",
    "\n",
    "2. **Node Positioning**:\n",
    "   - **Algorithm**: Nodes are positioned using the spring layout, which aims to balance edge lengths and reduce edge crossings.\n",
    "\n",
    "3. **Node Size**:\n",
    "   - **Metric**: Node sizes are proportional to their degree, indicating the number of connections.\n",
    "\n",
    "4. **Edge Visualization**:\n",
    "   - **Smoothness**: Edges are drawn with interpolated points for a smoother appearance.\n",
    "   - **Attributes**: Edge widths represent the number of shared contributors, and edges are colored blue. Hovering over an edge reveals its weight.\n",
    "\n",
    "5. **Node Visualization**:\n",
    "   - **Markers**: Nodes are displayed as markers, with sizes based on their degree and a black color scheme.\n",
    "   - **Hover Information**: Labels appear when hovering over nodes, providing repository names.\n",
    "\n",
    "6. **Annotations and Layout**:\n",
    "   - **Labels**: Node labels are annotated directly on the plot with a styled background for readability.\n",
    "   - **Dimensions**: The figure is sized and margined for clarity, with grid lines and tick labels disabled.\n",
    "\n",
    "7. **Interactive Features**:\n",
    "   - **User Interaction**: The Plotly figure supports interactive exploration, allowing users to hover over nodes and edges for detailed information.\n",
    "\n",
    "This visualization helps in understanding the network structure and the strength of connections between repositories based on their shared contributors.\n"
   ]
  },
  {
   "cell_type": "code",
   "execution_count": 50,
   "metadata": {},
   "outputs": [
    {
     "data": {
      "application/vnd.plotly.v1+json": {
       "config": {
        "plotlyServerURL": "https://plot.ly"
       },
       "data": [
        {
         "hoverinfo": "text",
         "line": {
          "color": "blue",
          "width": 14.28
         },
         "mode": "lines",
         "showlegend": false,
         "text": [
          "Shared contributors (tensorflow, pytorch): 357",
          "Shared contributors (tensorflow, pytorch): 357",
          "Shared contributors (tensorflow, pytorch): 357"
         ],
         "type": "scatter",
         "x": [
          0.01746484916116991,
          0.09979199306401695,
          0.18211913696686402
         ],
         "y": [
          -0.1175385219756356,
          -0.0075950366527834795,
          0.10234844867006865
         ]
        },
        {
         "hoverinfo": "text",
         "line": {
          "color": "blue",
          "width": 5.2
         },
         "mode": "lines",
         "showlegend": false,
         "text": [
          "Shared contributors (pandas, pytorch): 130",
          "Shared contributors (pandas, pytorch): 130",
          "Shared contributors (pandas, pytorch): 130"
         ],
         "type": "scatter",
         "x": [
          0.01746484916116991,
          -0.1909168600340678,
          -0.3992985692293055
         ],
         "y": [
          -0.1175385219756356,
          -0.024440637931134657,
          0.06865724611336628
         ]
        },
        {
         "hoverinfo": "text",
         "line": {
          "color": "blue",
          "width": 1
         },
         "mode": "lines",
         "showlegend": false,
         "text": [
          "Shared contributors (tinygrad, pytorch): 25",
          "Shared contributors (tinygrad, pytorch): 25",
          "Shared contributors (tinygrad, pytorch): 25"
         ],
         "type": "scatter",
         "x": [
          0.01746484916116991,
          0.3751774966815123,
          0.7328901442018546
         ],
         "y": [
          -0.1175385219756356,
          0.2860551949202453,
          0.6896489118161261
         ]
        },
        {
         "hoverinfo": "text",
         "line": {
          "color": "blue",
          "width": 1.68
         },
         "mode": "lines",
         "showlegend": false,
         "text": [
          "Shared contributors (arrow, pytorch): 42",
          "Shared contributors (arrow, pytorch): 42",
          "Shared contributors (arrow, pytorch): 42"
         ],
         "type": "scatter",
         "x": [
          0.01746484916116991,
          -0.21595467739883611,
          -0.44937420395884214
         ],
         "y": [
          -0.1175385219756356,
          -0.249217081226218,
          -0.3808956404768004
         ]
        },
        {
         "hoverinfo": "text",
         "line": {
          "color": "blue",
          "width": 0.84
         },
         "mode": "lines",
         "showlegend": false,
         "text": [
          "Shared contributors (polars, pytorch): 21",
          "Shared contributors (polars, pytorch): 21",
          "Shared contributors (polars, pytorch): 21"
         ],
         "type": "scatter",
         "x": [
          0.01746484916116991,
          -0.49126757541941507,
          -1
         ],
         "y": [
          -0.1175385219756356,
          -0.1602236187060906,
          -0.2029087154365456
         ]
        },
        {
         "hoverinfo": "text",
         "line": {
          "color": "blue",
          "width": 0.88
         },
         "mode": "lines",
         "showlegend": false,
         "text": [
          "Shared contributors (keras-io, pytorch): 22",
          "Shared contributors (keras-io, pytorch): 22",
          "Shared contributors (keras-io, pytorch): 22"
         ],
         "type": "scatter",
         "x": [
          0.01746484916116991,
          0.3765169124519663,
          0.7355689757427626
         ],
         "y": [
          -0.1175385219756356,
          -0.13186725166504562,
          -0.14619598135445566
         ]
        },
        {
         "hoverinfo": "text",
         "line": {
          "color": "blue",
          "width": 1.04
         },
         "mode": "lines",
         "showlegend": false,
         "text": [
          "Shared contributors (networkx, pytorch): 26",
          "Shared contributors (networkx, pytorch): 26",
          "Shared contributors (networkx, pytorch): 26"
         ],
         "type": "scatter",
         "x": [
          0.01746484916116991,
          -0.25872873291226434,
          -0.5349223149856986
         ],
         "y": [
          -0.1175385219756356,
          0.2649017211134384,
          0.6473419642025123
         ]
        },
        {
         "hoverinfo": "text",
         "line": {
          "color": "blue",
          "width": 6.12
         },
         "mode": "lines",
         "showlegend": false,
         "text": [
          "Shared contributors (numpy, pytorch): 153",
          "Shared contributors (numpy, pytorch): 153",
          "Shared contributors (numpy, pytorch): 153"
         ],
         "type": "scatter",
         "x": [
          0.01746484916116991,
          -0.10253164469772386,
          -0.2225281385566176
         ],
         "y": [
          -0.1175385219756356,
          0.08210767904337231,
          0.2817538800623802
         ]
        },
        {
         "hoverinfo": "text",
         "line": {
          "color": "blue",
          "width": 0.52
         },
         "mode": "lines",
         "showlegend": false,
         "text": [
          "Shared contributors (mlx, pytorch): 13",
          "Shared contributors (mlx, pytorch): 13",
          "Shared contributors (mlx, pytorch): 13"
         ],
         "type": "scatter",
         "x": [
          0.01746484916116991,
          0.47777248490949137,
          0.9380801206578128
         ],
         "y": [
          -0.1175385219756356,
          -0.5298750567983262,
          -0.9422115916210169
         ]
        },
        {
         "hoverinfo": "text",
         "line": {
          "color": "blue",
          "width": 0.76
         },
         "mode": "lines",
         "showlegend": false,
         "text": [
          "Shared contributors (tinygrad, tensorflow): 19",
          "Shared contributors (tinygrad, tensorflow): 19",
          "Shared contributors (tinygrad, tensorflow): 19"
         ],
         "type": "scatter",
         "x": [
          0.18211913696686402,
          0.45750464058435936,
          0.7328901442018546
         ],
         "y": [
          0.10234844867006865,
          0.39599868024309737,
          0.6896489118161261
         ]
        },
        {
         "hoverinfo": "text",
         "line": {
          "color": "blue",
          "width": 4.24
         },
         "mode": "lines",
         "showlegend": false,
         "text": [
          "Shared contributors (numpy, tensorflow): 106",
          "Shared contributors (numpy, tensorflow): 106",
          "Shared contributors (numpy, tensorflow): 106"
         ],
         "type": "scatter",
         "x": [
          0.18211913696686402,
          -0.02020450079487679,
          -0.2225281385566176
         ],
         "y": [
          0.10234844867006865,
          0.19205116436622444,
          0.2817538800623802
         ]
        },
        {
         "hoverinfo": "text",
         "line": {
          "color": "blue",
          "width": 4.76
         },
         "mode": "lines",
         "showlegend": false,
         "text": [
          "Shared contributors (pandas, tensorflow): 119",
          "Shared contributors (pandas, tensorflow): 119",
          "Shared contributors (pandas, tensorflow): 119"
         ],
         "type": "scatter",
         "x": [
          0.18211913696686402,
          -0.10858971613122073,
          -0.3992985692293055
         ],
         "y": [
          0.10234844867006865,
          0.08550284739171746,
          0.06865724611336628
         ]
        },
        {
         "hoverinfo": "text",
         "line": {
          "color": "blue",
          "width": 1.72
         },
         "mode": "lines",
         "showlegend": false,
         "text": [
          "Shared contributors (arrow, tensorflow): 43",
          "Shared contributors (arrow, tensorflow): 43",
          "Shared contributors (arrow, tensorflow): 43"
         ],
         "type": "scatter",
         "x": [
          0.18211913696686402,
          -0.13362753349598908,
          -0.44937420395884214
         ],
         "y": [
          0.10234844867006865,
          -0.13927359590336588,
          -0.3808956404768004
         ]
        },
        {
         "hoverinfo": "text",
         "line": {
          "color": "blue",
          "width": 2.84
         },
         "mode": "lines",
         "showlegend": false,
         "text": [
          "Shared contributors (keras-io, tensorflow): 71",
          "Shared contributors (keras-io, tensorflow): 71",
          "Shared contributors (keras-io, tensorflow): 71"
         ],
         "type": "scatter",
         "x": [
          0.18211913696686402,
          0.4588440563548133,
          0.7355689757427626
         ],
         "y": [
          0.10234844867006865,
          -0.021923766342193507,
          -0.14619598135445566
         ]
        },
        {
         "hoverinfo": "text",
         "line": {
          "color": "blue",
          "width": 1.16
         },
         "mode": "lines",
         "showlegend": false,
         "text": [
          "Shared contributors (networkx, tensorflow): 29",
          "Shared contributors (networkx, tensorflow): 29",
          "Shared contributors (networkx, tensorflow): 29"
         ],
         "type": "scatter",
         "x": [
          0.18211913696686402,
          -0.1764015890094173,
          -0.5349223149856986
         ],
         "y": [
          0.10234844867006865,
          0.3748452064362905,
          0.6473419642025123
         ]
        },
        {
         "hoverinfo": "text",
         "line": {
          "color": "blue",
          "width": 0.4
         },
         "mode": "lines",
         "showlegend": false,
         "text": [
          "Shared contributors (polars, tensorflow): 10",
          "Shared contributors (polars, tensorflow): 10",
          "Shared contributors (polars, tensorflow): 10"
         ],
         "type": "scatter",
         "x": [
          0.18211913696686402,
          -0.408940431516568,
          -1
         ],
         "y": [
          0.10234844867006865,
          -0.05028013338323847,
          -0.2029087154365456
         ]
        },
        {
         "hoverinfo": "text",
         "line": {
          "color": "blue",
          "width": 0.48
         },
         "mode": "lines",
         "showlegend": false,
         "text": [
          "Shared contributors (mlx, tensorflow): 12",
          "Shared contributors (mlx, tensorflow): 12",
          "Shared contributors (mlx, tensorflow): 12"
         ],
         "type": "scatter",
         "x": [
          0.18211913696686402,
          0.5600996288123384,
          0.9380801206578128
         ],
         "y": [
          0.10234844867006865,
          -0.4199315714754741,
          -0.9422115916210169
         ]
        },
        {
         "hoverinfo": "text",
         "line": {
          "color": "blue",
          "width": 4.76
         },
         "mode": "lines",
         "showlegend": false,
         "text": [
          "Shared contributors (pandas, arrow): 119",
          "Shared contributors (pandas, arrow): 119",
          "Shared contributors (pandas, arrow): 119"
         ],
         "type": "scatter",
         "x": [
          -0.44937420395884214,
          -0.4243363865940738,
          -0.3992985692293055
         ],
         "y": [
          -0.3808956404768004,
          -0.15611919718171707,
          0.06865724611336628
         ]
        },
        {
         "hoverinfo": "text",
         "line": {
          "color": "blue",
          "width": 1.52
         },
         "mode": "lines",
         "showlegend": false,
         "text": [
          "Shared contributors (polars, arrow): 38",
          "Shared contributors (polars, arrow): 38",
          "Shared contributors (polars, arrow): 38"
         ],
         "type": "scatter",
         "x": [
          -0.44937420395884214,
          -0.724687101979421,
          -1
         ],
         "y": [
          -0.3808956404768004,
          -0.291902177956673,
          -0.2029087154365456
         ]
        },
        {
         "hoverinfo": "text",
         "line": {
          "color": "blue",
          "width": 0.16
         },
         "mode": "lines",
         "showlegend": false,
         "text": [
          "Shared contributors (keras-io, arrow): 4",
          "Shared contributors (keras-io, arrow): 4",
          "Shared contributors (keras-io, arrow): 4"
         ],
         "type": "scatter",
         "x": [
          -0.44937420395884214,
          0.14309738589196025,
          0.7355689757427626
         ],
         "y": [
          -0.3808956404768004,
          -0.263545810915628,
          -0.14619598135445566
         ]
        },
        {
         "hoverinfo": "text",
         "line": {
          "color": "blue",
          "width": 0.68
         },
         "mode": "lines",
         "showlegend": false,
         "text": [
          "Shared contributors (networkx, arrow): 17",
          "Shared contributors (networkx, arrow): 17",
          "Shared contributors (networkx, arrow): 17"
         ],
         "type": "scatter",
         "x": [
          -0.44937420395884214,
          -0.49214825947227037,
          -0.5349223149856986
         ],
         "y": [
          -0.3808956404768004,
          0.13322316186285593,
          0.6473419642025123
         ]
        },
        {
         "hoverinfo": "text",
         "line": {
          "color": "blue",
          "width": 2.12
         },
         "mode": "lines",
         "showlegend": false,
         "text": [
          "Shared contributors (numpy, arrow): 53",
          "Shared contributors (numpy, arrow): 53",
          "Shared contributors (numpy, arrow): 53"
         ],
         "type": "scatter",
         "x": [
          -0.44937420395884214,
          -0.3359511712577299,
          -0.2225281385566176
         ],
         "y": [
          -0.3808956404768004,
          -0.049570880207210066,
          0.2817538800623802
         ]
        },
        {
         "hoverinfo": "text",
         "line": {
          "color": "blue",
          "width": 0.16
         },
         "mode": "lines",
         "showlegend": false,
         "text": [
          "Shared contributors (tinygrad, arrow): 4",
          "Shared contributors (tinygrad, arrow): 4",
          "Shared contributors (tinygrad, arrow): 4"
         ],
         "type": "scatter",
         "x": [
          -0.44937420395884214,
          0.1417579701215062,
          0.7328901442018546
         ],
         "y": [
          -0.3808956404768004,
          0.1543766356696628,
          0.6896489118161261
         ]
        },
        {
         "hoverinfo": "text",
         "line": {
          "color": "blue",
          "width": 0.12
         },
         "mode": "lines",
         "showlegend": false,
         "text": [
          "Shared contributors (mlx, arrow): 3",
          "Shared contributors (mlx, arrow): 3",
          "Shared contributors (mlx, arrow): 3"
         ],
         "type": "scatter",
         "x": [
          -0.44937420395884214,
          0.24435295834948528,
          0.9380801206578128
         ],
         "y": [
          -0.3808956404768004,
          -0.6615536160489086,
          -0.9422115916210169
         ]
        },
        {
         "hoverinfo": "text",
         "line": {
          "color": "blue",
          "width": 0.28
         },
         "mode": "lines",
         "showlegend": false,
         "text": [
          "Shared contributors (tinygrad, pandas): 7",
          "Shared contributors (tinygrad, pandas): 7",
          "Shared contributors (tinygrad, pandas): 7"
         ],
         "type": "scatter",
         "x": [
          -0.3992985692293055,
          0.16679578748627455,
          0.7328901442018546
         ],
         "y": [
          0.06865724611336628,
          0.37915307896474615,
          0.6896489118161261
         ]
        },
        {
         "hoverinfo": "text",
         "line": {
          "color": "blue",
          "width": 13.48
         },
         "mode": "lines",
         "showlegend": false,
         "text": [
          "Shared contributors (numpy, pandas): 337",
          "Shared contributors (numpy, pandas): 337",
          "Shared contributors (numpy, pandas): 337"
         ],
         "type": "scatter",
         "x": [
          -0.3992985692293055,
          -0.31091335389296154,
          -0.2225281385566176
         ],
         "y": [
          0.06865724611336628,
          0.17520556308787327,
          0.2817538800623802
         ]
        },
        {
         "hoverinfo": "text",
         "line": {
          "color": "blue",
          "width": 0.68
         },
         "mode": "lines",
         "showlegend": false,
         "text": [
          "Shared contributors (keras-io, pandas): 17",
          "Shared contributors (keras-io, pandas): 17",
          "Shared contributors (keras-io, pandas): 17"
         ],
         "type": "scatter",
         "x": [
          -0.3992985692293055,
          0.1681352032567286,
          0.7355689757427626
         ],
         "y": [
          0.06865724611336628,
          -0.038769367620544684,
          -0.14619598135445566
         ]
        },
        {
         "hoverinfo": "text",
         "line": {
          "color": "blue",
          "width": 3.4
         },
         "mode": "lines",
         "showlegend": false,
         "text": [
          "Shared contributors (networkx, pandas): 85",
          "Shared contributors (networkx, pandas): 85",
          "Shared contributors (networkx, pandas): 85"
         ],
         "type": "scatter",
         "x": [
          -0.3992985692293055,
          -0.4671104421075021,
          -0.5349223149856986
         ],
         "y": [
          0.06865724611336628,
          0.35799960515793927,
          0.6473419642025123
         ]
        },
        {
         "hoverinfo": "text",
         "line": {
          "color": "blue",
          "width": 2.24
         },
         "mode": "lines",
         "showlegend": false,
         "text": [
          "Shared contributors (polars, pandas): 56",
          "Shared contributors (polars, pandas): 56",
          "Shared contributors (polars, pandas): 56"
         ],
         "type": "scatter",
         "x": [
          -0.3992985692293055,
          -0.6996492846146527,
          -1
         ],
         "y": [
          0.06865724611336628,
          -0.06712573466158965,
          -0.2029087154365456
         ]
        },
        {
         "hoverinfo": "text",
         "line": {
          "color": "blue",
          "width": 0.04
         },
         "mode": "lines",
         "showlegend": false,
         "text": [
          "Shared contributors (mlx, pandas): 1",
          "Shared contributors (mlx, pandas): 1",
          "Shared contributors (mlx, pandas): 1"
         ],
         "type": "scatter",
         "x": [
          -0.3992985692293055,
          0.2693907757142536,
          0.9380801206578128
         ],
         "y": [
          0.06865724611336628,
          -0.43677717275382527,
          -0.9422115916210169
         ]
        },
        {
         "hoverinfo": "text",
         "line": {
          "color": "blue",
          "width": 0.08
         },
         "mode": "lines",
         "showlegend": false,
         "text": [
          "Shared contributors (keras-io, tinygrad): 2",
          "Shared contributors (keras-io, tinygrad): 2",
          "Shared contributors (keras-io, tinygrad): 2"
         ],
         "type": "scatter",
         "x": [
          0.7328901442018546,
          0.7342295599723085,
          0.7355689757427626
         ],
         "y": [
          0.6896489118161261,
          0.2717264652308352,
          -0.14619598135445566
         ]
        },
        {
         "hoverinfo": "text",
         "line": {
          "color": "blue",
          "width": 0.16
         },
         "mode": "lines",
         "showlegend": false,
         "text": [
          "Shared contributors (networkx, tinygrad): 4",
          "Shared contributors (networkx, tinygrad): 4",
          "Shared contributors (networkx, tinygrad): 4"
         ],
         "type": "scatter",
         "x": [
          0.7328901442018546,
          0.09898391460807798,
          -0.5349223149856986
         ],
         "y": [
          0.6896489118161261,
          0.6684954380093192,
          0.6473419642025123
         ]
        },
        {
         "hoverinfo": "text",
         "line": {
          "color": "blue",
          "width": 0.28
         },
         "mode": "lines",
         "showlegend": false,
         "text": [
          "Shared contributors (numpy, tinygrad): 7",
          "Shared contributors (numpy, tinygrad): 7",
          "Shared contributors (numpy, tinygrad): 7"
         ],
         "type": "scatter",
         "x": [
          0.7328901442018546,
          0.2551810028226185,
          -0.2225281385566176
         ],
         "y": [
          0.6896489118161261,
          0.48570139593925316,
          0.2817538800623802
         ]
        },
        {
         "hoverinfo": "text",
         "line": {
          "color": "blue",
          "width": 0.24
         },
         "mode": "lines",
         "showlegend": false,
         "text": [
          "Shared contributors (mlx, tinygrad): 6",
          "Shared contributors (mlx, tinygrad): 6",
          "Shared contributors (mlx, tinygrad): 6"
         ],
         "type": "scatter",
         "x": [
          0.7328901442018546,
          0.8354851324298337,
          0.9380801206578128
         ],
         "y": [
          0.6896489118161261,
          -0.1262813399024454,
          -0.9422115916210169
         ]
        },
        {
         "hoverinfo": "text",
         "line": {
          "color": "blue",
          "width": 0.08
         },
         "mode": "lines",
         "showlegend": false,
         "text": [
          "Shared contributors (polars, tinygrad): 2",
          "Shared contributors (polars, tinygrad): 2",
          "Shared contributors (polars, tinygrad): 2"
         ],
         "type": "scatter",
         "x": [
          0.7328901442018546,
          -0.13355492789907275,
          -1
         ],
         "y": [
          0.6896489118161261,
          0.24337009818979027,
          -0.2029087154365456
         ]
        },
        {
         "hoverinfo": "text",
         "line": {
          "color": "blue",
          "width": 0.12
         },
         "mode": "lines",
         "showlegend": false,
         "text": [
          "Shared contributors (keras-io, polars): 3",
          "Shared contributors (keras-io, polars): 3",
          "Shared contributors (keras-io, polars): 3"
         ],
         "type": "scatter",
         "x": [
          -1,
          -0.1322155121286187,
          0.7355689757427626
         ],
         "y": [
          -0.2029087154365456,
          -0.17455234839550063,
          -0.14619598135445566
         ]
        },
        {
         "hoverinfo": "text",
         "line": {
          "color": "blue",
          "width": 0.88
         },
         "mode": "lines",
         "showlegend": false,
         "text": [
          "Shared contributors (numpy, polars): 22",
          "Shared contributors (numpy, polars): 22",
          "Shared contributors (numpy, polars): 22"
         ],
         "type": "scatter",
         "x": [
          -1,
          -0.6112640692783088,
          -0.2225281385566176
         ],
         "y": [
          -0.2029087154365456,
          0.039422582312917315,
          0.2817538800623802
         ]
        },
        {
         "hoverinfo": "text",
         "line": {
          "color": "blue",
          "width": 0.2
         },
         "mode": "lines",
         "showlegend": false,
         "text": [
          "Shared contributors (networkx, polars): 5",
          "Shared contributors (networkx, polars): 5",
          "Shared contributors (networkx, polars): 5"
         ],
         "type": "scatter",
         "x": [
          -1,
          -0.7674611574928494,
          -0.5349223149856986
         ],
         "y": [
          -0.2029087154365456,
          0.22221662438298334,
          0.6473419642025123
         ]
        },
        {
         "hoverinfo": "text",
         "line": {
          "color": "blue",
          "width": 0.04
         },
         "mode": "lines",
         "showlegend": false,
         "text": [
          "Shared contributors (mlx, polars): 1",
          "Shared contributors (mlx, polars): 1",
          "Shared contributors (mlx, polars): 1"
         ],
         "type": "scatter",
         "x": [
          -1,
          -0.03095993967109356,
          0.9380801206578128
         ],
         "y": [
          -0.2029087154365456,
          -0.5725601535287812,
          -0.9422115916210169
         ]
        },
        {
         "hoverinfo": "text",
         "line": {
          "color": "blue",
          "width": 0.32
         },
         "mode": "lines",
         "showlegend": false,
         "text": [
          "Shared contributors (keras-io, numpy): 8",
          "Shared contributors (keras-io, numpy): 8",
          "Shared contributors (keras-io, numpy): 8"
         ],
         "type": "scatter",
         "x": [
          -0.2225281385566176,
          0.2565204185930725,
          0.7355689757427626
         ],
         "y": [
          0.2817538800623802,
          0.06777894935396228,
          -0.14619598135445566
         ]
        },
        {
         "hoverinfo": "text",
         "line": {
          "color": "blue",
          "width": 2.68
         },
         "mode": "lines",
         "showlegend": false,
         "text": [
          "Shared contributors (networkx, numpy): 67",
          "Shared contributors (networkx, numpy): 67",
          "Shared contributors (networkx, numpy): 67"
         ],
         "type": "scatter",
         "x": [
          -0.2225281385566176,
          -0.37872522677115816,
          -0.5349223149856986
         ],
         "y": [
          0.2817538800623802,
          0.4645479221324463,
          0.6473419642025123
         ]
        },
        {
         "hoverinfo": "text",
         "line": {
          "color": "blue",
          "width": 0.16
         },
         "mode": "lines",
         "showlegend": false,
         "text": [
          "Shared contributors (mlx, numpy): 4",
          "Shared contributors (mlx, numpy): 4",
          "Shared contributors (mlx, numpy): 4"
         ],
         "type": "scatter",
         "x": [
          -0.2225281385566176,
          0.35777599105059765,
          0.9380801206578128
         ],
         "y": [
          0.2817538800623802,
          -0.33022885577931826,
          -0.9422115916210169
         ]
        },
        {
         "hoverinfo": "text",
         "line": {
          "color": "blue",
          "width": 0.12
         },
         "mode": "lines",
         "showlegend": false,
         "text": [
          "Shared contributors (networkx, keras-io): 3",
          "Shared contributors (networkx, keras-io): 3",
          "Shared contributors (networkx, keras-io): 3"
         ],
         "type": "scatter",
         "x": [
          0.7355689757427626,
          0.10032333037853203,
          -0.5349223149856986
         ],
         "y": [
          -0.14619598135445566,
          0.25057299142402834,
          0.6473419642025123
         ]
        },
        {
         "hoverinfo": "text",
         "line": {
          "color": "blue",
          "width": 0.12
         },
         "mode": "lines",
         "showlegend": false,
         "text": [
          "Shared contributors (mlx, keras-io): 3",
          "Shared contributors (mlx, keras-io): 3",
          "Shared contributors (mlx, keras-io): 3"
         ],
         "type": "scatter",
         "x": [
          0.7355689757427626,
          0.8368245482002876,
          0.9380801206578128
         ],
         "y": [
          -0.14619598135445566,
          -0.5442037864877363,
          -0.9422115916210169
         ]
        },
        {
         "hoverinfo": "text",
         "line": {
          "color": "blue",
          "width": 0.04
         },
         "mode": "lines",
         "showlegend": false,
         "text": [
          "Shared contributors (mlx, networkx): 1",
          "Shared contributors (mlx, networkx): 1",
          "Shared contributors (mlx, networkx): 1"
         ],
         "type": "scatter",
         "x": [
          -0.5349223149856986,
          0.20157890283605706,
          0.9380801206578128
         ],
         "y": [
          0.6473419642025123,
          -0.14743481370925227,
          -0.9422115916210169
         ]
        },
        {
         "hoverinfo": "text",
         "marker": {
          "color": "black",
          "line": {
           "color": "black",
           "width": 1
          },
          "size": [
           18,
           18,
           18,
           18,
           18,
           18,
           18,
           18,
           18,
           18
          ]
         },
         "mode": "markers",
         "text": [
          "pytorch",
          "tensorflow",
          "arrow",
          "pandas",
          "tinygrad",
          "polars",
          "numpy",
          "keras-io",
          "networkx",
          "mlx"
         ],
         "textfont": {
          "size": 14
         },
         "textposition": "top center",
         "type": "scatter",
         "x": [
          0.01746484916116991,
          0.18211913696686402,
          -0.44937420395884214,
          -0.3992985692293055,
          0.7328901442018546,
          -1,
          -0.2225281385566176,
          0.7355689757427626,
          -0.5349223149856986,
          0.9380801206578128
         ],
         "y": [
          -0.1175385219756356,
          0.10234844867006865,
          -0.3808956404768004,
          0.06865724611336628,
          0.6896489118161261,
          -0.2029087154365456,
          0.2817538800623802,
          -0.14619598135445566,
          0.6473419642025123,
          -0.9422115916210169
         ]
        }
       ],
       "layout": {
        "annotations": [
         {
          "bgcolor": "white",
          "bordercolor": "black",
          "borderwidth": 1,
          "font": {
           "color": "red",
           "size": 12
          },
          "opacity": 1,
          "showarrow": false,
          "text": "pytorch",
          "x": 0.01746484916116991,
          "xanchor": "center",
          "y": -0.1175385219756356,
          "yanchor": "top"
         },
         {
          "bgcolor": "white",
          "bordercolor": "black",
          "borderwidth": 1,
          "font": {
           "color": "red",
           "size": 12
          },
          "opacity": 1,
          "showarrow": false,
          "text": "tensorflow",
          "x": 0.18211913696686402,
          "xanchor": "center",
          "y": 0.10234844867006865,
          "yanchor": "top"
         },
         {
          "bgcolor": "white",
          "bordercolor": "black",
          "borderwidth": 1,
          "font": {
           "color": "red",
           "size": 12
          },
          "opacity": 1,
          "showarrow": false,
          "text": "arrow",
          "x": -0.44937420395884214,
          "xanchor": "center",
          "y": -0.3808956404768004,
          "yanchor": "top"
         },
         {
          "bgcolor": "white",
          "bordercolor": "black",
          "borderwidth": 1,
          "font": {
           "color": "red",
           "size": 12
          },
          "opacity": 1,
          "showarrow": false,
          "text": "pandas",
          "x": -0.3992985692293055,
          "xanchor": "center",
          "y": 0.06865724611336628,
          "yanchor": "top"
         },
         {
          "bgcolor": "white",
          "bordercolor": "black",
          "borderwidth": 1,
          "font": {
           "color": "red",
           "size": 12
          },
          "opacity": 1,
          "showarrow": false,
          "text": "tinygrad",
          "x": 0.7328901442018546,
          "xanchor": "center",
          "y": 0.6896489118161261,
          "yanchor": "top"
         },
         {
          "bgcolor": "white",
          "bordercolor": "black",
          "borderwidth": 1,
          "font": {
           "color": "red",
           "size": 12
          },
          "opacity": 1,
          "showarrow": false,
          "text": "polars",
          "x": -1,
          "xanchor": "center",
          "y": -0.2029087154365456,
          "yanchor": "top"
         },
         {
          "bgcolor": "white",
          "bordercolor": "black",
          "borderwidth": 1,
          "font": {
           "color": "red",
           "size": 12
          },
          "opacity": 1,
          "showarrow": false,
          "text": "numpy",
          "x": -0.2225281385566176,
          "xanchor": "center",
          "y": 0.2817538800623802,
          "yanchor": "top"
         },
         {
          "bgcolor": "white",
          "bordercolor": "black",
          "borderwidth": 1,
          "font": {
           "color": "red",
           "size": 12
          },
          "opacity": 1,
          "showarrow": false,
          "text": "keras-io",
          "x": 0.7355689757427626,
          "xanchor": "center",
          "y": -0.14619598135445566,
          "yanchor": "top"
         },
         {
          "bgcolor": "white",
          "bordercolor": "black",
          "borderwidth": 1,
          "font": {
           "color": "red",
           "size": 12
          },
          "opacity": 1,
          "showarrow": false,
          "text": "networkx",
          "x": -0.5349223149856986,
          "xanchor": "center",
          "y": 0.6473419642025123,
          "yanchor": "top"
         },
         {
          "bgcolor": "white",
          "bordercolor": "black",
          "borderwidth": 1,
          "font": {
           "color": "red",
           "size": 12
          },
          "opacity": 1,
          "showarrow": false,
          "text": "mlx",
          "x": 0.9380801206578128,
          "xanchor": "center",
          "y": -0.9422115916210169,
          "yanchor": "top"
         }
        ],
        "height": 800,
        "margin": {
         "b": 100,
         "l": 75,
         "r": 100,
         "t": 75
        },
        "plot_bgcolor": "white",
        "showlegend": false,
        "template": {
         "data": {
          "bar": [
           {
            "error_x": {
             "color": "#2a3f5f"
            },
            "error_y": {
             "color": "#2a3f5f"
            },
            "marker": {
             "line": {
              "color": "#E5ECF6",
              "width": 0.5
             },
             "pattern": {
              "fillmode": "overlay",
              "size": 10,
              "solidity": 0.2
             }
            },
            "type": "bar"
           }
          ],
          "barpolar": [
           {
            "marker": {
             "line": {
              "color": "#E5ECF6",
              "width": 0.5
             },
             "pattern": {
              "fillmode": "overlay",
              "size": 10,
              "solidity": 0.2
             }
            },
            "type": "barpolar"
           }
          ],
          "carpet": [
           {
            "aaxis": {
             "endlinecolor": "#2a3f5f",
             "gridcolor": "white",
             "linecolor": "white",
             "minorgridcolor": "white",
             "startlinecolor": "#2a3f5f"
            },
            "baxis": {
             "endlinecolor": "#2a3f5f",
             "gridcolor": "white",
             "linecolor": "white",
             "minorgridcolor": "white",
             "startlinecolor": "#2a3f5f"
            },
            "type": "carpet"
           }
          ],
          "choropleth": [
           {
            "colorbar": {
             "outlinewidth": 0,
             "ticks": ""
            },
            "type": "choropleth"
           }
          ],
          "contour": [
           {
            "colorbar": {
             "outlinewidth": 0,
             "ticks": ""
            },
            "colorscale": [
             [
              0,
              "#0d0887"
             ],
             [
              0.1111111111111111,
              "#46039f"
             ],
             [
              0.2222222222222222,
              "#7201a8"
             ],
             [
              0.3333333333333333,
              "#9c179e"
             ],
             [
              0.4444444444444444,
              "#bd3786"
             ],
             [
              0.5555555555555556,
              "#d8576b"
             ],
             [
              0.6666666666666666,
              "#ed7953"
             ],
             [
              0.7777777777777778,
              "#fb9f3a"
             ],
             [
              0.8888888888888888,
              "#fdca26"
             ],
             [
              1,
              "#f0f921"
             ]
            ],
            "type": "contour"
           }
          ],
          "contourcarpet": [
           {
            "colorbar": {
             "outlinewidth": 0,
             "ticks": ""
            },
            "type": "contourcarpet"
           }
          ],
          "heatmap": [
           {
            "colorbar": {
             "outlinewidth": 0,
             "ticks": ""
            },
            "colorscale": [
             [
              0,
              "#0d0887"
             ],
             [
              0.1111111111111111,
              "#46039f"
             ],
             [
              0.2222222222222222,
              "#7201a8"
             ],
             [
              0.3333333333333333,
              "#9c179e"
             ],
             [
              0.4444444444444444,
              "#bd3786"
             ],
             [
              0.5555555555555556,
              "#d8576b"
             ],
             [
              0.6666666666666666,
              "#ed7953"
             ],
             [
              0.7777777777777778,
              "#fb9f3a"
             ],
             [
              0.8888888888888888,
              "#fdca26"
             ],
             [
              1,
              "#f0f921"
             ]
            ],
            "type": "heatmap"
           }
          ],
          "heatmapgl": [
           {
            "colorbar": {
             "outlinewidth": 0,
             "ticks": ""
            },
            "colorscale": [
             [
              0,
              "#0d0887"
             ],
             [
              0.1111111111111111,
              "#46039f"
             ],
             [
              0.2222222222222222,
              "#7201a8"
             ],
             [
              0.3333333333333333,
              "#9c179e"
             ],
             [
              0.4444444444444444,
              "#bd3786"
             ],
             [
              0.5555555555555556,
              "#d8576b"
             ],
             [
              0.6666666666666666,
              "#ed7953"
             ],
             [
              0.7777777777777778,
              "#fb9f3a"
             ],
             [
              0.8888888888888888,
              "#fdca26"
             ],
             [
              1,
              "#f0f921"
             ]
            ],
            "type": "heatmapgl"
           }
          ],
          "histogram": [
           {
            "marker": {
             "pattern": {
              "fillmode": "overlay",
              "size": 10,
              "solidity": 0.2
             }
            },
            "type": "histogram"
           }
          ],
          "histogram2d": [
           {
            "colorbar": {
             "outlinewidth": 0,
             "ticks": ""
            },
            "colorscale": [
             [
              0,
              "#0d0887"
             ],
             [
              0.1111111111111111,
              "#46039f"
             ],
             [
              0.2222222222222222,
              "#7201a8"
             ],
             [
              0.3333333333333333,
              "#9c179e"
             ],
             [
              0.4444444444444444,
              "#bd3786"
             ],
             [
              0.5555555555555556,
              "#d8576b"
             ],
             [
              0.6666666666666666,
              "#ed7953"
             ],
             [
              0.7777777777777778,
              "#fb9f3a"
             ],
             [
              0.8888888888888888,
              "#fdca26"
             ],
             [
              1,
              "#f0f921"
             ]
            ],
            "type": "histogram2d"
           }
          ],
          "histogram2dcontour": [
           {
            "colorbar": {
             "outlinewidth": 0,
             "ticks": ""
            },
            "colorscale": [
             [
              0,
              "#0d0887"
             ],
             [
              0.1111111111111111,
              "#46039f"
             ],
             [
              0.2222222222222222,
              "#7201a8"
             ],
             [
              0.3333333333333333,
              "#9c179e"
             ],
             [
              0.4444444444444444,
              "#bd3786"
             ],
             [
              0.5555555555555556,
              "#d8576b"
             ],
             [
              0.6666666666666666,
              "#ed7953"
             ],
             [
              0.7777777777777778,
              "#fb9f3a"
             ],
             [
              0.8888888888888888,
              "#fdca26"
             ],
             [
              1,
              "#f0f921"
             ]
            ],
            "type": "histogram2dcontour"
           }
          ],
          "mesh3d": [
           {
            "colorbar": {
             "outlinewidth": 0,
             "ticks": ""
            },
            "type": "mesh3d"
           }
          ],
          "parcoords": [
           {
            "line": {
             "colorbar": {
              "outlinewidth": 0,
              "ticks": ""
             }
            },
            "type": "parcoords"
           }
          ],
          "pie": [
           {
            "automargin": true,
            "type": "pie"
           }
          ],
          "scatter": [
           {
            "fillpattern": {
             "fillmode": "overlay",
             "size": 10,
             "solidity": 0.2
            },
            "type": "scatter"
           }
          ],
          "scatter3d": [
           {
            "line": {
             "colorbar": {
              "outlinewidth": 0,
              "ticks": ""
             }
            },
            "marker": {
             "colorbar": {
              "outlinewidth": 0,
              "ticks": ""
             }
            },
            "type": "scatter3d"
           }
          ],
          "scattercarpet": [
           {
            "marker": {
             "colorbar": {
              "outlinewidth": 0,
              "ticks": ""
             }
            },
            "type": "scattercarpet"
           }
          ],
          "scattergeo": [
           {
            "marker": {
             "colorbar": {
              "outlinewidth": 0,
              "ticks": ""
             }
            },
            "type": "scattergeo"
           }
          ],
          "scattergl": [
           {
            "marker": {
             "colorbar": {
              "outlinewidth": 0,
              "ticks": ""
             }
            },
            "type": "scattergl"
           }
          ],
          "scattermapbox": [
           {
            "marker": {
             "colorbar": {
              "outlinewidth": 0,
              "ticks": ""
             }
            },
            "type": "scattermapbox"
           }
          ],
          "scatterpolar": [
           {
            "marker": {
             "colorbar": {
              "outlinewidth": 0,
              "ticks": ""
             }
            },
            "type": "scatterpolar"
           }
          ],
          "scatterpolargl": [
           {
            "marker": {
             "colorbar": {
              "outlinewidth": 0,
              "ticks": ""
             }
            },
            "type": "scatterpolargl"
           }
          ],
          "scatterternary": [
           {
            "marker": {
             "colorbar": {
              "outlinewidth": 0,
              "ticks": ""
             }
            },
            "type": "scatterternary"
           }
          ],
          "surface": [
           {
            "colorbar": {
             "outlinewidth": 0,
             "ticks": ""
            },
            "colorscale": [
             [
              0,
              "#0d0887"
             ],
             [
              0.1111111111111111,
              "#46039f"
             ],
             [
              0.2222222222222222,
              "#7201a8"
             ],
             [
              0.3333333333333333,
              "#9c179e"
             ],
             [
              0.4444444444444444,
              "#bd3786"
             ],
             [
              0.5555555555555556,
              "#d8576b"
             ],
             [
              0.6666666666666666,
              "#ed7953"
             ],
             [
              0.7777777777777778,
              "#fb9f3a"
             ],
             [
              0.8888888888888888,
              "#fdca26"
             ],
             [
              1,
              "#f0f921"
             ]
            ],
            "type": "surface"
           }
          ],
          "table": [
           {
            "cells": {
             "fill": {
              "color": "#EBF0F8"
             },
             "line": {
              "color": "white"
             }
            },
            "header": {
             "fill": {
              "color": "#C8D4E3"
             },
             "line": {
              "color": "white"
             }
            },
            "type": "table"
           }
          ]
         },
         "layout": {
          "annotationdefaults": {
           "arrowcolor": "#2a3f5f",
           "arrowhead": 0,
           "arrowwidth": 1
          },
          "autotypenumbers": "strict",
          "coloraxis": {
           "colorbar": {
            "outlinewidth": 0,
            "ticks": ""
           }
          },
          "colorscale": {
           "diverging": [
            [
             0,
             "#8e0152"
            ],
            [
             0.1,
             "#c51b7d"
            ],
            [
             0.2,
             "#de77ae"
            ],
            [
             0.3,
             "#f1b6da"
            ],
            [
             0.4,
             "#fde0ef"
            ],
            [
             0.5,
             "#f7f7f7"
            ],
            [
             0.6,
             "#e6f5d0"
            ],
            [
             0.7,
             "#b8e186"
            ],
            [
             0.8,
             "#7fbc41"
            ],
            [
             0.9,
             "#4d9221"
            ],
            [
             1,
             "#276419"
            ]
           ],
           "sequential": [
            [
             0,
             "#0d0887"
            ],
            [
             0.1111111111111111,
             "#46039f"
            ],
            [
             0.2222222222222222,
             "#7201a8"
            ],
            [
             0.3333333333333333,
             "#9c179e"
            ],
            [
             0.4444444444444444,
             "#bd3786"
            ],
            [
             0.5555555555555556,
             "#d8576b"
            ],
            [
             0.6666666666666666,
             "#ed7953"
            ],
            [
             0.7777777777777778,
             "#fb9f3a"
            ],
            [
             0.8888888888888888,
             "#fdca26"
            ],
            [
             1,
             "#f0f921"
            ]
           ],
           "sequentialminus": [
            [
             0,
             "#0d0887"
            ],
            [
             0.1111111111111111,
             "#46039f"
            ],
            [
             0.2222222222222222,
             "#7201a8"
            ],
            [
             0.3333333333333333,
             "#9c179e"
            ],
            [
             0.4444444444444444,
             "#bd3786"
            ],
            [
             0.5555555555555556,
             "#d8576b"
            ],
            [
             0.6666666666666666,
             "#ed7953"
            ],
            [
             0.7777777777777778,
             "#fb9f3a"
            ],
            [
             0.8888888888888888,
             "#fdca26"
            ],
            [
             1,
             "#f0f921"
            ]
           ]
          },
          "colorway": [
           "#636efa",
           "#EF553B",
           "#00cc96",
           "#ab63fa",
           "#FFA15A",
           "#19d3f3",
           "#FF6692",
           "#B6E880",
           "#FF97FF",
           "#FECB52"
          ],
          "font": {
           "color": "#2a3f5f"
          },
          "geo": {
           "bgcolor": "white",
           "lakecolor": "white",
           "landcolor": "#E5ECF6",
           "showlakes": true,
           "showland": true,
           "subunitcolor": "white"
          },
          "hoverlabel": {
           "align": "left"
          },
          "hovermode": "closest",
          "mapbox": {
           "style": "light"
          },
          "paper_bgcolor": "white",
          "plot_bgcolor": "#E5ECF6",
          "polar": {
           "angularaxis": {
            "gridcolor": "white",
            "linecolor": "white",
            "ticks": ""
           },
           "bgcolor": "#E5ECF6",
           "radialaxis": {
            "gridcolor": "white",
            "linecolor": "white",
            "ticks": ""
           }
          },
          "scene": {
           "xaxis": {
            "backgroundcolor": "#E5ECF6",
            "gridcolor": "white",
            "gridwidth": 2,
            "linecolor": "white",
            "showbackground": true,
            "ticks": "",
            "zerolinecolor": "white"
           },
           "yaxis": {
            "backgroundcolor": "#E5ECF6",
            "gridcolor": "white",
            "gridwidth": 2,
            "linecolor": "white",
            "showbackground": true,
            "ticks": "",
            "zerolinecolor": "white"
           },
           "zaxis": {
            "backgroundcolor": "#E5ECF6",
            "gridcolor": "white",
            "gridwidth": 2,
            "linecolor": "white",
            "showbackground": true,
            "ticks": "",
            "zerolinecolor": "white"
           }
          },
          "shapedefaults": {
           "line": {
            "color": "#2a3f5f"
           }
          },
          "ternary": {
           "aaxis": {
            "gridcolor": "white",
            "linecolor": "white",
            "ticks": ""
           },
           "baxis": {
            "gridcolor": "white",
            "linecolor": "white",
            "ticks": ""
           },
           "bgcolor": "#E5ECF6",
           "caxis": {
            "gridcolor": "white",
            "linecolor": "white",
            "ticks": ""
           }
          },
          "title": {
           "x": 0.05
          },
          "xaxis": {
           "automargin": true,
           "gridcolor": "white",
           "linecolor": "white",
           "ticks": "",
           "title": {
            "standoff": 15
           },
           "zerolinecolor": "white",
           "zerolinewidth": 2
          },
          "yaxis": {
           "automargin": true,
           "gridcolor": "white",
           "linecolor": "white",
           "ticks": "",
           "title": {
            "standoff": 15
           },
           "zerolinecolor": "white",
           "zerolinewidth": 2
          }
         }
        },
        "title": {
         "text": "Repositories Network with Shared Contributors"
        },
        "width": 1000,
        "xaxis": {
         "showgrid": false,
         "showticklabels": false,
         "zeroline": false
        },
        "yaxis": {
         "showgrid": false,
         "showticklabels": false,
         "zeroline": false
        }
       }
      }
     },
     "metadata": {},
     "output_type": "display_data"
    }
   ],
   "source": [
    "# Create a graph and add weighted edges\n",
    "g = nx.Graph()\n",
    "g.add_weighted_edges_from(repo_common_contributors)\n",
    "\n",
    "# Get positions for all nodes using the spring layout algorithm\n",
    "pos = nx.spring_layout(g)\n",
    "\n",
    "# Calculate node sizes based on their degree\n",
    "node_sizes = [nx.degree(g, n) for n in g.nodes()]\n",
    "\n",
    "# Extract the x and y coordinates of the nodes\n",
    "x_nodes = [pos[node][0] for node in g.nodes()]\n",
    "y_nodes = [pos[node][1] for node in g.nodes()]\n",
    "\n",
    "# Create the Plotly figure\n",
    "fig = go.Figure()\n",
    "\n",
    "# Iterate through edges to add them to the Plotly figure\n",
    "for edge in g.edges(data=True):\n",
    "    x0, y0 = pos[edge[0]]  # Starting coordinates of the edge\n",
    "    x1, y1 = pos[edge[1]]  # Ending coordinates of the edge\n",
    "    x_edges = [x0, x1]  # x-coordinates for the edge\n",
    "    y_edges = [y0, y1]  # y-coordinates for the edge\n",
    "\n",
    "    # Generate interpolated points between the nodes for smoother edges\n",
    "    num_points = 3\n",
    "    interp_func_x = interp1d([0, 1], x_edges)\n",
    "    interp_func_y = interp1d([0, 1], y_edges)\n",
    "    x_interp = interp_func_x(np.linspace(0, 1, num_points))\n",
    "    y_interp = interp_func_y(np.linspace(0, 1, num_points))\n",
    "\n",
    "    # Add edges to the figure\n",
    "    fig.add_trace(go.Scatter(\n",
    "        x=x_interp, y=y_interp,\n",
    "        mode='lines',  # Use lines for edges\n",
    "        line=dict(width=edge[2]['weight'] / 25, color='blue'),  # Set line width and color\n",
    "        hoverinfo='text',  # Enable hover information\n",
    "        text=[f'Shared contributors ({edge[1]}, {edge[0]}): {edge[2][\"weight\"]}']*num_points,  # Hover text for each edge\n",
    "        showlegend=False\n",
    "    ))\n",
    "\n",
    "# Add the nodes as a scatter plot\n",
    "fig.add_trace(go.Scatter(\n",
    "    x=x_nodes, y=y_nodes,\n",
    "    mode='markers',  # Use markers for nodes\n",
    "    text=[str(node) for node in g.nodes()],  # Node labels\n",
    "    marker=dict(size=[size * 2 for size in node_sizes], color='black', line=dict(color='black', width=1)),  # Set marker properties\n",
    "    textposition='top center',\n",
    "    textfont=dict(size=14),\n",
    "    hoverinfo='text'  # Enable hover information for nodes\n",
    "))\n",
    "\n",
    "# Add annotations for the node labels\n",
    "annotations = []\n",
    "for node, (x, y) in pos.items():\n",
    "    annotations.append(\n",
    "        dict(\n",
    "            x=x, y=y,\n",
    "            text=str(node),  # Node label\n",
    "            showarrow=False,  # Disable arrow\n",
    "            xanchor='center',\n",
    "            yanchor='top',\n",
    "            font=dict(color='red', size=12),\n",
    "            bgcolor='white',\n",
    "            bordercolor='black',\n",
    "            borderwidth=1,\n",
    "            opacity=1.0  # Solid white background\n",
    "        )\n",
    "    )\n",
    "\n",
    "# Update the layout to include annotations and adjust figure size\n",
    "fig.update_layout(\n",
    "    showlegend=False,  # Disable legend for edges\n",
    "    annotations=annotations,\n",
    "    xaxis=dict(showgrid=False, zeroline=False, showticklabels=False),\n",
    "    yaxis=dict(showgrid=False, zeroline=False, showticklabels=False),\n",
    "    plot_bgcolor='white',\n",
    "    title='Repositories Network with Shared Contributors',\n",
    "    height=800,  # Set the height of the figure\n",
    "    width=1000,  # Set the width of the figure\n",
    "    margin=dict(l=75, r=100, t=75, b=100)  # Adjust margins to make the figure look nicer\n",
    ")\n",
    "\n",
    "# Show the figure\n",
    "fig.show()\n"
   ]
  },
  {
   "cell_type": "markdown",
   "metadata": {},
   "source": []
  }
 ],
 "metadata": {
  "kernelspec": {
   "display_name": "rappel_env",
   "language": "python",
   "name": "python3"
  },
  "language_info": {
   "codemirror_mode": {
    "name": "ipython",
    "version": 3
   },
   "file_extension": ".py",
   "mimetype": "text/x-python",
   "name": "python",
   "nbconvert_exporter": "python",
   "pygments_lexer": "ipython3",
   "version": "3.11.9"
  }
 },
 "nbformat": 4,
 "nbformat_minor": 2
}
