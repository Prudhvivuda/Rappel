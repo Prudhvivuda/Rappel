{
 "cells": [
  {
   "cell_type": "markdown",
   "metadata": {},
   "source": [
    "# Motivation and Rationale\n",
    "\n",
    "Inferring that a contributor's connectedness is a useful proxy for their importance\n",
    "or involvement in a community, take the top p% of contributors \n",
    "by their pagerank score and identify which repos they also belong to.\n",
    "\n",
    "Compare involvement to find maximal overlap among top percentage of contributors.\n",
    "\n",
    "# Background\n",
    "\n",
    "We've started from a 'seed' of repos that seem highly likely to be a \"part of the WASM neighborhood of projects.\" We identified these few repos by \\\n",
    "cursorily inspecting online lists of WASM projects. The 'seed' includes (repo/org):\n",
    "\n",
    "1. bytecodealliance/wasmtime\n",
    "2. wasmedge/wasmedge\n",
    "3. wasmerio/wasmer\n",
    "4. wavm/wavm"
   ]
  },
  {
   "cell_type": "markdown",
   "metadata": {},
   "source": [
    "## Imports"
   ]
  },
  {
   "cell_type": "code",
   "execution_count": 15,
   "metadata": {},
   "outputs": [],
   "source": [
    "import pandas as pd\n",
    "\n",
    "pd.set_option('display.max_rows', None)  # Display all rows\n",
    "pd.set_option('display.max_columns', None)  # Display all columns\n",
    "pd.set_option('display.width', None)  # Auto-detect terminal width\n",
    "\n",
    "# Or, set multiple options at once:\n",
    "pd.set_option('display.max_rows', 100, 'display.max_columns', 10)"
   ]
  },
  {
   "cell_type": "code",
   "execution_count": 1,
   "metadata": {},
   "outputs": [],
   "source": [
    "import pandas as pd\n",
    "import sqlalchemy as salc\n",
    "import plotly.express as px\n",
    "import json\n",
    "from IPython.display import Image\n",
    "from collections import Counter"
   ]
  },
  {
   "cell_type": "markdown",
   "metadata": {},
   "source": [
    "## Database"
   ]
  },
  {
   "cell_type": "code",
   "execution_count": 2,
   "metadata": {},
   "outputs": [],
   "source": [
    "# read configuration file\n",
    "with open(\"data/il_ai_creds.json\") as config_file:\n",
    "    config = json.load(config_file)\n",
    "\n",
    "# define cx string\n",
    "database_connection_string = f\"postgresql+psycopg2://{config['user']}:{config['password']}@{config['host']}:{config['port']}/{config['database']}\"\n",
    "\n",
    "# create engine\n",
    "engine = salc.create_engine(\n",
    "    database_connection_string,\n",
    "    connect_args={'options': f\"-csearch_path={'augur_data'}\"})"
   ]
  },
  {
   "cell_type": "markdown",
   "metadata": {},
   "source": [
    "## Global Switches"
   ]
  },
  {
   "cell_type": "code",
   "execution_count": 3,
   "metadata": {},
   "outputs": [],
   "source": [
    "# Whether we're using df_event_stream.parquet or \n",
    "# querying the source database directly.\n",
    "LOCAL_DATA = False \n",
    "\n",
    "# what percent of the top contributors \n",
    "# by pagerank should we consider?\n",
    "TOP_PERCENT_CONSIDERED = 0.10 #10%\n",
    "\n",
    "# how many \"top repos\" should we output \n",
    "# at the end?\n",
    "FINAL_NUM_COMMON_REPOS = 50"
   ]
  },
  {
   "cell_type": "markdown",
   "metadata": {},
   "source": [
    "## Read pagerank scores\n",
    "\n",
    "These scores are calculated by building a collaboration graph of the contributors in four projects\n",
    "and running the pagerank algorithm on the graph. The nodes of the graph are individual contributors,\n",
    "and the edges are weighted by the historical 'connectedness' between any two nodes. Connectedness increases\n",
    "when two individuals work on something together (PR, issue, commit). \n",
    "\n",
    "The described process is implemented in Rappel/notebooks/collab_network/wasm."
   ]
  },
  {
   "cell_type": "code",
   "execution_count": 4,
   "metadata": {},
   "outputs": [
    {
     "data": {
      "text/html": [
       "<div>\n",
       "<style scoped>\n",
       "    .dataframe tbody tr th:only-of-type {\n",
       "        vertical-align: middle;\n",
       "    }\n",
       "\n",
       "    .dataframe tbody tr th {\n",
       "        vertical-align: top;\n",
       "    }\n",
       "\n",
       "    .dataframe thead th {\n",
       "        text-align: right;\n",
       "    }\n",
       "</style>\n",
       "<table border=\"1\" class=\"dataframe\">\n",
       "  <thead>\n",
       "    <tr style=\"text-align: right;\">\n",
       "      <th></th>\n",
       "      <th>cntrb_id</th>\n",
       "      <th>score</th>\n",
       "    </tr>\n",
       "  </thead>\n",
       "  <tbody>\n",
       "    <tr>\n",
       "      <th>0</th>\n",
       "      <td>010000b0-0f00-0000-0000-000000000000</td>\n",
       "      <td>5.202788</td>\n",
       "    </tr>\n",
       "    <tr>\n",
       "      <th>1</th>\n",
       "      <td>01000180-1a00-0000-0000-000000000000</td>\n",
       "      <td>7.493569</td>\n",
       "    </tr>\n",
       "    <tr>\n",
       "      <th>2</th>\n",
       "      <td>01012f1b-7f00-0000-0000-000000000000</td>\n",
       "      <td>9.834143</td>\n",
       "    </tr>\n",
       "    <tr>\n",
       "      <th>3</th>\n",
       "      <td>010000b4-3700-0000-0000-000000000000</td>\n",
       "      <td>5.416480</td>\n",
       "    </tr>\n",
       "    <tr>\n",
       "      <th>4</th>\n",
       "      <td>010000f0-9200-0000-0000-000000000000</td>\n",
       "      <td>5.002507</td>\n",
       "    </tr>\n",
       "  </tbody>\n",
       "</table>\n",
       "</div>"
      ],
      "text/plain": [
       "                               cntrb_id     score\n",
       "0  010000b0-0f00-0000-0000-000000000000  5.202788\n",
       "1  01000180-1a00-0000-0000-000000000000  7.493569\n",
       "2  01012f1b-7f00-0000-0000-000000000000  9.834143\n",
       "3  010000b4-3700-0000-0000-000000000000  5.416480\n",
       "4  010000f0-9200-0000-0000-000000000000  5.002507"
      ]
     },
     "execution_count": 4,
     "metadata": {},
     "output_type": "execute_result"
    }
   ],
   "source": [
    "df_known_contribs = pd.read_csv('data/ai_contributor_pagerank.csv')\n",
    "df_known_contribs[\"cntrb_id\"] = df_known_contribs.cntrb_id.astype(str)\n",
    "df_known_contribs.head()"
   ]
  },
  {
   "cell_type": "markdown",
   "metadata": {},
   "source": [
    "# Contribution event stream\n",
    "\n",
    "Github provides an API endpoint from which one can query every event that occurs. For instance, if a contributor creates an issue on some repo, that event will be logged in the stream. A downside of this API is that it only serves the most recent two months of data. \n",
    "\n",
    "We want to use this stream to identify the set of repositories that our Known Contributors are also working in that weren't in the initial ecosystem kernel.\n",
    "\n",
    "The database that we use collects this event stream so we can query it from there rather than from Github. This is much faster than relying on the public Github API, and we will continue to collect the data that the API makes available, so over time the analysis that we can do will become richer and more complete. In the Augur database, the table with this information is the 'contributor_repo' table."
   ]
  },
  {
   "cell_type": "code",
   "execution_count": 5,
   "metadata": {},
   "outputs": [
    {
     "ename": "ImportError",
     "evalue": "Unable to find a usable engine; tried using: 'pyarrow', 'fastparquet'.\nA suitable version of pyarrow or fastparquet is required for parquet support.\nTrying to import the above resulted in these errors:\n - Missing optional dependency 'pyarrow'. pyarrow is required for parquet support. Use pip or conda to install pyarrow.\n - Missing optional dependency 'fastparquet'. fastparquet is required for parquet support. Use pip or conda to install fastparquet.",
     "output_type": "error",
     "traceback": [
      "\u001b[0;31m---------------------------------------------------------------------------\u001b[0m",
      "\u001b[0;31mImportError\u001b[0m                               Traceback (most recent call last)",
      "\u001b[0;32m/var/folders/7w/mm9ktp7n75dgn8rjth6_zv_m0000gn/T/ipykernel_77636/595099552.py\u001b[0m in \u001b[0;36m<module>\u001b[0;34m\u001b[0m\n\u001b[1;32m     22\u001b[0m     \u001b[0;32mwith\u001b[0m \u001b[0mopen\u001b[0m\u001b[0;34m(\u001b[0m\u001b[0;34m\"data/df_event_stream.parquet\"\u001b[0m\u001b[0;34m,\u001b[0m \u001b[0;34m\"wb+\"\u001b[0m\u001b[0;34m)\u001b[0m \u001b[0;32mas\u001b[0m \u001b[0mf\u001b[0m\u001b[0;34m:\u001b[0m\u001b[0;34m\u001b[0m\u001b[0;34m\u001b[0m\u001b[0m\n\u001b[1;32m     23\u001b[0m         \u001b[0mdf_event_stream\u001b[0m\u001b[0;34m.\u001b[0m\u001b[0mcntrb_id\u001b[0m \u001b[0;34m=\u001b[0m \u001b[0mdf_event_stream\u001b[0m\u001b[0;34m.\u001b[0m\u001b[0mcntrb_id\u001b[0m\u001b[0;34m.\u001b[0m\u001b[0mastype\u001b[0m\u001b[0;34m(\u001b[0m\u001b[0mstr\u001b[0m\u001b[0;34m)\u001b[0m\u001b[0;34m\u001b[0m\u001b[0;34m\u001b[0m\u001b[0m\n\u001b[0;32m---> 24\u001b[0;31m         \u001b[0mdf_event_stream\u001b[0m\u001b[0;34m.\u001b[0m\u001b[0mto_parquet\u001b[0m\u001b[0;34m(\u001b[0m\u001b[0mf\u001b[0m\u001b[0;34m)\u001b[0m\u001b[0;34m\u001b[0m\u001b[0;34m\u001b[0m\u001b[0m\n\u001b[0m\u001b[1;32m     25\u001b[0m \u001b[0;32melse\u001b[0m\u001b[0;34m:\u001b[0m\u001b[0;34m\u001b[0m\u001b[0;34m\u001b[0m\u001b[0m\n\u001b[1;32m     26\u001b[0m     \u001b[0;32mwith\u001b[0m \u001b[0mopen\u001b[0m\u001b[0;34m(\u001b[0m\u001b[0;34m\"data/df_event_stream.parquet\"\u001b[0m\u001b[0;34m,\u001b[0m \u001b[0;34m\"rb+\"\u001b[0m\u001b[0;34m)\u001b[0m \u001b[0;32mas\u001b[0m \u001b[0mf\u001b[0m\u001b[0;34m:\u001b[0m\u001b[0;34m\u001b[0m\u001b[0;34m\u001b[0m\u001b[0m\n",
      "\u001b[0;32m~/.virtualenvs/rappel_env/lib/python3.9/site-packages/pandas/util/_decorators.py\u001b[0m in \u001b[0;36mwrapper\u001b[0;34m(*args, **kwargs)\u001b[0m\n\u001b[1;32m    331\u001b[0m                     \u001b[0mstacklevel\u001b[0m\u001b[0;34m=\u001b[0m\u001b[0mfind_stack_level\u001b[0m\u001b[0;34m(\u001b[0m\u001b[0;34m)\u001b[0m\u001b[0;34m,\u001b[0m\u001b[0;34m\u001b[0m\u001b[0;34m\u001b[0m\u001b[0m\n\u001b[1;32m    332\u001b[0m                 )\n\u001b[0;32m--> 333\u001b[0;31m             \u001b[0;32mreturn\u001b[0m \u001b[0mfunc\u001b[0m\u001b[0;34m(\u001b[0m\u001b[0;34m*\u001b[0m\u001b[0margs\u001b[0m\u001b[0;34m,\u001b[0m \u001b[0;34m**\u001b[0m\u001b[0mkwargs\u001b[0m\u001b[0;34m)\u001b[0m\u001b[0;34m\u001b[0m\u001b[0;34m\u001b[0m\u001b[0m\n\u001b[0m\u001b[1;32m    334\u001b[0m \u001b[0;34m\u001b[0m\u001b[0m\n\u001b[1;32m    335\u001b[0m         \u001b[0;31m# error: \"Callable[[VarArg(Any), KwArg(Any)], Any]\" has no\u001b[0m\u001b[0;34m\u001b[0m\u001b[0;34m\u001b[0m\u001b[0;34m\u001b[0m\u001b[0m\n",
      "\u001b[0;32m~/.virtualenvs/rappel_env/lib/python3.9/site-packages/pandas/core/frame.py\u001b[0m in \u001b[0;36mto_parquet\u001b[0;34m(self, path, engine, compression, index, partition_cols, storage_options, **kwargs)\u001b[0m\n\u001b[1;32m   3111\u001b[0m         \u001b[0;32mfrom\u001b[0m \u001b[0mpandas\u001b[0m\u001b[0;34m.\u001b[0m\u001b[0mio\u001b[0m\u001b[0;34m.\u001b[0m\u001b[0mparquet\u001b[0m \u001b[0;32mimport\u001b[0m \u001b[0mto_parquet\u001b[0m\u001b[0;34m\u001b[0m\u001b[0;34m\u001b[0m\u001b[0m\n\u001b[1;32m   3112\u001b[0m \u001b[0;34m\u001b[0m\u001b[0m\n\u001b[0;32m-> 3113\u001b[0;31m         return to_parquet(\n\u001b[0m\u001b[1;32m   3114\u001b[0m             \u001b[0mself\u001b[0m\u001b[0;34m,\u001b[0m\u001b[0;34m\u001b[0m\u001b[0;34m\u001b[0m\u001b[0m\n\u001b[1;32m   3115\u001b[0m             \u001b[0mpath\u001b[0m\u001b[0;34m,\u001b[0m\u001b[0;34m\u001b[0m\u001b[0;34m\u001b[0m\u001b[0m\n",
      "\u001b[0;32m~/.virtualenvs/rappel_env/lib/python3.9/site-packages/pandas/io/parquet.py\u001b[0m in \u001b[0;36mto_parquet\u001b[0;34m(df, path, engine, compression, index, storage_options, partition_cols, filesystem, **kwargs)\u001b[0m\n\u001b[1;32m    474\u001b[0m     \u001b[0;32mif\u001b[0m \u001b[0misinstance\u001b[0m\u001b[0;34m(\u001b[0m\u001b[0mpartition_cols\u001b[0m\u001b[0;34m,\u001b[0m \u001b[0mstr\u001b[0m\u001b[0;34m)\u001b[0m\u001b[0;34m:\u001b[0m\u001b[0;34m\u001b[0m\u001b[0;34m\u001b[0m\u001b[0m\n\u001b[1;32m    475\u001b[0m         \u001b[0mpartition_cols\u001b[0m \u001b[0;34m=\u001b[0m \u001b[0;34m[\u001b[0m\u001b[0mpartition_cols\u001b[0m\u001b[0;34m]\u001b[0m\u001b[0;34m\u001b[0m\u001b[0;34m\u001b[0m\u001b[0m\n\u001b[0;32m--> 476\u001b[0;31m     \u001b[0mimpl\u001b[0m \u001b[0;34m=\u001b[0m \u001b[0mget_engine\u001b[0m\u001b[0;34m(\u001b[0m\u001b[0mengine\u001b[0m\u001b[0;34m)\u001b[0m\u001b[0;34m\u001b[0m\u001b[0;34m\u001b[0m\u001b[0m\n\u001b[0m\u001b[1;32m    477\u001b[0m \u001b[0;34m\u001b[0m\u001b[0m\n\u001b[1;32m    478\u001b[0m     \u001b[0mpath_or_buf\u001b[0m\u001b[0;34m:\u001b[0m \u001b[0mFilePath\u001b[0m \u001b[0;34m|\u001b[0m \u001b[0mWriteBuffer\u001b[0m\u001b[0;34m[\u001b[0m\u001b[0mbytes\u001b[0m\u001b[0;34m]\u001b[0m \u001b[0;34m=\u001b[0m \u001b[0mio\u001b[0m\u001b[0;34m.\u001b[0m\u001b[0mBytesIO\u001b[0m\u001b[0;34m(\u001b[0m\u001b[0;34m)\u001b[0m \u001b[0;32mif\u001b[0m \u001b[0mpath\u001b[0m \u001b[0;32mis\u001b[0m \u001b[0;32mNone\u001b[0m \u001b[0;32melse\u001b[0m \u001b[0mpath\u001b[0m\u001b[0;34m\u001b[0m\u001b[0;34m\u001b[0m\u001b[0m\n",
      "\u001b[0;32m~/.virtualenvs/rappel_env/lib/python3.9/site-packages/pandas/io/parquet.py\u001b[0m in \u001b[0;36mget_engine\u001b[0;34m(engine)\u001b[0m\n\u001b[1;32m     65\u001b[0m                 \u001b[0merror_msgs\u001b[0m \u001b[0;34m+=\u001b[0m \u001b[0;34m\"\\n - \"\u001b[0m \u001b[0;34m+\u001b[0m \u001b[0mstr\u001b[0m\u001b[0;34m(\u001b[0m\u001b[0merr\u001b[0m\u001b[0;34m)\u001b[0m\u001b[0;34m\u001b[0m\u001b[0;34m\u001b[0m\u001b[0m\n\u001b[1;32m     66\u001b[0m \u001b[0;34m\u001b[0m\u001b[0m\n\u001b[0;32m---> 67\u001b[0;31m         raise ImportError(\n\u001b[0m\u001b[1;32m     68\u001b[0m             \u001b[0;34m\"Unable to find a usable engine; \"\u001b[0m\u001b[0;34m\u001b[0m\u001b[0;34m\u001b[0m\u001b[0m\n\u001b[1;32m     69\u001b[0m             \u001b[0;34m\"tried using: 'pyarrow', 'fastparquet'.\\n\"\u001b[0m\u001b[0;34m\u001b[0m\u001b[0;34m\u001b[0m\u001b[0m\n",
      "\u001b[0;31mImportError\u001b[0m: Unable to find a usable engine; tried using: 'pyarrow', 'fastparquet'.\nA suitable version of pyarrow or fastparquet is required for parquet support.\nTrying to import the above resulted in these errors:\n - Missing optional dependency 'pyarrow'. pyarrow is required for parquet support. Use pip or conda to install pyarrow.\n - Missing optional dependency 'fastparquet'. fastparquet is required for parquet support. Use pip or conda to install fastparquet."
     ]
    }
   ],
   "source": [
    "event_stream_query = salc.sql.text(\n",
    "    f\"\"\"\n",
    "        SET SCHEMA 'augur_data';\n",
    "        SELECT \n",
    "            c.cntrb_id,\n",
    "            c.event_id,\n",
    "            c.created_at,\n",
    "            c.cntrb_repo_id as repo_id,\n",
    "            c.repo_git,\n",
    "            c.repo_name,\n",
    "            c.gh_repo_id,\n",
    "            c.cntrb_category as event_type\n",
    "        FROM\n",
    "        contributor_repo c\n",
    "    \"\"\")\n",
    "\n",
    "\n",
    "if not LOCAL_DATA:\n",
    "    with engine.connect() as conn:\n",
    "        df_event_stream = pd.read_sql_query(event_stream_query, conn)\n",
    "        \n",
    "    with open(\"data/df_event_stream.parquet\", \"wb+\") as f:\n",
    "        df_event_stream.cntrb_id = df_event_stream.cntrb_id.astype(str)\n",
    "        df_event_stream.to_parquet(f)\n",
    "else:\n",
    "    with open(\"data/df_event_stream.parquet\", \"rb+\") as f:\n",
    "        df_event_stream = pd.read_parquet(f)\n",
    "        df_event_stream.cntrb_id = df_event_stream.cntrb_id.astype(str)"
   ]
  },
  {
   "cell_type": "code",
   "execution_count": 6,
   "metadata": {},
   "outputs": [
    {
     "data": {
      "text/html": [
       "<div>\n",
       "<style scoped>\n",
       "    .dataframe tbody tr th:only-of-type {\n",
       "        vertical-align: middle;\n",
       "    }\n",
       "\n",
       "    .dataframe tbody tr th {\n",
       "        vertical-align: top;\n",
       "    }\n",
       "\n",
       "    .dataframe thead th {\n",
       "        text-align: right;\n",
       "    }\n",
       "</style>\n",
       "<table border=\"1\" class=\"dataframe\">\n",
       "  <thead>\n",
       "    <tr style=\"text-align: right;\">\n",
       "      <th></th>\n",
       "      <th>cntrb_id</th>\n",
       "      <th>event_id</th>\n",
       "      <th>created_at</th>\n",
       "      <th>repo_id</th>\n",
       "      <th>repo_git</th>\n",
       "      <th>repo_name</th>\n",
       "      <th>gh_repo_id</th>\n",
       "      <th>event_type</th>\n",
       "    </tr>\n",
       "  </thead>\n",
       "  <tbody>\n",
       "    <tr>\n",
       "      <th>0</th>\n",
       "      <td>01001583-8700-0000-0000-000000000000</td>\n",
       "      <td>37039342564</td>\n",
       "      <td>2024-04-01 03:54:33</td>\n",
       "      <td>5</td>\n",
       "      <td>https://api.github.com/repos/AmazingRise/hugo-...</td>\n",
       "      <td>AmazingRise/hugo-theme-diary</td>\n",
       "      <td>220989613</td>\n",
       "      <td>IssueCommentEvent</td>\n",
       "    </tr>\n",
       "    <tr>\n",
       "      <th>1</th>\n",
       "      <td>01001583-8700-0000-0000-000000000000</td>\n",
       "      <td>36966778104</td>\n",
       "      <td>2024-03-28 12:58:59</td>\n",
       "      <td>6</td>\n",
       "      <td>https://api.github.com/repos/AmazingRise/hugo-...</td>\n",
       "      <td>AmazingRise/hugo-theme-diary</td>\n",
       "      <td>220989613</td>\n",
       "      <td>IssueCommentEvent</td>\n",
       "    </tr>\n",
       "    <tr>\n",
       "      <th>2</th>\n",
       "      <td>01001583-8700-0000-0000-000000000000</td>\n",
       "      <td>36927475492</td>\n",
       "      <td>2024-03-27 11:44:16</td>\n",
       "      <td>7</td>\n",
       "      <td>https://api.github.com/repos/AmazingRise/hugo-...</td>\n",
       "      <td>AmazingRise/hugo-theme-diary</td>\n",
       "      <td>220989613</td>\n",
       "      <td>IssuesEvent</td>\n",
       "    </tr>\n",
       "    <tr>\n",
       "      <th>3</th>\n",
       "      <td>0106e616-3200-0000-0000-000000000000</td>\n",
       "      <td>37041178110</td>\n",
       "      <td>2024-04-01 05:49:59</td>\n",
       "      <td>23</td>\n",
       "      <td>https://api.github.com/repos/h2oai/h2o-llmstudio</td>\n",
       "      <td>h2oai/h2o-llmstudio</td>\n",
       "      <td>629142696</td>\n",
       "      <td>ForkEvent</td>\n",
       "    </tr>\n",
       "    <tr>\n",
       "      <th>4</th>\n",
       "      <td>0106e616-3200-0000-0000-000000000000</td>\n",
       "      <td>37041000998</td>\n",
       "      <td>2024-04-01 05:39:40</td>\n",
       "      <td>24</td>\n",
       "      <td>https://api.github.com/repos/OpenGVLab/LLaMA-A...</td>\n",
       "      <td>OpenGVLab/LLaMA-Adapter</td>\n",
       "      <td>616083282</td>\n",
       "      <td>ForkEvent</td>\n",
       "    </tr>\n",
       "    <tr>\n",
       "      <th>...</th>\n",
       "      <td>...</td>\n",
       "      <td>...</td>\n",
       "      <td>...</td>\n",
       "      <td>...</td>\n",
       "      <td>...</td>\n",
       "      <td>...</td>\n",
       "      <td>...</td>\n",
       "      <td>...</td>\n",
       "    </tr>\n",
       "    <tr>\n",
       "      <th>3536370</th>\n",
       "      <td>01003f92-0f00-0000-0000-000000000000</td>\n",
       "      <td>37745342640</td>\n",
       "      <td>2024-04-23 19:34:12</td>\n",
       "      <td>3771862</td>\n",
       "      <td>https://api.github.com/repos/NanoExplorer/Astr...</td>\n",
       "      <td>NanoExplorer/AstroRef</td>\n",
       "      <td>101352658</td>\n",
       "      <td>IssueCommentEvent</td>\n",
       "    </tr>\n",
       "    <tr>\n",
       "      <th>3536371</th>\n",
       "      <td>01003f92-0f00-0000-0000-000000000000</td>\n",
       "      <td>37745342436</td>\n",
       "      <td>2024-04-23 19:34:12</td>\n",
       "      <td>3771863</td>\n",
       "      <td>https://api.github.com/repos/NanoExplorer/Astr...</td>\n",
       "      <td>NanoExplorer/AstroRef</td>\n",
       "      <td>101352658</td>\n",
       "      <td>IssuesEvent</td>\n",
       "    </tr>\n",
       "    <tr>\n",
       "      <th>3536372</th>\n",
       "      <td>01003f92-0f00-0000-0000-000000000000</td>\n",
       "      <td>37745327396</td>\n",
       "      <td>2024-04-23 19:33:41</td>\n",
       "      <td>3771864</td>\n",
       "      <td>https://api.github.com/repos/NanoExplorer/Astr...</td>\n",
       "      <td>NanoExplorer/AstroRef</td>\n",
       "      <td>101352658</td>\n",
       "      <td>IssueCommentEvent</td>\n",
       "    </tr>\n",
       "    <tr>\n",
       "      <th>3536373</th>\n",
       "      <td>01003f92-0f00-0000-0000-000000000000</td>\n",
       "      <td>37745285215</td>\n",
       "      <td>2024-04-23 19:32:17</td>\n",
       "      <td>3771865</td>\n",
       "      <td>https://api.github.com/repos/NanoExplorer/Astr...</td>\n",
       "      <td>NanoExplorer/AstroRef</td>\n",
       "      <td>101352658</td>\n",
       "      <td>IssuesEvent</td>\n",
       "    </tr>\n",
       "    <tr>\n",
       "      <th>3536374</th>\n",
       "      <td>01003f92-0f00-0000-0000-000000000000</td>\n",
       "      <td>37745280932</td>\n",
       "      <td>2024-04-23 19:32:08</td>\n",
       "      <td>3771866</td>\n",
       "      <td>https://api.github.com/repos/NanoExplorer/Astr...</td>\n",
       "      <td>NanoExplorer/AstroRef</td>\n",
       "      <td>101352658</td>\n",
       "      <td>IssueCommentEvent</td>\n",
       "    </tr>\n",
       "  </tbody>\n",
       "</table>\n",
       "<p>3536375 rows × 8 columns</p>\n",
       "</div>"
      ],
      "text/plain": [
       "                                     cntrb_id     event_id  \\\n",
       "0        01001583-8700-0000-0000-000000000000  37039342564   \n",
       "1        01001583-8700-0000-0000-000000000000  36966778104   \n",
       "2        01001583-8700-0000-0000-000000000000  36927475492   \n",
       "3        0106e616-3200-0000-0000-000000000000  37041178110   \n",
       "4        0106e616-3200-0000-0000-000000000000  37041000998   \n",
       "...                                       ...          ...   \n",
       "3536370  01003f92-0f00-0000-0000-000000000000  37745342640   \n",
       "3536371  01003f92-0f00-0000-0000-000000000000  37745342436   \n",
       "3536372  01003f92-0f00-0000-0000-000000000000  37745327396   \n",
       "3536373  01003f92-0f00-0000-0000-000000000000  37745285215   \n",
       "3536374  01003f92-0f00-0000-0000-000000000000  37745280932   \n",
       "\n",
       "                 created_at  repo_id  \\\n",
       "0       2024-04-01 03:54:33        5   \n",
       "1       2024-03-28 12:58:59        6   \n",
       "2       2024-03-27 11:44:16        7   \n",
       "3       2024-04-01 05:49:59       23   \n",
       "4       2024-04-01 05:39:40       24   \n",
       "...                     ...      ...   \n",
       "3536370 2024-04-23 19:34:12  3771862   \n",
       "3536371 2024-04-23 19:34:12  3771863   \n",
       "3536372 2024-04-23 19:33:41  3771864   \n",
       "3536373 2024-04-23 19:32:17  3771865   \n",
       "3536374 2024-04-23 19:32:08  3771866   \n",
       "\n",
       "                                                  repo_git  \\\n",
       "0        https://api.github.com/repos/AmazingRise/hugo-...   \n",
       "1        https://api.github.com/repos/AmazingRise/hugo-...   \n",
       "2        https://api.github.com/repos/AmazingRise/hugo-...   \n",
       "3         https://api.github.com/repos/h2oai/h2o-llmstudio   \n",
       "4        https://api.github.com/repos/OpenGVLab/LLaMA-A...   \n",
       "...                                                    ...   \n",
       "3536370  https://api.github.com/repos/NanoExplorer/Astr...   \n",
       "3536371  https://api.github.com/repos/NanoExplorer/Astr...   \n",
       "3536372  https://api.github.com/repos/NanoExplorer/Astr...   \n",
       "3536373  https://api.github.com/repos/NanoExplorer/Astr...   \n",
       "3536374  https://api.github.com/repos/NanoExplorer/Astr...   \n",
       "\n",
       "                            repo_name  gh_repo_id         event_type  \n",
       "0        AmazingRise/hugo-theme-diary   220989613  IssueCommentEvent  \n",
       "1        AmazingRise/hugo-theme-diary   220989613  IssueCommentEvent  \n",
       "2        AmazingRise/hugo-theme-diary   220989613        IssuesEvent  \n",
       "3                 h2oai/h2o-llmstudio   629142696          ForkEvent  \n",
       "4             OpenGVLab/LLaMA-Adapter   616083282          ForkEvent  \n",
       "...                               ...         ...                ...  \n",
       "3536370         NanoExplorer/AstroRef   101352658  IssueCommentEvent  \n",
       "3536371         NanoExplorer/AstroRef   101352658        IssuesEvent  \n",
       "3536372         NanoExplorer/AstroRef   101352658  IssueCommentEvent  \n",
       "3536373         NanoExplorer/AstroRef   101352658        IssuesEvent  \n",
       "3536374         NanoExplorer/AstroRef   101352658  IssueCommentEvent  \n",
       "\n",
       "[3536375 rows x 8 columns]"
      ]
     },
     "execution_count": 6,
     "metadata": {},
     "output_type": "execute_result"
    }
   ],
   "source": [
    "df_event_stream"
   ]
  },
  {
   "cell_type": "code",
   "execution_count": 8,
   "metadata": {},
   "outputs": [],
   "source": [
    "with open(\"data/df_event_stream.parquet\", \"wb+\") as f:\n",
    "        df_event_stream.cntrb_id = df_event_stream.cntrb_id.astype(str)\n",
    "        df_event_stream.to_parquet(f)"
   ]
  },
  {
   "cell_type": "code",
   "execution_count": 9,
   "metadata": {},
   "outputs": [
    {
     "data": {
      "text/html": [
       "<div>\n",
       "<style scoped>\n",
       "    .dataframe tbody tr th:only-of-type {\n",
       "        vertical-align: middle;\n",
       "    }\n",
       "\n",
       "    .dataframe tbody tr th {\n",
       "        vertical-align: top;\n",
       "    }\n",
       "\n",
       "    .dataframe thead th {\n",
       "        text-align: right;\n",
       "    }\n",
       "</style>\n",
       "<table border=\"1\" class=\"dataframe\">\n",
       "  <thead>\n",
       "    <tr style=\"text-align: right;\">\n",
       "      <th></th>\n",
       "      <th>cntrb_id</th>\n",
       "      <th>event_id</th>\n",
       "      <th>created_at</th>\n",
       "      <th>repo_id</th>\n",
       "      <th>repo_git</th>\n",
       "      <th>repo_name</th>\n",
       "      <th>gh_repo_id</th>\n",
       "      <th>event_type</th>\n",
       "    </tr>\n",
       "  </thead>\n",
       "  <tbody>\n",
       "    <tr>\n",
       "      <th>0</th>\n",
       "      <td>01001583-8700-0000-0000-000000000000</td>\n",
       "      <td>37039342564</td>\n",
       "      <td>2024-04-01 03:54:33</td>\n",
       "      <td>5</td>\n",
       "      <td>https://api.github.com/repos/AmazingRise/hugo-...</td>\n",
       "      <td>AmazingRise/hugo-theme-diary</td>\n",
       "      <td>220989613</td>\n",
       "      <td>IssueCommentEvent</td>\n",
       "    </tr>\n",
       "    <tr>\n",
       "      <th>1</th>\n",
       "      <td>01001583-8700-0000-0000-000000000000</td>\n",
       "      <td>36966778104</td>\n",
       "      <td>2024-03-28 12:58:59</td>\n",
       "      <td>6</td>\n",
       "      <td>https://api.github.com/repos/AmazingRise/hugo-...</td>\n",
       "      <td>AmazingRise/hugo-theme-diary</td>\n",
       "      <td>220989613</td>\n",
       "      <td>IssueCommentEvent</td>\n",
       "    </tr>\n",
       "    <tr>\n",
       "      <th>2</th>\n",
       "      <td>01001583-8700-0000-0000-000000000000</td>\n",
       "      <td>36927475492</td>\n",
       "      <td>2024-03-27 11:44:16</td>\n",
       "      <td>7</td>\n",
       "      <td>https://api.github.com/repos/AmazingRise/hugo-...</td>\n",
       "      <td>AmazingRise/hugo-theme-diary</td>\n",
       "      <td>220989613</td>\n",
       "      <td>IssuesEvent</td>\n",
       "    </tr>\n",
       "    <tr>\n",
       "      <th>3</th>\n",
       "      <td>0106e616-3200-0000-0000-000000000000</td>\n",
       "      <td>37041178110</td>\n",
       "      <td>2024-04-01 05:49:59</td>\n",
       "      <td>23</td>\n",
       "      <td>https://api.github.com/repos/h2oai/h2o-llmstudio</td>\n",
       "      <td>h2oai/h2o-llmstudio</td>\n",
       "      <td>629142696</td>\n",
       "      <td>ForkEvent</td>\n",
       "    </tr>\n",
       "    <tr>\n",
       "      <th>4</th>\n",
       "      <td>0106e616-3200-0000-0000-000000000000</td>\n",
       "      <td>37041000998</td>\n",
       "      <td>2024-04-01 05:39:40</td>\n",
       "      <td>24</td>\n",
       "      <td>https://api.github.com/repos/OpenGVLab/LLaMA-A...</td>\n",
       "      <td>OpenGVLab/LLaMA-Adapter</td>\n",
       "      <td>616083282</td>\n",
       "      <td>ForkEvent</td>\n",
       "    </tr>\n",
       "  </tbody>\n",
       "</table>\n",
       "</div>"
      ],
      "text/plain": [
       "                               cntrb_id     event_id          created_at  \\\n",
       "0  01001583-8700-0000-0000-000000000000  37039342564 2024-04-01 03:54:33   \n",
       "1  01001583-8700-0000-0000-000000000000  36966778104 2024-03-28 12:58:59   \n",
       "2  01001583-8700-0000-0000-000000000000  36927475492 2024-03-27 11:44:16   \n",
       "3  0106e616-3200-0000-0000-000000000000  37041178110 2024-04-01 05:49:59   \n",
       "4  0106e616-3200-0000-0000-000000000000  37041000998 2024-04-01 05:39:40   \n",
       "\n",
       "   repo_id                                           repo_git  \\\n",
       "0        5  https://api.github.com/repos/AmazingRise/hugo-...   \n",
       "1        6  https://api.github.com/repos/AmazingRise/hugo-...   \n",
       "2        7  https://api.github.com/repos/AmazingRise/hugo-...   \n",
       "3       23   https://api.github.com/repos/h2oai/h2o-llmstudio   \n",
       "4       24  https://api.github.com/repos/OpenGVLab/LLaMA-A...   \n",
       "\n",
       "                      repo_name  gh_repo_id         event_type  \n",
       "0  AmazingRise/hugo-theme-diary   220989613  IssueCommentEvent  \n",
       "1  AmazingRise/hugo-theme-diary   220989613  IssueCommentEvent  \n",
       "2  AmazingRise/hugo-theme-diary   220989613        IssuesEvent  \n",
       "3           h2oai/h2o-llmstudio   629142696          ForkEvent  \n",
       "4       OpenGVLab/LLaMA-Adapter   616083282          ForkEvent  "
      ]
     },
     "execution_count": 9,
     "metadata": {},
     "output_type": "execute_result"
    }
   ],
   "source": [
    "df_event_stream.head()"
   ]
  },
  {
   "cell_type": "code",
   "execution_count": 10,
   "metadata": {},
   "outputs": [
    {
     "name": "stdout",
     "output_type": "stream",
     "text": [
      "There are: 3536375 events available\n"
     ]
    }
   ],
   "source": [
    "print(f\"There are: {df_event_stream.shape[0]} events available\")"
   ]
  },
  {
   "cell_type": "markdown",
   "metadata": {},
   "source": [
    "### Who are the TOP_PERCENT_CONSIDERED of the pagerank score-havers?"
   ]
  },
  {
   "cell_type": "code",
   "execution_count": 11,
   "metadata": {},
   "outputs": [
    {
     "name": "stdout",
     "output_type": "stream",
     "text": [
      "Num in original set: 2120\n",
      "Num in top 10%: 212\n"
     ]
    },
    {
     "data": {
      "text/html": [
       "<div>\n",
       "<style scoped>\n",
       "    .dataframe tbody tr th:only-of-type {\n",
       "        vertical-align: middle;\n",
       "    }\n",
       "\n",
       "    .dataframe tbody tr th {\n",
       "        vertical-align: top;\n",
       "    }\n",
       "\n",
       "    .dataframe thead th {\n",
       "        text-align: right;\n",
       "    }\n",
       "</style>\n",
       "<table border=\"1\" class=\"dataframe\">\n",
       "  <thead>\n",
       "    <tr style=\"text-align: right;\">\n",
       "      <th></th>\n",
       "      <th>cntrb_id</th>\n",
       "      <th>score</th>\n",
       "    </tr>\n",
       "  </thead>\n",
       "  <tbody>\n",
       "    <tr>\n",
       "      <th>1141</th>\n",
       "      <td>0105d3c3-3c00-0000-0000-000000000000</td>\n",
       "      <td>20.000000</td>\n",
       "    </tr>\n",
       "    <tr>\n",
       "      <th>591</th>\n",
       "      <td>010105b7-9400-0000-0000-000000000000</td>\n",
       "      <td>12.597454</td>\n",
       "    </tr>\n",
       "    <tr>\n",
       "      <th>2</th>\n",
       "      <td>01012f1b-7f00-0000-0000-000000000000</td>\n",
       "      <td>9.834143</td>\n",
       "    </tr>\n",
       "    <tr>\n",
       "      <th>1813</th>\n",
       "      <td>0100011c-bf00-0000-0000-000000000000</td>\n",
       "      <td>8.487091</td>\n",
       "    </tr>\n",
       "    <tr>\n",
       "      <th>5</th>\n",
       "      <td>010000f2-1900-0000-0000-000000000000</td>\n",
       "      <td>8.358123</td>\n",
       "    </tr>\n",
       "    <tr>\n",
       "      <th>...</th>\n",
       "      <td>...</td>\n",
       "      <td>...</td>\n",
       "    </tr>\n",
       "    <tr>\n",
       "      <th>58</th>\n",
       "      <td>010135d9-5e00-0000-0000-000000000000</td>\n",
       "      <td>5.047511</td>\n",
       "    </tr>\n",
       "    <tr>\n",
       "      <th>819</th>\n",
       "      <td>0101ef62-4000-0000-0000-000000000000</td>\n",
       "      <td>5.047486</td>\n",
       "    </tr>\n",
       "    <tr>\n",
       "      <th>361</th>\n",
       "      <td>010083a1-9b00-0000-0000-000000000000</td>\n",
       "      <td>5.047457</td>\n",
       "    </tr>\n",
       "    <tr>\n",
       "      <th>1435</th>\n",
       "      <td>0100c5e1-d800-0000-0000-000000000000</td>\n",
       "      <td>5.047285</td>\n",
       "    </tr>\n",
       "    <tr>\n",
       "      <th>1529</th>\n",
       "      <td>01015f1b-dd00-0000-0000-000000000000</td>\n",
       "      <td>5.047285</td>\n",
       "    </tr>\n",
       "  </tbody>\n",
       "</table>\n",
       "<p>212 rows × 2 columns</p>\n",
       "</div>"
      ],
      "text/plain": [
       "                                  cntrb_id      score\n",
       "1141  0105d3c3-3c00-0000-0000-000000000000  20.000000\n",
       "591   010105b7-9400-0000-0000-000000000000  12.597454\n",
       "2     01012f1b-7f00-0000-0000-000000000000   9.834143\n",
       "1813  0100011c-bf00-0000-0000-000000000000   8.487091\n",
       "5     010000f2-1900-0000-0000-000000000000   8.358123\n",
       "...                                    ...        ...\n",
       "58    010135d9-5e00-0000-0000-000000000000   5.047511\n",
       "819   0101ef62-4000-0000-0000-000000000000   5.047486\n",
       "361   010083a1-9b00-0000-0000-000000000000   5.047457\n",
       "1435  0100c5e1-d800-0000-0000-000000000000   5.047285\n",
       "1529  01015f1b-dd00-0000-0000-000000000000   5.047285\n",
       "\n",
       "[212 rows x 2 columns]"
      ]
     },
     "execution_count": 11,
     "metadata": {},
     "output_type": "execute_result"
    }
   ],
   "source": [
    "pop_contribs = df_known_contribs.shape[0]\n",
    "top_10p = df_known_contribs.sort_values(by=\"score\", ascending=False)[:int(pop_contribs * TOP_PERCENT_CONSIDERED)]\n",
    "top_10p = top_10p.rename({\"user\": \"cntrb_id\"})\n",
    "\n",
    "print(f\"Num in original set: {df_known_contribs.shape[0]}\")\n",
    "print(f\"Num in top 10%: {top_10p.shape[0]}\")\n",
    "top_10p"
   ]
  },
  {
   "cell_type": "markdown",
   "metadata": {},
   "source": [
    "### Join event stream and top_10p on the user's id\n",
    "\n",
    "Will give us the events for each of the contributors."
   ]
  },
  {
   "cell_type": "code",
   "execution_count": 12,
   "metadata": {},
   "outputs": [
    {
     "data": {
      "text/html": [
       "<div>\n",
       "<style scoped>\n",
       "    .dataframe tbody tr th:only-of-type {\n",
       "        vertical-align: middle;\n",
       "    }\n",
       "\n",
       "    .dataframe tbody tr th {\n",
       "        vertical-align: top;\n",
       "    }\n",
       "\n",
       "    .dataframe thead th {\n",
       "        text-align: right;\n",
       "    }\n",
       "</style>\n",
       "<table border=\"1\" class=\"dataframe\">\n",
       "  <thead>\n",
       "    <tr style=\"text-align: right;\">\n",
       "      <th></th>\n",
       "      <th>cntrb_id</th>\n",
       "      <th>score</th>\n",
       "      <th>event_id</th>\n",
       "      <th>created_at</th>\n",
       "      <th>repo_id</th>\n",
       "      <th>repo_git</th>\n",
       "      <th>repo_name</th>\n",
       "      <th>gh_repo_id</th>\n",
       "      <th>event_type</th>\n",
       "    </tr>\n",
       "  </thead>\n",
       "  <tbody>\n",
       "    <tr>\n",
       "      <th>1141</th>\n",
       "      <td>0105d3c3-3c00-0000-0000-000000000000</td>\n",
       "      <td>20.000000</td>\n",
       "      <td>3.991308e+10</td>\n",
       "      <td>2024-07-05 23:45:28</td>\n",
       "      <td>2278961.0</td>\n",
       "      <td>https://api.github.com/repos/pytorch/pytorch</td>\n",
       "      <td>pytorch/pytorch</td>\n",
       "      <td>65600975.0</td>\n",
       "      <td>IssueCommentEvent</td>\n",
       "    </tr>\n",
       "    <tr>\n",
       "      <th>1141</th>\n",
       "      <td>0105d3c3-3c00-0000-0000-000000000000</td>\n",
       "      <td>20.000000</td>\n",
       "      <td>3.991308e+10</td>\n",
       "      <td>2024-07-05 23:45:22</td>\n",
       "      <td>2278962.0</td>\n",
       "      <td>https://api.github.com/repos/pytorch/pytorch</td>\n",
       "      <td>pytorch/pytorch</td>\n",
       "      <td>65600975.0</td>\n",
       "      <td>IssueCommentEvent</td>\n",
       "    </tr>\n",
       "    <tr>\n",
       "      <th>1141</th>\n",
       "      <td>0105d3c3-3c00-0000-0000-000000000000</td>\n",
       "      <td>20.000000</td>\n",
       "      <td>3.991285e+10</td>\n",
       "      <td>2024-07-05 23:18:34</td>\n",
       "      <td>2278963.0</td>\n",
       "      <td>https://api.github.com/repos/pytorch/pytorch</td>\n",
       "      <td>pytorch/pytorch</td>\n",
       "      <td>65600975.0</td>\n",
       "      <td>PullRequestEvent</td>\n",
       "    </tr>\n",
       "    <tr>\n",
       "      <th>1141</th>\n",
       "      <td>0105d3c3-3c00-0000-0000-000000000000</td>\n",
       "      <td>20.000000</td>\n",
       "      <td>3.991285e+10</td>\n",
       "      <td>2024-07-05 23:18:32</td>\n",
       "      <td>2278964.0</td>\n",
       "      <td>https://api.github.com/repos/pytorch/pytorch</td>\n",
       "      <td>pytorch/pytorch</td>\n",
       "      <td>65600975.0</td>\n",
       "      <td>PushEvent</td>\n",
       "    </tr>\n",
       "    <tr>\n",
       "      <th>1141</th>\n",
       "      <td>0105d3c3-3c00-0000-0000-000000000000</td>\n",
       "      <td>20.000000</td>\n",
       "      <td>3.991280e+10</td>\n",
       "      <td>2024-07-05 23:12:56</td>\n",
       "      <td>2278965.0</td>\n",
       "      <td>https://api.github.com/repos/pytorch/pytorch</td>\n",
       "      <td>pytorch/pytorch</td>\n",
       "      <td>65600975.0</td>\n",
       "      <td>IssueCommentEvent</td>\n",
       "    </tr>\n",
       "    <tr>\n",
       "      <th>...</th>\n",
       "      <td>...</td>\n",
       "      <td>...</td>\n",
       "      <td>...</td>\n",
       "      <td>...</td>\n",
       "      <td>...</td>\n",
       "      <td>...</td>\n",
       "      <td>...</td>\n",
       "      <td>...</td>\n",
       "      <td>...</td>\n",
       "    </tr>\n",
       "    <tr>\n",
       "      <th>1529</th>\n",
       "      <td>01015f1b-dd00-0000-0000-000000000000</td>\n",
       "      <td>5.047285</td>\n",
       "      <td>3.723686e+10</td>\n",
       "      <td>2024-04-07 09:31:38</td>\n",
       "      <td>1138843.0</td>\n",
       "      <td>https://api.github.com/repos/pytorch/pytorch</td>\n",
       "      <td>pytorch/pytorch</td>\n",
       "      <td>65600975.0</td>\n",
       "      <td>IssueCommentEvent</td>\n",
       "    </tr>\n",
       "    <tr>\n",
       "      <th>1529</th>\n",
       "      <td>01015f1b-dd00-0000-0000-000000000000</td>\n",
       "      <td>5.047285</td>\n",
       "      <td>3.723670e+10</td>\n",
       "      <td>2024-04-07 09:15:01</td>\n",
       "      <td>1138844.0</td>\n",
       "      <td>https://api.github.com/repos/pytorch/pytorch</td>\n",
       "      <td>pytorch/pytorch</td>\n",
       "      <td>65600975.0</td>\n",
       "      <td>IssuesEvent</td>\n",
       "    </tr>\n",
       "    <tr>\n",
       "      <th>1529</th>\n",
       "      <td>01015f1b-dd00-0000-0000-000000000000</td>\n",
       "      <td>5.047285</td>\n",
       "      <td>3.723363e+10</td>\n",
       "      <td>2024-04-07 03:09:44</td>\n",
       "      <td>1138845.0</td>\n",
       "      <td>https://api.github.com/repos/pytorch/pytorch</td>\n",
       "      <td>pytorch/pytorch</td>\n",
       "      <td>65600975.0</td>\n",
       "      <td>PullRequestReviewCommentEvent</td>\n",
       "    </tr>\n",
       "    <tr>\n",
       "      <th>1529</th>\n",
       "      <td>01015f1b-dd00-0000-0000-000000000000</td>\n",
       "      <td>5.047285</td>\n",
       "      <td>3.723363e+10</td>\n",
       "      <td>2024-04-07 03:09:44</td>\n",
       "      <td>1138846.0</td>\n",
       "      <td>https://api.github.com/repos/pytorch/pytorch</td>\n",
       "      <td>pytorch/pytorch</td>\n",
       "      <td>65600975.0</td>\n",
       "      <td>PullRequestReviewEvent</td>\n",
       "    </tr>\n",
       "    <tr>\n",
       "      <th>1529</th>\n",
       "      <td>01015f1b-dd00-0000-0000-000000000000</td>\n",
       "      <td>5.047285</td>\n",
       "      <td>3.723360e+10</td>\n",
       "      <td>2024-04-07 03:05:30</td>\n",
       "      <td>1138847.0</td>\n",
       "      <td>https://api.github.com/repos/pytorch/pytorch</td>\n",
       "      <td>pytorch/pytorch</td>\n",
       "      <td>65600975.0</td>\n",
       "      <td>PushEvent</td>\n",
       "    </tr>\n",
       "  </tbody>\n",
       "</table>\n",
       "<p>35772 rows × 9 columns</p>\n",
       "</div>"
      ],
      "text/plain": [
       "                                  cntrb_id      score      event_id  \\\n",
       "1141  0105d3c3-3c00-0000-0000-000000000000  20.000000  3.991308e+10   \n",
       "1141  0105d3c3-3c00-0000-0000-000000000000  20.000000  3.991308e+10   \n",
       "1141  0105d3c3-3c00-0000-0000-000000000000  20.000000  3.991285e+10   \n",
       "1141  0105d3c3-3c00-0000-0000-000000000000  20.000000  3.991285e+10   \n",
       "1141  0105d3c3-3c00-0000-0000-000000000000  20.000000  3.991280e+10   \n",
       "...                                    ...        ...           ...   \n",
       "1529  01015f1b-dd00-0000-0000-000000000000   5.047285  3.723686e+10   \n",
       "1529  01015f1b-dd00-0000-0000-000000000000   5.047285  3.723670e+10   \n",
       "1529  01015f1b-dd00-0000-0000-000000000000   5.047285  3.723363e+10   \n",
       "1529  01015f1b-dd00-0000-0000-000000000000   5.047285  3.723363e+10   \n",
       "1529  01015f1b-dd00-0000-0000-000000000000   5.047285  3.723360e+10   \n",
       "\n",
       "              created_at    repo_id  \\\n",
       "1141 2024-07-05 23:45:28  2278961.0   \n",
       "1141 2024-07-05 23:45:22  2278962.0   \n",
       "1141 2024-07-05 23:18:34  2278963.0   \n",
       "1141 2024-07-05 23:18:32  2278964.0   \n",
       "1141 2024-07-05 23:12:56  2278965.0   \n",
       "...                  ...        ...   \n",
       "1529 2024-04-07 09:31:38  1138843.0   \n",
       "1529 2024-04-07 09:15:01  1138844.0   \n",
       "1529 2024-04-07 03:09:44  1138845.0   \n",
       "1529 2024-04-07 03:09:44  1138846.0   \n",
       "1529 2024-04-07 03:05:30  1138847.0   \n",
       "\n",
       "                                          repo_git        repo_name  \\\n",
       "1141  https://api.github.com/repos/pytorch/pytorch  pytorch/pytorch   \n",
       "1141  https://api.github.com/repos/pytorch/pytorch  pytorch/pytorch   \n",
       "1141  https://api.github.com/repos/pytorch/pytorch  pytorch/pytorch   \n",
       "1141  https://api.github.com/repos/pytorch/pytorch  pytorch/pytorch   \n",
       "1141  https://api.github.com/repos/pytorch/pytorch  pytorch/pytorch   \n",
       "...                                            ...              ...   \n",
       "1529  https://api.github.com/repos/pytorch/pytorch  pytorch/pytorch   \n",
       "1529  https://api.github.com/repos/pytorch/pytorch  pytorch/pytorch   \n",
       "1529  https://api.github.com/repos/pytorch/pytorch  pytorch/pytorch   \n",
       "1529  https://api.github.com/repos/pytorch/pytorch  pytorch/pytorch   \n",
       "1529  https://api.github.com/repos/pytorch/pytorch  pytorch/pytorch   \n",
       "\n",
       "      gh_repo_id                     event_type  \n",
       "1141  65600975.0              IssueCommentEvent  \n",
       "1141  65600975.0              IssueCommentEvent  \n",
       "1141  65600975.0               PullRequestEvent  \n",
       "1141  65600975.0                      PushEvent  \n",
       "1141  65600975.0              IssueCommentEvent  \n",
       "...          ...                            ...  \n",
       "1529  65600975.0              IssueCommentEvent  \n",
       "1529  65600975.0                    IssuesEvent  \n",
       "1529  65600975.0  PullRequestReviewCommentEvent  \n",
       "1529  65600975.0         PullRequestReviewEvent  \n",
       "1529  65600975.0                      PushEvent  \n",
       "\n",
       "[35772 rows x 9 columns]"
      ]
     },
     "execution_count": 12,
     "metadata": {},
     "output_type": "execute_result"
    }
   ],
   "source": [
    "# joins events data on the top_10p group of people.\n",
    "# have to set the index of the 'other' df to be the\n",
    "# column we want to join on\n",
    "top_10p_events = top_10p.join(\n",
    "    other=df_event_stream.set_index(\"cntrb_id\"),\n",
    "    on=\"cntrb_id\"\n",
    ")\n",
    "top_10p_events"
   ]
  },
  {
   "cell_type": "markdown",
   "metadata": {},
   "source": [
    "For each contributor, get the list of repo gits that they've made at least one contribution to."
   ]
  },
  {
   "cell_type": "code",
   "execution_count": 16,
   "metadata": {},
   "outputs": [
    {
     "data": {
      "text/html": [
       "<div>\n",
       "<style scoped>\n",
       "    .dataframe tbody tr th:only-of-type {\n",
       "        vertical-align: middle;\n",
       "    }\n",
       "\n",
       "    .dataframe tbody tr th {\n",
       "        vertical-align: top;\n",
       "    }\n",
       "\n",
       "    .dataframe thead th {\n",
       "        text-align: right;\n",
       "    }\n",
       "</style>\n",
       "<table border=\"1\" class=\"dataframe\">\n",
       "  <thead>\n",
       "    <tr style=\"text-align: right;\">\n",
       "      <th></th>\n",
       "      <th>unique</th>\n",
       "    </tr>\n",
       "    <tr>\n",
       "      <th>cntrb_id</th>\n",
       "      <th></th>\n",
       "    </tr>\n",
       "  </thead>\n",
       "  <tbody>\n",
       "    <tr>\n",
       "      <th>01000016-6a00-0000-0000-000000000000</th>\n",
       "      <td>[https://api.github.com/repos/kingjulio8238/me...</td>\n",
       "    </tr>\n",
       "    <tr>\n",
       "      <th>01000034-fc00-0000-0000-000000000000</th>\n",
       "      <td>[https://api.github.com/repos/pytorch/pytorch,...</td>\n",
       "    </tr>\n",
       "    <tr>\n",
       "      <th>01000040-9e00-0000-0000-000000000000</th>\n",
       "      <td>[https://api.github.com/repos/llvm/llvm-projec...</td>\n",
       "    </tr>\n",
       "    <tr>\n",
       "      <th>010000a4-d900-0000-0000-000000000000</th>\n",
       "      <td>[https://api.github.com/repos/bitcoin-core/HWI...</td>\n",
       "    </tr>\n",
       "    <tr>\n",
       "      <th>010000b0-0f00-0000-0000-000000000000</th>\n",
       "      <td>[https://api.github.com/repos/numpy/numpy, htt...</td>\n",
       "    </tr>\n",
       "  </tbody>\n",
       "</table>\n",
       "</div>"
      ],
      "text/plain": [
       "                                                                                 unique\n",
       "cntrb_id                                                                               \n",
       "01000016-6a00-0000-0000-000000000000  [https://api.github.com/repos/kingjulio8238/me...\n",
       "01000034-fc00-0000-0000-000000000000  [https://api.github.com/repos/pytorch/pytorch,...\n",
       "01000040-9e00-0000-0000-000000000000  [https://api.github.com/repos/llvm/llvm-projec...\n",
       "010000a4-d900-0000-0000-000000000000  [https://api.github.com/repos/bitcoin-core/HWI...\n",
       "010000b0-0f00-0000-0000-000000000000  [https://api.github.com/repos/numpy/numpy, htt..."
      ]
     },
     "execution_count": 16,
     "metadata": {},
     "output_type": "execute_result"
    }
   ],
   "source": [
    "cntrb_repos = top_10p_events.groupby([\"cntrb_id\"])[\"repo_git\"].agg(['unique'])\n",
    "cntrb_repos.head()"
   ]
  },
  {
   "cell_type": "code",
   "execution_count": 17,
   "metadata": {},
   "outputs": [],
   "source": [
    "# concatenate all of the lists of repo belonging together\n",
    "# for all of the contribs.\n",
    "# then, count the occurrences of each repo.\n",
    "all_repos = []\n",
    "for row in cntrb_repos[\"unique\"]:\n",
    "    all_repos = all_repos + list(row)\n",
    "    \n",
    "n_contribs_per_repo = dict(Counter(all_repos))"
   ]
  },
  {
   "cell_type": "code",
   "execution_count": 18,
   "metadata": {},
   "outputs": [
    {
     "data": {
      "text/plain": [
       "[('https://api.github.com/repos/kingjulio8238/memary', 1),\n",
       " ('https://api.github.com/repos/dust-tt/dust', 1),\n",
       " ('https://api.github.com/repos/pytorch/pytorch', 70),\n",
       " ('https://api.github.com/repos/ezyang/tlparse', 1),\n",
       " ('https://api.github.com/repos/ezyang/tlparse_reports', 1),\n",
       " ('https://api.github.com/repos/ezyang/compact', 1),\n",
       " ('https://api.github.com/repos/llvm/llvm-project', 14),\n",
       " ('https://api.github.com/repos/openxla/xla', 17),\n",
       " ('https://api.github.com/repos/tensorflow/tensorflow', 11),\n",
       " ('https://api.github.com/repos/openxla/stablehlo', 5)]"
      ]
     },
     "execution_count": 18,
     "metadata": {},
     "output_type": "execute_result"
    }
   ],
   "source": [
    "list(n_contribs_per_repo.items())[:10]"
   ]
  },
  {
   "cell_type": "code",
   "execution_count": 19,
   "metadata": {},
   "outputs": [],
   "source": [
    "# Translate the dictionary into a dataframe and sort\n",
    "# Thanks Hema Veeradhi for this implementation.\n",
    "df_for_fig = pd.DataFrame(list(n_contribs_per_repo.items()), columns=['repo_gits', 'repo_cntrb_counts']).sort_values(by=\"repo_cntrb_counts\", ascending=False)\n",
    "df_for_fig.repo_gits = df_for_fig.repo_gits.apply(lambda x : x.removeprefix(\"https://api.github.com/repos/\") if(type(x)==str) else x)"
   ]
  },
  {
   "cell_type": "code",
   "execution_count": 20,
   "metadata": {},
   "outputs": [],
   "source": [
    "fig = px.bar(\n",
    "    data_frame=df_for_fig[:FINAL_NUM_COMMON_REPOS],\n",
    "    y=\"repo_gits\",\n",
    "    x=\"repo_cntrb_counts\",\n",
    "    hover_name=\"repo_cntrb_counts\",\n",
    "    orientation=\"h\"\n",
    ")"
   ]
  },
  {
   "cell_type": "code",
   "execution_count": 21,
   "metadata": {},
   "outputs": [
    {
     "data": {
      "application/vnd.plotly.v1+json": {
       "config": {
        "plotlyServerURL": "https://plot.ly"
       },
       "data": [
        {
         "alignmentgroup": "True",
         "hovertemplate": "<b>%{hovertext}</b><br><br>repo_cntrb_counts=%{x}<br>repo_gits=%{y}<extra></extra>",
         "hovertext": [
          70,
          26,
          20,
          19,
          19,
          17,
          14,
          12,
          12,
          12,
          11,
          11,
          11,
          10,
          9,
          9,
          8,
          8,
          7,
          6,
          6,
          6,
          5,
          5,
          5,
          5,
          5,
          5,
          5,
          4,
          4,
          4,
          4,
          4,
          4,
          4,
          4,
          4,
          3,
          3,
          3,
          3,
          3,
          3,
          3,
          3,
          3,
          3,
          3,
          3
         ],
         "legendgroup": "",
         "marker": {
          "color": "#636efa",
          "pattern": {
           "shape": ""
          }
         },
         "name": "",
         "offsetgroup": "",
         "orientation": "h",
         "showlegend": false,
         "textposition": "auto",
         "type": "bar",
         "x": [
          70,
          26,
          20,
          19,
          19,
          17,
          14,
          12,
          12,
          12,
          11,
          11,
          11,
          10,
          9,
          9,
          8,
          8,
          7,
          6,
          6,
          6,
          5,
          5,
          5,
          5,
          5,
          5,
          5,
          4,
          4,
          4,
          4,
          4,
          4,
          4,
          4,
          4,
          3,
          3,
          3,
          3,
          3,
          3,
          3,
          3,
          3,
          3,
          3,
          3
         ],
         "xaxis": "x",
         "y": [
          "pytorch/pytorch",
          "numpy/numpy",
          null,
          "scipy/scipy",
          "pytorch/ao",
          "openxla/xla",
          "llvm/llvm-project",
          "tinygrad/tinygrad",
          "pytorch/tutorials",
          "google/jax",
          "pytorch/executorch",
          "tensorflow/tensorflow",
          "pytorch/test-infra",
          "pytorch/torchtitan",
          "pytorch/builder",
          "pytorch/torchtune",
          "pytorch/benchmark",
          "pytorch/xla",
          "networkx/networkx",
          "triton-lang/triton",
          "scientific-python/blog.scientific-python.org",
          "python/cpython",
          "astral-sh/ruff",
          "scikit-learn/scikit-learn",
          "huggingface/transformers",
          "openxla/stablehlo",
          "scientific-python/specs",
          "astropy/astropy",
          "numpy/numpy.org",
          "numpy/numpydoc",
          "thuml/depyf",
          "pandas-dev/pandas",
          "pytorch/FBGEMM",
          "OpenMathLib/OpenBLAS",
          "scipy-lectures/scientific-python-lectures",
          "sympy/sympy",
          "HigherOrderCO/Bend",
          "matplotlib/matplotlib",
          "networkx/nx-parallel",
          "airspeed-velocity/asv",
          "pytorch-labs/float8_experimental",
          "Lightning-AI/lightning-thunder",
          "scientific-python/scientific-python.org",
          "scipy-conference/scipy_proceedings",
          "pydata/pydata-sphinx-theme",
          "PyWavelets/pywt",
          "mesonbuild/meson-python",
          "openjournals/joss-reviews",
          "Quansight-Labs/free-threaded-compatibility",
          "numpy/doc"
         ],
         "yaxis": "y"
        }
       ],
       "layout": {
        "barmode": "relative",
        "legend": {
         "tracegroupgap": 0
        },
        "margin": {
         "t": 60
        },
        "template": {
         "data": {
          "bar": [
           {
            "error_x": {
             "color": "#2a3f5f"
            },
            "error_y": {
             "color": "#2a3f5f"
            },
            "marker": {
             "line": {
              "color": "#E5ECF6",
              "width": 0.5
             },
             "pattern": {
              "fillmode": "overlay",
              "size": 10,
              "solidity": 0.2
             }
            },
            "type": "bar"
           }
          ],
          "barpolar": [
           {
            "marker": {
             "line": {
              "color": "#E5ECF6",
              "width": 0.5
             },
             "pattern": {
              "fillmode": "overlay",
              "size": 10,
              "solidity": 0.2
             }
            },
            "type": "barpolar"
           }
          ],
          "carpet": [
           {
            "aaxis": {
             "endlinecolor": "#2a3f5f",
             "gridcolor": "white",
             "linecolor": "white",
             "minorgridcolor": "white",
             "startlinecolor": "#2a3f5f"
            },
            "baxis": {
             "endlinecolor": "#2a3f5f",
             "gridcolor": "white",
             "linecolor": "white",
             "minorgridcolor": "white",
             "startlinecolor": "#2a3f5f"
            },
            "type": "carpet"
           }
          ],
          "choropleth": [
           {
            "colorbar": {
             "outlinewidth": 0,
             "ticks": ""
            },
            "type": "choropleth"
           }
          ],
          "contour": [
           {
            "colorbar": {
             "outlinewidth": 0,
             "ticks": ""
            },
            "colorscale": [
             [
              0,
              "#0d0887"
             ],
             [
              0.1111111111111111,
              "#46039f"
             ],
             [
              0.2222222222222222,
              "#7201a8"
             ],
             [
              0.3333333333333333,
              "#9c179e"
             ],
             [
              0.4444444444444444,
              "#bd3786"
             ],
             [
              0.5555555555555556,
              "#d8576b"
             ],
             [
              0.6666666666666666,
              "#ed7953"
             ],
             [
              0.7777777777777778,
              "#fb9f3a"
             ],
             [
              0.8888888888888888,
              "#fdca26"
             ],
             [
              1,
              "#f0f921"
             ]
            ],
            "type": "contour"
           }
          ],
          "contourcarpet": [
           {
            "colorbar": {
             "outlinewidth": 0,
             "ticks": ""
            },
            "type": "contourcarpet"
           }
          ],
          "heatmap": [
           {
            "colorbar": {
             "outlinewidth": 0,
             "ticks": ""
            },
            "colorscale": [
             [
              0,
              "#0d0887"
             ],
             [
              0.1111111111111111,
              "#46039f"
             ],
             [
              0.2222222222222222,
              "#7201a8"
             ],
             [
              0.3333333333333333,
              "#9c179e"
             ],
             [
              0.4444444444444444,
              "#bd3786"
             ],
             [
              0.5555555555555556,
              "#d8576b"
             ],
             [
              0.6666666666666666,
              "#ed7953"
             ],
             [
              0.7777777777777778,
              "#fb9f3a"
             ],
             [
              0.8888888888888888,
              "#fdca26"
             ],
             [
              1,
              "#f0f921"
             ]
            ],
            "type": "heatmap"
           }
          ],
          "heatmapgl": [
           {
            "colorbar": {
             "outlinewidth": 0,
             "ticks": ""
            },
            "colorscale": [
             [
              0,
              "#0d0887"
             ],
             [
              0.1111111111111111,
              "#46039f"
             ],
             [
              0.2222222222222222,
              "#7201a8"
             ],
             [
              0.3333333333333333,
              "#9c179e"
             ],
             [
              0.4444444444444444,
              "#bd3786"
             ],
             [
              0.5555555555555556,
              "#d8576b"
             ],
             [
              0.6666666666666666,
              "#ed7953"
             ],
             [
              0.7777777777777778,
              "#fb9f3a"
             ],
             [
              0.8888888888888888,
              "#fdca26"
             ],
             [
              1,
              "#f0f921"
             ]
            ],
            "type": "heatmapgl"
           }
          ],
          "histogram": [
           {
            "marker": {
             "pattern": {
              "fillmode": "overlay",
              "size": 10,
              "solidity": 0.2
             }
            },
            "type": "histogram"
           }
          ],
          "histogram2d": [
           {
            "colorbar": {
             "outlinewidth": 0,
             "ticks": ""
            },
            "colorscale": [
             [
              0,
              "#0d0887"
             ],
             [
              0.1111111111111111,
              "#46039f"
             ],
             [
              0.2222222222222222,
              "#7201a8"
             ],
             [
              0.3333333333333333,
              "#9c179e"
             ],
             [
              0.4444444444444444,
              "#bd3786"
             ],
             [
              0.5555555555555556,
              "#d8576b"
             ],
             [
              0.6666666666666666,
              "#ed7953"
             ],
             [
              0.7777777777777778,
              "#fb9f3a"
             ],
             [
              0.8888888888888888,
              "#fdca26"
             ],
             [
              1,
              "#f0f921"
             ]
            ],
            "type": "histogram2d"
           }
          ],
          "histogram2dcontour": [
           {
            "colorbar": {
             "outlinewidth": 0,
             "ticks": ""
            },
            "colorscale": [
             [
              0,
              "#0d0887"
             ],
             [
              0.1111111111111111,
              "#46039f"
             ],
             [
              0.2222222222222222,
              "#7201a8"
             ],
             [
              0.3333333333333333,
              "#9c179e"
             ],
             [
              0.4444444444444444,
              "#bd3786"
             ],
             [
              0.5555555555555556,
              "#d8576b"
             ],
             [
              0.6666666666666666,
              "#ed7953"
             ],
             [
              0.7777777777777778,
              "#fb9f3a"
             ],
             [
              0.8888888888888888,
              "#fdca26"
             ],
             [
              1,
              "#f0f921"
             ]
            ],
            "type": "histogram2dcontour"
           }
          ],
          "mesh3d": [
           {
            "colorbar": {
             "outlinewidth": 0,
             "ticks": ""
            },
            "type": "mesh3d"
           }
          ],
          "parcoords": [
           {
            "line": {
             "colorbar": {
              "outlinewidth": 0,
              "ticks": ""
             }
            },
            "type": "parcoords"
           }
          ],
          "pie": [
           {
            "automargin": true,
            "type": "pie"
           }
          ],
          "scatter": [
           {
            "fillpattern": {
             "fillmode": "overlay",
             "size": 10,
             "solidity": 0.2
            },
            "type": "scatter"
           }
          ],
          "scatter3d": [
           {
            "line": {
             "colorbar": {
              "outlinewidth": 0,
              "ticks": ""
             }
            },
            "marker": {
             "colorbar": {
              "outlinewidth": 0,
              "ticks": ""
             }
            },
            "type": "scatter3d"
           }
          ],
          "scattercarpet": [
           {
            "marker": {
             "colorbar": {
              "outlinewidth": 0,
              "ticks": ""
             }
            },
            "type": "scattercarpet"
           }
          ],
          "scattergeo": [
           {
            "marker": {
             "colorbar": {
              "outlinewidth": 0,
              "ticks": ""
             }
            },
            "type": "scattergeo"
           }
          ],
          "scattergl": [
           {
            "marker": {
             "colorbar": {
              "outlinewidth": 0,
              "ticks": ""
             }
            },
            "type": "scattergl"
           }
          ],
          "scattermapbox": [
           {
            "marker": {
             "colorbar": {
              "outlinewidth": 0,
              "ticks": ""
             }
            },
            "type": "scattermapbox"
           }
          ],
          "scatterpolar": [
           {
            "marker": {
             "colorbar": {
              "outlinewidth": 0,
              "ticks": ""
             }
            },
            "type": "scatterpolar"
           }
          ],
          "scatterpolargl": [
           {
            "marker": {
             "colorbar": {
              "outlinewidth": 0,
              "ticks": ""
             }
            },
            "type": "scatterpolargl"
           }
          ],
          "scatterternary": [
           {
            "marker": {
             "colorbar": {
              "outlinewidth": 0,
              "ticks": ""
             }
            },
            "type": "scatterternary"
           }
          ],
          "surface": [
           {
            "colorbar": {
             "outlinewidth": 0,
             "ticks": ""
            },
            "colorscale": [
             [
              0,
              "#0d0887"
             ],
             [
              0.1111111111111111,
              "#46039f"
             ],
             [
              0.2222222222222222,
              "#7201a8"
             ],
             [
              0.3333333333333333,
              "#9c179e"
             ],
             [
              0.4444444444444444,
              "#bd3786"
             ],
             [
              0.5555555555555556,
              "#d8576b"
             ],
             [
              0.6666666666666666,
              "#ed7953"
             ],
             [
              0.7777777777777778,
              "#fb9f3a"
             ],
             [
              0.8888888888888888,
              "#fdca26"
             ],
             [
              1,
              "#f0f921"
             ]
            ],
            "type": "surface"
           }
          ],
          "table": [
           {
            "cells": {
             "fill": {
              "color": "#EBF0F8"
             },
             "line": {
              "color": "white"
             }
            },
            "header": {
             "fill": {
              "color": "#C8D4E3"
             },
             "line": {
              "color": "white"
             }
            },
            "type": "table"
           }
          ]
         },
         "layout": {
          "annotationdefaults": {
           "arrowcolor": "#2a3f5f",
           "arrowhead": 0,
           "arrowwidth": 1
          },
          "autotypenumbers": "strict",
          "coloraxis": {
           "colorbar": {
            "outlinewidth": 0,
            "ticks": ""
           }
          },
          "colorscale": {
           "diverging": [
            [
             0,
             "#8e0152"
            ],
            [
             0.1,
             "#c51b7d"
            ],
            [
             0.2,
             "#de77ae"
            ],
            [
             0.3,
             "#f1b6da"
            ],
            [
             0.4,
             "#fde0ef"
            ],
            [
             0.5,
             "#f7f7f7"
            ],
            [
             0.6,
             "#e6f5d0"
            ],
            [
             0.7,
             "#b8e186"
            ],
            [
             0.8,
             "#7fbc41"
            ],
            [
             0.9,
             "#4d9221"
            ],
            [
             1,
             "#276419"
            ]
           ],
           "sequential": [
            [
             0,
             "#0d0887"
            ],
            [
             0.1111111111111111,
             "#46039f"
            ],
            [
             0.2222222222222222,
             "#7201a8"
            ],
            [
             0.3333333333333333,
             "#9c179e"
            ],
            [
             0.4444444444444444,
             "#bd3786"
            ],
            [
             0.5555555555555556,
             "#d8576b"
            ],
            [
             0.6666666666666666,
             "#ed7953"
            ],
            [
             0.7777777777777778,
             "#fb9f3a"
            ],
            [
             0.8888888888888888,
             "#fdca26"
            ],
            [
             1,
             "#f0f921"
            ]
           ],
           "sequentialminus": [
            [
             0,
             "#0d0887"
            ],
            [
             0.1111111111111111,
             "#46039f"
            ],
            [
             0.2222222222222222,
             "#7201a8"
            ],
            [
             0.3333333333333333,
             "#9c179e"
            ],
            [
             0.4444444444444444,
             "#bd3786"
            ],
            [
             0.5555555555555556,
             "#d8576b"
            ],
            [
             0.6666666666666666,
             "#ed7953"
            ],
            [
             0.7777777777777778,
             "#fb9f3a"
            ],
            [
             0.8888888888888888,
             "#fdca26"
            ],
            [
             1,
             "#f0f921"
            ]
           ]
          },
          "colorway": [
           "#636efa",
           "#EF553B",
           "#00cc96",
           "#ab63fa",
           "#FFA15A",
           "#19d3f3",
           "#FF6692",
           "#B6E880",
           "#FF97FF",
           "#FECB52"
          ],
          "font": {
           "color": "#2a3f5f"
          },
          "geo": {
           "bgcolor": "white",
           "lakecolor": "white",
           "landcolor": "#E5ECF6",
           "showlakes": true,
           "showland": true,
           "subunitcolor": "white"
          },
          "hoverlabel": {
           "align": "left"
          },
          "hovermode": "closest",
          "mapbox": {
           "style": "light"
          },
          "paper_bgcolor": "white",
          "plot_bgcolor": "#E5ECF6",
          "polar": {
           "angularaxis": {
            "gridcolor": "white",
            "linecolor": "white",
            "ticks": ""
           },
           "bgcolor": "#E5ECF6",
           "radialaxis": {
            "gridcolor": "white",
            "linecolor": "white",
            "ticks": ""
           }
          },
          "scene": {
           "xaxis": {
            "backgroundcolor": "#E5ECF6",
            "gridcolor": "white",
            "gridwidth": 2,
            "linecolor": "white",
            "showbackground": true,
            "ticks": "",
            "zerolinecolor": "white"
           },
           "yaxis": {
            "backgroundcolor": "#E5ECF6",
            "gridcolor": "white",
            "gridwidth": 2,
            "linecolor": "white",
            "showbackground": true,
            "ticks": "",
            "zerolinecolor": "white"
           },
           "zaxis": {
            "backgroundcolor": "#E5ECF6",
            "gridcolor": "white",
            "gridwidth": 2,
            "linecolor": "white",
            "showbackground": true,
            "ticks": "",
            "zerolinecolor": "white"
           }
          },
          "shapedefaults": {
           "line": {
            "color": "#2a3f5f"
           }
          },
          "ternary": {
           "aaxis": {
            "gridcolor": "white",
            "linecolor": "white",
            "ticks": ""
           },
           "baxis": {
            "gridcolor": "white",
            "linecolor": "white",
            "ticks": ""
           },
           "bgcolor": "#E5ECF6",
           "caxis": {
            "gridcolor": "white",
            "linecolor": "white",
            "ticks": ""
           }
          },
          "title": {
           "x": 0.05
          },
          "xaxis": {
           "automargin": true,
           "gridcolor": "white",
           "linecolor": "white",
           "ticks": "",
           "title": {
            "standoff": 15
           },
           "zerolinecolor": "white",
           "zerolinewidth": 2
          },
          "yaxis": {
           "automargin": true,
           "gridcolor": "white",
           "linecolor": "white",
           "ticks": "",
           "title": {
            "standoff": 15
           },
           "zerolinecolor": "white",
           "zerolinewidth": 2
          }
         }
        },
        "xaxis": {
         "anchor": "y",
         "domain": [
          0,
          1
         ],
         "title": {
          "text": "repo_cntrb_counts"
         }
        },
        "yaxis": {
         "anchor": "x",
         "domain": [
          0,
          1
         ],
         "title": {
          "text": "repo_gits"
         }
        }
       }
      }
     },
     "metadata": {},
     "output_type": "display_data"
    }
   ],
   "source": [
    "fig.show()"
   ]
  },
  {
   "cell_type": "markdown",
   "metadata": {},
   "source": [
    "**Note**: \n",
    "\n",
    "Image below omits many github URLs associated with the real column rendered.\n",
    "Consider running notebook for holistic visualization."
   ]
  },
  {
   "cell_type": "code",
   "execution_count": 22,
   "metadata": {},
   "outputs": [
    {
     "data": {
      "image/png": "[encoded data removed]",
      "text/plain": [
       "<IPython.core.display.Image object>"
      ]
     },
     "execution_count": 22,
     "metadata": {},
     "output_type": "execute_result"
    }
   ],
   "source": [
    "fig.write_image(\"repo_cntrb_counts.png\")\n",
    "Image(filename=\"repo_cntrb_counts.png\")"
   ]
  },
  {
   "cell_type": "code",
   "execution_count": 23,
   "metadata": {},
   "outputs": [
    {
     "data": {
      "text/html": [
       "<div>\n",
       "<style scoped>\n",
       "    .dataframe tbody tr th:only-of-type {\n",
       "        vertical-align: middle;\n",
       "    }\n",
       "\n",
       "    .dataframe tbody tr th {\n",
       "        vertical-align: top;\n",
       "    }\n",
       "\n",
       "    .dataframe thead th {\n",
       "        text-align: right;\n",
       "    }\n",
       "</style>\n",
       "<table border=\"1\" class=\"dataframe\">\n",
       "  <thead>\n",
       "    <tr style=\"text-align: right;\">\n",
       "      <th></th>\n",
       "      <th>repo_gits</th>\n",
       "      <th>repo_cntrb_counts</th>\n",
       "    </tr>\n",
       "  </thead>\n",
       "  <tbody>\n",
       "    <tr>\n",
       "      <th>2</th>\n",
       "      <td>pytorch/pytorch</td>\n",
       "      <td>70</td>\n",
       "    </tr>\n",
       "    <tr>\n",
       "      <th>35</th>\n",
       "      <td>numpy/numpy</td>\n",
       "      <td>26</td>\n",
       "    </tr>\n",
       "    <tr>\n",
       "      <th>347</th>\n",
       "      <td>NaN</td>\n",
       "      <td>20</td>\n",
       "    </tr>\n",
       "    <tr>\n",
       "      <th>55</th>\n",
       "      <td>scipy/scipy</td>\n",
       "      <td>19</td>\n",
       "    </tr>\n",
       "    <tr>\n",
       "      <th>239</th>\n",
       "      <td>pytorch/ao</td>\n",
       "      <td>19</td>\n",
       "    </tr>\n",
       "    <tr>\n",
       "      <th>7</th>\n",
       "      <td>openxla/xla</td>\n",
       "      <td>17</td>\n",
       "    </tr>\n",
       "    <tr>\n",
       "      <th>6</th>\n",
       "      <td>llvm/llvm-project</td>\n",
       "      <td>14</td>\n",
       "    </tr>\n",
       "    <tr>\n",
       "      <th>121</th>\n",
       "      <td>tinygrad/tinygrad</td>\n",
       "      <td>12</td>\n",
       "    </tr>\n",
       "    <tr>\n",
       "      <th>235</th>\n",
       "      <td>pytorch/tutorials</td>\n",
       "      <td>12</td>\n",
       "    </tr>\n",
       "    <tr>\n",
       "      <th>202</th>\n",
       "      <td>google/jax</td>\n",
       "      <td>12</td>\n",
       "    </tr>\n",
       "    <tr>\n",
       "      <th>247</th>\n",
       "      <td>pytorch/executorch</td>\n",
       "      <td>11</td>\n",
       "    </tr>\n",
       "    <tr>\n",
       "      <th>8</th>\n",
       "      <td>tensorflow/tensorflow</td>\n",
       "      <td>11</td>\n",
       "    </tr>\n",
       "    <tr>\n",
       "      <th>231</th>\n",
       "      <td>pytorch/test-infra</td>\n",
       "      <td>11</td>\n",
       "    </tr>\n",
       "    <tr>\n",
       "      <th>542</th>\n",
       "      <td>pytorch/torchtitan</td>\n",
       "      <td>10</td>\n",
       "    </tr>\n",
       "    <tr>\n",
       "      <th>229</th>\n",
       "      <td>pytorch/builder</td>\n",
       "      <td>9</td>\n",
       "    </tr>\n",
       "    <tr>\n",
       "      <th>267</th>\n",
       "      <td>pytorch/torchtune</td>\n",
       "      <td>9</td>\n",
       "    </tr>\n",
       "    <tr>\n",
       "      <th>238</th>\n",
       "      <td>pytorch/benchmark</td>\n",
       "      <td>8</td>\n",
       "    </tr>\n",
       "    <tr>\n",
       "      <th>241</th>\n",
       "      <td>pytorch/xla</td>\n",
       "      <td>8</td>\n",
       "    </tr>\n",
       "    <tr>\n",
       "      <th>339</th>\n",
       "      <td>networkx/networkx</td>\n",
       "      <td>7</td>\n",
       "    </tr>\n",
       "    <tr>\n",
       "      <th>157</th>\n",
       "      <td>triton-lang/triton</td>\n",
       "      <td>6</td>\n",
       "    </tr>\n",
       "    <tr>\n",
       "      <th>36</th>\n",
       "      <td>scientific-python/blog.scientific-python.org</td>\n",
       "      <td>6</td>\n",
       "    </tr>\n",
       "    <tr>\n",
       "      <th>320</th>\n",
       "      <td>python/cpython</td>\n",
       "      <td>6</td>\n",
       "    </tr>\n",
       "    <tr>\n",
       "      <th>68</th>\n",
       "      <td>astral-sh/ruff</td>\n",
       "      <td>5</td>\n",
       "    </tr>\n",
       "    <tr>\n",
       "      <th>78</th>\n",
       "      <td>scikit-learn/scikit-learn</td>\n",
       "      <td>5</td>\n",
       "    </tr>\n",
       "    <tr>\n",
       "      <th>368</th>\n",
       "      <td>huggingface/transformers</td>\n",
       "      <td>5</td>\n",
       "    </tr>\n",
       "    <tr>\n",
       "      <th>9</th>\n",
       "      <td>openxla/stablehlo</td>\n",
       "      <td>5</td>\n",
       "    </tr>\n",
       "    <tr>\n",
       "      <th>37</th>\n",
       "      <td>scientific-python/specs</td>\n",
       "      <td>5</td>\n",
       "    </tr>\n",
       "    <tr>\n",
       "      <th>471</th>\n",
       "      <td>astropy/astropy</td>\n",
       "      <td>5</td>\n",
       "    </tr>\n",
       "    <tr>\n",
       "      <th>52</th>\n",
       "      <td>numpy/numpy.org</td>\n",
       "      <td>5</td>\n",
       "    </tr>\n",
       "    <tr>\n",
       "      <th>70</th>\n",
       "      <td>numpy/numpydoc</td>\n",
       "      <td>4</td>\n",
       "    </tr>\n",
       "    <tr>\n",
       "      <th>853</th>\n",
       "      <td>thuml/depyf</td>\n",
       "      <td>4</td>\n",
       "    </tr>\n",
       "    <tr>\n",
       "      <th>84</th>\n",
       "      <td>pandas-dev/pandas</td>\n",
       "      <td>4</td>\n",
       "    </tr>\n",
       "    <tr>\n",
       "      <th>920</th>\n",
       "      <td>pytorch/FBGEMM</td>\n",
       "      <td>4</td>\n",
       "    </tr>\n",
       "    <tr>\n",
       "      <th>128</th>\n",
       "      <td>OpenMathLib/OpenBLAS</td>\n",
       "      <td>4</td>\n",
       "    </tr>\n",
       "    <tr>\n",
       "      <th>38</th>\n",
       "      <td>scipy-lectures/scientific-python-lectures</td>\n",
       "      <td>4</td>\n",
       "    </tr>\n",
       "    <tr>\n",
       "      <th>106</th>\n",
       "      <td>sympy/sympy</td>\n",
       "      <td>4</td>\n",
       "    </tr>\n",
       "    <tr>\n",
       "      <th>762</th>\n",
       "      <td>HigherOrderCO/Bend</td>\n",
       "      <td>4</td>\n",
       "    </tr>\n",
       "    <tr>\n",
       "      <th>316</th>\n",
       "      <td>matplotlib/matplotlib</td>\n",
       "      <td>4</td>\n",
       "    </tr>\n",
       "    <tr>\n",
       "      <th>337</th>\n",
       "      <td>networkx/nx-parallel</td>\n",
       "      <td>3</td>\n",
       "    </tr>\n",
       "    <tr>\n",
       "      <th>306</th>\n",
       "      <td>airspeed-velocity/asv</td>\n",
       "      <td>3</td>\n",
       "    </tr>\n",
       "    <tr>\n",
       "      <th>856</th>\n",
       "      <td>pytorch-labs/float8_experimental</td>\n",
       "      <td>3</td>\n",
       "    </tr>\n",
       "    <tr>\n",
       "      <th>348</th>\n",
       "      <td>Lightning-AI/lightning-thunder</td>\n",
       "      <td>3</td>\n",
       "    </tr>\n",
       "    <tr>\n",
       "      <th>69</th>\n",
       "      <td>scientific-python/scientific-python.org</td>\n",
       "      <td>3</td>\n",
       "    </tr>\n",
       "    <tr>\n",
       "      <th>72</th>\n",
       "      <td>scipy-conference/scipy_proceedings</td>\n",
       "      <td>3</td>\n",
       "    </tr>\n",
       "    <tr>\n",
       "      <th>650</th>\n",
       "      <td>pydata/pydata-sphinx-theme</td>\n",
       "      <td>3</td>\n",
       "    </tr>\n",
       "    <tr>\n",
       "      <th>139</th>\n",
       "      <td>PyWavelets/pywt</td>\n",
       "      <td>3</td>\n",
       "    </tr>\n",
       "    <tr>\n",
       "      <th>138</th>\n",
       "      <td>mesonbuild/meson-python</td>\n",
       "      <td>3</td>\n",
       "    </tr>\n",
       "    <tr>\n",
       "      <th>211</th>\n",
       "      <td>openjournals/joss-reviews</td>\n",
       "      <td>3</td>\n",
       "    </tr>\n",
       "    <tr>\n",
       "      <th>134</th>\n",
       "      <td>Quansight-Labs/free-threaded-compatibility</td>\n",
       "      <td>3</td>\n",
       "    </tr>\n",
       "    <tr>\n",
       "      <th>86</th>\n",
       "      <td>numpy/doc</td>\n",
       "      <td>3</td>\n",
       "    </tr>\n",
       "  </tbody>\n",
       "</table>\n",
       "</div>"
      ],
      "text/plain": [
       "                                        repo_gits  repo_cntrb_counts\n",
       "2                                 pytorch/pytorch                 70\n",
       "35                                    numpy/numpy                 26\n",
       "347                                           NaN                 20\n",
       "55                                    scipy/scipy                 19\n",
       "239                                    pytorch/ao                 19\n",
       "7                                     openxla/xla                 17\n",
       "6                               llvm/llvm-project                 14\n",
       "121                             tinygrad/tinygrad                 12\n",
       "235                             pytorch/tutorials                 12\n",
       "202                                    google/jax                 12\n",
       "247                            pytorch/executorch                 11\n",
       "8                           tensorflow/tensorflow                 11\n",
       "231                            pytorch/test-infra                 11\n",
       "542                            pytorch/torchtitan                 10\n",
       "229                               pytorch/builder                  9\n",
       "267                             pytorch/torchtune                  9\n",
       "238                             pytorch/benchmark                  8\n",
       "241                                   pytorch/xla                  8\n",
       "339                             networkx/networkx                  7\n",
       "157                            triton-lang/triton                  6\n",
       "36   scientific-python/blog.scientific-python.org                  6\n",
       "320                                python/cpython                  6\n",
       "68                                 astral-sh/ruff                  5\n",
       "78                      scikit-learn/scikit-learn                  5\n",
       "368                      huggingface/transformers                  5\n",
       "9                               openxla/stablehlo                  5\n",
       "37                        scientific-python/specs                  5\n",
       "471                               astropy/astropy                  5\n",
       "52                                numpy/numpy.org                  5\n",
       "70                                 numpy/numpydoc                  4\n",
       "853                                   thuml/depyf                  4\n",
       "84                              pandas-dev/pandas                  4\n",
       "920                                pytorch/FBGEMM                  4\n",
       "128                          OpenMathLib/OpenBLAS                  4\n",
       "38      scipy-lectures/scientific-python-lectures                  4\n",
       "106                                   sympy/sympy                  4\n",
       "762                            HigherOrderCO/Bend                  4\n",
       "316                         matplotlib/matplotlib                  4\n",
       "337                          networkx/nx-parallel                  3\n",
       "306                         airspeed-velocity/asv                  3\n",
       "856              pytorch-labs/float8_experimental                  3\n",
       "348                Lightning-AI/lightning-thunder                  3\n",
       "69        scientific-python/scientific-python.org                  3\n",
       "72             scipy-conference/scipy_proceedings                  3\n",
       "650                    pydata/pydata-sphinx-theme                  3\n",
       "139                               PyWavelets/pywt                  3\n",
       "138                       mesonbuild/meson-python                  3\n",
       "211                     openjournals/joss-reviews                  3\n",
       "134    Quansight-Labs/free-threaded-compatibility                  3\n",
       "86                                      numpy/doc                  3"
      ]
     },
     "execution_count": 23,
     "metadata": {},
     "output_type": "execute_result"
    }
   ],
   "source": [
    "# Here's the list of the top-50 most mutual repos among pagerank-top contributors\n",
    "df_for_fig[:FINAL_NUM_COMMON_REPOS]"
   ]
  },
  {
   "cell_type": "markdown",
   "metadata": {},
   "source": [
    "\n",
    "\n",
    "## Interpretation\n",
    "\n",
    "We're expecting that the \"repos of most significant mutual involvement\" should include the seed projects because, by definition, we know that each of the\\\n",
    "contributors considered begins, in our analysis, as a past contributor to these projects.\n",
    "\n",
    "However, we're not attempting a perfect retrospective analysis of contributor involvement- our dataset is of events going back only so far (approx. 6 mos at time of writing). \\\n",
    "Therefore, it's not surprising that (wavm/wavm) does NOT appear in the top-50 we generate here, unlike wasmtime, wasmedge, and wasmer. In the near past, it may not have the \\\n",
    "same traction it did when the resource that we used to identify seed projects was created.\n",
    "\n",
    "These are useful results because they exhibit, at a glance, high WASM-specificity. With these top 50 projects, we are able to look \"beyond\" our initial seed projects, acknowledging \\\n",
    "highly mutual projects within this project space that we couldn't, without significant specialized knowledge, identify on our own.\n",
    "\n",
    "## Next Steps\n",
    "\n",
    "Set the 'seed' of another cycle of discovery to these 50 repos, called seed_1 (the successor to seed_0). Using this new, more inclusive seed_1, build a new collaboration network \\\n",
    "and rank the contributors in the new network. We infer that there will be significant overlap between those that are most involved in the seed_0 analysis phase as those identified \\\n",
    "in the seed_1 analysis phase. \n",
    "\n",
    "Re-run this analysis, producing a prospective seed_2. Repeat, eventually generating seed_n. When seed_(n-1) is sufficiently similar to seed_n, we'll conclude that the identified \\\n",
    "\"neighborhood\" of the final seed repos has converged.\n",
    "\n",
    "As an interesting alternate thread, consider the use of pagerank-central contributors as done in this notebook. Instead of finding repos of largest mutuality, use the Events themselves \\\n",
    "with appropriate filtering to find those projects of highest sub-population involvement, at least numerically, and compare against this notebook. (/notebooks/project_discover/repo_discovery). \\\n",
    "Filtering currently in process to remove events associated with heuristically minimally interesting repos.\n",
    "\n",
    "Having a set of repos we can confidently say are \"highly mutual\" at least, we can use network science to visualize the neighborhood connectome over time (notebooks/graph_analysis/approaches). \\\n"
   ]
  },
  {
   "cell_type": "markdown",
   "metadata": {},
   "source": []
  }
 ],
 "metadata": {
  "kernelspec": {
   "display_name": "Python 3",
   "language": "python",
   "name": "python3"
  },
  "language_info": {
   "codemirror_mode": {
    "name": "ipython",
    "version": 3
   },
   "file_extension": ".py",
   "mimetype": "text/x-python",
   "name": "python",
   "nbconvert_exporter": "python",
   "pygments_lexer": "ipython3",
   "version": "3.9.6"
  }
 },
 "nbformat": 4,
 "nbformat_minor": 2
}
