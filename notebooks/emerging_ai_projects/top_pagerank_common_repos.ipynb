{
 "cells": [
  {
   "cell_type": "markdown",
   "metadata": {},
   "source": [
    "# AI Common Repositories of top contributors (based on pagerank score)"
   ]
  },
  {
   "cell_type": "markdown",
   "metadata": {},
   "source": [
    "# Table of Contents\n",
    "- [Introduction](#introduction)\n",
    "- [Database Connection](#database-connection)\n",
    "- [Get Page Rank Scores](#read-pagerank-scores)\n",
    "- [Fetch Contribution Event Stream](#contribution-event-stream)\n",
    "- [Page Rank Analysis](#page-rank-analysis)\n",
    "  - [Top 10% page rank score havers](#who-are-the-top_10_percent_considered-of-the-pagerank-score-havers)\n",
    "  - [Find events of each contributor](#find-events-for-each-of-the-contributors)\n",
    "- [Conclusion](#conclusion)\n",
    "- [Next Steps](#next-steps)"
   ]
  },
  {
   "cell_type": "markdown",
   "metadata": {},
   "source": [
    "## Introduction\n",
    "\n",
    "### Motivation and Rationale\n",
    "\n",
    "Inferring that a contributor's connectedness is a useful proxy for their importance\n",
    "or involvement in a community, take the top p% of contributors \n",
    "by their pagerank score and identify which repos they also belong/contribute to.\n",
    "\n",
    "Compare involvement to find maximal overlap among top percentage of contributors.\n",
    "\n",
    "### Background\n",
    "\n",
    "We've started from a 'seed' of repos that seem highly likely to be a \"part of the AI/ML neighborhood of projects.\" Our seed that is the initial list of respoitories can be found [here](ai_repos.json).\n",
    "\n",
    "I would like to thank the original author, James Kunstle for implementing this notebook, repo discovery using page rank for WASM ecosystem.\n",
    "\n",
    "### Context of the Second Iteration\n",
    "\n",
    "This is the second iteration of the process, now applied to AI repositories. The first iteration was conducted on WebAssembly (Wasm) repositories, where the goal was to identify top repositories using a network analysis approach, specifically focusing on the PageRank algorithm. By applying a similar methodology to AI repositories, the goal is to uncover key insights and influential repositories in the AI domain, leveraging the lessons learned from the Wasm analysis.\n",
    "\n",
    "### Summary of the WASM Iteration\n",
    "\n",
    "In the Wasm iteration, we explored the network of repositories to identify those that play a central role in the ecosystem. The key findings included:\n",
    "\n",
    "- Network Structure: The Wasm ecosystem had a distinct set of core repositories that were highly interconnected, revealing key contributors and projects driving the ecosystem.\n",
    "- PageRank Analysis: Repositories like `wasmedge`, `wasmtime`, and `wasmer` emerged as influential nodes, having high PageRank scores. These repositories are pivotal in advancing the Wasm ecosystem, contributing significantly to both development and adoption.\n",
    "- Community Insights: The analysis provided insights into the distribution of contributions and collaborations among repositories, highlighting the importance of certain projects in the broader Wasm community.\n",
    "\n",
    "This initial analysis provided a foundational understanding of how network analysis can be used to discover and rank influential repositories within a specific domain. In this second iteration, similar techniques will be applied to the AI domain to uncover key players and trends within the AI open-source ecosystem."
   ]
  },
  {
   "cell_type": "markdown",
   "metadata": {},
   "source": [
    "## Imports"
   ]
  },
  {
   "cell_type": "code",
   "execution_count": 72,
   "metadata": {},
   "outputs": [],
   "source": [
    "import pandas as pd\n",
    "\n",
    "pd.set_option('display.max_rows', None)  # Display all rows\n",
    "pd.set_option('display.max_columns', None)  # Display all columns\n",
    "pd.set_option('display.width', None)  # Auto-detect terminal width\n",
    "\n",
    "# Or, set multiple options at once:\n",
    "pd.set_option('display.max_rows', 100, 'display.max_columns', 10)"
   ]
  },
  {
   "cell_type": "code",
   "execution_count": 73,
   "metadata": {},
   "outputs": [],
   "source": [
    "import pandas as pd\n",
    "import sqlalchemy as salc\n",
    "import plotly.express as px\n",
    "import json\n",
    "from IPython.display import Image\n",
    "from collections import Counter"
   ]
  },
  {
   "cell_type": "markdown",
   "metadata": {},
   "source": [
    "## Database Connection"
   ]
  },
  {
   "cell_type": "markdown",
   "metadata": {},
   "source": [
    "Connect to the Postgresql database."
   ]
  },
  {
   "cell_type": "code",
   "execution_count": 74,
   "metadata": {},
   "outputs": [],
   "source": [
    "# read configuration file\n",
    "with open(\"data/il_ai_creds.json\") as config_file:\n",
    "    config = json.load(config_file)\n",
    "\n",
    "# define cx string\n",
    "database_connection_string = f\"postgresql+psycopg2://{config['user']}:{config['password']}@{config['host']}:{config['port']}/{config['database']}\"\n",
    "\n",
    "# create engine\n",
    "engine = salc.create_engine(\n",
    "    database_connection_string,\n",
    "    connect_args={'options': f\"-csearch_path={'augur_data'}\"})"
   ]
  },
  {
   "cell_type": "markdown",
   "metadata": {},
   "source": [
    "## Global Switches"
   ]
  },
  {
   "cell_type": "markdown",
   "metadata": {},
   "source": [
    "Let's set the switches or the flags which are useful in the later sections."
   ]
  },
  {
   "cell_type": "code",
   "execution_count": 75,
   "metadata": {},
   "outputs": [],
   "source": [
    "# Whether we're using df_event_stream.parquet or querying the source database directly.\n",
    "LOCAL_DATA = False \n",
    "\n",
    "# what percent of the top contributors by pagerank should we consider?\n",
    "TOP_PERCENT_CONSIDERED = 0.10 \n",
    "\n",
    "# how many \"top repos\" should we output at the end?\n",
    "FINAL_NUM_COMMON_REPOS = 50"
   ]
  },
  {
   "cell_type": "markdown",
   "metadata": {},
   "source": [
    "## Read pagerank scores\n",
    "\n",
    "These scores are calculated by building a collaboration graph of the contributors in four projects\n",
    "and running the pagerank algorithm on the graph. The nodes of the graph are individual contributors,\n",
    "and the edges are weighted by the historical 'connectedness' between any two nodes. Connectedness increases\n",
    "when two individuals work on something together (PR, issue, commit). \n",
    "\n",
    "The described process is implemented in Rappel/notebooks/emerging_ai_projects/collabs.ipynb."
   ]
  },
  {
   "cell_type": "code",
   "execution_count": 76,
   "metadata": {},
   "outputs": [
    {
     "data": {
      "text/html": [
       "<div>\n",
       "<style scoped>\n",
       "    .dataframe tbody tr th:only-of-type {\n",
       "        vertical-align: middle;\n",
       "    }\n",
       "\n",
       "    .dataframe tbody tr th {\n",
       "        vertical-align: top;\n",
       "    }\n",
       "\n",
       "    .dataframe thead th {\n",
       "        text-align: right;\n",
       "    }\n",
       "</style>\n",
       "<table border=\"1\" class=\"dataframe\">\n",
       "  <thead>\n",
       "    <tr style=\"text-align: right;\">\n",
       "      <th></th>\n",
       "      <th>cntrb_id</th>\n",
       "      <th>score</th>\n",
       "    </tr>\n",
       "  </thead>\n",
       "  <tbody>\n",
       "    <tr>\n",
       "      <th>0</th>\n",
       "      <td>010000b4-3700-0000-0000-000000000000</td>\n",
       "      <td>5.469449</td>\n",
       "    </tr>\n",
       "    <tr>\n",
       "      <th>1</th>\n",
       "      <td>01012f1b-7f00-0000-0000-000000000000</td>\n",
       "      <td>10.259513</td>\n",
       "    </tr>\n",
       "    <tr>\n",
       "      <th>2</th>\n",
       "      <td>010000f2-1900-0000-0000-000000000000</td>\n",
       "      <td>7.863005</td>\n",
       "    </tr>\n",
       "    <tr>\n",
       "      <th>3</th>\n",
       "      <td>01000117-3e00-0000-0000-000000000000</td>\n",
       "      <td>5.081839</td>\n",
       "    </tr>\n",
       "    <tr>\n",
       "      <th>4</th>\n",
       "      <td>0100012d-d800-0000-0000-000000000000</td>\n",
       "      <td>6.613582</td>\n",
       "    </tr>\n",
       "  </tbody>\n",
       "</table>\n",
       "</div>"
      ],
      "text/plain": [
       "                               cntrb_id      score\n",
       "0  010000b4-3700-0000-0000-000000000000   5.469449\n",
       "1  01012f1b-7f00-0000-0000-000000000000  10.259513\n",
       "2  010000f2-1900-0000-0000-000000000000   7.863005\n",
       "3  01000117-3e00-0000-0000-000000000000   5.081839\n",
       "4  0100012d-d800-0000-0000-000000000000   6.613582"
      ]
     },
     "execution_count": 76,
     "metadata": {},
     "output_type": "execute_result"
    }
   ],
   "source": [
    "df_known_contribs = pd.read_csv('ai_contributor_pagerank.csv')\n",
    "df_known_contribs[\"cntrb_id\"] = df_known_contribs.cntrb_id.astype(str)\n",
    "df_known_contribs.head()"
   ]
  },
  {
   "cell_type": "code",
   "execution_count": 77,
   "metadata": {},
   "outputs": [
    {
     "data": {
      "text/plain": [
       "True"
      ]
     },
     "execution_count": 77,
     "metadata": {},
     "output_type": "execute_result"
    }
   ],
   "source": [
    "'01029da8-8500-0000-0000-000000000000' in df_known_contribs['cntrb_id'].values"
   ]
  },
  {
   "cell_type": "markdown",
   "metadata": {},
   "source": [
    "## Contribution event stream\n",
    "\n",
    "Github provides an API endpoint from which one can query every event that occurs. For instance, if a contributor creates an issue on some repo, that event will be logged in the stream. A downside of this API is that it only serves the most recent two months of data. \n",
    "\n",
    "We want to use this stream to identify the set of repositories that our Known Contributors are also working in that weren't in the initial ecosystem kernel.\n",
    "\n",
    "The database that we use collects this event stream so we can query it from there rather than from Github. This is much faster than relying on the public Github API, and we will continue to collect the data that the API makes available, so over time the analysis that we can do will become richer and more complete. In the Augur database, the table with this information is the `contributor_repo` table."
   ]
  },
  {
   "cell_type": "code",
   "execution_count": 78,
   "metadata": {},
   "outputs": [],
   "source": [
    "event_stream_query = salc.sql.text(\n",
    "    f\"\"\"\n",
    "        SET SCHEMA 'augur_data';\n",
    "        SELECT \n",
    "            c.cntrb_id,\n",
    "            c.event_id,\n",
    "            c.created_at,\n",
    "            c.cntrb_repo_id as repo_id,\n",
    "            c.repo_git,\n",
    "            c.repo_name,\n",
    "            c.gh_repo_id,\n",
    "            c.cntrb_category as event_type\n",
    "        FROM\n",
    "        contributor_repo c\n",
    "    \"\"\")\n",
    "\n",
    "# Check if the data is stored locally or needs to be retrieved from the database\n",
    "if not LOCAL_DATA:\n",
    "    # Connect to the database engine and execute the SQL query to retrieve data\n",
    "    with engine.connect() as conn:\n",
    "        df_event_stream = pd.read_sql_query(event_stream_query, conn)\n",
    "        \n",
    "    # Save the retrieved data as a Parquet file for faster future access        \n",
    "    with open(\"data/df_event_stream.parquet\", \"wb+\") as f:\n",
    "        df_event_stream.cntrb_id = df_event_stream.cntrb_id.astype(str)\n",
    "        df_event_stream.to_parquet(f)\n",
    "else:\n",
    "    # If data is stored locally, read the Parquet file instead of querying the database\n",
    "    with open(\"data/df_event_stream.parquet\", \"rb+\") as f:\n",
    "        df_event_stream = pd.read_parquet(f)\n",
    "        df_event_stream.cntrb_id = df_event_stream.cntrb_id.astype(str)"
   ]
  },
  {
   "cell_type": "code",
   "execution_count": 79,
   "metadata": {},
   "outputs": [
    {
     "data": {
      "text/html": [
       "<div>\n",
       "<style scoped>\n",
       "    .dataframe tbody tr th:only-of-type {\n",
       "        vertical-align: middle;\n",
       "    }\n",
       "\n",
       "    .dataframe tbody tr th {\n",
       "        vertical-align: top;\n",
       "    }\n",
       "\n",
       "    .dataframe thead th {\n",
       "        text-align: right;\n",
       "    }\n",
       "</style>\n",
       "<table border=\"1\" class=\"dataframe\">\n",
       "  <thead>\n",
       "    <tr style=\"text-align: right;\">\n",
       "      <th></th>\n",
       "      <th>cntrb_id</th>\n",
       "      <th>event_id</th>\n",
       "      <th>created_at</th>\n",
       "      <th>repo_id</th>\n",
       "      <th>repo_git</th>\n",
       "      <th>repo_name</th>\n",
       "      <th>gh_repo_id</th>\n",
       "      <th>event_type</th>\n",
       "    </tr>\n",
       "  </thead>\n",
       "  <tbody>\n",
       "    <tr>\n",
       "      <th>0</th>\n",
       "      <td>01001583-8700-0000-0000-000000000000</td>\n",
       "      <td>37039342564</td>\n",
       "      <td>2024-04-01 03:54:33</td>\n",
       "      <td>5</td>\n",
       "      <td>https://api.github.com/repos/AmazingRise/hugo-...</td>\n",
       "      <td>AmazingRise/hugo-theme-diary</td>\n",
       "      <td>220989613</td>\n",
       "      <td>IssueCommentEvent</td>\n",
       "    </tr>\n",
       "    <tr>\n",
       "      <th>1</th>\n",
       "      <td>01001583-8700-0000-0000-000000000000</td>\n",
       "      <td>36966778104</td>\n",
       "      <td>2024-03-28 12:58:59</td>\n",
       "      <td>6</td>\n",
       "      <td>https://api.github.com/repos/AmazingRise/hugo-...</td>\n",
       "      <td>AmazingRise/hugo-theme-diary</td>\n",
       "      <td>220989613</td>\n",
       "      <td>IssueCommentEvent</td>\n",
       "    </tr>\n",
       "    <tr>\n",
       "      <th>2</th>\n",
       "      <td>01001583-8700-0000-0000-000000000000</td>\n",
       "      <td>36927475492</td>\n",
       "      <td>2024-03-27 11:44:16</td>\n",
       "      <td>7</td>\n",
       "      <td>https://api.github.com/repos/AmazingRise/hugo-...</td>\n",
       "      <td>AmazingRise/hugo-theme-diary</td>\n",
       "      <td>220989613</td>\n",
       "      <td>IssuesEvent</td>\n",
       "    </tr>\n",
       "    <tr>\n",
       "      <th>3</th>\n",
       "      <td>01003020-1200-0000-0000-000000000000</td>\n",
       "      <td>39202894121</td>\n",
       "      <td>2024-06-11 17:22:24</td>\n",
       "      <td>1808426</td>\n",
       "      <td>https://api.github.com/repos/fhh2626/BFEE2</td>\n",
       "      <td>fhh2626/BFEE2</td>\n",
       "      <td>322234705</td>\n",
       "      <td>ForkEvent</td>\n",
       "    </tr>\n",
       "    <tr>\n",
       "      <th>4</th>\n",
       "      <td>01003020-1200-0000-0000-000000000000</td>\n",
       "      <td>39169968316</td>\n",
       "      <td>2024-06-10 20:29:29</td>\n",
       "      <td>1808427</td>\n",
       "      <td>https://api.github.com/repos/fhh2626/BFEE2</td>\n",
       "      <td>fhh2626/BFEE2</td>\n",
       "      <td>322234705</td>\n",
       "      <td>IssuesEvent</td>\n",
       "    </tr>\n",
       "  </tbody>\n",
       "</table>\n",
       "</div>"
      ],
      "text/plain": [
       "                               cntrb_id     event_id          created_at  \\\n",
       "0  01001583-8700-0000-0000-000000000000  37039342564 2024-04-01 03:54:33   \n",
       "1  01001583-8700-0000-0000-000000000000  36966778104 2024-03-28 12:58:59   \n",
       "2  01001583-8700-0000-0000-000000000000  36927475492 2024-03-27 11:44:16   \n",
       "3  01003020-1200-0000-0000-000000000000  39202894121 2024-06-11 17:22:24   \n",
       "4  01003020-1200-0000-0000-000000000000  39169968316 2024-06-10 20:29:29   \n",
       "\n",
       "   repo_id                                           repo_git  \\\n",
       "0        5  https://api.github.com/repos/AmazingRise/hugo-...   \n",
       "1        6  https://api.github.com/repos/AmazingRise/hugo-...   \n",
       "2        7  https://api.github.com/repos/AmazingRise/hugo-...   \n",
       "3  1808426         https://api.github.com/repos/fhh2626/BFEE2   \n",
       "4  1808427         https://api.github.com/repos/fhh2626/BFEE2   \n",
       "\n",
       "                      repo_name  gh_repo_id         event_type  \n",
       "0  AmazingRise/hugo-theme-diary   220989613  IssueCommentEvent  \n",
       "1  AmazingRise/hugo-theme-diary   220989613  IssueCommentEvent  \n",
       "2  AmazingRise/hugo-theme-diary   220989613        IssuesEvent  \n",
       "3                 fhh2626/BFEE2   322234705          ForkEvent  \n",
       "4                 fhh2626/BFEE2   322234705        IssuesEvent  "
      ]
     },
     "execution_count": 79,
     "metadata": {},
     "output_type": "execute_result"
    }
   ],
   "source": [
    "df_event_stream.head()"
   ]
  },
  {
   "cell_type": "code",
   "execution_count": 80,
   "metadata": {},
   "outputs": [
    {
     "name": "stdout",
     "output_type": "stream",
     "text": [
      "There are: 6868909 events available\n"
     ]
    }
   ],
   "source": [
    "print(f\"There are: {df_event_stream.shape[0]} events available\")"
   ]
  },
  {
   "cell_type": "markdown",
   "metadata": {},
   "source": [
    "## Page Rank Analysis"
   ]
  },
  {
   "cell_type": "markdown",
   "metadata": {},
   "source": [
    "### Who are the TOP_10_PERCENT_CONSIDERED of the pagerank score-havers?"
   ]
  },
  {
   "cell_type": "markdown",
   "metadata": {},
   "source": [
    "Identify the top 10% of contributors from a dataset based on their scores after sorting by score."
   ]
  },
  {
   "cell_type": "code",
   "execution_count": 81,
   "metadata": {},
   "outputs": [
    {
     "name": "stdout",
     "output_type": "stream",
     "text": [
      "Num in original set: 4984\n",
      "Num in top 10%: 498\n"
     ]
    },
    {
     "data": {
      "text/html": [
       "<div>\n",
       "<style scoped>\n",
       "    .dataframe tbody tr th:only-of-type {\n",
       "        vertical-align: middle;\n",
       "    }\n",
       "\n",
       "    .dataframe tbody tr th {\n",
       "        vertical-align: top;\n",
       "    }\n",
       "\n",
       "    .dataframe thead th {\n",
       "        text-align: right;\n",
       "    }\n",
       "</style>\n",
       "<table border=\"1\" class=\"dataframe\">\n",
       "  <thead>\n",
       "    <tr style=\"text-align: right;\">\n",
       "      <th></th>\n",
       "      <th>cntrb_id</th>\n",
       "      <th>score</th>\n",
       "    </tr>\n",
       "  </thead>\n",
       "  <tbody>\n",
       "    <tr>\n",
       "      <th>2639</th>\n",
       "      <td>0105d3c3-3c00-0000-0000-000000000000</td>\n",
       "      <td>20.000000</td>\n",
       "    </tr>\n",
       "    <tr>\n",
       "      <th>550</th>\n",
       "      <td>010105b7-9400-0000-0000-000000000000</td>\n",
       "      <td>14.141630</td>\n",
       "    </tr>\n",
       "    <tr>\n",
       "      <th>496</th>\n",
       "      <td>01027f51-2a00-0000-0000-000000000000</td>\n",
       "      <td>12.322727</td>\n",
       "    </tr>\n",
       "    <tr>\n",
       "      <th>1</th>\n",
       "      <td>01012f1b-7f00-0000-0000-000000000000</td>\n",
       "      <td>10.259513</td>\n",
       "    </tr>\n",
       "    <tr>\n",
       "      <th>3292</th>\n",
       "      <td>0103446d-3c00-0000-0000-000000000000</td>\n",
       "      <td>10.047256</td>\n",
       "    </tr>\n",
       "    <tr>\n",
       "      <th>...</th>\n",
       "      <td>...</td>\n",
       "      <td>...</td>\n",
       "    </tr>\n",
       "    <tr>\n",
       "      <th>404</th>\n",
       "      <td>01000088-e600-0000-0000-000000000000</td>\n",
       "      <td>5.049529</td>\n",
       "    </tr>\n",
       "    <tr>\n",
       "      <th>839</th>\n",
       "      <td>0103d393-5b00-0000-0000-000000000000</td>\n",
       "      <td>5.049421</td>\n",
       "    </tr>\n",
       "    <tr>\n",
       "      <th>2367</th>\n",
       "      <td>0100616b-b600-0000-0000-000000000000</td>\n",
       "      <td>5.049299</td>\n",
       "    </tr>\n",
       "    <tr>\n",
       "      <th>2217</th>\n",
       "      <td>01029da8-8500-0000-0000-000000000000</td>\n",
       "      <td>5.049286</td>\n",
       "    </tr>\n",
       "    <tr>\n",
       "      <th>2222</th>\n",
       "      <td>0101a71d-f200-0000-0000-000000000000</td>\n",
       "      <td>5.049286</td>\n",
       "    </tr>\n",
       "  </tbody>\n",
       "</table>\n",
       "<p>498 rows × 2 columns</p>\n",
       "</div>"
      ],
      "text/plain": [
       "                                  cntrb_id      score\n",
       "2639  0105d3c3-3c00-0000-0000-000000000000  20.000000\n",
       "550   010105b7-9400-0000-0000-000000000000  14.141630\n",
       "496   01027f51-2a00-0000-0000-000000000000  12.322727\n",
       "1     01012f1b-7f00-0000-0000-000000000000  10.259513\n",
       "3292  0103446d-3c00-0000-0000-000000000000  10.047256\n",
       "...                                    ...        ...\n",
       "404   01000088-e600-0000-0000-000000000000   5.049529\n",
       "839   0103d393-5b00-0000-0000-000000000000   5.049421\n",
       "2367  0100616b-b600-0000-0000-000000000000   5.049299\n",
       "2217  01029da8-8500-0000-0000-000000000000   5.049286\n",
       "2222  0101a71d-f200-0000-0000-000000000000   5.049286\n",
       "\n",
       "[498 rows x 2 columns]"
      ]
     },
     "execution_count": 81,
     "metadata": {},
     "output_type": "execute_result"
    }
   ],
   "source": [
    "# Calculate the total number of contributors in the original dataset\n",
    "pop_contribs = df_known_contribs.shape[0]\n",
    "\n",
    "# Sort the contributors by their 'score' in descending order and select the top 10%\n",
    "# 'TOP_PERCENT_CONSIDERED' is a constant representing the percentage of contributors to consider (e.g., 0.10 for top 10%)\n",
    "top_10p = df_known_contribs.sort_values(by=\"score\", ascending=False)[:int(pop_contribs * TOP_PERCENT_CONSIDERED)]\n",
    "\n",
    "# Rename the 'user' column to 'cntrb_id' in the top 10% dataframe\n",
    "top_10p = top_10p.rename({\"user\": \"cntrb_id\"})\n",
    "\n",
    "# Print the number of contributors in the original dataset\n",
    "print(f\"Num in original set: {df_known_contribs.shape[0]}\")\n",
    "\n",
    "# Print the number of contributors in the top 10% based on their score\n",
    "print(f\"Num in top 10%: {top_10p.shape[0]}\")\n",
    "\n",
    "# Display the dataframe containing the top 10% contributors\n",
    "top_10p"
   ]
  },
  {
   "cell_type": "markdown",
   "metadata": {},
   "source": [
    "### Find events for each of the contributors\n",
    "\n",
    "Joining event stream and top_10p on the users' id will give us the events for each of the contributors."
   ]
  },
  {
   "cell_type": "markdown",
   "metadata": {},
   "source": [
    "The join operation requires the index of the other dataframe `df_event_stream` to match the column in the main dataframe `top_10p` that is used for the join.\n",
    "By setting the index of `df_event_stream` to the `cntrb_id` column using `set_index(\"cntrb_id\")`, the code ensures that the `cntrb_id` column in `top_10p` can be used to match and combine rows from both dataframes.\n",
    "\n",
    "The result `top_10p_events` is a new dataframe that includes all the columns from `top_10p` along with the corresponding event data from `df_event_stream` for each contributor in the top 10% group."
   ]
  },
  {
   "cell_type": "code",
   "execution_count": 82,
   "metadata": {},
   "outputs": [
    {
     "data": {
      "text/html": [
       "<div>\n",
       "<style scoped>\n",
       "    .dataframe tbody tr th:only-of-type {\n",
       "        vertical-align: middle;\n",
       "    }\n",
       "\n",
       "    .dataframe tbody tr th {\n",
       "        vertical-align: top;\n",
       "    }\n",
       "\n",
       "    .dataframe thead th {\n",
       "        text-align: right;\n",
       "    }\n",
       "</style>\n",
       "<table border=\"1\" class=\"dataframe\">\n",
       "  <thead>\n",
       "    <tr style=\"text-align: right;\">\n",
       "      <th></th>\n",
       "      <th>cntrb_id</th>\n",
       "      <th>score</th>\n",
       "      <th>event_id</th>\n",
       "      <th>created_at</th>\n",
       "      <th>repo_id</th>\n",
       "      <th>repo_git</th>\n",
       "      <th>repo_name</th>\n",
       "      <th>gh_repo_id</th>\n",
       "      <th>event_type</th>\n",
       "    </tr>\n",
       "  </thead>\n",
       "  <tbody>\n",
       "    <tr>\n",
       "      <th>2639</th>\n",
       "      <td>0105d3c3-3c00-0000-0000-000000000000</td>\n",
       "      <td>20.000000</td>\n",
       "      <td>3.991308e+10</td>\n",
       "      <td>2024-07-05 23:45:28</td>\n",
       "      <td>2278961.0</td>\n",
       "      <td>https://api.github.com/repos/pytorch/pytorch</td>\n",
       "      <td>pytorch/pytorch</td>\n",
       "      <td>65600975.0</td>\n",
       "      <td>IssueCommentEvent</td>\n",
       "    </tr>\n",
       "    <tr>\n",
       "      <th>2639</th>\n",
       "      <td>0105d3c3-3c00-0000-0000-000000000000</td>\n",
       "      <td>20.000000</td>\n",
       "      <td>3.991308e+10</td>\n",
       "      <td>2024-07-05 23:45:22</td>\n",
       "      <td>2278962.0</td>\n",
       "      <td>https://api.github.com/repos/pytorch/pytorch</td>\n",
       "      <td>pytorch/pytorch</td>\n",
       "      <td>65600975.0</td>\n",
       "      <td>IssueCommentEvent</td>\n",
       "    </tr>\n",
       "    <tr>\n",
       "      <th>2639</th>\n",
       "      <td>0105d3c3-3c00-0000-0000-000000000000</td>\n",
       "      <td>20.000000</td>\n",
       "      <td>3.991285e+10</td>\n",
       "      <td>2024-07-05 23:18:34</td>\n",
       "      <td>2278963.0</td>\n",
       "      <td>https://api.github.com/repos/pytorch/pytorch</td>\n",
       "      <td>pytorch/pytorch</td>\n",
       "      <td>65600975.0</td>\n",
       "      <td>PullRequestEvent</td>\n",
       "    </tr>\n",
       "    <tr>\n",
       "      <th>2639</th>\n",
       "      <td>0105d3c3-3c00-0000-0000-000000000000</td>\n",
       "      <td>20.000000</td>\n",
       "      <td>3.991285e+10</td>\n",
       "      <td>2024-07-05 23:18:32</td>\n",
       "      <td>2278964.0</td>\n",
       "      <td>https://api.github.com/repos/pytorch/pytorch</td>\n",
       "      <td>pytorch/pytorch</td>\n",
       "      <td>65600975.0</td>\n",
       "      <td>PushEvent</td>\n",
       "    </tr>\n",
       "    <tr>\n",
       "      <th>2639</th>\n",
       "      <td>0105d3c3-3c00-0000-0000-000000000000</td>\n",
       "      <td>20.000000</td>\n",
       "      <td>3.991280e+10</td>\n",
       "      <td>2024-07-05 23:12:56</td>\n",
       "      <td>2278965.0</td>\n",
       "      <td>https://api.github.com/repos/pytorch/pytorch</td>\n",
       "      <td>pytorch/pytorch</td>\n",
       "      <td>65600975.0</td>\n",
       "      <td>IssueCommentEvent</td>\n",
       "    </tr>\n",
       "    <tr>\n",
       "      <th>...</th>\n",
       "      <td>...</td>\n",
       "      <td>...</td>\n",
       "      <td>...</td>\n",
       "      <td>...</td>\n",
       "      <td>...</td>\n",
       "      <td>...</td>\n",
       "      <td>...</td>\n",
       "      <td>...</td>\n",
       "      <td>...</td>\n",
       "    </tr>\n",
       "    <tr>\n",
       "      <th>2367</th>\n",
       "      <td>0100616b-b600-0000-0000-000000000000</td>\n",
       "      <td>5.049299</td>\n",
       "      <td>4.085265e+10</td>\n",
       "      <td>2024-08-08 09:16:07</td>\n",
       "      <td>13895813.0</td>\n",
       "      <td>https://api.github.com/repos/agisoft-llc/metas...</td>\n",
       "      <td>agisoft-llc/metashape-scripts</td>\n",
       "      <td>107268834.0</td>\n",
       "      <td>IssueCommentEvent</td>\n",
       "    </tr>\n",
       "    <tr>\n",
       "      <th>2367</th>\n",
       "      <td>0100616b-b600-0000-0000-000000000000</td>\n",
       "      <td>5.049299</td>\n",
       "      <td>4.082972e+10</td>\n",
       "      <td>2024-08-07 15:46:48</td>\n",
       "      <td>13466875.0</td>\n",
       "      <td>https://api.github.com/repos/agisoft-llc/metas...</td>\n",
       "      <td>agisoft-llc/metashape-scripts</td>\n",
       "      <td>107268834.0</td>\n",
       "      <td>IssueCommentEvent</td>\n",
       "    </tr>\n",
       "    <tr>\n",
       "      <th>2367</th>\n",
       "      <td>0100616b-b600-0000-0000-000000000000</td>\n",
       "      <td>5.049299</td>\n",
       "      <td>4.082854e+10</td>\n",
       "      <td>2024-08-07 15:11:40</td>\n",
       "      <td>13466876.0</td>\n",
       "      <td>https://api.github.com/repos/agisoft-llc/metas...</td>\n",
       "      <td>agisoft-llc/metashape-scripts</td>\n",
       "      <td>107268834.0</td>\n",
       "      <td>IssuesEvent</td>\n",
       "    </tr>\n",
       "    <tr>\n",
       "      <th>2217</th>\n",
       "      <td>01029da8-8500-0000-0000-000000000000</td>\n",
       "      <td>5.049286</td>\n",
       "      <td>NaN</td>\n",
       "      <td>NaT</td>\n",
       "      <td>NaN</td>\n",
       "      <td>NaN</td>\n",
       "      <td>NaN</td>\n",
       "      <td>NaN</td>\n",
       "      <td>NaN</td>\n",
       "    </tr>\n",
       "    <tr>\n",
       "      <th>2222</th>\n",
       "      <td>0101a71d-f200-0000-0000-000000000000</td>\n",
       "      <td>5.049286</td>\n",
       "      <td>NaN</td>\n",
       "      <td>NaT</td>\n",
       "      <td>NaN</td>\n",
       "      <td>NaN</td>\n",
       "      <td>NaN</td>\n",
       "      <td>NaN</td>\n",
       "      <td>NaN</td>\n",
       "    </tr>\n",
       "  </tbody>\n",
       "</table>\n",
       "<p>143749 rows × 9 columns</p>\n",
       "</div>"
      ],
      "text/plain": [
       "                                  cntrb_id      score      event_id  \\\n",
       "2639  0105d3c3-3c00-0000-0000-000000000000  20.000000  3.991308e+10   \n",
       "2639  0105d3c3-3c00-0000-0000-000000000000  20.000000  3.991308e+10   \n",
       "2639  0105d3c3-3c00-0000-0000-000000000000  20.000000  3.991285e+10   \n",
       "2639  0105d3c3-3c00-0000-0000-000000000000  20.000000  3.991285e+10   \n",
       "2639  0105d3c3-3c00-0000-0000-000000000000  20.000000  3.991280e+10   \n",
       "...                                    ...        ...           ...   \n",
       "2367  0100616b-b600-0000-0000-000000000000   5.049299  4.085265e+10   \n",
       "2367  0100616b-b600-0000-0000-000000000000   5.049299  4.082972e+10   \n",
       "2367  0100616b-b600-0000-0000-000000000000   5.049299  4.082854e+10   \n",
       "2217  01029da8-8500-0000-0000-000000000000   5.049286           NaN   \n",
       "2222  0101a71d-f200-0000-0000-000000000000   5.049286           NaN   \n",
       "\n",
       "              created_at     repo_id  \\\n",
       "2639 2024-07-05 23:45:28   2278961.0   \n",
       "2639 2024-07-05 23:45:22   2278962.0   \n",
       "2639 2024-07-05 23:18:34   2278963.0   \n",
       "2639 2024-07-05 23:18:32   2278964.0   \n",
       "2639 2024-07-05 23:12:56   2278965.0   \n",
       "...                  ...         ...   \n",
       "2367 2024-08-08 09:16:07  13895813.0   \n",
       "2367 2024-08-07 15:46:48  13466875.0   \n",
       "2367 2024-08-07 15:11:40  13466876.0   \n",
       "2217                 NaT         NaN   \n",
       "2222                 NaT         NaN   \n",
       "\n",
       "                                               repo_git  \\\n",
       "2639       https://api.github.com/repos/pytorch/pytorch   \n",
       "2639       https://api.github.com/repos/pytorch/pytorch   \n",
       "2639       https://api.github.com/repos/pytorch/pytorch   \n",
       "2639       https://api.github.com/repos/pytorch/pytorch   \n",
       "2639       https://api.github.com/repos/pytorch/pytorch   \n",
       "...                                                 ...   \n",
       "2367  https://api.github.com/repos/agisoft-llc/metas...   \n",
       "2367  https://api.github.com/repos/agisoft-llc/metas...   \n",
       "2367  https://api.github.com/repos/agisoft-llc/metas...   \n",
       "2217                                                NaN   \n",
       "2222                                                NaN   \n",
       "\n",
       "                          repo_name   gh_repo_id         event_type  \n",
       "2639                pytorch/pytorch   65600975.0  IssueCommentEvent  \n",
       "2639                pytorch/pytorch   65600975.0  IssueCommentEvent  \n",
       "2639                pytorch/pytorch   65600975.0   PullRequestEvent  \n",
       "2639                pytorch/pytorch   65600975.0          PushEvent  \n",
       "2639                pytorch/pytorch   65600975.0  IssueCommentEvent  \n",
       "...                             ...          ...                ...  \n",
       "2367  agisoft-llc/metashape-scripts  107268834.0  IssueCommentEvent  \n",
       "2367  agisoft-llc/metashape-scripts  107268834.0  IssueCommentEvent  \n",
       "2367  agisoft-llc/metashape-scripts  107268834.0        IssuesEvent  \n",
       "2217                            NaN          NaN                NaN  \n",
       "2222                            NaN          NaN                NaN  \n",
       "\n",
       "[143749 rows x 9 columns]"
      ]
     },
     "execution_count": 82,
     "metadata": {},
     "output_type": "execute_result"
    }
   ],
   "source": [
    "# joins events data on the top_10p group of people.\n",
    "# have to set the index of the 'other' df to be the column we want to join on\n",
    "top_10p_events = top_10p.join(\n",
    "    other=df_event_stream.set_index(\"cntrb_id\"),\n",
    "    on=\"cntrb_id\"\n",
    ")\n",
    "top_10p_events"
   ]
  },
  {
   "cell_type": "markdown",
   "metadata": {},
   "source": [
    "For each contributor, get the list of repo gits that they've made at least one contribution to."
   ]
  },
  {
   "cell_type": "code",
   "execution_count": 83,
   "metadata": {},
   "outputs": [
    {
     "data": {
      "text/html": [
       "<div>\n",
       "<style scoped>\n",
       "    .dataframe tbody tr th:only-of-type {\n",
       "        vertical-align: middle;\n",
       "    }\n",
       "\n",
       "    .dataframe tbody tr th {\n",
       "        vertical-align: top;\n",
       "    }\n",
       "\n",
       "    .dataframe thead th {\n",
       "        text-align: right;\n",
       "    }\n",
       "</style>\n",
       "<table border=\"1\" class=\"dataframe\">\n",
       "  <thead>\n",
       "    <tr style=\"text-align: right;\">\n",
       "      <th></th>\n",
       "      <th>unique</th>\n",
       "    </tr>\n",
       "    <tr>\n",
       "      <th>cntrb_id</th>\n",
       "      <th></th>\n",
       "    </tr>\n",
       "  </thead>\n",
       "  <tbody>\n",
       "    <tr>\n",
       "      <th>01000013-c500-0000-0000-000000000000</th>\n",
       "      <td>[nan]</td>\n",
       "    </tr>\n",
       "    <tr>\n",
       "      <th>01000025-0300-0000-0000-000000000000</th>\n",
       "      <td>[https://api.github.com/repos/SciPhi-AI/R2R, h...</td>\n",
       "    </tr>\n",
       "    <tr>\n",
       "      <th>01000027-9900-0000-0000-000000000000</th>\n",
       "      <td>[https://api.github.com/repos/amzn/selling-par...</td>\n",
       "    </tr>\n",
       "    <tr>\n",
       "      <th>01000034-fc00-0000-0000-000000000000</th>\n",
       "      <td>[https://api.github.com/repos/pytorch/pytorch,...</td>\n",
       "    </tr>\n",
       "    <tr>\n",
       "      <th>0100003e-9200-0000-0000-000000000000</th>\n",
       "      <td>[https://api.github.com/repos/gorse-io/goat, h...</td>\n",
       "    </tr>\n",
       "  </tbody>\n",
       "</table>\n",
       "</div>"
      ],
      "text/plain": [
       "                                                                                 unique\n",
       "cntrb_id                                                                               \n",
       "01000013-c500-0000-0000-000000000000                                              [nan]\n",
       "01000025-0300-0000-0000-000000000000  [https://api.github.com/repos/SciPhi-AI/R2R, h...\n",
       "01000027-9900-0000-0000-000000000000  [https://api.github.com/repos/amzn/selling-par...\n",
       "01000034-fc00-0000-0000-000000000000  [https://api.github.com/repos/pytorch/pytorch,...\n",
       "0100003e-9200-0000-0000-000000000000  [https://api.github.com/repos/gorse-io/goat, h..."
      ]
     },
     "execution_count": 83,
     "metadata": {},
     "output_type": "execute_result"
    }
   ],
   "source": [
    "cntrb_repos = top_10p_events.groupby([\"cntrb_id\"])[\"repo_git\"].agg(['unique'])\n",
    "cntrb_repos.head()"
   ]
  },
  {
   "cell_type": "code",
   "execution_count": 84,
   "metadata": {},
   "outputs": [],
   "source": [
    "# concatenate all of the lists of repo belonging together for all of the contribs. and then, count the occurrences of each repository.\n",
    "all_repos = []\n",
    "for row in cntrb_repos[\"unique\"]:\n",
    "    all_repos = all_repos + list(row)\n",
    "    \n",
    "n_contribs_per_repo = dict(Counter(all_repos))"
   ]
  },
  {
   "cell_type": "code",
   "execution_count": 85,
   "metadata": {},
   "outputs": [
    {
     "data": {
      "text/plain": [
       "[(nan, 68),\n",
       " ('https://api.github.com/repos/SciPhi-AI/R2R', 1),\n",
       " ('https://api.github.com/repos/ewilderj/aoc-2023', 1),\n",
       " ('https://api.github.com/repos/ewilderj/prelude', 1),\n",
       " ('https://api.github.com/repos/dracula/emacs', 1),\n",
       " ('https://api.github.com/repos/ewilderj/emacs', 1),\n",
       " ('https://api.github.com/repos/ewilderj/doap', 1),\n",
       " ('https://api.github.com/repos/RDFLib/rdflib', 1),\n",
       " ('https://api.github.com/repos/bbatsov/prelude', 1),\n",
       " ('https://api.github.com/repos/amzn/selling-partner-api-models', 1)]"
      ]
     },
     "execution_count": 85,
     "metadata": {},
     "output_type": "execute_result"
    }
   ],
   "source": [
    "list(n_contribs_per_repo.items())[:10]"
   ]
  },
  {
   "cell_type": "code",
   "execution_count": 86,
   "metadata": {},
   "outputs": [],
   "source": [
    "# Translate the dictionary into a dataframe and sort\n",
    "# Thanks Hema Veeradhi for this implementation.\n",
    "df_for_fig = pd.DataFrame(list(n_contribs_per_repo.items()), columns=['repo_gits', 'repo_cntrb_counts']).sort_values(by=\"repo_cntrb_counts\", ascending=False)\n",
    "df_for_fig.repo_gits = df_for_fig.repo_gits.apply(lambda x : x.removeprefix(\"https://api.github.com/repos/\") if(type(x)==str) else x)"
   ]
  },
  {
   "cell_type": "code",
   "execution_count": 87,
   "metadata": {},
   "outputs": [
    {
     "data": {
      "text/html": [
       "<div>\n",
       "<style scoped>\n",
       "    .dataframe tbody tr th:only-of-type {\n",
       "        vertical-align: middle;\n",
       "    }\n",
       "\n",
       "    .dataframe tbody tr th {\n",
       "        vertical-align: top;\n",
       "    }\n",
       "\n",
       "    .dataframe thead th {\n",
       "        text-align: right;\n",
       "    }\n",
       "</style>\n",
       "<table border=\"1\" class=\"dataframe\">\n",
       "  <thead>\n",
       "    <tr style=\"text-align: right;\">\n",
       "      <th></th>\n",
       "      <th>repo_gits</th>\n",
       "      <th>repo_cntrb_counts</th>\n",
       "    </tr>\n",
       "  </thead>\n",
       "  <tbody>\n",
       "    <tr>\n",
       "      <th>92</th>\n",
       "      <td>pytorch/pytorch</td>\n",
       "      <td>194</td>\n",
       "    </tr>\n",
       "    <tr>\n",
       "      <th>108</th>\n",
       "      <td>tensorflow/tensorflow</td>\n",
       "      <td>77</td>\n",
       "    </tr>\n",
       "    <tr>\n",
       "      <th>0</th>\n",
       "      <td>NaN</td>\n",
       "      <td>68</td>\n",
       "    </tr>\n",
       "    <tr>\n",
       "      <th>130</th>\n",
       "      <td>numpy/numpy</td>\n",
       "      <td>44</td>\n",
       "    </tr>\n",
       "    <tr>\n",
       "      <th>107</th>\n",
       "      <td>openxla/xla</td>\n",
       "      <td>40</td>\n",
       "    </tr>\n",
       "    <tr>\n",
       "      <th>...</th>\n",
       "      <td>...</td>\n",
       "      <td>...</td>\n",
       "    </tr>\n",
       "    <tr>\n",
       "      <th>2769</th>\n",
       "      <td>FFY00/cpython</td>\n",
       "      <td>1</td>\n",
       "    </tr>\n",
       "    <tr>\n",
       "      <th>2768</th>\n",
       "      <td>FFY00/dotfiles</td>\n",
       "      <td>1</td>\n",
       "    </tr>\n",
       "    <tr>\n",
       "      <th>2767</th>\n",
       "      <td>FFY00/jeol-5500-5600-re</td>\n",
       "      <td>1</td>\n",
       "    </tr>\n",
       "    <tr>\n",
       "      <th>2766</th>\n",
       "      <td>FFY00/ffy00.github.io</td>\n",
       "      <td>1</td>\n",
       "    </tr>\n",
       "    <tr>\n",
       "      <th>7522</th>\n",
       "      <td>francograndegmailcom/pytorch-pytorch</td>\n",
       "      <td>1</td>\n",
       "    </tr>\n",
       "  </tbody>\n",
       "</table>\n",
       "<p>7523 rows × 2 columns</p>\n",
       "</div>"
      ],
      "text/plain": [
       "                                 repo_gits  repo_cntrb_counts\n",
       "92                         pytorch/pytorch                194\n",
       "108                  tensorflow/tensorflow                 77\n",
       "0                                      NaN                 68\n",
       "130                            numpy/numpy                 44\n",
       "107                            openxla/xla                 40\n",
       "...                                    ...                ...\n",
       "2769                         FFY00/cpython                  1\n",
       "2768                        FFY00/dotfiles                  1\n",
       "2767               FFY00/jeol-5500-5600-re                  1\n",
       "2766                 FFY00/ffy00.github.io                  1\n",
       "7522  francograndegmailcom/pytorch-pytorch                  1\n",
       "\n",
       "[7523 rows x 2 columns]"
      ]
     },
     "execution_count": 87,
     "metadata": {},
     "output_type": "execute_result"
    }
   ],
   "source": [
    "df_for_fig"
   ]
  },
  {
   "cell_type": "code",
   "execution_count": 88,
   "metadata": {},
   "outputs": [],
   "source": [
    "fig = px.bar(\n",
    "    data_frame=df_for_fig[:FINAL_NUM_COMMON_REPOS],\n",
    "    y=\"repo_gits\",\n",
    "    x=\"repo_cntrb_counts\",\n",
    "    hover_name=\"repo_cntrb_counts\",\n",
    "    orientation=\"h\"\n",
    ")"
   ]
  },
  {
   "cell_type": "code",
   "execution_count": 89,
   "metadata": {},
   "outputs": [
    {
     "data": {
      "application/vnd.plotly.v1+json": {
       "config": {
        "plotlyServerURL": "https://plot.ly"
       },
       "data": [
        {
         "alignmentgroup": "True",
         "hovertemplate": "<b>%{hovertext}</b><br><br>repo_cntrb_counts=%{x}<br>repo_gits=%{y}<extra></extra>",
         "hovertext": [
          194,
          77,
          68,
          44,
          40,
          33,
          29,
          28,
          27,
          25,
          24,
          23,
          23,
          22,
          22,
          22,
          21,
          21,
          19,
          18,
          17,
          17,
          15,
          14,
          13,
          13,
          12,
          12,
          12,
          11,
          11,
          11,
          10,
          10,
          10,
          9,
          9,
          9,
          9,
          9,
          8,
          8,
          8,
          8,
          8,
          8,
          8,
          8,
          7,
          7
         ],
         "legendgroup": "",
         "marker": {
          "color": "#636efa",
          "pattern": {
           "shape": ""
          }
         },
         "name": "",
         "offsetgroup": "",
         "orientation": "h",
         "showlegend": false,
         "textposition": "auto",
         "type": "bar",
         "x": [
          194,
          77,
          68,
          44,
          40,
          33,
          29,
          28,
          27,
          25,
          24,
          23,
          23,
          22,
          22,
          22,
          21,
          21,
          19,
          18,
          17,
          17,
          15,
          14,
          13,
          13,
          12,
          12,
          12,
          11,
          11,
          11,
          10,
          10,
          10,
          9,
          9,
          9,
          9,
          9,
          8,
          8,
          8,
          8,
          8,
          8,
          8,
          8,
          7,
          7
         ],
         "xaxis": "x",
         "y": [
          "pytorch/pytorch",
          "tensorflow/tensorflow",
          null,
          "numpy/numpy",
          "openxla/xla",
          "pytorch/ao",
          "pytorch/tutorials",
          "google/jax",
          "scipy/scipy",
          "pytorch/test-infra",
          "pytorch/torchtitan",
          "pytorch/executorch",
          "llvm/llvm-project",
          "pytorch/benchmark",
          "pytorch/builder",
          "pytorch/torchtune",
          "triton-lang/triton",
          "tinygrad/tinygrad",
          "vllm-project/vllm",
          "pytorch/FBGEMM",
          "pytorch/xla",
          "keras-team/keras",
          "pytorch/pytorch.github.io",
          "huggingface/transformers",
          "Dao-AILab/flash-attention",
          "python/cpython",
          "microsoft/onnxruntime",
          "google-ai-edge/ai-edge-torch",
          "karpathy/LLM101n",
          "scikit-learn/scikit-learn",
          "networkx/networkx",
          "karpathy/llm.c",
          "pytorch/vision",
          "pytorch/torchchat",
          "pytorch/kineto",
          "ROCm/ROCm",
          "meta-llama/llama3",
          "scipy-conference/scipy_proceedings",
          "pandas-dev/pandas",
          "numpy/numpy.org",
          "pytorch-labs/gpt-fast",
          "intel/intel-extension-for-pytorch",
          "facebookresearch/HolisticTraceAnalysis",
          "pytorch/torchrec",
          "ggerganov/llama.cpp",
          "pytorch-labs/float8_experimental",
          "openxla/stablehlo",
          "ollama/ollama",
          "scientific-python/specs",
          "astral-sh/ruff"
         ],
         "yaxis": "y"
        }
       ],
       "layout": {
        "barmode": "relative",
        "legend": {
         "tracegroupgap": 0
        },
        "margin": {
         "t": 60
        },
        "template": {
         "data": {
          "bar": [
           {
            "error_x": {
             "color": "#2a3f5f"
            },
            "error_y": {
             "color": "#2a3f5f"
            },
            "marker": {
             "line": {
              "color": "#E5ECF6",
              "width": 0.5
             },
             "pattern": {
              "fillmode": "overlay",
              "size": 10,
              "solidity": 0.2
             }
            },
            "type": "bar"
           }
          ],
          "barpolar": [
           {
            "marker": {
             "line": {
              "color": "#E5ECF6",
              "width": 0.5
             },
             "pattern": {
              "fillmode": "overlay",
              "size": 10,
              "solidity": 0.2
             }
            },
            "type": "barpolar"
           }
          ],
          "carpet": [
           {
            "aaxis": {
             "endlinecolor": "#2a3f5f",
             "gridcolor": "white",
             "linecolor": "white",
             "minorgridcolor": "white",
             "startlinecolor": "#2a3f5f"
            },
            "baxis": {
             "endlinecolor": "#2a3f5f",
             "gridcolor": "white",
             "linecolor": "white",
             "minorgridcolor": "white",
             "startlinecolor": "#2a3f5f"
            },
            "type": "carpet"
           }
          ],
          "choropleth": [
           {
            "colorbar": {
             "outlinewidth": 0,
             "ticks": ""
            },
            "type": "choropleth"
           }
          ],
          "contour": [
           {
            "colorbar": {
             "outlinewidth": 0,
             "ticks": ""
            },
            "colorscale": [
             [
              0,
              "#0d0887"
             ],
             [
              0.1111111111111111,
              "#46039f"
             ],
             [
              0.2222222222222222,
              "#7201a8"
             ],
             [
              0.3333333333333333,
              "#9c179e"
             ],
             [
              0.4444444444444444,
              "#bd3786"
             ],
             [
              0.5555555555555556,
              "#d8576b"
             ],
             [
              0.6666666666666666,
              "#ed7953"
             ],
             [
              0.7777777777777778,
              "#fb9f3a"
             ],
             [
              0.8888888888888888,
              "#fdca26"
             ],
             [
              1,
              "#f0f921"
             ]
            ],
            "type": "contour"
           }
          ],
          "contourcarpet": [
           {
            "colorbar": {
             "outlinewidth": 0,
             "ticks": ""
            },
            "type": "contourcarpet"
           }
          ],
          "heatmap": [
           {
            "colorbar": {
             "outlinewidth": 0,
             "ticks": ""
            },
            "colorscale": [
             [
              0,
              "#0d0887"
             ],
             [
              0.1111111111111111,
              "#46039f"
             ],
             [
              0.2222222222222222,
              "#7201a8"
             ],
             [
              0.3333333333333333,
              "#9c179e"
             ],
             [
              0.4444444444444444,
              "#bd3786"
             ],
             [
              0.5555555555555556,
              "#d8576b"
             ],
             [
              0.6666666666666666,
              "#ed7953"
             ],
             [
              0.7777777777777778,
              "#fb9f3a"
             ],
             [
              0.8888888888888888,
              "#fdca26"
             ],
             [
              1,
              "#f0f921"
             ]
            ],
            "type": "heatmap"
           }
          ],
          "heatmapgl": [
           {
            "colorbar": {
             "outlinewidth": 0,
             "ticks": ""
            },
            "colorscale": [
             [
              0,
              "#0d0887"
             ],
             [
              0.1111111111111111,
              "#46039f"
             ],
             [
              0.2222222222222222,
              "#7201a8"
             ],
             [
              0.3333333333333333,
              "#9c179e"
             ],
             [
              0.4444444444444444,
              "#bd3786"
             ],
             [
              0.5555555555555556,
              "#d8576b"
             ],
             [
              0.6666666666666666,
              "#ed7953"
             ],
             [
              0.7777777777777778,
              "#fb9f3a"
             ],
             [
              0.8888888888888888,
              "#fdca26"
             ],
             [
              1,
              "#f0f921"
             ]
            ],
            "type": "heatmapgl"
           }
          ],
          "histogram": [
           {
            "marker": {
             "pattern": {
              "fillmode": "overlay",
              "size": 10,
              "solidity": 0.2
             }
            },
            "type": "histogram"
           }
          ],
          "histogram2d": [
           {
            "colorbar": {
             "outlinewidth": 0,
             "ticks": ""
            },
            "colorscale": [
             [
              0,
              "#0d0887"
             ],
             [
              0.1111111111111111,
              "#46039f"
             ],
             [
              0.2222222222222222,
              "#7201a8"
             ],
             [
              0.3333333333333333,
              "#9c179e"
             ],
             [
              0.4444444444444444,
              "#bd3786"
             ],
             [
              0.5555555555555556,
              "#d8576b"
             ],
             [
              0.6666666666666666,
              "#ed7953"
             ],
             [
              0.7777777777777778,
              "#fb9f3a"
             ],
             [
              0.8888888888888888,
              "#fdca26"
             ],
             [
              1,
              "#f0f921"
             ]
            ],
            "type": "histogram2d"
           }
          ],
          "histogram2dcontour": [
           {
            "colorbar": {
             "outlinewidth": 0,
             "ticks": ""
            },
            "colorscale": [
             [
              0,
              "#0d0887"
             ],
             [
              0.1111111111111111,
              "#46039f"
             ],
             [
              0.2222222222222222,
              "#7201a8"
             ],
             [
              0.3333333333333333,
              "#9c179e"
             ],
             [
              0.4444444444444444,
              "#bd3786"
             ],
             [
              0.5555555555555556,
              "#d8576b"
             ],
             [
              0.6666666666666666,
              "#ed7953"
             ],
             [
              0.7777777777777778,
              "#fb9f3a"
             ],
             [
              0.8888888888888888,
              "#fdca26"
             ],
             [
              1,
              "#f0f921"
             ]
            ],
            "type": "histogram2dcontour"
           }
          ],
          "mesh3d": [
           {
            "colorbar": {
             "outlinewidth": 0,
             "ticks": ""
            },
            "type": "mesh3d"
           }
          ],
          "parcoords": [
           {
            "line": {
             "colorbar": {
              "outlinewidth": 0,
              "ticks": ""
             }
            },
            "type": "parcoords"
           }
          ],
          "pie": [
           {
            "automargin": true,
            "type": "pie"
           }
          ],
          "scatter": [
           {
            "fillpattern": {
             "fillmode": "overlay",
             "size": 10,
             "solidity": 0.2
            },
            "type": "scatter"
           }
          ],
          "scatter3d": [
           {
            "line": {
             "colorbar": {
              "outlinewidth": 0,
              "ticks": ""
             }
            },
            "marker": {
             "colorbar": {
              "outlinewidth": 0,
              "ticks": ""
             }
            },
            "type": "scatter3d"
           }
          ],
          "scattercarpet": [
           {
            "marker": {
             "colorbar": {
              "outlinewidth": 0,
              "ticks": ""
             }
            },
            "type": "scattercarpet"
           }
          ],
          "scattergeo": [
           {
            "marker": {
             "colorbar": {
              "outlinewidth": 0,
              "ticks": ""
             }
            },
            "type": "scattergeo"
           }
          ],
          "scattergl": [
           {
            "marker": {
             "colorbar": {
              "outlinewidth": 0,
              "ticks": ""
             }
            },
            "type": "scattergl"
           }
          ],
          "scattermapbox": [
           {
            "marker": {
             "colorbar": {
              "outlinewidth": 0,
              "ticks": ""
             }
            },
            "type": "scattermapbox"
           }
          ],
          "scatterpolar": [
           {
            "marker": {
             "colorbar": {
              "outlinewidth": 0,
              "ticks": ""
             }
            },
            "type": "scatterpolar"
           }
          ],
          "scatterpolargl": [
           {
            "marker": {
             "colorbar": {
              "outlinewidth": 0,
              "ticks": ""
             }
            },
            "type": "scatterpolargl"
           }
          ],
          "scatterternary": [
           {
            "marker": {
             "colorbar": {
              "outlinewidth": 0,
              "ticks": ""
             }
            },
            "type": "scatterternary"
           }
          ],
          "surface": [
           {
            "colorbar": {
             "outlinewidth": 0,
             "ticks": ""
            },
            "colorscale": [
             [
              0,
              "#0d0887"
             ],
             [
              0.1111111111111111,
              "#46039f"
             ],
             [
              0.2222222222222222,
              "#7201a8"
             ],
             [
              0.3333333333333333,
              "#9c179e"
             ],
             [
              0.4444444444444444,
              "#bd3786"
             ],
             [
              0.5555555555555556,
              "#d8576b"
             ],
             [
              0.6666666666666666,
              "#ed7953"
             ],
             [
              0.7777777777777778,
              "#fb9f3a"
             ],
             [
              0.8888888888888888,
              "#fdca26"
             ],
             [
              1,
              "#f0f921"
             ]
            ],
            "type": "surface"
           }
          ],
          "table": [
           {
            "cells": {
             "fill": {
              "color": "#EBF0F8"
             },
             "line": {
              "color": "white"
             }
            },
            "header": {
             "fill": {
              "color": "#C8D4E3"
             },
             "line": {
              "color": "white"
             }
            },
            "type": "table"
           }
          ]
         },
         "layout": {
          "annotationdefaults": {
           "arrowcolor": "#2a3f5f",
           "arrowhead": 0,
           "arrowwidth": 1
          },
          "autotypenumbers": "strict",
          "coloraxis": {
           "colorbar": {
            "outlinewidth": 0,
            "ticks": ""
           }
          },
          "colorscale": {
           "diverging": [
            [
             0,
             "#8e0152"
            ],
            [
             0.1,
             "#c51b7d"
            ],
            [
             0.2,
             "#de77ae"
            ],
            [
             0.3,
             "#f1b6da"
            ],
            [
             0.4,
             "#fde0ef"
            ],
            [
             0.5,
             "#f7f7f7"
            ],
            [
             0.6,
             "#e6f5d0"
            ],
            [
             0.7,
             "#b8e186"
            ],
            [
             0.8,
             "#7fbc41"
            ],
            [
             0.9,
             "#4d9221"
            ],
            [
             1,
             "#276419"
            ]
           ],
           "sequential": [
            [
             0,
             "#0d0887"
            ],
            [
             0.1111111111111111,
             "#46039f"
            ],
            [
             0.2222222222222222,
             "#7201a8"
            ],
            [
             0.3333333333333333,
             "#9c179e"
            ],
            [
             0.4444444444444444,
             "#bd3786"
            ],
            [
             0.5555555555555556,
             "#d8576b"
            ],
            [
             0.6666666666666666,
             "#ed7953"
            ],
            [
             0.7777777777777778,
             "#fb9f3a"
            ],
            [
             0.8888888888888888,
             "#fdca26"
            ],
            [
             1,
             "#f0f921"
            ]
           ],
           "sequentialminus": [
            [
             0,
             "#0d0887"
            ],
            [
             0.1111111111111111,
             "#46039f"
            ],
            [
             0.2222222222222222,
             "#7201a8"
            ],
            [
             0.3333333333333333,
             "#9c179e"
            ],
            [
             0.4444444444444444,
             "#bd3786"
            ],
            [
             0.5555555555555556,
             "#d8576b"
            ],
            [
             0.6666666666666666,
             "#ed7953"
            ],
            [
             0.7777777777777778,
             "#fb9f3a"
            ],
            [
             0.8888888888888888,
             "#fdca26"
            ],
            [
             1,
             "#f0f921"
            ]
           ]
          },
          "colorway": [
           "#636efa",
           "#EF553B",
           "#00cc96",
           "#ab63fa",
           "#FFA15A",
           "#19d3f3",
           "#FF6692",
           "#B6E880",
           "#FF97FF",
           "#FECB52"
          ],
          "font": {
           "color": "#2a3f5f"
          },
          "geo": {
           "bgcolor": "white",
           "lakecolor": "white",
           "landcolor": "#E5ECF6",
           "showlakes": true,
           "showland": true,
           "subunitcolor": "white"
          },
          "hoverlabel": {
           "align": "left"
          },
          "hovermode": "closest",
          "mapbox": {
           "style": "light"
          },
          "paper_bgcolor": "white",
          "plot_bgcolor": "#E5ECF6",
          "polar": {
           "angularaxis": {
            "gridcolor": "white",
            "linecolor": "white",
            "ticks": ""
           },
           "bgcolor": "#E5ECF6",
           "radialaxis": {
            "gridcolor": "white",
            "linecolor": "white",
            "ticks": ""
           }
          },
          "scene": {
           "xaxis": {
            "backgroundcolor": "#E5ECF6",
            "gridcolor": "white",
            "gridwidth": 2,
            "linecolor": "white",
            "showbackground": true,
            "ticks": "",
            "zerolinecolor": "white"
           },
           "yaxis": {
            "backgroundcolor": "#E5ECF6",
            "gridcolor": "white",
            "gridwidth": 2,
            "linecolor": "white",
            "showbackground": true,
            "ticks": "",
            "zerolinecolor": "white"
           },
           "zaxis": {
            "backgroundcolor": "#E5ECF6",
            "gridcolor": "white",
            "gridwidth": 2,
            "linecolor": "white",
            "showbackground": true,
            "ticks": "",
            "zerolinecolor": "white"
           }
          },
          "shapedefaults": {
           "line": {
            "color": "#2a3f5f"
           }
          },
          "ternary": {
           "aaxis": {
            "gridcolor": "white",
            "linecolor": "white",
            "ticks": ""
           },
           "baxis": {
            "gridcolor": "white",
            "linecolor": "white",
            "ticks": ""
           },
           "bgcolor": "#E5ECF6",
           "caxis": {
            "gridcolor": "white",
            "linecolor": "white",
            "ticks": ""
           }
          },
          "title": {
           "x": 0.05
          },
          "xaxis": {
           "automargin": true,
           "gridcolor": "white",
           "linecolor": "white",
           "ticks": "",
           "title": {
            "standoff": 15
           },
           "zerolinecolor": "white",
           "zerolinewidth": 2
          },
          "yaxis": {
           "automargin": true,
           "gridcolor": "white",
           "linecolor": "white",
           "ticks": "",
           "title": {
            "standoff": 15
           },
           "zerolinecolor": "white",
           "zerolinewidth": 2
          }
         }
        },
        "xaxis": {
         "anchor": "y",
         "domain": [
          0,
          1
         ],
         "title": {
          "text": "repo_cntrb_counts"
         }
        },
        "yaxis": {
         "anchor": "x",
         "domain": [
          0,
          1
         ],
         "title": {
          "text": "repo_gits"
         }
        }
       }
      }
     },
     "metadata": {},
     "output_type": "display_data"
    }
   ],
   "source": [
    "fig.show()"
   ]
  },
  {
   "cell_type": "markdown",
   "metadata": {},
   "source": [
    "Note: \n",
    "\n",
    "Image below omits many github URLs associated with the real column rendered.\n",
    "Consider running notebook for holistic visualization."
   ]
  },
  {
   "cell_type": "code",
   "execution_count": 90,
   "metadata": {},
   "outputs": [
    {
     "data": {
      "image/png": "[encoded data removed]",
      "text/plain": [
       "<IPython.core.display.Image object>"
      ]
     },
     "execution_count": 90,
     "metadata": {},
     "output_type": "execute_result"
    }
   ],
   "source": [
    "fig.write_image(\"repo_cntrb_counts.png\")\n",
    "Image(filename=\"repo_cntrb_counts.png\")"
   ]
  },
  {
   "cell_type": "code",
   "execution_count": 91,
   "metadata": {},
   "outputs": [
    {
     "data": {
      "text/html": [
       "<div>\n",
       "<style scoped>\n",
       "    .dataframe tbody tr th:only-of-type {\n",
       "        vertical-align: middle;\n",
       "    }\n",
       "\n",
       "    .dataframe tbody tr th {\n",
       "        vertical-align: top;\n",
       "    }\n",
       "\n",
       "    .dataframe thead th {\n",
       "        text-align: right;\n",
       "    }\n",
       "</style>\n",
       "<table border=\"1\" class=\"dataframe\">\n",
       "  <thead>\n",
       "    <tr style=\"text-align: right;\">\n",
       "      <th></th>\n",
       "      <th>repo_gits</th>\n",
       "      <th>repo_cntrb_counts</th>\n",
       "    </tr>\n",
       "  </thead>\n",
       "  <tbody>\n",
       "    <tr>\n",
       "      <th>92</th>\n",
       "      <td>pytorch/pytorch</td>\n",
       "      <td>194</td>\n",
       "    </tr>\n",
       "    <tr>\n",
       "      <th>108</th>\n",
       "      <td>tensorflow/tensorflow</td>\n",
       "      <td>77</td>\n",
       "    </tr>\n",
       "    <tr>\n",
       "      <th>0</th>\n",
       "      <td>NaN</td>\n",
       "      <td>68</td>\n",
       "    </tr>\n",
       "    <tr>\n",
       "      <th>130</th>\n",
       "      <td>numpy/numpy</td>\n",
       "      <td>44</td>\n",
       "    </tr>\n",
       "    <tr>\n",
       "      <th>107</th>\n",
       "      <td>openxla/xla</td>\n",
       "      <td>40</td>\n",
       "    </tr>\n",
       "    <tr>\n",
       "      <th>664</th>\n",
       "      <td>pytorch/ao</td>\n",
       "      <td>33</td>\n",
       "    </tr>\n",
       "    <tr>\n",
       "      <th>661</th>\n",
       "      <td>pytorch/tutorials</td>\n",
       "      <td>29</td>\n",
       "    </tr>\n",
       "    <tr>\n",
       "      <th>350</th>\n",
       "      <td>google/jax</td>\n",
       "      <td>28</td>\n",
       "    </tr>\n",
       "    <tr>\n",
       "      <th>143</th>\n",
       "      <td>scipy/scipy</td>\n",
       "      <td>27</td>\n",
       "    </tr>\n",
       "    <tr>\n",
       "      <th>99</th>\n",
       "      <td>pytorch/test-infra</td>\n",
       "      <td>25</td>\n",
       "    </tr>\n",
       "    <tr>\n",
       "      <th>787</th>\n",
       "      <td>pytorch/torchtitan</td>\n",
       "      <td>24</td>\n",
       "    </tr>\n",
       "    <tr>\n",
       "      <th>98</th>\n",
       "      <td>pytorch/executorch</td>\n",
       "      <td>23</td>\n",
       "    </tr>\n",
       "    <tr>\n",
       "      <th>105</th>\n",
       "      <td>llvm/llvm-project</td>\n",
       "      <td>23</td>\n",
       "    </tr>\n",
       "    <tr>\n",
       "      <th>663</th>\n",
       "      <td>pytorch/benchmark</td>\n",
       "      <td>22</td>\n",
       "    </tr>\n",
       "    <tr>\n",
       "      <th>675</th>\n",
       "      <td>pytorch/builder</td>\n",
       "      <td>22</td>\n",
       "    </tr>\n",
       "    <tr>\n",
       "      <th>790</th>\n",
       "      <td>pytorch/torchtune</td>\n",
       "      <td>22</td>\n",
       "    </tr>\n",
       "    <tr>\n",
       "      <th>423</th>\n",
       "      <td>triton-lang/triton</td>\n",
       "      <td>21</td>\n",
       "    </tr>\n",
       "    <tr>\n",
       "      <th>339</th>\n",
       "      <td>tinygrad/tinygrad</td>\n",
       "      <td>21</td>\n",
       "    </tr>\n",
       "    <tr>\n",
       "      <th>793</th>\n",
       "      <td>vllm-project/vllm</td>\n",
       "      <td>19</td>\n",
       "    </tr>\n",
       "    <tr>\n",
       "      <th>425</th>\n",
       "      <td>pytorch/FBGEMM</td>\n",
       "      <td>18</td>\n",
       "    </tr>\n",
       "    <tr>\n",
       "      <th>640</th>\n",
       "      <td>pytorch/xla</td>\n",
       "      <td>17</td>\n",
       "    </tr>\n",
       "    <tr>\n",
       "      <th>933</th>\n",
       "      <td>keras-team/keras</td>\n",
       "      <td>17</td>\n",
       "    </tr>\n",
       "    <tr>\n",
       "      <th>686</th>\n",
       "      <td>pytorch/pytorch.github.io</td>\n",
       "      <td>15</td>\n",
       "    </tr>\n",
       "    <tr>\n",
       "      <th>792</th>\n",
       "      <td>huggingface/transformers</td>\n",
       "      <td>14</td>\n",
       "    </tr>\n",
       "    <tr>\n",
       "      <th>412</th>\n",
       "      <td>Dao-AILab/flash-attention</td>\n",
       "      <td>13</td>\n",
       "    </tr>\n",
       "    <tr>\n",
       "      <th>390</th>\n",
       "      <td>python/cpython</td>\n",
       "      <td>13</td>\n",
       "    </tr>\n",
       "    <tr>\n",
       "      <th>986</th>\n",
       "      <td>microsoft/onnxruntime</td>\n",
       "      <td>12</td>\n",
       "    </tr>\n",
       "    <tr>\n",
       "      <th>1060</th>\n",
       "      <td>google-ai-edge/ai-edge-torch</td>\n",
       "      <td>12</td>\n",
       "    </tr>\n",
       "    <tr>\n",
       "      <th>764</th>\n",
       "      <td>karpathy/LLM101n</td>\n",
       "      <td>12</td>\n",
       "    </tr>\n",
       "    <tr>\n",
       "      <th>171</th>\n",
       "      <td>scikit-learn/scikit-learn</td>\n",
       "      <td>11</td>\n",
       "    </tr>\n",
       "    <tr>\n",
       "      <th>428</th>\n",
       "      <td>networkx/networkx</td>\n",
       "      <td>11</td>\n",
       "    </tr>\n",
       "    <tr>\n",
       "      <th>799</th>\n",
       "      <td>karpathy/llm.c</td>\n",
       "      <td>11</td>\n",
       "    </tr>\n",
       "    <tr>\n",
       "      <th>685</th>\n",
       "      <td>pytorch/vision</td>\n",
       "      <td>10</td>\n",
       "    </tr>\n",
       "    <tr>\n",
       "      <th>1291</th>\n",
       "      <td>pytorch/torchchat</td>\n",
       "      <td>10</td>\n",
       "    </tr>\n",
       "    <tr>\n",
       "      <th>777</th>\n",
       "      <td>pytorch/kineto</td>\n",
       "      <td>10</td>\n",
       "    </tr>\n",
       "    <tr>\n",
       "      <th>1063</th>\n",
       "      <td>ROCm/ROCm</td>\n",
       "      <td>9</td>\n",
       "    </tr>\n",
       "    <tr>\n",
       "      <th>769</th>\n",
       "      <td>meta-llama/llama3</td>\n",
       "      <td>9</td>\n",
       "    </tr>\n",
       "    <tr>\n",
       "      <th>162</th>\n",
       "      <td>scipy-conference/scipy_proceedings</td>\n",
       "      <td>9</td>\n",
       "    </tr>\n",
       "    <tr>\n",
       "      <th>220</th>\n",
       "      <td>pandas-dev/pandas</td>\n",
       "      <td>9</td>\n",
       "    </tr>\n",
       "    <tr>\n",
       "      <th>140</th>\n",
       "      <td>numpy/numpy.org</td>\n",
       "      <td>9</td>\n",
       "    </tr>\n",
       "    <tr>\n",
       "      <th>1235</th>\n",
       "      <td>pytorch-labs/gpt-fast</td>\n",
       "      <td>8</td>\n",
       "    </tr>\n",
       "    <tr>\n",
       "      <th>2447</th>\n",
       "      <td>intel/intel-extension-for-pytorch</td>\n",
       "      <td>8</td>\n",
       "    </tr>\n",
       "    <tr>\n",
       "      <th>784</th>\n",
       "      <td>facebookresearch/HolisticTraceAnalysis</td>\n",
       "      <td>8</td>\n",
       "    </tr>\n",
       "    <tr>\n",
       "      <th>1777</th>\n",
       "      <td>pytorch/torchrec</td>\n",
       "      <td>8</td>\n",
       "    </tr>\n",
       "    <tr>\n",
       "      <th>1484</th>\n",
       "      <td>ggerganov/llama.cpp</td>\n",
       "      <td>8</td>\n",
       "    </tr>\n",
       "    <tr>\n",
       "      <th>1517</th>\n",
       "      <td>pytorch-labs/float8_experimental</td>\n",
       "      <td>8</td>\n",
       "    </tr>\n",
       "    <tr>\n",
       "      <th>109</th>\n",
       "      <td>openxla/stablehlo</td>\n",
       "      <td>8</td>\n",
       "    </tr>\n",
       "    <tr>\n",
       "      <th>1481</th>\n",
       "      <td>ollama/ollama</td>\n",
       "      <td>8</td>\n",
       "    </tr>\n",
       "    <tr>\n",
       "      <th>144</th>\n",
       "      <td>scientific-python/specs</td>\n",
       "      <td>7</td>\n",
       "    </tr>\n",
       "    <tr>\n",
       "      <th>157</th>\n",
       "      <td>astral-sh/ruff</td>\n",
       "      <td>7</td>\n",
       "    </tr>\n",
       "  </tbody>\n",
       "</table>\n",
       "</div>"
      ],
      "text/plain": [
       "                                   repo_gits  repo_cntrb_counts\n",
       "92                           pytorch/pytorch                194\n",
       "108                    tensorflow/tensorflow                 77\n",
       "0                                        NaN                 68\n",
       "130                              numpy/numpy                 44\n",
       "107                              openxla/xla                 40\n",
       "664                               pytorch/ao                 33\n",
       "661                        pytorch/tutorials                 29\n",
       "350                               google/jax                 28\n",
       "143                              scipy/scipy                 27\n",
       "99                        pytorch/test-infra                 25\n",
       "787                       pytorch/torchtitan                 24\n",
       "98                        pytorch/executorch                 23\n",
       "105                        llvm/llvm-project                 23\n",
       "663                        pytorch/benchmark                 22\n",
       "675                          pytorch/builder                 22\n",
       "790                        pytorch/torchtune                 22\n",
       "423                       triton-lang/triton                 21\n",
       "339                        tinygrad/tinygrad                 21\n",
       "793                        vllm-project/vllm                 19\n",
       "425                           pytorch/FBGEMM                 18\n",
       "640                              pytorch/xla                 17\n",
       "933                         keras-team/keras                 17\n",
       "686                pytorch/pytorch.github.io                 15\n",
       "792                 huggingface/transformers                 14\n",
       "412                Dao-AILab/flash-attention                 13\n",
       "390                           python/cpython                 13\n",
       "986                    microsoft/onnxruntime                 12\n",
       "1060            google-ai-edge/ai-edge-torch                 12\n",
       "764                         karpathy/LLM101n                 12\n",
       "171                scikit-learn/scikit-learn                 11\n",
       "428                        networkx/networkx                 11\n",
       "799                           karpathy/llm.c                 11\n",
       "685                           pytorch/vision                 10\n",
       "1291                       pytorch/torchchat                 10\n",
       "777                           pytorch/kineto                 10\n",
       "1063                               ROCm/ROCm                  9\n",
       "769                        meta-llama/llama3                  9\n",
       "162       scipy-conference/scipy_proceedings                  9\n",
       "220                        pandas-dev/pandas                  9\n",
       "140                          numpy/numpy.org                  9\n",
       "1235                   pytorch-labs/gpt-fast                  8\n",
       "2447       intel/intel-extension-for-pytorch                  8\n",
       "784   facebookresearch/HolisticTraceAnalysis                  8\n",
       "1777                        pytorch/torchrec                  8\n",
       "1484                     ggerganov/llama.cpp                  8\n",
       "1517        pytorch-labs/float8_experimental                  8\n",
       "109                        openxla/stablehlo                  8\n",
       "1481                           ollama/ollama                  8\n",
       "144                  scientific-python/specs                  7\n",
       "157                           astral-sh/ruff                  7"
      ]
     },
     "execution_count": 91,
     "metadata": {},
     "output_type": "execute_result"
    }
   ],
   "source": [
    "# Here's the list of the top-50 most mutual repos among pagerank-top contributors\n",
    "df_for_fig[:FINAL_NUM_COMMON_REPOS]"
   ]
  },
  {
   "cell_type": "code",
   "execution_count": 93,
   "metadata": {},
   "outputs": [],
   "source": [
    "df_for_fig.to_csv('new_repos.csv')"
   ]
  },
  {
   "cell_type": "markdown",
   "metadata": {},
   "source": [
    "## Conclusion\n",
    "\n",
    "After running the PageRank algorithm on AI repositories, several key observations and takeaways have been made:\n",
    "\n",
    "##### 1. Significance of Seed Projects\n",
    "-  Expected Involvement: As anticipated, the repositories within the original seed projects (those identified as being part of the AI/ML ecosystem) prominently feature among the top PageRank results. This indicates that contributors to these seed projects also tend to contribute to other significant projects within the AI space.\n",
    "- Interpretation: The inclusion of seed projects among the top-ranked repositories confirms their centrality in the AI ecosystem. These projects are influential not only because of their individual importance but also due to their role in connecting various contributors within the broader AI community.\n",
    "##### 2. Discovery of New Influential Repositories\n",
    "- Emerging Projects: The analysis also identified repositories that were not part of the initial seed list but have emerged as significant through mutual contributor involvement like `pytorch/ao`, `openxla/xla`, `google/jax` etc. Google's jax is one of the key repositories which we did not add in our initial seed but it is found in the process. It is becoming increasingly popular in machine learning due to its efficiency in handling complex numerical tasks.\n",
    "- Interpretation: Discovering these repositories provides valuable insights into the evolving landscape of AI development. These projects might be on the cutting edge of innovation, attracting contributors who are deeply embedded in the AI/ML ecosystem.\n",
    "##### 3. Understanding Community Dynamics\n",
    "- Mutual Involvement: The analysis highlights repositories that have significant mutual involvement, meaning they share contributors with other top repositories. This mutual involvement indicates strong community dynamics and collaboration within the AI space.\n",
    "- Interpretation: The presence of these interconnected repositories suggests that certain areas of AI development are highly collaborative, with contributors working across multiple projects. This interconnectedness can be a sign of active development, knowledge sharing, and rapid advancement within the field.\n"
   ]
  },
  {
   "cell_type": "markdown",
   "metadata": {},
   "source": [
    "## Next Steps\n",
    "\n",
    "Set the 'seed' of another cycle of discovery to these 50 repos, called seed_1 (the successor to seed_0). Using this new, more inclusive seed_1, build a new collaboration network and rank the contributors in the new network. We infer that there will be significant overlap between those that are most involved in the seed_0 analysis phase as those identified  in the seed_1 analysis phase. \n",
    "\n",
    "Re-run this analysis, producing a prospective seed_2. Repeat, eventually generating seed_n. When seed_(n-1) is sufficiently similar to seed_n, we'll conclude that the identified \"neighborhood\" of the final seed repos has converged.\n",
    "\n",
    "As an interesting alternate thread, consider the use of pagerank-central contributors as done in this notebook. Instead of finding repos of largest mutuality, use the Events themselves with appropriate filtering to find those projects of highest sub-population involvement, at least numerically, and compare against this [notebook](../project_discovery/repo_discovery/repo_discovery.ipynb).\n",
    "\n",
    "Having a set of repos we can confidently say are \"highly mutual\" at least, we can use network science to visualize the neighborhood connection over time (notebooks/graph_analysis/approaches). "
   ]
  },
  {
   "cell_type": "markdown",
   "metadata": {},
   "source": []
  }
 ],
 "metadata": {
  "kernelspec": {
   "display_name": "Python 3",
   "language": "python",
   "name": "python3"
  },
  "language_info": {
   "codemirror_mode": {
    "name": "ipython",
    "version": 3
   },
   "file_extension": ".py",
   "mimetype": "text/x-python",
   "name": "python",
   "nbconvert_exporter": "python",
   "pygments_lexer": "ipython3",
   "version": "3.11.9"
  }
 },
 "nbformat": 4,
 "nbformat_minor": 2
}
