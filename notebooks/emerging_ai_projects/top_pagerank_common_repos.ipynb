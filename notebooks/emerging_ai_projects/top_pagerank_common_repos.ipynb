{
 "cells": [
  {
   "cell_type": "markdown",
   "metadata": {},
   "source": [
    "# AI Common Repositories of top contributors (based on pagerank score)"
   ]
  },
  {
   "cell_type": "markdown",
   "metadata": {},
   "source": [
    "# Table of Contents\n",
    "- [Introduction](#introduction)\n",
    "- [Database Connection](#database-connection)\n",
    "- [Get Page Rank Scores](#read-pagerank-scores)\n",
    "- [Fetch Contribution Event Stream](#contribution-event-stream)\n",
    "- [Page Rank Analysis](#page-rank-analysis)\n",
    "  - [Top 10% page rank score havers](#who-are-the-top_10_percent_considered-of-the-pagerank-score-havers)\n",
    "  - [Find events of each contributor](#find-events-for-each-of-the-contributors)\n",
    "- [Conclusion](#conclusion)\n",
    "- [Next Steps](#next-steps)"
   ]
  },
  {
   "cell_type": "markdown",
   "metadata": {},
   "source": [
    "# Introduction\n",
    "\n",
    "## Motivation and Rationale\n",
    "\n",
    "Inferring that a contributor's connectedness is a useful proxy for their importance\n",
    "or involvement in a community, take the top p% of contributors \n",
    "by their pagerank score and identify which repos they also belong/contribute to.\n",
    "\n",
    "Compare involvement to find maximal overlap among top percentage of contributors.\n",
    "\n",
    "## Background\n",
    "\n",
    "We've started from a 'seed' of repos that seem highly likely to be a \"part of the AI/ML neighborhood of projects.\" Our seed that is the initial list of respoitories can be found [here](ai_repos.json)."
   ]
  },
  {
   "cell_type": "markdown",
   "metadata": {},
   "source": [
    "## Imports"
   ]
  },
  {
   "cell_type": "code",
   "execution_count": 47,
   "metadata": {},
   "outputs": [],
   "source": [
    "import pandas as pd\n",
    "\n",
    "pd.set_option('display.max_rows', None)  # Display all rows\n",
    "pd.set_option('display.max_columns', None)  # Display all columns\n",
    "pd.set_option('display.width', None)  # Auto-detect terminal width\n",
    "\n",
    "# Or, set multiple options at once:\n",
    "pd.set_option('display.max_rows', 100, 'display.max_columns', 10)"
   ]
  },
  {
   "cell_type": "code",
   "execution_count": 48,
   "metadata": {},
   "outputs": [],
   "source": [
    "import pandas as pd\n",
    "import sqlalchemy as salc\n",
    "import plotly.express as px\n",
    "import json\n",
    "from IPython.display import Image\n",
    "from collections import Counter"
   ]
  },
  {
   "cell_type": "markdown",
   "metadata": {},
   "source": [
    "## Database Connection"
   ]
  },
  {
   "cell_type": "markdown",
   "metadata": {},
   "source": [
    "Connect to the Postgresql database."
   ]
  },
  {
   "cell_type": "code",
   "execution_count": 49,
   "metadata": {},
   "outputs": [],
   "source": [
    "# read configuration file\n",
    "with open(\"data/il_ai_creds.json\") as config_file:\n",
    "    config = json.load(config_file)\n",
    "\n",
    "# define cx string\n",
    "database_connection_string = f\"postgresql+psycopg2://{config['user']}:{config['password']}@{config['host']}:{config['port']}/{config['database']}\"\n",
    "\n",
    "# create engine\n",
    "engine = salc.create_engine(\n",
    "    database_connection_string,\n",
    "    connect_args={'options': f\"-csearch_path={'augur_data'}\"})"
   ]
  },
  {
   "cell_type": "markdown",
   "metadata": {},
   "source": [
    "## Global Switches"
   ]
  },
  {
   "cell_type": "markdown",
   "metadata": {},
   "source": [
    "Let's set the switches or the flags which are useful in the later sections."
   ]
  },
  {
   "cell_type": "code",
   "execution_count": 50,
   "metadata": {},
   "outputs": [],
   "source": [
    "# Whether we're using df_event_stream.parquet or querying the source database directly.\n",
    "LOCAL_DATA = True \n",
    "\n",
    "# what percent of the top contributors by pagerank should we consider?\n",
    "TOP_PERCENT_CONSIDERED = 0.10 \n",
    "\n",
    "# how many \"top repos\" should we output at the end?\n",
    "FINAL_NUM_COMMON_REPOS = 50"
   ]
  },
  {
   "cell_type": "markdown",
   "metadata": {},
   "source": [
    "## Read pagerank scores\n",
    "\n",
    "These scores are calculated by building a collaboration graph of the contributors in four projects\n",
    "and running the pagerank algorithm on the graph. The nodes of the graph are individual contributors,\n",
    "and the edges are weighted by the historical 'connectedness' between any two nodes. Connectedness increases\n",
    "when two individuals work on something together (PR, issue, commit). \n",
    "\n",
    "The described process is implemented in Rappel/notebooks/emerging_ai_projects/collabs.ipynb."
   ]
  },
  {
   "cell_type": "code",
   "execution_count": 51,
   "metadata": {},
   "outputs": [
    {
     "data": {
      "text/html": [
       "<div>\n",
       "<style scoped>\n",
       "    .dataframe tbody tr th:only-of-type {\n",
       "        vertical-align: middle;\n",
       "    }\n",
       "\n",
       "    .dataframe tbody tr th {\n",
       "        vertical-align: top;\n",
       "    }\n",
       "\n",
       "    .dataframe thead th {\n",
       "        text-align: right;\n",
       "    }\n",
       "</style>\n",
       "<table border=\"1\" class=\"dataframe\">\n",
       "  <thead>\n",
       "    <tr style=\"text-align: right;\">\n",
       "      <th></th>\n",
       "      <th>cntrb_id</th>\n",
       "      <th>score</th>\n",
       "    </tr>\n",
       "  </thead>\n",
       "  <tbody>\n",
       "    <tr>\n",
       "      <th>0</th>\n",
       "      <td>010000b0-0f00-0000-0000-000000000000</td>\n",
       "      <td>5.091654</td>\n",
       "    </tr>\n",
       "    <tr>\n",
       "      <th>1</th>\n",
       "      <td>01000180-1a00-0000-0000-000000000000</td>\n",
       "      <td>6.166832</td>\n",
       "    </tr>\n",
       "    <tr>\n",
       "      <th>2</th>\n",
       "      <td>01012f1b-7f00-0000-0000-000000000000</td>\n",
       "      <td>7.695306</td>\n",
       "    </tr>\n",
       "    <tr>\n",
       "      <th>3</th>\n",
       "      <td>010000b4-3700-0000-0000-000000000000</td>\n",
       "      <td>5.205809</td>\n",
       "    </tr>\n",
       "    <tr>\n",
       "      <th>4</th>\n",
       "      <td>010000f0-9200-0000-0000-000000000000</td>\n",
       "      <td>5.001404</td>\n",
       "    </tr>\n",
       "  </tbody>\n",
       "</table>\n",
       "</div>"
      ],
      "text/plain": [
       "                               cntrb_id     score\n",
       "0  010000b0-0f00-0000-0000-000000000000  5.091654\n",
       "1  01000180-1a00-0000-0000-000000000000  6.166832\n",
       "2  01012f1b-7f00-0000-0000-000000000000  7.695306\n",
       "3  010000b4-3700-0000-0000-000000000000  5.205809\n",
       "4  010000f0-9200-0000-0000-000000000000  5.001404"
      ]
     },
     "execution_count": 51,
     "metadata": {},
     "output_type": "execute_result"
    }
   ],
   "source": [
    "df_known_contribs = pd.read_csv('data/ai_contributor_pagerank.csv')\n",
    "df_known_contribs[\"cntrb_id\"] = df_known_contribs.cntrb_id.astype(str)\n",
    "df_known_contribs.head()"
   ]
  },
  {
   "cell_type": "markdown",
   "metadata": {},
   "source": [
    "## Contribution event stream\n",
    "\n",
    "Github provides an API endpoint from which one can query every event that occurs. For instance, if a contributor creates an issue on some repo, that event will be logged in the stream. A downside of this API is that it only serves the most recent two months of data. \n",
    "\n",
    "We want to use this stream to identify the set of repositories that our Known Contributors are also working in that weren't in the initial ecosystem kernel.\n",
    "\n",
    "The database that we use collects this event stream so we can query it from there rather than from Github. This is much faster than relying on the public Github API, and we will continue to collect the data that the API makes available, so over time the analysis that we can do will become richer and more complete. In the Augur database, the table with this information is the `contributor_repo` table."
   ]
  },
  {
   "cell_type": "code",
   "execution_count": 52,
   "metadata": {},
   "outputs": [],
   "source": [
    "event_stream_query = salc.sql.text(\n",
    "    f\"\"\"\n",
    "        SET SCHEMA 'augur_data';\n",
    "        SELECT \n",
    "            c.cntrb_id,\n",
    "            c.event_id,\n",
    "            c.created_at,\n",
    "            c.cntrb_repo_id as repo_id,\n",
    "            c.repo_git,\n",
    "            c.repo_name,\n",
    "            c.gh_repo_id,\n",
    "            c.cntrb_category as event_type\n",
    "        FROM\n",
    "        contributor_repo c\n",
    "    \"\"\")\n",
    "\n",
    "# Check if the data is stored locally or needs to be retrieved from the database\n",
    "if not LOCAL_DATA:\n",
    "    # Connect to the database engine and execute the SQL query to retrieve data\n",
    "    with engine.connect() as conn:\n",
    "        df_event_stream = pd.read_sql_query(event_stream_query, conn)\n",
    "        \n",
    "    # Save the retrieved data as a Parquet file for faster future access        \n",
    "    with open(\"data/df_event_stream.parquet\", \"wb+\") as f:\n",
    "        df_event_stream.cntrb_id = df_event_stream.cntrb_id.astype(str)\n",
    "        df_event_stream.to_parquet(f)\n",
    "else:\n",
    "    # If data is stored locally, read the Parquet file instead of querying the database\n",
    "    with open(\"data/df_event_stream.parquet\", \"rb+\") as f:\n",
    "        df_event_stream = pd.read_parquet(f)\n",
    "        df_event_stream.cntrb_id = df_event_stream.cntrb_id.astype(str)"
   ]
  },
  {
   "cell_type": "code",
   "execution_count": 53,
   "metadata": {},
   "outputs": [
    {
     "data": {
      "text/html": [
       "<div>\n",
       "<style scoped>\n",
       "    .dataframe tbody tr th:only-of-type {\n",
       "        vertical-align: middle;\n",
       "    }\n",
       "\n",
       "    .dataframe tbody tr th {\n",
       "        vertical-align: top;\n",
       "    }\n",
       "\n",
       "    .dataframe thead th {\n",
       "        text-align: right;\n",
       "    }\n",
       "</style>\n",
       "<table border=\"1\" class=\"dataframe\">\n",
       "  <thead>\n",
       "    <tr style=\"text-align: right;\">\n",
       "      <th></th>\n",
       "      <th>cntrb_id</th>\n",
       "      <th>event_id</th>\n",
       "      <th>created_at</th>\n",
       "      <th>repo_id</th>\n",
       "      <th>repo_git</th>\n",
       "      <th>repo_name</th>\n",
       "      <th>gh_repo_id</th>\n",
       "      <th>event_type</th>\n",
       "    </tr>\n",
       "  </thead>\n",
       "  <tbody>\n",
       "    <tr>\n",
       "      <th>0</th>\n",
       "      <td>01001583-8700-0000-0000-000000000000</td>\n",
       "      <td>37039342564</td>\n",
       "      <td>2024-04-01 03:54:33</td>\n",
       "      <td>5</td>\n",
       "      <td>https://api.github.com/repos/AmazingRise/hugo-...</td>\n",
       "      <td>AmazingRise/hugo-theme-diary</td>\n",
       "      <td>220989613</td>\n",
       "      <td>IssueCommentEvent</td>\n",
       "    </tr>\n",
       "    <tr>\n",
       "      <th>1</th>\n",
       "      <td>01001583-8700-0000-0000-000000000000</td>\n",
       "      <td>36966778104</td>\n",
       "      <td>2024-03-28 12:58:59</td>\n",
       "      <td>6</td>\n",
       "      <td>https://api.github.com/repos/AmazingRise/hugo-...</td>\n",
       "      <td>AmazingRise/hugo-theme-diary</td>\n",
       "      <td>220989613</td>\n",
       "      <td>IssueCommentEvent</td>\n",
       "    </tr>\n",
       "    <tr>\n",
       "      <th>2</th>\n",
       "      <td>01001583-8700-0000-0000-000000000000</td>\n",
       "      <td>36927475492</td>\n",
       "      <td>2024-03-27 11:44:16</td>\n",
       "      <td>7</td>\n",
       "      <td>https://api.github.com/repos/AmazingRise/hugo-...</td>\n",
       "      <td>AmazingRise/hugo-theme-diary</td>\n",
       "      <td>220989613</td>\n",
       "      <td>IssuesEvent</td>\n",
       "    </tr>\n",
       "    <tr>\n",
       "      <th>3</th>\n",
       "      <td>01003020-1200-0000-0000-000000000000</td>\n",
       "      <td>39202894121</td>\n",
       "      <td>2024-06-11 17:22:24</td>\n",
       "      <td>1808426</td>\n",
       "      <td>https://api.github.com/repos/fhh2626/BFEE2</td>\n",
       "      <td>fhh2626/BFEE2</td>\n",
       "      <td>322234705</td>\n",
       "      <td>ForkEvent</td>\n",
       "    </tr>\n",
       "    <tr>\n",
       "      <th>4</th>\n",
       "      <td>01003020-1200-0000-0000-000000000000</td>\n",
       "      <td>39169968316</td>\n",
       "      <td>2024-06-10 20:29:29</td>\n",
       "      <td>1808427</td>\n",
       "      <td>https://api.github.com/repos/fhh2626/BFEE2</td>\n",
       "      <td>fhh2626/BFEE2</td>\n",
       "      <td>322234705</td>\n",
       "      <td>IssuesEvent</td>\n",
       "    </tr>\n",
       "  </tbody>\n",
       "</table>\n",
       "</div>"
      ],
      "text/plain": [
       "                               cntrb_id     event_id          created_at  \\\n",
       "0  01001583-8700-0000-0000-000000000000  37039342564 2024-04-01 03:54:33   \n",
       "1  01001583-8700-0000-0000-000000000000  36966778104 2024-03-28 12:58:59   \n",
       "2  01001583-8700-0000-0000-000000000000  36927475492 2024-03-27 11:44:16   \n",
       "3  01003020-1200-0000-0000-000000000000  39202894121 2024-06-11 17:22:24   \n",
       "4  01003020-1200-0000-0000-000000000000  39169968316 2024-06-10 20:29:29   \n",
       "\n",
       "   repo_id                                           repo_git  \\\n",
       "0        5  https://api.github.com/repos/AmazingRise/hugo-...   \n",
       "1        6  https://api.github.com/repos/AmazingRise/hugo-...   \n",
       "2        7  https://api.github.com/repos/AmazingRise/hugo-...   \n",
       "3  1808426         https://api.github.com/repos/fhh2626/BFEE2   \n",
       "4  1808427         https://api.github.com/repos/fhh2626/BFEE2   \n",
       "\n",
       "                      repo_name  gh_repo_id         event_type  \n",
       "0  AmazingRise/hugo-theme-diary   220989613  IssueCommentEvent  \n",
       "1  AmazingRise/hugo-theme-diary   220989613  IssueCommentEvent  \n",
       "2  AmazingRise/hugo-theme-diary   220989613        IssuesEvent  \n",
       "3                 fhh2626/BFEE2   322234705          ForkEvent  \n",
       "4                 fhh2626/BFEE2   322234705        IssuesEvent  "
      ]
     },
     "execution_count": 53,
     "metadata": {},
     "output_type": "execute_result"
    }
   ],
   "source": [
    "df_event_stream.head()"
   ]
  },
  {
   "cell_type": "code",
   "execution_count": 54,
   "metadata": {},
   "outputs": [
    {
     "name": "stdout",
     "output_type": "stream",
     "text": [
      "There are: 6868909 events available\n"
     ]
    }
   ],
   "source": [
    "print(f\"There are: {df_event_stream.shape[0]} events available\")"
   ]
  },
  {
   "cell_type": "markdown",
   "metadata": {},
   "source": [
    "## Page Rank Analysis"
   ]
  },
  {
   "cell_type": "markdown",
   "metadata": {},
   "source": [
    "### Who are the TOP_10_PERCENT_CONSIDERED of the pagerank score-havers?"
   ]
  },
  {
   "cell_type": "markdown",
   "metadata": {},
   "source": [
    "Identify the top 10% of contributors from a dataset based on their scores after sorting by score."
   ]
  },
  {
   "cell_type": "code",
   "execution_count": 55,
   "metadata": {},
   "outputs": [
    {
     "name": "stdout",
     "output_type": "stream",
     "text": [
      "Num in original set: 5530\n",
      "Num in top 10%: 553\n"
     ]
    },
    {
     "data": {
      "text/html": [
       "<div>\n",
       "<style scoped>\n",
       "    .dataframe tbody tr th:only-of-type {\n",
       "        vertical-align: middle;\n",
       "    }\n",
       "\n",
       "    .dataframe tbody tr th {\n",
       "        vertical-align: top;\n",
       "    }\n",
       "\n",
       "    .dataframe thead th {\n",
       "        text-align: right;\n",
       "    }\n",
       "</style>\n",
       "<table border=\"1\" class=\"dataframe\">\n",
       "  <thead>\n",
       "    <tr style=\"text-align: right;\">\n",
       "      <th></th>\n",
       "      <th>cntrb_id</th>\n",
       "      <th>score</th>\n",
       "    </tr>\n",
       "  </thead>\n",
       "  <tbody>\n",
       "    <tr>\n",
       "      <th>2925</th>\n",
       "      <td>0105d3c3-3c00-0000-0000-000000000000</td>\n",
       "      <td>20.000000</td>\n",
       "    </tr>\n",
       "    <tr>\n",
       "      <th>599</th>\n",
       "      <td>010105b7-9400-0000-0000-000000000000</td>\n",
       "      <td>10.516865</td>\n",
       "    </tr>\n",
       "    <tr>\n",
       "      <th>3594</th>\n",
       "      <td>0103446d-3c00-0000-0000-000000000000</td>\n",
       "      <td>9.973792</td>\n",
       "    </tr>\n",
       "    <tr>\n",
       "      <th>994</th>\n",
       "      <td>01035fcc-de00-0000-0000-000000000000</td>\n",
       "      <td>8.690752</td>\n",
       "    </tr>\n",
       "    <tr>\n",
       "      <th>522</th>\n",
       "      <td>01027f51-2a00-0000-0000-000000000000</td>\n",
       "      <td>8.218088</td>\n",
       "    </tr>\n",
       "    <tr>\n",
       "      <th>...</th>\n",
       "      <td>...</td>\n",
       "      <td>...</td>\n",
       "    </tr>\n",
       "    <tr>\n",
       "      <th>4084</th>\n",
       "      <td>0106f05c-8000-0000-0000-000000000000</td>\n",
       "      <td>5.024569</td>\n",
       "    </tr>\n",
       "    <tr>\n",
       "      <th>467</th>\n",
       "      <td>01001292-d600-0000-0000-000000000000</td>\n",
       "      <td>5.024513</td>\n",
       "    </tr>\n",
       "    <tr>\n",
       "      <th>4740</th>\n",
       "      <td>0100fbb3-8200-0000-0000-000000000000</td>\n",
       "      <td>5.024494</td>\n",
       "    </tr>\n",
       "    <tr>\n",
       "      <th>519</th>\n",
       "      <td>010013e5-2200-0000-0000-000000000000</td>\n",
       "      <td>5.024446</td>\n",
       "    </tr>\n",
       "    <tr>\n",
       "      <th>817</th>\n",
       "      <td>0100f118-6700-0000-0000-000000000000</td>\n",
       "      <td>5.024440</td>\n",
       "    </tr>\n",
       "  </tbody>\n",
       "</table>\n",
       "<p>553 rows × 2 columns</p>\n",
       "</div>"
      ],
      "text/plain": [
       "                                  cntrb_id      score\n",
       "2925  0105d3c3-3c00-0000-0000-000000000000  20.000000\n",
       "599   010105b7-9400-0000-0000-000000000000  10.516865\n",
       "3594  0103446d-3c00-0000-0000-000000000000   9.973792\n",
       "994   01035fcc-de00-0000-0000-000000000000   8.690752\n",
       "522   01027f51-2a00-0000-0000-000000000000   8.218088\n",
       "...                                    ...        ...\n",
       "4084  0106f05c-8000-0000-0000-000000000000   5.024569\n",
       "467   01001292-d600-0000-0000-000000000000   5.024513\n",
       "4740  0100fbb3-8200-0000-0000-000000000000   5.024494\n",
       "519   010013e5-2200-0000-0000-000000000000   5.024446\n",
       "817   0100f118-6700-0000-0000-000000000000   5.024440\n",
       "\n",
       "[553 rows x 2 columns]"
      ]
     },
     "execution_count": 55,
     "metadata": {},
     "output_type": "execute_result"
    }
   ],
   "source": [
    "# Calculate the total number of contributors in the original dataset\n",
    "pop_contribs = df_known_contribs.shape[0]\n",
    "\n",
    "# Sort the contributors by their 'score' in descending order and select the top 10%\n",
    "# 'TOP_PERCENT_CONSIDERED' is a constant representing the percentage of contributors to consider (e.g., 0.10 for top 10%)\n",
    "top_10p = df_known_contribs.sort_values(by=\"score\", ascending=False)[:int(pop_contribs * TOP_PERCENT_CONSIDERED)]\n",
    "\n",
    "# Rename the 'user' column to 'cntrb_id' in the top 10% dataframe\n",
    "top_10p = top_10p.rename({\"user\": \"cntrb_id\"})\n",
    "\n",
    "# Print the number of contributors in the original dataset\n",
    "print(f\"Num in original set: {df_known_contribs.shape[0]}\")\n",
    "\n",
    "# Print the number of contributors in the top 10% based on their score\n",
    "print(f\"Num in top 10%: {top_10p.shape[0]}\")\n",
    "\n",
    "# Display the dataframe containing the top 10% contributors\n",
    "top_10p"
   ]
  },
  {
   "cell_type": "markdown",
   "metadata": {},
   "source": [
    "### Find events for each of the contributors\n",
    "\n",
    "Joining event stream and top_10p on the users' id will give us the events for each of the contributors."
   ]
  },
  {
   "cell_type": "markdown",
   "metadata": {},
   "source": [
    "The join operation requires the index of the other dataframe `df_event_stream` to match the column in the main dataframe `top_10p` that is used for the join.\n",
    "By setting the index of `df_event_stream` to the `cntrb_id` column using `set_index(\"cntrb_id\")`, the code ensures that the `cntrb_id` column in `top_10p` can be used to match and combine rows from both dataframes.\n",
    "\n",
    "The result `top_10p_events` is a new dataframe that includes all the columns from `top_10p` along with the corresponding event data from `df_event_stream` for each contributor in the top 10% group."
   ]
  },
  {
   "cell_type": "code",
   "execution_count": 56,
   "metadata": {},
   "outputs": [
    {
     "data": {
      "text/html": [
       "<div>\n",
       "<style scoped>\n",
       "    .dataframe tbody tr th:only-of-type {\n",
       "        vertical-align: middle;\n",
       "    }\n",
       "\n",
       "    .dataframe tbody tr th {\n",
       "        vertical-align: top;\n",
       "    }\n",
       "\n",
       "    .dataframe thead th {\n",
       "        text-align: right;\n",
       "    }\n",
       "</style>\n",
       "<table border=\"1\" class=\"dataframe\">\n",
       "  <thead>\n",
       "    <tr style=\"text-align: right;\">\n",
       "      <th></th>\n",
       "      <th>cntrb_id</th>\n",
       "      <th>score</th>\n",
       "      <th>event_id</th>\n",
       "      <th>created_at</th>\n",
       "      <th>repo_id</th>\n",
       "      <th>repo_git</th>\n",
       "      <th>repo_name</th>\n",
       "      <th>gh_repo_id</th>\n",
       "      <th>event_type</th>\n",
       "    </tr>\n",
       "  </thead>\n",
       "  <tbody>\n",
       "    <tr>\n",
       "      <th>2925</th>\n",
       "      <td>0105d3c3-3c00-0000-0000-000000000000</td>\n",
       "      <td>20.000000</td>\n",
       "      <td>3.991308e+10</td>\n",
       "      <td>2024-07-05 23:45:28</td>\n",
       "      <td>2278961.0</td>\n",
       "      <td>https://api.github.com/repos/pytorch/pytorch</td>\n",
       "      <td>pytorch/pytorch</td>\n",
       "      <td>65600975.0</td>\n",
       "      <td>IssueCommentEvent</td>\n",
       "    </tr>\n",
       "    <tr>\n",
       "      <th>2925</th>\n",
       "      <td>0105d3c3-3c00-0000-0000-000000000000</td>\n",
       "      <td>20.000000</td>\n",
       "      <td>3.991308e+10</td>\n",
       "      <td>2024-07-05 23:45:22</td>\n",
       "      <td>2278962.0</td>\n",
       "      <td>https://api.github.com/repos/pytorch/pytorch</td>\n",
       "      <td>pytorch/pytorch</td>\n",
       "      <td>65600975.0</td>\n",
       "      <td>IssueCommentEvent</td>\n",
       "    </tr>\n",
       "    <tr>\n",
       "      <th>2925</th>\n",
       "      <td>0105d3c3-3c00-0000-0000-000000000000</td>\n",
       "      <td>20.000000</td>\n",
       "      <td>3.991285e+10</td>\n",
       "      <td>2024-07-05 23:18:34</td>\n",
       "      <td>2278963.0</td>\n",
       "      <td>https://api.github.com/repos/pytorch/pytorch</td>\n",
       "      <td>pytorch/pytorch</td>\n",
       "      <td>65600975.0</td>\n",
       "      <td>PullRequestEvent</td>\n",
       "    </tr>\n",
       "    <tr>\n",
       "      <th>2925</th>\n",
       "      <td>0105d3c3-3c00-0000-0000-000000000000</td>\n",
       "      <td>20.000000</td>\n",
       "      <td>3.991285e+10</td>\n",
       "      <td>2024-07-05 23:18:32</td>\n",
       "      <td>2278964.0</td>\n",
       "      <td>https://api.github.com/repos/pytorch/pytorch</td>\n",
       "      <td>pytorch/pytorch</td>\n",
       "      <td>65600975.0</td>\n",
       "      <td>PushEvent</td>\n",
       "    </tr>\n",
       "    <tr>\n",
       "      <th>2925</th>\n",
       "      <td>0105d3c3-3c00-0000-0000-000000000000</td>\n",
       "      <td>20.000000</td>\n",
       "      <td>3.991280e+10</td>\n",
       "      <td>2024-07-05 23:12:56</td>\n",
       "      <td>2278965.0</td>\n",
       "      <td>https://api.github.com/repos/pytorch/pytorch</td>\n",
       "      <td>pytorch/pytorch</td>\n",
       "      <td>65600975.0</td>\n",
       "      <td>IssueCommentEvent</td>\n",
       "    </tr>\n",
       "    <tr>\n",
       "      <th>...</th>\n",
       "      <td>...</td>\n",
       "      <td>...</td>\n",
       "      <td>...</td>\n",
       "      <td>...</td>\n",
       "      <td>...</td>\n",
       "      <td>...</td>\n",
       "      <td>...</td>\n",
       "      <td>...</td>\n",
       "      <td>...</td>\n",
       "    </tr>\n",
       "    <tr>\n",
       "      <th>519</th>\n",
       "      <td>010013e5-2200-0000-0000-000000000000</td>\n",
       "      <td>5.024446</td>\n",
       "      <td>3.992988e+10</td>\n",
       "      <td>2024-07-07 12:34:25</td>\n",
       "      <td>6742434.0</td>\n",
       "      <td>https://api.github.com/repos/scipy/scipy</td>\n",
       "      <td>scipy/scipy</td>\n",
       "      <td>1460385.0</td>\n",
       "      <td>IssueCommentEvent</td>\n",
       "    </tr>\n",
       "    <tr>\n",
       "      <th>519</th>\n",
       "      <td>010013e5-2200-0000-0000-000000000000</td>\n",
       "      <td>5.024446</td>\n",
       "      <td>3.992984e+10</td>\n",
       "      <td>2024-07-07 12:31:27</td>\n",
       "      <td>6742435.0</td>\n",
       "      <td>https://api.github.com/repos/scipy/scipy</td>\n",
       "      <td>scipy/scipy</td>\n",
       "      <td>1460385.0</td>\n",
       "      <td>IssueCommentEvent</td>\n",
       "    </tr>\n",
       "    <tr>\n",
       "      <th>519</th>\n",
       "      <td>010013e5-2200-0000-0000-000000000000</td>\n",
       "      <td>5.024446</td>\n",
       "      <td>3.992956e+10</td>\n",
       "      <td>2024-07-07 12:03:16</td>\n",
       "      <td>6742436.0</td>\n",
       "      <td>https://api.github.com/repos/pyodide/pyodide</td>\n",
       "      <td>pyodide/pyodide</td>\n",
       "      <td>122663163.0</td>\n",
       "      <td>IssueCommentEvent</td>\n",
       "    </tr>\n",
       "    <tr>\n",
       "      <th>519</th>\n",
       "      <td>010013e5-2200-0000-0000-000000000000</td>\n",
       "      <td>5.024446</td>\n",
       "      <td>3.992949e+10</td>\n",
       "      <td>2024-07-07 11:54:50</td>\n",
       "      <td>6742437.0</td>\n",
       "      <td>https://api.github.com/repos/scipy/scipy</td>\n",
       "      <td>scipy/scipy</td>\n",
       "      <td>1460385.0</td>\n",
       "      <td>IssueCommentEvent</td>\n",
       "    </tr>\n",
       "    <tr>\n",
       "      <th>817</th>\n",
       "      <td>0100f118-6700-0000-0000-000000000000</td>\n",
       "      <td>5.024440</td>\n",
       "      <td>NaN</td>\n",
       "      <td>NaT</td>\n",
       "      <td>NaN</td>\n",
       "      <td>NaN</td>\n",
       "      <td>NaN</td>\n",
       "      <td>NaN</td>\n",
       "      <td>NaN</td>\n",
       "    </tr>\n",
       "  </tbody>\n",
       "</table>\n",
       "<p>138076 rows × 9 columns</p>\n",
       "</div>"
      ],
      "text/plain": [
       "                                  cntrb_id      score      event_id  \\\n",
       "2925  0105d3c3-3c00-0000-0000-000000000000  20.000000  3.991308e+10   \n",
       "2925  0105d3c3-3c00-0000-0000-000000000000  20.000000  3.991308e+10   \n",
       "2925  0105d3c3-3c00-0000-0000-000000000000  20.000000  3.991285e+10   \n",
       "2925  0105d3c3-3c00-0000-0000-000000000000  20.000000  3.991285e+10   \n",
       "2925  0105d3c3-3c00-0000-0000-000000000000  20.000000  3.991280e+10   \n",
       "...                                    ...        ...           ...   \n",
       "519   010013e5-2200-0000-0000-000000000000   5.024446  3.992988e+10   \n",
       "519   010013e5-2200-0000-0000-000000000000   5.024446  3.992984e+10   \n",
       "519   010013e5-2200-0000-0000-000000000000   5.024446  3.992956e+10   \n",
       "519   010013e5-2200-0000-0000-000000000000   5.024446  3.992949e+10   \n",
       "817   0100f118-6700-0000-0000-000000000000   5.024440           NaN   \n",
       "\n",
       "              created_at    repo_id  \\\n",
       "2925 2024-07-05 23:45:28  2278961.0   \n",
       "2925 2024-07-05 23:45:22  2278962.0   \n",
       "2925 2024-07-05 23:18:34  2278963.0   \n",
       "2925 2024-07-05 23:18:32  2278964.0   \n",
       "2925 2024-07-05 23:12:56  2278965.0   \n",
       "...                  ...        ...   \n",
       "519  2024-07-07 12:34:25  6742434.0   \n",
       "519  2024-07-07 12:31:27  6742435.0   \n",
       "519  2024-07-07 12:03:16  6742436.0   \n",
       "519  2024-07-07 11:54:50  6742437.0   \n",
       "817                  NaT        NaN   \n",
       "\n",
       "                                          repo_git        repo_name  \\\n",
       "2925  https://api.github.com/repos/pytorch/pytorch  pytorch/pytorch   \n",
       "2925  https://api.github.com/repos/pytorch/pytorch  pytorch/pytorch   \n",
       "2925  https://api.github.com/repos/pytorch/pytorch  pytorch/pytorch   \n",
       "2925  https://api.github.com/repos/pytorch/pytorch  pytorch/pytorch   \n",
       "2925  https://api.github.com/repos/pytorch/pytorch  pytorch/pytorch   \n",
       "...                                            ...              ...   \n",
       "519       https://api.github.com/repos/scipy/scipy      scipy/scipy   \n",
       "519       https://api.github.com/repos/scipy/scipy      scipy/scipy   \n",
       "519   https://api.github.com/repos/pyodide/pyodide  pyodide/pyodide   \n",
       "519       https://api.github.com/repos/scipy/scipy      scipy/scipy   \n",
       "817                                            NaN              NaN   \n",
       "\n",
       "       gh_repo_id         event_type  \n",
       "2925   65600975.0  IssueCommentEvent  \n",
       "2925   65600975.0  IssueCommentEvent  \n",
       "2925   65600975.0   PullRequestEvent  \n",
       "2925   65600975.0          PushEvent  \n",
       "2925   65600975.0  IssueCommentEvent  \n",
       "...           ...                ...  \n",
       "519     1460385.0  IssueCommentEvent  \n",
       "519     1460385.0  IssueCommentEvent  \n",
       "519   122663163.0  IssueCommentEvent  \n",
       "519     1460385.0  IssueCommentEvent  \n",
       "817           NaN                NaN  \n",
       "\n",
       "[138076 rows x 9 columns]"
      ]
     },
     "execution_count": 56,
     "metadata": {},
     "output_type": "execute_result"
    }
   ],
   "source": [
    "# joins events data on the top_10p group of people.\n",
    "# have to set the index of the 'other' df to be the column we want to join on\n",
    "top_10p_events = top_10p.join(\n",
    "    other=df_event_stream.set_index(\"cntrb_id\"),\n",
    "    on=\"cntrb_id\"\n",
    ")\n",
    "top_10p_events"
   ]
  },
  {
   "cell_type": "markdown",
   "metadata": {},
   "source": [
    "For each contributor, get the list of repo gits that they've made at least one contribution to."
   ]
  },
  {
   "cell_type": "code",
   "execution_count": 57,
   "metadata": {},
   "outputs": [
    {
     "data": {
      "text/html": [
       "<div>\n",
       "<style scoped>\n",
       "    .dataframe tbody tr th:only-of-type {\n",
       "        vertical-align: middle;\n",
       "    }\n",
       "\n",
       "    .dataframe tbody tr th {\n",
       "        vertical-align: top;\n",
       "    }\n",
       "\n",
       "    .dataframe thead th {\n",
       "        text-align: right;\n",
       "    }\n",
       "</style>\n",
       "<table border=\"1\" class=\"dataframe\">\n",
       "  <thead>\n",
       "    <tr style=\"text-align: right;\">\n",
       "      <th></th>\n",
       "      <th>unique</th>\n",
       "    </tr>\n",
       "    <tr>\n",
       "      <th>cntrb_id</th>\n",
       "      <th></th>\n",
       "    </tr>\n",
       "  </thead>\n",
       "  <tbody>\n",
       "    <tr>\n",
       "      <th>01000016-6a00-0000-0000-000000000000</th>\n",
       "      <td>[https://api.github.com/repos/kingjulio8238/me...</td>\n",
       "    </tr>\n",
       "    <tr>\n",
       "      <th>01000027-9900-0000-0000-000000000000</th>\n",
       "      <td>[https://api.github.com/repos/amzn/selling-par...</td>\n",
       "    </tr>\n",
       "    <tr>\n",
       "      <th>01000034-fc00-0000-0000-000000000000</th>\n",
       "      <td>[https://api.github.com/repos/pytorch/pytorch,...</td>\n",
       "    </tr>\n",
       "    <tr>\n",
       "      <th>01000040-9e00-0000-0000-000000000000</th>\n",
       "      <td>[https://api.github.com/repos/llvm/llvm-projec...</td>\n",
       "    </tr>\n",
       "    <tr>\n",
       "      <th>01000045-9f00-0000-0000-000000000000</th>\n",
       "      <td>[https://api.github.com/repos/iyaja/llama-fs, ...</td>\n",
       "    </tr>\n",
       "  </tbody>\n",
       "</table>\n",
       "</div>"
      ],
      "text/plain": [
       "                                                                                 unique\n",
       "cntrb_id                                                                               \n",
       "01000016-6a00-0000-0000-000000000000  [https://api.github.com/repos/kingjulio8238/me...\n",
       "01000027-9900-0000-0000-000000000000  [https://api.github.com/repos/amzn/selling-par...\n",
       "01000034-fc00-0000-0000-000000000000  [https://api.github.com/repos/pytorch/pytorch,...\n",
       "01000040-9e00-0000-0000-000000000000  [https://api.github.com/repos/llvm/llvm-projec...\n",
       "01000045-9f00-0000-0000-000000000000  [https://api.github.com/repos/iyaja/llama-fs, ..."
      ]
     },
     "execution_count": 57,
     "metadata": {},
     "output_type": "execute_result"
    }
   ],
   "source": [
    "cntrb_repos = top_10p_events.groupby([\"cntrb_id\"])[\"repo_git\"].agg(['unique'])\n",
    "cntrb_repos.head()"
   ]
  },
  {
   "cell_type": "code",
   "execution_count": 58,
   "metadata": {},
   "outputs": [],
   "source": [
    "# concatenate all of the lists of repo belonging together for all of the contribs. and then, count the occurrences of each repository.\n",
    "all_repos = []\n",
    "for row in cntrb_repos[\"unique\"]:\n",
    "    all_repos = all_repos + list(row)\n",
    "    \n",
    "n_contribs_per_repo = dict(Counter(all_repos))"
   ]
  },
  {
   "cell_type": "code",
   "execution_count": 59,
   "metadata": {},
   "outputs": [
    {
     "data": {
      "text/plain": [
       "[('https://api.github.com/repos/kingjulio8238/memary', 1),\n",
       " ('https://api.github.com/repos/dust-tt/dust', 1),\n",
       " ('https://api.github.com/repos/outropy/storefront3', 1),\n",
       " ('https://api.github.com/repos/amzn/selling-partner-api-models', 1),\n",
       " ('https://api.github.com/repos/FAIRplus/the-fair-cookbook', 1),\n",
       " ('https://api.github.com/repos/yearn/yearn-devdocs', 1),\n",
       " ('https://api.github.com/repos/renee-schultz-wu/javascript-exercises', 1),\n",
       " ('https://api.github.com/repos/open-telemetry/opentelemetry-dotnet-contrib',\n",
       "  2),\n",
       " ('https://api.github.com/repos/pulumi/docs', 1),\n",
       " ('https://api.github.com/repos/epfllibrary/costcalc', 1)]"
      ]
     },
     "execution_count": 59,
     "metadata": {},
     "output_type": "execute_result"
    }
   ],
   "source": [
    "list(n_contribs_per_repo.items())[:10]"
   ]
  },
  {
   "cell_type": "code",
   "execution_count": 60,
   "metadata": {},
   "outputs": [],
   "source": [
    "# Translate the dictionary into a dataframe and sort\n",
    "df_for_fig = pd.DataFrame(list(n_contribs_per_repo.items()), columns=['repo_gits', 'repo_cntrb_counts']).sort_values(by=\"repo_cntrb_counts\", ascending=False)\n",
    "df_for_fig.repo_gits = df_for_fig.repo_gits.apply(lambda x : x.removeprefix(\"https://api.github.com/repos/\") if(type(x)==str) else x)"
   ]
  },
  {
   "cell_type": "code",
   "execution_count": 65,
   "metadata": {},
   "outputs": [
    {
     "data": {
      "text/html": [
       "<div>\n",
       "<style scoped>\n",
       "    .dataframe tbody tr th:only-of-type {\n",
       "        vertical-align: middle;\n",
       "    }\n",
       "\n",
       "    .dataframe tbody tr th {\n",
       "        vertical-align: top;\n",
       "    }\n",
       "\n",
       "    .dataframe thead th {\n",
       "        text-align: right;\n",
       "    }\n",
       "</style>\n",
       "<table border=\"1\" class=\"dataframe\">\n",
       "  <thead>\n",
       "    <tr style=\"text-align: right;\">\n",
       "      <th></th>\n",
       "      <th>repo_gits</th>\n",
       "      <th>repo_cntrb_counts</th>\n",
       "    </tr>\n",
       "  </thead>\n",
       "  <tbody>\n",
       "    <tr>\n",
       "      <th>86</th>\n",
       "      <td>pytorch/pytorch</td>\n",
       "      <td>181</td>\n",
       "    </tr>\n",
       "    <tr>\n",
       "      <th>523</th>\n",
       "      <td>NaN</td>\n",
       "      <td>86</td>\n",
       "    </tr>\n",
       "    <tr>\n",
       "      <th>99</th>\n",
       "      <td>tensorflow/tensorflow</td>\n",
       "      <td>57</td>\n",
       "    </tr>\n",
       "    <tr>\n",
       "      <th>189</th>\n",
       "      <td>numpy/numpy</td>\n",
       "      <td>45</td>\n",
       "    </tr>\n",
       "    <tr>\n",
       "      <th>340</th>\n",
       "      <td>google/jax</td>\n",
       "      <td>39</td>\n",
       "    </tr>\n",
       "    <tr>\n",
       "      <th>...</th>\n",
       "      <td>...</td>\n",
       "      <td>...</td>\n",
       "    </tr>\n",
       "    <tr>\n",
       "      <th>2752</th>\n",
       "      <td>facebookresearch/pyvrs</td>\n",
       "      <td>1</td>\n",
       "    </tr>\n",
       "    <tr>\n",
       "      <th>2751</th>\n",
       "      <td>relayjs/relay-examples</td>\n",
       "      <td>1</td>\n",
       "    </tr>\n",
       "    <tr>\n",
       "      <th>2749</th>\n",
       "      <td>facebook/yoga</td>\n",
       "      <td>1</td>\n",
       "    </tr>\n",
       "    <tr>\n",
       "      <th>2748</th>\n",
       "      <td>facebookresearch/d2go</td>\n",
       "      <td>1</td>\n",
       "    </tr>\n",
       "    <tr>\n",
       "      <th>7539</th>\n",
       "      <td>benoitc/gunicorn</td>\n",
       "      <td>1</td>\n",
       "    </tr>\n",
       "  </tbody>\n",
       "</table>\n",
       "<p>7540 rows × 2 columns</p>\n",
       "</div>"
      ],
      "text/plain": [
       "                   repo_gits  repo_cntrb_counts\n",
       "86           pytorch/pytorch                181\n",
       "523                      NaN                 86\n",
       "99     tensorflow/tensorflow                 57\n",
       "189              numpy/numpy                 45\n",
       "340               google/jax                 39\n",
       "...                      ...                ...\n",
       "2752  facebookresearch/pyvrs                  1\n",
       "2751  relayjs/relay-examples                  1\n",
       "2749           facebook/yoga                  1\n",
       "2748   facebookresearch/d2go                  1\n",
       "7539        benoitc/gunicorn                  1\n",
       "\n",
       "[7540 rows x 2 columns]"
      ]
     },
     "execution_count": 65,
     "metadata": {},
     "output_type": "execute_result"
    }
   ],
   "source": [
    "df_for_fig"
   ]
  },
  {
   "cell_type": "code",
   "execution_count": 61,
   "metadata": {},
   "outputs": [],
   "source": [
    "fig = px.bar(\n",
    "    data_frame=df_for_fig[:FINAL_NUM_COMMON_REPOS],\n",
    "    y=\"repo_gits\",\n",
    "    x=\"repo_cntrb_counts\",\n",
    "    hover_name=\"repo_cntrb_counts\",\n",
    "    orientation=\"h\"\n",
    ")"
   ]
  },
  {
   "cell_type": "code",
   "execution_count": 62,
   "metadata": {},
   "outputs": [
    {
     "data": {
      "application/vnd.plotly.v1+json": {
       "config": {
        "plotlyServerURL": "https://plot.ly"
       },
       "data": [
        {
         "alignmentgroup": "True",
         "hovertemplate": "<b>%{hovertext}</b><br><br>repo_cntrb_counts=%{x}<br>repo_gits=%{y}<extra></extra>",
         "hovertext": [
          181,
          86,
          57,
          45,
          39,
          37,
          36,
          30,
          28,
          27,
          27,
          25,
          24,
          22,
          21,
          19,
          19,
          19,
          17,
          16,
          15,
          14,
          13,
          13,
          13,
          13,
          12,
          12,
          11,
          11,
          11,
          10,
          10,
          10,
          10,
          9,
          9,
          9,
          9,
          8,
          8,
          8,
          8,
          8,
          8,
          8,
          8,
          8,
          7,
          7
         ],
         "legendgroup": "",
         "marker": {
          "color": "#636efa",
          "pattern": {
           "shape": ""
          }
         },
         "name": "",
         "offsetgroup": "",
         "orientation": "h",
         "showlegend": false,
         "textposition": "auto",
         "type": "bar",
         "x": [
          181,
          86,
          57,
          45,
          39,
          37,
          36,
          30,
          28,
          27,
          27,
          25,
          24,
          22,
          21,
          19,
          19,
          19,
          17,
          16,
          15,
          14,
          13,
          13,
          13,
          13,
          12,
          12,
          11,
          11,
          11,
          10,
          10,
          10,
          10,
          9,
          9,
          9,
          9,
          8,
          8,
          8,
          8,
          8,
          8,
          8,
          8,
          8,
          7,
          7
         ],
         "xaxis": "x",
         "y": [
          "pytorch/pytorch",
          null,
          "tensorflow/tensorflow",
          "numpy/numpy",
          "google/jax",
          "openxla/xla",
          "pytorch/ao",
          "pytorch/tutorials",
          "scipy/scipy",
          "pytorch/executorch",
          "llvm/llvm-project",
          "pytorch/test-infra",
          "pytorch/torchtune",
          "triton-lang/triton",
          "pytorch/builder",
          "huggingface/transformers",
          "pytorch/torchtitan",
          "pytorch/benchmark",
          "pytorch/xla",
          "pytorch/pytorch.github.io",
          "tinygrad/tinygrad",
          "python/cpython",
          "pytorch/FBGEMM",
          "microsoft/onnxruntime",
          "keras-team/keras",
          "openxla/stablehlo",
          "pytorch/torchchat",
          "google-ai-edge/model-explorer",
          "pytorch/vision",
          "karpathy/llm.c",
          "Lightning-AI/lightning-thunder",
          "numpy/numpy.org",
          "vllm-project/vllm",
          "google-ai-edge/ai-edge-torch",
          "networkx/networkx",
          "pytorch-labs/float8_experimental",
          "scientific-python/specs",
          "scikit-learn/scikit-learn",
          "intel/intel-extension-for-pytorch",
          "scientific-python/blog.scientific-python.org",
          "karpathy/LLM101n",
          "scipy-conference/scipy_proceedings",
          "meta-llama/llama3",
          "ggerganov/llama.cpp",
          "astral-sh/ruff",
          "astral-sh/uv",
          "OpenMathLib/OpenBLAS",
          "pytorch-labs/gpt-fast",
          "cupy/cupy",
          "pandas-dev/pandas"
         ],
         "yaxis": "y"
        }
       ],
       "layout": {
        "barmode": "relative",
        "legend": {
         "tracegroupgap": 0
        },
        "margin": {
         "t": 60
        },
        "template": {
         "data": {
          "bar": [
           {
            "error_x": {
             "color": "#2a3f5f"
            },
            "error_y": {
             "color": "#2a3f5f"
            },
            "marker": {
             "line": {
              "color": "#E5ECF6",
              "width": 0.5
             },
             "pattern": {
              "fillmode": "overlay",
              "size": 10,
              "solidity": 0.2
             }
            },
            "type": "bar"
           }
          ],
          "barpolar": [
           {
            "marker": {
             "line": {
              "color": "#E5ECF6",
              "width": 0.5
             },
             "pattern": {
              "fillmode": "overlay",
              "size": 10,
              "solidity": 0.2
             }
            },
            "type": "barpolar"
           }
          ],
          "carpet": [
           {
            "aaxis": {
             "endlinecolor": "#2a3f5f",
             "gridcolor": "white",
             "linecolor": "white",
             "minorgridcolor": "white",
             "startlinecolor": "#2a3f5f"
            },
            "baxis": {
             "endlinecolor": "#2a3f5f",
             "gridcolor": "white",
             "linecolor": "white",
             "minorgridcolor": "white",
             "startlinecolor": "#2a3f5f"
            },
            "type": "carpet"
           }
          ],
          "choropleth": [
           {
            "colorbar": {
             "outlinewidth": 0,
             "ticks": ""
            },
            "type": "choropleth"
           }
          ],
          "contour": [
           {
            "colorbar": {
             "outlinewidth": 0,
             "ticks": ""
            },
            "colorscale": [
             [
              0,
              "#0d0887"
             ],
             [
              0.1111111111111111,
              "#46039f"
             ],
             [
              0.2222222222222222,
              "#7201a8"
             ],
             [
              0.3333333333333333,
              "#9c179e"
             ],
             [
              0.4444444444444444,
              "#bd3786"
             ],
             [
              0.5555555555555556,
              "#d8576b"
             ],
             [
              0.6666666666666666,
              "#ed7953"
             ],
             [
              0.7777777777777778,
              "#fb9f3a"
             ],
             [
              0.8888888888888888,
              "#fdca26"
             ],
             [
              1,
              "#f0f921"
             ]
            ],
            "type": "contour"
           }
          ],
          "contourcarpet": [
           {
            "colorbar": {
             "outlinewidth": 0,
             "ticks": ""
            },
            "type": "contourcarpet"
           }
          ],
          "heatmap": [
           {
            "colorbar": {
             "outlinewidth": 0,
             "ticks": ""
            },
            "colorscale": [
             [
              0,
              "#0d0887"
             ],
             [
              0.1111111111111111,
              "#46039f"
             ],
             [
              0.2222222222222222,
              "#7201a8"
             ],
             [
              0.3333333333333333,
              "#9c179e"
             ],
             [
              0.4444444444444444,
              "#bd3786"
             ],
             [
              0.5555555555555556,
              "#d8576b"
             ],
             [
              0.6666666666666666,
              "#ed7953"
             ],
             [
              0.7777777777777778,
              "#fb9f3a"
             ],
             [
              0.8888888888888888,
              "#fdca26"
             ],
             [
              1,
              "#f0f921"
             ]
            ],
            "type": "heatmap"
           }
          ],
          "heatmapgl": [
           {
            "colorbar": {
             "outlinewidth": 0,
             "ticks": ""
            },
            "colorscale": [
             [
              0,
              "#0d0887"
             ],
             [
              0.1111111111111111,
              "#46039f"
             ],
             [
              0.2222222222222222,
              "#7201a8"
             ],
             [
              0.3333333333333333,
              "#9c179e"
             ],
             [
              0.4444444444444444,
              "#bd3786"
             ],
             [
              0.5555555555555556,
              "#d8576b"
             ],
             [
              0.6666666666666666,
              "#ed7953"
             ],
             [
              0.7777777777777778,
              "#fb9f3a"
             ],
             [
              0.8888888888888888,
              "#fdca26"
             ],
             [
              1,
              "#f0f921"
             ]
            ],
            "type": "heatmapgl"
           }
          ],
          "histogram": [
           {
            "marker": {
             "pattern": {
              "fillmode": "overlay",
              "size": 10,
              "solidity": 0.2
             }
            },
            "type": "histogram"
           }
          ],
          "histogram2d": [
           {
            "colorbar": {
             "outlinewidth": 0,
             "ticks": ""
            },
            "colorscale": [
             [
              0,
              "#0d0887"
             ],
             [
              0.1111111111111111,
              "#46039f"
             ],
             [
              0.2222222222222222,
              "#7201a8"
             ],
             [
              0.3333333333333333,
              "#9c179e"
             ],
             [
              0.4444444444444444,
              "#bd3786"
             ],
             [
              0.5555555555555556,
              "#d8576b"
             ],
             [
              0.6666666666666666,
              "#ed7953"
             ],
             [
              0.7777777777777778,
              "#fb9f3a"
             ],
             [
              0.8888888888888888,
              "#fdca26"
             ],
             [
              1,
              "#f0f921"
             ]
            ],
            "type": "histogram2d"
           }
          ],
          "histogram2dcontour": [
           {
            "colorbar": {
             "outlinewidth": 0,
             "ticks": ""
            },
            "colorscale": [
             [
              0,
              "#0d0887"
             ],
             [
              0.1111111111111111,
              "#46039f"
             ],
             [
              0.2222222222222222,
              "#7201a8"
             ],
             [
              0.3333333333333333,
              "#9c179e"
             ],
             [
              0.4444444444444444,
              "#bd3786"
             ],
             [
              0.5555555555555556,
              "#d8576b"
             ],
             [
              0.6666666666666666,
              "#ed7953"
             ],
             [
              0.7777777777777778,
              "#fb9f3a"
             ],
             [
              0.8888888888888888,
              "#fdca26"
             ],
             [
              1,
              "#f0f921"
             ]
            ],
            "type": "histogram2dcontour"
           }
          ],
          "mesh3d": [
           {
            "colorbar": {
             "outlinewidth": 0,
             "ticks": ""
            },
            "type": "mesh3d"
           }
          ],
          "parcoords": [
           {
            "line": {
             "colorbar": {
              "outlinewidth": 0,
              "ticks": ""
             }
            },
            "type": "parcoords"
           }
          ],
          "pie": [
           {
            "automargin": true,
            "type": "pie"
           }
          ],
          "scatter": [
           {
            "fillpattern": {
             "fillmode": "overlay",
             "size": 10,
             "solidity": 0.2
            },
            "type": "scatter"
           }
          ],
          "scatter3d": [
           {
            "line": {
             "colorbar": {
              "outlinewidth": 0,
              "ticks": ""
             }
            },
            "marker": {
             "colorbar": {
              "outlinewidth": 0,
              "ticks": ""
             }
            },
            "type": "scatter3d"
           }
          ],
          "scattercarpet": [
           {
            "marker": {
             "colorbar": {
              "outlinewidth": 0,
              "ticks": ""
             }
            },
            "type": "scattercarpet"
           }
          ],
          "scattergeo": [
           {
            "marker": {
             "colorbar": {
              "outlinewidth": 0,
              "ticks": ""
             }
            },
            "type": "scattergeo"
           }
          ],
          "scattergl": [
           {
            "marker": {
             "colorbar": {
              "outlinewidth": 0,
              "ticks": ""
             }
            },
            "type": "scattergl"
           }
          ],
          "scattermapbox": [
           {
            "marker": {
             "colorbar": {
              "outlinewidth": 0,
              "ticks": ""
             }
            },
            "type": "scattermapbox"
           }
          ],
          "scatterpolar": [
           {
            "marker": {
             "colorbar": {
              "outlinewidth": 0,
              "ticks": ""
             }
            },
            "type": "scatterpolar"
           }
          ],
          "scatterpolargl": [
           {
            "marker": {
             "colorbar": {
              "outlinewidth": 0,
              "ticks": ""
             }
            },
            "type": "scatterpolargl"
           }
          ],
          "scatterternary": [
           {
            "marker": {
             "colorbar": {
              "outlinewidth": 0,
              "ticks": ""
             }
            },
            "type": "scatterternary"
           }
          ],
          "surface": [
           {
            "colorbar": {
             "outlinewidth": 0,
             "ticks": ""
            },
            "colorscale": [
             [
              0,
              "#0d0887"
             ],
             [
              0.1111111111111111,
              "#46039f"
             ],
             [
              0.2222222222222222,
              "#7201a8"
             ],
             [
              0.3333333333333333,
              "#9c179e"
             ],
             [
              0.4444444444444444,
              "#bd3786"
             ],
             [
              0.5555555555555556,
              "#d8576b"
             ],
             [
              0.6666666666666666,
              "#ed7953"
             ],
             [
              0.7777777777777778,
              "#fb9f3a"
             ],
             [
              0.8888888888888888,
              "#fdca26"
             ],
             [
              1,
              "#f0f921"
             ]
            ],
            "type": "surface"
           }
          ],
          "table": [
           {
            "cells": {
             "fill": {
              "color": "#EBF0F8"
             },
             "line": {
              "color": "white"
             }
            },
            "header": {
             "fill": {
              "color": "#C8D4E3"
             },
             "line": {
              "color": "white"
             }
            },
            "type": "table"
           }
          ]
         },
         "layout": {
          "annotationdefaults": {
           "arrowcolor": "#2a3f5f",
           "arrowhead": 0,
           "arrowwidth": 1
          },
          "autotypenumbers": "strict",
          "coloraxis": {
           "colorbar": {
            "outlinewidth": 0,
            "ticks": ""
           }
          },
          "colorscale": {
           "diverging": [
            [
             0,
             "#8e0152"
            ],
            [
             0.1,
             "#c51b7d"
            ],
            [
             0.2,
             "#de77ae"
            ],
            [
             0.3,
             "#f1b6da"
            ],
            [
             0.4,
             "#fde0ef"
            ],
            [
             0.5,
             "#f7f7f7"
            ],
            [
             0.6,
             "#e6f5d0"
            ],
            [
             0.7,
             "#b8e186"
            ],
            [
             0.8,
             "#7fbc41"
            ],
            [
             0.9,
             "#4d9221"
            ],
            [
             1,
             "#276419"
            ]
           ],
           "sequential": [
            [
             0,
             "#0d0887"
            ],
            [
             0.1111111111111111,
             "#46039f"
            ],
            [
             0.2222222222222222,
             "#7201a8"
            ],
            [
             0.3333333333333333,
             "#9c179e"
            ],
            [
             0.4444444444444444,
             "#bd3786"
            ],
            [
             0.5555555555555556,
             "#d8576b"
            ],
            [
             0.6666666666666666,
             "#ed7953"
            ],
            [
             0.7777777777777778,
             "#fb9f3a"
            ],
            [
             0.8888888888888888,
             "#fdca26"
            ],
            [
             1,
             "#f0f921"
            ]
           ],
           "sequentialminus": [
            [
             0,
             "#0d0887"
            ],
            [
             0.1111111111111111,
             "#46039f"
            ],
            [
             0.2222222222222222,
             "#7201a8"
            ],
            [
             0.3333333333333333,
             "#9c179e"
            ],
            [
             0.4444444444444444,
             "#bd3786"
            ],
            [
             0.5555555555555556,
             "#d8576b"
            ],
            [
             0.6666666666666666,
             "#ed7953"
            ],
            [
             0.7777777777777778,
             "#fb9f3a"
            ],
            [
             0.8888888888888888,
             "#fdca26"
            ],
            [
             1,
             "#f0f921"
            ]
           ]
          },
          "colorway": [
           "#636efa",
           "#EF553B",
           "#00cc96",
           "#ab63fa",
           "#FFA15A",
           "#19d3f3",
           "#FF6692",
           "#B6E880",
           "#FF97FF",
           "#FECB52"
          ],
          "font": {
           "color": "#2a3f5f"
          },
          "geo": {
           "bgcolor": "white",
           "lakecolor": "white",
           "landcolor": "#E5ECF6",
           "showlakes": true,
           "showland": true,
           "subunitcolor": "white"
          },
          "hoverlabel": {
           "align": "left"
          },
          "hovermode": "closest",
          "mapbox": {
           "style": "light"
          },
          "paper_bgcolor": "white",
          "plot_bgcolor": "#E5ECF6",
          "polar": {
           "angularaxis": {
            "gridcolor": "white",
            "linecolor": "white",
            "ticks": ""
           },
           "bgcolor": "#E5ECF6",
           "radialaxis": {
            "gridcolor": "white",
            "linecolor": "white",
            "ticks": ""
           }
          },
          "scene": {
           "xaxis": {
            "backgroundcolor": "#E5ECF6",
            "gridcolor": "white",
            "gridwidth": 2,
            "linecolor": "white",
            "showbackground": true,
            "ticks": "",
            "zerolinecolor": "white"
           },
           "yaxis": {
            "backgroundcolor": "#E5ECF6",
            "gridcolor": "white",
            "gridwidth": 2,
            "linecolor": "white",
            "showbackground": true,
            "ticks": "",
            "zerolinecolor": "white"
           },
           "zaxis": {
            "backgroundcolor": "#E5ECF6",
            "gridcolor": "white",
            "gridwidth": 2,
            "linecolor": "white",
            "showbackground": true,
            "ticks": "",
            "zerolinecolor": "white"
           }
          },
          "shapedefaults": {
           "line": {
            "color": "#2a3f5f"
           }
          },
          "ternary": {
           "aaxis": {
            "gridcolor": "white",
            "linecolor": "white",
            "ticks": ""
           },
           "baxis": {
            "gridcolor": "white",
            "linecolor": "white",
            "ticks": ""
           },
           "bgcolor": "#E5ECF6",
           "caxis": {
            "gridcolor": "white",
            "linecolor": "white",
            "ticks": ""
           }
          },
          "title": {
           "x": 0.05
          },
          "xaxis": {
           "automargin": true,
           "gridcolor": "white",
           "linecolor": "white",
           "ticks": "",
           "title": {
            "standoff": 15
           },
           "zerolinecolor": "white",
           "zerolinewidth": 2
          },
          "yaxis": {
           "automargin": true,
           "gridcolor": "white",
           "linecolor": "white",
           "ticks": "",
           "title": {
            "standoff": 15
           },
           "zerolinecolor": "white",
           "zerolinewidth": 2
          }
         }
        },
        "xaxis": {
         "anchor": "y",
         "domain": [
          0,
          1
         ],
         "title": {
          "text": "repo_cntrb_counts"
         }
        },
        "yaxis": {
         "anchor": "x",
         "domain": [
          0,
          1
         ],
         "title": {
          "text": "repo_gits"
         }
        }
       }
      }
     },
     "metadata": {},
     "output_type": "display_data"
    }
   ],
   "source": [
    "fig.show()"
   ]
  },
  {
   "cell_type": "markdown",
   "metadata": {},
   "source": [
    "**Note**: \n",
    "\n",
    "Image below omits many github URLs associated with the real column rendered.\n",
    "Consider running notebook for holistic visualization."
   ]
  },
  {
   "cell_type": "code",
   "execution_count": 63,
   "metadata": {},
   "outputs": [
    {
     "data": {
      "image/png": "[encoded data removed]",
      "text/plain": [
       "<IPython.core.display.Image object>"
      ]
     },
     "execution_count": 63,
     "metadata": {},
     "output_type": "execute_result"
    }
   ],
   "source": [
    "fig.write_image(\"repo_cntrb_counts.png\")\n",
    "Image(filename=\"repo_cntrb_counts.png\")"
   ]
  },
  {
   "cell_type": "code",
   "execution_count": 64,
   "metadata": {},
   "outputs": [
    {
     "data": {
      "text/html": [
       "<div>\n",
       "<style scoped>\n",
       "    .dataframe tbody tr th:only-of-type {\n",
       "        vertical-align: middle;\n",
       "    }\n",
       "\n",
       "    .dataframe tbody tr th {\n",
       "        vertical-align: top;\n",
       "    }\n",
       "\n",
       "    .dataframe thead th {\n",
       "        text-align: right;\n",
       "    }\n",
       "</style>\n",
       "<table border=\"1\" class=\"dataframe\">\n",
       "  <thead>\n",
       "    <tr style=\"text-align: right;\">\n",
       "      <th></th>\n",
       "      <th>repo_gits</th>\n",
       "      <th>repo_cntrb_counts</th>\n",
       "    </tr>\n",
       "  </thead>\n",
       "  <tbody>\n",
       "    <tr>\n",
       "      <th>86</th>\n",
       "      <td>pytorch/pytorch</td>\n",
       "      <td>181</td>\n",
       "    </tr>\n",
       "    <tr>\n",
       "      <th>523</th>\n",
       "      <td>NaN</td>\n",
       "      <td>86</td>\n",
       "    </tr>\n",
       "    <tr>\n",
       "      <th>99</th>\n",
       "      <td>tensorflow/tensorflow</td>\n",
       "      <td>57</td>\n",
       "    </tr>\n",
       "    <tr>\n",
       "      <th>189</th>\n",
       "      <td>numpy/numpy</td>\n",
       "      <td>45</td>\n",
       "    </tr>\n",
       "    <tr>\n",
       "      <th>340</th>\n",
       "      <td>google/jax</td>\n",
       "      <td>39</td>\n",
       "    </tr>\n",
       "    <tr>\n",
       "      <th>98</th>\n",
       "      <td>openxla/xla</td>\n",
       "      <td>37</td>\n",
       "    </tr>\n",
       "    <tr>\n",
       "      <th>114</th>\n",
       "      <td>pytorch/ao</td>\n",
       "      <td>36</td>\n",
       "    </tr>\n",
       "    <tr>\n",
       "      <th>744</th>\n",
       "      <td>pytorch/tutorials</td>\n",
       "      <td>30</td>\n",
       "    </tr>\n",
       "    <tr>\n",
       "      <th>202</th>\n",
       "      <td>scipy/scipy</td>\n",
       "      <td>28</td>\n",
       "    </tr>\n",
       "    <tr>\n",
       "      <th>92</th>\n",
       "      <td>pytorch/executorch</td>\n",
       "      <td>27</td>\n",
       "    </tr>\n",
       "    <tr>\n",
       "      <th>96</th>\n",
       "      <td>llvm/llvm-project</td>\n",
       "      <td>27</td>\n",
       "    </tr>\n",
       "    <tr>\n",
       "      <th>93</th>\n",
       "      <td>pytorch/test-infra</td>\n",
       "      <td>25</td>\n",
       "    </tr>\n",
       "    <tr>\n",
       "      <th>968</th>\n",
       "      <td>pytorch/torchtune</td>\n",
       "      <td>24</td>\n",
       "    </tr>\n",
       "    <tr>\n",
       "      <th>524</th>\n",
       "      <td>triton-lang/triton</td>\n",
       "      <td>22</td>\n",
       "    </tr>\n",
       "    <tr>\n",
       "      <th>757</th>\n",
       "      <td>pytorch/builder</td>\n",
       "      <td>21</td>\n",
       "    </tr>\n",
       "    <tr>\n",
       "      <th>1375</th>\n",
       "      <td>huggingface/transformers</td>\n",
       "      <td>19</td>\n",
       "    </tr>\n",
       "    <tr>\n",
       "      <th>1370</th>\n",
       "      <td>pytorch/torchtitan</td>\n",
       "      <td>19</td>\n",
       "    </tr>\n",
       "    <tr>\n",
       "      <th>746</th>\n",
       "      <td>pytorch/benchmark</td>\n",
       "      <td>19</td>\n",
       "    </tr>\n",
       "    <tr>\n",
       "      <th>551</th>\n",
       "      <td>pytorch/xla</td>\n",
       "      <td>17</td>\n",
       "    </tr>\n",
       "    <tr>\n",
       "      <th>768</th>\n",
       "      <td>pytorch/pytorch.github.io</td>\n",
       "      <td>16</td>\n",
       "    </tr>\n",
       "    <tr>\n",
       "      <th>332</th>\n",
       "      <td>tinygrad/tinygrad</td>\n",
       "      <td>15</td>\n",
       "    </tr>\n",
       "    <tr>\n",
       "      <th>486</th>\n",
       "      <td>python/cpython</td>\n",
       "      <td>14</td>\n",
       "    </tr>\n",
       "    <tr>\n",
       "      <th>1251</th>\n",
       "      <td>pytorch/FBGEMM</td>\n",
       "      <td>13</td>\n",
       "    </tr>\n",
       "    <tr>\n",
       "      <th>1250</th>\n",
       "      <td>microsoft/onnxruntime</td>\n",
       "      <td>13</td>\n",
       "    </tr>\n",
       "    <tr>\n",
       "      <th>411</th>\n",
       "      <td>keras-team/keras</td>\n",
       "      <td>13</td>\n",
       "    </tr>\n",
       "    <tr>\n",
       "      <th>100</th>\n",
       "      <td>openxla/stablehlo</td>\n",
       "      <td>13</td>\n",
       "    </tr>\n",
       "    <tr>\n",
       "      <th>118</th>\n",
       "      <td>pytorch/torchchat</td>\n",
       "      <td>12</td>\n",
       "    </tr>\n",
       "    <tr>\n",
       "      <th>555</th>\n",
       "      <td>google-ai-edge/model-explorer</td>\n",
       "      <td>12</td>\n",
       "    </tr>\n",
       "    <tr>\n",
       "      <th>767</th>\n",
       "      <td>pytorch/vision</td>\n",
       "      <td>11</td>\n",
       "    </tr>\n",
       "    <tr>\n",
       "      <th>1038</th>\n",
       "      <td>karpathy/llm.c</td>\n",
       "      <td>11</td>\n",
       "    </tr>\n",
       "    <tr>\n",
       "      <th>1331</th>\n",
       "      <td>Lightning-AI/lightning-thunder</td>\n",
       "      <td>11</td>\n",
       "    </tr>\n",
       "    <tr>\n",
       "      <th>199</th>\n",
       "      <td>numpy/numpy.org</td>\n",
       "      <td>10</td>\n",
       "    </tr>\n",
       "    <tr>\n",
       "      <th>2418</th>\n",
       "      <td>vllm-project/vllm</td>\n",
       "      <td>10</td>\n",
       "    </tr>\n",
       "    <tr>\n",
       "      <th>2021</th>\n",
       "      <td>google-ai-edge/ai-edge-torch</td>\n",
       "      <td>10</td>\n",
       "    </tr>\n",
       "    <tr>\n",
       "      <th>499</th>\n",
       "      <td>networkx/networkx</td>\n",
       "      <td>10</td>\n",
       "    </tr>\n",
       "    <tr>\n",
       "      <th>1284</th>\n",
       "      <td>pytorch-labs/float8_experimental</td>\n",
       "      <td>9</td>\n",
       "    </tr>\n",
       "    <tr>\n",
       "      <th>203</th>\n",
       "      <td>scientific-python/specs</td>\n",
       "      <td>9</td>\n",
       "    </tr>\n",
       "    <tr>\n",
       "      <th>230</th>\n",
       "      <td>scikit-learn/scikit-learn</td>\n",
       "      <td>9</td>\n",
       "    </tr>\n",
       "    <tr>\n",
       "      <th>1395</th>\n",
       "      <td>intel/intel-extension-for-pytorch</td>\n",
       "      <td>9</td>\n",
       "    </tr>\n",
       "    <tr>\n",
       "      <th>227</th>\n",
       "      <td>scientific-python/blog.scientific-python.org</td>\n",
       "      <td>8</td>\n",
       "    </tr>\n",
       "    <tr>\n",
       "      <th>1047</th>\n",
       "      <td>karpathy/LLM101n</td>\n",
       "      <td>8</td>\n",
       "    </tr>\n",
       "    <tr>\n",
       "      <th>221</th>\n",
       "      <td>scipy-conference/scipy_proceedings</td>\n",
       "      <td>8</td>\n",
       "    </tr>\n",
       "    <tr>\n",
       "      <th>965</th>\n",
       "      <td>meta-llama/llama3</td>\n",
       "      <td>8</td>\n",
       "    </tr>\n",
       "    <tr>\n",
       "      <th>3228</th>\n",
       "      <td>ggerganov/llama.cpp</td>\n",
       "      <td>8</td>\n",
       "    </tr>\n",
       "    <tr>\n",
       "      <th>216</th>\n",
       "      <td>astral-sh/ruff</td>\n",
       "      <td>8</td>\n",
       "    </tr>\n",
       "    <tr>\n",
       "      <th>2071</th>\n",
       "      <td>astral-sh/uv</td>\n",
       "      <td>8</td>\n",
       "    </tr>\n",
       "    <tr>\n",
       "      <th>452</th>\n",
       "      <td>OpenMathLib/OpenBLAS</td>\n",
       "      <td>8</td>\n",
       "    </tr>\n",
       "    <tr>\n",
       "      <th>1837</th>\n",
       "      <td>pytorch-labs/gpt-fast</td>\n",
       "      <td>8</td>\n",
       "    </tr>\n",
       "    <tr>\n",
       "      <th>271</th>\n",
       "      <td>cupy/cupy</td>\n",
       "      <td>7</td>\n",
       "    </tr>\n",
       "    <tr>\n",
       "      <th>264</th>\n",
       "      <td>pandas-dev/pandas</td>\n",
       "      <td>7</td>\n",
       "    </tr>\n",
       "  </tbody>\n",
       "</table>\n",
       "</div>"
      ],
      "text/plain": [
       "                                         repo_gits  repo_cntrb_counts\n",
       "86                                 pytorch/pytorch                181\n",
       "523                                            NaN                 86\n",
       "99                           tensorflow/tensorflow                 57\n",
       "189                                    numpy/numpy                 45\n",
       "340                                     google/jax                 39\n",
       "98                                     openxla/xla                 37\n",
       "114                                     pytorch/ao                 36\n",
       "744                              pytorch/tutorials                 30\n",
       "202                                    scipy/scipy                 28\n",
       "92                              pytorch/executorch                 27\n",
       "96                               llvm/llvm-project                 27\n",
       "93                              pytorch/test-infra                 25\n",
       "968                              pytorch/torchtune                 24\n",
       "524                             triton-lang/triton                 22\n",
       "757                                pytorch/builder                 21\n",
       "1375                      huggingface/transformers                 19\n",
       "1370                            pytorch/torchtitan                 19\n",
       "746                              pytorch/benchmark                 19\n",
       "551                                    pytorch/xla                 17\n",
       "768                      pytorch/pytorch.github.io                 16\n",
       "332                              tinygrad/tinygrad                 15\n",
       "486                                 python/cpython                 14\n",
       "1251                                pytorch/FBGEMM                 13\n",
       "1250                         microsoft/onnxruntime                 13\n",
       "411                               keras-team/keras                 13\n",
       "100                              openxla/stablehlo                 13\n",
       "118                              pytorch/torchchat                 12\n",
       "555                  google-ai-edge/model-explorer                 12\n",
       "767                                 pytorch/vision                 11\n",
       "1038                                karpathy/llm.c                 11\n",
       "1331                Lightning-AI/lightning-thunder                 11\n",
       "199                                numpy/numpy.org                 10\n",
       "2418                             vllm-project/vllm                 10\n",
       "2021                  google-ai-edge/ai-edge-torch                 10\n",
       "499                              networkx/networkx                 10\n",
       "1284              pytorch-labs/float8_experimental                  9\n",
       "203                        scientific-python/specs                  9\n",
       "230                      scikit-learn/scikit-learn                  9\n",
       "1395             intel/intel-extension-for-pytorch                  9\n",
       "227   scientific-python/blog.scientific-python.org                  8\n",
       "1047                              karpathy/LLM101n                  8\n",
       "221             scipy-conference/scipy_proceedings                  8\n",
       "965                              meta-llama/llama3                  8\n",
       "3228                           ggerganov/llama.cpp                  8\n",
       "216                                 astral-sh/ruff                  8\n",
       "2071                                  astral-sh/uv                  8\n",
       "452                           OpenMathLib/OpenBLAS                  8\n",
       "1837                         pytorch-labs/gpt-fast                  8\n",
       "271                                      cupy/cupy                  7\n",
       "264                              pandas-dev/pandas                  7"
      ]
     },
     "execution_count": 64,
     "metadata": {},
     "output_type": "execute_result"
    }
   ],
   "source": [
    "# Here's the list of the top-50 most mutual repos among pagerank-top contributors\n",
    "df_for_fig[:FINAL_NUM_COMMON_REPOS]"
   ]
  },
  {
   "cell_type": "markdown",
   "metadata": {},
   "source": [
    "## Conclusion\n",
    "\n",
    "We're expecting that the \"repos of most significant mutual involvement\" should include the seed projects because, by definition, we know that each of the contributors considered begins, in our analysis, as a past contributor to these projects.\n",
    "\n",
    "These are useful results because they exhibit, at a glance. With these top 50 projects, we are able to look \"beyond\" our initial seed projects, acknowledging highly mutual projects within this project space that we couldn't, without significant specialized knowledge, identify on our own.\n",
    "\n"
   ]
  },
  {
   "cell_type": "markdown",
   "metadata": {},
   "source": [
    "## Next Steps\n",
    "\n",
    "Set the 'seed' of another cycle of discovery to these 50 repos, called seed_1 (the successor to seed_0). Using this new, more inclusive seed_1, build a new collaboration network and rank the contributors in the new network. We infer that there will be significant overlap between those that are most involved in the seed_0 analysis phase as those identified  in the seed_1 analysis phase. \n",
    "\n",
    "Re-run this analysis, producing a prospective seed_2. Repeat, eventually generating seed_n. When seed_(n-1) is sufficiently similar to seed_n, we'll conclude that the identified \"neighborhood\" of the final seed repos has converged.\n",
    "\n",
    "As an interesting alternate thread, consider the use of pagerank-central contributors as done in this notebook. Instead of finding repos of largest mutuality, use the Events themselves with appropriate filtering to find those projects of highest sub-population involvement, at least numerically, and compare against this notebook. (/notebooks/project_discover/repo_discovery). \n",
    "\n",
    "Having a set of repos we can confidently say are \"highly mutual\" at least, we can use network science to visualize the neighborhood connection over time (notebooks/graph_analysis/approaches). "
   ]
  }
 ],
 "metadata": {
  "kernelspec": {
   "display_name": "Python 3",
   "language": "python",
   "name": "python3"
  },
  "language_info": {
   "codemirror_mode": {
    "name": "ipython",
    "version": 3
   },
   "file_extension": ".py",
   "mimetype": "text/x-python",
   "name": "python",
   "nbconvert_exporter": "python",
   "pygments_lexer": "ipython3",
   "version": "3.11.9"
  }
 },
 "nbformat": 4,
 "nbformat_minor": 2
}
