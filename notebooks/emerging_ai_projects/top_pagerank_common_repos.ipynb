{
 "cells": [
  {
   "cell_type": "markdown",
   "metadata": {},
   "source": [
    "# AI Common Repositories of top contributors (based on pagerank score)"
   ]
  },
  {
   "cell_type": "markdown",
   "metadata": {},
   "source": [
    "# Table of Contents\n",
    "- [Introduction](#introduction)\n",
    "- [Database Connection](#database-connection)\n",
    "- [Get Page Rank Scores](#read-pagerank-scores)\n",
    "- [Fetch Contribution Event Stream](#contribution-event-stream)\n",
    "- [Page Rank Analysis](#page-rank-analysis)\n",
    "  - [Top 10% page rank score havers](#who-are-the-top_10_percent_considered-of-the-pagerank-score-havers)\n",
    "  - [Find events of each contributor](#find-events-for-each-of-the-contributors)\n",
    "- [Conclusion](#conclusion)\n",
    "- [Next Steps](#next-steps)"
   ]
  },
  {
   "cell_type": "markdown",
   "metadata": {},
   "source": [
    "## Introduction\n",
    "\n",
    "### Motivation and Rationale\n",
    "\n",
    "Inferring that a contributor's connectedness is a useful proxy for their importance\n",
    "or involvement in a community, take the top p% of contributors \n",
    "by their pagerank score and identify which repos they also belong/contribute to.\n",
    "\n",
    "Compare involvement to find maximal overlap among top percentage of contributors.\n",
    "\n",
    "### Background\n",
    "\n",
    "We've started from a 'seed' of repos that seem highly likely to be a \"part of the AI/ML neighborhood of projects.\" Our seed that is the initial list of respoitories can be found [here](ai_repos.json).\n",
    "\n",
    "I would like to thank the original author, James Kunstle for implementing this notebook, repo discovery using page rank for WASM ecosystem.\n",
    "\n",
    "### Context of the Second Iteration\n",
    "\n",
    "This is the second iteration of the process, now applied to AI repositories. The first iteration was conducted on WebAssembly (Wasm) repositories, where the goal was to identify top repositories using a network analysis approach, specifically focusing on the PageRank algorithm. By applying a similar methodology to AI repositories, the goal is to uncover key insights and influential repositories in the AI domain, leveraging the lessons learned from the Wasm analysis.\n",
    "\n",
    "### Summary of the WASM Iteration\n",
    "\n",
    "In the Wasm iteration, we explored the network of repositories to identify those that play a central role in the ecosystem. The key findings included:\n",
    "\n",
    "- Network Structure: The Wasm ecosystem had a distinct set of core repositories that were highly interconnected, revealing key contributors and projects driving the ecosystem.\n",
    "- PageRank Analysis: Repositories like `wasmedge`, `wasmtime`, and `wasmer` emerged as influential nodes, having high PageRank scores. These repositories are pivotal in advancing the Wasm ecosystem, contributing significantly to both development and adoption.\n",
    "- Community Insights: The analysis provided insights into the distribution of contributions and collaborations among repositories, highlighting the importance of certain projects in the broader Wasm community.\n",
    "\n",
    "This initial analysis provided a foundational understanding of how network analysis can be used to discover and rank influential repositories within a specific domain. In this second iteration, similar techniques will be applied to the AI domain to uncover key players and trends within the AI open-source ecosystem."
   ]
  },
  {
   "cell_type": "markdown",
   "metadata": {},
   "source": [
    "## Imports"
   ]
  },
  {
   "cell_type": "code",
   "execution_count": 21,
   "metadata": {},
   "outputs": [],
   "source": [
    "import pandas as pd\n",
    "\n",
    "pd.set_option('display.max_rows', None)  # Display all rows\n",
    "pd.set_option('display.max_columns', None)  # Display all columns\n",
    "pd.set_option('display.width', None)  # Auto-detect terminal width\n",
    "\n",
    "# Or, set multiple options at once:\n",
    "pd.set_option('display.max_rows', 100, 'display.max_columns', 10)"
   ]
  },
  {
   "cell_type": "code",
   "execution_count": 22,
   "metadata": {},
   "outputs": [],
   "source": [
    "import pandas as pd\n",
    "import sqlalchemy as salc\n",
    "import plotly.express as px\n",
    "import json\n",
    "from IPython.display import Image\n",
    "from collections import Counter"
   ]
  },
  {
   "cell_type": "markdown",
   "metadata": {},
   "source": [
    "## Database Connection"
   ]
  },
  {
   "cell_type": "markdown",
   "metadata": {},
   "source": [
    "Connect to the Postgresql database."
   ]
  },
  {
   "cell_type": "code",
   "execution_count": 23,
   "metadata": {},
   "outputs": [],
   "source": [
    "# read configuration file\n",
    "with open(\"data/il_ai_creds.json\") as config_file:\n",
    "    config = json.load(config_file)\n",
    "\n",
    "# define cx string\n",
    "database_connection_string = f\"postgresql+psycopg2://{config['user']}:{config['password']}@{config['host']}:{config['port']}/{config['database']}\"\n",
    "\n",
    "# create engine\n",
    "engine = salc.create_engine(\n",
    "    database_connection_string,\n",
    "    connect_args={'options': f\"-csearch_path={'augur_data'}\"})"
   ]
  },
  {
   "cell_type": "markdown",
   "metadata": {},
   "source": [
    "## Global Switches"
   ]
  },
  {
   "cell_type": "markdown",
   "metadata": {},
   "source": [
    "Let's set the switches or the flags which are useful in the later sections."
   ]
  },
  {
   "cell_type": "code",
   "execution_count": 24,
   "metadata": {},
   "outputs": [],
   "source": [
    "# Whether we're using df_event_stream.parquet or querying the source database directly.\n",
    "LOCAL_DATA = True \n",
    "\n",
    "# what percent of the top contributors by pagerank should we consider?\n",
    "TOP_PERCENT_CONSIDERED = 0.10 \n",
    "\n",
    "# how many \"top repos\" should we output at the end?\n",
    "FINAL_NUM_COMMON_REPOS = 50"
   ]
  },
  {
   "cell_type": "markdown",
   "metadata": {},
   "source": [
    "## Read pagerank scores\n",
    "\n",
    "These scores are calculated by building a collaboration graph of the contributors in four projects\n",
    "and running the pagerank algorithm on the graph. The nodes of the graph are individual contributors,\n",
    "and the edges are weighted by the historical 'connectedness' between any two nodes. Connectedness increases\n",
    "when two individuals work on something together (PR, issue, commit). \n",
    "\n",
    "The described process is implemented in Rappel/notebooks/emerging_ai_projects/collabs.ipynb."
   ]
  },
  {
   "cell_type": "code",
   "execution_count": 25,
   "metadata": {},
   "outputs": [
    {
     "data": {
      "text/html": [
       "<div>\n",
       "<style scoped>\n",
       "    .dataframe tbody tr th:only-of-type {\n",
       "        vertical-align: middle;\n",
       "    }\n",
       "\n",
       "    .dataframe tbody tr th {\n",
       "        vertical-align: top;\n",
       "    }\n",
       "\n",
       "    .dataframe thead th {\n",
       "        text-align: right;\n",
       "    }\n",
       "</style>\n",
       "<table border=\"1\" class=\"dataframe\">\n",
       "  <thead>\n",
       "    <tr style=\"text-align: right;\">\n",
       "      <th></th>\n",
       "      <th>cntrb_id</th>\n",
       "      <th>score</th>\n",
       "    </tr>\n",
       "  </thead>\n",
       "  <tbody>\n",
       "    <tr>\n",
       "      <th>0</th>\n",
       "      <td>010000b0-0f00-0000-0000-000000000000</td>\n",
       "      <td>5.098894</td>\n",
       "    </tr>\n",
       "    <tr>\n",
       "      <th>1</th>\n",
       "      <td>01000180-1a00-0000-0000-000000000000</td>\n",
       "      <td>6.222917</td>\n",
       "    </tr>\n",
       "    <tr>\n",
       "      <th>2</th>\n",
       "      <td>01012f1b-7f00-0000-0000-000000000000</td>\n",
       "      <td>7.382052</td>\n",
       "    </tr>\n",
       "    <tr>\n",
       "      <th>3</th>\n",
       "      <td>010000b4-3700-0000-0000-000000000000</td>\n",
       "      <td>5.202987</td>\n",
       "    </tr>\n",
       "    <tr>\n",
       "      <th>4</th>\n",
       "      <td>010000f0-9200-0000-0000-000000000000</td>\n",
       "      <td>5.001234</td>\n",
       "    </tr>\n",
       "  </tbody>\n",
       "</table>\n",
       "</div>"
      ],
      "text/plain": [
       "                               cntrb_id     score\n",
       "0  010000b0-0f00-0000-0000-000000000000  5.098894\n",
       "1  01000180-1a00-0000-0000-000000000000  6.222917\n",
       "2  01012f1b-7f00-0000-0000-000000000000  7.382052\n",
       "3  010000b4-3700-0000-0000-000000000000  5.202987\n",
       "4  010000f0-9200-0000-0000-000000000000  5.001234"
      ]
     },
     "execution_count": 25,
     "metadata": {},
     "output_type": "execute_result"
    }
   ],
   "source": [
    "df_known_contribs = pd.read_csv('ai_contributor_pagerank.csv')\n",
    "df_known_contribs[\"cntrb_id\"] = df_known_contribs.cntrb_id.astype(str)\n",
    "df_known_contribs.head()"
   ]
  },
  {
   "cell_type": "markdown",
   "metadata": {},
   "source": [
    "## Contribution event stream\n",
    "\n",
    "Github provides an API endpoint from which one can query every event that occurs. For instance, if a contributor creates an issue on some repo, that event will be logged in the stream. A downside of this API is that it only serves the most recent two months of data. \n",
    "\n",
    "We want to use this stream to identify the set of repositories that our Known Contributors are also working in that weren't in the initial ecosystem kernel.\n",
    "\n",
    "The database that we use collects this event stream so we can query it from there rather than from Github. This is much faster than relying on the public Github API, and we will continue to collect the data that the API makes available, so over time the analysis that we can do will become richer and more complete. In the Augur database, the table with this information is the `contributor_repo` table."
   ]
  },
  {
   "cell_type": "code",
   "execution_count": 26,
   "metadata": {},
   "outputs": [],
   "source": [
    "event_stream_query = salc.sql.text(\n",
    "    f\"\"\"\n",
    "        SET SCHEMA 'augur_data';\n",
    "        SELECT \n",
    "            c.cntrb_id,\n",
    "            c.event_id,\n",
    "            c.created_at,\n",
    "            c.cntrb_repo_id as repo_id,\n",
    "            c.repo_git,\n",
    "            c.repo_name,\n",
    "            c.gh_repo_id,\n",
    "            c.cntrb_category as event_type\n",
    "        FROM\n",
    "        contributor_repo c\n",
    "    \"\"\")\n",
    "\n",
    "# Check if the data is stored locally or needs to be retrieved from the database\n",
    "if not LOCAL_DATA:\n",
    "    # Connect to the database engine and execute the SQL query to retrieve data\n",
    "    with engine.connect() as conn:\n",
    "        df_event_stream = pd.read_sql_query(event_stream_query, conn)\n",
    "        \n",
    "    # Save the retrieved data as a Parquet file for faster future access        \n",
    "    with open(\"data/df_event_stream.parquet\", \"wb+\") as f:\n",
    "        df_event_stream.cntrb_id = df_event_stream.cntrb_id.astype(str)\n",
    "        df_event_stream.to_parquet(f)\n",
    "else:\n",
    "    # If data is stored locally, read the Parquet file instead of querying the database\n",
    "    with open(\"data/df_event_stream.parquet\", \"rb+\") as f:\n",
    "        df_event_stream = pd.read_parquet(f)\n",
    "        df_event_stream.cntrb_id = df_event_stream.cntrb_id.astype(str)"
   ]
  },
  {
   "cell_type": "code",
   "execution_count": 27,
   "metadata": {},
   "outputs": [
    {
     "data": {
      "text/html": [
       "<div>\n",
       "<style scoped>\n",
       "    .dataframe tbody tr th:only-of-type {\n",
       "        vertical-align: middle;\n",
       "    }\n",
       "\n",
       "    .dataframe tbody tr th {\n",
       "        vertical-align: top;\n",
       "    }\n",
       "\n",
       "    .dataframe thead th {\n",
       "        text-align: right;\n",
       "    }\n",
       "</style>\n",
       "<table border=\"1\" class=\"dataframe\">\n",
       "  <thead>\n",
       "    <tr style=\"text-align: right;\">\n",
       "      <th></th>\n",
       "      <th>cntrb_id</th>\n",
       "      <th>event_id</th>\n",
       "      <th>created_at</th>\n",
       "      <th>repo_id</th>\n",
       "      <th>repo_git</th>\n",
       "      <th>repo_name</th>\n",
       "      <th>gh_repo_id</th>\n",
       "      <th>event_type</th>\n",
       "    </tr>\n",
       "  </thead>\n",
       "  <tbody>\n",
       "    <tr>\n",
       "      <th>0</th>\n",
       "      <td>01001583-8700-0000-0000-000000000000</td>\n",
       "      <td>37039342564</td>\n",
       "      <td>2024-04-01 03:54:33</td>\n",
       "      <td>5</td>\n",
       "      <td>https://api.github.com/repos/AmazingRise/hugo-...</td>\n",
       "      <td>AmazingRise/hugo-theme-diary</td>\n",
       "      <td>220989613</td>\n",
       "      <td>IssueCommentEvent</td>\n",
       "    </tr>\n",
       "    <tr>\n",
       "      <th>1</th>\n",
       "      <td>01001583-8700-0000-0000-000000000000</td>\n",
       "      <td>36966778104</td>\n",
       "      <td>2024-03-28 12:58:59</td>\n",
       "      <td>6</td>\n",
       "      <td>https://api.github.com/repos/AmazingRise/hugo-...</td>\n",
       "      <td>AmazingRise/hugo-theme-diary</td>\n",
       "      <td>220989613</td>\n",
       "      <td>IssueCommentEvent</td>\n",
       "    </tr>\n",
       "    <tr>\n",
       "      <th>2</th>\n",
       "      <td>01001583-8700-0000-0000-000000000000</td>\n",
       "      <td>36927475492</td>\n",
       "      <td>2024-03-27 11:44:16</td>\n",
       "      <td>7</td>\n",
       "      <td>https://api.github.com/repos/AmazingRise/hugo-...</td>\n",
       "      <td>AmazingRise/hugo-theme-diary</td>\n",
       "      <td>220989613</td>\n",
       "      <td>IssuesEvent</td>\n",
       "    </tr>\n",
       "    <tr>\n",
       "      <th>3</th>\n",
       "      <td>01003020-1200-0000-0000-000000000000</td>\n",
       "      <td>39202894121</td>\n",
       "      <td>2024-06-11 17:22:24</td>\n",
       "      <td>1808426</td>\n",
       "      <td>https://api.github.com/repos/fhh2626/BFEE2</td>\n",
       "      <td>fhh2626/BFEE2</td>\n",
       "      <td>322234705</td>\n",
       "      <td>ForkEvent</td>\n",
       "    </tr>\n",
       "    <tr>\n",
       "      <th>4</th>\n",
       "      <td>01003020-1200-0000-0000-000000000000</td>\n",
       "      <td>39169968316</td>\n",
       "      <td>2024-06-10 20:29:29</td>\n",
       "      <td>1808427</td>\n",
       "      <td>https://api.github.com/repos/fhh2626/BFEE2</td>\n",
       "      <td>fhh2626/BFEE2</td>\n",
       "      <td>322234705</td>\n",
       "      <td>IssuesEvent</td>\n",
       "    </tr>\n",
       "  </tbody>\n",
       "</table>\n",
       "</div>"
      ],
      "text/plain": [
       "                               cntrb_id     event_id          created_at  \\\n",
       "0  01001583-8700-0000-0000-000000000000  37039342564 2024-04-01 03:54:33   \n",
       "1  01001583-8700-0000-0000-000000000000  36966778104 2024-03-28 12:58:59   \n",
       "2  01001583-8700-0000-0000-000000000000  36927475492 2024-03-27 11:44:16   \n",
       "3  01003020-1200-0000-0000-000000000000  39202894121 2024-06-11 17:22:24   \n",
       "4  01003020-1200-0000-0000-000000000000  39169968316 2024-06-10 20:29:29   \n",
       "\n",
       "   repo_id                                           repo_git  \\\n",
       "0        5  https://api.github.com/repos/AmazingRise/hugo-...   \n",
       "1        6  https://api.github.com/repos/AmazingRise/hugo-...   \n",
       "2        7  https://api.github.com/repos/AmazingRise/hugo-...   \n",
       "3  1808426         https://api.github.com/repos/fhh2626/BFEE2   \n",
       "4  1808427         https://api.github.com/repos/fhh2626/BFEE2   \n",
       "\n",
       "                      repo_name  gh_repo_id         event_type  \n",
       "0  AmazingRise/hugo-theme-diary   220989613  IssueCommentEvent  \n",
       "1  AmazingRise/hugo-theme-diary   220989613  IssueCommentEvent  \n",
       "2  AmazingRise/hugo-theme-diary   220989613        IssuesEvent  \n",
       "3                 fhh2626/BFEE2   322234705          ForkEvent  \n",
       "4                 fhh2626/BFEE2   322234705        IssuesEvent  "
      ]
     },
     "execution_count": 27,
     "metadata": {},
     "output_type": "execute_result"
    }
   ],
   "source": [
    "df_event_stream.head()"
   ]
  },
  {
   "cell_type": "code",
   "execution_count": 28,
   "metadata": {},
   "outputs": [
    {
     "name": "stdout",
     "output_type": "stream",
     "text": [
      "There are: 6868909 events available\n"
     ]
    }
   ],
   "source": [
    "print(f\"There are: {df_event_stream.shape[0]} events available\")"
   ]
  },
  {
   "cell_type": "markdown",
   "metadata": {},
   "source": [
    "## Page Rank Analysis"
   ]
  },
  {
   "cell_type": "markdown",
   "metadata": {},
   "source": [
    "### Who are the TOP_10_PERCENT_CONSIDERED of the pagerank score-havers?"
   ]
  },
  {
   "cell_type": "markdown",
   "metadata": {},
   "source": [
    "Identify the top 10% of contributors from a dataset based on their scores after sorting by score."
   ]
  },
  {
   "cell_type": "code",
   "execution_count": 29,
   "metadata": {},
   "outputs": [
    {
     "name": "stdout",
     "output_type": "stream",
     "text": [
      "Num in original set: 5672\n",
      "Num in top 10%: 567\n"
     ]
    },
    {
     "data": {
      "text/html": [
       "<div>\n",
       "<style scoped>\n",
       "    .dataframe tbody tr th:only-of-type {\n",
       "        vertical-align: middle;\n",
       "    }\n",
       "\n",
       "    .dataframe tbody tr th {\n",
       "        vertical-align: top;\n",
       "    }\n",
       "\n",
       "    .dataframe thead th {\n",
       "        text-align: right;\n",
       "    }\n",
       "</style>\n",
       "<table border=\"1\" class=\"dataframe\">\n",
       "  <thead>\n",
       "    <tr style=\"text-align: right;\">\n",
       "      <th></th>\n",
       "      <th>cntrb_id</th>\n",
       "      <th>score</th>\n",
       "    </tr>\n",
       "  </thead>\n",
       "  <tbody>\n",
       "    <tr>\n",
       "      <th>2511</th>\n",
       "      <td>0105d3c3-3c00-0000-0000-000000000000</td>\n",
       "      <td>20.000000</td>\n",
       "    </tr>\n",
       "    <tr>\n",
       "      <th>3197</th>\n",
       "      <td>0103446d-3c00-0000-0000-000000000000</td>\n",
       "      <td>9.964470</td>\n",
       "    </tr>\n",
       "    <tr>\n",
       "      <th>593</th>\n",
       "      <td>010105b7-9400-0000-0000-000000000000</td>\n",
       "      <td>9.599558</td>\n",
       "    </tr>\n",
       "    <tr>\n",
       "      <th>2700</th>\n",
       "      <td>010061ff-d200-0000-0000-000000000000</td>\n",
       "      <td>7.568517</td>\n",
       "    </tr>\n",
       "    <tr>\n",
       "      <th>2512</th>\n",
       "      <td>01000034-fc00-0000-0000-000000000000</td>\n",
       "      <td>7.535088</td>\n",
       "    </tr>\n",
       "    <tr>\n",
       "      <th>...</th>\n",
       "      <td>...</td>\n",
       "      <td>...</td>\n",
       "    </tr>\n",
       "    <tr>\n",
       "      <th>4563</th>\n",
       "      <td>0100834f-9700-0000-0000-000000000000</td>\n",
       "      <td>5.020801</td>\n",
       "    </tr>\n",
       "    <tr>\n",
       "      <th>4593</th>\n",
       "      <td>0100100e-5000-0000-0000-000000000000</td>\n",
       "      <td>5.020801</td>\n",
       "    </tr>\n",
       "    <tr>\n",
       "      <th>4197</th>\n",
       "      <td>01007c3b-dd00-0000-0000-000000000000</td>\n",
       "      <td>5.020801</td>\n",
       "    </tr>\n",
       "    <tr>\n",
       "      <th>4892</th>\n",
       "      <td>01032d37-dc00-0000-0000-000000000000</td>\n",
       "      <td>5.020801</td>\n",
       "    </tr>\n",
       "    <tr>\n",
       "      <th>4896</th>\n",
       "      <td>0106ecc9-c100-0000-0000-000000000000</td>\n",
       "      <td>5.020801</td>\n",
       "    </tr>\n",
       "  </tbody>\n",
       "</table>\n",
       "<p>567 rows × 2 columns</p>\n",
       "</div>"
      ],
      "text/plain": [
       "                                  cntrb_id      score\n",
       "2511  0105d3c3-3c00-0000-0000-000000000000  20.000000\n",
       "3197  0103446d-3c00-0000-0000-000000000000   9.964470\n",
       "593   010105b7-9400-0000-0000-000000000000   9.599558\n",
       "2700  010061ff-d200-0000-0000-000000000000   7.568517\n",
       "2512  01000034-fc00-0000-0000-000000000000   7.535088\n",
       "...                                    ...        ...\n",
       "4563  0100834f-9700-0000-0000-000000000000   5.020801\n",
       "4593  0100100e-5000-0000-0000-000000000000   5.020801\n",
       "4197  01007c3b-dd00-0000-0000-000000000000   5.020801\n",
       "4892  01032d37-dc00-0000-0000-000000000000   5.020801\n",
       "4896  0106ecc9-c100-0000-0000-000000000000   5.020801\n",
       "\n",
       "[567 rows x 2 columns]"
      ]
     },
     "execution_count": 29,
     "metadata": {},
     "output_type": "execute_result"
    }
   ],
   "source": [
    "# Calculate the total number of contributors in the original dataset\n",
    "pop_contribs = df_known_contribs.shape[0]\n",
    "\n",
    "# Sort the contributors by their 'score' in descending order and select the top 10%\n",
    "# 'TOP_PERCENT_CONSIDERED' is a constant representing the percentage of contributors to consider (e.g., 0.10 for top 10%)\n",
    "top_10p = df_known_contribs.sort_values(by=\"score\", ascending=False)[:int(pop_contribs * TOP_PERCENT_CONSIDERED)]\n",
    "\n",
    "# Rename the 'user' column to 'cntrb_id' in the top 10% dataframe\n",
    "top_10p = top_10p.rename({\"user\": \"cntrb_id\"})\n",
    "\n",
    "# Print the number of contributors in the original dataset\n",
    "print(f\"Num in original set: {df_known_contribs.shape[0]}\")\n",
    "\n",
    "# Print the number of contributors in the top 10% based on their score\n",
    "print(f\"Num in top 10%: {top_10p.shape[0]}\")\n",
    "\n",
    "# Display the dataframe containing the top 10% contributors\n",
    "top_10p"
   ]
  },
  {
   "cell_type": "markdown",
   "metadata": {},
   "source": [
    "### Find events for each of the contributors\n",
    "\n",
    "Joining event stream and top_10p on the users' id will give us the events for each of the contributors."
   ]
  },
  {
   "cell_type": "markdown",
   "metadata": {},
   "source": [
    "The join operation requires the index of the other dataframe `df_event_stream` to match the column in the main dataframe `top_10p` that is used for the join.\n",
    "By setting the index of `df_event_stream` to the `cntrb_id` column using `set_index(\"cntrb_id\")`, the code ensures that the `cntrb_id` column in `top_10p` can be used to match and combine rows from both dataframes.\n",
    "\n",
    "The result `top_10p_events` is a new dataframe that includes all the columns from `top_10p` along with the corresponding event data from `df_event_stream` for each contributor in the top 10% group."
   ]
  },
  {
   "cell_type": "code",
   "execution_count": 30,
   "metadata": {},
   "outputs": [
    {
     "data": {
      "text/html": [
       "<div>\n",
       "<style scoped>\n",
       "    .dataframe tbody tr th:only-of-type {\n",
       "        vertical-align: middle;\n",
       "    }\n",
       "\n",
       "    .dataframe tbody tr th {\n",
       "        vertical-align: top;\n",
       "    }\n",
       "\n",
       "    .dataframe thead th {\n",
       "        text-align: right;\n",
       "    }\n",
       "</style>\n",
       "<table border=\"1\" class=\"dataframe\">\n",
       "  <thead>\n",
       "    <tr style=\"text-align: right;\">\n",
       "      <th></th>\n",
       "      <th>cntrb_id</th>\n",
       "      <th>score</th>\n",
       "      <th>event_id</th>\n",
       "      <th>created_at</th>\n",
       "      <th>repo_id</th>\n",
       "      <th>repo_git</th>\n",
       "      <th>repo_name</th>\n",
       "      <th>gh_repo_id</th>\n",
       "      <th>event_type</th>\n",
       "    </tr>\n",
       "  </thead>\n",
       "  <tbody>\n",
       "    <tr>\n",
       "      <th>2511</th>\n",
       "      <td>0105d3c3-3c00-0000-0000-000000000000</td>\n",
       "      <td>20.000000</td>\n",
       "      <td>3.991308e+10</td>\n",
       "      <td>2024-07-05 23:45:28</td>\n",
       "      <td>2278961.0</td>\n",
       "      <td>https://api.github.com/repos/pytorch/pytorch</td>\n",
       "      <td>pytorch/pytorch</td>\n",
       "      <td>65600975.0</td>\n",
       "      <td>IssueCommentEvent</td>\n",
       "    </tr>\n",
       "    <tr>\n",
       "      <th>2511</th>\n",
       "      <td>0105d3c3-3c00-0000-0000-000000000000</td>\n",
       "      <td>20.000000</td>\n",
       "      <td>3.991308e+10</td>\n",
       "      <td>2024-07-05 23:45:22</td>\n",
       "      <td>2278962.0</td>\n",
       "      <td>https://api.github.com/repos/pytorch/pytorch</td>\n",
       "      <td>pytorch/pytorch</td>\n",
       "      <td>65600975.0</td>\n",
       "      <td>IssueCommentEvent</td>\n",
       "    </tr>\n",
       "    <tr>\n",
       "      <th>2511</th>\n",
       "      <td>0105d3c3-3c00-0000-0000-000000000000</td>\n",
       "      <td>20.000000</td>\n",
       "      <td>3.991285e+10</td>\n",
       "      <td>2024-07-05 23:18:34</td>\n",
       "      <td>2278963.0</td>\n",
       "      <td>https://api.github.com/repos/pytorch/pytorch</td>\n",
       "      <td>pytorch/pytorch</td>\n",
       "      <td>65600975.0</td>\n",
       "      <td>PullRequestEvent</td>\n",
       "    </tr>\n",
       "    <tr>\n",
       "      <th>2511</th>\n",
       "      <td>0105d3c3-3c00-0000-0000-000000000000</td>\n",
       "      <td>20.000000</td>\n",
       "      <td>3.991285e+10</td>\n",
       "      <td>2024-07-05 23:18:32</td>\n",
       "      <td>2278964.0</td>\n",
       "      <td>https://api.github.com/repos/pytorch/pytorch</td>\n",
       "      <td>pytorch/pytorch</td>\n",
       "      <td>65600975.0</td>\n",
       "      <td>PushEvent</td>\n",
       "    </tr>\n",
       "    <tr>\n",
       "      <th>2511</th>\n",
       "      <td>0105d3c3-3c00-0000-0000-000000000000</td>\n",
       "      <td>20.000000</td>\n",
       "      <td>3.991280e+10</td>\n",
       "      <td>2024-07-05 23:12:56</td>\n",
       "      <td>2278965.0</td>\n",
       "      <td>https://api.github.com/repos/pytorch/pytorch</td>\n",
       "      <td>pytorch/pytorch</td>\n",
       "      <td>65600975.0</td>\n",
       "      <td>IssueCommentEvent</td>\n",
       "    </tr>\n",
       "    <tr>\n",
       "      <th>...</th>\n",
       "      <td>...</td>\n",
       "      <td>...</td>\n",
       "      <td>...</td>\n",
       "      <td>...</td>\n",
       "      <td>...</td>\n",
       "      <td>...</td>\n",
       "      <td>...</td>\n",
       "      <td>...</td>\n",
       "      <td>...</td>\n",
       "    </tr>\n",
       "    <tr>\n",
       "      <th>4197</th>\n",
       "      <td>01007c3b-dd00-0000-0000-000000000000</td>\n",
       "      <td>5.020801</td>\n",
       "      <td>4.045465e+10</td>\n",
       "      <td>2024-07-25 09:39:30</td>\n",
       "      <td>14230121.0</td>\n",
       "      <td>https://api.github.com/repos/aws/aws-lc</td>\n",
       "      <td>aws/aws-lc</td>\n",
       "      <td>263967166.0</td>\n",
       "      <td>IssuesEvent</td>\n",
       "    </tr>\n",
       "    <tr>\n",
       "      <th>4197</th>\n",
       "      <td>01007c3b-dd00-0000-0000-000000000000</td>\n",
       "      <td>5.020801</td>\n",
       "      <td>4.026943e+10</td>\n",
       "      <td>2024-07-18 16:28:37</td>\n",
       "      <td>9106196.0</td>\n",
       "      <td>https://api.github.com/repos/haproxy/haproxy</td>\n",
       "      <td>haproxy/haproxy</td>\n",
       "      <td>128791889.0</td>\n",
       "      <td>IssueCommentEvent</td>\n",
       "    </tr>\n",
       "    <tr>\n",
       "      <th>4892</th>\n",
       "      <td>01032d37-dc00-0000-0000-000000000000</td>\n",
       "      <td>5.020801</td>\n",
       "      <td>4.063823e+10</td>\n",
       "      <td>2024-07-31 20:47:18</td>\n",
       "      <td>13657804.0</td>\n",
       "      <td>https://api.github.com/repos/EMHussain/codespa...</td>\n",
       "      <td>EMHussain/codespaces-quickstart</td>\n",
       "      <td>836427235.0</td>\n",
       "      <td>PushEvent</td>\n",
       "    </tr>\n",
       "    <tr>\n",
       "      <th>4892</th>\n",
       "      <td>01032d37-dc00-0000-0000-000000000000</td>\n",
       "      <td>5.020801</td>\n",
       "      <td>4.063787e+10</td>\n",
       "      <td>2024-07-31 20:32:41</td>\n",
       "      <td>13657805.0</td>\n",
       "      <td>https://api.github.com/repos/RasaHQ/codespaces...</td>\n",
       "      <td>RasaHQ/codespaces-quickstart</td>\n",
       "      <td>835169656.0</td>\n",
       "      <td>ForkEvent</td>\n",
       "    </tr>\n",
       "    <tr>\n",
       "      <th>4896</th>\n",
       "      <td>0106ecc9-c100-0000-0000-000000000000</td>\n",
       "      <td>5.020801</td>\n",
       "      <td>NaN</td>\n",
       "      <td>NaT</td>\n",
       "      <td>NaN</td>\n",
       "      <td>NaN</td>\n",
       "      <td>NaN</td>\n",
       "      <td>NaN</td>\n",
       "      <td>NaN</td>\n",
       "    </tr>\n",
       "  </tbody>\n",
       "</table>\n",
       "<p>129690 rows × 9 columns</p>\n",
       "</div>"
      ],
      "text/plain": [
       "                                  cntrb_id      score      event_id  \\\n",
       "2511  0105d3c3-3c00-0000-0000-000000000000  20.000000  3.991308e+10   \n",
       "2511  0105d3c3-3c00-0000-0000-000000000000  20.000000  3.991308e+10   \n",
       "2511  0105d3c3-3c00-0000-0000-000000000000  20.000000  3.991285e+10   \n",
       "2511  0105d3c3-3c00-0000-0000-000000000000  20.000000  3.991285e+10   \n",
       "2511  0105d3c3-3c00-0000-0000-000000000000  20.000000  3.991280e+10   \n",
       "...                                    ...        ...           ...   \n",
       "4197  01007c3b-dd00-0000-0000-000000000000   5.020801  4.045465e+10   \n",
       "4197  01007c3b-dd00-0000-0000-000000000000   5.020801  4.026943e+10   \n",
       "4892  01032d37-dc00-0000-0000-000000000000   5.020801  4.063823e+10   \n",
       "4892  01032d37-dc00-0000-0000-000000000000   5.020801  4.063787e+10   \n",
       "4896  0106ecc9-c100-0000-0000-000000000000   5.020801           NaN   \n",
       "\n",
       "              created_at     repo_id  \\\n",
       "2511 2024-07-05 23:45:28   2278961.0   \n",
       "2511 2024-07-05 23:45:22   2278962.0   \n",
       "2511 2024-07-05 23:18:34   2278963.0   \n",
       "2511 2024-07-05 23:18:32   2278964.0   \n",
       "2511 2024-07-05 23:12:56   2278965.0   \n",
       "...                  ...         ...   \n",
       "4197 2024-07-25 09:39:30  14230121.0   \n",
       "4197 2024-07-18 16:28:37   9106196.0   \n",
       "4892 2024-07-31 20:47:18  13657804.0   \n",
       "4892 2024-07-31 20:32:41  13657805.0   \n",
       "4896                 NaT         NaN   \n",
       "\n",
       "                                               repo_git  \\\n",
       "2511       https://api.github.com/repos/pytorch/pytorch   \n",
       "2511       https://api.github.com/repos/pytorch/pytorch   \n",
       "2511       https://api.github.com/repos/pytorch/pytorch   \n",
       "2511       https://api.github.com/repos/pytorch/pytorch   \n",
       "2511       https://api.github.com/repos/pytorch/pytorch   \n",
       "...                                                 ...   \n",
       "4197            https://api.github.com/repos/aws/aws-lc   \n",
       "4197       https://api.github.com/repos/haproxy/haproxy   \n",
       "4892  https://api.github.com/repos/EMHussain/codespa...   \n",
       "4892  https://api.github.com/repos/RasaHQ/codespaces...   \n",
       "4896                                                NaN   \n",
       "\n",
       "                            repo_name   gh_repo_id         event_type  \n",
       "2511                  pytorch/pytorch   65600975.0  IssueCommentEvent  \n",
       "2511                  pytorch/pytorch   65600975.0  IssueCommentEvent  \n",
       "2511                  pytorch/pytorch   65600975.0   PullRequestEvent  \n",
       "2511                  pytorch/pytorch   65600975.0          PushEvent  \n",
       "2511                  pytorch/pytorch   65600975.0  IssueCommentEvent  \n",
       "...                               ...          ...                ...  \n",
       "4197                       aws/aws-lc  263967166.0        IssuesEvent  \n",
       "4197                  haproxy/haproxy  128791889.0  IssueCommentEvent  \n",
       "4892  EMHussain/codespaces-quickstart  836427235.0          PushEvent  \n",
       "4892     RasaHQ/codespaces-quickstart  835169656.0          ForkEvent  \n",
       "4896                              NaN          NaN                NaN  \n",
       "\n",
       "[129690 rows x 9 columns]"
      ]
     },
     "execution_count": 30,
     "metadata": {},
     "output_type": "execute_result"
    }
   ],
   "source": [
    "# joins events data on the top_10p group of people.\n",
    "# have to set the index of the 'other' df to be the column we want to join on\n",
    "top_10p_events = top_10p.join(\n",
    "    other=df_event_stream.set_index(\"cntrb_id\"),\n",
    "    on=\"cntrb_id\"\n",
    ")\n",
    "top_10p_events"
   ]
  },
  {
   "cell_type": "markdown",
   "metadata": {},
   "source": [
    "For each contributor, get the list of repo gits that they've made at least one contribution to."
   ]
  },
  {
   "cell_type": "code",
   "execution_count": 31,
   "metadata": {},
   "outputs": [
    {
     "data": {
      "text/html": [
       "<div>\n",
       "<style scoped>\n",
       "    .dataframe tbody tr th:only-of-type {\n",
       "        vertical-align: middle;\n",
       "    }\n",
       "\n",
       "    .dataframe tbody tr th {\n",
       "        vertical-align: top;\n",
       "    }\n",
       "\n",
       "    .dataframe thead th {\n",
       "        text-align: right;\n",
       "    }\n",
       "</style>\n",
       "<table border=\"1\" class=\"dataframe\">\n",
       "  <thead>\n",
       "    <tr style=\"text-align: right;\">\n",
       "      <th></th>\n",
       "      <th>unique</th>\n",
       "    </tr>\n",
       "    <tr>\n",
       "      <th>cntrb_id</th>\n",
       "      <th></th>\n",
       "    </tr>\n",
       "  </thead>\n",
       "  <tbody>\n",
       "    <tr>\n",
       "      <th>01000016-6a00-0000-0000-000000000000</th>\n",
       "      <td>[https://api.github.com/repos/kingjulio8238/me...</td>\n",
       "    </tr>\n",
       "    <tr>\n",
       "      <th>01000027-9900-0000-0000-000000000000</th>\n",
       "      <td>[https://api.github.com/repos/amzn/selling-par...</td>\n",
       "    </tr>\n",
       "    <tr>\n",
       "      <th>01000034-fc00-0000-0000-000000000000</th>\n",
       "      <td>[https://api.github.com/repos/pytorch/pytorch,...</td>\n",
       "    </tr>\n",
       "    <tr>\n",
       "      <th>01000040-9e00-0000-0000-000000000000</th>\n",
       "      <td>[https://api.github.com/repos/llvm/llvm-projec...</td>\n",
       "    </tr>\n",
       "    <tr>\n",
       "      <th>01000085-7800-0000-0000-000000000000</th>\n",
       "      <td>[https://api.github.com/repos/pytorch/executor...</td>\n",
       "    </tr>\n",
       "  </tbody>\n",
       "</table>\n",
       "</div>"
      ],
      "text/plain": [
       "                                                                                 unique\n",
       "cntrb_id                                                                               \n",
       "01000016-6a00-0000-0000-000000000000  [https://api.github.com/repos/kingjulio8238/me...\n",
       "01000027-9900-0000-0000-000000000000  [https://api.github.com/repos/amzn/selling-par...\n",
       "01000034-fc00-0000-0000-000000000000  [https://api.github.com/repos/pytorch/pytorch,...\n",
       "01000040-9e00-0000-0000-000000000000  [https://api.github.com/repos/llvm/llvm-projec...\n",
       "01000085-7800-0000-0000-000000000000  [https://api.github.com/repos/pytorch/executor..."
      ]
     },
     "execution_count": 31,
     "metadata": {},
     "output_type": "execute_result"
    }
   ],
   "source": [
    "cntrb_repos = top_10p_events.groupby([\"cntrb_id\"])[\"repo_git\"].agg(['unique'])\n",
    "cntrb_repos.head()"
   ]
  },
  {
   "cell_type": "code",
   "execution_count": 32,
   "metadata": {},
   "outputs": [],
   "source": [
    "# concatenate all of the lists of repo belonging together for all of the contribs. and then, count the occurrences of each repository.\n",
    "all_repos = []\n",
    "for row in cntrb_repos[\"unique\"]:\n",
    "    all_repos = all_repos + list(row)\n",
    "    \n",
    "n_contribs_per_repo = dict(Counter(all_repos))"
   ]
  },
  {
   "cell_type": "code",
   "execution_count": 33,
   "metadata": {},
   "outputs": [
    {
     "data": {
      "text/plain": [
       "[('https://api.github.com/repos/kingjulio8238/memary', 1),\n",
       " ('https://api.github.com/repos/dust-tt/dust', 1),\n",
       " ('https://api.github.com/repos/outropy/storefront3', 1),\n",
       " ('https://api.github.com/repos/amzn/selling-partner-api-models', 1),\n",
       " ('https://api.github.com/repos/FAIRplus/the-fair-cookbook', 1),\n",
       " ('https://api.github.com/repos/yearn/yearn-devdocs', 1),\n",
       " ('https://api.github.com/repos/renee-schultz-wu/javascript-exercises', 1),\n",
       " ('https://api.github.com/repos/open-telemetry/opentelemetry-dotnet-contrib',\n",
       "  2),\n",
       " ('https://api.github.com/repos/pulumi/docs', 1),\n",
       " ('https://api.github.com/repos/epfllibrary/costcalc', 1)]"
      ]
     },
     "execution_count": 33,
     "metadata": {},
     "output_type": "execute_result"
    }
   ],
   "source": [
    "list(n_contribs_per_repo.items())[:10]"
   ]
  },
  {
   "cell_type": "code",
   "execution_count": 34,
   "metadata": {},
   "outputs": [],
   "source": [
    "# Translate the dictionary into a dataframe and sort\n",
    "# Thanks Hema Veeradhi for this implementation.\n",
    "df_for_fig = pd.DataFrame(list(n_contribs_per_repo.items()), columns=['repo_gits', 'repo_cntrb_counts']).sort_values(by=\"repo_cntrb_counts\", ascending=False)\n",
    "df_for_fig.repo_gits = df_for_fig.repo_gits.apply(lambda x : x.removeprefix(\"https://api.github.com/repos/\") if(type(x)==str) else x)"
   ]
  },
  {
   "cell_type": "code",
   "execution_count": 35,
   "metadata": {},
   "outputs": [
    {
     "data": {
      "text/html": [
       "<div>\n",
       "<style scoped>\n",
       "    .dataframe tbody tr th:only-of-type {\n",
       "        vertical-align: middle;\n",
       "    }\n",
       "\n",
       "    .dataframe tbody tr th {\n",
       "        vertical-align: top;\n",
       "    }\n",
       "\n",
       "    .dataframe thead th {\n",
       "        text-align: right;\n",
       "    }\n",
       "</style>\n",
       "<table border=\"1\" class=\"dataframe\">\n",
       "  <thead>\n",
       "    <tr style=\"text-align: right;\">\n",
       "      <th></th>\n",
       "      <th>repo_gits</th>\n",
       "      <th>repo_cntrb_counts</th>\n",
       "    </tr>\n",
       "  </thead>\n",
       "  <tbody>\n",
       "    <tr>\n",
       "      <th>86</th>\n",
       "      <td>pytorch/pytorch</td>\n",
       "      <td>199</td>\n",
       "    </tr>\n",
       "    <tr>\n",
       "      <th>99</th>\n",
       "      <td>tensorflow/tensorflow</td>\n",
       "      <td>70</td>\n",
       "    </tr>\n",
       "    <tr>\n",
       "      <th>396</th>\n",
       "      <td>NaN</td>\n",
       "      <td>70</td>\n",
       "    </tr>\n",
       "    <tr>\n",
       "      <th>170</th>\n",
       "      <td>numpy/numpy</td>\n",
       "      <td>38</td>\n",
       "    </tr>\n",
       "    <tr>\n",
       "      <th>101</th>\n",
       "      <td>pytorch/ao</td>\n",
       "      <td>38</td>\n",
       "    </tr>\n",
       "    <tr>\n",
       "      <th>...</th>\n",
       "      <td>...</td>\n",
       "      <td>...</td>\n",
       "    </tr>\n",
       "    <tr>\n",
       "      <th>2608</th>\n",
       "      <td>imzhuhl/pytorch</td>\n",
       "      <td>1</td>\n",
       "    </tr>\n",
       "    <tr>\n",
       "      <th>2606</th>\n",
       "      <td>kelvinwatson/ollama4j</td>\n",
       "      <td>1</td>\n",
       "    </tr>\n",
       "    <tr>\n",
       "      <th>2605</th>\n",
       "      <td>amithkoujalgi/ollama4j</td>\n",
       "      <td>1</td>\n",
       "    </tr>\n",
       "    <tr>\n",
       "      <th>2604</th>\n",
       "      <td>kelvinwatson/getmuscularUS</td>\n",
       "      <td>1</td>\n",
       "    </tr>\n",
       "    <tr>\n",
       "      <th>7108</th>\n",
       "      <td>benoitc/gunicorn</td>\n",
       "      <td>1</td>\n",
       "    </tr>\n",
       "  </tbody>\n",
       "</table>\n",
       "<p>7109 rows × 2 columns</p>\n",
       "</div>"
      ],
      "text/plain": [
       "                       repo_gits  repo_cntrb_counts\n",
       "86               pytorch/pytorch                199\n",
       "99         tensorflow/tensorflow                 70\n",
       "396                          NaN                 70\n",
       "170                  numpy/numpy                 38\n",
       "101                   pytorch/ao                 38\n",
       "...                          ...                ...\n",
       "2608             imzhuhl/pytorch                  1\n",
       "2606       kelvinwatson/ollama4j                  1\n",
       "2605      amithkoujalgi/ollama4j                  1\n",
       "2604  kelvinwatson/getmuscularUS                  1\n",
       "7108            benoitc/gunicorn                  1\n",
       "\n",
       "[7109 rows x 2 columns]"
      ]
     },
     "execution_count": 35,
     "metadata": {},
     "output_type": "execute_result"
    }
   ],
   "source": [
    "df_for_fig"
   ]
  },
  {
   "cell_type": "code",
   "execution_count": 36,
   "metadata": {},
   "outputs": [],
   "source": [
    "fig = px.bar(\n",
    "    data_frame=df_for_fig[:FINAL_NUM_COMMON_REPOS],\n",
    "    y=\"repo_gits\",\n",
    "    x=\"repo_cntrb_counts\",\n",
    "    hover_name=\"repo_cntrb_counts\",\n",
    "    orientation=\"h\"\n",
    ")"
   ]
  },
  {
   "cell_type": "code",
   "execution_count": 37,
   "metadata": {},
   "outputs": [
    {
     "data": {
      "application/vnd.plotly.v1+json": {
       "config": {
        "plotlyServerURL": "https://plot.ly"
       },
       "data": [
        {
         "alignmentgroup": "True",
         "hovertemplate": "<b>%{hovertext}</b><br><br>repo_cntrb_counts=%{x}<br>repo_gits=%{y}<extra></extra>",
         "hovertext": [
          199,
          70,
          70,
          38,
          38,
          37,
          33,
          30,
          28,
          25,
          25,
          24,
          24,
          23,
          21,
          20,
          19,
          19,
          17,
          16,
          14,
          14,
          14,
          14,
          12,
          12,
          12,
          12,
          12,
          11,
          11,
          10,
          9,
          9,
          9,
          9,
          9,
          9,
          9,
          9,
          9,
          9,
          9,
          8,
          8,
          8,
          7,
          7,
          7,
          7
         ],
         "legendgroup": "",
         "marker": {
          "color": "#636efa",
          "pattern": {
           "shape": ""
          }
         },
         "name": "",
         "offsetgroup": "",
         "orientation": "h",
         "showlegend": false,
         "textposition": "auto",
         "type": "bar",
         "x": [
          199,
          70,
          70,
          38,
          38,
          37,
          33,
          30,
          28,
          25,
          25,
          24,
          24,
          23,
          21,
          20,
          19,
          19,
          17,
          16,
          14,
          14,
          14,
          14,
          12,
          12,
          12,
          12,
          12,
          11,
          11,
          10,
          9,
          9,
          9,
          9,
          9,
          9,
          9,
          9,
          9,
          9,
          9,
          8,
          8,
          8,
          7,
          7,
          7,
          7
         ],
         "xaxis": "x",
         "y": [
          "pytorch/pytorch",
          "tensorflow/tensorflow",
          null,
          "numpy/numpy",
          "pytorch/ao",
          "openxla/xla",
          "google/jax",
          "pytorch/tutorials",
          "scipy/scipy",
          "pytorch/test-infra",
          "llvm/llvm-project",
          "pytorch/executorch",
          "triton-lang/triton",
          "pytorch/torchtune",
          "pytorch/builder",
          "huggingface/transformers",
          "pytorch/torchtitan",
          "pytorch/benchmark",
          "pytorch/pytorch.github.io",
          "pytorch/xla",
          "vllm-project/vllm",
          "tinygrad/tinygrad",
          "pytorch/FBGEMM",
          "python/cpython",
          "openxla/stablehlo",
          "microsoft/onnxruntime",
          "pytorch/torchchat",
          "pytorch/vision",
          "karpathy/llm.c",
          "intel/intel-extension-for-pytorch",
          "keras-team/keras",
          "meta-llama/llama3",
          "OpenMathLib/OpenBLAS",
          "karpathy/LLM101n",
          "ggerganov/llama.cpp",
          "google-ai-edge/model-explorer",
          "networkx/networkx",
          "scipy-conference/scipy_proceedings",
          "numpy/numpy.org",
          "google-ai-edge/ai-edge-torch",
          "NVIDIA/cutlass",
          "Lightning-AI/lightning-thunder",
          "pytorch-labs/float8_experimental",
          "pandas-dev/pandas",
          "pytorch-labs/gpt-fast",
          "cupy/cupy",
          "pypi/support",
          "thuml/depyf",
          "scientific-python/blog.scientific-python.org",
          "ROCm/ROCm"
         ],
         "yaxis": "y"
        }
       ],
       "layout": {
        "barmode": "relative",
        "legend": {
         "tracegroupgap": 0
        },
        "margin": {
         "t": 60
        },
        "template": {
         "data": {
          "bar": [
           {
            "error_x": {
             "color": "#2a3f5f"
            },
            "error_y": {
             "color": "#2a3f5f"
            },
            "marker": {
             "line": {
              "color": "#E5ECF6",
              "width": 0.5
             },
             "pattern": {
              "fillmode": "overlay",
              "size": 10,
              "solidity": 0.2
             }
            },
            "type": "bar"
           }
          ],
          "barpolar": [
           {
            "marker": {
             "line": {
              "color": "#E5ECF6",
              "width": 0.5
             },
             "pattern": {
              "fillmode": "overlay",
              "size": 10,
              "solidity": 0.2
             }
            },
            "type": "barpolar"
           }
          ],
          "carpet": [
           {
            "aaxis": {
             "endlinecolor": "#2a3f5f",
             "gridcolor": "white",
             "linecolor": "white",
             "minorgridcolor": "white",
             "startlinecolor": "#2a3f5f"
            },
            "baxis": {
             "endlinecolor": "#2a3f5f",
             "gridcolor": "white",
             "linecolor": "white",
             "minorgridcolor": "white",
             "startlinecolor": "#2a3f5f"
            },
            "type": "carpet"
           }
          ],
          "choropleth": [
           {
            "colorbar": {
             "outlinewidth": 0,
             "ticks": ""
            },
            "type": "choropleth"
           }
          ],
          "contour": [
           {
            "colorbar": {
             "outlinewidth": 0,
             "ticks": ""
            },
            "colorscale": [
             [
              0,
              "#0d0887"
             ],
             [
              0.1111111111111111,
              "#46039f"
             ],
             [
              0.2222222222222222,
              "#7201a8"
             ],
             [
              0.3333333333333333,
              "#9c179e"
             ],
             [
              0.4444444444444444,
              "#bd3786"
             ],
             [
              0.5555555555555556,
              "#d8576b"
             ],
             [
              0.6666666666666666,
              "#ed7953"
             ],
             [
              0.7777777777777778,
              "#fb9f3a"
             ],
             [
              0.8888888888888888,
              "#fdca26"
             ],
             [
              1,
              "#f0f921"
             ]
            ],
            "type": "contour"
           }
          ],
          "contourcarpet": [
           {
            "colorbar": {
             "outlinewidth": 0,
             "ticks": ""
            },
            "type": "contourcarpet"
           }
          ],
          "heatmap": [
           {
            "colorbar": {
             "outlinewidth": 0,
             "ticks": ""
            },
            "colorscale": [
             [
              0,
              "#0d0887"
             ],
             [
              0.1111111111111111,
              "#46039f"
             ],
             [
              0.2222222222222222,
              "#7201a8"
             ],
             [
              0.3333333333333333,
              "#9c179e"
             ],
             [
              0.4444444444444444,
              "#bd3786"
             ],
             [
              0.5555555555555556,
              "#d8576b"
             ],
             [
              0.6666666666666666,
              "#ed7953"
             ],
             [
              0.7777777777777778,
              "#fb9f3a"
             ],
             [
              0.8888888888888888,
              "#fdca26"
             ],
             [
              1,
              "#f0f921"
             ]
            ],
            "type": "heatmap"
           }
          ],
          "heatmapgl": [
           {
            "colorbar": {
             "outlinewidth": 0,
             "ticks": ""
            },
            "colorscale": [
             [
              0,
              "#0d0887"
             ],
             [
              0.1111111111111111,
              "#46039f"
             ],
             [
              0.2222222222222222,
              "#7201a8"
             ],
             [
              0.3333333333333333,
              "#9c179e"
             ],
             [
              0.4444444444444444,
              "#bd3786"
             ],
             [
              0.5555555555555556,
              "#d8576b"
             ],
             [
              0.6666666666666666,
              "#ed7953"
             ],
             [
              0.7777777777777778,
              "#fb9f3a"
             ],
             [
              0.8888888888888888,
              "#fdca26"
             ],
             [
              1,
              "#f0f921"
             ]
            ],
            "type": "heatmapgl"
           }
          ],
          "histogram": [
           {
            "marker": {
             "pattern": {
              "fillmode": "overlay",
              "size": 10,
              "solidity": 0.2
             }
            },
            "type": "histogram"
           }
          ],
          "histogram2d": [
           {
            "colorbar": {
             "outlinewidth": 0,
             "ticks": ""
            },
            "colorscale": [
             [
              0,
              "#0d0887"
             ],
             [
              0.1111111111111111,
              "#46039f"
             ],
             [
              0.2222222222222222,
              "#7201a8"
             ],
             [
              0.3333333333333333,
              "#9c179e"
             ],
             [
              0.4444444444444444,
              "#bd3786"
             ],
             [
              0.5555555555555556,
              "#d8576b"
             ],
             [
              0.6666666666666666,
              "#ed7953"
             ],
             [
              0.7777777777777778,
              "#fb9f3a"
             ],
             [
              0.8888888888888888,
              "#fdca26"
             ],
             [
              1,
              "#f0f921"
             ]
            ],
            "type": "histogram2d"
           }
          ],
          "histogram2dcontour": [
           {
            "colorbar": {
             "outlinewidth": 0,
             "ticks": ""
            },
            "colorscale": [
             [
              0,
              "#0d0887"
             ],
             [
              0.1111111111111111,
              "#46039f"
             ],
             [
              0.2222222222222222,
              "#7201a8"
             ],
             [
              0.3333333333333333,
              "#9c179e"
             ],
             [
              0.4444444444444444,
              "#bd3786"
             ],
             [
              0.5555555555555556,
              "#d8576b"
             ],
             [
              0.6666666666666666,
              "#ed7953"
             ],
             [
              0.7777777777777778,
              "#fb9f3a"
             ],
             [
              0.8888888888888888,
              "#fdca26"
             ],
             [
              1,
              "#f0f921"
             ]
            ],
            "type": "histogram2dcontour"
           }
          ],
          "mesh3d": [
           {
            "colorbar": {
             "outlinewidth": 0,
             "ticks": ""
            },
            "type": "mesh3d"
           }
          ],
          "parcoords": [
           {
            "line": {
             "colorbar": {
              "outlinewidth": 0,
              "ticks": ""
             }
            },
            "type": "parcoords"
           }
          ],
          "pie": [
           {
            "automargin": true,
            "type": "pie"
           }
          ],
          "scatter": [
           {
            "fillpattern": {
             "fillmode": "overlay",
             "size": 10,
             "solidity": 0.2
            },
            "type": "scatter"
           }
          ],
          "scatter3d": [
           {
            "line": {
             "colorbar": {
              "outlinewidth": 0,
              "ticks": ""
             }
            },
            "marker": {
             "colorbar": {
              "outlinewidth": 0,
              "ticks": ""
             }
            },
            "type": "scatter3d"
           }
          ],
          "scattercarpet": [
           {
            "marker": {
             "colorbar": {
              "outlinewidth": 0,
              "ticks": ""
             }
            },
            "type": "scattercarpet"
           }
          ],
          "scattergeo": [
           {
            "marker": {
             "colorbar": {
              "outlinewidth": 0,
              "ticks": ""
             }
            },
            "type": "scattergeo"
           }
          ],
          "scattergl": [
           {
            "marker": {
             "colorbar": {
              "outlinewidth": 0,
              "ticks": ""
             }
            },
            "type": "scattergl"
           }
          ],
          "scattermapbox": [
           {
            "marker": {
             "colorbar": {
              "outlinewidth": 0,
              "ticks": ""
             }
            },
            "type": "scattermapbox"
           }
          ],
          "scatterpolar": [
           {
            "marker": {
             "colorbar": {
              "outlinewidth": 0,
              "ticks": ""
             }
            },
            "type": "scatterpolar"
           }
          ],
          "scatterpolargl": [
           {
            "marker": {
             "colorbar": {
              "outlinewidth": 0,
              "ticks": ""
             }
            },
            "type": "scatterpolargl"
           }
          ],
          "scatterternary": [
           {
            "marker": {
             "colorbar": {
              "outlinewidth": 0,
              "ticks": ""
             }
            },
            "type": "scatterternary"
           }
          ],
          "surface": [
           {
            "colorbar": {
             "outlinewidth": 0,
             "ticks": ""
            },
            "colorscale": [
             [
              0,
              "#0d0887"
             ],
             [
              0.1111111111111111,
              "#46039f"
             ],
             [
              0.2222222222222222,
              "#7201a8"
             ],
             [
              0.3333333333333333,
              "#9c179e"
             ],
             [
              0.4444444444444444,
              "#bd3786"
             ],
             [
              0.5555555555555556,
              "#d8576b"
             ],
             [
              0.6666666666666666,
              "#ed7953"
             ],
             [
              0.7777777777777778,
              "#fb9f3a"
             ],
             [
              0.8888888888888888,
              "#fdca26"
             ],
             [
              1,
              "#f0f921"
             ]
            ],
            "type": "surface"
           }
          ],
          "table": [
           {
            "cells": {
             "fill": {
              "color": "#EBF0F8"
             },
             "line": {
              "color": "white"
             }
            },
            "header": {
             "fill": {
              "color": "#C8D4E3"
             },
             "line": {
              "color": "white"
             }
            },
            "type": "table"
           }
          ]
         },
         "layout": {
          "annotationdefaults": {
           "arrowcolor": "#2a3f5f",
           "arrowhead": 0,
           "arrowwidth": 1
          },
          "autotypenumbers": "strict",
          "coloraxis": {
           "colorbar": {
            "outlinewidth": 0,
            "ticks": ""
           }
          },
          "colorscale": {
           "diverging": [
            [
             0,
             "#8e0152"
            ],
            [
             0.1,
             "#c51b7d"
            ],
            [
             0.2,
             "#de77ae"
            ],
            [
             0.3,
             "#f1b6da"
            ],
            [
             0.4,
             "#fde0ef"
            ],
            [
             0.5,
             "#f7f7f7"
            ],
            [
             0.6,
             "#e6f5d0"
            ],
            [
             0.7,
             "#b8e186"
            ],
            [
             0.8,
             "#7fbc41"
            ],
            [
             0.9,
             "#4d9221"
            ],
            [
             1,
             "#276419"
            ]
           ],
           "sequential": [
            [
             0,
             "#0d0887"
            ],
            [
             0.1111111111111111,
             "#46039f"
            ],
            [
             0.2222222222222222,
             "#7201a8"
            ],
            [
             0.3333333333333333,
             "#9c179e"
            ],
            [
             0.4444444444444444,
             "#bd3786"
            ],
            [
             0.5555555555555556,
             "#d8576b"
            ],
            [
             0.6666666666666666,
             "#ed7953"
            ],
            [
             0.7777777777777778,
             "#fb9f3a"
            ],
            [
             0.8888888888888888,
             "#fdca26"
            ],
            [
             1,
             "#f0f921"
            ]
           ],
           "sequentialminus": [
            [
             0,
             "#0d0887"
            ],
            [
             0.1111111111111111,
             "#46039f"
            ],
            [
             0.2222222222222222,
             "#7201a8"
            ],
            [
             0.3333333333333333,
             "#9c179e"
            ],
            [
             0.4444444444444444,
             "#bd3786"
            ],
            [
             0.5555555555555556,
             "#d8576b"
            ],
            [
             0.6666666666666666,
             "#ed7953"
            ],
            [
             0.7777777777777778,
             "#fb9f3a"
            ],
            [
             0.8888888888888888,
             "#fdca26"
            ],
            [
             1,
             "#f0f921"
            ]
           ]
          },
          "colorway": [
           "#636efa",
           "#EF553B",
           "#00cc96",
           "#ab63fa",
           "#FFA15A",
           "#19d3f3",
           "#FF6692",
           "#B6E880",
           "#FF97FF",
           "#FECB52"
          ],
          "font": {
           "color": "#2a3f5f"
          },
          "geo": {
           "bgcolor": "white",
           "lakecolor": "white",
           "landcolor": "#E5ECF6",
           "showlakes": true,
           "showland": true,
           "subunitcolor": "white"
          },
          "hoverlabel": {
           "align": "left"
          },
          "hovermode": "closest",
          "mapbox": {
           "style": "light"
          },
          "paper_bgcolor": "white",
          "plot_bgcolor": "#E5ECF6",
          "polar": {
           "angularaxis": {
            "gridcolor": "white",
            "linecolor": "white",
            "ticks": ""
           },
           "bgcolor": "#E5ECF6",
           "radialaxis": {
            "gridcolor": "white",
            "linecolor": "white",
            "ticks": ""
           }
          },
          "scene": {
           "xaxis": {
            "backgroundcolor": "#E5ECF6",
            "gridcolor": "white",
            "gridwidth": 2,
            "linecolor": "white",
            "showbackground": true,
            "ticks": "",
            "zerolinecolor": "white"
           },
           "yaxis": {
            "backgroundcolor": "#E5ECF6",
            "gridcolor": "white",
            "gridwidth": 2,
            "linecolor": "white",
            "showbackground": true,
            "ticks": "",
            "zerolinecolor": "white"
           },
           "zaxis": {
            "backgroundcolor": "#E5ECF6",
            "gridcolor": "white",
            "gridwidth": 2,
            "linecolor": "white",
            "showbackground": true,
            "ticks": "",
            "zerolinecolor": "white"
           }
          },
          "shapedefaults": {
           "line": {
            "color": "#2a3f5f"
           }
          },
          "ternary": {
           "aaxis": {
            "gridcolor": "white",
            "linecolor": "white",
            "ticks": ""
           },
           "baxis": {
            "gridcolor": "white",
            "linecolor": "white",
            "ticks": ""
           },
           "bgcolor": "#E5ECF6",
           "caxis": {
            "gridcolor": "white",
            "linecolor": "white",
            "ticks": ""
           }
          },
          "title": {
           "x": 0.05
          },
          "xaxis": {
           "automargin": true,
           "gridcolor": "white",
           "linecolor": "white",
           "ticks": "",
           "title": {
            "standoff": 15
           },
           "zerolinecolor": "white",
           "zerolinewidth": 2
          },
          "yaxis": {
           "automargin": true,
           "gridcolor": "white",
           "linecolor": "white",
           "ticks": "",
           "title": {
            "standoff": 15
           },
           "zerolinecolor": "white",
           "zerolinewidth": 2
          }
         }
        },
        "xaxis": {
         "anchor": "y",
         "domain": [
          0,
          1
         ],
         "title": {
          "text": "repo_cntrb_counts"
         }
        },
        "yaxis": {
         "anchor": "x",
         "domain": [
          0,
          1
         ],
         "title": {
          "text": "repo_gits"
         }
        }
       }
      }
     },
     "metadata": {},
     "output_type": "display_data"
    }
   ],
   "source": [
    "fig.show()"
   ]
  },
  {
   "cell_type": "markdown",
   "metadata": {},
   "source": [
    "Note: \n",
    "\n",
    "Image below omits many github URLs associated with the real column rendered.\n",
    "Consider running notebook for holistic visualization."
   ]
  },
  {
   "cell_type": "code",
   "execution_count": 38,
   "metadata": {},
   "outputs": [
    {
     "data": {
      "image/png": "[encoded data removed]",
      "text/plain": [
       "<IPython.core.display.Image object>"
      ]
     },
     "execution_count": 38,
     "metadata": {},
     "output_type": "execute_result"
    }
   ],
   "source": [
    "fig.write_image(\"repo_cntrb_counts.png\")\n",
    "Image(filename=\"repo_cntrb_counts.png\")"
   ]
  },
  {
   "cell_type": "code",
   "execution_count": 39,
   "metadata": {},
   "outputs": [
    {
     "data": {
      "text/html": [
       "<div>\n",
       "<style scoped>\n",
       "    .dataframe tbody tr th:only-of-type {\n",
       "        vertical-align: middle;\n",
       "    }\n",
       "\n",
       "    .dataframe tbody tr th {\n",
       "        vertical-align: top;\n",
       "    }\n",
       "\n",
       "    .dataframe thead th {\n",
       "        text-align: right;\n",
       "    }\n",
       "</style>\n",
       "<table border=\"1\" class=\"dataframe\">\n",
       "  <thead>\n",
       "    <tr style=\"text-align: right;\">\n",
       "      <th></th>\n",
       "      <th>repo_gits</th>\n",
       "      <th>repo_cntrb_counts</th>\n",
       "    </tr>\n",
       "  </thead>\n",
       "  <tbody>\n",
       "    <tr>\n",
       "      <th>86</th>\n",
       "      <td>pytorch/pytorch</td>\n",
       "      <td>199</td>\n",
       "    </tr>\n",
       "    <tr>\n",
       "      <th>99</th>\n",
       "      <td>tensorflow/tensorflow</td>\n",
       "      <td>70</td>\n",
       "    </tr>\n",
       "    <tr>\n",
       "      <th>396</th>\n",
       "      <td>NaN</td>\n",
       "      <td>70</td>\n",
       "    </tr>\n",
       "    <tr>\n",
       "      <th>170</th>\n",
       "      <td>numpy/numpy</td>\n",
       "      <td>38</td>\n",
       "    </tr>\n",
       "    <tr>\n",
       "      <th>101</th>\n",
       "      <td>pytorch/ao</td>\n",
       "      <td>38</td>\n",
       "    </tr>\n",
       "    <tr>\n",
       "      <th>98</th>\n",
       "      <td>openxla/xla</td>\n",
       "      <td>37</td>\n",
       "    </tr>\n",
       "    <tr>\n",
       "      <th>319</th>\n",
       "      <td>google/jax</td>\n",
       "      <td>33</td>\n",
       "    </tr>\n",
       "    <tr>\n",
       "      <th>550</th>\n",
       "      <td>pytorch/tutorials</td>\n",
       "      <td>30</td>\n",
       "    </tr>\n",
       "    <tr>\n",
       "      <th>183</th>\n",
       "      <td>scipy/scipy</td>\n",
       "      <td>28</td>\n",
       "    </tr>\n",
       "    <tr>\n",
       "      <th>93</th>\n",
       "      <td>pytorch/test-infra</td>\n",
       "      <td>25</td>\n",
       "    </tr>\n",
       "    <tr>\n",
       "      <th>96</th>\n",
       "      <td>llvm/llvm-project</td>\n",
       "      <td>25</td>\n",
       "    </tr>\n",
       "    <tr>\n",
       "      <th>92</th>\n",
       "      <td>pytorch/executorch</td>\n",
       "      <td>24</td>\n",
       "    </tr>\n",
       "    <tr>\n",
       "      <th>397</th>\n",
       "      <td>triton-lang/triton</td>\n",
       "      <td>24</td>\n",
       "    </tr>\n",
       "    <tr>\n",
       "      <th>618</th>\n",
       "      <td>pytorch/torchtune</td>\n",
       "      <td>23</td>\n",
       "    </tr>\n",
       "    <tr>\n",
       "      <th>563</th>\n",
       "      <td>pytorch/builder</td>\n",
       "      <td>21</td>\n",
       "    </tr>\n",
       "    <tr>\n",
       "      <th>942</th>\n",
       "      <td>huggingface/transformers</td>\n",
       "      <td>20</td>\n",
       "    </tr>\n",
       "    <tr>\n",
       "      <th>937</th>\n",
       "      <td>pytorch/torchtitan</td>\n",
       "      <td>19</td>\n",
       "    </tr>\n",
       "    <tr>\n",
       "      <th>552</th>\n",
       "      <td>pytorch/benchmark</td>\n",
       "      <td>19</td>\n",
       "    </tr>\n",
       "    <tr>\n",
       "      <th>574</th>\n",
       "      <td>pytorch/pytorch.github.io</td>\n",
       "      <td>17</td>\n",
       "    </tr>\n",
       "    <tr>\n",
       "      <th>534</th>\n",
       "      <td>pytorch/xla</td>\n",
       "      <td>16</td>\n",
       "    </tr>\n",
       "    <tr>\n",
       "      <th>691</th>\n",
       "      <td>vllm-project/vllm</td>\n",
       "      <td>14</td>\n",
       "    </tr>\n",
       "    <tr>\n",
       "      <th>311</th>\n",
       "      <td>tinygrad/tinygrad</td>\n",
       "      <td>14</td>\n",
       "    </tr>\n",
       "    <tr>\n",
       "      <th>777</th>\n",
       "      <td>pytorch/FBGEMM</td>\n",
       "      <td>14</td>\n",
       "    </tr>\n",
       "    <tr>\n",
       "      <th>359</th>\n",
       "      <td>python/cpython</td>\n",
       "      <td>14</td>\n",
       "    </tr>\n",
       "    <tr>\n",
       "      <th>100</th>\n",
       "      <td>openxla/stablehlo</td>\n",
       "      <td>12</td>\n",
       "    </tr>\n",
       "    <tr>\n",
       "      <th>776</th>\n",
       "      <td>microsoft/onnxruntime</td>\n",
       "      <td>12</td>\n",
       "    </tr>\n",
       "    <tr>\n",
       "      <th>105</th>\n",
       "      <td>pytorch/torchchat</td>\n",
       "      <td>12</td>\n",
       "    </tr>\n",
       "    <tr>\n",
       "      <th>573</th>\n",
       "      <td>pytorch/vision</td>\n",
       "      <td>12</td>\n",
       "    </tr>\n",
       "    <tr>\n",
       "      <th>935</th>\n",
       "      <td>karpathy/llm.c</td>\n",
       "      <td>12</td>\n",
       "    </tr>\n",
       "    <tr>\n",
       "      <th>2247</th>\n",
       "      <td>intel/intel-extension-for-pytorch</td>\n",
       "      <td>11</td>\n",
       "    </tr>\n",
       "    <tr>\n",
       "      <th>917</th>\n",
       "      <td>keras-team/keras</td>\n",
       "      <td>11</td>\n",
       "    </tr>\n",
       "    <tr>\n",
       "      <th>2422</th>\n",
       "      <td>meta-llama/llama3</td>\n",
       "      <td>10</td>\n",
       "    </tr>\n",
       "    <tr>\n",
       "      <th>325</th>\n",
       "      <td>OpenMathLib/OpenBLAS</td>\n",
       "      <td>9</td>\n",
       "    </tr>\n",
       "    <tr>\n",
       "      <th>663</th>\n",
       "      <td>karpathy/LLM101n</td>\n",
       "      <td>9</td>\n",
       "    </tr>\n",
       "    <tr>\n",
       "      <th>2218</th>\n",
       "      <td>ggerganov/llama.cpp</td>\n",
       "      <td>9</td>\n",
       "    </tr>\n",
       "    <tr>\n",
       "      <th>669</th>\n",
       "      <td>google-ai-edge/model-explorer</td>\n",
       "      <td>9</td>\n",
       "    </tr>\n",
       "    <tr>\n",
       "      <th>372</th>\n",
       "      <td>networkx/networkx</td>\n",
       "      <td>9</td>\n",
       "    </tr>\n",
       "    <tr>\n",
       "      <th>202</th>\n",
       "      <td>scipy-conference/scipy_proceedings</td>\n",
       "      <td>9</td>\n",
       "    </tr>\n",
       "    <tr>\n",
       "      <th>180</th>\n",
       "      <td>numpy/numpy.org</td>\n",
       "      <td>9</td>\n",
       "    </tr>\n",
       "    <tr>\n",
       "      <th>1457</th>\n",
       "      <td>google-ai-edge/ai-edge-torch</td>\n",
       "      <td>9</td>\n",
       "    </tr>\n",
       "    <tr>\n",
       "      <th>1104</th>\n",
       "      <td>NVIDIA/cutlass</td>\n",
       "      <td>9</td>\n",
       "    </tr>\n",
       "    <tr>\n",
       "      <th>887</th>\n",
       "      <td>Lightning-AI/lightning-thunder</td>\n",
       "      <td>9</td>\n",
       "    </tr>\n",
       "    <tr>\n",
       "      <th>824</th>\n",
       "      <td>pytorch-labs/float8_experimental</td>\n",
       "      <td>9</td>\n",
       "    </tr>\n",
       "    <tr>\n",
       "      <th>243</th>\n",
       "      <td>pandas-dev/pandas</td>\n",
       "      <td>8</td>\n",
       "    </tr>\n",
       "    <tr>\n",
       "      <th>1160</th>\n",
       "      <td>pytorch-labs/gpt-fast</td>\n",
       "      <td>8</td>\n",
       "    </tr>\n",
       "    <tr>\n",
       "      <th>250</th>\n",
       "      <td>cupy/cupy</td>\n",
       "      <td>8</td>\n",
       "    </tr>\n",
       "    <tr>\n",
       "      <th>523</th>\n",
       "      <td>pypi/support</td>\n",
       "      <td>7</td>\n",
       "    </tr>\n",
       "    <tr>\n",
       "      <th>936</th>\n",
       "      <td>thuml/depyf</td>\n",
       "      <td>7</td>\n",
       "    </tr>\n",
       "    <tr>\n",
       "      <th>208</th>\n",
       "      <td>scientific-python/blog.scientific-python.org</td>\n",
       "      <td>7</td>\n",
       "    </tr>\n",
       "    <tr>\n",
       "      <th>804</th>\n",
       "      <td>ROCm/ROCm</td>\n",
       "      <td>7</td>\n",
       "    </tr>\n",
       "  </tbody>\n",
       "</table>\n",
       "</div>"
      ],
      "text/plain": [
       "                                         repo_gits  repo_cntrb_counts\n",
       "86                                 pytorch/pytorch                199\n",
       "99                           tensorflow/tensorflow                 70\n",
       "396                                            NaN                 70\n",
       "170                                    numpy/numpy                 38\n",
       "101                                     pytorch/ao                 38\n",
       "98                                     openxla/xla                 37\n",
       "319                                     google/jax                 33\n",
       "550                              pytorch/tutorials                 30\n",
       "183                                    scipy/scipy                 28\n",
       "93                              pytorch/test-infra                 25\n",
       "96                               llvm/llvm-project                 25\n",
       "92                              pytorch/executorch                 24\n",
       "397                             triton-lang/triton                 24\n",
       "618                              pytorch/torchtune                 23\n",
       "563                                pytorch/builder                 21\n",
       "942                       huggingface/transformers                 20\n",
       "937                             pytorch/torchtitan                 19\n",
       "552                              pytorch/benchmark                 19\n",
       "574                      pytorch/pytorch.github.io                 17\n",
       "534                                    pytorch/xla                 16\n",
       "691                              vllm-project/vllm                 14\n",
       "311                              tinygrad/tinygrad                 14\n",
       "777                                 pytorch/FBGEMM                 14\n",
       "359                                 python/cpython                 14\n",
       "100                              openxla/stablehlo                 12\n",
       "776                          microsoft/onnxruntime                 12\n",
       "105                              pytorch/torchchat                 12\n",
       "573                                 pytorch/vision                 12\n",
       "935                                 karpathy/llm.c                 12\n",
       "2247             intel/intel-extension-for-pytorch                 11\n",
       "917                               keras-team/keras                 11\n",
       "2422                             meta-llama/llama3                 10\n",
       "325                           OpenMathLib/OpenBLAS                  9\n",
       "663                               karpathy/LLM101n                  9\n",
       "2218                           ggerganov/llama.cpp                  9\n",
       "669                  google-ai-edge/model-explorer                  9\n",
       "372                              networkx/networkx                  9\n",
       "202             scipy-conference/scipy_proceedings                  9\n",
       "180                                numpy/numpy.org                  9\n",
       "1457                  google-ai-edge/ai-edge-torch                  9\n",
       "1104                                NVIDIA/cutlass                  9\n",
       "887                 Lightning-AI/lightning-thunder                  9\n",
       "824               pytorch-labs/float8_experimental                  9\n",
       "243                              pandas-dev/pandas                  8\n",
       "1160                         pytorch-labs/gpt-fast                  8\n",
       "250                                      cupy/cupy                  8\n",
       "523                                   pypi/support                  7\n",
       "936                                    thuml/depyf                  7\n",
       "208   scientific-python/blog.scientific-python.org                  7\n",
       "804                                      ROCm/ROCm                  7"
      ]
     },
     "execution_count": 39,
     "metadata": {},
     "output_type": "execute_result"
    }
   ],
   "source": [
    "# Here's the list of the top-50 most mutual repos among pagerank-top contributors\n",
    "df_for_fig[:FINAL_NUM_COMMON_REPOS]"
   ]
  },
  {
   "cell_type": "markdown",
   "metadata": {},
   "source": [
    "## Conclusion\n",
    "\n",
    "After running the PageRank algorithm on AI repositories, several key observations and takeaways have been made:\n",
    "\n",
    "##### 1. Significance of Seed Projects\n",
    "-  Expected Involvement: As anticipated, the repositories within the original seed projects (those identified as being part of the AI/ML ecosystem) prominently feature among the top PageRank results. This indicates that contributors to these seed projects also tend to contribute to other significant projects within the AI space.\n",
    "- Interpretation: The inclusion of seed projects among the top-ranked repositories confirms their centrality in the AI ecosystem. These projects are influential not only because of their individual importance but also due to their role in connecting various contributors within the broader AI community.\n",
    "##### 2. Discovery of New Influential Repositories\n",
    "- Emerging Projects: The analysis also identified repositories that were not part of the initial seed list but have emerged as significant through mutual contributor involvement like `pytorch/ao`, `openxla/xla`, `google/jax` etc. These repositories might represent newer or less obvious projects that are gaining influence within the AI community.\n",
    "- Interpretation: Discovering these repositories provides valuable insights into the evolving landscape of AI development. These projects might be on the cutting edge of innovation, attracting contributors who are deeply embedded in the AI/ML ecosystem.\n",
    "##### 3. Understanding Community Dynamics\n",
    "- Mutual Involvement: The analysis highlights repositories that have significant mutual involvement, meaning they share contributors with other top repositories. This mutual involvement indicates strong community dynamics and collaboration within the AI space.\n",
    "- Interpretation: The presence of these interconnected repositories suggests that certain areas of AI development are highly collaborative, with contributors working across multiple projects. This interconnectedness can be a sign of active development, knowledge sharing, and rapid advancement within the field.\n"
   ]
  },
  {
   "cell_type": "markdown",
   "metadata": {},
   "source": [
    "## Next Steps\n",
    "\n",
    "Set the 'seed' of another cycle of discovery to these 50 repos, called seed_1 (the successor to seed_0). Using this new, more inclusive seed_1, build a new collaboration network and rank the contributors in the new network. We infer that there will be significant overlap between those that are most involved in the seed_0 analysis phase as those identified  in the seed_1 analysis phase. \n",
    "\n",
    "Re-run this analysis, producing a prospective seed_2. Repeat, eventually generating seed_n. When seed_(n-1) is sufficiently similar to seed_n, we'll conclude that the identified \"neighborhood\" of the final seed repos has converged.\n",
    "\n",
    "As an interesting alternate thread, consider the use of pagerank-central contributors as done in this notebook. Instead of finding repos of largest mutuality, use the Events themselves with appropriate filtering to find those projects of highest sub-population involvement, at least numerically, and compare against this [notebook](../project_discovery/repo_discovery/repo_discovery.ipynb).\n",
    "\n",
    "Having a set of repos we can confidently say are \"highly mutual\" at least, we can use network science to visualize the neighborhood connection over time (notebooks/graph_analysis/approaches). "
   ]
  },
  {
   "cell_type": "markdown",
   "metadata": {},
   "source": []
  }
 ],
 "metadata": {
  "kernelspec": {
   "display_name": "Python 3",
   "language": "python",
   "name": "python3"
  },
  "language_info": {
   "codemirror_mode": {
    "name": "ipython",
    "version": 3
   },
   "file_extension": ".py",
   "mimetype": "text/x-python",
   "name": "python",
   "nbconvert_exporter": "python",
   "pygments_lexer": "ipython3",
   "version": "3.11.9"
  }
 },
 "nbformat": 4,
 "nbformat_minor": 2
}
